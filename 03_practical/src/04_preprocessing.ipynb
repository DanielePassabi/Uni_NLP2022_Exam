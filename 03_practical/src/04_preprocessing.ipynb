{
 "cells": [
  {
   "cell_type": "markdown",
   "metadata": {},
   "source": [
    "## **NLP Practical**\n",
    "\n",
    "### **Preprocessing**\n",
    "\n",
    "It is now time to preprocess the texts."
   ]
  },
  {
   "cell_type": "markdown",
   "metadata": {},
   "source": [
    "#### **Libraries**\n",
    "\n",
    "We import the necessary libraries for the notebook."
   ]
  },
  {
   "cell_type": "code",
   "execution_count": 1,
   "metadata": {},
   "outputs": [
    {
     "name": "stderr",
     "output_type": "stream",
     "text": [
      "d:\\Programmi\\Anaconda\\envs\\NLP_2022\\lib\\site-packages\\cupy\\_environment.py:213: UserWarning: CUDA path could not be detected. Set CUDA_PATH environment variable if CuPy fails to load.\n",
      "  warnings.warn(\n"
     ]
    },
    {
     "name": "stdout",
     "output_type": "stream",
     "text": [
      "> Libraries Imported\n"
     ]
    }
   ],
   "source": [
    "# general\n",
    "import pandas as pd\n",
    "import numpy as np\n",
    "from tqdm import tqdm\n",
    "tqdm.pandas()\n",
    "\n",
    "# dataviz\n",
    "import plotly.express as px         # create interactive plots\n",
    "\n",
    "# preprocessing\n",
    "import spacy                        # tokenization\n",
    "from collections import Counter     # count words occurrences\n",
    "\n",
    "print(\"> Libraries Imported\")"
   ]
  },
  {
   "cell_type": "markdown",
   "metadata": {},
   "source": [
    "#### **Import the dataset**\n",
    "\n",
    "We read our custom (and cleaned) csv. "
   ]
  },
  {
   "cell_type": "code",
   "execution_count": 2,
   "metadata": {},
   "outputs": [
    {
     "data": {
      "text/html": [
       "<div>\n",
       "<style scoped>\n",
       "    .dataframe tbody tr th:only-of-type {\n",
       "        vertical-align: middle;\n",
       "    }\n",
       "\n",
       "    .dataframe tbody tr th {\n",
       "        vertical-align: top;\n",
       "    }\n",
       "\n",
       "    .dataframe thead th {\n",
       "        text-align: right;\n",
       "    }\n",
       "</style>\n",
       "<table border=\"1\" class=\"dataframe\">\n",
       "  <thead>\n",
       "    <tr style=\"text-align: right;\">\n",
       "      <th></th>\n",
       "      <th>celex_id</th>\n",
       "      <th>labels</th>\n",
       "      <th>labels_new</th>\n",
       "      <th>text_en</th>\n",
       "      <th>text_de</th>\n",
       "      <th>text_it</th>\n",
       "      <th>text_pl</th>\n",
       "      <th>text_sv</th>\n",
       "    </tr>\n",
       "  </thead>\n",
       "  <tbody>\n",
       "    <tr>\n",
       "      <th>0</th>\n",
       "      <td>32003R1012</td>\n",
       "      <td>2</td>\n",
       "      <td>1</td>\n",
       "      <td>commission regulation ec no of june amending f...</td>\n",
       "      <td>verordnung eg nr der kommission vom juni zur n...</td>\n",
       "      <td>regolamento ce n della commissione del giugno ...</td>\n",
       "      <td>rozporzadzenie komisji we nr z dnia czerwca r ...</td>\n",
       "      <td>kommissionens forordning eg nr av den juni om ...</td>\n",
       "    </tr>\n",
       "    <tr>\n",
       "      <th>1</th>\n",
       "      <td>32003R2229</td>\n",
       "      <td>18</td>\n",
       "      <td>3</td>\n",
       "      <td>council regulation ec no of december imposing ...</td>\n",
       "      <td>verordnung eg nr des rates vom dezember zur ei...</td>\n",
       "      <td>regolamento ce n del consiglio del dicembre ch...</td>\n",
       "      <td>rozporzadzenie rady we nr z dnia grudnia r nak...</td>\n",
       "      <td>radets forordning eg nr av den december om inf...</td>\n",
       "    </tr>\n",
       "    <tr>\n",
       "      <th>2</th>\n",
       "      <td>32003R0223</td>\n",
       "      <td>7</td>\n",
       "      <td>2</td>\n",
       "      <td>commission regulation ec no of february on lab...</td>\n",
       "      <td>verordnung eg nr der kommission vom februar zu...</td>\n",
       "      <td>regolamento ce n della commissione del febbrai...</td>\n",
       "      <td>rozporzadzenie komisji we nr z dnia lutego r w...</td>\n",
       "      <td>kommissionens forordning eg nr av den februari...</td>\n",
       "    </tr>\n",
       "    <tr>\n",
       "      <th>3</th>\n",
       "      <td>31989L0681</td>\n",
       "      <td>7</td>\n",
       "      <td>2</td>\n",
       "      <td>council directive of december amending directi...</td>\n",
       "      <td>richtlinie des rates vom dezember zur anderung...</td>\n",
       "      <td>direttiva del consiglio del dicembre che modif...</td>\n",
       "      <td>dyrektywa rady z dnia grudnia r zmieniajaca dy...</td>\n",
       "      <td>radets direktiv av den december om andring av ...</td>\n",
       "    </tr>\n",
       "    <tr>\n",
       "      <th>4</th>\n",
       "      <td>32006R1007</td>\n",
       "      <td>2</td>\n",
       "      <td>1</td>\n",
       "      <td>commission regulation ec no of june determinin...</td>\n",
       "      <td>verordnung eg nr der kommission vom juni zur f...</td>\n",
       "      <td>regolamento ce n della commissione del giugno ...</td>\n",
       "      <td>rozporzadzenie komisji we nr z dnia czerwca r ...</td>\n",
       "      <td>kommissionens forordning eg nr av den juni om ...</td>\n",
       "    </tr>\n",
       "    <tr>\n",
       "      <th>...</th>\n",
       "      <td>...</td>\n",
       "      <td>...</td>\n",
       "      <td>...</td>\n",
       "      <td>...</td>\n",
       "      <td>...</td>\n",
       "      <td>...</td>\n",
       "      <td>...</td>\n",
       "      <td>...</td>\n",
       "    </tr>\n",
       "    <tr>\n",
       "      <th>11671</th>\n",
       "      <td>32011R0880</td>\n",
       "      <td>7</td>\n",
       "      <td>2</td>\n",
       "      <td>commission regulation eu no of september corre...</td>\n",
       "      <td>verordnung eu nr der kommission vom september ...</td>\n",
       "      <td>regolamento ue n della commissione del settemb...</td>\n",
       "      <td>rozporzadzenie komisji ue nr z dnia wrzesnia r...</td>\n",
       "      <td>kommissionens forordning eu nr av den septembe...</td>\n",
       "    </tr>\n",
       "    <tr>\n",
       "      <th>11672</th>\n",
       "      <td>32012D0272</td>\n",
       "      <td>18</td>\n",
       "      <td>3</td>\n",
       "      <td>council decision of may on the signing on beha...</td>\n",
       "      <td>beschluss des rates vom mai uber die unterzeic...</td>\n",
       "      <td>decisione del consiglio del maggio relativa al...</td>\n",
       "      <td>decyzja rady z dnia maja r w sprawie podpisani...</td>\n",
       "      <td>radets beslut av den maj om undertecknande pa ...</td>\n",
       "    </tr>\n",
       "    <tr>\n",
       "      <th>11673</th>\n",
       "      <td>32012R0596</td>\n",
       "      <td>18</td>\n",
       "      <td>3</td>\n",
       "      <td>commission regulation eu no of july initiating...</td>\n",
       "      <td>verordnung eu nr der kommission vom juli zur e...</td>\n",
       "      <td>regolamento ue n della commissione del luglio ...</td>\n",
       "      <td>rozporzadzenie komisji ue nr z dnia lipca r ws...</td>\n",
       "      <td>kommissionens forordning eu nr av den juli om ...</td>\n",
       "    </tr>\n",
       "    <tr>\n",
       "      <th>11674</th>\n",
       "      <td>32010D0165</td>\n",
       "      <td>7</td>\n",
       "      <td>2</td>\n",
       "      <td>commission decision of march withdrawing the r...</td>\n",
       "      <td>beschluss der kommission vom marz uber die str...</td>\n",
       "      <td>decisione della commissione del marzo che riti...</td>\n",
       "      <td>decyzja komisji z dnia marca r w sprawie wycof...</td>\n",
       "      <td>kommissionens beslut av den mars om strykning ...</td>\n",
       "    </tr>\n",
       "    <tr>\n",
       "      <th>11675</th>\n",
       "      <td>32012R0307</td>\n",
       "      <td>0</td>\n",
       "      <td>0</td>\n",
       "      <td>commission implementing regulation eu no of ap...</td>\n",
       "      <td>durchfuhrungsverordnung eu nr der kommission v...</td>\n",
       "      <td>regolamento di esecuzione ue n della commissio...</td>\n",
       "      <td>rozporzadzenie wykonawcze komisji ue nr z dnia...</td>\n",
       "      <td>kommissionens genomforandeforordning eu nr av ...</td>\n",
       "    </tr>\n",
       "  </tbody>\n",
       "</table>\n",
       "<p>11676 rows × 8 columns</p>\n",
       "</div>"
      ],
      "text/plain": [
       "         celex_id  labels  labels_new  \\\n",
       "0      32003R1012       2           1   \n",
       "1      32003R2229      18           3   \n",
       "2      32003R0223       7           2   \n",
       "3      31989L0681       7           2   \n",
       "4      32006R1007       2           1   \n",
       "...           ...     ...         ...   \n",
       "11671  32011R0880       7           2   \n",
       "11672  32012D0272      18           3   \n",
       "11673  32012R0596      18           3   \n",
       "11674  32010D0165       7           2   \n",
       "11675  32012R0307       0           0   \n",
       "\n",
       "                                                 text_en  \\\n",
       "0      commission regulation ec no of june amending f...   \n",
       "1      council regulation ec no of december imposing ...   \n",
       "2      commission regulation ec no of february on lab...   \n",
       "3      council directive of december amending directi...   \n",
       "4      commission regulation ec no of june determinin...   \n",
       "...                                                  ...   \n",
       "11671  commission regulation eu no of september corre...   \n",
       "11672  council decision of may on the signing on beha...   \n",
       "11673  commission regulation eu no of july initiating...   \n",
       "11674  commission decision of march withdrawing the r...   \n",
       "11675  commission implementing regulation eu no of ap...   \n",
       "\n",
       "                                                 text_de  \\\n",
       "0      verordnung eg nr der kommission vom juni zur n...   \n",
       "1      verordnung eg nr des rates vom dezember zur ei...   \n",
       "2      verordnung eg nr der kommission vom februar zu...   \n",
       "3      richtlinie des rates vom dezember zur anderung...   \n",
       "4      verordnung eg nr der kommission vom juni zur f...   \n",
       "...                                                  ...   \n",
       "11671  verordnung eu nr der kommission vom september ...   \n",
       "11672  beschluss des rates vom mai uber die unterzeic...   \n",
       "11673  verordnung eu nr der kommission vom juli zur e...   \n",
       "11674  beschluss der kommission vom marz uber die str...   \n",
       "11675  durchfuhrungsverordnung eu nr der kommission v...   \n",
       "\n",
       "                                                 text_it  \\\n",
       "0      regolamento ce n della commissione del giugno ...   \n",
       "1      regolamento ce n del consiglio del dicembre ch...   \n",
       "2      regolamento ce n della commissione del febbrai...   \n",
       "3      direttiva del consiglio del dicembre che modif...   \n",
       "4      regolamento ce n della commissione del giugno ...   \n",
       "...                                                  ...   \n",
       "11671  regolamento ue n della commissione del settemb...   \n",
       "11672  decisione del consiglio del maggio relativa al...   \n",
       "11673  regolamento ue n della commissione del luglio ...   \n",
       "11674  decisione della commissione del marzo che riti...   \n",
       "11675  regolamento di esecuzione ue n della commissio...   \n",
       "\n",
       "                                                 text_pl  \\\n",
       "0      rozporzadzenie komisji we nr z dnia czerwca r ...   \n",
       "1      rozporzadzenie rady we nr z dnia grudnia r nak...   \n",
       "2      rozporzadzenie komisji we nr z dnia lutego r w...   \n",
       "3      dyrektywa rady z dnia grudnia r zmieniajaca dy...   \n",
       "4      rozporzadzenie komisji we nr z dnia czerwca r ...   \n",
       "...                                                  ...   \n",
       "11671  rozporzadzenie komisji ue nr z dnia wrzesnia r...   \n",
       "11672  decyzja rady z dnia maja r w sprawie podpisani...   \n",
       "11673  rozporzadzenie komisji ue nr z dnia lipca r ws...   \n",
       "11674  decyzja komisji z dnia marca r w sprawie wycof...   \n",
       "11675  rozporzadzenie wykonawcze komisji ue nr z dnia...   \n",
       "\n",
       "                                                 text_sv  \n",
       "0      kommissionens forordning eg nr av den juni om ...  \n",
       "1      radets forordning eg nr av den december om inf...  \n",
       "2      kommissionens forordning eg nr av den februari...  \n",
       "3      radets direktiv av den december om andring av ...  \n",
       "4      kommissionens forordning eg nr av den juni om ...  \n",
       "...                                                  ...  \n",
       "11671  kommissionens forordning eu nr av den septembe...  \n",
       "11672  radets beslut av den maj om undertecknande pa ...  \n",
       "11673  kommissionens forordning eu nr av den juli om ...  \n",
       "11674  kommissionens beslut av den mars om strykning ...  \n",
       "11675  kommissionens genomforandeforordning eu nr av ...  \n",
       "\n",
       "[11676 rows x 8 columns]"
      ]
     },
     "execution_count": 2,
     "metadata": {},
     "output_type": "execute_result"
    }
   ],
   "source": [
    "dataframe = pd.read_csv(\"../data/2_multi_eurlex_reduced_v2.csv\")\n",
    "dataframe"
   ]
  },
  {
   "cell_type": "markdown",
   "metadata": {},
   "source": [
    "#### **Preprocessing**"
   ]
  },
  {
   "cell_type": "markdown",
   "metadata": {},
   "source": [
    "**Part 1: Tokenization**\n",
    "\n",
    "This essentially involves dividing a sentence, paragraph or entire text document into smaller units, such as individual words or terms."
   ]
  },
  {
   "cell_type": "markdown",
   "metadata": {},
   "source": [
    "We create a custom function capable of tokenizing the texts in different languages."
   ]
  },
  {
   "cell_type": "code",
   "execution_count": 3,
   "metadata": {},
   "outputs": [],
   "source": [
    "# load the tokenizers (one for each language)\n",
    "\n",
    "TOKENIZER_EN = spacy.load('en_core_web_sm')\n",
    "TOKENIZER_DE = spacy.load('nl_core_news_sm')\n",
    "TOKENIZER_IT = spacy.load('it_core_news_sm')\n",
    "TOKENIZER_PL = spacy.load('pl_core_news_sm')\n",
    "TOKENIZER_SV = spacy.load('sv_core_news_sm')"
   ]
  },
  {
   "cell_type": "code",
   "execution_count": 4,
   "metadata": {},
   "outputs": [],
   "source": [
    "# create custom function\n",
    "\n",
    "def tokenize(text, language):\n",
    "\n",
    "    # use the required tokenizer (based on input language)\n",
    "    if language==\"en\":\n",
    "        tokenizer = TOKENIZER_EN\n",
    "    elif language==\"de\":\n",
    "        tokenizer = TOKENIZER_DE\n",
    "    elif language==\"it\":\n",
    "        tokenizer = TOKENIZER_IT\n",
    "    elif language==\"pl\":\n",
    "        tokenizer = TOKENIZER_PL\n",
    "    elif language==\"sv\":\n",
    "        tokenizer = TOKENIZER_SV\n",
    "    else:\n",
    "        error_str = \"Error: language '\" + language + \"' not available. Please choose between 'en', 'de', 'it', 'pl', 'sv'.\"\n",
    "        print(error_str)\n",
    "\n",
    "    text = text.replace(\"_\",\"\")\n",
    "    return [token.text for token in tokenizer.tokenizer(text)]"
   ]
  },
  {
   "cell_type": "markdown",
   "metadata": {},
   "source": [
    "Here we show a small example of tokenization for the first text (in each language). "
   ]
  },
  {
   "cell_type": "code",
   "execution_count": 5,
   "metadata": {},
   "outputs": [
    {
     "name": "stdout",
     "output_type": "stream",
     "text": [
      "Sample of 'en' text: commission regulation ec no of june amending for the th time council regulation ec no imposing certain specific restrict\n",
      "Sample of 'de' text: verordnung eg nr der kommission vom juni zur neunzehnten anderung der verordnung eg nr des rates uber die anwendung best\n",
      "Sample of 'it' text: regolamento ce n della commissione del giugno recante diciannovesima modifica del regolamento ce n che impone specifiche\n",
      "Sample of 'pl' text: rozporzadzenie komisji we nr z dnia czerwca r zmieniajace po raz dziewietnasty rozporzadzenie rady we nr wprowadzajace n\n",
      "Sample of 'sv' text: kommissionens forordning eg nr av den juni om andring for nittonde gangen av radets forordning eg nr betraffande inforan\n"
     ]
    }
   ],
   "source": [
    "test_text_en = dataframe[\"text_en\"][0]\n",
    "test_text_de = dataframe[\"text_de\"][0]\n",
    "test_text_it = dataframe[\"text_it\"][0]\n",
    "test_text_pl = dataframe[\"text_pl\"][0]\n",
    "test_text_sv = dataframe[\"text_sv\"][0]\n",
    "\n",
    "\n",
    "print(\"Sample of 'en' text:\", test_text_en[0:120])\n",
    "print(\"Sample of 'de' text:\", test_text_de[0:120])\n",
    "print(\"Sample of 'it' text:\", test_text_it[0:120])\n",
    "print(\"Sample of 'pl' text:\", test_text_pl[0:120])\n",
    "print(\"Sample of 'sv' text:\", test_text_sv[0:120])"
   ]
  },
  {
   "cell_type": "code",
   "execution_count": 6,
   "metadata": {},
   "outputs": [
    {
     "name": "stdout",
     "output_type": "stream",
     "text": [
      "Example of tokenization in 'en': ['commission', 'regulation', 'ec', 'no', 'of', 'june', 'amending', 'for', 'the', 'th']\n",
      "Example of tokenization in 'de': ['verordnung', 'eg', 'nr', 'der', 'kommission', 'vom', 'juni', 'zur', 'neunzehnten', 'anderung']\n",
      "Example of tokenization in 'it': ['regolamento', 'ce', 'n', 'della', 'commissione', 'del', 'giugno', 'recante', 'diciannovesima', 'modifica']\n",
      "Example of tokenization in 'pl': ['rozporzadzenie', 'komisji', 'we', 'nr', 'z', 'dnia', 'czerwca', 'r', 'zmieniajace', 'po']\n",
      "Example of tokenization in 'sv': ['kommissionens', 'forordning', 'eg', 'nr', 'av', 'den', 'juni', 'om', 'andring', 'for']\n"
     ]
    }
   ],
   "source": [
    "print(\"Example of tokenization in 'en':\", tokenize(text=test_text_en, language=\"en\")[0:10])\n",
    "print(\"Example of tokenization in 'de':\", tokenize(text=test_text_de, language=\"de\")[0:10])\n",
    "print(\"Example of tokenization in 'it':\", tokenize(text=test_text_it, language=\"it\")[0:10])\n",
    "print(\"Example of tokenization in 'pl':\", tokenize(text=test_text_pl, language=\"pl\")[0:10])\n",
    "print(\"Example of tokenization in 'sv':\", tokenize(text=test_text_sv, language=\"sv\")[0:10])"
   ]
  },
  {
   "cell_type": "markdown",
   "metadata": {},
   "source": [
    "**Part 2: Count Words Occurrences**\n",
    "\n",
    "We now count the number of occurrences of each word (now a token) in the corpuses."
   ]
  },
  {
   "cell_type": "code",
   "execution_count": 7,
   "metadata": {},
   "outputs": [
    {
     "name": "stderr",
     "output_type": "stream",
     "text": [
      "> Counting words in texts: 100%|██████████| 11676/11676 [01:42<00:00, 113.55it/s]\n"
     ]
    }
   ],
   "source": [
    "# instantiate a Counter\n",
    "COUNTS_EN = Counter()\n",
    "COUNTS_DE = Counter()\n",
    "COUNTS_IT = Counter()\n",
    "COUNTS_PL = Counter()\n",
    "COUNTS_SV = Counter()\n",
    "\n",
    "for index, row in tqdm(dataframe.iterrows(), total=dataframe.shape[0], desc=\"> Counting words in texts\"):\n",
    "    COUNTS_EN.update(tokenize(row['text_en'], language=\"en\"))\n",
    "    COUNTS_DE.update(tokenize(row['text_de'], language=\"de\"))\n",
    "    COUNTS_IT.update(tokenize(row['text_it'], language=\"it\"))\n",
    "    COUNTS_PL.update(tokenize(row['text_pl'], language=\"pl\"))\n",
    "    COUNTS_SV.update(tokenize(row['text_sv'], language=\"sv\"))"
   ]
  },
  {
   "cell_type": "code",
   "execution_count": 8,
   "metadata": {},
   "outputs": [
    {
     "name": "stdout",
     "output_type": "stream",
     "text": [
      "commission: 86468\n",
      "regulation: 116649\n",
      "ec: 81198\n",
      "no: 84780\n",
      "of: 769888\n",
      "june: 9941\n",
      "amending: 5689\n",
      "for: 204635\n",
      "the: 1394185\n",
      "th: 1918\n"
     ]
    }
   ],
   "source": [
    "# show first 10 words of COUNTS_EN\n",
    "i = 0\n",
    "for key,value in COUNTS_EN.items():\n",
    "    if i < 10:\n",
    "        print(f\"{key}: {value}\")\n",
    "    i+=1"
   ]
  },
  {
   "cell_type": "markdown",
   "metadata": {},
   "source": [
    "*How many words in the dictionary of each language?*"
   ]
  },
  {
   "cell_type": "code",
   "execution_count": 9,
   "metadata": {},
   "outputs": [
    {
     "name": "stdout",
     "output_type": "stream",
     "text": [
      "Total Words in 'en' texts: 45290\n",
      "Total Words in 'de' texts: 145627\n",
      "Total Words in 'it' texts: 65064\n",
      "Total Words in 'pl' texts: 110699\n",
      "Total Words in 'sv' texts: 132128\n"
     ]
    }
   ],
   "source": [
    "print(\"Total Words in 'en' texts:\", len(COUNTS_EN.keys()))\n",
    "print(\"Total Words in 'de' texts:\", len(COUNTS_DE.keys()))\n",
    "print(\"Total Words in 'it' texts:\", len(COUNTS_IT.keys()))\n",
    "print(\"Total Words in 'pl' texts:\", len(COUNTS_PL.keys()))\n",
    "print(\"Total Words in 'sv' texts:\", len(COUNTS_SV.keys()))"
   ]
  },
  {
   "cell_type": "markdown",
   "metadata": {},
   "source": [
    "It is very interesting to note how the number of words used in each language changes significantly to describe the same laws. \n",
    "\n",
    "Considering English and Swedish, for example, we can see how the number of Swedish words used exceeds the number of English words by a factor of 3."
   ]
  },
  {
   "cell_type": "markdown",
   "metadata": {},
   "source": [
    "The number of words is very high, let us try to remove the uncommon words."
   ]
  },
  {
   "cell_type": "code",
   "execution_count": 10,
   "metadata": {},
   "outputs": [],
   "source": [
    "COUNTS_EN = {key:val for key, val in COUNTS_EN.items() if val >= 10}\n",
    "COUNTS_DE = {key:val for key, val in COUNTS_DE.items() if val >= 10}\n",
    "COUNTS_IT = {key:val for key, val in COUNTS_IT.items() if val >= 10}\n",
    "COUNTS_PL = {key:val for key, val in COUNTS_PL.items() if val >= 10}\n",
    "COUNTS_SV = {key:val for key, val in COUNTS_SV.items() if val >= 10}"
   ]
  },
  {
   "cell_type": "markdown",
   "metadata": {},
   "source": [
    "Let's observe the changes."
   ]
  },
  {
   "cell_type": "code",
   "execution_count": 11,
   "metadata": {},
   "outputs": [
    {
     "name": "stdout",
     "output_type": "stream",
     "text": [
      "Total Words in 'en' texts: 14751\n",
      "Total Words in 'de' texts: 31903\n",
      "Total Words in 'it' texts: 20577\n",
      "Total Words in 'pl' texts: 33812\n",
      "Total Words in 'sv' texts: 29075\n"
     ]
    }
   ],
   "source": [
    "print(\"Total Words in 'en' texts:\", len(COUNTS_EN.keys()))\n",
    "print(\"Total Words in 'de' texts:\", len(COUNTS_DE.keys()))\n",
    "print(\"Total Words in 'it' texts:\", len(COUNTS_IT.keys()))\n",
    "print(\"Total Words in 'pl' texts:\", len(COUNTS_PL.keys()))\n",
    "print(\"Total Words in 'sv' texts:\", len(COUNTS_SV.keys()))"
   ]
  },
  {
   "cell_type": "markdown",
   "metadata": {},
   "source": [
    "Starting from the generated dictionaries, we can now create the 5 vocabularies."
   ]
  },
  {
   "cell_type": "code",
   "execution_count": 12,
   "metadata": {},
   "outputs": [
    {
     "name": "stdout",
     "output_type": "stream",
     "text": [
      "> Dictionaries Generated\n"
     ]
    }
   ],
   "source": [
    "# prepare placeholders\n",
    "# - one for index mapping\n",
    "# - one with the list of all the words\n",
    "\n",
    "EN_WORDS_TO_INDEX = {\"\":0, \"UNK\":1}\n",
    "EN_WORDS = [\"\", \"UNK\"]\n",
    "\n",
    "DE_WORDS_TO_INDEX = {\"\":0, \"UNK\":1}\n",
    "DE_WORDS = [\"\", \"UNK\"]\n",
    "\n",
    "IT_WORDS_TO_INDEX = {\"\":0, \"UNK\":1}\n",
    "IT_WORDS = [\"\", \"UNK\"]\n",
    "\n",
    "PL_WORDS_TO_INDEX = {\"\":0, \"UNK\":1}\n",
    "PL_WORDS = [\"\", \"UNK\"]\n",
    "\n",
    "SV_WORDS_TO_INDEX = {\"\":0, \"UNK\":1}\n",
    "SV_WORDS = [\"\", \"UNK\"]\n",
    "\n",
    "\n",
    "# iterate over each counter and populate the placeholders\n",
    "\n",
    "for word in COUNTS_EN:\n",
    "    EN_WORDS_TO_INDEX[word] = len(EN_WORDS)\n",
    "    EN_WORDS.append(word)\n",
    "\n",
    "for word in COUNTS_DE:\n",
    "    DE_WORDS_TO_INDEX[word] = len(DE_WORDS)\n",
    "    DE_WORDS.append(word)\n",
    "\n",
    "for word in COUNTS_IT:\n",
    "    IT_WORDS_TO_INDEX[word] = len(IT_WORDS)\n",
    "    IT_WORDS.append(word)\n",
    "\n",
    "for word in COUNTS_PL:\n",
    "    PL_WORDS_TO_INDEX[word] = len(PL_WORDS)\n",
    "    PL_WORDS.append(word)\n",
    "\n",
    "for word in COUNTS_SV:\n",
    "    SV_WORDS_TO_INDEX[word] = len(SV_WORDS)\n",
    "    SV_WORDS.append(word)\n",
    "\n",
    "print(\"> Dictionaries Generated\")"
   ]
  },
  {
   "cell_type": "code",
   "execution_count": 13,
   "metadata": {},
   "outputs": [
    {
     "name": "stdout",
     "output_type": "stream",
     "text": [
      "Total Words in 'en' texts: 14753\n",
      "Total Words in 'de' texts: 31905\n",
      "Total Words in 'it' texts: 20579\n",
      "Total Words in 'pl' texts: 33814\n",
      "Total Words in 'sv' texts: 29077\n"
     ]
    }
   ],
   "source": [
    "print(\"Total Words in 'en' texts:\", len(EN_WORDS))\n",
    "print(\"Total Words in 'de' texts:\", len(DE_WORDS))\n",
    "print(\"Total Words in 'it' texts:\", len(IT_WORDS))\n",
    "print(\"Total Words in 'pl' texts:\", len(PL_WORDS))\n",
    "print(\"Total Words in 'sv' texts:\", len(SV_WORDS))"
   ]
  },
  {
   "cell_type": "markdown",
   "metadata": {},
   "source": [
    "**Part 3: Encoding**\n",
    "\n",
    "We have everything we need to encode our texts!"
   ]
  },
  {
   "cell_type": "markdown",
   "metadata": {},
   "source": [
    "Note: we choose that the maximum length of each review should be 1400 words, as the average length of texts is around 1200-1400 words."
   ]
  },
  {
   "cell_type": "code",
   "execution_count": 14,
   "metadata": {},
   "outputs": [],
   "source": [
    "# create our custom encoding function\n",
    "\n",
    "def encode_text(text, word_to_index, language, N=1400):\n",
    "    \n",
    "    # 1. tokenize the text\n",
    "    tokenized = tokenize(text, language)\n",
    "\n",
    "    # 2. encode the text\n",
    "    encoded = np.zeros(N, dtype=int)\n",
    "    enc1 = np.array([word_to_index.get(word, word_to_index[\"UNK\"]) for word in tokenized])\n",
    "    length = min(N, len(enc1))\n",
    "    encoded[:length] = enc1[:length]\n",
    "\n",
    "    # finally, return encoded text\n",
    "    return encoded, length"
   ]
  },
  {
   "cell_type": "code",
   "execution_count": 15,
   "metadata": {},
   "outputs": [
    {
     "data": {
      "text/plain": [
       "(array([2, 3, 4, ..., 0, 0, 0]), 265)"
      ]
     },
     "execution_count": 15,
     "metadata": {},
     "output_type": "execute_result"
    }
   ],
   "source": [
    "# test the function on the first english text\n",
    "\n",
    "test_encoded = encode_text(\n",
    "    text=dataframe[\"text_en\"][0], \n",
    "    word_to_index=EN_WORDS_TO_INDEX, \n",
    "    language=\"en\", \n",
    "    N=1400\n",
    "    )\n",
    "\n",
    "test_encoded"
   ]
  },
  {
   "cell_type": "code",
   "execution_count": 16,
   "metadata": {},
   "outputs": [
    {
     "name": "stderr",
     "output_type": "stream",
     "text": [
      "100%|██████████| 11676/11676 [00:17<00:00, 662.04it/s] \n",
      "100%|██████████| 11676/11676 [00:17<00:00, 674.46it/s] \n",
      "100%|██████████| 11676/11676 [00:18<00:00, 628.89it/s] \n",
      "100%|██████████| 11676/11676 [00:16<00:00, 701.33it/s] \n",
      "100%|██████████| 11676/11676 [00:17<00:00, 670.01it/s] \n"
     ]
    }
   ],
   "source": [
    "# finally, we can apply the function to the whole df, encoding all texts\n",
    "\n",
    "dataframe['text_en_enc'] = dataframe['text_en'].progress_apply(lambda x: np.array(encode_text(x, EN_WORDS_TO_INDEX, language=\"en\"), dtype=object))\n",
    "dataframe['text_de_enc'] = dataframe['text_de'].progress_apply(lambda x: np.array(encode_text(x, DE_WORDS_TO_INDEX, language=\"de\"), dtype=object))\n",
    "dataframe['text_it_enc'] = dataframe['text_it'].progress_apply(lambda x: np.array(encode_text(x, IT_WORDS_TO_INDEX, language=\"it\"), dtype=object))\n",
    "dataframe['text_pl_enc'] = dataframe['text_pl'].progress_apply(lambda x: np.array(encode_text(x, PL_WORDS_TO_INDEX, language=\"pl\"), dtype=object))\n",
    "dataframe['text_sv_enc'] = dataframe['text_sv'].progress_apply(lambda x: np.array(encode_text(x, SV_WORDS_TO_INDEX, language=\"sv\"), dtype=object))"
   ]
  },
  {
   "cell_type": "code",
   "execution_count": 17,
   "metadata": {},
   "outputs": [
    {
     "data": {
      "text/html": [
       "<div>\n",
       "<style scoped>\n",
       "    .dataframe tbody tr th:only-of-type {\n",
       "        vertical-align: middle;\n",
       "    }\n",
       "\n",
       "    .dataframe tbody tr th {\n",
       "        vertical-align: top;\n",
       "    }\n",
       "\n",
       "    .dataframe thead th {\n",
       "        text-align: right;\n",
       "    }\n",
       "</style>\n",
       "<table border=\"1\" class=\"dataframe\">\n",
       "  <thead>\n",
       "    <tr style=\"text-align: right;\">\n",
       "      <th></th>\n",
       "      <th>celex_id</th>\n",
       "      <th>labels</th>\n",
       "      <th>labels_new</th>\n",
       "      <th>text_en</th>\n",
       "      <th>text_de</th>\n",
       "      <th>text_it</th>\n",
       "      <th>text_pl</th>\n",
       "      <th>text_sv</th>\n",
       "      <th>text_en_enc</th>\n",
       "      <th>text_de_enc</th>\n",
       "      <th>text_it_enc</th>\n",
       "      <th>text_pl_enc</th>\n",
       "      <th>text_sv_enc</th>\n",
       "    </tr>\n",
       "  </thead>\n",
       "  <tbody>\n",
       "    <tr>\n",
       "      <th>0</th>\n",
       "      <td>32003R1012</td>\n",
       "      <td>2</td>\n",
       "      <td>1</td>\n",
       "      <td>commission regulation ec no of june amending f...</td>\n",
       "      <td>verordnung eg nr der kommission vom juni zur n...</td>\n",
       "      <td>regolamento ce n della commissione del giugno ...</td>\n",
       "      <td>rozporzadzenie komisji we nr z dnia czerwca r ...</td>\n",
       "      <td>kommissionens forordning eg nr av den juni om ...</td>\n",
       "      <td>[[2, 3, 4, 5, 6, 7, 8, 9, 10, 11, 12, 13, 3, 4...</td>\n",
       "      <td>[[2, 3, 4, 5, 6, 7, 8, 9, 1, 10, 5, 2, 3, 4, 1...</td>\n",
       "      <td>[[2, 3, 4, 5, 6, 7, 8, 9, 1, 10, 7, 2, 3, 4, 1...</td>\n",
       "      <td>[[2, 3, 4, 5, 6, 7, 8, 9, 10, 11, 12, 1, 2, 13...</td>\n",
       "      <td>[[2, 3, 4, 5, 6, 7, 8, 9, 10, 11, 12, 13, 6, 1...</td>\n",
       "    </tr>\n",
       "    <tr>\n",
       "      <th>1</th>\n",
       "      <td>32003R2229</td>\n",
       "      <td>18</td>\n",
       "      <td>3</td>\n",
       "      <td>council regulation ec no of december imposing ...</td>\n",
       "      <td>verordnung eg nr des rates vom dezember zur ei...</td>\n",
       "      <td>regolamento ce n del consiglio del dicembre ch...</td>\n",
       "      <td>rozporzadzenie rady we nr z dnia grudnia r nak...</td>\n",
       "      <td>radets forordning eg nr av den december om inf...</td>\n",
       "      <td>[[13, 3, 4, 5, 6, 117, 14, 118, 119, 120, 121,...</td>\n",
       "      <td>[[2, 3, 4, 11, 12, 7, 116, 9, 117, 118, 119, 1...</td>\n",
       "      <td>[[2, 3, 4, 7, 37, 7, 128, 11, 44, 129, 130, 13...</td>\n",
       "      <td>[[2, 13, 4, 5, 6, 7, 134, 9, 135, 136, 137, 13...</td>\n",
       "      <td>[[14, 3, 4, 5, 6, 7, 113, 9, 16, 6, 114, 115, ...</td>\n",
       "    </tr>\n",
       "    <tr>\n",
       "      <th>2</th>\n",
       "      <td>32003R0223</td>\n",
       "      <td>7</td>\n",
       "      <td>2</td>\n",
       "      <td>commission regulation ec no of february on lab...</td>\n",
       "      <td>verordnung eg nr der kommission vom februar zu...</td>\n",
       "      <td>regolamento ce n della commissione del febbrai...</td>\n",
       "      <td>rozporzadzenie komisji we nr z dnia lutego r w...</td>\n",
       "      <td>kommissionens forordning eg nr av den februari...</td>\n",
       "      <td>[[2, 3, 4, 5, 6, 1033, 78, 1034, 343, 574, 38,...</td>\n",
       "      <td>[[2, 3, 4, 5, 6, 7, 1305, 9, 1136, 57, 1306, 1...</td>\n",
       "      <td>[[2, 3, 4, 5, 6, 7, 1259, 1260, 80, 393, 53, 1...</td>\n",
       "      <td>[[2, 3, 4, 5, 6, 7, 1603, 9, 59, 150, 1604, 59...</td>\n",
       "      <td>[[2, 3, 4, 5, 6, 7, 1240, 9, 1241, 122, 1242, ...</td>\n",
       "    </tr>\n",
       "    <tr>\n",
       "      <th>3</th>\n",
       "      <td>31989L0681</td>\n",
       "      <td>7</td>\n",
       "      <td>2</td>\n",
       "      <td>council directive of december amending directi...</td>\n",
       "      <td>richtlinie des rates vom dezember zur anderung...</td>\n",
       "      <td>direttiva del consiglio del dicembre che modif...</td>\n",
       "      <td>dyrektywa rady z dnia grudnia r zmieniajaca dy...</td>\n",
       "      <td>radets direktiv av den december om andring av ...</td>\n",
       "      <td>[[13, 1068, 6, 117, 8, 1068, 1040, 78, 1187, 7...</td>\n",
       "      <td>[[1350, 11, 12, 7, 116, 9, 10, 5, 1350, 1312, ...</td>\n",
       "      <td>[[1297, 7, 37, 7, 128, 11, 10, 38, 1297, 1267,...</td>\n",
       "      <td>[[1660, 13, 6, 7, 134, 9, 1663, 1666, 1613, 59...</td>\n",
       "      <td>[[14, 1274, 6, 7, 113, 9, 10, 6, 1274, 1247, 9...</td>\n",
       "    </tr>\n",
       "    <tr>\n",
       "      <th>4</th>\n",
       "      <td>32006R1007</td>\n",
       "      <td>2</td>\n",
       "      <td>1</td>\n",
       "      <td>commission regulation ec no of june determinin...</td>\n",
       "      <td>verordnung eg nr der kommission vom juni zur f...</td>\n",
       "      <td>regolamento ce n della commissione del giugno ...</td>\n",
       "      <td>rozporzadzenie komisji we nr z dnia czerwca r ...</td>\n",
       "      <td>kommissionens forordning eg nr av den juni om ...</td>\n",
       "      <td>[[2, 3, 4, 5, 6, 7, 488, 10, 544, 319, 373, 9,...</td>\n",
       "      <td>[[2, 3, 4, 5, 6, 7, 8, 9, 1591, 11, 1592, 166,...</td>\n",
       "      <td>[[2, 3, 4, 5, 6, 7, 8, 11, 1526, 36, 433, 7, 3...</td>\n",
       "      <td>[[2, 3, 4, 5, 6, 7, 8, 9, 1994, 476, 399, 1995...</td>\n",
       "      <td>[[2, 3, 4, 5, 6, 7, 8, 9, 591, 6, 1504, 122, 1...</td>\n",
       "    </tr>\n",
       "    <tr>\n",
       "      <th>...</th>\n",
       "      <td>...</td>\n",
       "      <td>...</td>\n",
       "      <td>...</td>\n",
       "      <td>...</td>\n",
       "      <td>...</td>\n",
       "      <td>...</td>\n",
       "      <td>...</td>\n",
       "      <td>...</td>\n",
       "      <td>...</td>\n",
       "      <td>...</td>\n",
       "      <td>...</td>\n",
       "      <td>...</td>\n",
       "      <td>...</td>\n",
       "    </tr>\n",
       "    <tr>\n",
       "      <th>11671</th>\n",
       "      <td>32011R0880</td>\n",
       "      <td>7</td>\n",
       "      <td>2</td>\n",
       "      <td>commission regulation eu no of september corre...</td>\n",
       "      <td>verordnung eu nr der kommission vom september ...</td>\n",
       "      <td>regolamento ue n della commissione del settemb...</td>\n",
       "      <td>rozporzadzenie komisji ue nr z dnia wrzesnia r...</td>\n",
       "      <td>kommissionens forordning eu nr av den septembe...</td>\n",
       "      <td>[[2, 3, 318, 5, 6, 157, 5739, 3, 318, 5, 8, 69...</td>\n",
       "      <td>[[2, 331, 4, 5, 6, 7, 161, 9, 747, 5, 2, 331, ...</td>\n",
       "      <td>[[2, 371, 4, 5, 6, 7, 180, 11, 6911, 36, 2, 37...</td>\n",
       "      <td>[[2, 3, 400, 5, 6, 7, 189, 9, 59, 150, 12760, ...</td>\n",
       "      <td>[[2, 3, 316, 5, 6, 7, 160, 9, 7201, 6, 3, 316,...</td>\n",
       "    </tr>\n",
       "    <tr>\n",
       "      <th>11672</th>\n",
       "      <td>32012D0272</td>\n",
       "      <td>18</td>\n",
       "      <td>3</td>\n",
       "      <td>council decision of may on the signing on beha...</td>\n",
       "      <td>beschluss des rates vom mai uber die unterzeic...</td>\n",
       "      <td>decisione del consiglio del maggio relativa al...</td>\n",
       "      <td>decyzja rady z dnia maja r w sprawie podpisani...</td>\n",
       "      <td>radets beslut av den maj om undertecknande pa ...</td>\n",
       "      <td>[[13, 566, 6, 42, 78, 10, 4886, 78, 849, 6, 10...</td>\n",
       "      <td>[[1674, 11, 12, 7, 46, 13, 14, 7677, 11, 6345,...</td>\n",
       "      <td>[[653, 7, 37, 7, 46, 187, 28, 6508, 24, 983, 6...</td>\n",
       "      <td>[[2117, 13, 6, 7, 42, 9, 59, 150, 7622, 59, 12...</td>\n",
       "      <td>[[14, 788, 6, 7, 45, 9, 4447, 122, 101, 4526, ...</td>\n",
       "    </tr>\n",
       "    <tr>\n",
       "      <th>11673</th>\n",
       "      <td>32012R0596</td>\n",
       "      <td>18</td>\n",
       "      <td>3</td>\n",
       "      <td>commission regulation eu no of july initiating...</td>\n",
       "      <td>verordnung eu nr der kommission vom juli zur e...</td>\n",
       "      <td>regolamento ue n della commissione del luglio ...</td>\n",
       "      <td>rozporzadzenie komisji ue nr z dnia lipca r ws...</td>\n",
       "      <td>kommissionens forordning eu nr av den juli om ...</td>\n",
       "      <td>[[2, 3, 318, 5, 6, 1096, 3256, 146, 153, 464, ...</td>\n",
       "      <td>[[2, 331, 4, 5, 6, 7, 1376, 9, 3210, 548, 153,...</td>\n",
       "      <td>[[2, 371, 4, 5, 6, 7, 1332, 11, 11640, 129, 17...</td>\n",
       "      <td>[[2, 3, 400, 5, 6, 7, 1702, 9, 19048, 4119, 18...</td>\n",
       "      <td>[[2, 3, 316, 5, 6, 7, 1308, 9, 3161, 6, 114, 5...</td>\n",
       "    </tr>\n",
       "    <tr>\n",
       "      <th>11674</th>\n",
       "      <td>32010D0165</td>\n",
       "      <td>7</td>\n",
       "      <td>2</td>\n",
       "      <td>commission decision of march withdrawing the r...</td>\n",
       "      <td>beschluss der kommission vom marz uber die str...</td>\n",
       "      <td>decisione della commissione del marzo che riti...</td>\n",
       "      <td>decyzja komisji z dnia marca r w sprawie wycof...</td>\n",
       "      <td>kommissionens beslut av den mars om strykning ...</td>\n",
       "      <td>[[2, 566, 6, 1307, 6219, 10, 1088, 6, 389, 689...</td>\n",
       "      <td>[[1674, 5, 6, 7, 1645, 13, 14, 5739, 5, 7497, ...</td>\n",
       "      <td>[[653, 5, 6, 7, 1585, 11, 8249, 36, 565, 5, 89...</td>\n",
       "      <td>[[2117, 3, 6, 7, 2069, 9, 59, 150, 5460, 1811,...</td>\n",
       "      <td>[[2, 788, 6, 7, 1556, 9, 14029, 6, 2850, 50, 3...</td>\n",
       "    </tr>\n",
       "    <tr>\n",
       "      <th>11675</th>\n",
       "      <td>32012R0307</td>\n",
       "      <td>0</td>\n",
       "      <td>0</td>\n",
       "      <td>commission implementing regulation eu no of ap...</td>\n",
       "      <td>durchfuhrungsverordnung eu nr der kommission v...</td>\n",
       "      <td>regolamento di esecuzione ue n della commissio...</td>\n",
       "      <td>rozporzadzenie wykonawcze komisji ue nr z dnia...</td>\n",
       "      <td>kommissionens genomforandeforordning eu nr av ...</td>\n",
       "      <td>[[2, 1336, 3, 318, 5, 6, 1069, 40, 1336, 1030,...</td>\n",
       "      <td>[[15256, 331, 4, 5, 6, 7, 1351, 9, 1136, 57, 3...</td>\n",
       "      <td>[[2, 18, 1624, 371, 4, 5, 6, 65, 1298, 9, 1283...</td>\n",
       "      <td>[[2, 1985, 3, 400, 5, 6, 7, 1656, 9, 809, 1593...</td>\n",
       "      <td>[[2, 17433, 316, 5, 6, 7, 1275, 9, 591, 6, 877...</td>\n",
       "    </tr>\n",
       "  </tbody>\n",
       "</table>\n",
       "<p>11676 rows × 13 columns</p>\n",
       "</div>"
      ],
      "text/plain": [
       "         celex_id  labels  labels_new  \\\n",
       "0      32003R1012       2           1   \n",
       "1      32003R2229      18           3   \n",
       "2      32003R0223       7           2   \n",
       "3      31989L0681       7           2   \n",
       "4      32006R1007       2           1   \n",
       "...           ...     ...         ...   \n",
       "11671  32011R0880       7           2   \n",
       "11672  32012D0272      18           3   \n",
       "11673  32012R0596      18           3   \n",
       "11674  32010D0165       7           2   \n",
       "11675  32012R0307       0           0   \n",
       "\n",
       "                                                 text_en  \\\n",
       "0      commission regulation ec no of june amending f...   \n",
       "1      council regulation ec no of december imposing ...   \n",
       "2      commission regulation ec no of february on lab...   \n",
       "3      council directive of december amending directi...   \n",
       "4      commission regulation ec no of june determinin...   \n",
       "...                                                  ...   \n",
       "11671  commission regulation eu no of september corre...   \n",
       "11672  council decision of may on the signing on beha...   \n",
       "11673  commission regulation eu no of july initiating...   \n",
       "11674  commission decision of march withdrawing the r...   \n",
       "11675  commission implementing regulation eu no of ap...   \n",
       "\n",
       "                                                 text_de  \\\n",
       "0      verordnung eg nr der kommission vom juni zur n...   \n",
       "1      verordnung eg nr des rates vom dezember zur ei...   \n",
       "2      verordnung eg nr der kommission vom februar zu...   \n",
       "3      richtlinie des rates vom dezember zur anderung...   \n",
       "4      verordnung eg nr der kommission vom juni zur f...   \n",
       "...                                                  ...   \n",
       "11671  verordnung eu nr der kommission vom september ...   \n",
       "11672  beschluss des rates vom mai uber die unterzeic...   \n",
       "11673  verordnung eu nr der kommission vom juli zur e...   \n",
       "11674  beschluss der kommission vom marz uber die str...   \n",
       "11675  durchfuhrungsverordnung eu nr der kommission v...   \n",
       "\n",
       "                                                 text_it  \\\n",
       "0      regolamento ce n della commissione del giugno ...   \n",
       "1      regolamento ce n del consiglio del dicembre ch...   \n",
       "2      regolamento ce n della commissione del febbrai...   \n",
       "3      direttiva del consiglio del dicembre che modif...   \n",
       "4      regolamento ce n della commissione del giugno ...   \n",
       "...                                                  ...   \n",
       "11671  regolamento ue n della commissione del settemb...   \n",
       "11672  decisione del consiglio del maggio relativa al...   \n",
       "11673  regolamento ue n della commissione del luglio ...   \n",
       "11674  decisione della commissione del marzo che riti...   \n",
       "11675  regolamento di esecuzione ue n della commissio...   \n",
       "\n",
       "                                                 text_pl  \\\n",
       "0      rozporzadzenie komisji we nr z dnia czerwca r ...   \n",
       "1      rozporzadzenie rady we nr z dnia grudnia r nak...   \n",
       "2      rozporzadzenie komisji we nr z dnia lutego r w...   \n",
       "3      dyrektywa rady z dnia grudnia r zmieniajaca dy...   \n",
       "4      rozporzadzenie komisji we nr z dnia czerwca r ...   \n",
       "...                                                  ...   \n",
       "11671  rozporzadzenie komisji ue nr z dnia wrzesnia r...   \n",
       "11672  decyzja rady z dnia maja r w sprawie podpisani...   \n",
       "11673  rozporzadzenie komisji ue nr z dnia lipca r ws...   \n",
       "11674  decyzja komisji z dnia marca r w sprawie wycof...   \n",
       "11675  rozporzadzenie wykonawcze komisji ue nr z dnia...   \n",
       "\n",
       "                                                 text_sv  \\\n",
       "0      kommissionens forordning eg nr av den juni om ...   \n",
       "1      radets forordning eg nr av den december om inf...   \n",
       "2      kommissionens forordning eg nr av den februari...   \n",
       "3      radets direktiv av den december om andring av ...   \n",
       "4      kommissionens forordning eg nr av den juni om ...   \n",
       "...                                                  ...   \n",
       "11671  kommissionens forordning eu nr av den septembe...   \n",
       "11672  radets beslut av den maj om undertecknande pa ...   \n",
       "11673  kommissionens forordning eu nr av den juli om ...   \n",
       "11674  kommissionens beslut av den mars om strykning ...   \n",
       "11675  kommissionens genomforandeforordning eu nr av ...   \n",
       "\n",
       "                                             text_en_enc  \\\n",
       "0      [[2, 3, 4, 5, 6, 7, 8, 9, 10, 11, 12, 13, 3, 4...   \n",
       "1      [[13, 3, 4, 5, 6, 117, 14, 118, 119, 120, 121,...   \n",
       "2      [[2, 3, 4, 5, 6, 1033, 78, 1034, 343, 574, 38,...   \n",
       "3      [[13, 1068, 6, 117, 8, 1068, 1040, 78, 1187, 7...   \n",
       "4      [[2, 3, 4, 5, 6, 7, 488, 10, 544, 319, 373, 9,...   \n",
       "...                                                  ...   \n",
       "11671  [[2, 3, 318, 5, 6, 157, 5739, 3, 318, 5, 8, 69...   \n",
       "11672  [[13, 566, 6, 42, 78, 10, 4886, 78, 849, 6, 10...   \n",
       "11673  [[2, 3, 318, 5, 6, 1096, 3256, 146, 153, 464, ...   \n",
       "11674  [[2, 566, 6, 1307, 6219, 10, 1088, 6, 389, 689...   \n",
       "11675  [[2, 1336, 3, 318, 5, 6, 1069, 40, 1336, 1030,...   \n",
       "\n",
       "                                             text_de_enc  \\\n",
       "0      [[2, 3, 4, 5, 6, 7, 8, 9, 1, 10, 5, 2, 3, 4, 1...   \n",
       "1      [[2, 3, 4, 11, 12, 7, 116, 9, 117, 118, 119, 1...   \n",
       "2      [[2, 3, 4, 5, 6, 7, 1305, 9, 1136, 57, 1306, 1...   \n",
       "3      [[1350, 11, 12, 7, 116, 9, 10, 5, 1350, 1312, ...   \n",
       "4      [[2, 3, 4, 5, 6, 7, 8, 9, 1591, 11, 1592, 166,...   \n",
       "...                                                  ...   \n",
       "11671  [[2, 331, 4, 5, 6, 7, 161, 9, 747, 5, 2, 331, ...   \n",
       "11672  [[1674, 11, 12, 7, 46, 13, 14, 7677, 11, 6345,...   \n",
       "11673  [[2, 331, 4, 5, 6, 7, 1376, 9, 3210, 548, 153,...   \n",
       "11674  [[1674, 5, 6, 7, 1645, 13, 14, 5739, 5, 7497, ...   \n",
       "11675  [[15256, 331, 4, 5, 6, 7, 1351, 9, 1136, 57, 3...   \n",
       "\n",
       "                                             text_it_enc  \\\n",
       "0      [[2, 3, 4, 5, 6, 7, 8, 9, 1, 10, 7, 2, 3, 4, 1...   \n",
       "1      [[2, 3, 4, 7, 37, 7, 128, 11, 44, 129, 130, 13...   \n",
       "2      [[2, 3, 4, 5, 6, 7, 1259, 1260, 80, 393, 53, 1...   \n",
       "3      [[1297, 7, 37, 7, 128, 11, 10, 38, 1297, 1267,...   \n",
       "4      [[2, 3, 4, 5, 6, 7, 8, 11, 1526, 36, 433, 7, 3...   \n",
       "...                                                  ...   \n",
       "11671  [[2, 371, 4, 5, 6, 7, 180, 11, 6911, 36, 2, 37...   \n",
       "11672  [[653, 7, 37, 7, 46, 187, 28, 6508, 24, 983, 6...   \n",
       "11673  [[2, 371, 4, 5, 6, 7, 1332, 11, 11640, 129, 17...   \n",
       "11674  [[653, 5, 6, 7, 1585, 11, 8249, 36, 565, 5, 89...   \n",
       "11675  [[2, 18, 1624, 371, 4, 5, 6, 65, 1298, 9, 1283...   \n",
       "\n",
       "                                             text_pl_enc  \\\n",
       "0      [[2, 3, 4, 5, 6, 7, 8, 9, 10, 11, 12, 1, 2, 13...   \n",
       "1      [[2, 13, 4, 5, 6, 7, 134, 9, 135, 136, 137, 13...   \n",
       "2      [[2, 3, 4, 5, 6, 7, 1603, 9, 59, 150, 1604, 59...   \n",
       "3      [[1660, 13, 6, 7, 134, 9, 1663, 1666, 1613, 59...   \n",
       "4      [[2, 3, 4, 5, 6, 7, 8, 9, 1994, 476, 399, 1995...   \n",
       "...                                                  ...   \n",
       "11671  [[2, 3, 400, 5, 6, 7, 189, 9, 59, 150, 12760, ...   \n",
       "11672  [[2117, 13, 6, 7, 42, 9, 59, 150, 7622, 59, 12...   \n",
       "11673  [[2, 3, 400, 5, 6, 7, 1702, 9, 19048, 4119, 18...   \n",
       "11674  [[2117, 3, 6, 7, 2069, 9, 59, 150, 5460, 1811,...   \n",
       "11675  [[2, 1985, 3, 400, 5, 6, 7, 1656, 9, 809, 1593...   \n",
       "\n",
       "                                             text_sv_enc  \n",
       "0      [[2, 3, 4, 5, 6, 7, 8, 9, 10, 11, 12, 13, 6, 1...  \n",
       "1      [[14, 3, 4, 5, 6, 7, 113, 9, 16, 6, 114, 115, ...  \n",
       "2      [[2, 3, 4, 5, 6, 7, 1240, 9, 1241, 122, 1242, ...  \n",
       "3      [[14, 1274, 6, 7, 113, 9, 10, 6, 1274, 1247, 9...  \n",
       "4      [[2, 3, 4, 5, 6, 7, 8, 9, 591, 6, 1504, 122, 1...  \n",
       "...                                                  ...  \n",
       "11671  [[2, 3, 316, 5, 6, 7, 160, 9, 7201, 6, 3, 316,...  \n",
       "11672  [[14, 788, 6, 7, 45, 9, 4447, 122, 101, 4526, ...  \n",
       "11673  [[2, 3, 316, 5, 6, 7, 1308, 9, 3161, 6, 114, 5...  \n",
       "11674  [[2, 788, 6, 7, 1556, 9, 14029, 6, 2850, 50, 3...  \n",
       "11675  [[2, 17433, 316, 5, 6, 7, 1275, 9, 591, 6, 877...  \n",
       "\n",
       "[11676 rows x 13 columns]"
      ]
     },
     "execution_count": 17,
     "metadata": {},
     "output_type": "execute_result"
    }
   ],
   "source": [
    "# show df\n",
    "dataframe"
   ]
  },
  {
   "cell_type": "markdown",
   "metadata": {},
   "source": [
    "#### **Train, Test and Validation splits**\n",
    "\n",
    "We split the dataset into:\n",
    "- training set\n",
    "- validation set\n",
    "- test set"
   ]
  },
  {
   "cell_type": "code",
   "execution_count": 18,
   "metadata": {},
   "outputs": [],
   "source": [
    "from sklearn.model_selection import train_test_split\n",
    "\n",
    "# SPLIT 1: train [0.8] and test [0.2]\n",
    "\n",
    "# execute the split (randomly, stratified fashion)\n",
    "train_indexes, test_indexes, _, _ = train_test_split(\n",
    "    dataframe[\"text_en_enc\"],\n",
    "    dataframe[\"labels_new\"],\n",
    "    test_size=0.2,\n",
    "    random_state=42\n",
    ")\n",
    "\n",
    "# create placeholder\n",
    "dataframe[\"set\"] = \"not specified\"\n",
    "\n",
    "# set value based on stratified split\n",
    "dataframe.loc[train_indexes.index, \"set\"] = \"train\"\n",
    "dataframe.loc[test_indexes.index, \"set\"] = \"test\"\n",
    "\n",
    "\n",
    "# SPLIT 2: we split train again in order to obtain the validation set\n",
    "\n",
    "train_indexes, val_indexes, _, _ = train_test_split(\n",
    "    dataframe.loc[dataframe[\"set\"] == \"train\"][\"text_en_enc\"],\n",
    "    dataframe.loc[dataframe[\"set\"] == \"train\"][\"labels_new\"],\n",
    "    test_size=0.2,\n",
    "    random_state=42\n",
    ")\n",
    "\n",
    "# update dataset with validation info\n",
    "dataframe.loc[val_indexes.index, \"set\"] = \"validation\""
   ]
  },
  {
   "cell_type": "markdown",
   "metadata": {},
   "source": [
    "*How many observations for each set?*"
   ]
  },
  {
   "cell_type": "code",
   "execution_count": 19,
   "metadata": {},
   "outputs": [
    {
     "data": {
      "text/plain": [
       "Counter({'test': 2336, 'validation': 1868, 'train': 7472})"
      ]
     },
     "execution_count": 19,
     "metadata": {},
     "output_type": "execute_result"
    }
   ],
   "source": [
    "Counter(dataframe['set'])"
   ]
  },
  {
   "cell_type": "markdown",
   "metadata": {},
   "source": [
    "#### **Save preprocessed texts**\n",
    "\n",
    "We save the data in pickle format in order to preserve the column types."
   ]
  },
  {
   "cell_type": "code",
   "execution_count": 20,
   "metadata": {},
   "outputs": [
    {
     "name": "stdout",
     "output_type": "stream",
     "text": [
      "> All done!\n"
     ]
    }
   ],
   "source": [
    "dataframe.to_pickle(\"../data/3_multi_eurlex_encoded_v3.pkl\")\n",
    "print(\"> All done!\")"
   ]
  }
 ],
 "metadata": {
  "interpreter": {
   "hash": "455534d435f7de67bc0026f9ceba702b21954bd7ad83505586b95ef58f556ae5"
  },
  "kernelspec": {
   "display_name": "Python 3.9.12 ('NLP_2022')",
   "language": "python",
   "name": "python3"
  },
  "language_info": {
   "codemirror_mode": {
    "name": "ipython",
    "version": 3
   },
   "file_extension": ".py",
   "mimetype": "text/x-python",
   "name": "python",
   "nbconvert_exporter": "python",
   "pygments_lexer": "ipython3",
   "version": "3.9.12"
  },
  "orig_nbformat": 4
 },
 "nbformat": 4,
 "nbformat_minor": 2
}
