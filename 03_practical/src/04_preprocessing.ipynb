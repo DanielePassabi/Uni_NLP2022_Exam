{
 "cells": [
  {
   "cell_type": "markdown",
   "metadata": {},
   "source": [
    "## **NLP Practical**\n",
    "\n",
    "### **Preprocessing**\n",
    "\n",
    "It is now time to preprocess the texts."
   ]
  },
  {
   "cell_type": "markdown",
   "metadata": {},
   "source": [
    "#### **Libraries**\n",
    "\n",
    "We import the necessary libraries for the notebook."
   ]
  },
  {
   "cell_type": "code",
   "execution_count": 1,
   "metadata": {},
   "outputs": [
    {
     "name": "stderr",
     "output_type": "stream",
     "text": [
      "d:\\Programmi\\Anaconda\\envs\\NLP_2022\\lib\\site-packages\\cupy\\_environment.py:213: UserWarning: CUDA path could not be detected. Set CUDA_PATH environment variable if CuPy fails to load.\n",
      "  warnings.warn(\n"
     ]
    },
    {
     "name": "stdout",
     "output_type": "stream",
     "text": [
      "> Libraries Imported\n"
     ]
    }
   ],
   "source": [
    "# general\n",
    "import pandas as pd\n",
    "import numpy as np\n",
    "from tqdm import tqdm\n",
    "tqdm.pandas()\n",
    "\n",
    "# dataviz\n",
    "import plotly.express as px         # create interactive plots\n",
    "\n",
    "# preprocessing\n",
    "import spacy                        # tokenization\n",
    "from collections import Counter     # count words occurrences\n",
    "\n",
    "print(\"> Libraries Imported\")"
   ]
  },
  {
   "cell_type": "markdown",
   "metadata": {},
   "source": [
    "#### **Import the dataset**\n",
    "\n",
    "We read our custom (and cleaned) csv. "
   ]
  },
  {
   "cell_type": "code",
   "execution_count": 2,
   "metadata": {},
   "outputs": [
    {
     "data": {
      "text/html": [
       "<div>\n",
       "<style scoped>\n",
       "    .dataframe tbody tr th:only-of-type {\n",
       "        vertical-align: middle;\n",
       "    }\n",
       "\n",
       "    .dataframe tbody tr th {\n",
       "        vertical-align: top;\n",
       "    }\n",
       "\n",
       "    .dataframe thead th {\n",
       "        text-align: right;\n",
       "    }\n",
       "</style>\n",
       "<table border=\"1\" class=\"dataframe\">\n",
       "  <thead>\n",
       "    <tr style=\"text-align: right;\">\n",
       "      <th></th>\n",
       "      <th>celex_id</th>\n",
       "      <th>labels</th>\n",
       "      <th>labels_new</th>\n",
       "      <th>text_en</th>\n",
       "      <th>text_de</th>\n",
       "      <th>text_it</th>\n",
       "      <th>text_pl</th>\n",
       "      <th>text_sv</th>\n",
       "    </tr>\n",
       "  </thead>\n",
       "  <tbody>\n",
       "    <tr>\n",
       "      <th>0</th>\n",
       "      <td>32006D0213</td>\n",
       "      <td>1</td>\n",
       "      <td>1</td>\n",
       "      <td>commission decision of _number_ march _number_...</td>\n",
       "      <td>entscheidung der kommission vom _number_ marz ...</td>\n",
       "      <td>decisione della commissione del _number_ marzo...</td>\n",
       "      <td>decyzja komisji z dnia _number_ marca _number_...</td>\n",
       "      <td>kommissionens beslut av den _number_ mars _num...</td>\n",
       "    </tr>\n",
       "    <tr>\n",
       "      <th>1</th>\n",
       "      <td>32003R1786</td>\n",
       "      <td>3</td>\n",
       "      <td>3</td>\n",
       "      <td>council regulation ec no _number_ _number_ of ...</td>\n",
       "      <td>verordnung eg nr _number_ _number_ des rates v...</td>\n",
       "      <td>regolamento ce n _number_ _number_ del consigl...</td>\n",
       "      <td>rozporzadzenie rady we nr _number_ _number_ z ...</td>\n",
       "      <td>radets forordning eg nr _number_ _number_ av d...</td>\n",
       "    </tr>\n",
       "    <tr>\n",
       "      <th>2</th>\n",
       "      <td>32004R1038</td>\n",
       "      <td>3</td>\n",
       "      <td>3</td>\n",
       "      <td>commission regulation ec no _number_ _number_ ...</td>\n",
       "      <td>verordnung eg nr _number_ _number_ der kommiss...</td>\n",
       "      <td>regolamento ce n _number_ _number_ della commi...</td>\n",
       "      <td>rozporzadzenie komisji we nr _number_ _number_...</td>\n",
       "      <td>kommissionens forordning eg nr _number_ _numbe...</td>\n",
       "    </tr>\n",
       "    <tr>\n",
       "      <th>3</th>\n",
       "      <td>32003R1012</td>\n",
       "      <td>2</td>\n",
       "      <td>2</td>\n",
       "      <td>commission regulation ec no _number_ _number_ ...</td>\n",
       "      <td>verordnung eg nr _number_ _number_ der kommiss...</td>\n",
       "      <td>regolamento ce n _number_ _number_ della commi...</td>\n",
       "      <td>rozporzadzenie komisji we nr _number_ _number_...</td>\n",
       "      <td>kommissionens forordning eg nr _number_ _numbe...</td>\n",
       "    </tr>\n",
       "    <tr>\n",
       "      <th>4</th>\n",
       "      <td>32003R2229</td>\n",
       "      <td>18</td>\n",
       "      <td>11</td>\n",
       "      <td>council regulation ec no _number_ _number_ of ...</td>\n",
       "      <td>verordnung eg nr _number_ _number_ des rates v...</td>\n",
       "      <td>regolamento ce n _number_ _number_ del consigl...</td>\n",
       "      <td>rozporzadzenie rady we nr _number_ _number_ z ...</td>\n",
       "      <td>radets forordning eg nr _number_ _number_ av d...</td>\n",
       "    </tr>\n",
       "  </tbody>\n",
       "</table>\n",
       "</div>"
      ],
      "text/plain": [
       "     celex_id  labels  labels_new  \\\n",
       "0  32006D0213       1           1   \n",
       "1  32003R1786       3           3   \n",
       "2  32004R1038       3           3   \n",
       "3  32003R1012       2           2   \n",
       "4  32003R2229      18          11   \n",
       "\n",
       "                                             text_en  \\\n",
       "0  commission decision of _number_ march _number_...   \n",
       "1  council regulation ec no _number_ _number_ of ...   \n",
       "2  commission regulation ec no _number_ _number_ ...   \n",
       "3  commission regulation ec no _number_ _number_ ...   \n",
       "4  council regulation ec no _number_ _number_ of ...   \n",
       "\n",
       "                                             text_de  \\\n",
       "0  entscheidung der kommission vom _number_ marz ...   \n",
       "1  verordnung eg nr _number_ _number_ des rates v...   \n",
       "2  verordnung eg nr _number_ _number_ der kommiss...   \n",
       "3  verordnung eg nr _number_ _number_ der kommiss...   \n",
       "4  verordnung eg nr _number_ _number_ des rates v...   \n",
       "\n",
       "                                             text_it  \\\n",
       "0  decisione della commissione del _number_ marzo...   \n",
       "1  regolamento ce n _number_ _number_ del consigl...   \n",
       "2  regolamento ce n _number_ _number_ della commi...   \n",
       "3  regolamento ce n _number_ _number_ della commi...   \n",
       "4  regolamento ce n _number_ _number_ del consigl...   \n",
       "\n",
       "                                             text_pl  \\\n",
       "0  decyzja komisji z dnia _number_ marca _number_...   \n",
       "1  rozporzadzenie rady we nr _number_ _number_ z ...   \n",
       "2  rozporzadzenie komisji we nr _number_ _number_...   \n",
       "3  rozporzadzenie komisji we nr _number_ _number_...   \n",
       "4  rozporzadzenie rady we nr _number_ _number_ z ...   \n",
       "\n",
       "                                             text_sv  \n",
       "0  kommissionens beslut av den _number_ mars _num...  \n",
       "1  radets forordning eg nr _number_ _number_ av d...  \n",
       "2  kommissionens forordning eg nr _number_ _numbe...  \n",
       "3  kommissionens forordning eg nr _number_ _numbe...  \n",
       "4  radets forordning eg nr _number_ _number_ av d...  "
      ]
     },
     "execution_count": 2,
     "metadata": {},
     "output_type": "execute_result"
    }
   ],
   "source": [
    "dataframe = pd.read_csv(\"../data/2_multi_eurlex_reduced.csv\")\n",
    "dataframe.head()"
   ]
  },
  {
   "cell_type": "markdown",
   "metadata": {},
   "source": [
    "#### **Preprocessing**"
   ]
  },
  {
   "cell_type": "markdown",
   "metadata": {},
   "source": [
    "**Part 1: Tokenization**\n",
    "\n",
    "This essentially involves dividing a sentence, paragraph or entire text document into smaller units, such as individual words or terms."
   ]
  },
  {
   "cell_type": "markdown",
   "metadata": {},
   "source": [
    "We create a custom function capable of tokenizing the texts in different languages."
   ]
  },
  {
   "cell_type": "code",
   "execution_count": 3,
   "metadata": {},
   "outputs": [],
   "source": [
    "# load the tokenizers (one for each language)\n",
    "\n",
    "TOKENIZER_EN = spacy.load('en_core_web_sm')\n",
    "TOKENIZER_DE = spacy.load('nl_core_news_sm')\n",
    "TOKENIZER_IT = spacy.load('it_core_news_sm')\n",
    "TOKENIZER_PL = spacy.load('pl_core_news_sm')\n",
    "TOKENIZER_SV = spacy.load('sv_core_news_sm')"
   ]
  },
  {
   "cell_type": "code",
   "execution_count": 4,
   "metadata": {},
   "outputs": [],
   "source": [
    "# create custom function\n",
    "\n",
    "def tokenize(text, language):\n",
    "\n",
    "    # use the required tokenizer (based on input language)\n",
    "    if language==\"en\":\n",
    "        tokenizer = TOKENIZER_EN\n",
    "    elif language==\"de\":\n",
    "        tokenizer = TOKENIZER_DE\n",
    "    elif language==\"it\":\n",
    "        tokenizer = TOKENIZER_IT\n",
    "    elif language==\"pl\":\n",
    "        tokenizer = TOKENIZER_PL\n",
    "    elif language==\"sv\":\n",
    "        tokenizer = TOKENIZER_SV\n",
    "    else:\n",
    "        error_str = \"Error: language '\" + language + \"' not available. Please choose between 'en', 'de', 'it', 'pl', 'sv'.\"\n",
    "        print(error_str)\n",
    "\n",
    "    text = text.replace(\"_\",\"\")\n",
    "    return [token.text for token in tokenizer.tokenizer(text)]"
   ]
  },
  {
   "cell_type": "markdown",
   "metadata": {},
   "source": [
    "Here we show a small example of tokenization for the first text (in each language). "
   ]
  },
  {
   "cell_type": "code",
   "execution_count": 5,
   "metadata": {},
   "outputs": [
    {
     "name": "stdout",
     "output_type": "stream",
     "text": [
      "Sample of 'en' text: commission decision of _number_ march _number_ establishing the classes of reaction to fire performance for certain cons\n",
      "Sample of 'de' text: entscheidung der kommission vom _number_ marz _number_ zur festlegung der brandverhaltensklassen fur bestimmte bauproduk\n",
      "Sample of 'it' text: decisione della commissione del _number_ marzo _number_ che determina le classi di reazione al fuoco di alcuni prodotti \n",
      "Sample of 'pl' text: decyzja komisji z dnia _number_ marca _number_ r ustanawiajaca klasy reakcji na ogien niektorych wyrobow budowlanych w o\n",
      "Sample of 'sv' text: kommissionens beslut av den _number_ mars _number_ om indelning i klasser beroende pa reaktion vid brandpaverkan for vis\n"
     ]
    }
   ],
   "source": [
    "test_text_en = dataframe[\"text_en\"][0]\n",
    "test_text_de = dataframe[\"text_de\"][0]\n",
    "test_text_it = dataframe[\"text_it\"][0]\n",
    "test_text_pl = dataframe[\"text_pl\"][0]\n",
    "test_text_sv = dataframe[\"text_sv\"][0]\n",
    "\n",
    "\n",
    "print(\"Sample of 'en' text:\", test_text_en[0:120])\n",
    "print(\"Sample of 'de' text:\", test_text_de[0:120])\n",
    "print(\"Sample of 'it' text:\", test_text_it[0:120])\n",
    "print(\"Sample of 'pl' text:\", test_text_pl[0:120])\n",
    "print(\"Sample of 'sv' text:\", test_text_sv[0:120])"
   ]
  },
  {
   "cell_type": "code",
   "execution_count": 6,
   "metadata": {},
   "outputs": [
    {
     "name": "stdout",
     "output_type": "stream",
     "text": [
      "Example of tokenization in 'en': ['commission', 'decision', 'of', 'number', 'march', 'number', 'establishing', 'the', 'classes', 'of']\n",
      "Example of tokenization in 'de': ['entscheidung', 'der', 'kommission', 'vom', 'number', 'marz', 'number', 'zur', 'festlegung', 'der']\n",
      "Example of tokenization in 'it': ['decisione', 'della', 'commissione', 'del', 'number', 'marzo', 'number', 'che', 'determina', 'le']\n",
      "Example of tokenization in 'pl': ['decyzja', 'komisji', 'z', 'dnia', 'number', 'marca', 'number', 'r', 'ustanawiajaca', 'klasy']\n",
      "Example of tokenization in 'sv': ['kommissionens', 'beslut', 'av', 'den', 'number', 'mars', 'number', 'om', 'indelning', 'i']\n"
     ]
    }
   ],
   "source": [
    "print(\"Example of tokenization in 'en':\", tokenize(text=test_text_en, language=\"en\")[0:10])\n",
    "print(\"Example of tokenization in 'de':\", tokenize(text=test_text_de, language=\"de\")[0:10])\n",
    "print(\"Example of tokenization in 'it':\", tokenize(text=test_text_it, language=\"it\")[0:10])\n",
    "print(\"Example of tokenization in 'pl':\", tokenize(text=test_text_pl, language=\"pl\")[0:10])\n",
    "print(\"Example of tokenization in 'sv':\", tokenize(text=test_text_sv, language=\"sv\")[0:10])"
   ]
  },
  {
   "cell_type": "markdown",
   "metadata": {},
   "source": [
    "**Part 2: Count Words Occurrences**\n",
    "\n",
    "We now count the number of occurrences of each word (now a token) in the corpuses."
   ]
  },
  {
   "cell_type": "code",
   "execution_count": 7,
   "metadata": {},
   "outputs": [
    {
     "name": "stderr",
     "output_type": "stream",
     "text": [
      "> Counting words in texts: 100%|██████████| 30825/30825 [04:33<00:00, 112.83it/s]\n"
     ]
    }
   ],
   "source": [
    "# instantiate a Counter\n",
    "COUNTS_EN = Counter()\n",
    "COUNTS_DE = Counter()\n",
    "COUNTS_IT = Counter()\n",
    "COUNTS_PL = Counter()\n",
    "COUNTS_SV = Counter()\n",
    "\n",
    "for index, row in tqdm(dataframe.iterrows(), total=dataframe.shape[0], desc=\"> Counting words in texts\"):\n",
    "    COUNTS_EN.update(tokenize(row['text_en'], language=\"en\"))\n",
    "    COUNTS_DE.update(tokenize(row['text_de'], language=\"de\"))\n",
    "    COUNTS_IT.update(tokenize(row['text_it'], language=\"it\"))\n",
    "    COUNTS_PL.update(tokenize(row['text_pl'], language=\"pl\"))\n",
    "    COUNTS_SV.update(tokenize(row['text_sv'], language=\"sv\"))"
   ]
  },
  {
   "cell_type": "code",
   "execution_count": 8,
   "metadata": {},
   "outputs": [
    {
     "name": "stdout",
     "output_type": "stream",
     "text": [
      "commission: 239011\n",
      "decision: 110058\n",
      "of: 2122065\n",
      "number: 3326816\n",
      "march: 18376\n",
      "establishing: 40092\n",
      "the: 3798810\n",
      "classes: 1341\n",
      "reaction: 601\n",
      "to: 1248629\n"
     ]
    }
   ],
   "source": [
    "# show first 10 words of COUNTS_EN\n",
    "i = 0\n",
    "for key,value in COUNTS_EN.items():\n",
    "    if i < 10:\n",
    "        print(f\"{key}: {value}\")\n",
    "    i+=1"
   ]
  },
  {
   "cell_type": "markdown",
   "metadata": {},
   "source": [
    "*How many words in the dictionary of each language?*"
   ]
  },
  {
   "cell_type": "code",
   "execution_count": 9,
   "metadata": {},
   "outputs": [
    {
     "name": "stdout",
     "output_type": "stream",
     "text": [
      "Total Words in 'en' texts: 78547\n",
      "Total Words in 'de' texts: 251591\n",
      "Total Words in 'it' texts: 106707\n",
      "Total Words in 'pl' texts: 173840\n",
      "Total Words in 'sv' texts: 229339\n"
     ]
    }
   ],
   "source": [
    "print(\"Total Words in 'en' texts:\", len(COUNTS_EN.keys()))\n",
    "print(\"Total Words in 'de' texts:\", len(COUNTS_DE.keys()))\n",
    "print(\"Total Words in 'it' texts:\", len(COUNTS_IT.keys()))\n",
    "print(\"Total Words in 'pl' texts:\", len(COUNTS_PL.keys()))\n",
    "print(\"Total Words in 'sv' texts:\", len(COUNTS_SV.keys()))"
   ]
  },
  {
   "cell_type": "markdown",
   "metadata": {},
   "source": [
    "It is very interesting to note how the number of words used in each language changes significantly to describe the same laws. \n",
    "\n",
    "Considering English and Swedish, for example, we can see how the number of Swedish words used exceeds the number of English words by a factor of 3."
   ]
  },
  {
   "cell_type": "markdown",
   "metadata": {},
   "source": [
    "Starting from the generated dictionaries, we can now create the 5 vocabularies."
   ]
  },
  {
   "cell_type": "code",
   "execution_count": 10,
   "metadata": {},
   "outputs": [
    {
     "name": "stdout",
     "output_type": "stream",
     "text": [
      "> Dictionaries Generated\n"
     ]
    }
   ],
   "source": [
    "# prepare placeholders\n",
    "# - one for index mapping\n",
    "# - one with the list of all the words\n",
    "\n",
    "EN_WORDS_TO_INDEX = {\"\":0, \"UNK\":1}\n",
    "EN_WORDS = [\"\", \"UNK\"]\n",
    "\n",
    "DE_WORDS_TO_INDEX = {\"\":0, \"UNK\":1}\n",
    "DE_WORDS = [\"\", \"UNK\"]\n",
    "\n",
    "IT_WORDS_TO_INDEX = {\"\":0, \"UNK\":1}\n",
    "IT_WORDS = [\"\", \"UNK\"]\n",
    "\n",
    "PL_WORDS_TO_INDEX = {\"\":0, \"UNK\":1}\n",
    "PL_WORDS = [\"\", \"UNK\"]\n",
    "\n",
    "SV_WORDS_TO_INDEX = {\"\":0, \"UNK\":1}\n",
    "SV_WORDS = [\"\", \"UNK\"]\n",
    "\n",
    "\n",
    "# iterate over each counter and populate the placeholders\n",
    "\n",
    "for word in COUNTS_EN:\n",
    "    EN_WORDS_TO_INDEX[word] = len(EN_WORDS)\n",
    "    EN_WORDS.append(word)\n",
    "\n",
    "for word in COUNTS_DE:\n",
    "    DE_WORDS_TO_INDEX[word] = len(DE_WORDS)\n",
    "    DE_WORDS.append(word)\n",
    "\n",
    "for word in COUNTS_IT:\n",
    "    IT_WORDS_TO_INDEX[word] = len(IT_WORDS)\n",
    "    IT_WORDS.append(word)\n",
    "\n",
    "for word in COUNTS_PL:\n",
    "    PL_WORDS_TO_INDEX[word] = len(PL_WORDS)\n",
    "    PL_WORDS.append(word)\n",
    "\n",
    "for word in COUNTS_SV:\n",
    "    SV_WORDS_TO_INDEX[word] = len(SV_WORDS)\n",
    "    SV_WORDS.append(word)\n",
    "\n",
    "print(\"> Dictionaries Generated\")"
   ]
  },
  {
   "cell_type": "code",
   "execution_count": 19,
   "metadata": {},
   "outputs": [
    {
     "name": "stdout",
     "output_type": "stream",
     "text": [
      "Total Words in 'en' texts: 78549\n",
      "Total Words in 'de' texts: 251593\n",
      "Total Words in 'it' texts: 106709\n",
      "Total Words in 'pl' texts: 173842\n",
      "Total Words in 'sv' texts: 229341\n"
     ]
    }
   ],
   "source": [
    "print(\"Total Words in 'en' texts:\", len(EN_WORDS))\n",
    "print(\"Total Words in 'de' texts:\", len(DE_WORDS))\n",
    "print(\"Total Words in 'it' texts:\", len(IT_WORDS))\n",
    "print(\"Total Words in 'pl' texts:\", len(PL_WORDS))\n",
    "print(\"Total Words in 'sv' texts:\", len(SV_WORDS))"
   ]
  },
  {
   "cell_type": "markdown",
   "metadata": {},
   "source": [
    "**Part 3: Encoding**\n",
    "\n",
    "We have everything we need to encode our texts!"
   ]
  },
  {
   "cell_type": "markdown",
   "metadata": {},
   "source": [
    "Note: we choose that the maximum length of each review should be 1400 words, as the average length of texts is around 1200-1400 words."
   ]
  },
  {
   "cell_type": "code",
   "execution_count": 11,
   "metadata": {},
   "outputs": [],
   "source": [
    "# create our custom encoding function\n",
    "\n",
    "def encode_text(text, word_to_index, language, N=1400):\n",
    "    \n",
    "    # 1. tokenize the text\n",
    "    tokenized = tokenize(text, language)\n",
    "\n",
    "    # 2. encode the text\n",
    "    encoded = np.zeros(N, dtype=int)\n",
    "    enc1 = np.array([word_to_index.get(word, word_to_index[\"UNK\"]) for word in tokenized])\n",
    "    length = min(N, len(enc1))\n",
    "    encoded[:length] = enc1[:length]\n",
    "\n",
    "    # finally, return encoded text\n",
    "    return encoded, length"
   ]
  },
  {
   "cell_type": "code",
   "execution_count": 12,
   "metadata": {},
   "outputs": [
    {
     "data": {
      "text/plain": [
       "(array([2, 3, 4, ..., 0, 0, 0]), 513)"
      ]
     },
     "execution_count": 12,
     "metadata": {},
     "output_type": "execute_result"
    }
   ],
   "source": [
    "# test the function on the first english text\n",
    "\n",
    "test_encoded = encode_text(\n",
    "    text=dataframe[\"text_en\"][0], \n",
    "    word_to_index=EN_WORDS_TO_INDEX, \n",
    "    language=\"en\", \n",
    "    N=1400\n",
    "    )\n",
    "\n",
    "test_encoded"
   ]
  },
  {
   "cell_type": "code",
   "execution_count": 13,
   "metadata": {},
   "outputs": [
    {
     "name": "stderr",
     "output_type": "stream",
     "text": [
      "100%|██████████| 30825/30825 [00:49<00:00, 617.20it/s]\n",
      "100%|██████████| 30825/30825 [00:50<00:00, 606.70it/s]\n",
      "100%|██████████| 30825/30825 [00:54<00:00, 566.63it/s]\n",
      "100%|██████████| 30825/30825 [00:49<00:00, 625.32it/s]\n",
      "100%|██████████| 30825/30825 [00:50<00:00, 609.34it/s]\n"
     ]
    }
   ],
   "source": [
    "# finally, we can apply the function to the whole df, encoding all texts\n",
    "\n",
    "dataframe['text_en_enc'] = dataframe['text_en'].progress_apply(lambda x: np.array(encode_text(x, EN_WORDS_TO_INDEX, language=\"en\"), dtype=object))\n",
    "dataframe['text_de_enc'] = dataframe['text_de'].progress_apply(lambda x: np.array(encode_text(x, DE_WORDS_TO_INDEX, language=\"de\"), dtype=object))\n",
    "dataframe['text_it_enc'] = dataframe['text_it'].progress_apply(lambda x: np.array(encode_text(x, IT_WORDS_TO_INDEX, language=\"it\"), dtype=object))\n",
    "dataframe['text_pl_enc'] = dataframe['text_pl'].progress_apply(lambda x: np.array(encode_text(x, PL_WORDS_TO_INDEX, language=\"pl\"), dtype=object))\n",
    "dataframe['text_sv_enc'] = dataframe['text_sv'].progress_apply(lambda x: np.array(encode_text(x, SV_WORDS_TO_INDEX, language=\"sv\"), dtype=object))"
   ]
  },
  {
   "cell_type": "code",
   "execution_count": 14,
   "metadata": {},
   "outputs": [
    {
     "data": {
      "text/html": [
       "<div>\n",
       "<style scoped>\n",
       "    .dataframe tbody tr th:only-of-type {\n",
       "        vertical-align: middle;\n",
       "    }\n",
       "\n",
       "    .dataframe tbody tr th {\n",
       "        vertical-align: top;\n",
       "    }\n",
       "\n",
       "    .dataframe thead th {\n",
       "        text-align: right;\n",
       "    }\n",
       "</style>\n",
       "<table border=\"1\" class=\"dataframe\">\n",
       "  <thead>\n",
       "    <tr style=\"text-align: right;\">\n",
       "      <th></th>\n",
       "      <th>celex_id</th>\n",
       "      <th>labels</th>\n",
       "      <th>labels_new</th>\n",
       "      <th>text_en</th>\n",
       "      <th>text_de</th>\n",
       "      <th>text_it</th>\n",
       "      <th>text_pl</th>\n",
       "      <th>text_sv</th>\n",
       "      <th>text_en_enc</th>\n",
       "      <th>text_de_enc</th>\n",
       "      <th>text_it_enc</th>\n",
       "      <th>text_pl_enc</th>\n",
       "      <th>text_sv_enc</th>\n",
       "    </tr>\n",
       "  </thead>\n",
       "  <tbody>\n",
       "    <tr>\n",
       "      <th>0</th>\n",
       "      <td>32006D0213</td>\n",
       "      <td>1</td>\n",
       "      <td>1</td>\n",
       "      <td>commission decision of _number_ march _number_...</td>\n",
       "      <td>entscheidung der kommission vom _number_ marz ...</td>\n",
       "      <td>decisione della commissione del _number_ marzo...</td>\n",
       "      <td>decyzja komisji z dnia _number_ marca _number_...</td>\n",
       "      <td>kommissionens beslut av den _number_ mars _num...</td>\n",
       "      <td>[[2, 3, 4, 5, 6, 5, 7, 8, 9, 4, 10, 11, 12, 13...</td>\n",
       "      <td>[[2, 3, 4, 5, 6, 7, 6, 8, 9, 3, 10, 11, 12, 13...</td>\n",
       "      <td>[[2, 3, 4, 5, 6, 7, 6, 8, 9, 10, 11, 12, 13, 1...</td>\n",
       "      <td>[[2, 3, 4, 5, 6, 7, 6, 8, 9, 10, 11, 12, 13, 1...</td>\n",
       "      <td>[[2, 3, 4, 5, 6, 7, 6, 8, 9, 10, 11, 12, 13, 1...</td>\n",
       "    </tr>\n",
       "    <tr>\n",
       "      <th>1</th>\n",
       "      <td>32003R1786</td>\n",
       "      <td>3</td>\n",
       "      <td>3</td>\n",
       "      <td>council regulation ec no _number_ _number_ of ...</td>\n",
       "      <td>verordnung eg nr _number_ _number_ des rates v...</td>\n",
       "      <td>regolamento ce n _number_ _number_ del consigl...</td>\n",
       "      <td>rozporzadzenie rady we nr _number_ _number_ z ...</td>\n",
       "      <td>radets forordning eg nr _number_ _number_ av d...</td>\n",
       "      <td>[[133, 177, 34, 92, 5, 5, 4, 5, 178, 5, 44, 8,...</td>\n",
       "      <td>[[196, 31, 98, 6, 6, 42, 43, 5, 6, 197, 6, 49,...</td>\n",
       "      <td>[[219, 41, 110, 6, 6, 5, 53, 5, 6, 220, 6, 221...</td>\n",
       "      <td>[[242, 49, 39, 32, 6, 6, 4, 5, 6, 243, 6, 8, 1...</td>\n",
       "      <td>[[49, 189, 38, 33, 6, 6, 4, 5, 6, 190, 6, 8, 5...</td>\n",
       "    </tr>\n",
       "    <tr>\n",
       "      <th>2</th>\n",
       "      <td>32004R1038</td>\n",
       "      <td>3</td>\n",
       "      <td>3</td>\n",
       "      <td>commission regulation ec no _number_ _number_ ...</td>\n",
       "      <td>verordnung eg nr _number_ _number_ der kommiss...</td>\n",
       "      <td>regolamento ce n _number_ _number_ della commi...</td>\n",
       "      <td>rozporzadzenie komisji we nr _number_ _number_...</td>\n",
       "      <td>kommissionens forordning eg nr _number_ _numbe...</td>\n",
       "      <td>[[2, 177, 34, 92, 5, 5, 4, 5, 74, 5, 665, 8, 2...</td>\n",
       "      <td>[[196, 31, 98, 6, 6, 3, 4, 5, 6, 454, 6, 8, 78...</td>\n",
       "      <td>[[219, 41, 110, 6, 6, 3, 4, 5, 6, 471, 6, 8, 8...</td>\n",
       "      <td>[[242, 3, 39, 32, 6, 6, 4, 5, 6, 552, 6, 8, 10...</td>\n",
       "      <td>[[2, 189, 38, 33, 6, 6, 4, 5, 6, 442, 6, 8, 72...</td>\n",
       "    </tr>\n",
       "    <tr>\n",
       "      <th>3</th>\n",
       "      <td>32003R1012</td>\n",
       "      <td>2</td>\n",
       "      <td>2</td>\n",
       "      <td>commission regulation ec no _number_ _number_ ...</td>\n",
       "      <td>verordnung eg nr _number_ _number_ der kommiss...</td>\n",
       "      <td>regolamento ce n _number_ _number_ della commi...</td>\n",
       "      <td>rozporzadzenie komisji we nr _number_ _number_...</td>\n",
       "      <td>kommissionens forordning eg nr _number_ _numbe...</td>\n",
       "      <td>[[2, 177, 34, 92, 5, 5, 4, 5, 352, 5, 688, 14,...</td>\n",
       "      <td>[[196, 31, 98, 6, 6, 3, 4, 5, 6, 402, 6, 8, 80...</td>\n",
       "      <td>[[219, 41, 110, 6, 6, 3, 4, 5, 6, 417, 6, 418,...</td>\n",
       "      <td>[[242, 3, 39, 32, 6, 6, 4, 5, 6, 497, 6, 8, 11...</td>\n",
       "      <td>[[2, 189, 38, 33, 6, 6, 4, 5, 6, 397, 6, 8, 77...</td>\n",
       "    </tr>\n",
       "    <tr>\n",
       "      <th>4</th>\n",
       "      <td>32003R2229</td>\n",
       "      <td>18</td>\n",
       "      <td>11</td>\n",
       "      <td>council regulation ec no _number_ _number_ of ...</td>\n",
       "      <td>verordnung eg nr _number_ _number_ des rates v...</td>\n",
       "      <td>regolamento ce n _number_ _number_ del consigl...</td>\n",
       "      <td>rozporzadzenie rady we nr _number_ _number_ z ...</td>\n",
       "      <td>radets forordning eg nr _number_ _number_ av d...</td>\n",
       "      <td>[[133, 177, 34, 92, 5, 5, 4, 5, 43, 5, 690, 94...</td>\n",
       "      <td>[[196, 31, 98, 6, 6, 42, 43, 5, 6, 44, 6, 8, 8...</td>\n",
       "      <td>[[219, 41, 110, 6, 6, 5, 53, 5, 6, 54, 6, 8, 4...</td>\n",
       "      <td>[[242, 49, 39, 32, 6, 6, 4, 5, 6, 51, 6, 8, 11...</td>\n",
       "      <td>[[49, 189, 38, 33, 6, 6, 4, 5, 6, 52, 6, 8, 78...</td>\n",
       "    </tr>\n",
       "    <tr>\n",
       "      <th>...</th>\n",
       "      <td>...</td>\n",
       "      <td>...</td>\n",
       "      <td>...</td>\n",
       "      <td>...</td>\n",
       "      <td>...</td>\n",
       "      <td>...</td>\n",
       "      <td>...</td>\n",
       "      <td>...</td>\n",
       "      <td>...</td>\n",
       "      <td>...</td>\n",
       "      <td>...</td>\n",
       "      <td>...</td>\n",
       "      <td>...</td>\n",
       "    </tr>\n",
       "    <tr>\n",
       "      <th>30820</th>\n",
       "      <td>32011D0151</td>\n",
       "      <td>4</td>\n",
       "      <td>4</td>\n",
       "      <td>commission decision of _number_ march _number_...</td>\n",
       "      <td>beschluss der kommission vom _number_ marz _nu...</td>\n",
       "      <td>decisione della commissione del _number_ marzo...</td>\n",
       "      <td>decyzja komisji z dnia _number_ marca _number_...</td>\n",
       "      <td>kommissionens beslut av den _number_ mars _num...</td>\n",
       "      <td>[[2, 3, 4, 5, 6, 5, 688, 3, 5, 5, 34, 353, 354...</td>\n",
       "      <td>[[401, 3, 4, 5, 6, 7, 6, 8, 809, 3, 2, 6, 6, 3...</td>\n",
       "      <td>[[2, 3, 4, 5, 6, 7, 6, 8, 850, 42, 2, 6, 6, 41...</td>\n",
       "      <td>[[2, 3, 4, 5, 6, 7, 6, 8, 2486, 209, 6, 6, 39,...</td>\n",
       "      <td>[[2, 3, 4, 5, 6, 7, 6, 8, 778, 4, 3, 6, 6, 38,...</td>\n",
       "    </tr>\n",
       "    <tr>\n",
       "      <th>30821</th>\n",
       "      <td>32010D0256</td>\n",
       "      <td>12</td>\n",
       "      <td>9</td>\n",
       "      <td>commission decision of _number_ april _number_...</td>\n",
       "      <td>beschluss der kommission vom _number_ april _n...</td>\n",
       "      <td>decisione della commissione del _number_ april...</td>\n",
       "      <td>decyzja komisji z dnia _number_ kwietnia _numb...</td>\n",
       "      <td>kommissionens beslut av den _number_ april _nu...</td>\n",
       "      <td>[[2, 3, 4, 5, 248, 5, 688, 3, 5, 5, 42, 18, 19...</td>\n",
       "      <td>[[401, 3, 4, 5, 6, 275, 6, 8, 809, 3, 2, 6, 6,...</td>\n",
       "      <td>[[2, 3, 4, 5, 6, 300, 6, 418, 850, 3, 2, 6, 6,...</td>\n",
       "      <td>[[2, 3, 4, 5, 6, 343, 6, 8, 2486, 209, 6, 6, 5...</td>\n",
       "      <td>[[2, 3, 4, 5, 6, 265, 6, 8, 778, 4, 3, 6, 6, 5...</td>\n",
       "    </tr>\n",
       "    <tr>\n",
       "      <th>30822</th>\n",
       "      <td>32010D0177</td>\n",
       "      <td>1</td>\n",
       "      <td>1</td>\n",
       "      <td>commission decision of _number_ march _number_...</td>\n",
       "      <td>beschluss der kommission vom _number_ marz _nu...</td>\n",
       "      <td>decisione della commissione del _number_ marzo...</td>\n",
       "      <td>decyzja komisji z dnia _number_ marca _number_...</td>\n",
       "      <td>kommissionens beslut av den _number_ mars _num...</td>\n",
       "      <td>[[2, 3, 4, 5, 6, 5, 688, 3, 5, 5, 34, 112, 223...</td>\n",
       "      <td>[[401, 3, 4, 5, 6, 7, 6, 8, 809, 42, 736, 6, 6...</td>\n",
       "      <td>[[2, 3, 4, 5, 6, 7, 6, 8, 850, 42, 2, 6, 6, 41...</td>\n",
       "      <td>[[2, 3, 4, 5, 6, 7, 6, 8, 2486, 209, 6, 6, 39,...</td>\n",
       "      <td>[[2, 3, 4, 5, 6, 7, 6, 8, 778, 4, 3, 6, 6, 38,...</td>\n",
       "    </tr>\n",
       "    <tr>\n",
       "      <th>30823</th>\n",
       "      <td>32012R0307</td>\n",
       "      <td>0</td>\n",
       "      <td>0</td>\n",
       "      <td>commission implementing regulation eu no _numb...</td>\n",
       "      <td>durchfuhrungsverordnung eu nr _number_ _number...</td>\n",
       "      <td>regolamento di esecuzione ue n _number_ _numbe...</td>\n",
       "      <td>rozporzadzenie wykonawcze komisji ue nr _numbe...</td>\n",
       "      <td>kommissionens genomforandeforordning eu nr _nu...</td>\n",
       "      <td>[[2, 132, 177, 856, 92, 5, 5, 4, 5, 248, 5, 7,...</td>\n",
       "      <td>[[15611, 1010, 98, 6, 6, 3, 4, 5, 6, 275, 6, 8...</td>\n",
       "      <td>[[219, 12, 422, 1042, 110, 6, 6, 3, 4, 155, 6,...</td>\n",
       "      <td>[[242, 4085, 3, 1367, 32, 6, 6, 4, 5, 6, 343, ...</td>\n",
       "      <td>[[2, 54694, 974, 33, 6, 6, 4, 5, 6, 265, 6, 8,...</td>\n",
       "    </tr>\n",
       "    <tr>\n",
       "      <th>30824</th>\n",
       "      <td>32011R0327</td>\n",
       "      <td>1</td>\n",
       "      <td>1</td>\n",
       "      <td>commission regulation eu no _number_ _number_ ...</td>\n",
       "      <td>verordnung eu nr _number_ _number_ der kommiss...</td>\n",
       "      <td>regolamento ue n _number_ _number_ della commi...</td>\n",
       "      <td>rozporzadzenie komisji ue nr _number_ _number_...</td>\n",
       "      <td>kommissionens forordning eu nr _number_ _numbe...</td>\n",
       "      <td>[[2, 177, 856, 92, 5, 5, 4, 5, 6, 5, 132, 41, ...</td>\n",
       "      <td>[[196, 1010, 98, 6, 6, 3, 4, 5, 6, 7, 6, 8, 13...</td>\n",
       "      <td>[[219, 1042, 110, 6, 6, 3, 4, 5, 6, 7, 6, 418,...</td>\n",
       "      <td>[[242, 3, 1367, 32, 6, 6, 4, 5, 6, 7, 6, 8, 17...</td>\n",
       "      <td>[[2, 189, 974, 33, 6, 6, 4, 5, 6, 7, 6, 8, 186...</td>\n",
       "    </tr>\n",
       "  </tbody>\n",
       "</table>\n",
       "<p>30825 rows × 13 columns</p>\n",
       "</div>"
      ],
      "text/plain": [
       "         celex_id  labels  labels_new  \\\n",
       "0      32006D0213       1           1   \n",
       "1      32003R1786       3           3   \n",
       "2      32004R1038       3           3   \n",
       "3      32003R1012       2           2   \n",
       "4      32003R2229      18          11   \n",
       "...           ...     ...         ...   \n",
       "30820  32011D0151       4           4   \n",
       "30821  32010D0256      12           9   \n",
       "30822  32010D0177       1           1   \n",
       "30823  32012R0307       0           0   \n",
       "30824  32011R0327       1           1   \n",
       "\n",
       "                                                 text_en  \\\n",
       "0      commission decision of _number_ march _number_...   \n",
       "1      council regulation ec no _number_ _number_ of ...   \n",
       "2      commission regulation ec no _number_ _number_ ...   \n",
       "3      commission regulation ec no _number_ _number_ ...   \n",
       "4      council regulation ec no _number_ _number_ of ...   \n",
       "...                                                  ...   \n",
       "30820  commission decision of _number_ march _number_...   \n",
       "30821  commission decision of _number_ april _number_...   \n",
       "30822  commission decision of _number_ march _number_...   \n",
       "30823  commission implementing regulation eu no _numb...   \n",
       "30824  commission regulation eu no _number_ _number_ ...   \n",
       "\n",
       "                                                 text_de  \\\n",
       "0      entscheidung der kommission vom _number_ marz ...   \n",
       "1      verordnung eg nr _number_ _number_ des rates v...   \n",
       "2      verordnung eg nr _number_ _number_ der kommiss...   \n",
       "3      verordnung eg nr _number_ _number_ der kommiss...   \n",
       "4      verordnung eg nr _number_ _number_ des rates v...   \n",
       "...                                                  ...   \n",
       "30820  beschluss der kommission vom _number_ marz _nu...   \n",
       "30821  beschluss der kommission vom _number_ april _n...   \n",
       "30822  beschluss der kommission vom _number_ marz _nu...   \n",
       "30823  durchfuhrungsverordnung eu nr _number_ _number...   \n",
       "30824  verordnung eu nr _number_ _number_ der kommiss...   \n",
       "\n",
       "                                                 text_it  \\\n",
       "0      decisione della commissione del _number_ marzo...   \n",
       "1      regolamento ce n _number_ _number_ del consigl...   \n",
       "2      regolamento ce n _number_ _number_ della commi...   \n",
       "3      regolamento ce n _number_ _number_ della commi...   \n",
       "4      regolamento ce n _number_ _number_ del consigl...   \n",
       "...                                                  ...   \n",
       "30820  decisione della commissione del _number_ marzo...   \n",
       "30821  decisione della commissione del _number_ april...   \n",
       "30822  decisione della commissione del _number_ marzo...   \n",
       "30823  regolamento di esecuzione ue n _number_ _numbe...   \n",
       "30824  regolamento ue n _number_ _number_ della commi...   \n",
       "\n",
       "                                                 text_pl  \\\n",
       "0      decyzja komisji z dnia _number_ marca _number_...   \n",
       "1      rozporzadzenie rady we nr _number_ _number_ z ...   \n",
       "2      rozporzadzenie komisji we nr _number_ _number_...   \n",
       "3      rozporzadzenie komisji we nr _number_ _number_...   \n",
       "4      rozporzadzenie rady we nr _number_ _number_ z ...   \n",
       "...                                                  ...   \n",
       "30820  decyzja komisji z dnia _number_ marca _number_...   \n",
       "30821  decyzja komisji z dnia _number_ kwietnia _numb...   \n",
       "30822  decyzja komisji z dnia _number_ marca _number_...   \n",
       "30823  rozporzadzenie wykonawcze komisji ue nr _numbe...   \n",
       "30824  rozporzadzenie komisji ue nr _number_ _number_...   \n",
       "\n",
       "                                                 text_sv  \\\n",
       "0      kommissionens beslut av den _number_ mars _num...   \n",
       "1      radets forordning eg nr _number_ _number_ av d...   \n",
       "2      kommissionens forordning eg nr _number_ _numbe...   \n",
       "3      kommissionens forordning eg nr _number_ _numbe...   \n",
       "4      radets forordning eg nr _number_ _number_ av d...   \n",
       "...                                                  ...   \n",
       "30820  kommissionens beslut av den _number_ mars _num...   \n",
       "30821  kommissionens beslut av den _number_ april _nu...   \n",
       "30822  kommissionens beslut av den _number_ mars _num...   \n",
       "30823  kommissionens genomforandeforordning eu nr _nu...   \n",
       "30824  kommissionens forordning eu nr _number_ _numbe...   \n",
       "\n",
       "                                             text_en_enc  \\\n",
       "0      [[2, 3, 4, 5, 6, 5, 7, 8, 9, 4, 10, 11, 12, 13...   \n",
       "1      [[133, 177, 34, 92, 5, 5, 4, 5, 178, 5, 44, 8,...   \n",
       "2      [[2, 177, 34, 92, 5, 5, 4, 5, 74, 5, 665, 8, 2...   \n",
       "3      [[2, 177, 34, 92, 5, 5, 4, 5, 352, 5, 688, 14,...   \n",
       "4      [[133, 177, 34, 92, 5, 5, 4, 5, 43, 5, 690, 94...   \n",
       "...                                                  ...   \n",
       "30820  [[2, 3, 4, 5, 6, 5, 688, 3, 5, 5, 34, 353, 354...   \n",
       "30821  [[2, 3, 4, 5, 248, 5, 688, 3, 5, 5, 42, 18, 19...   \n",
       "30822  [[2, 3, 4, 5, 6, 5, 688, 3, 5, 5, 34, 112, 223...   \n",
       "30823  [[2, 132, 177, 856, 92, 5, 5, 4, 5, 248, 5, 7,...   \n",
       "30824  [[2, 177, 856, 92, 5, 5, 4, 5, 6, 5, 132, 41, ...   \n",
       "\n",
       "                                             text_de_enc  \\\n",
       "0      [[2, 3, 4, 5, 6, 7, 6, 8, 9, 3, 10, 11, 12, 13...   \n",
       "1      [[196, 31, 98, 6, 6, 42, 43, 5, 6, 197, 6, 49,...   \n",
       "2      [[196, 31, 98, 6, 6, 3, 4, 5, 6, 454, 6, 8, 78...   \n",
       "3      [[196, 31, 98, 6, 6, 3, 4, 5, 6, 402, 6, 8, 80...   \n",
       "4      [[196, 31, 98, 6, 6, 42, 43, 5, 6, 44, 6, 8, 8...   \n",
       "...                                                  ...   \n",
       "30820  [[401, 3, 4, 5, 6, 7, 6, 8, 809, 3, 2, 6, 6, 3...   \n",
       "30821  [[401, 3, 4, 5, 6, 275, 6, 8, 809, 3, 2, 6, 6,...   \n",
       "30822  [[401, 3, 4, 5, 6, 7, 6, 8, 809, 42, 736, 6, 6...   \n",
       "30823  [[15611, 1010, 98, 6, 6, 3, 4, 5, 6, 275, 6, 8...   \n",
       "30824  [[196, 1010, 98, 6, 6, 3, 4, 5, 6, 7, 6, 8, 13...   \n",
       "\n",
       "                                             text_it_enc  \\\n",
       "0      [[2, 3, 4, 5, 6, 7, 6, 8, 9, 10, 11, 12, 13, 1...   \n",
       "1      [[219, 41, 110, 6, 6, 5, 53, 5, 6, 220, 6, 221...   \n",
       "2      [[219, 41, 110, 6, 6, 3, 4, 5, 6, 471, 6, 8, 8...   \n",
       "3      [[219, 41, 110, 6, 6, 3, 4, 5, 6, 417, 6, 418,...   \n",
       "4      [[219, 41, 110, 6, 6, 5, 53, 5, 6, 54, 6, 8, 4...   \n",
       "...                                                  ...   \n",
       "30820  [[2, 3, 4, 5, 6, 7, 6, 8, 850, 42, 2, 6, 6, 41...   \n",
       "30821  [[2, 3, 4, 5, 6, 300, 6, 418, 850, 3, 2, 6, 6,...   \n",
       "30822  [[2, 3, 4, 5, 6, 7, 6, 8, 850, 42, 2, 6, 6, 41...   \n",
       "30823  [[219, 12, 422, 1042, 110, 6, 6, 3, 4, 155, 6,...   \n",
       "30824  [[219, 1042, 110, 6, 6, 3, 4, 5, 6, 7, 6, 418,...   \n",
       "\n",
       "                                             text_pl_enc  \\\n",
       "0      [[2, 3, 4, 5, 6, 7, 6, 8, 9, 10, 11, 12, 13, 1...   \n",
       "1      [[242, 49, 39, 32, 6, 6, 4, 5, 6, 243, 6, 8, 1...   \n",
       "2      [[242, 3, 39, 32, 6, 6, 4, 5, 6, 552, 6, 8, 10...   \n",
       "3      [[242, 3, 39, 32, 6, 6, 4, 5, 6, 497, 6, 8, 11...   \n",
       "4      [[242, 49, 39, 32, 6, 6, 4, 5, 6, 51, 6, 8, 11...   \n",
       "...                                                  ...   \n",
       "30820  [[2, 3, 4, 5, 6, 7, 6, 8, 2486, 209, 6, 6, 39,...   \n",
       "30821  [[2, 3, 4, 5, 6, 343, 6, 8, 2486, 209, 6, 6, 5...   \n",
       "30822  [[2, 3, 4, 5, 6, 7, 6, 8, 2486, 209, 6, 6, 39,...   \n",
       "30823  [[242, 4085, 3, 1367, 32, 6, 6, 4, 5, 6, 343, ...   \n",
       "30824  [[242, 3, 1367, 32, 6, 6, 4, 5, 6, 7, 6, 8, 17...   \n",
       "\n",
       "                                             text_sv_enc  \n",
       "0      [[2, 3, 4, 5, 6, 7, 6, 8, 9, 10, 11, 12, 13, 1...  \n",
       "1      [[49, 189, 38, 33, 6, 6, 4, 5, 6, 190, 6, 8, 5...  \n",
       "2      [[2, 189, 38, 33, 6, 6, 4, 5, 6, 442, 6, 8, 72...  \n",
       "3      [[2, 189, 38, 33, 6, 6, 4, 5, 6, 397, 6, 8, 77...  \n",
       "4      [[49, 189, 38, 33, 6, 6, 4, 5, 6, 52, 6, 8, 78...  \n",
       "...                                                  ...  \n",
       "30820  [[2, 3, 4, 5, 6, 7, 6, 8, 778, 4, 3, 6, 6, 38,...  \n",
       "30821  [[2, 3, 4, 5, 6, 265, 6, 8, 778, 4, 3, 6, 6, 5...  \n",
       "30822  [[2, 3, 4, 5, 6, 7, 6, 8, 778, 4, 3, 6, 6, 38,...  \n",
       "30823  [[2, 54694, 974, 33, 6, 6, 4, 5, 6, 265, 6, 8,...  \n",
       "30824  [[2, 189, 974, 33, 6, 6, 4, 5, 6, 7, 6, 8, 186...  \n",
       "\n",
       "[30825 rows x 13 columns]"
      ]
     },
     "execution_count": 14,
     "metadata": {},
     "output_type": "execute_result"
    }
   ],
   "source": [
    "# show df\n",
    "dataframe"
   ]
  },
  {
   "cell_type": "markdown",
   "metadata": {},
   "source": [
    "#### **Train, Test and Validation splits**\n",
    "\n",
    "We split the dataset into:\n",
    "- training set\n",
    "- validation set\n",
    "- test set"
   ]
  },
  {
   "cell_type": "code",
   "execution_count": 15,
   "metadata": {},
   "outputs": [],
   "source": [
    "from sklearn.model_selection import train_test_split\n",
    "\n",
    "# SPLIT 1: train [0.8] and test [0.2]\n",
    "\n",
    "# execute the split (randomly, stratified fashion)\n",
    "train_indexes, test_indexes, _, _ = train_test_split(\n",
    "    dataframe[\"text_en_enc\"],\n",
    "    dataframe[\"labels_new\"],\n",
    "    test_size=0.2,\n",
    "    random_state=42\n",
    ")\n",
    "\n",
    "# create placeholder\n",
    "dataframe[\"set\"] = \"not specified\"\n",
    "\n",
    "# set value based on stratified split\n",
    "dataframe.loc[train_indexes.index, \"set\"] = \"train\"\n",
    "dataframe.loc[test_indexes.index, \"set\"] = \"test\"\n",
    "\n",
    "\n",
    "# SPLIT 2: we split train again in order to obtain the validation set\n",
    "\n",
    "train_indexes, val_indexes, _, _ = train_test_split(\n",
    "    dataframe.loc[dataframe[\"set\"] == \"train\"][\"text_en_enc\"],\n",
    "    dataframe.loc[dataframe[\"set\"] == \"train\"][\"labels_new\"],\n",
    "    test_size=0.2,\n",
    "    random_state=42\n",
    ")\n",
    "\n",
    "# update dataset with validation info\n",
    "dataframe.loc[val_indexes.index, \"set\"] = \"validation\""
   ]
  },
  {
   "cell_type": "markdown",
   "metadata": {},
   "source": [
    "*How many observations for each set?*"
   ]
  },
  {
   "cell_type": "code",
   "execution_count": 16,
   "metadata": {},
   "outputs": [
    {
     "data": {
      "text/plain": [
       "Counter({'train': 19728, 'test': 6165, 'validation': 4932})"
      ]
     },
     "execution_count": 16,
     "metadata": {},
     "output_type": "execute_result"
    }
   ],
   "source": [
    "Counter(dataframe['set'])"
   ]
  },
  {
   "cell_type": "markdown",
   "metadata": {},
   "source": [
    "#### **Save preprocessed texts**\n",
    "\n",
    "We save the data in pickle format in order to preserve the column types."
   ]
  },
  {
   "cell_type": "code",
   "execution_count": 17,
   "metadata": {},
   "outputs": [
    {
     "name": "stdout",
     "output_type": "stream",
     "text": [
      "> All done!\n"
     ]
    }
   ],
   "source": [
    "dataframe.to_pickle(\"../data/3_multi_eurlex_encoded.pkl\")\n",
    "print(\"> All done!\")"
   ]
  }
 ],
 "metadata": {
  "interpreter": {
   "hash": "455534d435f7de67bc0026f9ceba702b21954bd7ad83505586b95ef58f556ae5"
  },
  "kernelspec": {
   "display_name": "Python 3.9.12 ('NLP_2022')",
   "language": "python",
   "name": "python3"
  },
  "language_info": {
   "codemirror_mode": {
    "name": "ipython",
    "version": 3
   },
   "file_extension": ".py",
   "mimetype": "text/x-python",
   "name": "python",
   "nbconvert_exporter": "python",
   "pygments_lexer": "ipython3",
   "version": "3.9.12"
  },
  "orig_nbformat": 4
 },
 "nbformat": 4,
 "nbformat_minor": 2
}
