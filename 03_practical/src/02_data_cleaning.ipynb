{
 "cells": [
  {
   "cell_type": "markdown",
   "metadata": {},
   "source": [
    "## **NLP Practical**\n",
    "\n",
    "### **Cleaning the Dataset**\n",
    "\n",
    "After obtaining the dataset with the texts to be classified in 5 different languages, we have to preprocess it. "
   ]
  },
  {
   "cell_type": "markdown",
   "metadata": {},
   "source": [
    "#### **Libraries**\n",
    "\n",
    "We import the necessary libraries for the notebook."
   ]
  },
  {
   "cell_type": "code",
   "execution_count": 10,
   "metadata": {},
   "outputs": [
    {
     "name": "stdout",
     "output_type": "stream",
     "text": [
      "> Libraries Imported\n"
     ]
    }
   ],
   "source": [
    "# general\n",
    "import pandas as pd\n",
    "from tqdm import tqdm\n",
    "tqdm.pandas()\n",
    "\n",
    "# string manipulation\n",
    "import re\n",
    "import unidecode\n",
    "\n",
    "print(\"> Libraries Imported\")"
   ]
  },
  {
   "cell_type": "markdown",
   "metadata": {},
   "source": [
    "#### **Import the dataset**\n",
    "\n",
    "We can simply read our custom csv. "
   ]
  },
  {
   "cell_type": "code",
   "execution_count": 2,
   "metadata": {},
   "outputs": [
    {
     "data": {
      "text/html": [
       "<div>\n",
       "<style scoped>\n",
       "    .dataframe tbody tr th:only-of-type {\n",
       "        vertical-align: middle;\n",
       "    }\n",
       "\n",
       "    .dataframe tbody tr th {\n",
       "        vertical-align: top;\n",
       "    }\n",
       "\n",
       "    .dataframe thead th {\n",
       "        text-align: right;\n",
       "    }\n",
       "</style>\n",
       "<table border=\"1\" class=\"dataframe\">\n",
       "  <thead>\n",
       "    <tr style=\"text-align: right;\">\n",
       "      <th></th>\n",
       "      <th>celex_id</th>\n",
       "      <th>labels</th>\n",
       "      <th>text_en</th>\n",
       "      <th>text_de</th>\n",
       "      <th>text_it</th>\n",
       "      <th>text_pl</th>\n",
       "      <th>text_sv</th>\n",
       "    </tr>\n",
       "  </thead>\n",
       "  <tbody>\n",
       "    <tr>\n",
       "      <th>0</th>\n",
       "      <td>32006D0213</td>\n",
       "      <td>[1, 20, 7, 3, 0]</td>\n",
       "      <td>COMMISSION DECISION\\nof 6 March 2006\\nestablis...</td>\n",
       "      <td>ENTSCHEIDUNG DER KOMMISSION\\nvom 6. März 2006\\...</td>\n",
       "      <td>DECISIONE DELLA COMMISSIONE\\ndel 6 marzo 2006\\...</td>\n",
       "      <td>DECYZJA KOMISJI\\nz dnia 6 marca 2006 r.\\nustan...</td>\n",
       "      <td>KOMMISSIONENS BESLUT\\nav den 6 mars 2006\\nom i...</td>\n",
       "    </tr>\n",
       "    <tr>\n",
       "      <th>1</th>\n",
       "      <td>32003R1786</td>\n",
       "      <td>[3, 19, 6]</td>\n",
       "      <td>Council Regulation (EC) No 1786/2003\\nof 29 Se...</td>\n",
       "      <td>Verordnung (EG) Nr. 1786/2003 des Rates\\nvom 2...</td>\n",
       "      <td>Regolamento (CE) n. 1786/2003 del Consiglio\\nd...</td>\n",
       "      <td>Rozporządzenie Rady (WE) nr 1786/2003\\nz dnia ...</td>\n",
       "      <td>Rådets förordning (EG) nr 1786/2003\\nav den 29...</td>\n",
       "    </tr>\n",
       "    <tr>\n",
       "      <th>2</th>\n",
       "      <td>32004R1038</td>\n",
       "      <td>[3, 17, 5]</td>\n",
       "      <td>COMMISSION REGULATION (EC) No 1038/2004\\nof 27...</td>\n",
       "      <td>VERORDNUNG (EG) Nr. 1038/2004 DER KOMMISSION\\n...</td>\n",
       "      <td>REGOLAMENTO (CE) N. 1038/2004 DELLA COMMISSION...</td>\n",
       "      <td>ROZPORZĄDZENIE KOMISJI (WE) NR 1038/2004\\nz dn...</td>\n",
       "      <td>KOMMISSIONENS FÖRORDNING (EG) nr 1038/2004\\nav...</td>\n",
       "    </tr>\n",
       "    <tr>\n",
       "      <th>3</th>\n",
       "      <td>32003R1012</td>\n",
       "      <td>[2, 5, 10, 8, 3, 18, 15]</td>\n",
       "      <td>Commission Regulation (EC) No 1012/2003\\nof 12...</td>\n",
       "      <td>Verordnung (EG) Nr. 1012/2003 der Kommission\\n...</td>\n",
       "      <td>Regolamento (CE) n. 1012/2003 della Commission...</td>\n",
       "      <td>Rozporządzenie Komisji (WE) nr 1012/2003\\nz dn...</td>\n",
       "      <td>Kommissionens förordning (EG) nr 1012/2003\\nav...</td>\n",
       "    </tr>\n",
       "    <tr>\n",
       "      <th>4</th>\n",
       "      <td>32003R2229</td>\n",
       "      <td>[18, 3, 4, 1]</td>\n",
       "      <td>Council Regulation (EC) No 2229/2003\\nof 22 De...</td>\n",
       "      <td>Verordnung (EG) Nr. 2229/2003 des Rates\\nvom 2...</td>\n",
       "      <td>Regolamento (CE) n. 2229/2003 del Consiglio\\nd...</td>\n",
       "      <td>Rozporządzenie Rady (WE) nr 2229/2003\\nz dnia ...</td>\n",
       "      <td>Rådets förordning (EG) nr 2229/2003\\nav den 22...</td>\n",
       "    </tr>\n",
       "    <tr>\n",
       "      <th>...</th>\n",
       "      <td>...</td>\n",
       "      <td>...</td>\n",
       "      <td>...</td>\n",
       "      <td>...</td>\n",
       "      <td>...</td>\n",
       "      <td>...</td>\n",
       "      <td>...</td>\n",
       "    </tr>\n",
       "    <tr>\n",
       "      <th>32935</th>\n",
       "      <td>32011D0151</td>\n",
       "      <td>[4, 11, 5, 0, 12, 15]</td>\n",
       "      <td>COMMISSION DECISION\\nof 3 March 2011\\namending...</td>\n",
       "      <td>BESCHLUSS DER KOMMISSION\\nvom 3. März 2011\\nzu...</td>\n",
       "      <td>DECISIONE DELLA COMMISSIONE\\ndel 3 marzo 2011\\...</td>\n",
       "      <td>DECYZJA KOMISJI\\nz dnia 3 marca 2011 r.\\nzmien...</td>\n",
       "      <td>KOMMISSIONENS BESLUT\\nav den 3 mars 2011\\nom ä...</td>\n",
       "    </tr>\n",
       "    <tr>\n",
       "      <th>32936</th>\n",
       "      <td>32010D0256</td>\n",
       "      <td>[12, 0, 6]</td>\n",
       "      <td>COMMISSION DECISION\\nof 30 April 2010\\namendin...</td>\n",
       "      <td>BESCHLUSS DER KOMMISSION\\nvom 30. April 2010\\n...</td>\n",
       "      <td>DECISIONE DELLA COMMISSIONE\\ndel 30 aprile 201...</td>\n",
       "      <td>DECYZJA KOMISJI\\nz dnia 30 kwietnia 2010 r.\\nz...</td>\n",
       "      <td>KOMMISSIONENS BESLUT\\nav den 30 april 2010\\nom...</td>\n",
       "    </tr>\n",
       "    <tr>\n",
       "      <th>32937</th>\n",
       "      <td>32010D0177</td>\n",
       "      <td>[1, 4, 0, 3, 18]</td>\n",
       "      <td>COMMISSION DECISION\\nof 23 March 2010\\namendin...</td>\n",
       "      <td>BESCHLUSS DER KOMMISSION\\nvom 23. März 2010\\nz...</td>\n",
       "      <td>DECISIONE DELLA COMMISSIONE\\ndel 23 marzo 2010...</td>\n",
       "      <td>DECYZJA KOMISJI\\nz dnia 23 marca 2010 r.\\nzmie...</td>\n",
       "      <td>KOMMISSIONENS BESLUT\\nav den 23 mars 2010\\nom ...</td>\n",
       "    </tr>\n",
       "    <tr>\n",
       "      <th>32938</th>\n",
       "      <td>32012R0307</td>\n",
       "      <td>[0, 3, 17, 15]</td>\n",
       "      <td>COMMISSION IMPLEMENTING REGULATION (EU) No 307...</td>\n",
       "      <td>DURCHFÜHRUNGSVERORDNUNG (EU) Nr. 307/2012 DER ...</td>\n",
       "      <td>REGOLAMENTO DI ESECUZIONE (UE) N. 307/2012 DEL...</td>\n",
       "      <td>ROZPORZĄDZENIE WYKONAWCZE KOMISJI (UE) NR 307/...</td>\n",
       "      <td>KOMMISSIONENS GENOMFÖRANDEFÖRORDNING (EU) nr 3...</td>\n",
       "    </tr>\n",
       "    <tr>\n",
       "      <th>32939</th>\n",
       "      <td>32011R0327</td>\n",
       "      <td>[1, 14, 20, 7, 3]</td>\n",
       "      <td>COMMISSION REGULATION (EU) No 327/2011\\nof 30 ...</td>\n",
       "      <td>VERORDNUNG (EU) Nr. 327/2011 DER KOMMISSION\\nv...</td>\n",
       "      <td>REGOLAMENTO (UE) N. 327/2011 DELLA COMMISSIONE...</td>\n",
       "      <td>ROZPORZĄDZENIE KOMISJI (UE) NR 327/2011\\nz dni...</td>\n",
       "      <td>KOMMISSIONENS FÖRORDNING (EU) nr 327/2011\\nav ...</td>\n",
       "    </tr>\n",
       "  </tbody>\n",
       "</table>\n",
       "<p>32940 rows × 7 columns</p>\n",
       "</div>"
      ],
      "text/plain": [
       "         celex_id                    labels  \\\n",
       "0      32006D0213          [1, 20, 7, 3, 0]   \n",
       "1      32003R1786                [3, 19, 6]   \n",
       "2      32004R1038                [3, 17, 5]   \n",
       "3      32003R1012  [2, 5, 10, 8, 3, 18, 15]   \n",
       "4      32003R2229             [18, 3, 4, 1]   \n",
       "...           ...                       ...   \n",
       "32935  32011D0151     [4, 11, 5, 0, 12, 15]   \n",
       "32936  32010D0256                [12, 0, 6]   \n",
       "32937  32010D0177          [1, 4, 0, 3, 18]   \n",
       "32938  32012R0307            [0, 3, 17, 15]   \n",
       "32939  32011R0327         [1, 14, 20, 7, 3]   \n",
       "\n",
       "                                                 text_en  \\\n",
       "0      COMMISSION DECISION\\nof 6 March 2006\\nestablis...   \n",
       "1      Council Regulation (EC) No 1786/2003\\nof 29 Se...   \n",
       "2      COMMISSION REGULATION (EC) No 1038/2004\\nof 27...   \n",
       "3      Commission Regulation (EC) No 1012/2003\\nof 12...   \n",
       "4      Council Regulation (EC) No 2229/2003\\nof 22 De...   \n",
       "...                                                  ...   \n",
       "32935  COMMISSION DECISION\\nof 3 March 2011\\namending...   \n",
       "32936  COMMISSION DECISION\\nof 30 April 2010\\namendin...   \n",
       "32937  COMMISSION DECISION\\nof 23 March 2010\\namendin...   \n",
       "32938  COMMISSION IMPLEMENTING REGULATION (EU) No 307...   \n",
       "32939  COMMISSION REGULATION (EU) No 327/2011\\nof 30 ...   \n",
       "\n",
       "                                                 text_de  \\\n",
       "0      ENTSCHEIDUNG DER KOMMISSION\\nvom 6. März 2006\\...   \n",
       "1      Verordnung (EG) Nr. 1786/2003 des Rates\\nvom 2...   \n",
       "2      VERORDNUNG (EG) Nr. 1038/2004 DER KOMMISSION\\n...   \n",
       "3      Verordnung (EG) Nr. 1012/2003 der Kommission\\n...   \n",
       "4      Verordnung (EG) Nr. 2229/2003 des Rates\\nvom 2...   \n",
       "...                                                  ...   \n",
       "32935  BESCHLUSS DER KOMMISSION\\nvom 3. März 2011\\nzu...   \n",
       "32936  BESCHLUSS DER KOMMISSION\\nvom 30. April 2010\\n...   \n",
       "32937  BESCHLUSS DER KOMMISSION\\nvom 23. März 2010\\nz...   \n",
       "32938  DURCHFÜHRUNGSVERORDNUNG (EU) Nr. 307/2012 DER ...   \n",
       "32939  VERORDNUNG (EU) Nr. 327/2011 DER KOMMISSION\\nv...   \n",
       "\n",
       "                                                 text_it  \\\n",
       "0      DECISIONE DELLA COMMISSIONE\\ndel 6 marzo 2006\\...   \n",
       "1      Regolamento (CE) n. 1786/2003 del Consiglio\\nd...   \n",
       "2      REGOLAMENTO (CE) N. 1038/2004 DELLA COMMISSION...   \n",
       "3      Regolamento (CE) n. 1012/2003 della Commission...   \n",
       "4      Regolamento (CE) n. 2229/2003 del Consiglio\\nd...   \n",
       "...                                                  ...   \n",
       "32935  DECISIONE DELLA COMMISSIONE\\ndel 3 marzo 2011\\...   \n",
       "32936  DECISIONE DELLA COMMISSIONE\\ndel 30 aprile 201...   \n",
       "32937  DECISIONE DELLA COMMISSIONE\\ndel 23 marzo 2010...   \n",
       "32938  REGOLAMENTO DI ESECUZIONE (UE) N. 307/2012 DEL...   \n",
       "32939  REGOLAMENTO (UE) N. 327/2011 DELLA COMMISSIONE...   \n",
       "\n",
       "                                                 text_pl  \\\n",
       "0      DECYZJA KOMISJI\\nz dnia 6 marca 2006 r.\\nustan...   \n",
       "1      Rozporządzenie Rady (WE) nr 1786/2003\\nz dnia ...   \n",
       "2      ROZPORZĄDZENIE KOMISJI (WE) NR 1038/2004\\nz dn...   \n",
       "3      Rozporządzenie Komisji (WE) nr 1012/2003\\nz dn...   \n",
       "4      Rozporządzenie Rady (WE) nr 2229/2003\\nz dnia ...   \n",
       "...                                                  ...   \n",
       "32935  DECYZJA KOMISJI\\nz dnia 3 marca 2011 r.\\nzmien...   \n",
       "32936  DECYZJA KOMISJI\\nz dnia 30 kwietnia 2010 r.\\nz...   \n",
       "32937  DECYZJA KOMISJI\\nz dnia 23 marca 2010 r.\\nzmie...   \n",
       "32938  ROZPORZĄDZENIE WYKONAWCZE KOMISJI (UE) NR 307/...   \n",
       "32939  ROZPORZĄDZENIE KOMISJI (UE) NR 327/2011\\nz dni...   \n",
       "\n",
       "                                                 text_sv  \n",
       "0      KOMMISSIONENS BESLUT\\nav den 6 mars 2006\\nom i...  \n",
       "1      Rådets förordning (EG) nr 1786/2003\\nav den 29...  \n",
       "2      KOMMISSIONENS FÖRORDNING (EG) nr 1038/2004\\nav...  \n",
       "3      Kommissionens förordning (EG) nr 1012/2003\\nav...  \n",
       "4      Rådets förordning (EG) nr 2229/2003\\nav den 22...  \n",
       "...                                                  ...  \n",
       "32935  KOMMISSIONENS BESLUT\\nav den 3 mars 2011\\nom ä...  \n",
       "32936  KOMMISSIONENS BESLUT\\nav den 30 april 2010\\nom...  \n",
       "32937  KOMMISSIONENS BESLUT\\nav den 23 mars 2010\\nom ...  \n",
       "32938  KOMMISSIONENS GENOMFÖRANDEFÖRORDNING (EU) nr 3...  \n",
       "32939  KOMMISSIONENS FÖRORDNING (EU) nr 327/2011\\nav ...  \n",
       "\n",
       "[32940 rows x 7 columns]"
      ]
     },
     "execution_count": 2,
     "metadata": {},
     "output_type": "execute_result"
    }
   ],
   "source": [
    "dataframe_complete = pd.read_csv(\"../data/0_multi_eurlex_custom.csv\")\n",
    "dataframe_complete"
   ]
  },
  {
   "cell_type": "markdown",
   "metadata": {},
   "source": [
    "#### **Clean the texts**\n",
    "\n",
    "First, let's inspect some texts."
   ]
  },
  {
   "cell_type": "code",
   "execution_count": 3,
   "metadata": {},
   "outputs": [
    {
     "data": {
      "text/plain": [
       "'COMMISSION DECISION\\nof 6 March 2006\\nestablishing the classes of reaction-to-fire performance for certain construction products as regards wood flooring and solid wood panelling and cladding\\n(notified under document number C(2006) 655)\\n(Text with EEA relevance)\\n(2006/213/EC)\\nTHE COMMISSION OF THE EUROPEAN COMMUNITIES,\\nHaving regard to the Treaty establishing the European Community,\\nHaving regard to Directive 89/106/EEC of 21 December 1988, on the approximation of laws, regulations and administrative provisions of the Member States relating to construction products (1), and in particular Article 20(2) thereof,\\nWhereas:\\n(1)\\nDirective 89/106/EEC envisages that in order to take account of different levels of protection for construction works at national, regional or local level, it may be necessary to establish in the interpretative documents classes corresponding to the performance of products in respect of each essential requirement. Those documents have been published as the ‘Communication of the Commission with regard to the interpretative documents of Directive 89/106/EEC’ (2).\\n(2)\\nWith respect to the essential requirement of safety in the event of fire, interpretative document No 2 lists a number of interrelated measures which together define the fire safety strategy to be variously developed in the Member States.\\n(3)\\nInterpretative document No 2 identifies one of those measures as the limitation of the generation and spread of fire and smoke within a given area by limiting the potential of construction products to contribute to the full development of a fire.\\n(4)\\nThe level of that limitation may be expressed only in terms of the different levels of reaction-to-fire performance of the products in their end-use application;\\n(5)\\nBy way of harmonised solution, a system of classes was adopted in Commission Decision 2000/147/EC of 8 February 2000 implementing Council Directive 89/106/EEC as regards the classification of the reaction-to-fire performance of construction products (3).\\n(6)\\nIn the case of wood flooring and solid wood panelling and cladding it is necessary to use the classification established in Decision 2000/147/EC.\\n(7)\\nThe reaction-to-fire performance of many construction products and/or materials, within the classification provided for in Decision 2000/147/EC, is well established and sufficiently well known to fire regulators in Member States that they do not require testing for this particular performance characteristic.\\n(8)\\nThe measures provided for in this Decision are in accordance with the opinion of the Standing Committee on Construction,\\nHAS ADOPTED THIS DECISION:\\nArticle 1\\nThe construction products and/or materials which satisfy all the requirements of the performance characteristic ‘reaction to fire’ without need for further testing are set out in the Annex.\\nArticle 2\\nThe specific classes to be applied to different construction products and/or materials, within the reaction-to-fire classification adopted in Decision 2000/147/EC, are set out in the Annex to this Decision.\\nArticle 3\\nProducts shall be considered in relation to their end-use application, where relevant.\\nArticle 4\\nThis Decision is addressed to the Member States.\\nDone at Brussels, 6 March 2006.'"
      ]
     },
     "execution_count": 3,
     "metadata": {},
     "output_type": "execute_result"
    }
   ],
   "source": [
    "dataframe_complete[\"text_en\"][0]"
   ]
  },
  {
   "cell_type": "markdown",
   "metadata": {},
   "source": [
    "There do not seem to be any particular problems, except for the special character *'\\n'*, which we can simply replace with a space.\n",
    "\n",
    "We can also remove the punctuation, as well as replace all numbers with a keyword."
   ]
  },
  {
   "cell_type": "markdown",
   "metadata": {},
   "source": [
    "**Note**\n",
    "\n",
    "Usually, stopwords are removed and stemming or lemmatisation is applied. However, this would require knowing the list of stopwords for each language, along with specific dictionaries for stemming or lemmatization.\n",
    "\n",
    "For now, we decide not to apply these procedures. By not applying them to any language, we will be able to compare the performance of the models without having advantaged any language (in terms of quality of the stopwords removed, etc.)."
   ]
  },
  {
   "cell_type": "markdown",
   "metadata": {},
   "source": [
    "It is time to create our custom cleaning function."
   ]
  },
  {
   "cell_type": "code",
   "execution_count": 6,
   "metadata": {},
   "outputs": [],
   "source": [
    "NUMBER_RULE = re.compile(\"\\d+\")\n",
    "ONLY_LETTERS = re.compile('[^a-zA-Z _]+')\n",
    "\n",
    "def clean_text(text):\n",
    "\n",
    "    text = text.replace(\"\\n\",\" \")                   # substitute \\n with a space\n",
    "    text = re.sub(NUMBER_RULE, \" _number_ \", text)  # identify numbers in the text\n",
    "    text = unidecode.unidecode(text)                # remove accents and sort (they may create errors in the future architectures)\n",
    "    text = text.lower()                             # lowercase text\n",
    "    text = ONLY_LETTERS.sub(' ', text)              # remove all that it is not text\n",
    "    text = re.sub(' +', ' ', text)                  # remove multiple spaces, if any\n",
    "\n",
    "    # returned pre-processed text\n",
    "    return text"
   ]
  },
  {
   "cell_type": "markdown",
   "metadata": {},
   "source": [
    "Let's try it out on the first text."
   ]
  },
  {
   "cell_type": "code",
   "execution_count": 7,
   "metadata": {},
   "outputs": [
    {
     "data": {
      "text/plain": [
       "'commission decision of _number_ march _number_ establishing the classes of reaction to fire performance for certain construction products as regards wood flooring and solid wood panelling and cladding notified under document number c _number_ _number_ text with eea relevance _number_ _number_ ec the commission of the european communities having regard to the treaty establishing the european community having regard to directive _number_ _number_ eec of _number_ december _number_ on the approximation of laws regulations and administrative provisions of the member states relating to construction products _number_ and in particular article _number_ _number_ thereof whereas _number_ directive _number_ _number_ eec envisages that in order to take account of different levels of protection for construction works at national regional or local level it may be necessary to establish in the interpretative documents classes corresponding to the performance of products in respect of each essential requirement those documents have been published as the communication of the commission with regard to the interpretative documents of directive _number_ _number_ eec _number_ _number_ with respect to the essential requirement of safety in the event of fire interpretative document no _number_ lists a number of interrelated measures which together define the fire safety strategy to be variously developed in the member states _number_ interpretative document no _number_ identifies one of those measures as the limitation of the generation and spread of fire and smoke within a given area by limiting the potential of construction products to contribute to the full development of a fire _number_ the level of that limitation may be expressed only in terms of the different levels of reaction to fire performance of the products in their end use application _number_ by way of harmonised solution a system of classes was adopted in commission decision _number_ _number_ ec of _number_ february _number_ implementing council directive _number_ _number_ eec as regards the classification of the reaction to fire performance of construction products _number_ _number_ in the case of wood flooring and solid wood panelling and cladding it is necessary to use the classification established in decision _number_ _number_ ec _number_ the reaction to fire performance of many construction products and or materials within the classification provided for in decision _number_ _number_ ec is well established and sufficiently well known to fire regulators in member states that they do not require testing for this particular performance characteristic _number_ the measures provided for in this decision are in accordance with the opinion of the standing committee on construction has adopted this decision article _number_ the construction products and or materials which satisfy all the requirements of the performance characteristic reaction to fire without need for further testing are set out in the annex article _number_ the specific classes to be applied to different construction products and or materials within the reaction to fire classification adopted in decision _number_ _number_ ec are set out in the annex to this decision article _number_ products shall be considered in relation to their end use application where relevant article _number_ this decision is addressed to the member states done at brussels _number_ march _number_ '"
      ]
     },
     "execution_count": 7,
     "metadata": {},
     "output_type": "execute_result"
    }
   ],
   "source": [
    "clean_text(dataframe_complete[\"text_en\"][0])"
   ]
  },
  {
   "cell_type": "markdown",
   "metadata": {},
   "source": [
    "It works as expected! We can now apply it to all the texts in the dataset."
   ]
  },
  {
   "cell_type": "code",
   "execution_count": 12,
   "metadata": {},
   "outputs": [
    {
     "name": "stdout",
     "output_type": "stream",
     "text": [
      "\n",
      " > Cleaning column 'text_en'\n"
     ]
    },
    {
     "name": "stderr",
     "output_type": "stream",
     "text": [
      "100%|██████████| 32940/32940 [01:19<00:00, 412.05it/s]\n"
     ]
    },
    {
     "name": "stdout",
     "output_type": "stream",
     "text": [
      "\n",
      " > Cleaning column 'text_de'\n"
     ]
    },
    {
     "name": "stderr",
     "output_type": "stream",
     "text": [
      "100%|██████████| 32940/32940 [01:53<00:00, 290.72it/s]\n"
     ]
    },
    {
     "name": "stdout",
     "output_type": "stream",
     "text": [
      "\n",
      " > Cleaning column 'text_it'\n"
     ]
    },
    {
     "name": "stderr",
     "output_type": "stream",
     "text": [
      "100%|██████████| 32940/32940 [01:54<00:00, 288.69it/s]\n"
     ]
    },
    {
     "name": "stdout",
     "output_type": "stream",
     "text": [
      "\n",
      " > Cleaning column 'text_pl'\n"
     ]
    },
    {
     "name": "stderr",
     "output_type": "stream",
     "text": [
      "100%|██████████| 32940/32940 [01:50<00:00, 297.10it/s]\n"
     ]
    },
    {
     "name": "stdout",
     "output_type": "stream",
     "text": [
      "\n",
      " > Cleaning column 'text_sv'\n"
     ]
    },
    {
     "name": "stderr",
     "output_type": "stream",
     "text": [
      "100%|██████████| 32940/32940 [01:44<00:00, 313.72it/s]\n"
     ]
    }
   ],
   "source": [
    "# specify columns with texts\n",
    "text_cols = [\"text_en\", \"text_de\", \"text_it\", \"text_pl\", \"text_sv\"]\n",
    "\n",
    "# iterate over the text columns\n",
    "for text_col in text_cols:\n",
    "    print(\"\\n > Cleaning column '\" + text_col + \"'\")\n",
    "    dataframe_complete[text_col] = dataframe_complete[text_col].progress_apply(clean_text)"
   ]
  },
  {
   "cell_type": "code",
   "execution_count": 13,
   "metadata": {},
   "outputs": [
    {
     "data": {
      "text/html": [
       "<div>\n",
       "<style scoped>\n",
       "    .dataframe tbody tr th:only-of-type {\n",
       "        vertical-align: middle;\n",
       "    }\n",
       "\n",
       "    .dataframe tbody tr th {\n",
       "        vertical-align: top;\n",
       "    }\n",
       "\n",
       "    .dataframe thead th {\n",
       "        text-align: right;\n",
       "    }\n",
       "</style>\n",
       "<table border=\"1\" class=\"dataframe\">\n",
       "  <thead>\n",
       "    <tr style=\"text-align: right;\">\n",
       "      <th></th>\n",
       "      <th>celex_id</th>\n",
       "      <th>labels</th>\n",
       "      <th>text_en</th>\n",
       "      <th>text_de</th>\n",
       "      <th>text_it</th>\n",
       "      <th>text_pl</th>\n",
       "      <th>text_sv</th>\n",
       "    </tr>\n",
       "  </thead>\n",
       "  <tbody>\n",
       "    <tr>\n",
       "      <th>0</th>\n",
       "      <td>32006D0213</td>\n",
       "      <td>[1, 20, 7, 3, 0]</td>\n",
       "      <td>commission decision of _number_ march _number_...</td>\n",
       "      <td>entscheidung der kommission vom _number_ marz ...</td>\n",
       "      <td>decisione della commissione del _number_ marzo...</td>\n",
       "      <td>decyzja komisji z dnia _number_ marca _number_...</td>\n",
       "      <td>kommissionens beslut av den _number_ mars _num...</td>\n",
       "    </tr>\n",
       "    <tr>\n",
       "      <th>1</th>\n",
       "      <td>32003R1786</td>\n",
       "      <td>[3, 19, 6]</td>\n",
       "      <td>council regulation ec no _number_ _number_ of ...</td>\n",
       "      <td>verordnung eg nr _number_ _number_ des rates v...</td>\n",
       "      <td>regolamento ce n _number_ _number_ del consigl...</td>\n",
       "      <td>rozporzadzenie rady we nr _number_ _number_ z ...</td>\n",
       "      <td>radets forordning eg nr _number_ _number_ av d...</td>\n",
       "    </tr>\n",
       "    <tr>\n",
       "      <th>2</th>\n",
       "      <td>32004R1038</td>\n",
       "      <td>[3, 17, 5]</td>\n",
       "      <td>commission regulation ec no _number_ _number_ ...</td>\n",
       "      <td>verordnung eg nr _number_ _number_ der kommiss...</td>\n",
       "      <td>regolamento ce n _number_ _number_ della commi...</td>\n",
       "      <td>rozporzadzenie komisji we nr _number_ _number_...</td>\n",
       "      <td>kommissionens forordning eg nr _number_ _numbe...</td>\n",
       "    </tr>\n",
       "    <tr>\n",
       "      <th>3</th>\n",
       "      <td>32003R1012</td>\n",
       "      <td>[2, 5, 10, 8, 3, 18, 15]</td>\n",
       "      <td>commission regulation ec no _number_ _number_ ...</td>\n",
       "      <td>verordnung eg nr _number_ _number_ der kommiss...</td>\n",
       "      <td>regolamento ce n _number_ _number_ della commi...</td>\n",
       "      <td>rozporzadzenie komisji we nr _number_ _number_...</td>\n",
       "      <td>kommissionens forordning eg nr _number_ _numbe...</td>\n",
       "    </tr>\n",
       "    <tr>\n",
       "      <th>4</th>\n",
       "      <td>32003R2229</td>\n",
       "      <td>[18, 3, 4, 1]</td>\n",
       "      <td>council regulation ec no _number_ _number_ of ...</td>\n",
       "      <td>verordnung eg nr _number_ _number_ des rates v...</td>\n",
       "      <td>regolamento ce n _number_ _number_ del consigl...</td>\n",
       "      <td>rozporzadzenie rady we nr _number_ _number_ z ...</td>\n",
       "      <td>radets forordning eg nr _number_ _number_ av d...</td>\n",
       "    </tr>\n",
       "    <tr>\n",
       "      <th>...</th>\n",
       "      <td>...</td>\n",
       "      <td>...</td>\n",
       "      <td>...</td>\n",
       "      <td>...</td>\n",
       "      <td>...</td>\n",
       "      <td>...</td>\n",
       "      <td>...</td>\n",
       "    </tr>\n",
       "    <tr>\n",
       "      <th>32935</th>\n",
       "      <td>32011D0151</td>\n",
       "      <td>[4, 11, 5, 0, 12, 15]</td>\n",
       "      <td>commission decision of _number_ march _number_...</td>\n",
       "      <td>beschluss der kommission vom _number_ marz _nu...</td>\n",
       "      <td>decisione della commissione del _number_ marzo...</td>\n",
       "      <td>decyzja komisji z dnia _number_ marca _number_...</td>\n",
       "      <td>kommissionens beslut av den _number_ mars _num...</td>\n",
       "    </tr>\n",
       "    <tr>\n",
       "      <th>32936</th>\n",
       "      <td>32010D0256</td>\n",
       "      <td>[12, 0, 6]</td>\n",
       "      <td>commission decision of _number_ april _number_...</td>\n",
       "      <td>beschluss der kommission vom _number_ april _n...</td>\n",
       "      <td>decisione della commissione del _number_ april...</td>\n",
       "      <td>decyzja komisji z dnia _number_ kwietnia _numb...</td>\n",
       "      <td>kommissionens beslut av den _number_ april _nu...</td>\n",
       "    </tr>\n",
       "    <tr>\n",
       "      <th>32937</th>\n",
       "      <td>32010D0177</td>\n",
       "      <td>[1, 4, 0, 3, 18]</td>\n",
       "      <td>commission decision of _number_ march _number_...</td>\n",
       "      <td>beschluss der kommission vom _number_ marz _nu...</td>\n",
       "      <td>decisione della commissione del _number_ marzo...</td>\n",
       "      <td>decyzja komisji z dnia _number_ marca _number_...</td>\n",
       "      <td>kommissionens beslut av den _number_ mars _num...</td>\n",
       "    </tr>\n",
       "    <tr>\n",
       "      <th>32938</th>\n",
       "      <td>32012R0307</td>\n",
       "      <td>[0, 3, 17, 15]</td>\n",
       "      <td>commission implementing regulation eu no _numb...</td>\n",
       "      <td>durchfuhrungsverordnung eu nr _number_ _number...</td>\n",
       "      <td>regolamento di esecuzione ue n _number_ _numbe...</td>\n",
       "      <td>rozporzadzenie wykonawcze komisji ue nr _numbe...</td>\n",
       "      <td>kommissionens genomforandeforordning eu nr _nu...</td>\n",
       "    </tr>\n",
       "    <tr>\n",
       "      <th>32939</th>\n",
       "      <td>32011R0327</td>\n",
       "      <td>[1, 14, 20, 7, 3]</td>\n",
       "      <td>commission regulation eu no _number_ _number_ ...</td>\n",
       "      <td>verordnung eu nr _number_ _number_ der kommiss...</td>\n",
       "      <td>regolamento ue n _number_ _number_ della commi...</td>\n",
       "      <td>rozporzadzenie komisji ue nr _number_ _number_...</td>\n",
       "      <td>kommissionens forordning eu nr _number_ _numbe...</td>\n",
       "    </tr>\n",
       "  </tbody>\n",
       "</table>\n",
       "<p>32940 rows × 7 columns</p>\n",
       "</div>"
      ],
      "text/plain": [
       "         celex_id                    labels  \\\n",
       "0      32006D0213          [1, 20, 7, 3, 0]   \n",
       "1      32003R1786                [3, 19, 6]   \n",
       "2      32004R1038                [3, 17, 5]   \n",
       "3      32003R1012  [2, 5, 10, 8, 3, 18, 15]   \n",
       "4      32003R2229             [18, 3, 4, 1]   \n",
       "...           ...                       ...   \n",
       "32935  32011D0151     [4, 11, 5, 0, 12, 15]   \n",
       "32936  32010D0256                [12, 0, 6]   \n",
       "32937  32010D0177          [1, 4, 0, 3, 18]   \n",
       "32938  32012R0307            [0, 3, 17, 15]   \n",
       "32939  32011R0327         [1, 14, 20, 7, 3]   \n",
       "\n",
       "                                                 text_en  \\\n",
       "0      commission decision of _number_ march _number_...   \n",
       "1      council regulation ec no _number_ _number_ of ...   \n",
       "2      commission regulation ec no _number_ _number_ ...   \n",
       "3      commission regulation ec no _number_ _number_ ...   \n",
       "4      council regulation ec no _number_ _number_ of ...   \n",
       "...                                                  ...   \n",
       "32935  commission decision of _number_ march _number_...   \n",
       "32936  commission decision of _number_ april _number_...   \n",
       "32937  commission decision of _number_ march _number_...   \n",
       "32938  commission implementing regulation eu no _numb...   \n",
       "32939  commission regulation eu no _number_ _number_ ...   \n",
       "\n",
       "                                                 text_de  \\\n",
       "0      entscheidung der kommission vom _number_ marz ...   \n",
       "1      verordnung eg nr _number_ _number_ des rates v...   \n",
       "2      verordnung eg nr _number_ _number_ der kommiss...   \n",
       "3      verordnung eg nr _number_ _number_ der kommiss...   \n",
       "4      verordnung eg nr _number_ _number_ des rates v...   \n",
       "...                                                  ...   \n",
       "32935  beschluss der kommission vom _number_ marz _nu...   \n",
       "32936  beschluss der kommission vom _number_ april _n...   \n",
       "32937  beschluss der kommission vom _number_ marz _nu...   \n",
       "32938  durchfuhrungsverordnung eu nr _number_ _number...   \n",
       "32939  verordnung eu nr _number_ _number_ der kommiss...   \n",
       "\n",
       "                                                 text_it  \\\n",
       "0      decisione della commissione del _number_ marzo...   \n",
       "1      regolamento ce n _number_ _number_ del consigl...   \n",
       "2      regolamento ce n _number_ _number_ della commi...   \n",
       "3      regolamento ce n _number_ _number_ della commi...   \n",
       "4      regolamento ce n _number_ _number_ del consigl...   \n",
       "...                                                  ...   \n",
       "32935  decisione della commissione del _number_ marzo...   \n",
       "32936  decisione della commissione del _number_ april...   \n",
       "32937  decisione della commissione del _number_ marzo...   \n",
       "32938  regolamento di esecuzione ue n _number_ _numbe...   \n",
       "32939  regolamento ue n _number_ _number_ della commi...   \n",
       "\n",
       "                                                 text_pl  \\\n",
       "0      decyzja komisji z dnia _number_ marca _number_...   \n",
       "1      rozporzadzenie rady we nr _number_ _number_ z ...   \n",
       "2      rozporzadzenie komisji we nr _number_ _number_...   \n",
       "3      rozporzadzenie komisji we nr _number_ _number_...   \n",
       "4      rozporzadzenie rady we nr _number_ _number_ z ...   \n",
       "...                                                  ...   \n",
       "32935  decyzja komisji z dnia _number_ marca _number_...   \n",
       "32936  decyzja komisji z dnia _number_ kwietnia _numb...   \n",
       "32937  decyzja komisji z dnia _number_ marca _number_...   \n",
       "32938  rozporzadzenie wykonawcze komisji ue nr _numbe...   \n",
       "32939  rozporzadzenie komisji ue nr _number_ _number_...   \n",
       "\n",
       "                                                 text_sv  \n",
       "0      kommissionens beslut av den _number_ mars _num...  \n",
       "1      radets forordning eg nr _number_ _number_ av d...  \n",
       "2      kommissionens forordning eg nr _number_ _numbe...  \n",
       "3      kommissionens forordning eg nr _number_ _numbe...  \n",
       "4      radets forordning eg nr _number_ _number_ av d...  \n",
       "...                                                  ...  \n",
       "32935  kommissionens beslut av den _number_ mars _num...  \n",
       "32936  kommissionens beslut av den _number_ april _nu...  \n",
       "32937  kommissionens beslut av den _number_ mars _num...  \n",
       "32938  kommissionens genomforandeforordning eu nr _nu...  \n",
       "32939  kommissionens forordning eu nr _number_ _numbe...  \n",
       "\n",
       "[32940 rows x 7 columns]"
      ]
     },
     "execution_count": 13,
     "metadata": {},
     "output_type": "execute_result"
    }
   ],
   "source": [
    "dataframe_complete"
   ]
  },
  {
   "cell_type": "markdown",
   "metadata": {},
   "source": [
    "#### **From multi-label to multi-class**\n",
    "\n",
    "The dataset is designed for multi-label classification. However, as explained in the [paper](https://arxiv.org/pdf/2109.00904.pdf) on the dataset, the labels are *multi-granular*. \n",
    "\n",
    "This means that we can keep only the first label and convert the task into a multi-class classification."
   ]
  },
  {
   "cell_type": "markdown",
   "metadata": {},
   "source": [
    "We create a function that can extract the first value from the list. "
   ]
  },
  {
   "cell_type": "code",
   "execution_count": 24,
   "metadata": {},
   "outputs": [],
   "source": [
    "def clean_labels(labels):\n",
    "\n",
    "    # first, we convert the string back to a list\n",
    "    labels = list(labels[1:-1].split(\", \"))\n",
    "\n",
    "    # then, we extract the first element only and we return it (as int)\n",
    "    return int(labels[0])"
   ]
  },
  {
   "cell_type": "markdown",
   "metadata": {},
   "source": [
    "We can then apply it to the whole dataset."
   ]
  },
  {
   "cell_type": "code",
   "execution_count": 29,
   "metadata": {},
   "outputs": [
    {
     "name": "stderr",
     "output_type": "stream",
     "text": [
      "100%|██████████| 32940/32940 [00:00<00:00, 658791.20it/s]\n"
     ]
    }
   ],
   "source": [
    "dataframe_complete[\"labels\"] = dataframe_complete[\"labels\"].progress_apply(clean_labels)"
   ]
  },
  {
   "cell_type": "markdown",
   "metadata": {},
   "source": [
    "The paper says that there are 21 classes in the first level. \n",
    "\n",
    "We check that everything matches, showing the different available classes. "
   ]
  },
  {
   "cell_type": "code",
   "execution_count": 32,
   "metadata": {},
   "outputs": [
    {
     "data": {
      "text/plain": [
       "{0, 1, 2, 3, 4, 5, 6, 7, 8, 9, 10, 11, 12, 13, 14, 15, 16, 17, 18, 19, 20}"
      ]
     },
     "execution_count": 32,
     "metadata": {},
     "output_type": "execute_result"
    }
   ],
   "source": [
    "set(dataframe_complete[\"labels\"])"
   ]
  },
  {
   "cell_type": "markdown",
   "metadata": {},
   "source": [
    "They are 21 indeed."
   ]
  },
  {
   "cell_type": "markdown",
   "metadata": {},
   "source": [
    "#### **Show cleaned dataset**\n",
    "\n",
    "We now show the final dataset, on which we will train the architectures."
   ]
  },
  {
   "cell_type": "code",
   "execution_count": 30,
   "metadata": {},
   "outputs": [
    {
     "data": {
      "text/html": [
       "<div>\n",
       "<style scoped>\n",
       "    .dataframe tbody tr th:only-of-type {\n",
       "        vertical-align: middle;\n",
       "    }\n",
       "\n",
       "    .dataframe tbody tr th {\n",
       "        vertical-align: top;\n",
       "    }\n",
       "\n",
       "    .dataframe thead th {\n",
       "        text-align: right;\n",
       "    }\n",
       "</style>\n",
       "<table border=\"1\" class=\"dataframe\">\n",
       "  <thead>\n",
       "    <tr style=\"text-align: right;\">\n",
       "      <th></th>\n",
       "      <th>celex_id</th>\n",
       "      <th>labels</th>\n",
       "      <th>text_en</th>\n",
       "      <th>text_de</th>\n",
       "      <th>text_it</th>\n",
       "      <th>text_pl</th>\n",
       "      <th>text_sv</th>\n",
       "    </tr>\n",
       "  </thead>\n",
       "  <tbody>\n",
       "    <tr>\n",
       "      <th>0</th>\n",
       "      <td>32006D0213</td>\n",
       "      <td>1</td>\n",
       "      <td>commission decision of _number_ march _number_...</td>\n",
       "      <td>entscheidung der kommission vom _number_ marz ...</td>\n",
       "      <td>decisione della commissione del _number_ marzo...</td>\n",
       "      <td>decyzja komisji z dnia _number_ marca _number_...</td>\n",
       "      <td>kommissionens beslut av den _number_ mars _num...</td>\n",
       "    </tr>\n",
       "    <tr>\n",
       "      <th>1</th>\n",
       "      <td>32003R1786</td>\n",
       "      <td>3</td>\n",
       "      <td>council regulation ec no _number_ _number_ of ...</td>\n",
       "      <td>verordnung eg nr _number_ _number_ des rates v...</td>\n",
       "      <td>regolamento ce n _number_ _number_ del consigl...</td>\n",
       "      <td>rozporzadzenie rady we nr _number_ _number_ z ...</td>\n",
       "      <td>radets forordning eg nr _number_ _number_ av d...</td>\n",
       "    </tr>\n",
       "    <tr>\n",
       "      <th>2</th>\n",
       "      <td>32004R1038</td>\n",
       "      <td>3</td>\n",
       "      <td>commission regulation ec no _number_ _number_ ...</td>\n",
       "      <td>verordnung eg nr _number_ _number_ der kommiss...</td>\n",
       "      <td>regolamento ce n _number_ _number_ della commi...</td>\n",
       "      <td>rozporzadzenie komisji we nr _number_ _number_...</td>\n",
       "      <td>kommissionens forordning eg nr _number_ _numbe...</td>\n",
       "    </tr>\n",
       "    <tr>\n",
       "      <th>3</th>\n",
       "      <td>32003R1012</td>\n",
       "      <td>2</td>\n",
       "      <td>commission regulation ec no _number_ _number_ ...</td>\n",
       "      <td>verordnung eg nr _number_ _number_ der kommiss...</td>\n",
       "      <td>regolamento ce n _number_ _number_ della commi...</td>\n",
       "      <td>rozporzadzenie komisji we nr _number_ _number_...</td>\n",
       "      <td>kommissionens forordning eg nr _number_ _numbe...</td>\n",
       "    </tr>\n",
       "    <tr>\n",
       "      <th>4</th>\n",
       "      <td>32003R2229</td>\n",
       "      <td>18</td>\n",
       "      <td>council regulation ec no _number_ _number_ of ...</td>\n",
       "      <td>verordnung eg nr _number_ _number_ des rates v...</td>\n",
       "      <td>regolamento ce n _number_ _number_ del consigl...</td>\n",
       "      <td>rozporzadzenie rady we nr _number_ _number_ z ...</td>\n",
       "      <td>radets forordning eg nr _number_ _number_ av d...</td>\n",
       "    </tr>\n",
       "    <tr>\n",
       "      <th>...</th>\n",
       "      <td>...</td>\n",
       "      <td>...</td>\n",
       "      <td>...</td>\n",
       "      <td>...</td>\n",
       "      <td>...</td>\n",
       "      <td>...</td>\n",
       "      <td>...</td>\n",
       "    </tr>\n",
       "    <tr>\n",
       "      <th>32935</th>\n",
       "      <td>32011D0151</td>\n",
       "      <td>4</td>\n",
       "      <td>commission decision of _number_ march _number_...</td>\n",
       "      <td>beschluss der kommission vom _number_ marz _nu...</td>\n",
       "      <td>decisione della commissione del _number_ marzo...</td>\n",
       "      <td>decyzja komisji z dnia _number_ marca _number_...</td>\n",
       "      <td>kommissionens beslut av den _number_ mars _num...</td>\n",
       "    </tr>\n",
       "    <tr>\n",
       "      <th>32936</th>\n",
       "      <td>32010D0256</td>\n",
       "      <td>12</td>\n",
       "      <td>commission decision of _number_ april _number_...</td>\n",
       "      <td>beschluss der kommission vom _number_ april _n...</td>\n",
       "      <td>decisione della commissione del _number_ april...</td>\n",
       "      <td>decyzja komisji z dnia _number_ kwietnia _numb...</td>\n",
       "      <td>kommissionens beslut av den _number_ april _nu...</td>\n",
       "    </tr>\n",
       "    <tr>\n",
       "      <th>32937</th>\n",
       "      <td>32010D0177</td>\n",
       "      <td>1</td>\n",
       "      <td>commission decision of _number_ march _number_...</td>\n",
       "      <td>beschluss der kommission vom _number_ marz _nu...</td>\n",
       "      <td>decisione della commissione del _number_ marzo...</td>\n",
       "      <td>decyzja komisji z dnia _number_ marca _number_...</td>\n",
       "      <td>kommissionens beslut av den _number_ mars _num...</td>\n",
       "    </tr>\n",
       "    <tr>\n",
       "      <th>32938</th>\n",
       "      <td>32012R0307</td>\n",
       "      <td>0</td>\n",
       "      <td>commission implementing regulation eu no _numb...</td>\n",
       "      <td>durchfuhrungsverordnung eu nr _number_ _number...</td>\n",
       "      <td>regolamento di esecuzione ue n _number_ _numbe...</td>\n",
       "      <td>rozporzadzenie wykonawcze komisji ue nr _numbe...</td>\n",
       "      <td>kommissionens genomforandeforordning eu nr _nu...</td>\n",
       "    </tr>\n",
       "    <tr>\n",
       "      <th>32939</th>\n",
       "      <td>32011R0327</td>\n",
       "      <td>1</td>\n",
       "      <td>commission regulation eu no _number_ _number_ ...</td>\n",
       "      <td>verordnung eu nr _number_ _number_ der kommiss...</td>\n",
       "      <td>regolamento ue n _number_ _number_ della commi...</td>\n",
       "      <td>rozporzadzenie komisji ue nr _number_ _number_...</td>\n",
       "      <td>kommissionens forordning eu nr _number_ _numbe...</td>\n",
       "    </tr>\n",
       "  </tbody>\n",
       "</table>\n",
       "<p>32940 rows × 7 columns</p>\n",
       "</div>"
      ],
      "text/plain": [
       "         celex_id  labels                                            text_en  \\\n",
       "0      32006D0213       1  commission decision of _number_ march _number_...   \n",
       "1      32003R1786       3  council regulation ec no _number_ _number_ of ...   \n",
       "2      32004R1038       3  commission regulation ec no _number_ _number_ ...   \n",
       "3      32003R1012       2  commission regulation ec no _number_ _number_ ...   \n",
       "4      32003R2229      18  council regulation ec no _number_ _number_ of ...   \n",
       "...           ...     ...                                                ...   \n",
       "32935  32011D0151       4  commission decision of _number_ march _number_...   \n",
       "32936  32010D0256      12  commission decision of _number_ april _number_...   \n",
       "32937  32010D0177       1  commission decision of _number_ march _number_...   \n",
       "32938  32012R0307       0  commission implementing regulation eu no _numb...   \n",
       "32939  32011R0327       1  commission regulation eu no _number_ _number_ ...   \n",
       "\n",
       "                                                 text_de  \\\n",
       "0      entscheidung der kommission vom _number_ marz ...   \n",
       "1      verordnung eg nr _number_ _number_ des rates v...   \n",
       "2      verordnung eg nr _number_ _number_ der kommiss...   \n",
       "3      verordnung eg nr _number_ _number_ der kommiss...   \n",
       "4      verordnung eg nr _number_ _number_ des rates v...   \n",
       "...                                                  ...   \n",
       "32935  beschluss der kommission vom _number_ marz _nu...   \n",
       "32936  beschluss der kommission vom _number_ april _n...   \n",
       "32937  beschluss der kommission vom _number_ marz _nu...   \n",
       "32938  durchfuhrungsverordnung eu nr _number_ _number...   \n",
       "32939  verordnung eu nr _number_ _number_ der kommiss...   \n",
       "\n",
       "                                                 text_it  \\\n",
       "0      decisione della commissione del _number_ marzo...   \n",
       "1      regolamento ce n _number_ _number_ del consigl...   \n",
       "2      regolamento ce n _number_ _number_ della commi...   \n",
       "3      regolamento ce n _number_ _number_ della commi...   \n",
       "4      regolamento ce n _number_ _number_ del consigl...   \n",
       "...                                                  ...   \n",
       "32935  decisione della commissione del _number_ marzo...   \n",
       "32936  decisione della commissione del _number_ april...   \n",
       "32937  decisione della commissione del _number_ marzo...   \n",
       "32938  regolamento di esecuzione ue n _number_ _numbe...   \n",
       "32939  regolamento ue n _number_ _number_ della commi...   \n",
       "\n",
       "                                                 text_pl  \\\n",
       "0      decyzja komisji z dnia _number_ marca _number_...   \n",
       "1      rozporzadzenie rady we nr _number_ _number_ z ...   \n",
       "2      rozporzadzenie komisji we nr _number_ _number_...   \n",
       "3      rozporzadzenie komisji we nr _number_ _number_...   \n",
       "4      rozporzadzenie rady we nr _number_ _number_ z ...   \n",
       "...                                                  ...   \n",
       "32935  decyzja komisji z dnia _number_ marca _number_...   \n",
       "32936  decyzja komisji z dnia _number_ kwietnia _numb...   \n",
       "32937  decyzja komisji z dnia _number_ marca _number_...   \n",
       "32938  rozporzadzenie wykonawcze komisji ue nr _numbe...   \n",
       "32939  rozporzadzenie komisji ue nr _number_ _number_...   \n",
       "\n",
       "                                                 text_sv  \n",
       "0      kommissionens beslut av den _number_ mars _num...  \n",
       "1      radets forordning eg nr _number_ _number_ av d...  \n",
       "2      kommissionens forordning eg nr _number_ _numbe...  \n",
       "3      kommissionens forordning eg nr _number_ _numbe...  \n",
       "4      radets forordning eg nr _number_ _number_ av d...  \n",
       "...                                                  ...  \n",
       "32935  kommissionens beslut av den _number_ mars _num...  \n",
       "32936  kommissionens beslut av den _number_ april _nu...  \n",
       "32937  kommissionens beslut av den _number_ mars _num...  \n",
       "32938  kommissionens genomforandeforordning eu nr _nu...  \n",
       "32939  kommissionens forordning eu nr _number_ _numbe...  \n",
       "\n",
       "[32940 rows x 7 columns]"
      ]
     },
     "execution_count": 30,
     "metadata": {},
     "output_type": "execute_result"
    }
   ],
   "source": [
    "dataframe_complete"
   ]
  },
  {
   "cell_type": "markdown",
   "metadata": {},
   "source": [
    "The cleaning procedure is time consuming (especially for the texts).\n",
    "\n",
    "We save the dataset so that we can use it later."
   ]
  },
  {
   "cell_type": "code",
   "execution_count": 33,
   "metadata": {},
   "outputs": [
    {
     "name": "stdout",
     "output_type": "stream",
     "text": [
      "> All done!\n"
     ]
    }
   ],
   "source": [
    "dataframe_complete.to_csv(\"../data/1_multi_eurlex_clean.csv\", index=False)\n",
    "print(\"> All done!\")"
   ]
  }
 ],
 "metadata": {
  "interpreter": {
   "hash": "455534d435f7de67bc0026f9ceba702b21954bd7ad83505586b95ef58f556ae5"
  },
  "kernelspec": {
   "display_name": "Python 3.9.12 ('NLP_2022')",
   "language": "python",
   "name": "python3"
  },
  "language_info": {
   "codemirror_mode": {
    "name": "ipython",
    "version": 3
   },
   "file_extension": ".py",
   "mimetype": "text/x-python",
   "name": "python",
   "nbconvert_exporter": "python",
   "pygments_lexer": "ipython3",
   "version": "3.9.12"
  },
  "orig_nbformat": 4
 },
 "nbformat": 4,
 "nbformat_minor": 2
}
