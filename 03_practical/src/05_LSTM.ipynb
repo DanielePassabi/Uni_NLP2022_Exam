{
 "cells": [
  {
   "cell_type": "markdown",
   "metadata": {},
   "source": [
    "## **NLP Practical**\n",
    "\n",
    "### **LSTM**\n",
    "\n",
    "It is now time to train a Recurrent Neural Nework."
   ]
  },
  {
   "cell_type": "markdown",
   "metadata": {},
   "source": [
    "#### **Libraries**\n",
    "\n",
    "We import the necessary libraries for the notebook."
   ]
  },
  {
   "cell_type": "code",
   "execution_count": 1,
   "metadata": {},
   "outputs": [
    {
     "name": "stdout",
     "output_type": "stream",
     "text": [
      "> Libraries Imported\n"
     ]
    }
   ],
   "source": [
    "# general\n",
    "import pandas as pd\n",
    "import numpy as np\n",
    "from tqdm import tqdm\n",
    "tqdm.pandas()\n",
    "\n",
    "# dataset\n",
    "from torch.utils.data import Dataset, DataLoader\n",
    "\n",
    "# pytorch\n",
    "import torch\n",
    "import torch.nn.functional as F\n",
    "import torch.nn as nn\n",
    "\n",
    "# metrics\n",
    "from sklearn.metrics import mean_squared_error\n",
    "\n",
    "# custom imports\n",
    "from models import PytorchModel\n",
    "\n",
    "print(\"> Libraries Imported\")"
   ]
  },
  {
   "cell_type": "markdown",
   "metadata": {},
   "source": [
    "#### **Setup**\n",
    "\n",
    "- We set the device to *cuda*\n",
    "- We import the dataset"
   ]
  },
  {
   "cell_type": "code",
   "execution_count": 2,
   "metadata": {},
   "outputs": [
    {
     "name": "stdout",
     "output_type": "stream",
     "text": [
      "> Device: cuda\n"
     ]
    }
   ],
   "source": [
    "# Device configuration\n",
    "device = torch.device('cuda' if torch.cuda.is_available() else 'cpu')\n",
    "\n",
    "print(\"> Device:\", device)"
   ]
  },
  {
   "cell_type": "code",
   "execution_count": 3,
   "metadata": {},
   "outputs": [
    {
     "data": {
      "text/html": [
       "<div>\n",
       "<style scoped>\n",
       "    .dataframe tbody tr th:only-of-type {\n",
       "        vertical-align: middle;\n",
       "    }\n",
       "\n",
       "    .dataframe tbody tr th {\n",
       "        vertical-align: top;\n",
       "    }\n",
       "\n",
       "    .dataframe thead th {\n",
       "        text-align: right;\n",
       "    }\n",
       "</style>\n",
       "<table border=\"1\" class=\"dataframe\">\n",
       "  <thead>\n",
       "    <tr style=\"text-align: right;\">\n",
       "      <th></th>\n",
       "      <th>celex_id</th>\n",
       "      <th>labels</th>\n",
       "      <th>labels_new</th>\n",
       "      <th>text_en</th>\n",
       "      <th>text_de</th>\n",
       "      <th>text_it</th>\n",
       "      <th>text_pl</th>\n",
       "      <th>text_sv</th>\n",
       "      <th>text_en_enc</th>\n",
       "      <th>text_de_enc</th>\n",
       "      <th>text_it_enc</th>\n",
       "      <th>text_pl_enc</th>\n",
       "      <th>text_sv_enc</th>\n",
       "      <th>set</th>\n",
       "    </tr>\n",
       "  </thead>\n",
       "  <tbody>\n",
       "    <tr>\n",
       "      <th>0</th>\n",
       "      <td>32003R1012</td>\n",
       "      <td>2</td>\n",
       "      <td>1</td>\n",
       "      <td>commission regulation ec no of june amending f...</td>\n",
       "      <td>verordnung eg nr der kommission vom juni zur n...</td>\n",
       "      <td>regolamento ce n della commissione del giugno ...</td>\n",
       "      <td>rozporzadzenie komisji we nr z dnia czerwca r ...</td>\n",
       "      <td>kommissionens forordning eg nr av den juni om ...</td>\n",
       "      <td>[[2, 3, 4, 5, 6, 7, 8, 9, 10, 11, 12, 13, 3, 4...</td>\n",
       "      <td>[[2, 3, 4, 5, 6, 7, 8, 9, 1, 10, 5, 2, 3, 4, 1...</td>\n",
       "      <td>[[2, 3, 4, 5, 6, 7, 8, 9, 1, 10, 7, 2, 3, 4, 1...</td>\n",
       "      <td>[[2, 3, 4, 5, 6, 7, 8, 9, 10, 11, 12, 1, 2, 13...</td>\n",
       "      <td>[[2, 3, 4, 5, 6, 7, 8, 9, 10, 11, 12, 13, 6, 1...</td>\n",
       "      <td>test</td>\n",
       "    </tr>\n",
       "    <tr>\n",
       "      <th>1</th>\n",
       "      <td>32003R2229</td>\n",
       "      <td>18</td>\n",
       "      <td>3</td>\n",
       "      <td>council regulation ec no of december imposing ...</td>\n",
       "      <td>verordnung eg nr des rates vom dezember zur ei...</td>\n",
       "      <td>regolamento ce n del consiglio del dicembre ch...</td>\n",
       "      <td>rozporzadzenie rady we nr z dnia grudnia r nak...</td>\n",
       "      <td>radets forordning eg nr av den december om inf...</td>\n",
       "      <td>[[13, 3, 4, 5, 6, 117, 14, 118, 119, 120, 121,...</td>\n",
       "      <td>[[2, 3, 4, 11, 12, 7, 116, 9, 117, 118, 119, 1...</td>\n",
       "      <td>[[2, 3, 4, 7, 37, 7, 128, 11, 44, 129, 130, 13...</td>\n",
       "      <td>[[2, 13, 4, 5, 6, 7, 134, 9, 135, 136, 137, 13...</td>\n",
       "      <td>[[14, 3, 4, 5, 6, 7, 113, 9, 16, 6, 114, 115, ...</td>\n",
       "      <td>validation</td>\n",
       "    </tr>\n",
       "    <tr>\n",
       "      <th>2</th>\n",
       "      <td>32003R0223</td>\n",
       "      <td>7</td>\n",
       "      <td>2</td>\n",
       "      <td>commission regulation ec no of february on lab...</td>\n",
       "      <td>verordnung eg nr der kommission vom februar zu...</td>\n",
       "      <td>regolamento ce n della commissione del febbrai...</td>\n",
       "      <td>rozporzadzenie komisji we nr z dnia lutego r w...</td>\n",
       "      <td>kommissionens forordning eg nr av den februari...</td>\n",
       "      <td>[[2, 3, 4, 5, 6, 1033, 78, 1034, 343, 574, 38,...</td>\n",
       "      <td>[[2, 3, 4, 5, 6, 7, 1305, 9, 1136, 57, 1306, 1...</td>\n",
       "      <td>[[2, 3, 4, 5, 6, 7, 1259, 1260, 80, 393, 53, 1...</td>\n",
       "      <td>[[2, 3, 4, 5, 6, 7, 1603, 9, 59, 150, 1604, 59...</td>\n",
       "      <td>[[2, 3, 4, 5, 6, 7, 1240, 9, 1241, 122, 1242, ...</td>\n",
       "      <td>train</td>\n",
       "    </tr>\n",
       "  </tbody>\n",
       "</table>\n",
       "</div>"
      ],
      "text/plain": [
       "     celex_id  labels  labels_new  \\\n",
       "0  32003R1012       2           1   \n",
       "1  32003R2229      18           3   \n",
       "2  32003R0223       7           2   \n",
       "\n",
       "                                             text_en  \\\n",
       "0  commission regulation ec no of june amending f...   \n",
       "1  council regulation ec no of december imposing ...   \n",
       "2  commission regulation ec no of february on lab...   \n",
       "\n",
       "                                             text_de  \\\n",
       "0  verordnung eg nr der kommission vom juni zur n...   \n",
       "1  verordnung eg nr des rates vom dezember zur ei...   \n",
       "2  verordnung eg nr der kommission vom februar zu...   \n",
       "\n",
       "                                             text_it  \\\n",
       "0  regolamento ce n della commissione del giugno ...   \n",
       "1  regolamento ce n del consiglio del dicembre ch...   \n",
       "2  regolamento ce n della commissione del febbrai...   \n",
       "\n",
       "                                             text_pl  \\\n",
       "0  rozporzadzenie komisji we nr z dnia czerwca r ...   \n",
       "1  rozporzadzenie rady we nr z dnia grudnia r nak...   \n",
       "2  rozporzadzenie komisji we nr z dnia lutego r w...   \n",
       "\n",
       "                                             text_sv  \\\n",
       "0  kommissionens forordning eg nr av den juni om ...   \n",
       "1  radets forordning eg nr av den december om inf...   \n",
       "2  kommissionens forordning eg nr av den februari...   \n",
       "\n",
       "                                         text_en_enc  \\\n",
       "0  [[2, 3, 4, 5, 6, 7, 8, 9, 10, 11, 12, 13, 3, 4...   \n",
       "1  [[13, 3, 4, 5, 6, 117, 14, 118, 119, 120, 121,...   \n",
       "2  [[2, 3, 4, 5, 6, 1033, 78, 1034, 343, 574, 38,...   \n",
       "\n",
       "                                         text_de_enc  \\\n",
       "0  [[2, 3, 4, 5, 6, 7, 8, 9, 1, 10, 5, 2, 3, 4, 1...   \n",
       "1  [[2, 3, 4, 11, 12, 7, 116, 9, 117, 118, 119, 1...   \n",
       "2  [[2, 3, 4, 5, 6, 7, 1305, 9, 1136, 57, 1306, 1...   \n",
       "\n",
       "                                         text_it_enc  \\\n",
       "0  [[2, 3, 4, 5, 6, 7, 8, 9, 1, 10, 7, 2, 3, 4, 1...   \n",
       "1  [[2, 3, 4, 7, 37, 7, 128, 11, 44, 129, 130, 13...   \n",
       "2  [[2, 3, 4, 5, 6, 7, 1259, 1260, 80, 393, 53, 1...   \n",
       "\n",
       "                                         text_pl_enc  \\\n",
       "0  [[2, 3, 4, 5, 6, 7, 8, 9, 10, 11, 12, 1, 2, 13...   \n",
       "1  [[2, 13, 4, 5, 6, 7, 134, 9, 135, 136, 137, 13...   \n",
       "2  [[2, 3, 4, 5, 6, 7, 1603, 9, 59, 150, 1604, 59...   \n",
       "\n",
       "                                         text_sv_enc         set  \n",
       "0  [[2, 3, 4, 5, 6, 7, 8, 9, 10, 11, 12, 13, 6, 1...        test  \n",
       "1  [[14, 3, 4, 5, 6, 7, 113, 9, 16, 6, 114, 115, ...  validation  \n",
       "2  [[2, 3, 4, 5, 6, 7, 1240, 9, 1241, 122, 1242, ...       train  "
      ]
     },
     "execution_count": 3,
     "metadata": {},
     "output_type": "execute_result"
    }
   ],
   "source": [
    "dataframe = pd.read_pickle(\"../data/3_multi_eurlex_encoded_v3.pkl\")\n",
    "dataframe.head(3)"
   ]
  },
  {
   "cell_type": "markdown",
   "metadata": {},
   "source": [
    "#### **Instantiate a Pytorch Model: LSTM**\n",
    "\n",
    "We use our custom class PytorchModel to train a LSTM."
   ]
  },
  {
   "cell_type": "code",
   "execution_count": 4,
   "metadata": {},
   "outputs": [],
   "source": [
    "COUNTS_EN = 14751\n",
    "COUNTS_DE = 31903\n",
    "COUNTS_IT = 20577\n",
    "COUNTS_PL = 33812\n",
    "COUNTS_SV = 29075"
   ]
  },
  {
   "cell_type": "code",
   "execution_count": 5,
   "metadata": {},
   "outputs": [
    {
     "name": "stdout",
     "output_type": "stream",
     "text": [
      "> Parameters imported\n",
      "> Dataset correctly divided in training set, validation set and test set\n",
      "> Created Pytorch datasets and dataloaders\n",
      "> Model 'LSTM' instantiated\n",
      "> Initialization required 1.6358 seconds\n"
     ]
    }
   ],
   "source": [
    "LSTM_MODEL = PytorchModel(\n",
    "\n",
    "    # set model and text language\n",
    "    model_type      = \"LSTM\",\n",
    "    dataset         = dataframe,\n",
    "    language        = \"it\",\n",
    "\n",
    "    # set device, bacth size and epochs\n",
    "    device          = device,\n",
    "    batch_size      = 50,\n",
    "    epochs          = 50,\n",
    "\n",
    "    # set hyperparameters\n",
    "    vocab_size      = COUNTS_IT,\n",
    "    embedding_dim   = 2048,\n",
    "    hidden_dim      = 1024,\n",
    "    learning_rate   = 0.001,\n",
    "    dropout_p       = 0.1\n",
    ")"
   ]
  },
  {
   "cell_type": "markdown",
   "metadata": {},
   "source": [
    "**Train the model**\n",
    "\n",
    "We can now train the model.\n",
    "\n",
    "The method will evaluate the performance of the model for each epoch."
   ]
  },
  {
   "cell_type": "code",
   "execution_count": 6,
   "metadata": {},
   "outputs": [
    {
     "name": "stdout",
     "output_type": "stream",
     "text": [
      "=========================================\n",
      "> Training Started\n",
      "  - Total Epochs: 50\n",
      "=========================================\n"
     ]
    },
    {
     "name": "stderr",
     "output_type": "stream",
     "text": [
      "> Epoch 1: 100%|██████████| 150/150 [02:32<00:00,  1.02s/it]\n"
     ]
    },
    {
     "name": "stdout",
     "output_type": "stream",
     "text": [
      " - Training Loss        1.3626\n",
      " - Validation Loss      1.3481\n",
      " - Validation Accuracy  0.3812\n",
      " - Validation Accuracy (per class)\n",
      "   * Class 0\t 0.0144 [6 out of 416]\n",
      "   * Class 1\t 0.9292 [669 out of 720]\n",
      "   * Class 2\t 0.0482 [15 out of 311]\n",
      "   * Class 3\t 0.0523 [22 out of 421]\n",
      "\n",
      "=========================================\n"
     ]
    },
    {
     "name": "stderr",
     "output_type": "stream",
     "text": [
      "> Epoch 2: 100%|██████████| 150/150 [02:33<00:00,  1.02s/it]\n"
     ]
    },
    {
     "name": "stdout",
     "output_type": "stream",
     "text": [
      " - Training Loss        1.2342\n",
      " - Validation Loss      1.4212\n",
      " - Validation Accuracy  0.379\n",
      " - Validation Accuracy (per class)\n",
      "   * Class 0\t 0.0457 [19 out of 416]\n",
      "   * Class 1\t 0.9083 [654 out of 720]\n",
      "   * Class 2\t 0.0514 [16 out of 311]\n",
      "   * Class 3\t 0.0451 [19 out of 421]\n",
      "\n",
      "=========================================\n"
     ]
    },
    {
     "name": "stderr",
     "output_type": "stream",
     "text": [
      "> Epoch 3: 100%|██████████| 150/150 [02:34<00:00,  1.03s/it]\n"
     ]
    },
    {
     "name": "stdout",
     "output_type": "stream",
     "text": [
      " - Training Loss        1.1502\n",
      " - Validation Loss      1.4475\n",
      " - Validation Accuracy  0.3828\n",
      " - Validation Accuracy (per class)\n",
      "   * Class 0\t 0.0409 [17 out of 416]\n",
      "   * Class 1\t 0.9125 [657 out of 720]\n",
      "   * Class 2\t 0.0643 [20 out of 311]\n",
      "   * Class 3\t 0.0499 [21 out of 421]\n",
      "\n",
      "=========================================\n"
     ]
    },
    {
     "name": "stderr",
     "output_type": "stream",
     "text": [
      "> Epoch 4: 100%|██████████| 150/150 [02:33<00:00,  1.02s/it]\n"
     ]
    },
    {
     "name": "stdout",
     "output_type": "stream",
     "text": [
      " - Training Loss        1.1253\n",
      " - Validation Loss      1.4739\n",
      " - Validation Accuracy  0.3817\n",
      " - Validation Accuracy (per class)\n",
      "   * Class 0\t 0.0409 [17 out of 416]\n",
      "   * Class 1\t 0.9167 [660 out of 720]\n",
      "   * Class 2\t 0.0611 [19 out of 311]\n",
      "   * Class 3\t 0.0404 [17 out of 421]\n",
      "\n",
      "=========================================\n"
     ]
    },
    {
     "name": "stderr",
     "output_type": "stream",
     "text": [
      "> Epoch 5: 100%|██████████| 150/150 [02:33<00:00,  1.03s/it]\n"
     ]
    },
    {
     "name": "stdout",
     "output_type": "stream",
     "text": [
      " - Training Loss        1.207\n",
      " - Validation Loss      1.4251\n",
      " - Validation Accuracy  0.3399\n",
      " - Validation Accuracy (per class)\n",
      "   * Class 0\t 0.3606 [150 out of 416]\n",
      "   * Class 1\t 0.6194 [446 out of 720]\n",
      "   * Class 2\t 0.0675 [21 out of 311]\n",
      "   * Class 3\t 0.0428 [18 out of 421]\n",
      "\n",
      "=========================================\n"
     ]
    },
    {
     "name": "stderr",
     "output_type": "stream",
     "text": [
      "> Epoch 6: 100%|██████████| 150/150 [02:34<00:00,  1.03s/it]\n"
     ]
    },
    {
     "name": "stdout",
     "output_type": "stream",
     "text": [
      " - Training Loss        1.1711\n",
      " - Validation Loss      1.4333\n",
      " - Validation Accuracy  0.3431\n",
      " - Validation Accuracy (per class)\n",
      "   * Class 0\t 0.2885 [120 out of 416]\n",
      "   * Class 1\t 0.6611 [476 out of 720]\n",
      "   * Class 2\t 0.0643 [20 out of 311]\n",
      "   * Class 3\t 0.0594 [25 out of 421]\n",
      "\n",
      "=========================================\n"
     ]
    },
    {
     "name": "stderr",
     "output_type": "stream",
     "text": [
      "> Epoch 7: 100%|██████████| 150/150 [02:34<00:00,  1.03s/it]\n"
     ]
    },
    {
     "name": "stdout",
     "output_type": "stream",
     "text": [
      " - Training Loss        1.1512\n",
      " - Validation Loss      1.4261\n",
      " - Validation Accuracy  0.3849\n",
      " - Validation Accuracy (per class)\n",
      "   * Class 0\t 0.0337 [14 out of 416]\n",
      "   * Class 1\t 0.9236 [665 out of 720]\n",
      "   * Class 2\t 0.0643 [20 out of 311]\n",
      "   * Class 3\t 0.0475 [20 out of 421]\n",
      "\n",
      "=========================================\n"
     ]
    },
    {
     "name": "stderr",
     "output_type": "stream",
     "text": [
      "> Epoch 8: 100%|██████████| 150/150 [02:34<00:00,  1.03s/it]\n"
     ]
    },
    {
     "name": "stdout",
     "output_type": "stream",
     "text": [
      " - Training Loss        1.1483\n",
      " - Validation Loss      1.4416\n",
      " - Validation Accuracy  0.3415\n",
      " - Validation Accuracy (per class)\n",
      "   * Class 0\t 0.2885 [120 out of 416]\n",
      "   * Class 1\t 0.6611 [476 out of 720]\n",
      "   * Class 2\t 0.0675 [21 out of 311]\n",
      "   * Class 3\t 0.0499 [21 out of 421]\n",
      "\n",
      "=========================================\n"
     ]
    },
    {
     "name": "stderr",
     "output_type": "stream",
     "text": [
      "> Epoch 9: 100%|██████████| 150/150 [02:32<00:00,  1.01s/it]\n"
     ]
    },
    {
     "name": "stdout",
     "output_type": "stream",
     "text": [
      " - Training Loss        1.1472\n",
      " - Validation Loss      1.436\n",
      " - Validation Accuracy  0.386\n",
      " - Validation Accuracy (per class)\n",
      "   * Class 0\t 0.0337 [14 out of 416]\n",
      "   * Class 1\t 0.9236 [665 out of 720]\n",
      "   * Class 2\t 0.0675 [21 out of 311]\n",
      "   * Class 3\t 0.0499 [21 out of 421]\n",
      "\n",
      "=========================================\n"
     ]
    },
    {
     "name": "stderr",
     "output_type": "stream",
     "text": [
      "> Epoch 10: 100%|██████████| 150/150 [02:33<00:00,  1.02s/it]\n"
     ]
    },
    {
     "name": "stdout",
     "output_type": "stream",
     "text": [
      " - Training Loss        1.1377\n",
      " - Validation Loss      1.468\n",
      " - Validation Accuracy  0.3854\n",
      " - Validation Accuracy (per class)\n",
      "   * Class 0\t 0.0361 [15 out of 416]\n",
      "   * Class 1\t 0.9208 [663 out of 720]\n",
      "   * Class 2\t 0.0675 [21 out of 311]\n",
      "   * Class 3\t 0.0499 [21 out of 421]\n",
      "\n",
      "=========================================\n"
     ]
    },
    {
     "name": "stderr",
     "output_type": "stream",
     "text": [
      "> Epoch 11: 100%|██████████| 150/150 [02:34<00:00,  1.03s/it]\n"
     ]
    },
    {
     "name": "stdout",
     "output_type": "stream",
     "text": [
      " - Training Loss        1.1415\n",
      " - Validation Loss      1.4611\n",
      " - Validation Accuracy  0.3292\n",
      " - Validation Accuracy (per class)\n",
      "   * Class 0\t 0.0361 [15 out of 416]\n",
      "   * Class 1\t 0.6194 [446 out of 720]\n",
      "   * Class 2\t 0.0707 [22 out of 311]\n",
      "   * Class 3\t 0.3135 [132 out of 421]\n",
      "\n",
      "=========================================\n"
     ]
    },
    {
     "name": "stderr",
     "output_type": "stream",
     "text": [
      "> Epoch 12: 100%|██████████| 150/150 [02:34<00:00,  1.03s/it]\n"
     ]
    },
    {
     "name": "stdout",
     "output_type": "stream",
     "text": [
      " - Training Loss        1.1409\n",
      " - Validation Loss      1.469\n",
      " - Validation Accuracy  0.3865\n",
      " - Validation Accuracy (per class)\n",
      "   * Class 0\t 0.0337 [14 out of 416]\n",
      "   * Class 1\t 0.9222 [664 out of 720]\n",
      "   * Class 2\t 0.0707 [22 out of 311]\n",
      "   * Class 3\t 0.0523 [22 out of 421]\n",
      "\n",
      "=========================================\n"
     ]
    },
    {
     "name": "stderr",
     "output_type": "stream",
     "text": [
      "> Epoch 13: 100%|██████████| 150/150 [02:30<00:00,  1.01s/it]\n"
     ]
    },
    {
     "name": "stdout",
     "output_type": "stream",
     "text": [
      " - Training Loss        1.1405\n",
      " - Validation Loss      1.4663\n",
      " - Validation Accuracy  0.387\n",
      " - Validation Accuracy (per class)\n",
      "   * Class 0\t 0.0337 [14 out of 416]\n",
      "   * Class 1\t 0.925 [666 out of 720]\n",
      "   * Class 2\t 0.0675 [21 out of 311]\n",
      "   * Class 3\t 0.0523 [22 out of 421]\n",
      "\n",
      "=========================================\n"
     ]
    },
    {
     "name": "stderr",
     "output_type": "stream",
     "text": [
      "> Epoch 14:  46%|████▌     | 69/150 [01:09<01:19,  1.02it/s]"
     ]
    }
   ],
   "source": [
    "global_res_df, classes_res_df = LSTM_MODEL.train_model()"
   ]
  },
  {
   "cell_type": "code",
   "execution_count": null,
   "metadata": {},
   "outputs": [],
   "source": [
    "global_res_df"
   ]
  },
  {
   "cell_type": "code",
   "execution_count": null,
   "metadata": {},
   "outputs": [],
   "source": [
    "classes_res_df"
   ]
  },
  {
   "cell_type": "markdown",
   "metadata": {},
   "source": [
    "**Evaluate the model**\n",
    "\n",
    "Let us now evaluate the performance of the model on a test set (which contains observations that the model has never seen)."
   ]
  },
  {
   "cell_type": "code",
   "execution_count": null,
   "metadata": {},
   "outputs": [],
   "source": [
    "# TODO: create function 'test_model()' "
   ]
  }
 ],
 "metadata": {
  "interpreter": {
   "hash": "455534d435f7de67bc0026f9ceba702b21954bd7ad83505586b95ef58f556ae5"
  },
  "kernelspec": {
   "display_name": "Python 3.9.12 ('NLP_2022')",
   "language": "python",
   "name": "python3"
  },
  "language_info": {
   "codemirror_mode": {
    "name": "ipython",
    "version": 3
   },
   "file_extension": ".py",
   "mimetype": "text/x-python",
   "name": "python",
   "nbconvert_exporter": "python",
   "pygments_lexer": "ipython3",
   "version": "3.9.12"
  },
  "orig_nbformat": 4
 },
 "nbformat": 4,
 "nbformat_minor": 2
}
