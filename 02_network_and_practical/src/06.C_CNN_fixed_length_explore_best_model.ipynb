{
 "cells": [
  {
   "cell_type": "markdown",
   "metadata": {},
   "source": [
    "## **Introduction to ML for NLP [Network + Practical]**\n",
    "\n",
    "### **CNN**\n",
    "\n",
    "After the fine-tuning phase, we obtained and saved the weights of the best models for each language.\n",
    "\n",
    "In this notebook, we explore the results of their training and test them on a test set they have never seen, in order to verify their real performance."
   ]
  },
  {
   "cell_type": "markdown",
   "metadata": {},
   "source": [
    "#### **Libraries**\n",
    "\n",
    "We import the necessary libraries for the notebook."
   ]
  },
  {
   "cell_type": "code",
   "execution_count": 4,
   "metadata": {},
   "outputs": [
    {
     "name": "stdout",
     "output_type": "stream",
     "text": [
      "> Libraries Imported\n"
     ]
    }
   ],
   "source": [
    "# general\n",
    "import pandas as pd\n",
    "from tqdm import tqdm\n",
    "tqdm.pandas()\n",
    "\n",
    "# pytorch\n",
    "import torch\n",
    "\n",
    "# custom imports\n",
    "from utility.models_pytorch import PytorchModel\n",
    "from utility.dataviz import plot_model_fit_loss, plot_classes_accuracy\n",
    "\n",
    "print(\"> Libraries Imported\")"
   ]
  },
  {
   "cell_type": "markdown",
   "metadata": {},
   "source": [
    "#### **Setup**\n",
    "\n",
    "- We set the device to *cuda*\n",
    "- We import the dataset"
   ]
  },
  {
   "cell_type": "code",
   "execution_count": 5,
   "metadata": {},
   "outputs": [
    {
     "name": "stdout",
     "output_type": "stream",
     "text": [
      "> Device: cuda\n"
     ]
    }
   ],
   "source": [
    "# Device configuration\n",
    "device = torch.device('cuda' if torch.cuda.is_available() else 'cpu')\n",
    "\n",
    "print(\"> Device:\", device)"
   ]
  },
  {
   "cell_type": "code",
   "execution_count": 6,
   "metadata": {},
   "outputs": [
    {
     "data": {
      "text/html": [
       "<div>\n",
       "<style scoped>\n",
       "    .dataframe tbody tr th:only-of-type {\n",
       "        vertical-align: middle;\n",
       "    }\n",
       "\n",
       "    .dataframe tbody tr th {\n",
       "        vertical-align: top;\n",
       "    }\n",
       "\n",
       "    .dataframe thead th {\n",
       "        text-align: right;\n",
       "    }\n",
       "</style>\n",
       "<table border=\"1\" class=\"dataframe\">\n",
       "  <thead>\n",
       "    <tr style=\"text-align: right;\">\n",
       "      <th></th>\n",
       "      <th>celex_id</th>\n",
       "      <th>labels</th>\n",
       "      <th>labels_new</th>\n",
       "      <th>text_en</th>\n",
       "      <th>text_de</th>\n",
       "      <th>text_it</th>\n",
       "      <th>text_pl</th>\n",
       "      <th>text_sv</th>\n",
       "      <th>text_en_enc</th>\n",
       "      <th>text_de_enc</th>\n",
       "      <th>text_it_enc</th>\n",
       "      <th>text_pl_enc</th>\n",
       "      <th>text_sv_enc</th>\n",
       "      <th>set</th>\n",
       "    </tr>\n",
       "  </thead>\n",
       "  <tbody>\n",
       "    <tr>\n",
       "      <th>0</th>\n",
       "      <td>32010D0395</td>\n",
       "      <td>2</td>\n",
       "      <td>0</td>\n",
       "      <td>commission decision of december on state aid c...</td>\n",
       "      <td>beschluss der kommission vom dezember uber die...</td>\n",
       "      <td>decisione della commissione del dicembre conce...</td>\n",
       "      <td>decyzja komisji z dnia grudnia r w sprawie pom...</td>\n",
       "      <td>kommissionens beslut av den december om det st...</td>\n",
       "      <td>[[2, 3, 4, 5, 6, 7, 8, 9, 10, 11, 12, 13, 14, ...</td>\n",
       "      <td>[[2, 3, 4, 5, 6, 7, 8, 9, 10, 11, 12, 13, 14, ...</td>\n",
       "      <td>[[2, 3, 4, 5, 6, 7, 8, 9, 10, 11, 12, 13, 14, ...</td>\n",
       "      <td>[[2, 3, 4, 5, 6, 7, 8, 9, 10, 11, 12, 13, 14, ...</td>\n",
       "      <td>[[2, 3, 4, 5, 6, 7, 8, 9, 10, 11, 12, 13, 14, ...</td>\n",
       "      <td>train</td>\n",
       "    </tr>\n",
       "    <tr>\n",
       "      <th>1</th>\n",
       "      <td>32012R0453</td>\n",
       "      <td>2</td>\n",
       "      <td>0</td>\n",
       "      <td>commission implementing regulation eu no of ma...</td>\n",
       "      <td>durchfuhrungsverordnung eu nr der kommission v...</td>\n",
       "      <td>regolamento di esecuzione ue n della commissio...</td>\n",
       "      <td>rozporzadzenie wykonawcze komisji ue nr z dnia...</td>\n",
       "      <td>kommissionens genomforandeforordning eu nr av ...</td>\n",
       "      <td>[[2, 1275, 1276, 29, 100, 4, 743, 1277, 15, 12...</td>\n",
       "      <td>[[1302, 33, 1303, 3, 4, 5, 807, 15, 1304, 3, 6...</td>\n",
       "      <td>[[453, 10, 1422, 38, 14, 3, 4, 5, 990, 1423, 1...</td>\n",
       "      <td>[[1753, 1754, 3, 34, 24, 4, 5, 829, 7, 1755, 9...</td>\n",
       "      <td>[[2, 1239, 33, 23, 4, 5, 806, 7, 774, 4, 132, ...</td>\n",
       "      <td>train</td>\n",
       "    </tr>\n",
       "    <tr>\n",
       "      <th>2</th>\n",
       "      <td>32012D0043</td>\n",
       "      <td>2</td>\n",
       "      <td>0</td>\n",
       "      <td>commission implementing decision of january au...</td>\n",
       "      <td>durchfuhrungsbeschluss der kommission vom janu...</td>\n",
       "      <td>decisione di esecuzione della commissione del ...</td>\n",
       "      <td>decyzja wykonawcza komisji z dnia stycznia r u...</td>\n",
       "      <td>kommissionens genomforandebeslut av den januar...</td>\n",
       "      <td>[[2, 1275, 3, 4, 1310, 1311, 15, 1015, 4, 1312...</td>\n",
       "      <td>[[1344, 3, 4, 5, 1345, 15, 1346, 74, 1347, 134...</td>\n",
       "      <td>[[2, 10, 1422, 3, 4, 5, 1454, 245, 1455, 24, 1...</td>\n",
       "      <td>[[2, 1791, 3, 4, 5, 1792, 7, 1, 1793, 1794, 65...</td>\n",
       "      <td>[[2, 1279, 4, 5, 1280, 7, 1281, 19, 1282, 1283...</td>\n",
       "      <td>train</td>\n",
       "    </tr>\n",
       "  </tbody>\n",
       "</table>\n",
       "</div>"
      ],
      "text/plain": [
       "     celex_id  labels  labels_new  \\\n",
       "0  32010D0395       2           0   \n",
       "1  32012R0453       2           0   \n",
       "2  32012D0043       2           0   \n",
       "\n",
       "                                             text_en  \\\n",
       "0  commission decision of december on state aid c...   \n",
       "1  commission implementing regulation eu no of ma...   \n",
       "2  commission implementing decision of january au...   \n",
       "\n",
       "                                             text_de  \\\n",
       "0  beschluss der kommission vom dezember uber die...   \n",
       "1  durchfuhrungsverordnung eu nr der kommission v...   \n",
       "2  durchfuhrungsbeschluss der kommission vom janu...   \n",
       "\n",
       "                                             text_it  \\\n",
       "0  decisione della commissione del dicembre conce...   \n",
       "1  regolamento di esecuzione ue n della commissio...   \n",
       "2  decisione di esecuzione della commissione del ...   \n",
       "\n",
       "                                             text_pl  \\\n",
       "0  decyzja komisji z dnia grudnia r w sprawie pom...   \n",
       "1  rozporzadzenie wykonawcze komisji ue nr z dnia...   \n",
       "2  decyzja wykonawcza komisji z dnia stycznia r u...   \n",
       "\n",
       "                                             text_sv  \\\n",
       "0  kommissionens beslut av den december om det st...   \n",
       "1  kommissionens genomforandeforordning eu nr av ...   \n",
       "2  kommissionens genomforandebeslut av den januar...   \n",
       "\n",
       "                                         text_en_enc  \\\n",
       "0  [[2, 3, 4, 5, 6, 7, 8, 9, 10, 11, 12, 13, 14, ...   \n",
       "1  [[2, 1275, 1276, 29, 100, 4, 743, 1277, 15, 12...   \n",
       "2  [[2, 1275, 3, 4, 1310, 1311, 15, 1015, 4, 1312...   \n",
       "\n",
       "                                         text_de_enc  \\\n",
       "0  [[2, 3, 4, 5, 6, 7, 8, 9, 10, 11, 12, 13, 14, ...   \n",
       "1  [[1302, 33, 1303, 3, 4, 5, 807, 15, 1304, 3, 6...   \n",
       "2  [[1344, 3, 4, 5, 1345, 15, 1346, 74, 1347, 134...   \n",
       "\n",
       "                                         text_it_enc  \\\n",
       "0  [[2, 3, 4, 5, 6, 7, 8, 9, 10, 11, 12, 13, 14, ...   \n",
       "1  [[453, 10, 1422, 38, 14, 3, 4, 5, 990, 1423, 1...   \n",
       "2  [[2, 10, 1422, 3, 4, 5, 1454, 245, 1455, 24, 1...   \n",
       "\n",
       "                                         text_pl_enc  \\\n",
       "0  [[2, 3, 4, 5, 6, 7, 8, 9, 10, 11, 12, 13, 14, ...   \n",
       "1  [[1753, 1754, 3, 34, 24, 4, 5, 829, 7, 1755, 9...   \n",
       "2  [[2, 1791, 3, 4, 5, 1792, 7, 1, 1793, 1794, 65...   \n",
       "\n",
       "                                         text_sv_enc    set  \n",
       "0  [[2, 3, 4, 5, 6, 7, 8, 9, 10, 11, 12, 13, 14, ...  train  \n",
       "1  [[2, 1239, 33, 23, 4, 5, 806, 7, 774, 4, 132, ...  train  \n",
       "2  [[2, 1279, 4, 5, 1280, 7, 1281, 19, 1282, 1283...  train  "
      ]
     },
     "execution_count": 6,
     "metadata": {},
     "output_type": "execute_result"
    }
   ],
   "source": [
    "dataframe = pd.read_pickle(\"data/3_multi_eurlex_encoded.pkl\")\n",
    "dataframe.head(3)"
   ]
  },
  {
   "cell_type": "markdown",
   "metadata": {},
   "source": [
    "#### **LSTM**"
   ]
  },
  {
   "cell_type": "markdown",
   "metadata": {},
   "source": [
    "**Instantiate a Pytorch Model**\n",
    "\n",
    "We use our custom class PytorchModel to train a LSTM."
   ]
  },
  {
   "cell_type": "code",
   "execution_count": 7,
   "metadata": {},
   "outputs": [],
   "source": [
    "COUNTS_EN = 3506\n",
    "COUNTS_DE = 4216\n",
    "COUNTS_IT = 4180\n",
    "COUNTS_PL = 5255\n",
    "COUNTS_SV = 4010"
   ]
  },
  {
   "cell_type": "markdown",
   "metadata": {},
   "source": [
    "#### **Visualize the training results**\n",
    "\n",
    "We plot the training and validation loss, as well as the mean validation accuracy for each class."
   ]
  },
  {
   "cell_type": "markdown",
   "metadata": {},
   "source": [
    "##### *English Model*"
   ]
  },
  {
   "cell_type": "code",
   "execution_count": 8,
   "metadata": {},
   "outputs": [],
   "source": [
    "# Set all paths of the best model\n",
    "\n",
    "model_weights_en_path = \"models/CNN_fixed_en/CNN_fixed[en][batch_size=64][epochs=50][vocab_size=3506][emb_dim=1024][kernel_size=5][stride=1][padding=3][lr=0.001][dropout=0.1]_best.model\"\n",
    "\n",
    "global_res_en_path = \"models/CNN_fixed_en/CNN_fixed[en][batch_size=64][epochs=50][vocab_size=3506][emb_dim=1024][kernel_size=5][stride=1][padding=3][lr=0.001][dropout=0.1]_global_results.csv\"\n",
    "\n",
    "classes_res_en_path = \"models/CNN_fixed_en/CNN_fixed[en][batch_size=64][epochs=50][vocab_size=3506][emb_dim=1024][kernel_size=5][stride=1][padding=3][lr=0.001][dropout=0.1]_classes_results.csv\""
   ]
  },
  {
   "cell_type": "code",
   "execution_count": 9,
   "metadata": {},
   "outputs": [
    {
     "name": "stdout",
     "output_type": "stream",
     "text": [
      "> Parameters imported for CNN_fixed\n",
      "> Dataset correctly divided in training set, validation set and test set\n",
      "> Created Pytorch datasets and dataloaders\n",
      "> Initialization required 0.149 seconds\n"
     ]
    },
    {
     "data": {
      "text/plain": [
       "<All keys matched successfully>"
      ]
     },
     "execution_count": 9,
     "metadata": {},
     "output_type": "execute_result"
    }
   ],
   "source": [
    "# Instantiate the CNN with the same parameters\n",
    "\n",
    "BEST_CNN_EN = PytorchModel(\n",
    "\n",
    "    # set model and text language\n",
    "    model_type      = \"CNN_fixed\",\n",
    "    dataset         = dataframe,\n",
    "    language        = \"en\",\n",
    "\n",
    "    # set device, bacth size and epochs\n",
    "    device          = device,\n",
    "    batch_size      = 64,\n",
    "    epochs          = 50,\n",
    "\n",
    "    # set general hyperparameters\n",
    "    learning_rate   = 0.001,\n",
    "\n",
    "    # set specific hyperparameters\n",
    "    vocab_size      = COUNTS_EN,\n",
    "    embedding_dim   = 1024,\n",
    "    out_channels    = 1,\n",
    "    kernel_size     = 5,\n",
    "    stride          = 1,\n",
    "    padding         = 3,\n",
    "    dropout_p       = 0.1,\n",
    ")\n",
    "\n",
    "# Load its weights\n",
    "BEST_CNN_EN.MODEL.load_state_dict(torch.load(model_weights_en_path))"
   ]
  },
  {
   "cell_type": "code",
   "execution_count": 11,
   "metadata": {},
   "outputs": [
    {
     "data": {
      "application/vnd.plotly.v1+json": {
       "config": {
        "plotlyServerURL": "https://plot.ly"
       },
       "data": [
        {
         "hovertemplate": "type=train<br>epoch=%{x}<br>loss=%{y}<extra></extra>",
         "legendgroup": "train",
         "line": {
          "color": "#636efa",
          "dash": "solid"
         },
         "marker": {
          "symbol": "circle"
         },
         "mode": "markers+lines",
         "name": "train",
         "orientation": "v",
         "showlegend": true,
         "type": "scatter",
         "x": [
          1,
          2,
          3,
          4,
          5,
          6,
          7,
          8,
          9,
          10,
          11,
          12,
          13,
          14,
          15,
          16,
          17,
          18,
          19,
          20,
          21,
          22,
          23,
          24,
          25,
          26,
          27,
          28,
          29,
          30,
          31,
          32,
          33,
          34,
          35,
          36,
          37,
          38,
          39,
          40,
          41,
          42,
          43,
          44,
          45,
          46,
          47,
          48,
          49,
          50
         ],
         "xaxis": "x",
         "y": [
          0.9968,
          0.8362,
          0.7602,
          0.7286,
          0.7094,
          0.686,
          0.6733,
          0.6738,
          0.6651,
          0.6707,
          0.6649,
          0.6502,
          0.6564,
          0.6615,
          0.6609,
          0.656,
          0.6599,
          0.6479,
          0.6602,
          0.6532,
          0.6659,
          0.6523,
          0.6513,
          0.6491,
          0.656,
          0.6659,
          0.6614,
          0.6497,
          0.6482,
          0.6468,
          0.6484,
          0.6496,
          0.6479,
          0.6416,
          0.6577,
          0.6484,
          0.6464,
          0.6447,
          0.6524,
          0.6418,
          0.6686,
          0.6609,
          0.6604,
          0.6468,
          0.6562,
          0.6789,
          0.6751,
          0.6662,
          0.679,
          0.6806
         ],
         "yaxis": "y"
        },
        {
         "hovertemplate": "type=val<br>epoch=%{x}<br>loss=%{y}<extra></extra>",
         "legendgroup": "val",
         "line": {
          "color": "#EF553B",
          "dash": "solid"
         },
         "marker": {
          "symbol": "circle"
         },
         "mode": "markers+lines",
         "name": "val",
         "orientation": "v",
         "showlegend": true,
         "type": "scatter",
         "x": [
          1,
          2,
          3,
          4,
          5,
          6,
          7,
          8,
          9,
          10,
          11,
          12,
          13,
          14,
          15,
          16,
          17,
          18,
          19,
          20,
          21,
          22,
          23,
          24,
          25,
          26,
          27,
          28,
          29,
          30,
          31,
          32,
          33,
          34,
          35,
          36,
          37,
          38,
          39,
          40,
          41,
          42,
          43,
          44,
          45,
          46,
          47,
          48,
          49,
          50
         ],
         "xaxis": "x",
         "y": [
          0.8515,
          0.7884,
          0.7461,
          0.7311,
          0.7149,
          0.7211,
          0.7382,
          0.7359,
          0.6894,
          0.718,
          0.6918,
          0.6868,
          0.6853,
          0.6761,
          0.7061,
          0.6974,
          0.6805,
          0.6849,
          0.6887,
          0.7353,
          0.7019,
          0.6767,
          0.6658,
          0.6933,
          0.7099,
          0.7469,
          0.6815,
          0.6803,
          0.6964,
          0.6815,
          0.6697,
          0.6598,
          0.6742,
          0.6899,
          0.7136,
          0.672,
          0.6778,
          0.6788,
          0.6893,
          0.6749,
          0.6805,
          0.6851,
          0.6851,
          0.6756,
          0.6831,
          0.6687,
          0.6992,
          0.684,
          0.674,
          0.7359
         ],
         "yaxis": "y"
        }
       ],
       "layout": {
        "height": 600,
        "legend": {
         "title": {
          "text": "type"
         },
         "tracegroupgap": 0
        },
        "shapes": [
         {
          "line": {
           "color": "green",
           "dash": "dash",
           "width": 2
          },
          "type": "line",
          "x0": 46,
          "x1": 46,
          "xref": "x",
          "y0": 0,
          "y1": 1,
          "yref": "y domain"
         }
        ],
        "template": {
         "data": {
          "bar": [
           {
            "error_x": {
             "color": "#2a3f5f"
            },
            "error_y": {
             "color": "#2a3f5f"
            },
            "marker": {
             "line": {
              "color": "#E5ECF6",
              "width": 0.5
             },
             "pattern": {
              "fillmode": "overlay",
              "size": 10,
              "solidity": 0.2
             }
            },
            "type": "bar"
           }
          ],
          "barpolar": [
           {
            "marker": {
             "line": {
              "color": "#E5ECF6",
              "width": 0.5
             },
             "pattern": {
              "fillmode": "overlay",
              "size": 10,
              "solidity": 0.2
             }
            },
            "type": "barpolar"
           }
          ],
          "carpet": [
           {
            "aaxis": {
             "endlinecolor": "#2a3f5f",
             "gridcolor": "white",
             "linecolor": "white",
             "minorgridcolor": "white",
             "startlinecolor": "#2a3f5f"
            },
            "baxis": {
             "endlinecolor": "#2a3f5f",
             "gridcolor": "white",
             "linecolor": "white",
             "minorgridcolor": "white",
             "startlinecolor": "#2a3f5f"
            },
            "type": "carpet"
           }
          ],
          "choropleth": [
           {
            "colorbar": {
             "outlinewidth": 0,
             "ticks": ""
            },
            "type": "choropleth"
           }
          ],
          "contour": [
           {
            "colorbar": {
             "outlinewidth": 0,
             "ticks": ""
            },
            "colorscale": [
             [
              0,
              "#0d0887"
             ],
             [
              0.1111111111111111,
              "#46039f"
             ],
             [
              0.2222222222222222,
              "#7201a8"
             ],
             [
              0.3333333333333333,
              "#9c179e"
             ],
             [
              0.4444444444444444,
              "#bd3786"
             ],
             [
              0.5555555555555556,
              "#d8576b"
             ],
             [
              0.6666666666666666,
              "#ed7953"
             ],
             [
              0.7777777777777778,
              "#fb9f3a"
             ],
             [
              0.8888888888888888,
              "#fdca26"
             ],
             [
              1,
              "#f0f921"
             ]
            ],
            "type": "contour"
           }
          ],
          "contourcarpet": [
           {
            "colorbar": {
             "outlinewidth": 0,
             "ticks": ""
            },
            "type": "contourcarpet"
           }
          ],
          "heatmap": [
           {
            "colorbar": {
             "outlinewidth": 0,
             "ticks": ""
            },
            "colorscale": [
             [
              0,
              "#0d0887"
             ],
             [
              0.1111111111111111,
              "#46039f"
             ],
             [
              0.2222222222222222,
              "#7201a8"
             ],
             [
              0.3333333333333333,
              "#9c179e"
             ],
             [
              0.4444444444444444,
              "#bd3786"
             ],
             [
              0.5555555555555556,
              "#d8576b"
             ],
             [
              0.6666666666666666,
              "#ed7953"
             ],
             [
              0.7777777777777778,
              "#fb9f3a"
             ],
             [
              0.8888888888888888,
              "#fdca26"
             ],
             [
              1,
              "#f0f921"
             ]
            ],
            "type": "heatmap"
           }
          ],
          "heatmapgl": [
           {
            "colorbar": {
             "outlinewidth": 0,
             "ticks": ""
            },
            "colorscale": [
             [
              0,
              "#0d0887"
             ],
             [
              0.1111111111111111,
              "#46039f"
             ],
             [
              0.2222222222222222,
              "#7201a8"
             ],
             [
              0.3333333333333333,
              "#9c179e"
             ],
             [
              0.4444444444444444,
              "#bd3786"
             ],
             [
              0.5555555555555556,
              "#d8576b"
             ],
             [
              0.6666666666666666,
              "#ed7953"
             ],
             [
              0.7777777777777778,
              "#fb9f3a"
             ],
             [
              0.8888888888888888,
              "#fdca26"
             ],
             [
              1,
              "#f0f921"
             ]
            ],
            "type": "heatmapgl"
           }
          ],
          "histogram": [
           {
            "marker": {
             "pattern": {
              "fillmode": "overlay",
              "size": 10,
              "solidity": 0.2
             }
            },
            "type": "histogram"
           }
          ],
          "histogram2d": [
           {
            "colorbar": {
             "outlinewidth": 0,
             "ticks": ""
            },
            "colorscale": [
             [
              0,
              "#0d0887"
             ],
             [
              0.1111111111111111,
              "#46039f"
             ],
             [
              0.2222222222222222,
              "#7201a8"
             ],
             [
              0.3333333333333333,
              "#9c179e"
             ],
             [
              0.4444444444444444,
              "#bd3786"
             ],
             [
              0.5555555555555556,
              "#d8576b"
             ],
             [
              0.6666666666666666,
              "#ed7953"
             ],
             [
              0.7777777777777778,
              "#fb9f3a"
             ],
             [
              0.8888888888888888,
              "#fdca26"
             ],
             [
              1,
              "#f0f921"
             ]
            ],
            "type": "histogram2d"
           }
          ],
          "histogram2dcontour": [
           {
            "colorbar": {
             "outlinewidth": 0,
             "ticks": ""
            },
            "colorscale": [
             [
              0,
              "#0d0887"
             ],
             [
              0.1111111111111111,
              "#46039f"
             ],
             [
              0.2222222222222222,
              "#7201a8"
             ],
             [
              0.3333333333333333,
              "#9c179e"
             ],
             [
              0.4444444444444444,
              "#bd3786"
             ],
             [
              0.5555555555555556,
              "#d8576b"
             ],
             [
              0.6666666666666666,
              "#ed7953"
             ],
             [
              0.7777777777777778,
              "#fb9f3a"
             ],
             [
              0.8888888888888888,
              "#fdca26"
             ],
             [
              1,
              "#f0f921"
             ]
            ],
            "type": "histogram2dcontour"
           }
          ],
          "mesh3d": [
           {
            "colorbar": {
             "outlinewidth": 0,
             "ticks": ""
            },
            "type": "mesh3d"
           }
          ],
          "parcoords": [
           {
            "line": {
             "colorbar": {
              "outlinewidth": 0,
              "ticks": ""
             }
            },
            "type": "parcoords"
           }
          ],
          "pie": [
           {
            "automargin": true,
            "type": "pie"
           }
          ],
          "scatter": [
           {
            "fillpattern": {
             "fillmode": "overlay",
             "size": 10,
             "solidity": 0.2
            },
            "type": "scatter"
           }
          ],
          "scatter3d": [
           {
            "line": {
             "colorbar": {
              "outlinewidth": 0,
              "ticks": ""
             }
            },
            "marker": {
             "colorbar": {
              "outlinewidth": 0,
              "ticks": ""
             }
            },
            "type": "scatter3d"
           }
          ],
          "scattercarpet": [
           {
            "marker": {
             "colorbar": {
              "outlinewidth": 0,
              "ticks": ""
             }
            },
            "type": "scattercarpet"
           }
          ],
          "scattergeo": [
           {
            "marker": {
             "colorbar": {
              "outlinewidth": 0,
              "ticks": ""
             }
            },
            "type": "scattergeo"
           }
          ],
          "scattergl": [
           {
            "marker": {
             "colorbar": {
              "outlinewidth": 0,
              "ticks": ""
             }
            },
            "type": "scattergl"
           }
          ],
          "scattermapbox": [
           {
            "marker": {
             "colorbar": {
              "outlinewidth": 0,
              "ticks": ""
             }
            },
            "type": "scattermapbox"
           }
          ],
          "scatterpolar": [
           {
            "marker": {
             "colorbar": {
              "outlinewidth": 0,
              "ticks": ""
             }
            },
            "type": "scatterpolar"
           }
          ],
          "scatterpolargl": [
           {
            "marker": {
             "colorbar": {
              "outlinewidth": 0,
              "ticks": ""
             }
            },
            "type": "scatterpolargl"
           }
          ],
          "scatterternary": [
           {
            "marker": {
             "colorbar": {
              "outlinewidth": 0,
              "ticks": ""
             }
            },
            "type": "scatterternary"
           }
          ],
          "surface": [
           {
            "colorbar": {
             "outlinewidth": 0,
             "ticks": ""
            },
            "colorscale": [
             [
              0,
              "#0d0887"
             ],
             [
              0.1111111111111111,
              "#46039f"
             ],
             [
              0.2222222222222222,
              "#7201a8"
             ],
             [
              0.3333333333333333,
              "#9c179e"
             ],
             [
              0.4444444444444444,
              "#bd3786"
             ],
             [
              0.5555555555555556,
              "#d8576b"
             ],
             [
              0.6666666666666666,
              "#ed7953"
             ],
             [
              0.7777777777777778,
              "#fb9f3a"
             ],
             [
              0.8888888888888888,
              "#fdca26"
             ],
             [
              1,
              "#f0f921"
             ]
            ],
            "type": "surface"
           }
          ],
          "table": [
           {
            "cells": {
             "fill": {
              "color": "#EBF0F8"
             },
             "line": {
              "color": "white"
             }
            },
            "header": {
             "fill": {
              "color": "#C8D4E3"
             },
             "line": {
              "color": "white"
             }
            },
            "type": "table"
           }
          ]
         },
         "layout": {
          "annotationdefaults": {
           "arrowcolor": "#2a3f5f",
           "arrowhead": 0,
           "arrowwidth": 1
          },
          "autotypenumbers": "strict",
          "coloraxis": {
           "colorbar": {
            "outlinewidth": 0,
            "ticks": ""
           }
          },
          "colorscale": {
           "diverging": [
            [
             0,
             "#8e0152"
            ],
            [
             0.1,
             "#c51b7d"
            ],
            [
             0.2,
             "#de77ae"
            ],
            [
             0.3,
             "#f1b6da"
            ],
            [
             0.4,
             "#fde0ef"
            ],
            [
             0.5,
             "#f7f7f7"
            ],
            [
             0.6,
             "#e6f5d0"
            ],
            [
             0.7,
             "#b8e186"
            ],
            [
             0.8,
             "#7fbc41"
            ],
            [
             0.9,
             "#4d9221"
            ],
            [
             1,
             "#276419"
            ]
           ],
           "sequential": [
            [
             0,
             "#0d0887"
            ],
            [
             0.1111111111111111,
             "#46039f"
            ],
            [
             0.2222222222222222,
             "#7201a8"
            ],
            [
             0.3333333333333333,
             "#9c179e"
            ],
            [
             0.4444444444444444,
             "#bd3786"
            ],
            [
             0.5555555555555556,
             "#d8576b"
            ],
            [
             0.6666666666666666,
             "#ed7953"
            ],
            [
             0.7777777777777778,
             "#fb9f3a"
            ],
            [
             0.8888888888888888,
             "#fdca26"
            ],
            [
             1,
             "#f0f921"
            ]
           ],
           "sequentialminus": [
            [
             0,
             "#0d0887"
            ],
            [
             0.1111111111111111,
             "#46039f"
            ],
            [
             0.2222222222222222,
             "#7201a8"
            ],
            [
             0.3333333333333333,
             "#9c179e"
            ],
            [
             0.4444444444444444,
             "#bd3786"
            ],
            [
             0.5555555555555556,
             "#d8576b"
            ],
            [
             0.6666666666666666,
             "#ed7953"
            ],
            [
             0.7777777777777778,
             "#fb9f3a"
            ],
            [
             0.8888888888888888,
             "#fdca26"
            ],
            [
             1,
             "#f0f921"
            ]
           ]
          },
          "colorway": [
           "#636efa",
           "#EF553B",
           "#00cc96",
           "#ab63fa",
           "#FFA15A",
           "#19d3f3",
           "#FF6692",
           "#B6E880",
           "#FF97FF",
           "#FECB52"
          ],
          "font": {
           "color": "#2a3f5f"
          },
          "geo": {
           "bgcolor": "white",
           "lakecolor": "white",
           "landcolor": "#E5ECF6",
           "showlakes": true,
           "showland": true,
           "subunitcolor": "white"
          },
          "hoverlabel": {
           "align": "left"
          },
          "hovermode": "closest",
          "mapbox": {
           "style": "light"
          },
          "paper_bgcolor": "white",
          "plot_bgcolor": "#E5ECF6",
          "polar": {
           "angularaxis": {
            "gridcolor": "white",
            "linecolor": "white",
            "ticks": ""
           },
           "bgcolor": "#E5ECF6",
           "radialaxis": {
            "gridcolor": "white",
            "linecolor": "white",
            "ticks": ""
           }
          },
          "scene": {
           "xaxis": {
            "backgroundcolor": "#E5ECF6",
            "gridcolor": "white",
            "gridwidth": 2,
            "linecolor": "white",
            "showbackground": true,
            "ticks": "",
            "zerolinecolor": "white"
           },
           "yaxis": {
            "backgroundcolor": "#E5ECF6",
            "gridcolor": "white",
            "gridwidth": 2,
            "linecolor": "white",
            "showbackground": true,
            "ticks": "",
            "zerolinecolor": "white"
           },
           "zaxis": {
            "backgroundcolor": "#E5ECF6",
            "gridcolor": "white",
            "gridwidth": 2,
            "linecolor": "white",
            "showbackground": true,
            "ticks": "",
            "zerolinecolor": "white"
           }
          },
          "shapedefaults": {
           "line": {
            "color": "#2a3f5f"
           }
          },
          "ternary": {
           "aaxis": {
            "gridcolor": "white",
            "linecolor": "white",
            "ticks": ""
           },
           "baxis": {
            "gridcolor": "white",
            "linecolor": "white",
            "ticks": ""
           },
           "bgcolor": "#E5ECF6",
           "caxis": {
            "gridcolor": "white",
            "linecolor": "white",
            "ticks": ""
           }
          },
          "title": {
           "x": 0.05
          },
          "xaxis": {
           "automargin": true,
           "gridcolor": "white",
           "linecolor": "white",
           "ticks": "",
           "title": {
            "standoff": 15
           },
           "zerolinecolor": "white",
           "zerolinewidth": 2
          },
          "yaxis": {
           "automargin": true,
           "gridcolor": "white",
           "linecolor": "white",
           "ticks": "",
           "title": {
            "standoff": 15
           },
           "zerolinecolor": "white",
           "zerolinewidth": 2
          }
         }
        },
        "title": {
         "text": "Model Loss<br><sup>Details: CNN_fixed[en][batch_size=64][epochs=50][vocab_size=3506][emb_dim=1024][kernel_size=5][stride=1][padding=3][lr=0.001][dropout=0.1]<sup>"
        },
        "width": 1000,
        "xaxis": {
         "anchor": "y",
         "domain": [
          0,
          1
         ],
         "range": [
          0.75,
          50.25
         ],
         "title": {
          "text": "epoch"
         }
        },
        "yaxis": {
         "anchor": "x",
         "domain": [
          0,
          1
         ],
         "title": {
          "text": "loss"
         }
        }
       }
      }
     },
     "metadata": {},
     "output_type": "display_data"
    }
   ],
   "source": [
    "global_res_en = pd.read_csv(global_res_en_path)\n",
    "\n",
    "plot_model_fit_loss(\n",
    "    train_loss=global_res_en['training_loss'],\n",
    "    val_loss=global_res_en['validation_loss'],\n",
    "    vertical_line=46, # best epoch chosen\n",
    "    subtitle=\"Details: \" + BEST_CNN_EN.MODEL_DESCRIPTION\n",
    ")"
   ]
  },
  {
   "cell_type": "code",
   "execution_count": 14,
   "metadata": {},
   "outputs": [
    {
     "data": {
      "application/vnd.plotly.v1+json": {
       "config": {
        "plotlyServerURL": "https://plot.ly"
       },
       "data": [
        {
         "hovertemplate": "Class=0<br>epoch=%{x}<br>accuracy=%{y}<extra></extra>",
         "legendgroup": "0",
         "line": {
          "color": "#636efa",
          "dash": "solid"
         },
         "marker": {
          "symbol": "circle"
         },
         "mode": "markers+lines",
         "name": "0",
         "orientation": "v",
         "showlegend": true,
         "type": "scatter",
         "x": [
          1,
          2,
          3,
          4,
          5,
          6,
          7,
          8,
          9,
          10,
          11,
          12,
          13,
          14,
          15,
          16,
          17,
          18,
          19,
          20,
          21,
          22,
          23,
          24,
          25,
          26,
          27,
          28,
          29,
          30,
          31,
          32,
          33,
          34,
          35,
          36,
          37,
          38,
          39,
          40,
          41,
          42,
          43,
          44,
          45,
          46,
          47,
          48,
          49,
          50
         ],
         "xaxis": "x",
         "y": [
          0.531,
          0.6195,
          0.8466,
          0.8407,
          0.7847,
          0.705,
          0.649,
          0.9646,
          0.826,
          0.882,
          0.8584,
          0.9027,
          0.7965,
          0.8466,
          0.8053,
          0.8997,
          0.8643,
          0.9558,
          0.8437,
          0.646,
          0.9263,
          0.8938,
          0.8997,
          0.7935,
          0.885,
          0.7994,
          0.9233,
          0.9204,
          0.7729,
          0.9204,
          0.8879,
          0.8968,
          0.944,
          0.8319,
          0.9528,
          0.8673,
          0.9115,
          0.8909,
          0.9115,
          0.9027,
          0.9499,
          0.8142,
          0.9617,
          0.8938,
          0.885,
          0.8938,
          0.9233,
          0.9056,
          0.9351,
          0.7611
         ],
         "yaxis": "y"
        },
        {
         "hovertemplate": "Class=1<br>epoch=%{x}<br>accuracy=%{y}<extra></extra>",
         "legendgroup": "1",
         "line": {
          "color": "#EF553B",
          "dash": "solid"
         },
         "marker": {
          "symbol": "circle"
         },
         "mode": "markers+lines",
         "name": "1",
         "orientation": "v",
         "showlegend": true,
         "type": "scatter",
         "x": [
          1,
          2,
          3,
          4,
          5,
          6,
          7,
          8,
          9,
          10,
          11,
          12,
          13,
          14,
          15,
          16,
          17,
          18,
          19,
          20,
          21,
          22,
          23,
          24,
          25,
          26,
          27,
          28,
          29,
          30,
          31,
          32,
          33,
          34,
          35,
          36,
          37,
          38,
          39,
          40,
          41,
          42,
          43,
          44,
          45,
          46,
          47,
          48,
          49,
          50
         ],
         "xaxis": "x",
         "y": [
          0.8978,
          0.8466,
          0.8403,
          0.9169,
          0.9329,
          0.9585,
          0.8307,
          0.6262,
          0.9297,
          0.9521,
          0.9297,
          0.8594,
          0.9137,
          0.8818,
          0.8339,
          0.8147,
          0.9105,
          0.8466,
          0.8754,
          0.8946,
          0.7859,
          0.8882,
          0.8658,
          0.853,
          0.9329,
          0.655,
          0.8658,
          0.7987,
          0.9137,
          0.8403,
          0.8594,
          0.8722,
          0.7859,
          0.9457,
          0.6645,
          0.9233,
          0.7923,
          0.9105,
          0.8051,
          0.8466,
          0.7955,
          0.885,
          0.8307,
          0.8179,
          0.8882,
          0.8722,
          0.6805,
          0.9073,
          0.8275,
          0.9042
         ],
         "yaxis": "y"
        },
        {
         "hovertemplate": "Class=2<br>epoch=%{x}<br>accuracy=%{y}<extra></extra>",
         "legendgroup": "2",
         "line": {
          "color": "#00cc96",
          "dash": "solid"
         },
         "marker": {
          "symbol": "circle"
         },
         "mode": "markers+lines",
         "name": "2",
         "orientation": "v",
         "showlegend": true,
         "type": "scatter",
         "x": [
          1,
          2,
          3,
          4,
          5,
          6,
          7,
          8,
          9,
          10,
          11,
          12,
          13,
          14,
          15,
          16,
          17,
          18,
          19,
          20,
          21,
          22,
          23,
          24,
          25,
          26,
          27,
          28,
          29,
          30,
          31,
          32,
          33,
          34,
          35,
          36,
          37,
          38,
          39,
          40,
          41,
          42,
          43,
          44,
          45,
          46,
          47,
          48,
          49,
          50
         ],
         "xaxis": "x",
         "y": [
          0.7305,
          0.8636,
          0.7078,
          0.6948,
          0.763,
          0.8117,
          0.9383,
          0.8247,
          0.8214,
          0.6721,
          0.763,
          0.8604,
          0.8701,
          0.8864,
          0.9221,
          0.8831,
          0.8279,
          0.75,
          0.9058,
          0.9123,
          0.8701,
          0.8084,
          0.8571,
          0.9221,
          0.7305,
          0.9675,
          0.7435,
          0.8766,
          0.8929,
          0.8182,
          0.8766,
          0.8896,
          0.8636,
          0.7662,
          0.8442,
          0.8442,
          0.9091,
          0.8442,
          0.8701,
          0.9026,
          0.8539,
          0.9351,
          0.7922,
          0.9188,
          0.8247,
          0.8961,
          0.9318,
          0.763,
          0.8474,
          0.9026
         ],
         "yaxis": "y"
        }
       ],
       "layout": {
        "height": 600,
        "legend": {
         "title": {
          "text": "Class"
         },
         "tracegroupgap": 0
        },
        "shapes": [
         {
          "line": {
           "color": "green",
           "dash": "dash",
           "width": 2
          },
          "type": "line",
          "x0": 46,
          "x1": 46,
          "xref": "x",
          "y0": 0,
          "y1": 1,
          "yref": "y domain"
         }
        ],
        "template": {
         "data": {
          "bar": [
           {
            "error_x": {
             "color": "#2a3f5f"
            },
            "error_y": {
             "color": "#2a3f5f"
            },
            "marker": {
             "line": {
              "color": "#E5ECF6",
              "width": 0.5
             },
             "pattern": {
              "fillmode": "overlay",
              "size": 10,
              "solidity": 0.2
             }
            },
            "type": "bar"
           }
          ],
          "barpolar": [
           {
            "marker": {
             "line": {
              "color": "#E5ECF6",
              "width": 0.5
             },
             "pattern": {
              "fillmode": "overlay",
              "size": 10,
              "solidity": 0.2
             }
            },
            "type": "barpolar"
           }
          ],
          "carpet": [
           {
            "aaxis": {
             "endlinecolor": "#2a3f5f",
             "gridcolor": "white",
             "linecolor": "white",
             "minorgridcolor": "white",
             "startlinecolor": "#2a3f5f"
            },
            "baxis": {
             "endlinecolor": "#2a3f5f",
             "gridcolor": "white",
             "linecolor": "white",
             "minorgridcolor": "white",
             "startlinecolor": "#2a3f5f"
            },
            "type": "carpet"
           }
          ],
          "choropleth": [
           {
            "colorbar": {
             "outlinewidth": 0,
             "ticks": ""
            },
            "type": "choropleth"
           }
          ],
          "contour": [
           {
            "colorbar": {
             "outlinewidth": 0,
             "ticks": ""
            },
            "colorscale": [
             [
              0,
              "#0d0887"
             ],
             [
              0.1111111111111111,
              "#46039f"
             ],
             [
              0.2222222222222222,
              "#7201a8"
             ],
             [
              0.3333333333333333,
              "#9c179e"
             ],
             [
              0.4444444444444444,
              "#bd3786"
             ],
             [
              0.5555555555555556,
              "#d8576b"
             ],
             [
              0.6666666666666666,
              "#ed7953"
             ],
             [
              0.7777777777777778,
              "#fb9f3a"
             ],
             [
              0.8888888888888888,
              "#fdca26"
             ],
             [
              1,
              "#f0f921"
             ]
            ],
            "type": "contour"
           }
          ],
          "contourcarpet": [
           {
            "colorbar": {
             "outlinewidth": 0,
             "ticks": ""
            },
            "type": "contourcarpet"
           }
          ],
          "heatmap": [
           {
            "colorbar": {
             "outlinewidth": 0,
             "ticks": ""
            },
            "colorscale": [
             [
              0,
              "#0d0887"
             ],
             [
              0.1111111111111111,
              "#46039f"
             ],
             [
              0.2222222222222222,
              "#7201a8"
             ],
             [
              0.3333333333333333,
              "#9c179e"
             ],
             [
              0.4444444444444444,
              "#bd3786"
             ],
             [
              0.5555555555555556,
              "#d8576b"
             ],
             [
              0.6666666666666666,
              "#ed7953"
             ],
             [
              0.7777777777777778,
              "#fb9f3a"
             ],
             [
              0.8888888888888888,
              "#fdca26"
             ],
             [
              1,
              "#f0f921"
             ]
            ],
            "type": "heatmap"
           }
          ],
          "heatmapgl": [
           {
            "colorbar": {
             "outlinewidth": 0,
             "ticks": ""
            },
            "colorscale": [
             [
              0,
              "#0d0887"
             ],
             [
              0.1111111111111111,
              "#46039f"
             ],
             [
              0.2222222222222222,
              "#7201a8"
             ],
             [
              0.3333333333333333,
              "#9c179e"
             ],
             [
              0.4444444444444444,
              "#bd3786"
             ],
             [
              0.5555555555555556,
              "#d8576b"
             ],
             [
              0.6666666666666666,
              "#ed7953"
             ],
             [
              0.7777777777777778,
              "#fb9f3a"
             ],
             [
              0.8888888888888888,
              "#fdca26"
             ],
             [
              1,
              "#f0f921"
             ]
            ],
            "type": "heatmapgl"
           }
          ],
          "histogram": [
           {
            "marker": {
             "pattern": {
              "fillmode": "overlay",
              "size": 10,
              "solidity": 0.2
             }
            },
            "type": "histogram"
           }
          ],
          "histogram2d": [
           {
            "colorbar": {
             "outlinewidth": 0,
             "ticks": ""
            },
            "colorscale": [
             [
              0,
              "#0d0887"
             ],
             [
              0.1111111111111111,
              "#46039f"
             ],
             [
              0.2222222222222222,
              "#7201a8"
             ],
             [
              0.3333333333333333,
              "#9c179e"
             ],
             [
              0.4444444444444444,
              "#bd3786"
             ],
             [
              0.5555555555555556,
              "#d8576b"
             ],
             [
              0.6666666666666666,
              "#ed7953"
             ],
             [
              0.7777777777777778,
              "#fb9f3a"
             ],
             [
              0.8888888888888888,
              "#fdca26"
             ],
             [
              1,
              "#f0f921"
             ]
            ],
            "type": "histogram2d"
           }
          ],
          "histogram2dcontour": [
           {
            "colorbar": {
             "outlinewidth": 0,
             "ticks": ""
            },
            "colorscale": [
             [
              0,
              "#0d0887"
             ],
             [
              0.1111111111111111,
              "#46039f"
             ],
             [
              0.2222222222222222,
              "#7201a8"
             ],
             [
              0.3333333333333333,
              "#9c179e"
             ],
             [
              0.4444444444444444,
              "#bd3786"
             ],
             [
              0.5555555555555556,
              "#d8576b"
             ],
             [
              0.6666666666666666,
              "#ed7953"
             ],
             [
              0.7777777777777778,
              "#fb9f3a"
             ],
             [
              0.8888888888888888,
              "#fdca26"
             ],
             [
              1,
              "#f0f921"
             ]
            ],
            "type": "histogram2dcontour"
           }
          ],
          "mesh3d": [
           {
            "colorbar": {
             "outlinewidth": 0,
             "ticks": ""
            },
            "type": "mesh3d"
           }
          ],
          "parcoords": [
           {
            "line": {
             "colorbar": {
              "outlinewidth": 0,
              "ticks": ""
             }
            },
            "type": "parcoords"
           }
          ],
          "pie": [
           {
            "automargin": true,
            "type": "pie"
           }
          ],
          "scatter": [
           {
            "fillpattern": {
             "fillmode": "overlay",
             "size": 10,
             "solidity": 0.2
            },
            "type": "scatter"
           }
          ],
          "scatter3d": [
           {
            "line": {
             "colorbar": {
              "outlinewidth": 0,
              "ticks": ""
             }
            },
            "marker": {
             "colorbar": {
              "outlinewidth": 0,
              "ticks": ""
             }
            },
            "type": "scatter3d"
           }
          ],
          "scattercarpet": [
           {
            "marker": {
             "colorbar": {
              "outlinewidth": 0,
              "ticks": ""
             }
            },
            "type": "scattercarpet"
           }
          ],
          "scattergeo": [
           {
            "marker": {
             "colorbar": {
              "outlinewidth": 0,
              "ticks": ""
             }
            },
            "type": "scattergeo"
           }
          ],
          "scattergl": [
           {
            "marker": {
             "colorbar": {
              "outlinewidth": 0,
              "ticks": ""
             }
            },
            "type": "scattergl"
           }
          ],
          "scattermapbox": [
           {
            "marker": {
             "colorbar": {
              "outlinewidth": 0,
              "ticks": ""
             }
            },
            "type": "scattermapbox"
           }
          ],
          "scatterpolar": [
           {
            "marker": {
             "colorbar": {
              "outlinewidth": 0,
              "ticks": ""
             }
            },
            "type": "scatterpolar"
           }
          ],
          "scatterpolargl": [
           {
            "marker": {
             "colorbar": {
              "outlinewidth": 0,
              "ticks": ""
             }
            },
            "type": "scatterpolargl"
           }
          ],
          "scatterternary": [
           {
            "marker": {
             "colorbar": {
              "outlinewidth": 0,
              "ticks": ""
             }
            },
            "type": "scatterternary"
           }
          ],
          "surface": [
           {
            "colorbar": {
             "outlinewidth": 0,
             "ticks": ""
            },
            "colorscale": [
             [
              0,
              "#0d0887"
             ],
             [
              0.1111111111111111,
              "#46039f"
             ],
             [
              0.2222222222222222,
              "#7201a8"
             ],
             [
              0.3333333333333333,
              "#9c179e"
             ],
             [
              0.4444444444444444,
              "#bd3786"
             ],
             [
              0.5555555555555556,
              "#d8576b"
             ],
             [
              0.6666666666666666,
              "#ed7953"
             ],
             [
              0.7777777777777778,
              "#fb9f3a"
             ],
             [
              0.8888888888888888,
              "#fdca26"
             ],
             [
              1,
              "#f0f921"
             ]
            ],
            "type": "surface"
           }
          ],
          "table": [
           {
            "cells": {
             "fill": {
              "color": "#EBF0F8"
             },
             "line": {
              "color": "white"
             }
            },
            "header": {
             "fill": {
              "color": "#C8D4E3"
             },
             "line": {
              "color": "white"
             }
            },
            "type": "table"
           }
          ]
         },
         "layout": {
          "annotationdefaults": {
           "arrowcolor": "#2a3f5f",
           "arrowhead": 0,
           "arrowwidth": 1
          },
          "autotypenumbers": "strict",
          "coloraxis": {
           "colorbar": {
            "outlinewidth": 0,
            "ticks": ""
           }
          },
          "colorscale": {
           "diverging": [
            [
             0,
             "#8e0152"
            ],
            [
             0.1,
             "#c51b7d"
            ],
            [
             0.2,
             "#de77ae"
            ],
            [
             0.3,
             "#f1b6da"
            ],
            [
             0.4,
             "#fde0ef"
            ],
            [
             0.5,
             "#f7f7f7"
            ],
            [
             0.6,
             "#e6f5d0"
            ],
            [
             0.7,
             "#b8e186"
            ],
            [
             0.8,
             "#7fbc41"
            ],
            [
             0.9,
             "#4d9221"
            ],
            [
             1,
             "#276419"
            ]
           ],
           "sequential": [
            [
             0,
             "#0d0887"
            ],
            [
             0.1111111111111111,
             "#46039f"
            ],
            [
             0.2222222222222222,
             "#7201a8"
            ],
            [
             0.3333333333333333,
             "#9c179e"
            ],
            [
             0.4444444444444444,
             "#bd3786"
            ],
            [
             0.5555555555555556,
             "#d8576b"
            ],
            [
             0.6666666666666666,
             "#ed7953"
            ],
            [
             0.7777777777777778,
             "#fb9f3a"
            ],
            [
             0.8888888888888888,
             "#fdca26"
            ],
            [
             1,
             "#f0f921"
            ]
           ],
           "sequentialminus": [
            [
             0,
             "#0d0887"
            ],
            [
             0.1111111111111111,
             "#46039f"
            ],
            [
             0.2222222222222222,
             "#7201a8"
            ],
            [
             0.3333333333333333,
             "#9c179e"
            ],
            [
             0.4444444444444444,
             "#bd3786"
            ],
            [
             0.5555555555555556,
             "#d8576b"
            ],
            [
             0.6666666666666666,
             "#ed7953"
            ],
            [
             0.7777777777777778,
             "#fb9f3a"
            ],
            [
             0.8888888888888888,
             "#fdca26"
            ],
            [
             1,
             "#f0f921"
            ]
           ]
          },
          "colorway": [
           "#636efa",
           "#EF553B",
           "#00cc96",
           "#ab63fa",
           "#FFA15A",
           "#19d3f3",
           "#FF6692",
           "#B6E880",
           "#FF97FF",
           "#FECB52"
          ],
          "font": {
           "color": "#2a3f5f"
          },
          "geo": {
           "bgcolor": "white",
           "lakecolor": "white",
           "landcolor": "#E5ECF6",
           "showlakes": true,
           "showland": true,
           "subunitcolor": "white"
          },
          "hoverlabel": {
           "align": "left"
          },
          "hovermode": "closest",
          "mapbox": {
           "style": "light"
          },
          "paper_bgcolor": "white",
          "plot_bgcolor": "#E5ECF6",
          "polar": {
           "angularaxis": {
            "gridcolor": "white",
            "linecolor": "white",
            "ticks": ""
           },
           "bgcolor": "#E5ECF6",
           "radialaxis": {
            "gridcolor": "white",
            "linecolor": "white",
            "ticks": ""
           }
          },
          "scene": {
           "xaxis": {
            "backgroundcolor": "#E5ECF6",
            "gridcolor": "white",
            "gridwidth": 2,
            "linecolor": "white",
            "showbackground": true,
            "ticks": "",
            "zerolinecolor": "white"
           },
           "yaxis": {
            "backgroundcolor": "#E5ECF6",
            "gridcolor": "white",
            "gridwidth": 2,
            "linecolor": "white",
            "showbackground": true,
            "ticks": "",
            "zerolinecolor": "white"
           },
           "zaxis": {
            "backgroundcolor": "#E5ECF6",
            "gridcolor": "white",
            "gridwidth": 2,
            "linecolor": "white",
            "showbackground": true,
            "ticks": "",
            "zerolinecolor": "white"
           }
          },
          "shapedefaults": {
           "line": {
            "color": "#2a3f5f"
           }
          },
          "ternary": {
           "aaxis": {
            "gridcolor": "white",
            "linecolor": "white",
            "ticks": ""
           },
           "baxis": {
            "gridcolor": "white",
            "linecolor": "white",
            "ticks": ""
           },
           "bgcolor": "#E5ECF6",
           "caxis": {
            "gridcolor": "white",
            "linecolor": "white",
            "ticks": ""
           }
          },
          "title": {
           "x": 0.05
          },
          "xaxis": {
           "automargin": true,
           "gridcolor": "white",
           "linecolor": "white",
           "ticks": "",
           "title": {
            "standoff": 15
           },
           "zerolinecolor": "white",
           "zerolinewidth": 2
          },
          "yaxis": {
           "automargin": true,
           "gridcolor": "white",
           "linecolor": "white",
           "ticks": "",
           "title": {
            "standoff": 15
           },
           "zerolinecolor": "white",
           "zerolinewidth": 2
          }
         }
        },
        "title": {
         "text": "Classes Accuracy<br><sup>Details: CNN_fixed[en][batch_size=64][epochs=50][vocab_size=3506][emb_dim=1024][kernel_size=5][stride=1][padding=3][lr=0.001][dropout=0.1]<sup>"
        },
        "width": 1000,
        "xaxis": {
         "anchor": "y",
         "domain": [
          0,
          1
         ],
         "range": [
          0.75,
          50.25
         ],
         "title": {
          "text": "epoch"
         }
        },
        "yaxis": {
         "anchor": "x",
         "domain": [
          0,
          1
         ],
         "title": {
          "text": "accuracy"
         }
        }
       }
      }
     },
     "metadata": {},
     "output_type": "display_data"
    }
   ],
   "source": [
    "classes_res_en = pd.read_csv(classes_res_en_path)\n",
    "\n",
    "# trick to reset index with classes values\n",
    "classes_res_en[\"index\"] = [0,1,2]*50\n",
    "classes_res_en.set_index(\"index\")\n",
    "\n",
    "plot_classes_accuracy(\n",
    "    classes_res_en, \n",
    "    vertical_line=46, # best epoch chosen\n",
    "    subtitle=\"Details: \" + BEST_CNN_EN.MODEL_DESCRIPTION\n",
    "    )"
   ]
  },
  {
   "cell_type": "code",
   "execution_count": 15,
   "metadata": {},
   "outputs": [
    {
     "name": "stdout",
     "output_type": "stream",
     "text": [
      "> Test Loss:     0.7085\n",
      "> Test Accuracy: 0.8425\n",
      "\n",
      "> Classes Accuracy\n",
      "   * Class 0\t 0.8627 [377 out of 437]\n",
      "   * Class 1\t 0.8237 [313 out of 380]\n",
      "   * Class 2\t 0.8381 [321 out of 383]\n",
      "   * Mean        0.8415\n"
     ]
    }
   ],
   "source": [
    "# fnally, we test it\n",
    "test_loss, test_acc, classes_dict = BEST_CNN_EN.test_model()"
   ]
  },
  {
   "cell_type": "markdown",
   "metadata": {},
   "source": [
    "---"
   ]
  },
  {
   "cell_type": "code",
   "execution_count": 3,
   "metadata": {},
   "outputs": [
    {
     "name": "stdout",
     "output_type": "stream",
     "text": [
      "Model CNN_fixed[en][batch_size=64][epochs=50][vocab_size=3506][emb_dim=1024][kernel_size=3][stride=1][padding=1][lr=0.0001][dropout=0.0] - Best Epoch: 45 - Mean Classes Accuracy: 0.8516\n",
      "Model CNN_fixed[en][batch_size=64][epochs=50][vocab_size=3506][emb_dim=1024][kernel_size=3][stride=1][padding=1][lr=0.0001][dropout=0.1] - Best Epoch: 41 - Mean Classes Accuracy: 0.863\n",
      "Model CNN_fixed[en][batch_size=64][epochs=50][vocab_size=3506][emb_dim=1024][kernel_size=3][stride=1][padding=1][lr=0.001][dropout=0.0] - Best Epoch: 28 - Mean Classes Accuracy: 0.8535\n",
      "Model CNN_fixed[en][batch_size=64][epochs=50][vocab_size=3506][emb_dim=1024][kernel_size=3][stride=1][padding=1][lr=0.001][dropout=0.1] - Best Epoch: 48 - Mean Classes Accuracy: 0.8674\n",
      "Model CNN_fixed[en][batch_size=64][epochs=50][vocab_size=3506][emb_dim=1024][kernel_size=3][stride=1][padding=3][lr=0.0001][dropout=0.0] - Best Epoch: 49 - Mean Classes Accuracy: 0.8466\n",
      "Model CNN_fixed[en][batch_size=64][epochs=50][vocab_size=3506][emb_dim=1024][kernel_size=3][stride=1][padding=3][lr=0.0001][dropout=0.1] - Best Epoch: 44 - Mean Classes Accuracy: 0.8607\n",
      "Model CNN_fixed[en][batch_size=64][epochs=50][vocab_size=3506][emb_dim=1024][kernel_size=3][stride=1][padding=3][lr=0.001][dropout=0.0] - Best Epoch: 50 - Mean Classes Accuracy: 0.8716\n",
      "Model CNN_fixed[en][batch_size=64][epochs=50][vocab_size=3506][emb_dim=1024][kernel_size=3][stride=1][padding=3][lr=0.001][dropout=0.1] - Best Epoch: 22 - Mean Classes Accuracy: 0.8755\n",
      "Model CNN_fixed[en][batch_size=64][epochs=50][vocab_size=3506][emb_dim=1024][kernel_size=3][stride=3][padding=1][lr=0.0001][dropout=0.0] - Best Epoch: 48 - Mean Classes Accuracy: 0.804\n",
      "Model CNN_fixed[en][batch_size=64][epochs=50][vocab_size=3506][emb_dim=1024][kernel_size=3][stride=3][padding=1][lr=0.0001][dropout=0.1] - Best Epoch: 36 - Mean Classes Accuracy: 0.8071\n",
      "Model CNN_fixed[en][batch_size=64][epochs=50][vocab_size=3506][emb_dim=1024][kernel_size=3][stride=3][padding=1][lr=0.001][dropout=0.0] - Best Epoch: 29 - Mean Classes Accuracy: 0.825\n",
      "Model CNN_fixed[en][batch_size=64][epochs=50][vocab_size=3506][emb_dim=1024][kernel_size=3][stride=3][padding=1][lr=0.001][dropout=0.1] - Best Epoch: 43 - Mean Classes Accuracy: 0.8708\n",
      "Model CNN_fixed[en][batch_size=64][epochs=50][vocab_size=3506][emb_dim=1024][kernel_size=3][stride=3][padding=3][lr=0.0001][dropout=0.0] - Best Epoch: 34 - Mean Classes Accuracy: 0.824\n",
      "Model CNN_fixed[en][batch_size=64][epochs=50][vocab_size=3506][emb_dim=1024][kernel_size=3][stride=3][padding=3][lr=0.0001][dropout=0.1] - Best Epoch: 27 - Mean Classes Accuracy: 0.8711\n",
      "Model CNN_fixed[en][batch_size=64][epochs=50][vocab_size=3506][emb_dim=1024][kernel_size=3][stride=3][padding=3][lr=0.001][dropout=0.0] - Best Epoch: 25 - Mean Classes Accuracy: 0.8644\n",
      "Model CNN_fixed[en][batch_size=64][epochs=50][vocab_size=3506][emb_dim=1024][kernel_size=3][stride=3][padding=3][lr=0.001][dropout=0.1] - Best Epoch: 47 - Mean Classes Accuracy: 0.8756\n",
      "Model CNN_fixed[en][batch_size=64][epochs=50][vocab_size=3506][emb_dim=1024][kernel_size=5][stride=1][padding=1][lr=0.0001][dropout=0.0] - Best Epoch: 34 - Mean Classes Accuracy: 0.8274\n",
      "Model CNN_fixed[en][batch_size=64][epochs=50][vocab_size=3506][emb_dim=1024][kernel_size=5][stride=1][padding=1][lr=0.0001][dropout=0.1] - Best Epoch: 47 - Mean Classes Accuracy: 0.8329\n",
      "Model CNN_fixed[en][batch_size=64][epochs=50][vocab_size=3506][emb_dim=1024][kernel_size=5][stride=1][padding=1][lr=0.001][dropout=0.0] - Best Epoch: 35 - Mean Classes Accuracy: 0.8792\n",
      "Model CNN_fixed[en][batch_size=64][epochs=50][vocab_size=3506][emb_dim=1024][kernel_size=5][stride=1][padding=1][lr=0.001][dropout=0.1] - Best Epoch: 16 - Mean Classes Accuracy: 0.8862\n",
      "Model CNN_fixed[en][batch_size=64][epochs=50][vocab_size=3506][emb_dim=1024][kernel_size=5][stride=1][padding=3][lr=0.0001][dropout=0.0] - Best Epoch: 49 - Mean Classes Accuracy: 0.8146\n",
      "Model CNN_fixed[en][batch_size=64][epochs=50][vocab_size=3506][emb_dim=1024][kernel_size=5][stride=1][padding=3][lr=0.0001][dropout=0.1] - Best Epoch: 47 - Mean Classes Accuracy: 0.8253\n",
      "Model CNN_fixed[en][batch_size=64][epochs=50][vocab_size=3506][emb_dim=1024][kernel_size=5][stride=1][padding=3][lr=0.001][dropout=0.0] - Best Epoch: 32 - Mean Classes Accuracy: 0.8673\n",
      "Model CNN_fixed[en][batch_size=64][epochs=50][vocab_size=3506][emb_dim=1024][kernel_size=5][stride=1][padding=3][lr=0.001][dropout=0.1] - Best Epoch: 46 - Mean Classes Accuracy: 0.8874\n",
      "Model CNN_fixed[en][batch_size=64][epochs=50][vocab_size=3506][emb_dim=1024][kernel_size=5][stride=3][padding=1][lr=0.0001][dropout=0.0] - Best Epoch: 49 - Mean Classes Accuracy: 0.8169\n",
      "Model CNN_fixed[en][batch_size=64][epochs=50][vocab_size=3506][emb_dim=1024][kernel_size=5][stride=3][padding=1][lr=0.0001][dropout=0.1] - Best Epoch: 43 - Mean Classes Accuracy: 0.8174\n",
      "Model CNN_fixed[en][batch_size=64][epochs=50][vocab_size=3506][emb_dim=1024][kernel_size=5][stride=3][padding=1][lr=0.001][dropout=0.0] - Best Epoch: 49 - Mean Classes Accuracy: 0.8605\n",
      "Model CNN_fixed[en][batch_size=64][epochs=50][vocab_size=3506][emb_dim=1024][kernel_size=5][stride=3][padding=1][lr=0.001][dropout=0.1] - Best Epoch: 35 - Mean Classes Accuracy: 0.8604\n",
      "Model CNN_fixed[en][batch_size=64][epochs=50][vocab_size=3506][emb_dim=1024][kernel_size=5][stride=3][padding=3][lr=0.0001][dropout=0.0] - Best Epoch: 39 - Mean Classes Accuracy: 0.8082\n",
      "Model CNN_fixed[en][batch_size=64][epochs=50][vocab_size=3506][emb_dim=1024][kernel_size=5][stride=3][padding=3][lr=0.0001][dropout=0.1] - Best Epoch: 42 - Mean Classes Accuracy: 0.8077\n",
      "Model CNN_fixed[en][batch_size=64][epochs=50][vocab_size=3506][emb_dim=1024][kernel_size=5][stride=3][padding=3][lr=0.001][dropout=0.0] - Best Epoch: 38 - Mean Classes Accuracy: 0.8604\n",
      "Model CNN_fixed[en][batch_size=64][epochs=50][vocab_size=3506][emb_dim=1024][kernel_size=5][stride=3][padding=3][lr=0.001][dropout=0.1] - Best Epoch: 32 - Mean Classes Accuracy: 0.8743\n",
      "Model CNN_fixed[en][batch_size=64][epochs=50][vocab_size=3506][emb_dim=1024][kernel_size=7][stride=1][padding=1][lr=0.0001][dropout=0.0] - Best Epoch: 36 - Mean Classes Accuracy: 0.8503\n",
      "Model CNN_fixed[en][batch_size=64][epochs=50][vocab_size=3506][emb_dim=1024][kernel_size=7][stride=1][padding=1][lr=0.0001][dropout=0.1] - Best Epoch: 43 - Mean Classes Accuracy: 0.8171\n",
      "Model CNN_fixed[en][batch_size=64][epochs=50][vocab_size=3506][emb_dim=1024][kernel_size=7][stride=1][padding=1][lr=0.001][dropout=0.0] - Best Epoch: 46 - Mean Classes Accuracy: 0.8602\n",
      "Model CNN_fixed[en][batch_size=64][epochs=50][vocab_size=3506][emb_dim=1024][kernel_size=7][stride=1][padding=1][lr=0.001][dropout=0.1] - Best Epoch: 16 - Mean Classes Accuracy: 0.8761\n",
      "Model CNN_fixed[en][batch_size=64][epochs=50][vocab_size=3506][emb_dim=1024][kernel_size=7][stride=1][padding=3][lr=0.0001][dropout=0.0] - Best Epoch: 48 - Mean Classes Accuracy: 0.7751\n",
      "Model CNN_fixed[en][batch_size=64][epochs=50][vocab_size=3506][emb_dim=1024][kernel_size=7][stride=1][padding=3][lr=0.0001][dropout=0.1] - Best Epoch: 46 - Mean Classes Accuracy: 0.7914\n",
      "Model CNN_fixed[en][batch_size=64][epochs=50][vocab_size=3506][emb_dim=1024][kernel_size=7][stride=1][padding=3][lr=0.001][dropout=0.0] - Best Epoch: 31 - Mean Classes Accuracy: 0.8476\n",
      "Model CNN_fixed[en][batch_size=64][epochs=50][vocab_size=3506][emb_dim=1024][kernel_size=7][stride=1][padding=3][lr=0.001][dropout=0.1] - Best Epoch: 28 - Mean Classes Accuracy: 0.8568\n",
      "Model CNN_fixed[en][batch_size=64][epochs=50][vocab_size=3506][emb_dim=1024][kernel_size=7][stride=3][padding=1][lr=0.0001][dropout=0.0] - Best Epoch: 47 - Mean Classes Accuracy: 0.7601\n",
      "Model CNN_fixed[en][batch_size=64][epochs=50][vocab_size=3506][emb_dim=1024][kernel_size=7][stride=3][padding=1][lr=0.0001][dropout=0.1] - Best Epoch: 50 - Mean Classes Accuracy: 0.7826\n",
      "Model CNN_fixed[en][batch_size=64][epochs=50][vocab_size=3506][emb_dim=1024][kernel_size=7][stride=3][padding=1][lr=0.001][dropout=0.0] - Best Epoch: 24 - Mean Classes Accuracy: 0.87\n",
      "Model CNN_fixed[en][batch_size=64][epochs=50][vocab_size=3506][emb_dim=1024][kernel_size=7][stride=3][padding=1][lr=0.001][dropout=0.1] - Best Epoch: 38 - Mean Classes Accuracy: 0.8423\n",
      "Model CNN_fixed[en][batch_size=64][epochs=50][vocab_size=3506][emb_dim=1024][kernel_size=7][stride=3][padding=3][lr=0.0001][dropout=0.0] - Best Epoch: 45 - Mean Classes Accuracy: 0.7817\n",
      "Model CNN_fixed[en][batch_size=64][epochs=50][vocab_size=3506][emb_dim=1024][kernel_size=7][stride=3][padding=3][lr=0.0001][dropout=0.1] - Best Epoch: 44 - Mean Classes Accuracy: 0.7513\n",
      "Model CNN_fixed[en][batch_size=64][epochs=50][vocab_size=3506][emb_dim=1024][kernel_size=7][stride=3][padding=3][lr=0.001][dropout=0.0] - Best Epoch: 25 - Mean Classes Accuracy: 0.861\n",
      "Model CNN_fixed[en][batch_size=64][epochs=50][vocab_size=3506][emb_dim=1024][kernel_size=7][stride=3][padding=3][lr=0.001][dropout=0.1] - Best Epoch: 32 - Mean Classes Accuracy: 0.85\n",
      "Model CNN_fixed[en][batch_size=64][epochs=50][vocab_size=3506][emb_dim=2048][kernel_size=3][stride=1][padding=1][lr=0.0001][dropout=0.0] - Best Epoch: 47 - Mean Classes Accuracy: 0.8432\n",
      "Model CNN_fixed[en][batch_size=64][epochs=50][vocab_size=3506][emb_dim=2048][kernel_size=3][stride=1][padding=1][lr=0.0001][dropout=0.1] - Best Epoch: 47 - Mean Classes Accuracy: 0.8767\n",
      "Model CNN_fixed[en][batch_size=64][epochs=50][vocab_size=3506][emb_dim=2048][kernel_size=3][stride=1][padding=1][lr=0.001][dropout=0.0] - Best Epoch: 45 - Mean Classes Accuracy: 0.8206\n",
      "Model CNN_fixed[en][batch_size=64][epochs=50][vocab_size=3506][emb_dim=2048][kernel_size=3][stride=1][padding=1][lr=0.001][dropout=0.1] - Best Epoch: 31 - Mean Classes Accuracy: 0.8694\n",
      "Model CNN_fixed[en][batch_size=64][epochs=50][vocab_size=3506][emb_dim=2048][kernel_size=3][stride=1][padding=3][lr=0.0001][dropout=0.0] - Best Epoch: 36 - Mean Classes Accuracy: 0.8779\n",
      "Model CNN_fixed[en][batch_size=64][epochs=50][vocab_size=3506][emb_dim=2048][kernel_size=3][stride=1][padding=3][lr=0.0001][dropout=0.1] - Best Epoch: 29 - Mean Classes Accuracy: 0.8792\n",
      "Model CNN_fixed[en][batch_size=64][epochs=50][vocab_size=3506][emb_dim=2048][kernel_size=3][stride=1][padding=3][lr=0.001][dropout=0.0] - Best Epoch: 46 - Mean Classes Accuracy: 0.7908\n",
      "Model CNN_fixed[en][batch_size=64][epochs=50][vocab_size=3506][emb_dim=2048][kernel_size=3][stride=1][padding=3][lr=0.001][dropout=0.1] - Best Epoch: 11 - Mean Classes Accuracy: 0.8706\n",
      "Model CNN_fixed[en][batch_size=64][epochs=50][vocab_size=3506][emb_dim=2048][kernel_size=3][stride=3][padding=1][lr=0.0001][dropout=0.0] - Best Epoch: 27 - Mean Classes Accuracy: 0.8396\n",
      "Model CNN_fixed[en][batch_size=64][epochs=50][vocab_size=3506][emb_dim=2048][kernel_size=3][stride=3][padding=1][lr=0.0001][dropout=0.1] - Best Epoch: 48 - Mean Classes Accuracy: 0.8392\n",
      "Model CNN_fixed[en][batch_size=64][epochs=50][vocab_size=3506][emb_dim=2048][kernel_size=3][stride=3][padding=1][lr=0.001][dropout=0.0] - Best Epoch: 15 - Mean Classes Accuracy: 0.8646\n",
      "Model CNN_fixed[en][batch_size=64][epochs=50][vocab_size=3506][emb_dim=2048][kernel_size=3][stride=3][padding=1][lr=0.001][dropout=0.1] - Best Epoch: 24 - Mean Classes Accuracy: 0.8674\n",
      "Model CNN_fixed[en][batch_size=64][epochs=50][vocab_size=3506][emb_dim=2048][kernel_size=3][stride=3][padding=3][lr=0.0001][dropout=0.0] - Best Epoch: 42 - Mean Classes Accuracy: 0.8496\n",
      "Model CNN_fixed[en][batch_size=64][epochs=50][vocab_size=3506][emb_dim=2048][kernel_size=3][stride=3][padding=3][lr=0.0001][dropout=0.1] - Best Epoch: 48 - Mean Classes Accuracy: 0.8212\n",
      "Model CNN_fixed[en][batch_size=64][epochs=50][vocab_size=3506][emb_dim=2048][kernel_size=3][stride=3][padding=3][lr=0.001][dropout=0.0] - Best Epoch: 24 - Mean Classes Accuracy: 0.8676\n",
      "Model CNN_fixed[en][batch_size=64][epochs=50][vocab_size=3506][emb_dim=2048][kernel_size=3][stride=3][padding=3][lr=0.001][dropout=0.1] - Best Epoch: 44 - Mean Classes Accuracy: 0.8711\n",
      "Model CNN_fixed[en][batch_size=64][epochs=50][vocab_size=3506][emb_dim=2048][kernel_size=5][stride=1][padding=1][lr=0.0001][dropout=0.0] - Best Epoch: 35 - Mean Classes Accuracy: 0.8526\n",
      "Model CNN_fixed[en][batch_size=64][epochs=50][vocab_size=3506][emb_dim=2048][kernel_size=5][stride=1][padding=1][lr=0.0001][dropout=0.1] - Best Epoch: 37 - Mean Classes Accuracy: 0.8617\n",
      "Model CNN_fixed[en][batch_size=64][epochs=50][vocab_size=3506][emb_dim=2048][kernel_size=5][stride=1][padding=1][lr=0.001][dropout=0.0] - Best Epoch: 22 - Mean Classes Accuracy: 0.8778\n",
      "Model CNN_fixed[en][batch_size=64][epochs=50][vocab_size=3506][emb_dim=2048][kernel_size=5][stride=1][padding=1][lr=0.001][dropout=0.1] - Best Epoch: 19 - Mean Classes Accuracy: 0.87\n",
      "Model CNN_fixed[en][batch_size=64][epochs=50][vocab_size=3506][emb_dim=2048][kernel_size=5][stride=1][padding=3][lr=0.0001][dropout=0.0] - Best Epoch: 44 - Mean Classes Accuracy: 0.8582\n",
      "Model CNN_fixed[en][batch_size=64][epochs=50][vocab_size=3506][emb_dim=2048][kernel_size=5][stride=1][padding=3][lr=0.0001][dropout=0.1] - Best Epoch: 49 - Mean Classes Accuracy: 0.8394\n",
      "Model CNN_fixed[en][batch_size=64][epochs=50][vocab_size=3506][emb_dim=2048][kernel_size=5][stride=1][padding=3][lr=0.001][dropout=0.0] - Best Epoch: 27 - Mean Classes Accuracy: 0.8781\n",
      "Model CNN_fixed[en][batch_size=64][epochs=50][vocab_size=3506][emb_dim=2048][kernel_size=5][stride=1][padding=3][lr=0.001][dropout=0.1] - Best Epoch: 35 - Mean Classes Accuracy: 0.8479\n",
      "Model CNN_fixed[en][batch_size=64][epochs=50][vocab_size=3506][emb_dim=2048][kernel_size=5][stride=3][padding=1][lr=0.0001][dropout=0.0] - Best Epoch: 47 - Mean Classes Accuracy: 0.7928\n",
      "Model CNN_fixed[en][batch_size=64][epochs=50][vocab_size=3506][emb_dim=2048][kernel_size=5][stride=3][padding=1][lr=0.0001][dropout=0.1] - Best Epoch: 40 - Mean Classes Accuracy: 0.8096\n",
      "Model CNN_fixed[en][batch_size=64][epochs=50][vocab_size=3506][emb_dim=2048][kernel_size=5][stride=3][padding=1][lr=0.001][dropout=0.0] - Best Epoch: 24 - Mean Classes Accuracy: 0.862\n",
      "Model CNN_fixed[en][batch_size=64][epochs=50][vocab_size=3506][emb_dim=2048][kernel_size=5][stride=3][padding=1][lr=0.001][dropout=0.1] - Best Epoch: 34 - Mean Classes Accuracy: 0.851\n",
      "Model CNN_fixed[en][batch_size=64][epochs=50][vocab_size=3506][emb_dim=2048][kernel_size=5][stride=3][padding=3][lr=0.0001][dropout=0.0] - Best Epoch: 48 - Mean Classes Accuracy: 0.8612\n",
      "Model CNN_fixed[en][batch_size=64][epochs=50][vocab_size=3506][emb_dim=2048][kernel_size=5][stride=3][padding=3][lr=0.0001][dropout=0.1] - Best Epoch: 35 - Mean Classes Accuracy: 0.812\n",
      "Model CNN_fixed[en][batch_size=64][epochs=50][vocab_size=3506][emb_dim=2048][kernel_size=5][stride=3][padding=3][lr=0.001][dropout=0.0] - Best Epoch: 33 - Mean Classes Accuracy: 0.8578\n",
      "Model CNN_fixed[en][batch_size=64][epochs=50][vocab_size=3506][emb_dim=2048][kernel_size=5][stride=3][padding=3][lr=0.001][dropout=0.1] - Best Epoch: 49 - Mean Classes Accuracy: 0.8679\n",
      "Model CNN_fixed[en][batch_size=64][epochs=50][vocab_size=3506][emb_dim=2048][kernel_size=7][stride=1][padding=1][lr=0.0001][dropout=0.0] - Best Epoch: 45 - Mean Classes Accuracy: 0.8153\n",
      "Model CNN_fixed[en][batch_size=64][epochs=50][vocab_size=3506][emb_dim=2048][kernel_size=7][stride=1][padding=1][lr=0.0001][dropout=0.1] - Best Epoch: 50 - Mean Classes Accuracy: 0.8097\n",
      "Model CNN_fixed[en][batch_size=64][epochs=50][vocab_size=3506][emb_dim=2048][kernel_size=7][stride=1][padding=1][lr=0.001][dropout=0.0] - Best Epoch: 16 - Mean Classes Accuracy: 0.8729\n",
      "Model CNN_fixed[en][batch_size=64][epochs=50][vocab_size=3506][emb_dim=2048][kernel_size=7][stride=1][padding=1][lr=0.001][dropout=0.1] - Best Epoch: 24 - Mean Classes Accuracy: 0.8741\n",
      "Model CNN_fixed[en][batch_size=64][epochs=50][vocab_size=3506][emb_dim=2048][kernel_size=7][stride=1][padding=3][lr=0.0001][dropout=0.0] - Best Epoch: 40 - Mean Classes Accuracy: 0.8584\n",
      "Model CNN_fixed[en][batch_size=64][epochs=50][vocab_size=3506][emb_dim=2048][kernel_size=7][stride=1][padding=3][lr=0.0001][dropout=0.1] - Best Epoch: 34 - Mean Classes Accuracy: 0.8667\n",
      "Model CNN_fixed[en][batch_size=64][epochs=50][vocab_size=3506][emb_dim=2048][kernel_size=7][stride=1][padding=3][lr=0.001][dropout=0.0] - Best Epoch: 21 - Mean Classes Accuracy: 0.8837\n",
      "Model CNN_fixed[en][batch_size=64][epochs=50][vocab_size=3506][emb_dim=2048][kernel_size=7][stride=1][padding=3][lr=0.001][dropout=0.1] - Best Epoch: 18 - Mean Classes Accuracy: 0.5691\n",
      "Model CNN_fixed[en][batch_size=64][epochs=50][vocab_size=3506][emb_dim=2048][kernel_size=7][stride=3][padding=1][lr=0.0001][dropout=0.0] - Best Epoch: 45 - Mean Classes Accuracy: 0.8008\n",
      "Model CNN_fixed[en][batch_size=64][epochs=50][vocab_size=3506][emb_dim=2048][kernel_size=7][stride=3][padding=1][lr=0.0001][dropout=0.1] - Best Epoch: 46 - Mean Classes Accuracy: 0.7911\n",
      "Model CNN_fixed[en][batch_size=64][epochs=50][vocab_size=3506][emb_dim=2048][kernel_size=7][stride=3][padding=1][lr=0.001][dropout=0.0] - Best Epoch: 21 - Mean Classes Accuracy: 0.8735\n",
      "Model CNN_fixed[en][batch_size=64][epochs=50][vocab_size=3506][emb_dim=2048][kernel_size=7][stride=3][padding=1][lr=0.001][dropout=0.1] - Best Epoch: 33 - Mean Classes Accuracy: 0.8732\n",
      "Model CNN_fixed[en][batch_size=64][epochs=50][vocab_size=3506][emb_dim=2048][kernel_size=7][stride=3][padding=3][lr=0.0001][dropout=0.0] - Best Epoch: 48 - Mean Classes Accuracy: 0.8196\n",
      "Model CNN_fixed[en][batch_size=64][epochs=50][vocab_size=3506][emb_dim=2048][kernel_size=7][stride=3][padding=3][lr=0.0001][dropout=0.1] - Best Epoch: 47 - Mean Classes Accuracy: 0.7996\n",
      "Model CNN_fixed[en][batch_size=64][epochs=50][vocab_size=3506][emb_dim=2048][kernel_size=7][stride=3][padding=3][lr=0.001][dropout=0.0] - Best Epoch: 38 - Mean Classes Accuracy: 0.8736\n",
      "Model CNN_fixed[en][batch_size=64][epochs=50][vocab_size=3506][emb_dim=2048][kernel_size=7][stride=3][padding=3][lr=0.001][dropout=0.1] - Best Epoch: 48 - Mean Classes Accuracy: 0.8668\n"
     ]
    }
   ],
   "source": [
    "# first, we iterate over the models .txt and choose the best model\n",
    "\n",
    "import os\n",
    "\n",
    "directory = os.fsencode(\"models/CNN_fixed_en\")\n",
    "    \n",
    "for file in os.listdir(directory):\n",
    "     filename = os.fsdecode(file)\n",
    "     if filename.endswith(\".txt\"): \n",
    "        with open(os.path.join(\"models/CNN_fixed_en\",filename)) as f:\n",
    "            lines = f.readlines()\n",
    "\n",
    "            for line in lines:\n",
    "                print(line)\n",
    "\n",
    "     else:\n",
    "         continue"
   ]
  }
 ],
 "metadata": {
  "interpreter": {
   "hash": "455534d435f7de67bc0026f9ceba702b21954bd7ad83505586b95ef58f556ae5"
  },
  "kernelspec": {
   "display_name": "Python 3.9.12 ('NLP_2022')",
   "language": "python",
   "name": "python3"
  },
  "language_info": {
   "codemirror_mode": {
    "name": "ipython",
    "version": 3
   },
   "file_extension": ".py",
   "mimetype": "text/x-python",
   "name": "python",
   "nbconvert_exporter": "python",
   "pygments_lexer": "ipython3",
   "version": "3.9.12"
  },
  "orig_nbformat": 4
 },
 "nbformat": 4,
 "nbformat_minor": 2
}
