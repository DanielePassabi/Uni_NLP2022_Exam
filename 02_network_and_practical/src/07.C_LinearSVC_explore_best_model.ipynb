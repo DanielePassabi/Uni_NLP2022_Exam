{
 "cells": [
  {
   "cell_type": "markdown",
   "metadata": {},
   "source": [
    "## **Introduction to ML for NLP [Network + Practical]**\n",
    "\n",
    "### **Linear Support Vector Classifier**"
   ]
  },
  {
   "cell_type": "markdown",
   "metadata": {},
   "source": [
    "#### **Libraries**\n",
    "\n",
    "After the fine-tuning phase, we know what the best C values are for each languages.\n",
    "\n",
    "In this notebook, we test the best models on a test set they have never seen, in order to verify their real performance."
   ]
  },
  {
   "cell_type": "code",
   "execution_count": 1,
   "metadata": {},
   "outputs": [
    {
     "name": "stdout",
     "output_type": "stream",
     "text": [
      "> Libraries Imported\n"
     ]
    }
   ],
   "source": [
    "# general\n",
    "import pandas as pd\n",
    "\n",
    "from utility.models_sklearn import CustomLinearSVC\n",
    "\n",
    "print(\"> Libraries Imported\")"
   ]
  },
  {
   "cell_type": "markdown",
   "metadata": {},
   "source": [
    "#### **Setup**\n",
    "\n",
    "We only need to import the dataset"
   ]
  },
  {
   "cell_type": "code",
   "execution_count": 2,
   "metadata": {},
   "outputs": [
    {
     "data": {
      "text/html": [
       "<div>\n",
       "<style scoped>\n",
       "    .dataframe tbody tr th:only-of-type {\n",
       "        vertical-align: middle;\n",
       "    }\n",
       "\n",
       "    .dataframe tbody tr th {\n",
       "        vertical-align: top;\n",
       "    }\n",
       "\n",
       "    .dataframe thead th {\n",
       "        text-align: right;\n",
       "    }\n",
       "</style>\n",
       "<table border=\"1\" class=\"dataframe\">\n",
       "  <thead>\n",
       "    <tr style=\"text-align: right;\">\n",
       "      <th></th>\n",
       "      <th>celex_id</th>\n",
       "      <th>labels</th>\n",
       "      <th>labels_new</th>\n",
       "      <th>text_en</th>\n",
       "      <th>text_de</th>\n",
       "      <th>text_it</th>\n",
       "      <th>text_pl</th>\n",
       "      <th>text_sv</th>\n",
       "      <th>text_en_enc</th>\n",
       "      <th>text_de_enc</th>\n",
       "      <th>text_it_enc</th>\n",
       "      <th>text_pl_enc</th>\n",
       "      <th>text_sv_enc</th>\n",
       "      <th>set</th>\n",
       "    </tr>\n",
       "  </thead>\n",
       "  <tbody>\n",
       "    <tr>\n",
       "      <th>0</th>\n",
       "      <td>32010D0395</td>\n",
       "      <td>2</td>\n",
       "      <td>0</td>\n",
       "      <td>commission decision of december on state aid c...</td>\n",
       "      <td>beschluss der kommission vom dezember uber die...</td>\n",
       "      <td>decisione della commissione del dicembre conce...</td>\n",
       "      <td>decyzja komisji z dnia grudnia r w sprawie pom...</td>\n",
       "      <td>kommissionens beslut av den december om det st...</td>\n",
       "      <td>[[2, 3, 4, 5, 6, 7, 8, 9, 10, 11, 12, 13, 14, ...</td>\n",
       "      <td>[[2, 3, 4, 5, 6, 7, 8, 9, 10, 11, 12, 13, 14, ...</td>\n",
       "      <td>[[2, 3, 4, 5, 6, 7, 8, 9, 10, 11, 12, 13, 14, ...</td>\n",
       "      <td>[[2, 3, 4, 5, 6, 7, 8, 9, 10, 11, 12, 13, 14, ...</td>\n",
       "      <td>[[2, 3, 4, 5, 6, 7, 8, 9, 10, 11, 12, 13, 14, ...</td>\n",
       "      <td>train</td>\n",
       "    </tr>\n",
       "    <tr>\n",
       "      <th>1</th>\n",
       "      <td>32012R0453</td>\n",
       "      <td>2</td>\n",
       "      <td>0</td>\n",
       "      <td>commission implementing regulation eu no of ma...</td>\n",
       "      <td>durchfuhrungsverordnung eu nr der kommission v...</td>\n",
       "      <td>regolamento di esecuzione ue n della commissio...</td>\n",
       "      <td>rozporzadzenie wykonawcze komisji ue nr z dnia...</td>\n",
       "      <td>kommissionens genomforandeforordning eu nr av ...</td>\n",
       "      <td>[[2, 1275, 1276, 29, 100, 4, 743, 1277, 15, 12...</td>\n",
       "      <td>[[1302, 33, 1303, 3, 4, 5, 807, 15, 1304, 3, 6...</td>\n",
       "      <td>[[453, 10, 1422, 38, 14, 3, 4, 5, 990, 1423, 1...</td>\n",
       "      <td>[[1753, 1754, 3, 34, 24, 4, 5, 829, 7, 1755, 9...</td>\n",
       "      <td>[[2, 1239, 33, 23, 4, 5, 806, 7, 774, 4, 132, ...</td>\n",
       "      <td>train</td>\n",
       "    </tr>\n",
       "    <tr>\n",
       "      <th>2</th>\n",
       "      <td>32012D0043</td>\n",
       "      <td>2</td>\n",
       "      <td>0</td>\n",
       "      <td>commission implementing decision of january au...</td>\n",
       "      <td>durchfuhrungsbeschluss der kommission vom janu...</td>\n",
       "      <td>decisione di esecuzione della commissione del ...</td>\n",
       "      <td>decyzja wykonawcza komisji z dnia stycznia r u...</td>\n",
       "      <td>kommissionens genomforandebeslut av den januar...</td>\n",
       "      <td>[[2, 1275, 3, 4, 1310, 1311, 15, 1015, 4, 1312...</td>\n",
       "      <td>[[1344, 3, 4, 5, 1345, 15, 1346, 74, 1347, 134...</td>\n",
       "      <td>[[2, 10, 1422, 3, 4, 5, 1454, 245, 1455, 24, 1...</td>\n",
       "      <td>[[2, 1791, 3, 4, 5, 1792, 7, 1, 1793, 1794, 65...</td>\n",
       "      <td>[[2, 1279, 4, 5, 1280, 7, 1281, 19, 1282, 1283...</td>\n",
       "      <td>train</td>\n",
       "    </tr>\n",
       "  </tbody>\n",
       "</table>\n",
       "</div>"
      ],
      "text/plain": [
       "     celex_id  labels  labels_new  \\\n",
       "0  32010D0395       2           0   \n",
       "1  32012R0453       2           0   \n",
       "2  32012D0043       2           0   \n",
       "\n",
       "                                             text_en  \\\n",
       "0  commission decision of december on state aid c...   \n",
       "1  commission implementing regulation eu no of ma...   \n",
       "2  commission implementing decision of january au...   \n",
       "\n",
       "                                             text_de  \\\n",
       "0  beschluss der kommission vom dezember uber die...   \n",
       "1  durchfuhrungsverordnung eu nr der kommission v...   \n",
       "2  durchfuhrungsbeschluss der kommission vom janu...   \n",
       "\n",
       "                                             text_it  \\\n",
       "0  decisione della commissione del dicembre conce...   \n",
       "1  regolamento di esecuzione ue n della commissio...   \n",
       "2  decisione di esecuzione della commissione del ...   \n",
       "\n",
       "                                             text_pl  \\\n",
       "0  decyzja komisji z dnia grudnia r w sprawie pom...   \n",
       "1  rozporzadzenie wykonawcze komisji ue nr z dnia...   \n",
       "2  decyzja wykonawcza komisji z dnia stycznia r u...   \n",
       "\n",
       "                                             text_sv  \\\n",
       "0  kommissionens beslut av den december om det st...   \n",
       "1  kommissionens genomforandeforordning eu nr av ...   \n",
       "2  kommissionens genomforandebeslut av den januar...   \n",
       "\n",
       "                                         text_en_enc  \\\n",
       "0  [[2, 3, 4, 5, 6, 7, 8, 9, 10, 11, 12, 13, 14, ...   \n",
       "1  [[2, 1275, 1276, 29, 100, 4, 743, 1277, 15, 12...   \n",
       "2  [[2, 1275, 3, 4, 1310, 1311, 15, 1015, 4, 1312...   \n",
       "\n",
       "                                         text_de_enc  \\\n",
       "0  [[2, 3, 4, 5, 6, 7, 8, 9, 10, 11, 12, 13, 14, ...   \n",
       "1  [[1302, 33, 1303, 3, 4, 5, 807, 15, 1304, 3, 6...   \n",
       "2  [[1344, 3, 4, 5, 1345, 15, 1346, 74, 1347, 134...   \n",
       "\n",
       "                                         text_it_enc  \\\n",
       "0  [[2, 3, 4, 5, 6, 7, 8, 9, 10, 11, 12, 13, 14, ...   \n",
       "1  [[453, 10, 1422, 38, 14, 3, 4, 5, 990, 1423, 1...   \n",
       "2  [[2, 10, 1422, 3, 4, 5, 1454, 245, 1455, 24, 1...   \n",
       "\n",
       "                                         text_pl_enc  \\\n",
       "0  [[2, 3, 4, 5, 6, 7, 8, 9, 10, 11, 12, 13, 14, ...   \n",
       "1  [[1753, 1754, 3, 34, 24, 4, 5, 829, 7, 1755, 9...   \n",
       "2  [[2, 1791, 3, 4, 5, 1792, 7, 1, 1793, 1794, 65...   \n",
       "\n",
       "                                         text_sv_enc    set  \n",
       "0  [[2, 3, 4, 5, 6, 7, 8, 9, 10, 11, 12, 13, 14, ...  train  \n",
       "1  [[2, 1239, 33, 23, 4, 5, 806, 7, 774, 4, 132, ...  train  \n",
       "2  [[2, 1279, 4, 5, 1280, 7, 1281, 19, 1282, 1283...  train  "
      ]
     },
     "execution_count": 2,
     "metadata": {},
     "output_type": "execute_result"
    }
   ],
   "source": [
    "dataframe = pd.read_pickle(\"data/3_multi_eurlex_encoded.pkl\")\n",
    "dataframe.head(3)"
   ]
  },
  {
   "cell_type": "markdown",
   "metadata": {},
   "source": [
    "#### **Test Best Models**"
   ]
  },
  {
   "cell_type": "markdown",
   "metadata": {},
   "source": [
    "##### *English Model*"
   ]
  },
  {
   "cell_type": "code",
   "execution_count": 3,
   "metadata": {},
   "outputs": [
    {
     "name": "stdout",
     "output_type": "stream",
     "text": [
      "> Parameters imported\n",
      "> Dataset correctly divided in training set, validation set and test set\n",
      "> Computed TF-IDF for train, val and test set\n",
      "> Model 'LinearSVC' Instantiated\n",
      "> Training completed in 0.222 seconds\n",
      "\n",
      "> Testing the model on 'val set'\n",
      "  - Accuracy Score: 0.9115 \n",
      "\n",
      "              precision    recall  f1-score   support\n",
      "\n",
      "           0     0.9249    0.9086    0.9167       339\n",
      "           1     0.9049    0.8818    0.8932       313\n",
      "           2     0.9037    0.9448    0.9238       308\n",
      "\n",
      "    accuracy                         0.9115       960\n",
      "   macro avg     0.9112    0.9117    0.9112       960\n",
      "weighted avg     0.9116    0.9115    0.9113       960\n",
      "\n",
      "\n",
      "> Testing the model on 'test set'\n",
      "  - Accuracy Score: 0.8792 \n",
      "\n",
      "              precision    recall  f1-score   support\n",
      "\n",
      "           0     0.9078    0.8787    0.8930       437\n",
      "           1     0.8601    0.8737    0.8668       380\n",
      "           2     0.8670    0.8851    0.8760       383\n",
      "\n",
      "    accuracy                         0.8792      1200\n",
      "   macro avg     0.8783    0.8792    0.8786      1200\n",
      "weighted avg     0.8797    0.8792    0.8793      1200\n",
      "\n"
     ]
    }
   ],
   "source": [
    "LinearSVC_EN = CustomLinearSVC(\n",
    "    dataset     = dataframe,\n",
    "    language    = \"en\",\n",
    "    C           = 1.0 # only hyperparameter\n",
    ")\n",
    "\n",
    "eval_res = LinearSVC_EN.train_model()\n",
    "test_res = LinearSVC_EN.test_model(on=\"test\")"
   ]
  },
  {
   "cell_type": "markdown",
   "metadata": {},
   "source": [
    "##### *German Model*"
   ]
  },
  {
   "cell_type": "code",
   "execution_count": 4,
   "metadata": {},
   "outputs": [
    {
     "name": "stdout",
     "output_type": "stream",
     "text": [
      "> Parameters imported\n",
      "> Dataset correctly divided in training set, validation set and test set\n",
      "> Computed TF-IDF for train, val and test set\n",
      "> Model 'LinearSVC' Instantiated\n",
      "> Training completed in 0.286 seconds\n",
      "\n",
      "> Testing the model on 'val set'\n",
      "  - Accuracy Score: 0.9125 \n",
      "\n",
      "              precision    recall  f1-score   support\n",
      "\n",
      "           0     0.9333    0.9086    0.9208       339\n",
      "           1     0.8885    0.8914    0.8900       313\n",
      "           2     0.9146    0.9383    0.9263       308\n",
      "\n",
      "    accuracy                         0.9125       960\n",
      "   macro avg     0.9121    0.9127    0.9123       960\n",
      "weighted avg     0.9127    0.9125    0.9125       960\n",
      "\n",
      "\n",
      "> Testing the model on 'test set'\n",
      "  - Accuracy Score: 0.8758 \n",
      "\n",
      "              precision    recall  f1-score   support\n",
      "\n",
      "           0     0.9117    0.8741    0.8925       437\n",
      "           1     0.8594    0.8684    0.8639       380\n",
      "           2     0.8539    0.8851    0.8692       383\n",
      "\n",
      "    accuracy                         0.8758      1200\n",
      "   macro avg     0.8750    0.8759    0.8752      1200\n",
      "weighted avg     0.8767    0.8758    0.8760      1200\n",
      "\n"
     ]
    }
   ],
   "source": [
    "LinearSVC_DE = CustomLinearSVC(\n",
    "    dataset     = dataframe,\n",
    "    language    = \"de\",\n",
    "    C           = 1.0 # only hyperparameter\n",
    ")\n",
    "\n",
    "eval_res = LinearSVC_DE.train_model()\n",
    "test_res = LinearSVC_DE.test_model(on=\"test\")"
   ]
  },
  {
   "cell_type": "markdown",
   "metadata": {},
   "source": [
    "##### *Italian Model*"
   ]
  },
  {
   "cell_type": "code",
   "execution_count": 5,
   "metadata": {},
   "outputs": [
    {
     "name": "stdout",
     "output_type": "stream",
     "text": [
      "> Parameters imported\n",
      "> Dataset correctly divided in training set, validation set and test set\n",
      "> Computed TF-IDF for train, val and test set\n",
      "> Model 'LinearSVC' Instantiated\n",
      "> Training completed in 0.272 seconds\n",
      "\n",
      "> Testing the model on 'val set'\n",
      "  - Accuracy Score: 0.9094 \n",
      "\n",
      "              precision    recall  f1-score   support\n",
      "\n",
      "           0     0.9271    0.8997    0.9132       339\n",
      "           1     0.9169    0.8818    0.8990       313\n",
      "           2     0.8848    0.9481    0.9154       308\n",
      "\n",
      "    accuracy                         0.9094       960\n",
      "   macro avg     0.9096    0.9098    0.9092       960\n",
      "weighted avg     0.9102    0.9094    0.9093       960\n",
      "\n",
      "\n",
      "> Testing the model on 'test set'\n",
      "  - Accuracy Score: 0.8775 \n",
      "\n",
      "              precision    recall  f1-score   support\n",
      "\n",
      "           0     0.9074    0.8741    0.8904       437\n",
      "           1     0.8528    0.8842    0.8682       380\n",
      "           2     0.8701    0.8747    0.8724       383\n",
      "\n",
      "    accuracy                         0.8775      1200\n",
      "   macro avg     0.8768    0.8777    0.8770      1200\n",
      "weighted avg     0.8782    0.8775    0.8776      1200\n",
      "\n"
     ]
    }
   ],
   "source": [
    "LinearSVC_IT = CustomLinearSVC(\n",
    "    dataset     = dataframe,\n",
    "    language    = \"it\",\n",
    "    C           = 1.0 # only hyperparameter\n",
    ")\n",
    "\n",
    "eval_res = LinearSVC_IT.train_model()\n",
    "test_res = LinearSVC_IT.test_model(on=\"test\")"
   ]
  },
  {
   "cell_type": "markdown",
   "metadata": {},
   "source": [
    "##### *Polish Model*"
   ]
  },
  {
   "cell_type": "code",
   "execution_count": 6,
   "metadata": {},
   "outputs": [
    {
     "name": "stdout",
     "output_type": "stream",
     "text": [
      "> Parameters imported\n",
      "> Dataset correctly divided in training set, validation set and test set\n",
      "> Computed TF-IDF for train, val and test set\n",
      "> Model 'LinearSVC' Instantiated\n",
      "> Training completed in 0.317 seconds\n",
      "\n",
      "> Testing the model on 'val set'\n",
      "  - Accuracy Score: 0.9125 \n",
      "\n",
      "              precision    recall  f1-score   support\n",
      "\n",
      "           0     0.9388    0.9056    0.9219       339\n",
      "           1     0.9035    0.8978    0.9006       313\n",
      "           2     0.8944    0.9351    0.9143       308\n",
      "\n",
      "    accuracy                         0.9125       960\n",
      "   macro avg     0.9123    0.9128    0.9123       960\n",
      "weighted avg     0.9131    0.9125    0.9125       960\n",
      "\n",
      "\n",
      "> Testing the model on 'test set'\n",
      "  - Accuracy Score: 0.88 \n",
      "\n",
      "              precision    recall  f1-score   support\n",
      "\n",
      "           0     0.9141    0.8764    0.8949       437\n",
      "           1     0.8668    0.8737    0.8702       380\n",
      "           2     0.8568    0.8903    0.8732       383\n",
      "\n",
      "    accuracy                         0.8800      1200\n",
      "   macro avg     0.8792    0.8802    0.8794      1200\n",
      "weighted avg     0.8808    0.8800    0.8802      1200\n",
      "\n"
     ]
    }
   ],
   "source": [
    "LinearSVC_PL = CustomLinearSVC(\n",
    "    dataset     = dataframe,\n",
    "    language    = \"pl\",\n",
    "    C           = 1.0 # only hyperparameter\n",
    ")\n",
    "\n",
    "eval_res = LinearSVC_PL.train_model()\n",
    "test_res = LinearSVC_PL.test_model(on=\"test\")"
   ]
  },
  {
   "cell_type": "markdown",
   "metadata": {},
   "source": [
    "##### *Swedish Model*"
   ]
  },
  {
   "cell_type": "code",
   "execution_count": 7,
   "metadata": {},
   "outputs": [
    {
     "name": "stdout",
     "output_type": "stream",
     "text": [
      "> Parameters imported\n",
      "> Dataset correctly divided in training set, validation set and test set\n",
      "> Computed TF-IDF for train, val and test set\n",
      "> Model 'LinearSVC' Instantiated\n",
      "> Training completed in 0.271 seconds\n",
      "\n",
      "> Testing the model on 'val set'\n",
      "  - Accuracy Score: 0.9094 \n",
      "\n",
      "              precision    recall  f1-score   support\n",
      "\n",
      "           0     0.9281    0.9145    0.9212       339\n",
      "           1     0.9055    0.8882    0.8968       313\n",
      "           2     0.8934    0.9253    0.9091       308\n",
      "\n",
      "    accuracy                         0.9094       960\n",
      "   macro avg     0.9090    0.9093    0.9090       960\n",
      "weighted avg     0.9096    0.9094    0.9094       960\n",
      "\n",
      "\n",
      "> Testing the model on 'test set'\n",
      "  - Accuracy Score: 0.885 \n",
      "\n",
      "              precision    recall  f1-score   support\n",
      "\n",
      "           0     0.9125    0.8833    0.8977       437\n",
      "           1     0.8590    0.8816    0.8701       380\n",
      "           2     0.8811    0.8903    0.8857       383\n",
      "\n",
      "    accuracy                         0.8850      1200\n",
      "   macro avg     0.8842    0.8851    0.8845      1200\n",
      "weighted avg     0.8856    0.8850    0.8851      1200\n",
      "\n"
     ]
    }
   ],
   "source": [
    "LinearSVC_SV = CustomLinearSVC(\n",
    "    dataset     = dataframe,\n",
    "    language    = \"sv\",\n",
    "    C           = 1.0 # only hyperparameter\n",
    ")\n",
    "\n",
    "eval_res = LinearSVC_SV.train_model()\n",
    "test_res = LinearSVC_SV.test_model(on=\"test\")"
   ]
  }
 ],
 "metadata": {
  "interpreter": {
   "hash": "455534d435f7de67bc0026f9ceba702b21954bd7ad83505586b95ef58f556ae5"
  },
  "kernelspec": {
   "display_name": "Python 3.9.12 ('NLP_2022')",
   "language": "python",
   "name": "python3"
  },
  "language_info": {
   "codemirror_mode": {
    "name": "ipython",
    "version": 3
   },
   "file_extension": ".py",
   "mimetype": "text/x-python",
   "name": "python",
   "nbconvert_exporter": "python",
   "pygments_lexer": "ipython3",
   "version": "3.9.12"
  },
  "orig_nbformat": 4
 },
 "nbformat": 4,
 "nbformat_minor": 2
}
