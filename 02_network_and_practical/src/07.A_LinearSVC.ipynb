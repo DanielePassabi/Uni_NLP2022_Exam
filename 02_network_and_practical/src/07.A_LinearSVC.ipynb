{
 "cells": [
  {
   "cell_type": "markdown",
   "metadata": {},
   "source": [
    "## **Introduction to ML for NLP [Network + Practical]**\n",
    "\n",
    "### **Linear Support Vector Classifier**"
   ]
  },
  {
   "cell_type": "markdown",
   "metadata": {},
   "source": [
    "#### **Libraries**\n",
    "\n",
    "We import the necessary libraries for the notebook."
   ]
  },
  {
   "cell_type": "code",
   "execution_count": 1,
   "metadata": {},
   "outputs": [
    {
     "name": "stdout",
     "output_type": "stream",
     "text": [
      "> Libraries Imported\n"
     ]
    }
   ],
   "source": [
    "# general\n",
    "import pandas as pd\n",
    "\n",
    "from utility.models_sklearn import CustomLinearSVC\n",
    "\n",
    "print(\"> Libraries Imported\")"
   ]
  },
  {
   "cell_type": "markdown",
   "metadata": {},
   "source": [
    "#### **Setup**\n",
    "\n",
    "We only need to import the dataset"
   ]
  },
  {
   "cell_type": "code",
   "execution_count": 2,
   "metadata": {},
   "outputs": [
    {
     "data": {
      "text/html": [
       "<div>\n",
       "<style scoped>\n",
       "    .dataframe tbody tr th:only-of-type {\n",
       "        vertical-align: middle;\n",
       "    }\n",
       "\n",
       "    .dataframe tbody tr th {\n",
       "        vertical-align: top;\n",
       "    }\n",
       "\n",
       "    .dataframe thead th {\n",
       "        text-align: right;\n",
       "    }\n",
       "</style>\n",
       "<table border=\"1\" class=\"dataframe\">\n",
       "  <thead>\n",
       "    <tr style=\"text-align: right;\">\n",
       "      <th></th>\n",
       "      <th>celex_id</th>\n",
       "      <th>labels</th>\n",
       "      <th>labels_new</th>\n",
       "      <th>text_en</th>\n",
       "      <th>text_de</th>\n",
       "      <th>text_it</th>\n",
       "      <th>text_pl</th>\n",
       "      <th>text_sv</th>\n",
       "      <th>text_en_enc</th>\n",
       "      <th>text_de_enc</th>\n",
       "      <th>text_it_enc</th>\n",
       "      <th>text_pl_enc</th>\n",
       "      <th>text_sv_enc</th>\n",
       "      <th>set</th>\n",
       "    </tr>\n",
       "  </thead>\n",
       "  <tbody>\n",
       "    <tr>\n",
       "      <th>0</th>\n",
       "      <td>32010D0395</td>\n",
       "      <td>2</td>\n",
       "      <td>0</td>\n",
       "      <td>commission decision of december on state aid c...</td>\n",
       "      <td>beschluss der kommission vom dezember uber die...</td>\n",
       "      <td>decisione della commissione del dicembre conce...</td>\n",
       "      <td>decyzja komisji z dnia grudnia r w sprawie pom...</td>\n",
       "      <td>kommissionens beslut av den december om det st...</td>\n",
       "      <td>[[2, 3, 4, 5, 6, 7, 8, 9, 10, 11, 12, 13, 14, ...</td>\n",
       "      <td>[[2, 3, 4, 5, 6, 7, 8, 9, 10, 11, 12, 13, 14, ...</td>\n",
       "      <td>[[2, 3, 4, 5, 6, 7, 8, 9, 10, 11, 12, 13, 14, ...</td>\n",
       "      <td>[[2, 3, 4, 5, 6, 7, 8, 9, 10, 11, 12, 13, 14, ...</td>\n",
       "      <td>[[2, 3, 4, 5, 6, 7, 8, 9, 10, 11, 12, 13, 14, ...</td>\n",
       "      <td>train</td>\n",
       "    </tr>\n",
       "    <tr>\n",
       "      <th>1</th>\n",
       "      <td>32012R0453</td>\n",
       "      <td>2</td>\n",
       "      <td>0</td>\n",
       "      <td>commission implementing regulation eu no of ma...</td>\n",
       "      <td>durchfuhrungsverordnung eu nr der kommission v...</td>\n",
       "      <td>regolamento di esecuzione ue n della commissio...</td>\n",
       "      <td>rozporzadzenie wykonawcze komisji ue nr z dnia...</td>\n",
       "      <td>kommissionens genomforandeforordning eu nr av ...</td>\n",
       "      <td>[[2, 1275, 1276, 29, 100, 4, 743, 1277, 15, 12...</td>\n",
       "      <td>[[1302, 33, 1303, 3, 4, 5, 807, 15, 1304, 3, 6...</td>\n",
       "      <td>[[453, 10, 1422, 38, 14, 3, 4, 5, 990, 1423, 1...</td>\n",
       "      <td>[[1753, 1754, 3, 34, 24, 4, 5, 829, 7, 1755, 9...</td>\n",
       "      <td>[[2, 1239, 33, 23, 4, 5, 806, 7, 774, 4, 132, ...</td>\n",
       "      <td>train</td>\n",
       "    </tr>\n",
       "    <tr>\n",
       "      <th>2</th>\n",
       "      <td>32012D0043</td>\n",
       "      <td>2</td>\n",
       "      <td>0</td>\n",
       "      <td>commission implementing decision of january au...</td>\n",
       "      <td>durchfuhrungsbeschluss der kommission vom janu...</td>\n",
       "      <td>decisione di esecuzione della commissione del ...</td>\n",
       "      <td>decyzja wykonawcza komisji z dnia stycznia r u...</td>\n",
       "      <td>kommissionens genomforandebeslut av den januar...</td>\n",
       "      <td>[[2, 1275, 3, 4, 1310, 1311, 15, 1015, 4, 1312...</td>\n",
       "      <td>[[1344, 3, 4, 5, 1345, 15, 1346, 74, 1347, 134...</td>\n",
       "      <td>[[2, 10, 1422, 3, 4, 5, 1454, 245, 1455, 24, 1...</td>\n",
       "      <td>[[2, 1791, 3, 4, 5, 1792, 7, 1, 1793, 1794, 65...</td>\n",
       "      <td>[[2, 1279, 4, 5, 1280, 7, 1281, 19, 1282, 1283...</td>\n",
       "      <td>train</td>\n",
       "    </tr>\n",
       "  </tbody>\n",
       "</table>\n",
       "</div>"
      ],
      "text/plain": [
       "     celex_id  labels  labels_new  \\\n",
       "0  32010D0395       2           0   \n",
       "1  32012R0453       2           0   \n",
       "2  32012D0043       2           0   \n",
       "\n",
       "                                             text_en  \\\n",
       "0  commission decision of december on state aid c...   \n",
       "1  commission implementing regulation eu no of ma...   \n",
       "2  commission implementing decision of january au...   \n",
       "\n",
       "                                             text_de  \\\n",
       "0  beschluss der kommission vom dezember uber die...   \n",
       "1  durchfuhrungsverordnung eu nr der kommission v...   \n",
       "2  durchfuhrungsbeschluss der kommission vom janu...   \n",
       "\n",
       "                                             text_it  \\\n",
       "0  decisione della commissione del dicembre conce...   \n",
       "1  regolamento di esecuzione ue n della commissio...   \n",
       "2  decisione di esecuzione della commissione del ...   \n",
       "\n",
       "                                             text_pl  \\\n",
       "0  decyzja komisji z dnia grudnia r w sprawie pom...   \n",
       "1  rozporzadzenie wykonawcze komisji ue nr z dnia...   \n",
       "2  decyzja wykonawcza komisji z dnia stycznia r u...   \n",
       "\n",
       "                                             text_sv  \\\n",
       "0  kommissionens beslut av den december om det st...   \n",
       "1  kommissionens genomforandeforordning eu nr av ...   \n",
       "2  kommissionens genomforandebeslut av den januar...   \n",
       "\n",
       "                                         text_en_enc  \\\n",
       "0  [[2, 3, 4, 5, 6, 7, 8, 9, 10, 11, 12, 13, 14, ...   \n",
       "1  [[2, 1275, 1276, 29, 100, 4, 743, 1277, 15, 12...   \n",
       "2  [[2, 1275, 3, 4, 1310, 1311, 15, 1015, 4, 1312...   \n",
       "\n",
       "                                         text_de_enc  \\\n",
       "0  [[2, 3, 4, 5, 6, 7, 8, 9, 10, 11, 12, 13, 14, ...   \n",
       "1  [[1302, 33, 1303, 3, 4, 5, 807, 15, 1304, 3, 6...   \n",
       "2  [[1344, 3, 4, 5, 1345, 15, 1346, 74, 1347, 134...   \n",
       "\n",
       "                                         text_it_enc  \\\n",
       "0  [[2, 3, 4, 5, 6, 7, 8, 9, 10, 11, 12, 13, 14, ...   \n",
       "1  [[453, 10, 1422, 38, 14, 3, 4, 5, 990, 1423, 1...   \n",
       "2  [[2, 10, 1422, 3, 4, 5, 1454, 245, 1455, 24, 1...   \n",
       "\n",
       "                                         text_pl_enc  \\\n",
       "0  [[2, 3, 4, 5, 6, 7, 8, 9, 10, 11, 12, 13, 14, ...   \n",
       "1  [[1753, 1754, 3, 34, 24, 4, 5, 829, 7, 1755, 9...   \n",
       "2  [[2, 1791, 3, 4, 5, 1792, 7, 1, 1793, 1794, 65...   \n",
       "\n",
       "                                         text_sv_enc    set  \n",
       "0  [[2, 3, 4, 5, 6, 7, 8, 9, 10, 11, 12, 13, 14, ...  train  \n",
       "1  [[2, 1239, 33, 23, 4, 5, 806, 7, 774, 4, 132, ...  train  \n",
       "2  [[2, 1279, 4, 5, 1280, 7, 1281, 19, 1282, 1283...  train  "
      ]
     },
     "execution_count": 2,
     "metadata": {},
     "output_type": "execute_result"
    }
   ],
   "source": [
    "dataframe = pd.read_pickle(\"data/3_multi_eurlex_encoded.pkl\")\n",
    "dataframe.head(3)"
   ]
  },
  {
   "cell_type": "markdown",
   "metadata": {},
   "source": [
    "#### **Linear Support Vector Classifier**"
   ]
  },
  {
   "cell_type": "markdown",
   "metadata": {},
   "source": [
    "**Instantiate a LinearSVC Model**\n",
    "\n",
    "We use our custom class CustomLinearSVC."
   ]
  },
  {
   "cell_type": "code",
   "execution_count": 3,
   "metadata": {},
   "outputs": [
    {
     "name": "stdout",
     "output_type": "stream",
     "text": [
      "> Parameters imported\n",
      "> Dataset correctly divided in training set, validation set and test set\n",
      "> Computed TF-IDF for train, val and test set\n",
      "> Model 'LinearSVC' Instantiated\n"
     ]
    }
   ],
   "source": [
    "LinearSVC_EN = CustomLinearSVC(\n",
    "    dataset     = dataframe,\n",
    "    language    = \"en\",\n",
    "\n",
    "    C           = 1.0 # only hyperparameter\n",
    ")"
   ]
  },
  {
   "cell_type": "markdown",
   "metadata": {},
   "source": [
    "Now we can train and evaluate the model (on the validation set)."
   ]
  },
  {
   "cell_type": "code",
   "execution_count": 4,
   "metadata": {},
   "outputs": [
    {
     "name": "stdout",
     "output_type": "stream",
     "text": [
      "> Training completed in 0.217 seconds\n",
      "\n",
      "> Testing the model on 'val set'\n",
      "  - Accuracy Score: 0.9115 \n",
      "\n",
      "              precision    recall  f1-score   support\n",
      "\n",
      "           0     0.9249    0.9086    0.9167       339\n",
      "           1     0.9049    0.8818    0.8932       313\n",
      "           2     0.9037    0.9448    0.9238       308\n",
      "\n",
      "    accuracy                         0.9115       960\n",
      "   macro avg     0.9112    0.9117    0.9112       960\n",
      "weighted avg     0.9116    0.9115    0.9113       960\n",
      "\n"
     ]
    }
   ],
   "source": [
    "eval_res = LinearSVC_EN.train_model()"
   ]
  },
  {
   "cell_type": "code",
   "execution_count": 5,
   "metadata": {},
   "outputs": [
    {
     "data": {
      "text/plain": [
       "{'0': {'precision': 0.924924924924925,\n",
       "  'recall': 0.9085545722713865,\n",
       "  'f1-score': 0.9166666666666667,\n",
       "  'support': 339},\n",
       " '1': {'precision': 0.9049180327868852,\n",
       "  'recall': 0.8817891373801917,\n",
       "  'f1-score': 0.8932038834951457,\n",
       "  'support': 313},\n",
       " '2': {'precision': 0.9037267080745341,\n",
       "  'recall': 0.9448051948051948,\n",
       "  'f1-score': 0.9238095238095237,\n",
       "  'support': 308},\n",
       " 'accuracy': 0.9114583333333334,\n",
       " 'macro avg': {'precision': 0.9111898885954481,\n",
       "  'recall': 0.911716301485591,\n",
       "  'f1-score': 0.9112266913237788,\n",
       "  'support': 960},\n",
       " 'weighted avg': {'precision': 0.9116007498945845,\n",
       "  'recall': 0.9114583333333334,\n",
       "  'f1-score': 0.911308488403452,\n",
       "  'support': 960}}"
      ]
     },
     "execution_count": 5,
     "metadata": {},
     "output_type": "execute_result"
    }
   ],
   "source": [
    "eval_res"
   ]
  }
 ],
 "metadata": {
  "interpreter": {
   "hash": "455534d435f7de67bc0026f9ceba702b21954bd7ad83505586b95ef58f556ae5"
  },
  "kernelspec": {
   "display_name": "Python 3.9.12 ('NLP_2022')",
   "language": "python",
   "name": "python3"
  },
  "language_info": {
   "codemirror_mode": {
    "name": "ipython",
    "version": 3
   },
   "file_extension": ".py",
   "mimetype": "text/x-python",
   "name": "python",
   "nbconvert_exporter": "python",
   "pygments_lexer": "ipython3",
   "version": "3.9.12"
  },
  "orig_nbformat": 4
 },
 "nbformat": 4,
 "nbformat_minor": 2
}
