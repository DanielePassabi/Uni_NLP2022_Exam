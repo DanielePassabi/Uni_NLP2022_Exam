{
 "cells": [
  {
   "cell_type": "markdown",
   "metadata": {},
   "source": [
    "## **Introduction to ML for NLP [Network + Practical]**\n",
    "\n",
    "### **LSTM**\n",
    "\n",
    "We have seen in notebook 5.A that we can correctly train an LSTM in each language.\n",
    "\n",
    "We now have to tune the model, and store the best results."
   ]
  },
  {
   "cell_type": "markdown",
   "metadata": {},
   "source": [
    "#### **Libraries**\n",
    "\n",
    "We import the necessary libraries for the notebook."
   ]
  },
  {
   "cell_type": "code",
   "execution_count": 1,
   "metadata": {},
   "outputs": [
    {
     "name": "stdout",
     "output_type": "stream",
     "text": [
      "> Libraries Imported\n"
     ]
    }
   ],
   "source": [
    "# general\n",
    "import pandas as pd\n",
    "from tqdm import tqdm\n",
    "tqdm.pandas()\n",
    "\n",
    "# pytorch\n",
    "import torch\n",
    "\n",
    "# reload libs\n",
    "import importlib\n",
    "\n",
    "# custom imports\n",
    "import utility.models_pytorch as CustomPytorchModule\n",
    "\n",
    "print(\"> Libraries Imported\")"
   ]
  },
  {
   "cell_type": "markdown",
   "metadata": {},
   "source": [
    "#### **Setup**\n",
    "\n",
    "- We set the device to *cuda*\n",
    "- We import the dataset"
   ]
  },
  {
   "cell_type": "code",
   "execution_count": 2,
   "metadata": {},
   "outputs": [
    {
     "name": "stdout",
     "output_type": "stream",
     "text": [
      "> Device: cuda\n"
     ]
    }
   ],
   "source": [
    "# Device configuration\n",
    "device = torch.device('cuda' if torch.cuda.is_available() else 'cpu')\n",
    "\n",
    "print(\"> Device:\", device)"
   ]
  },
  {
   "cell_type": "code",
   "execution_count": 3,
   "metadata": {},
   "outputs": [
    {
     "data": {
      "text/html": [
       "<div>\n",
       "<style scoped>\n",
       "    .dataframe tbody tr th:only-of-type {\n",
       "        vertical-align: middle;\n",
       "    }\n",
       "\n",
       "    .dataframe tbody tr th {\n",
       "        vertical-align: top;\n",
       "    }\n",
       "\n",
       "    .dataframe thead th {\n",
       "        text-align: right;\n",
       "    }\n",
       "</style>\n",
       "<table border=\"1\" class=\"dataframe\">\n",
       "  <thead>\n",
       "    <tr style=\"text-align: right;\">\n",
       "      <th></th>\n",
       "      <th>celex_id</th>\n",
       "      <th>labels</th>\n",
       "      <th>labels_new</th>\n",
       "      <th>text_en</th>\n",
       "      <th>text_de</th>\n",
       "      <th>text_it</th>\n",
       "      <th>text_pl</th>\n",
       "      <th>text_sv</th>\n",
       "      <th>text_en_enc</th>\n",
       "      <th>text_de_enc</th>\n",
       "      <th>text_it_enc</th>\n",
       "      <th>text_pl_enc</th>\n",
       "      <th>text_sv_enc</th>\n",
       "      <th>set</th>\n",
       "    </tr>\n",
       "  </thead>\n",
       "  <tbody>\n",
       "    <tr>\n",
       "      <th>0</th>\n",
       "      <td>32010D0395</td>\n",
       "      <td>2</td>\n",
       "      <td>0</td>\n",
       "      <td>commission decision of december on state aid c...</td>\n",
       "      <td>beschluss der kommission vom dezember uber die...</td>\n",
       "      <td>decisione della commissione del dicembre conce...</td>\n",
       "      <td>decyzja komisji z dnia grudnia r w sprawie pom...</td>\n",
       "      <td>kommissionens beslut av den december om det st...</td>\n",
       "      <td>[[2, 3, 4, 5, 6, 7, 8, 9, 10, 11, 12, 13, 14, ...</td>\n",
       "      <td>[[2, 3, 4, 5, 6, 7, 8, 9, 10, 11, 12, 13, 14, ...</td>\n",
       "      <td>[[2, 3, 4, 5, 6, 7, 8, 9, 10, 11, 12, 13, 14, ...</td>\n",
       "      <td>[[2, 3, 4, 5, 6, 7, 8, 9, 10, 11, 12, 13, 14, ...</td>\n",
       "      <td>[[2, 3, 4, 5, 6, 7, 8, 9, 10, 11, 12, 13, 14, ...</td>\n",
       "      <td>train</td>\n",
       "    </tr>\n",
       "    <tr>\n",
       "      <th>1</th>\n",
       "      <td>32012R0453</td>\n",
       "      <td>2</td>\n",
       "      <td>0</td>\n",
       "      <td>commission implementing regulation eu no of ma...</td>\n",
       "      <td>durchfuhrungsverordnung eu nr der kommission v...</td>\n",
       "      <td>regolamento di esecuzione ue n della commissio...</td>\n",
       "      <td>rozporzadzenie wykonawcze komisji ue nr z dnia...</td>\n",
       "      <td>kommissionens genomforandeforordning eu nr av ...</td>\n",
       "      <td>[[2, 1275, 1276, 29, 100, 4, 743, 1277, 15, 12...</td>\n",
       "      <td>[[1302, 33, 1303, 3, 4, 5, 807, 15, 1304, 3, 6...</td>\n",
       "      <td>[[453, 10, 1422, 38, 14, 3, 4, 5, 990, 1423, 1...</td>\n",
       "      <td>[[1753, 1754, 3, 34, 24, 4, 5, 829, 7, 1755, 9...</td>\n",
       "      <td>[[2, 1239, 33, 23, 4, 5, 806, 7, 774, 4, 132, ...</td>\n",
       "      <td>train</td>\n",
       "    </tr>\n",
       "    <tr>\n",
       "      <th>2</th>\n",
       "      <td>32012D0043</td>\n",
       "      <td>2</td>\n",
       "      <td>0</td>\n",
       "      <td>commission implementing decision of january au...</td>\n",
       "      <td>durchfuhrungsbeschluss der kommission vom janu...</td>\n",
       "      <td>decisione di esecuzione della commissione del ...</td>\n",
       "      <td>decyzja wykonawcza komisji z dnia stycznia r u...</td>\n",
       "      <td>kommissionens genomforandebeslut av den januar...</td>\n",
       "      <td>[[2, 1275, 3, 4, 1310, 1311, 15, 1015, 4, 1312...</td>\n",
       "      <td>[[1344, 3, 4, 5, 1345, 15, 1346, 74, 1347, 134...</td>\n",
       "      <td>[[2, 10, 1422, 3, 4, 5, 1454, 245, 1455, 24, 1...</td>\n",
       "      <td>[[2, 1791, 3, 4, 5, 1792, 7, 1, 1793, 1794, 65...</td>\n",
       "      <td>[[2, 1279, 4, 5, 1280, 7, 1281, 19, 1282, 1283...</td>\n",
       "      <td>train</td>\n",
       "    </tr>\n",
       "  </tbody>\n",
       "</table>\n",
       "</div>"
      ],
      "text/plain": [
       "     celex_id  labels  labels_new  \\\n",
       "0  32010D0395       2           0   \n",
       "1  32012R0453       2           0   \n",
       "2  32012D0043       2           0   \n",
       "\n",
       "                                             text_en  \\\n",
       "0  commission decision of december on state aid c...   \n",
       "1  commission implementing regulation eu no of ma...   \n",
       "2  commission implementing decision of january au...   \n",
       "\n",
       "                                             text_de  \\\n",
       "0  beschluss der kommission vom dezember uber die...   \n",
       "1  durchfuhrungsverordnung eu nr der kommission v...   \n",
       "2  durchfuhrungsbeschluss der kommission vom janu...   \n",
       "\n",
       "                                             text_it  \\\n",
       "0  decisione della commissione del dicembre conce...   \n",
       "1  regolamento di esecuzione ue n della commissio...   \n",
       "2  decisione di esecuzione della commissione del ...   \n",
       "\n",
       "                                             text_pl  \\\n",
       "0  decyzja komisji z dnia grudnia r w sprawie pom...   \n",
       "1  rozporzadzenie wykonawcze komisji ue nr z dnia...   \n",
       "2  decyzja wykonawcza komisji z dnia stycznia r u...   \n",
       "\n",
       "                                             text_sv  \\\n",
       "0  kommissionens beslut av den december om det st...   \n",
       "1  kommissionens genomforandeforordning eu nr av ...   \n",
       "2  kommissionens genomforandebeslut av den januar...   \n",
       "\n",
       "                                         text_en_enc  \\\n",
       "0  [[2, 3, 4, 5, 6, 7, 8, 9, 10, 11, 12, 13, 14, ...   \n",
       "1  [[2, 1275, 1276, 29, 100, 4, 743, 1277, 15, 12...   \n",
       "2  [[2, 1275, 3, 4, 1310, 1311, 15, 1015, 4, 1312...   \n",
       "\n",
       "                                         text_de_enc  \\\n",
       "0  [[2, 3, 4, 5, 6, 7, 8, 9, 10, 11, 12, 13, 14, ...   \n",
       "1  [[1302, 33, 1303, 3, 4, 5, 807, 15, 1304, 3, 6...   \n",
       "2  [[1344, 3, 4, 5, 1345, 15, 1346, 74, 1347, 134...   \n",
       "\n",
       "                                         text_it_enc  \\\n",
       "0  [[2, 3, 4, 5, 6, 7, 8, 9, 10, 11, 12, 13, 14, ...   \n",
       "1  [[453, 10, 1422, 38, 14, 3, 4, 5, 990, 1423, 1...   \n",
       "2  [[2, 10, 1422, 3, 4, 5, 1454, 245, 1455, 24, 1...   \n",
       "\n",
       "                                         text_pl_enc  \\\n",
       "0  [[2, 3, 4, 5, 6, 7, 8, 9, 10, 11, 12, 13, 14, ...   \n",
       "1  [[1753, 1754, 3, 34, 24, 4, 5, 829, 7, 1755, 9...   \n",
       "2  [[2, 1791, 3, 4, 5, 1792, 7, 1, 1793, 1794, 65...   \n",
       "\n",
       "                                         text_sv_enc    set  \n",
       "0  [[2, 3, 4, 5, 6, 7, 8, 9, 10, 11, 12, 13, 14, ...  train  \n",
       "1  [[2, 1239, 33, 23, 4, 5, 806, 7, 774, 4, 132, ...  train  \n",
       "2  [[2, 1279, 4, 5, 1280, 7, 1281, 19, 1282, 1283...  train  "
      ]
     },
     "execution_count": 3,
     "metadata": {},
     "output_type": "execute_result"
    }
   ],
   "source": [
    "dataframe = pd.read_pickle(\"data/3_multi_eurlex_encoded.pkl\")\n",
    "dataframe.head(3)"
   ]
  },
  {
   "cell_type": "markdown",
   "metadata": {},
   "source": [
    "#### **Create a Grid Search for Fine Tuning**"
   ]
  },
  {
   "cell_type": "markdown",
   "metadata": {},
   "source": [
    "First, we setup the needed parameters."
   ]
  },
  {
   "cell_type": "code",
   "execution_count": 4,
   "metadata": {},
   "outputs": [],
   "source": [
    "# Parameters setup\n",
    "\n",
    "COUNTS_EN = 3506\n",
    "COUNTS_DE = 4216\n",
    "COUNTS_IT = 4180\n",
    "COUNTS_PL = 5255\n",
    "COUNTS_SV = 4010\n",
    "\n",
    "# ORIGINALI\n",
    "EMBEDDING_DIM_LIST = [1024, 2048]\n",
    "HIDDEN_DIM_LIST = [1024, 2048]\n",
    "LEARNING_RATE_LIST = [0.0001, 0.001]\n",
    "DROPOUT_P_LIST = [0.0, 0.1]"
   ]
  },
  {
   "cell_type": "markdown",
   "metadata": {},
   "source": [
    "Then, we execute a grid search."
   ]
  },
  {
   "cell_type": "code",
   "execution_count": 5,
   "metadata": {},
   "outputs": [
    {
     "name": "stdout",
     "output_type": "stream",
     "text": [
      "> Parameters imported\n",
      "> Dataset correctly divided in training set, validation set and test set\n",
      "> Created Pytorch datasets and dataloaders\n",
      "> Model 'LSTM_fixed' instantiated\n",
      "> Initialization required 3.0442 seconds\n",
      "\n",
      "MODEL 1 DETAILS\n",
      " * EMBEDDING_DIM  1024\n",
      " * HIDDEN_DIM     1024\n",
      " * LEARNING_RATE  0.0001\n",
      " * DROPOUT_P      0.0\n",
      "\n",
      "==================================================================================\n",
      "> Training Started\n",
      "  - Total Epochs: 50\n",
      "==================================================================================\n"
     ]
    },
    {
     "name": "stderr",
     "output_type": "stream",
     "text": [
      "> Epoch 1: 100%|██████████| 60/60 [00:34<00:00,  1.75it/s]\n"
     ]
    },
    {
     "name": "stdout",
     "output_type": "stream",
     "text": [
      " - Training Loss        1.0985\n",
      " - Validation Loss      1.1045\n",
      " - Validation Accuracy  0.3406\n",
      "\n",
      " - Validation Accuracy (per class)\n",
      "   * Class 0\t 0.0472 [16 out of 339]\n",
      "   * Class 1\t 0.9137 [286 out of 313]\n",
      "   * Class 2\t 0.0812 [25 out of 308]\n",
      "   * Mean        0.3474\n",
      "\n",
      "> ATTENTION: epoch 1 was the best one so far! The model has been saved :)\n",
      "\n",
      "==================================================================================\n"
     ]
    },
    {
     "name": "stderr",
     "output_type": "stream",
     "text": [
      "> Epoch 2: 100%|██████████| 60/60 [00:32<00:00,  1.83it/s]\n"
     ]
    },
    {
     "name": "stdout",
     "output_type": "stream",
     "text": [
      " - Training Loss        1.0739\n",
      " - Validation Loss      1.1052\n",
      " - Validation Accuracy  0.3427\n",
      "\n",
      " - Validation Accuracy (per class)\n",
      "   * Class 0\t 0.0619 [21 out of 339]\n",
      "   * Class 1\t 0.9169 [287 out of 313]\n",
      "   * Class 2\t 0.0682 [21 out of 308]\n",
      "   * Mean        0.349\n",
      "\n",
      "> ATTENTION: epoch 2 was the best one so far! The model has been saved :)\n",
      "\n",
      "==================================================================================\n"
     ]
    },
    {
     "name": "stderr",
     "output_type": "stream",
     "text": [
      "> Epoch 3: 100%|██████████| 60/60 [00:32<00:00,  1.83it/s]\n"
     ]
    },
    {
     "name": "stdout",
     "output_type": "stream",
     "text": [
      " - Training Loss        1.0507\n",
      " - Validation Loss      1.1123\n",
      " - Validation Accuracy  0.3417\n",
      "\n",
      " - Validation Accuracy (per class)\n",
      "   * Class 0\t 0.0442 [15 out of 339]\n",
      "   * Class 1\t 0.9169 [287 out of 313]\n",
      "   * Class 2\t 0.0844 [26 out of 308]\n",
      "   * Mean        0.3485\n",
      "\n",
      "==================================================================================\n"
     ]
    },
    {
     "name": "stderr",
     "output_type": "stream",
     "text": [
      "> Epoch 4: 100%|██████████| 60/60 [00:32<00:00,  1.82it/s]\n"
     ]
    },
    {
     "name": "stdout",
     "output_type": "stream",
     "text": [
      " - Training Loss        1.0211\n",
      " - Validation Loss      1.1226\n",
      " - Validation Accuracy  0.3448\n",
      "\n",
      " - Validation Accuracy (per class)\n",
      "   * Class 0\t 0.0678 [23 out of 339]\n",
      "   * Class 1\t 0.9265 [290 out of 313]\n",
      "   * Class 2\t 0.0584 [18 out of 308]\n",
      "   * Mean        0.3509\n",
      "\n",
      "> ATTENTION: epoch 4 was the best one so far! The model has been saved :)\n",
      "\n",
      "==================================================================================\n"
     ]
    },
    {
     "name": "stderr",
     "output_type": "stream",
     "text": [
      "> Epoch 5: 100%|██████████| 60/60 [00:33<00:00,  1.82it/s]\n"
     ]
    },
    {
     "name": "stdout",
     "output_type": "stream",
     "text": [
      " - Training Loss        0.9877\n",
      " - Validation Loss      1.1437\n",
      " - Validation Accuracy  0.3406\n",
      "\n",
      " - Validation Accuracy (per class)\n",
      "   * Class 0\t 0.056 [19 out of 339]\n",
      "   * Class 1\t 0.9201 [288 out of 313]\n",
      "   * Class 2\t 0.0649 [20 out of 308]\n",
      "   * Mean        0.347\n",
      "\n",
      "==================================================================================\n"
     ]
    },
    {
     "name": "stderr",
     "output_type": "stream",
     "text": [
      "> Epoch 6: 100%|██████████| 60/60 [00:33<00:00,  1.81it/s]\n"
     ]
    },
    {
     "name": "stdout",
     "output_type": "stream",
     "text": [
      " - Training Loss        0.9621\n",
      " - Validation Loss      1.1915\n",
      " - Validation Accuracy  0.3344\n",
      "\n",
      " - Validation Accuracy (per class)\n",
      "   * Class 0\t 0.0265 [9 out of 339]\n",
      "   * Class 1\t 0.9169 [287 out of 313]\n",
      "   * Class 2\t 0.0812 [25 out of 308]\n",
      "   * Mean        0.3415\n",
      "\n",
      "==================================================================================\n"
     ]
    },
    {
     "name": "stderr",
     "output_type": "stream",
     "text": [
      "> Epoch 7: 100%|██████████| 60/60 [00:33<00:00,  1.81it/s]\n"
     ]
    },
    {
     "name": "stdout",
     "output_type": "stream",
     "text": [
      " - Training Loss        0.9565\n",
      " - Validation Loss      1.1856\n",
      " - Validation Accuracy  0.3354\n",
      "\n",
      " - Validation Accuracy (per class)\n",
      "   * Class 0\t 0.0383 [13 out of 339]\n",
      "   * Class 1\t 0.9169 [287 out of 313]\n",
      "   * Class 2\t 0.0714 [22 out of 308]\n",
      "   * Mean        0.3422\n",
      "\n",
      "==================================================================================\n"
     ]
    },
    {
     "name": "stderr",
     "output_type": "stream",
     "text": [
      "> Epoch 8: 100%|██████████| 60/60 [00:33<00:00,  1.80it/s]\n"
     ]
    },
    {
     "name": "stdout",
     "output_type": "stream",
     "text": [
      " - Training Loss        0.947\n",
      " - Validation Loss      1.22\n",
      " - Validation Accuracy  0.3365\n",
      "\n",
      " - Validation Accuracy (per class)\n",
      "   * Class 0\t 0.0531 [18 out of 339]\n",
      "   * Class 1\t 0.9233 [289 out of 313]\n",
      "   * Class 2\t 0.0519 [16 out of 308]\n",
      "   * Mean        0.3428\n",
      "\n",
      "==================================================================================\n"
     ]
    },
    {
     "name": "stderr",
     "output_type": "stream",
     "text": [
      "> Epoch 9: 100%|██████████| 60/60 [00:33<00:00,  1.80it/s]\n"
     ]
    },
    {
     "name": "stdout",
     "output_type": "stream",
     "text": [
      " - Training Loss        0.9428\n",
      " - Validation Loss      1.2179\n",
      " - Validation Accuracy  0.3365\n",
      "\n",
      " - Validation Accuracy (per class)\n",
      "   * Class 0\t 0.0708 [24 out of 339]\n",
      "   * Class 1\t 0.9201 [288 out of 313]\n",
      "   * Class 2\t 0.0357 [11 out of 308]\n",
      "   * Mean        0.3422\n",
      "\n",
      "==================================================================================\n"
     ]
    },
    {
     "name": "stderr",
     "output_type": "stream",
     "text": [
      "> Epoch 10: 100%|██████████| 60/60 [00:33<00:00,  1.80it/s]\n"
     ]
    },
    {
     "name": "stdout",
     "output_type": "stream",
     "text": [
      " - Training Loss        0.9433\n",
      " - Validation Loss      1.2311\n",
      " - Validation Accuracy  0.3208\n",
      "\n",
      " - Validation Accuracy (per class)\n",
      "   * Class 0\t 0.059 [20 out of 339]\n",
      "   * Class 1\t 0.0192 [6 out of 313]\n",
      "   * Class 2\t 0.9156 [282 out of 308]\n",
      "   * Mean        0.3313\n",
      "\n",
      "==================================================================================\n"
     ]
    },
    {
     "name": "stderr",
     "output_type": "stream",
     "text": [
      "> Epoch 11: 100%|██████████| 60/60 [00:33<00:00,  1.79it/s]\n"
     ]
    },
    {
     "name": "stdout",
     "output_type": "stream",
     "text": [
      " - Training Loss        0.9403\n",
      " - Validation Loss      1.2663\n",
      " - Validation Accuracy  0.3417\n",
      "\n",
      " - Validation Accuracy (per class)\n",
      "   * Class 0\t 0.0619 [21 out of 339]\n",
      "   * Class 1\t 0.9169 [287 out of 313]\n",
      "   * Class 2\t 0.0649 [20 out of 308]\n",
      "   * Mean        0.3479\n",
      "\n",
      "==================================================================================\n"
     ]
    },
    {
     "name": "stderr",
     "output_type": "stream",
     "text": [
      "> Epoch 12: 100%|██████████| 60/60 [00:33<00:00,  1.79it/s]\n"
     ]
    },
    {
     "name": "stdout",
     "output_type": "stream",
     "text": [
      " - Training Loss        0.9399\n",
      " - Validation Loss      1.2675\n",
      " - Validation Accuracy  0.3427\n",
      "\n",
      " - Validation Accuracy (per class)\n",
      "   * Class 0\t 0.056 [19 out of 339]\n",
      "   * Class 1\t 0.9233 [289 out of 313]\n",
      "   * Class 2\t 0.0682 [21 out of 308]\n",
      "   * Mean        0.3492\n",
      "\n",
      "==================================================================================\n"
     ]
    },
    {
     "name": "stderr",
     "output_type": "stream",
     "text": [
      "> Epoch 13: 100%|██████████| 60/60 [00:33<00:00,  1.79it/s]\n"
     ]
    },
    {
     "name": "stdout",
     "output_type": "stream",
     "text": [
      " - Training Loss        0.9395\n",
      " - Validation Loss      1.2884\n",
      " - Validation Accuracy  0.3406\n",
      "\n",
      " - Validation Accuracy (per class)\n",
      "   * Class 0\t 0.056 [19 out of 339]\n",
      "   * Class 1\t 0.9105 [285 out of 313]\n",
      "   * Class 2\t 0.0747 [23 out of 308]\n",
      "   * Mean        0.3471\n",
      "\n",
      "==================================================================================\n"
     ]
    },
    {
     "name": "stderr",
     "output_type": "stream",
     "text": [
      "> Epoch 14: 100%|██████████| 60/60 [00:33<00:00,  1.80it/s]\n"
     ]
    },
    {
     "name": "stdout",
     "output_type": "stream",
     "text": [
      " - Training Loss        0.9393\n",
      " - Validation Loss      1.2688\n",
      " - Validation Accuracy  0.3417\n",
      "\n",
      " - Validation Accuracy (per class)\n",
      "   * Class 0\t 0.059 [20 out of 339]\n",
      "   * Class 1\t 0.9105 [285 out of 313]\n",
      "   * Class 2\t 0.0747 [23 out of 308]\n",
      "   * Mean        0.3481\n",
      "\n",
      "==================================================================================\n"
     ]
    },
    {
     "name": "stderr",
     "output_type": "stream",
     "text": [
      "> Epoch 15: 100%|██████████| 60/60 [00:33<00:00,  1.80it/s]\n"
     ]
    },
    {
     "name": "stdout",
     "output_type": "stream",
     "text": [
      " - Training Loss        0.9388\n",
      " - Validation Loss      1.2973\n",
      " - Validation Accuracy  0.3417\n",
      "\n",
      " - Validation Accuracy (per class)\n",
      "   * Class 0\t 0.056 [19 out of 339]\n",
      "   * Class 1\t 0.9201 [288 out of 313]\n",
      "   * Class 2\t 0.0682 [21 out of 308]\n",
      "   * Mean        0.3481\n",
      "\n",
      "==================================================================================\n"
     ]
    },
    {
     "name": "stderr",
     "output_type": "stream",
     "text": [
      "> Epoch 16: 100%|██████████| 60/60 [00:33<00:00,  1.79it/s]\n"
     ]
    },
    {
     "name": "stdout",
     "output_type": "stream",
     "text": [
      " - Training Loss        0.9385\n",
      " - Validation Loss      1.3123\n",
      " - Validation Accuracy  0.3385\n",
      "\n",
      " - Validation Accuracy (per class)\n",
      "   * Class 0\t 0.059 [20 out of 339]\n",
      "   * Class 1\t 0.9169 [287 out of 313]\n",
      "   * Class 2\t 0.0584 [18 out of 308]\n",
      "   * Mean        0.3448\n",
      "\n",
      "==================================================================================\n"
     ]
    },
    {
     "name": "stderr",
     "output_type": "stream",
     "text": [
      "> Epoch 17: 100%|██████████| 60/60 [00:33<00:00,  1.79it/s]\n"
     ]
    },
    {
     "name": "stdout",
     "output_type": "stream",
     "text": [
      " - Training Loss        0.9386\n",
      " - Validation Loss      1.3038\n",
      " - Validation Accuracy  0.3458\n",
      "\n",
      " - Validation Accuracy (per class)\n",
      "   * Class 0\t 0.059 [20 out of 339]\n",
      "   * Class 1\t 0.9265 [290 out of 313]\n",
      "   * Class 2\t 0.0714 [22 out of 308]\n",
      "   * Mean        0.3523\n",
      "\n",
      "> ATTENTION: epoch 17 was the best one so far! The model has been saved :)\n",
      "\n",
      "==================================================================================\n"
     ]
    },
    {
     "name": "stderr",
     "output_type": "stream",
     "text": [
      "> Epoch 18: 100%|██████████| 60/60 [00:33<00:00,  1.78it/s]\n"
     ]
    },
    {
     "name": "stdout",
     "output_type": "stream",
     "text": [
      " - Training Loss        0.9385\n",
      " - Validation Loss      1.3247\n",
      " - Validation Accuracy  0.3385\n",
      "\n",
      " - Validation Accuracy (per class)\n",
      "   * Class 0\t 0.0619 [21 out of 339]\n",
      "   * Class 1\t 0.9137 [286 out of 313]\n",
      "   * Class 2\t 0.0584 [18 out of 308]\n",
      "   * Mean        0.3447\n",
      "\n",
      "==================================================================================\n"
     ]
    },
    {
     "name": "stderr",
     "output_type": "stream",
     "text": [
      "> Epoch 19: 100%|██████████| 60/60 [00:33<00:00,  1.79it/s]\n"
     ]
    },
    {
     "name": "stdout",
     "output_type": "stream",
     "text": [
      " - Training Loss        0.9384\n",
      " - Validation Loss      1.3445\n",
      " - Validation Accuracy  0.3406\n",
      "\n",
      " - Validation Accuracy (per class)\n",
      "   * Class 0\t 0.0649 [22 out of 339]\n",
      "   * Class 1\t 0.9105 [285 out of 313]\n",
      "   * Class 2\t 0.0649 [20 out of 308]\n",
      "   * Mean        0.3468\n",
      "\n",
      "==================================================================================\n"
     ]
    },
    {
     "name": "stderr",
     "output_type": "stream",
     "text": [
      "> Epoch 20: 100%|██████████| 60/60 [00:33<00:00,  1.79it/s]\n"
     ]
    },
    {
     "name": "stdout",
     "output_type": "stream",
     "text": [
      " - Training Loss        0.9381\n",
      " - Validation Loss      1.3554\n",
      " - Validation Accuracy  0.3396\n",
      "\n",
      " - Validation Accuracy (per class)\n",
      "   * Class 0\t 0.059 [20 out of 339]\n",
      "   * Class 1\t 0.9137 [286 out of 313]\n",
      "   * Class 2\t 0.0649 [20 out of 308]\n",
      "   * Mean        0.3459\n",
      "\n",
      "==================================================================================\n"
     ]
    },
    {
     "name": "stderr",
     "output_type": "stream",
     "text": [
      "> Epoch 21: 100%|██████████| 60/60 [00:33<00:00,  1.80it/s]\n"
     ]
    },
    {
     "name": "stdout",
     "output_type": "stream",
     "text": [
      " - Training Loss        0.9408\n",
      " - Validation Loss      1.2279\n",
      " - Validation Accuracy  0.3385\n",
      "\n",
      " - Validation Accuracy (per class)\n",
      "   * Class 0\t 0.0619 [21 out of 339]\n",
      "   * Class 1\t 0.9169 [287 out of 313]\n",
      "   * Class 2\t 0.0552 [17 out of 308]\n",
      "   * Mean        0.3447\n",
      "\n",
      "==================================================================================\n"
     ]
    },
    {
     "name": "stderr",
     "output_type": "stream",
     "text": [
      "> Epoch 22: 100%|██████████| 60/60 [00:33<00:00,  1.81it/s]\n"
     ]
    },
    {
     "name": "stdout",
     "output_type": "stream",
     "text": [
      " - Training Loss        0.9405\n",
      " - Validation Loss      1.2666\n",
      " - Validation Accuracy  0.3406\n",
      "\n",
      " - Validation Accuracy (per class)\n",
      "   * Class 0\t 0.056 [19 out of 339]\n",
      "   * Class 1\t 0.9073 [284 out of 313]\n",
      "   * Class 2\t 0.0779 [24 out of 308]\n",
      "   * Mean        0.3471\n",
      "\n",
      "==================================================================================\n"
     ]
    },
    {
     "name": "stderr",
     "output_type": "stream",
     "text": [
      "> Epoch 23: 100%|██████████| 60/60 [00:33<00:00,  1.80it/s]\n"
     ]
    },
    {
     "name": "stdout",
     "output_type": "stream",
     "text": [
      " - Training Loss        0.9392\n",
      " - Validation Loss      1.3036\n",
      " - Validation Accuracy  0.3427\n",
      "\n",
      " - Validation Accuracy (per class)\n",
      "   * Class 0\t 0.056 [19 out of 339]\n",
      "   * Class 1\t 0.9169 [287 out of 313]\n",
      "   * Class 2\t 0.0747 [23 out of 308]\n",
      "   * Mean        0.3492\n",
      "\n",
      "==================================================================================\n"
     ]
    },
    {
     "name": "stderr",
     "output_type": "stream",
     "text": [
      "> Epoch 24: 100%|██████████| 60/60 [00:33<00:00,  1.80it/s]\n"
     ]
    },
    {
     "name": "stdout",
     "output_type": "stream",
     "text": [
      " - Training Loss        0.9389\n",
      " - Validation Loss      1.3207\n",
      " - Validation Accuracy  0.3427\n",
      "\n",
      " - Validation Accuracy (per class)\n",
      "   * Class 0\t 0.0619 [21 out of 339]\n",
      "   * Class 1\t 0.9137 [286 out of 313]\n",
      "   * Class 2\t 0.0714 [22 out of 308]\n",
      "   * Mean        0.349\n",
      "\n",
      "==================================================================================\n"
     ]
    },
    {
     "name": "stderr",
     "output_type": "stream",
     "text": [
      "> Epoch 25: 100%|██████████| 60/60 [00:33<00:00,  1.80it/s]\n"
     ]
    },
    {
     "name": "stdout",
     "output_type": "stream",
     "text": [
      " - Training Loss        0.9406\n",
      " - Validation Loss      1.2501\n",
      " - Validation Accuracy  0.3479\n",
      "\n",
      " - Validation Accuracy (per class)\n",
      "   * Class 0\t 0.059 [20 out of 339]\n",
      "   * Class 1\t 0.9042 [283 out of 313]\n",
      "   * Class 2\t 0.1006 [31 out of 308]\n",
      "   * Mean        0.3546\n",
      "\n",
      "> ATTENTION: epoch 25 was the best one so far! The model has been saved :)\n",
      "\n",
      "==================================================================================\n"
     ]
    },
    {
     "name": "stderr",
     "output_type": "stream",
     "text": [
      "> Epoch 26: 100%|██████████| 60/60 [00:33<00:00,  1.81it/s]\n"
     ]
    },
    {
     "name": "stdout",
     "output_type": "stream",
     "text": [
      " - Training Loss        0.9423\n",
      " - Validation Loss      1.2468\n",
      " - Validation Accuracy  0.3385\n",
      "\n",
      " - Validation Accuracy (per class)\n",
      "   * Class 0\t 0.0531 [18 out of 339]\n",
      "   * Class 1\t 0.9233 [289 out of 313]\n",
      "   * Class 2\t 0.0584 [18 out of 308]\n",
      "   * Mean        0.3449\n",
      "\n",
      "==================================================================================\n"
     ]
    },
    {
     "name": "stderr",
     "output_type": "stream",
     "text": [
      "> Epoch 27: 100%|██████████| 60/60 [00:33<00:00,  1.80it/s]\n"
     ]
    },
    {
     "name": "stdout",
     "output_type": "stream",
     "text": [
      " - Training Loss        0.9407\n",
      " - Validation Loss      1.2592\n",
      " - Validation Accuracy  0.3375\n",
      "\n",
      " - Validation Accuracy (per class)\n",
      "   * Class 0\t 0.059 [20 out of 339]\n",
      "   * Class 1\t 0.9169 [287 out of 313]\n",
      "   * Class 2\t 0.0552 [17 out of 308]\n",
      "   * Mean        0.3437\n",
      "\n",
      "==================================================================================\n"
     ]
    },
    {
     "name": "stderr",
     "output_type": "stream",
     "text": [
      "> Epoch 28: 100%|██████████| 60/60 [00:33<00:00,  1.79it/s]\n"
     ]
    },
    {
     "name": "stdout",
     "output_type": "stream",
     "text": [
      " - Training Loss        0.9385\n",
      " - Validation Loss      1.2932\n",
      " - Validation Accuracy  0.3323\n",
      "\n",
      " - Validation Accuracy (per class)\n",
      "   * Class 0\t 0.0413 [14 out of 339]\n",
      "   * Class 1\t 0.9201 [288 out of 313]\n",
      "   * Class 2\t 0.0552 [17 out of 308]\n",
      "   * Mean        0.3389\n",
      "\n",
      "==================================================================================\n"
     ]
    },
    {
     "name": "stderr",
     "output_type": "stream",
     "text": [
      "> Epoch 29: 100%|██████████| 60/60 [00:33<00:00,  1.79it/s]\n"
     ]
    },
    {
     "name": "stdout",
     "output_type": "stream",
     "text": [
      " - Training Loss        0.9382\n",
      " - Validation Loss      1.3045\n",
      " - Validation Accuracy  0.3385\n",
      "\n",
      " - Validation Accuracy (per class)\n",
      "   * Class 0\t 0.056 [19 out of 339]\n",
      "   * Class 1\t 0.9201 [288 out of 313]\n",
      "   * Class 2\t 0.0584 [18 out of 308]\n",
      "   * Mean        0.3448\n",
      "\n",
      "==================================================================================\n"
     ]
    },
    {
     "name": "stderr",
     "output_type": "stream",
     "text": [
      "> Epoch 30: 100%|██████████| 60/60 [00:33<00:00,  1.79it/s]\n"
     ]
    },
    {
     "name": "stdout",
     "output_type": "stream",
     "text": [
      " - Training Loss        0.9382\n",
      " - Validation Loss      1.3174\n",
      " - Validation Accuracy  0.3396\n",
      "\n",
      " - Validation Accuracy (per class)\n",
      "   * Class 0\t 0.056 [19 out of 339]\n",
      "   * Class 1\t 0.9137 [286 out of 313]\n",
      "   * Class 2\t 0.0682 [21 out of 308]\n",
      "   * Mean        0.346\n",
      "\n",
      "==================================================================================\n"
     ]
    },
    {
     "name": "stderr",
     "output_type": "stream",
     "text": [
      "> Epoch 31: 100%|██████████| 60/60 [00:33<00:00,  1.79it/s]\n"
     ]
    },
    {
     "name": "stdout",
     "output_type": "stream",
     "text": [
      " - Training Loss        0.938\n",
      " - Validation Loss      1.3332\n",
      " - Validation Accuracy  0.3396\n",
      "\n",
      " - Validation Accuracy (per class)\n",
      "   * Class 0\t 0.0531 [18 out of 339]\n",
      "   * Class 1\t 0.9105 [285 out of 313]\n",
      "   * Class 2\t 0.0747 [23 out of 308]\n",
      "   * Mean        0.3461\n",
      "\n",
      "==================================================================================\n"
     ]
    },
    {
     "name": "stderr",
     "output_type": "stream",
     "text": [
      "> Epoch 32: 100%|██████████| 60/60 [00:33<00:00,  1.79it/s]\n"
     ]
    },
    {
     "name": "stdout",
     "output_type": "stream",
     "text": [
      " - Training Loss        0.9378\n",
      " - Validation Loss      1.3251\n",
      " - Validation Accuracy  0.3344\n",
      "\n",
      " - Validation Accuracy (per class)\n",
      "   * Class 0\t 0.0413 [14 out of 339]\n",
      "   * Class 1\t 0.9169 [287 out of 313]\n",
      "   * Class 2\t 0.0649 [20 out of 308]\n",
      "   * Mean        0.341\n",
      "\n",
      "==================================================================================\n"
     ]
    },
    {
     "name": "stderr",
     "output_type": "stream",
     "text": [
      "> Epoch 33: 100%|██████████| 60/60 [00:33<00:00,  1.79it/s]\n"
     ]
    },
    {
     "name": "stdout",
     "output_type": "stream",
     "text": [
      " - Training Loss        0.9383\n",
      " - Validation Loss      1.3047\n",
      " - Validation Accuracy  0.3365\n",
      "\n",
      " - Validation Accuracy (per class)\n",
      "   * Class 0\t 0.056 [19 out of 339]\n",
      "   * Class 1\t 0.9137 [286 out of 313]\n",
      "   * Class 2\t 0.0584 [18 out of 308]\n",
      "   * Mean        0.3427\n",
      "\n",
      "==================================================================================\n"
     ]
    },
    {
     "name": "stderr",
     "output_type": "stream",
     "text": [
      "> Epoch 34: 100%|██████████| 60/60 [00:33<00:00,  1.79it/s]\n"
     ]
    },
    {
     "name": "stdout",
     "output_type": "stream",
     "text": [
      " - Training Loss        0.9379\n",
      " - Validation Loss      1.3085\n",
      " - Validation Accuracy  0.3333\n",
      "\n",
      " - Validation Accuracy (per class)\n",
      "   * Class 0\t 0.059 [20 out of 339]\n",
      "   * Class 1\t 0.9042 [283 out of 313]\n",
      "   * Class 2\t 0.0552 [17 out of 308]\n",
      "   * Mean        0.3395\n",
      "\n",
      "==================================================================================\n"
     ]
    },
    {
     "name": "stderr",
     "output_type": "stream",
     "text": [
      "> Epoch 35: 100%|██████████| 60/60 [00:33<00:00,  1.79it/s]\n"
     ]
    },
    {
     "name": "stdout",
     "output_type": "stream",
     "text": [
      " - Training Loss        0.9711\n",
      " - Validation Loss      1.2443\n",
      " - Validation Accuracy  0.3427\n",
      "\n",
      " - Validation Accuracy (per class)\n",
      "   * Class 0\t 0.0531 [18 out of 339]\n",
      "   * Class 1\t 0.9233 [289 out of 313]\n",
      "   * Class 2\t 0.0714 [22 out of 308]\n",
      "   * Mean        0.3493\n",
      "\n",
      "==================================================================================\n"
     ]
    },
    {
     "name": "stderr",
     "output_type": "stream",
     "text": [
      "> Epoch 36: 100%|██████████| 60/60 [00:33<00:00,  1.81it/s]\n"
     ]
    },
    {
     "name": "stdout",
     "output_type": "stream",
     "text": [
      " - Training Loss        0.9391\n",
      " - Validation Loss      1.2814\n",
      " - Validation Accuracy  0.3396\n",
      "\n",
      " - Validation Accuracy (per class)\n",
      "   * Class 0\t 0.0531 [18 out of 339]\n",
      "   * Class 1\t 0.9233 [289 out of 313]\n",
      "   * Class 2\t 0.0617 [19 out of 308]\n",
      "   * Mean        0.346\n",
      "\n",
      "==================================================================================\n"
     ]
    },
    {
     "name": "stderr",
     "output_type": "stream",
     "text": [
      "> Epoch 37: 100%|██████████| 60/60 [00:33<00:00,  1.81it/s]\n"
     ]
    },
    {
     "name": "stdout",
     "output_type": "stream",
     "text": [
      " - Training Loss        0.9384\n",
      " - Validation Loss      1.3035\n",
      " - Validation Accuracy  0.3385\n",
      "\n",
      " - Validation Accuracy (per class)\n",
      "   * Class 0\t 0.0531 [18 out of 339]\n",
      "   * Class 1\t 0.9201 [288 out of 313]\n",
      "   * Class 2\t 0.0617 [19 out of 308]\n",
      "   * Mean        0.345\n",
      "\n",
      "==================================================================================\n"
     ]
    },
    {
     "name": "stderr",
     "output_type": "stream",
     "text": [
      "> Epoch 38: 100%|██████████| 60/60 [00:33<00:00,  1.80it/s]\n"
     ]
    },
    {
     "name": "stdout",
     "output_type": "stream",
     "text": [
      " - Training Loss        0.9381\n",
      " - Validation Loss      1.3218\n",
      " - Validation Accuracy  0.3375\n",
      "\n",
      " - Validation Accuracy (per class)\n",
      "   * Class 0\t 0.0531 [18 out of 339]\n",
      "   * Class 1\t 0.9201 [288 out of 313]\n",
      "   * Class 2\t 0.0584 [18 out of 308]\n",
      "   * Mean        0.3439\n",
      "\n",
      "==================================================================================\n"
     ]
    },
    {
     "name": "stderr",
     "output_type": "stream",
     "text": [
      "> Epoch 39: 100%|██████████| 60/60 [00:33<00:00,  1.80it/s]\n"
     ]
    },
    {
     "name": "stdout",
     "output_type": "stream",
     "text": [
      " - Training Loss        0.9378\n",
      " - Validation Loss      1.3438\n",
      " - Validation Accuracy  0.3385\n",
      "\n",
      " - Validation Accuracy (per class)\n",
      "   * Class 0\t 0.0531 [18 out of 339]\n",
      "   * Class 1\t 0.9201 [288 out of 313]\n",
      "   * Class 2\t 0.0617 [19 out of 308]\n",
      "   * Mean        0.345\n",
      "\n",
      "==================================================================================\n"
     ]
    },
    {
     "name": "stderr",
     "output_type": "stream",
     "text": [
      "> Epoch 40: 100%|██████████| 60/60 [00:33<00:00,  1.80it/s]\n"
     ]
    },
    {
     "name": "stdout",
     "output_type": "stream",
     "text": [
      " - Training Loss        0.9372\n",
      " - Validation Loss      1.421\n",
      " - Validation Accuracy  0.3406\n",
      "\n",
      " - Validation Accuracy (per class)\n",
      "   * Class 0\t 0.0531 [18 out of 339]\n",
      "   * Class 1\t 0.9105 [285 out of 313]\n",
      "   * Class 2\t 0.0779 [24 out of 308]\n",
      "   * Mean        0.3472\n",
      "\n",
      "==================================================================================\n"
     ]
    },
    {
     "name": "stderr",
     "output_type": "stream",
     "text": [
      "> Epoch 41: 100%|██████████| 60/60 [00:33<00:00,  1.80it/s]\n"
     ]
    },
    {
     "name": "stdout",
     "output_type": "stream",
     "text": [
      " - Training Loss        1.061\n",
      " - Validation Loss      1.2591\n",
      " - Validation Accuracy  0.3396\n",
      "\n",
      " - Validation Accuracy (per class)\n",
      "   * Class 0\t 0.059 [20 out of 339]\n",
      "   * Class 1\t 0.9169 [287 out of 313]\n",
      "   * Class 2\t 0.0617 [19 out of 308]\n",
      "   * Mean        0.3459\n",
      "\n",
      "==================================================================================\n"
     ]
    },
    {
     "name": "stderr",
     "output_type": "stream",
     "text": [
      "> Epoch 42: 100%|██████████| 60/60 [00:33<00:00,  1.79it/s]\n"
     ]
    },
    {
     "name": "stdout",
     "output_type": "stream",
     "text": [
      " - Training Loss        0.9383\n",
      " - Validation Loss      1.271\n",
      " - Validation Accuracy  0.3375\n",
      "\n",
      " - Validation Accuracy (per class)\n",
      "   * Class 0\t 0.0531 [18 out of 339]\n",
      "   * Class 1\t 0.9137 [286 out of 313]\n",
      "   * Class 2\t 0.0649 [20 out of 308]\n",
      "   * Mean        0.3439\n",
      "\n",
      "==================================================================================\n"
     ]
    },
    {
     "name": "stderr",
     "output_type": "stream",
     "text": [
      "> Epoch 43: 100%|██████████| 60/60 [00:33<00:00,  1.79it/s]\n"
     ]
    },
    {
     "name": "stdout",
     "output_type": "stream",
     "text": [
      " - Training Loss        0.9378\n",
      " - Validation Loss      1.2893\n",
      " - Validation Accuracy  0.3344\n",
      "\n",
      " - Validation Accuracy (per class)\n",
      "   * Class 0\t 0.0501 [17 out of 339]\n",
      "   * Class 1\t 0.9137 [286 out of 313]\n",
      "   * Class 2\t 0.0584 [18 out of 308]\n",
      "   * Mean        0.3407\n",
      "\n",
      "==================================================================================\n"
     ]
    },
    {
     "name": "stderr",
     "output_type": "stream",
     "text": [
      "> Epoch 44: 100%|██████████| 60/60 [00:33<00:00,  1.79it/s]\n"
     ]
    },
    {
     "name": "stdout",
     "output_type": "stream",
     "text": [
      " - Training Loss        0.9369\n",
      " - Validation Loss      1.2902\n",
      " - Validation Accuracy  0.3375\n",
      "\n",
      " - Validation Accuracy (per class)\n",
      "   * Class 0\t 0.0472 [16 out of 339]\n",
      "   * Class 1\t 0.9169 [287 out of 313]\n",
      "   * Class 2\t 0.0682 [21 out of 308]\n",
      "   * Mean        0.3441\n",
      "\n",
      "==================================================================================\n"
     ]
    },
    {
     "name": "stderr",
     "output_type": "stream",
     "text": [
      "> Epoch 45: 100%|██████████| 60/60 [00:33<00:00,  1.79it/s]\n"
     ]
    },
    {
     "name": "stdout",
     "output_type": "stream",
     "text": [
      " - Training Loss        0.9383\n",
      " - Validation Loss      1.3118\n",
      " - Validation Accuracy  0.3365\n",
      "\n",
      " - Validation Accuracy (per class)\n",
      "   * Class 0\t 0.0649 [22 out of 339]\n",
      "   * Class 1\t 0.8978 [281 out of 313]\n",
      "   * Class 2\t 0.0649 [20 out of 308]\n",
      "   * Mean        0.3425\n",
      "\n",
      "==================================================================================\n"
     ]
    },
    {
     "name": "stderr",
     "output_type": "stream",
     "text": [
      "> Epoch 46: 100%|██████████| 60/60 [00:33<00:00,  1.79it/s]\n"
     ]
    },
    {
     "name": "stdout",
     "output_type": "stream",
     "text": [
      " - Training Loss        0.9385\n",
      " - Validation Loss      1.2809\n",
      " - Validation Accuracy  0.3375\n",
      "\n",
      " - Validation Accuracy (per class)\n",
      "   * Class 0\t 0.0531 [18 out of 339]\n",
      "   * Class 1\t 0.9105 [285 out of 313]\n",
      "   * Class 2\t 0.0682 [21 out of 308]\n",
      "   * Mean        0.3439\n",
      "\n",
      "==================================================================================\n"
     ]
    },
    {
     "name": "stderr",
     "output_type": "stream",
     "text": [
      "> Epoch 47: 100%|██████████| 60/60 [00:33<00:00,  1.79it/s]\n"
     ]
    },
    {
     "name": "stdout",
     "output_type": "stream",
     "text": [
      " - Training Loss        0.9368\n",
      " - Validation Loss      1.3186\n",
      " - Validation Accuracy  0.3385\n",
      "\n",
      " - Validation Accuracy (per class)\n",
      "   * Class 0\t 0.0767 [26 out of 339]\n",
      "   * Class 1\t 0.885 [277 out of 313]\n",
      "   * Class 2\t 0.0714 [22 out of 308]\n",
      "   * Mean        0.3444\n",
      "\n",
      "==================================================================================\n"
     ]
    },
    {
     "name": "stderr",
     "output_type": "stream",
     "text": [
      "> Epoch 48: 100%|██████████| 60/60 [00:33<00:00,  1.79it/s]\n"
     ]
    },
    {
     "name": "stdout",
     "output_type": "stream",
     "text": [
      " - Training Loss        1.2539\n",
      " - Validation Loss      1.1983\n",
      " - Validation Accuracy  0.3375\n",
      "\n",
      " - Validation Accuracy (per class)\n",
      "   * Class 0\t 0.056 [19 out of 339]\n",
      "   * Class 1\t 0.9073 [284 out of 313]\n",
      "   * Class 2\t 0.0682 [21 out of 308]\n",
      "   * Mean        0.3438\n",
      "\n",
      "==================================================================================\n"
     ]
    },
    {
     "name": "stderr",
     "output_type": "stream",
     "text": [
      "> Epoch 49: 100%|██████████| 60/60 [00:33<00:00,  1.80it/s]\n"
     ]
    },
    {
     "name": "stdout",
     "output_type": "stream",
     "text": [
      " - Training Loss        0.9411\n",
      " - Validation Loss      1.2315\n",
      " - Validation Accuracy  0.3417\n",
      "\n",
      " - Validation Accuracy (per class)\n",
      "   * Class 0\t 0.056 [19 out of 339]\n",
      "   * Class 1\t 0.9201 [288 out of 313]\n",
      "   * Class 2\t 0.0682 [21 out of 308]\n",
      "   * Mean        0.3481\n",
      "\n",
      "==================================================================================\n"
     ]
    },
    {
     "name": "stderr",
     "output_type": "stream",
     "text": [
      "> Epoch 50: 100%|██████████| 60/60 [00:33<00:00,  1.80it/s]\n"
     ]
    },
    {
     "name": "stdout",
     "output_type": "stream",
     "text": [
      " - Training Loss        0.9387\n",
      " - Validation Loss      1.2511\n",
      " - Validation Accuracy  0.3417\n",
      "\n",
      " - Validation Accuracy (per class)\n",
      "   * Class 0\t 0.056 [19 out of 339]\n",
      "   * Class 1\t 0.9201 [288 out of 313]\n",
      "   * Class 2\t 0.0682 [21 out of 308]\n",
      "   * Mean        0.3481\n",
      "\n",
      "==================================================================================\n",
      "> Parameters imported\n",
      "> Dataset correctly divided in training set, validation set and test set\n",
      "> Created Pytorch datasets and dataloaders\n",
      "> Model 'LSTM_fixed' instantiated\n",
      "> Initialization required 0.074 seconds\n",
      "\n",
      "MODEL 2 DETAILS\n",
      " * EMBEDDING_DIM  1024\n",
      " * HIDDEN_DIM     1024\n",
      " * LEARNING_RATE  0.001\n",
      " * DROPOUT_P      0.0\n",
      "\n",
      "==================================================================================\n",
      "> Training Started\n",
      "  - Total Epochs: 50\n",
      "==================================================================================\n"
     ]
    },
    {
     "name": "stderr",
     "output_type": "stream",
     "text": [
      "> Epoch 1: 100%|██████████| 60/60 [00:32<00:00,  1.82it/s]\n"
     ]
    },
    {
     "name": "stdout",
     "output_type": "stream",
     "text": [
      " - Training Loss        1.1079\n",
      " - Validation Loss      1.1041\n",
      " - Validation Accuracy  0.3427\n",
      "\n",
      " - Validation Accuracy (per class)\n",
      "   * Class 0\t 0.0501 [17 out of 339]\n",
      "   * Class 1\t 0.8978 [281 out of 313]\n",
      "   * Class 2\t 0.1006 [31 out of 308]\n",
      "   * Mean        0.3495\n",
      "\n",
      "> ATTENTION: epoch 1 was the best one so far! The model has been saved :)\n",
      "\n",
      "==================================================================================\n"
     ]
    },
    {
     "name": "stderr",
     "output_type": "stream",
     "text": [
      "> Epoch 2: 100%|██████████| 60/60 [00:33<00:00,  1.82it/s]\n"
     ]
    },
    {
     "name": "stdout",
     "output_type": "stream",
     "text": [
      " - Training Loss        1.0249\n",
      " - Validation Loss      1.1342\n",
      " - Validation Accuracy  0.3479\n",
      "\n",
      " - Validation Accuracy (per class)\n",
      "   * Class 0\t 0.0649 [22 out of 339]\n",
      "   * Class 1\t 0.8978 [281 out of 313]\n",
      "   * Class 2\t 0.1006 [31 out of 308]\n",
      "   * Mean        0.3544\n",
      "\n",
      "> ATTENTION: epoch 2 was the best one so far! The model has been saved :)\n",
      "\n",
      "==================================================================================\n"
     ]
    },
    {
     "name": "stderr",
     "output_type": "stream",
     "text": [
      "> Epoch 3: 100%|██████████| 60/60 [00:33<00:00,  1.79it/s]\n"
     ]
    },
    {
     "name": "stdout",
     "output_type": "stream",
     "text": [
      " - Training Loss        1.3024\n",
      " - Validation Loss      1.1414\n",
      " - Validation Accuracy  0.3281\n",
      "\n",
      " - Validation Accuracy (per class)\n",
      "   * Class 0\t 0.0177 [6 out of 339]\n",
      "   * Class 1\t 0.9808 [307 out of 313]\n",
      "   * Class 2\t 0.0065 [2 out of 308]\n",
      "   * Mean        0.335\n",
      "\n",
      "==================================================================================\n"
     ]
    },
    {
     "name": "stderr",
     "output_type": "stream",
     "text": [
      "> Epoch 4: 100%|██████████| 60/60 [00:33<00:00,  1.79it/s]\n"
     ]
    },
    {
     "name": "stdout",
     "output_type": "stream",
     "text": [
      " - Training Loss        1.0086\n",
      " - Validation Loss      0.819\n",
      " - Validation Accuracy  0.6656\n",
      "\n",
      " - Validation Accuracy (per class)\n",
      "   * Class 0\t 0.5103 [173 out of 339]\n",
      "   * Class 1\t 0.8403 [263 out of 313]\n",
      "   * Class 2\t 0.6591 [203 out of 308]\n",
      "   * Mean        0.6699\n",
      "\n",
      "> ATTENTION: epoch 4 was the best one so far! The model has been saved :)\n",
      "\n",
      "==================================================================================\n"
     ]
    },
    {
     "name": "stderr",
     "output_type": "stream",
     "text": [
      "> Epoch 5: 100%|██████████| 60/60 [00:33<00:00,  1.78it/s]\n"
     ]
    },
    {
     "name": "stdout",
     "output_type": "stream",
     "text": [
      " - Training Loss        0.7692\n",
      " - Validation Loss      0.7667\n",
      " - Validation Accuracy  0.6719\n",
      "\n",
      " - Validation Accuracy (per class)\n",
      "   * Class 0\t 0.5782 [196 out of 339]\n",
      "   * Class 1\t 0.9137 [286 out of 313]\n",
      "   * Class 2\t 0.5292 [163 out of 308]\n",
      "   * Mean        0.6737\n",
      "\n",
      "> ATTENTION: epoch 5 was the best one so far! The model has been saved :)\n",
      "\n",
      "==================================================================================\n"
     ]
    },
    {
     "name": "stderr",
     "output_type": "stream",
     "text": [
      "> Epoch 6: 100%|██████████| 60/60 [00:33<00:00,  1.79it/s]\n"
     ]
    },
    {
     "name": "stdout",
     "output_type": "stream",
     "text": [
      " - Training Loss        0.6745\n",
      " - Validation Loss      0.7073\n",
      " - Validation Accuracy  0.7271\n",
      "\n",
      " - Validation Accuracy (per class)\n",
      "   * Class 0\t 0.5634 [191 out of 339]\n",
      "   * Class 1\t 0.7827 [245 out of 313]\n",
      "   * Class 2\t 0.8506 [262 out of 308]\n",
      "   * Mean        0.7322\n",
      "\n",
      "> ATTENTION: epoch 6 was the best one so far! The model has been saved :)\n",
      "\n",
      "==================================================================================\n"
     ]
    },
    {
     "name": "stderr",
     "output_type": "stream",
     "text": [
      "> Epoch 7: 100%|██████████| 60/60 [00:33<00:00,  1.78it/s]\n"
     ]
    },
    {
     "name": "stdout",
     "output_type": "stream",
     "text": [
      " - Training Loss        0.6302\n",
      " - Validation Loss      0.6388\n",
      " - Validation Accuracy  0.7354\n",
      "\n",
      " - Validation Accuracy (per class)\n",
      "   * Class 0\t 0.5841 [198 out of 339]\n",
      "   * Class 1\t 0.8019 [251 out of 313]\n",
      "   * Class 2\t 0.8344 [257 out of 308]\n",
      "   * Mean        0.7401\n",
      "\n",
      "> ATTENTION: epoch 7 was the best one so far! The model has been saved :)\n",
      "\n",
      "==================================================================================\n"
     ]
    },
    {
     "name": "stderr",
     "output_type": "stream",
     "text": [
      "> Epoch 8: 100%|██████████| 60/60 [00:33<00:00,  1.79it/s]\n"
     ]
    },
    {
     "name": "stdout",
     "output_type": "stream",
     "text": [
      " - Training Loss        0.5204\n",
      " - Validation Loss      0.6082\n",
      " - Validation Accuracy  0.7438\n",
      "\n",
      " - Validation Accuracy (per class)\n",
      "   * Class 0\t 0.587 [199 out of 339]\n",
      "   * Class 1\t 0.8466 [265 out of 313]\n",
      "   * Class 2\t 0.8117 [250 out of 308]\n",
      "   * Mean        0.7484\n",
      "\n",
      "> ATTENTION: epoch 8 was the best one so far! The model has been saved :)\n",
      "\n",
      "==================================================================================\n"
     ]
    },
    {
     "name": "stderr",
     "output_type": "stream",
     "text": [
      "> Epoch 9: 100%|██████████| 60/60 [00:33<00:00,  1.79it/s]\n"
     ]
    },
    {
     "name": "stdout",
     "output_type": "stream",
     "text": [
      " - Training Loss        0.4398\n",
      " - Validation Loss      0.6514\n",
      " - Validation Accuracy  0.7271\n",
      "\n",
      " - Validation Accuracy (per class)\n",
      "   * Class 0\t 0.6814 [231 out of 339]\n",
      "   * Class 1\t 0.5815 [182 out of 313]\n",
      "   * Class 2\t 0.9253 [285 out of 308]\n",
      "   * Mean        0.7294\n",
      "\n",
      "==================================================================================\n"
     ]
    },
    {
     "name": "stderr",
     "output_type": "stream",
     "text": [
      "> Epoch 10: 100%|██████████| 60/60 [00:33<00:00,  1.78it/s]\n"
     ]
    },
    {
     "name": "stdout",
     "output_type": "stream",
     "text": [
      " - Training Loss        0.367\n",
      " - Validation Loss      0.5225\n",
      " - Validation Accuracy  0.8042\n",
      "\n",
      " - Validation Accuracy (per class)\n",
      "   * Class 0\t 0.823 [279 out of 339]\n",
      "   * Class 1\t 0.7412 [232 out of 313]\n",
      "   * Class 2\t 0.8474 [261 out of 308]\n",
      "   * Mean        0.8039\n",
      "\n",
      "> ATTENTION: epoch 10 was the best one so far! The model has been saved :)\n",
      "\n",
      "==================================================================================\n"
     ]
    },
    {
     "name": "stderr",
     "output_type": "stream",
     "text": [
      "> Epoch 11: 100%|██████████| 60/60 [00:33<00:00,  1.79it/s]\n"
     ]
    },
    {
     "name": "stdout",
     "output_type": "stream",
     "text": [
      " - Training Loss        0.2859\n",
      " - Validation Loss      0.5111\n",
      " - Validation Accuracy  0.7927\n",
      "\n",
      " - Validation Accuracy (per class)\n",
      "   * Class 0\t 0.8525 [289 out of 339]\n",
      "   * Class 1\t 0.77 [241 out of 313]\n",
      "   * Class 2\t 0.75 [231 out of 308]\n",
      "   * Mean        0.7908\n",
      "\n",
      "==================================================================================\n"
     ]
    },
    {
     "name": "stderr",
     "output_type": "stream",
     "text": [
      "> Epoch 12: 100%|██████████| 60/60 [00:31<00:00,  1.92it/s]\n"
     ]
    },
    {
     "name": "stdout",
     "output_type": "stream",
     "text": [
      " - Training Loss        0.2395\n",
      " - Validation Loss      0.5484\n",
      " - Validation Accuracy  0.8\n",
      "\n",
      " - Validation Accuracy (per class)\n",
      "   * Class 0\t 0.8083 [274 out of 339]\n",
      "   * Class 1\t 0.7604 [238 out of 313]\n",
      "   * Class 2\t 0.8312 [256 out of 308]\n",
      "   * Mean        0.8\n",
      "\n",
      "==================================================================================\n"
     ]
    },
    {
     "name": "stderr",
     "output_type": "stream",
     "text": [
      "> Epoch 13: 100%|██████████| 60/60 [00:29<00:00,  2.06it/s]\n"
     ]
    },
    {
     "name": "stdout",
     "output_type": "stream",
     "text": [
      " - Training Loss        0.1855\n",
      " - Validation Loss      0.5116\n",
      " - Validation Accuracy  0.8104\n",
      "\n",
      " - Validation Accuracy (per class)\n",
      "   * Class 0\t 0.7935 [269 out of 339]\n",
      "   * Class 1\t 0.7923 [248 out of 313]\n",
      "   * Class 2\t 0.8474 [261 out of 308]\n",
      "   * Mean        0.8111\n",
      "\n",
      "> ATTENTION: epoch 13 was the best one so far! The model has been saved :)\n",
      "\n",
      "==================================================================================\n"
     ]
    },
    {
     "name": "stderr",
     "output_type": "stream",
     "text": [
      "> Epoch 14: 100%|██████████| 60/60 [00:29<00:00,  2.06it/s]\n"
     ]
    },
    {
     "name": "stdout",
     "output_type": "stream",
     "text": [
      " - Training Loss        0.2174\n",
      " - Validation Loss      0.6732\n",
      " - Validation Accuracy  0.7396\n",
      "\n",
      " - Validation Accuracy (per class)\n",
      "   * Class 0\t 0.6844 [232 out of 339]\n",
      "   * Class 1\t 0.8179 [256 out of 313]\n",
      "   * Class 2\t 0.7208 [222 out of 308]\n",
      "   * Mean        0.741\n",
      "\n",
      "==================================================================================\n"
     ]
    },
    {
     "name": "stderr",
     "output_type": "stream",
     "text": [
      "> Epoch 15: 100%|██████████| 60/60 [00:29<00:00,  2.06it/s]\n"
     ]
    },
    {
     "name": "stdout",
     "output_type": "stream",
     "text": [
      " - Training Loss        0.2485\n",
      " - Validation Loss      0.4923\n",
      " - Validation Accuracy  0.8188\n",
      "\n",
      " - Validation Accuracy (per class)\n",
      "   * Class 0\t 0.8289 [281 out of 339]\n",
      "   * Class 1\t 0.8147 [255 out of 313]\n",
      "   * Class 2\t 0.8117 [250 out of 308]\n",
      "   * Mean        0.8184\n",
      "\n",
      "> ATTENTION: epoch 15 was the best one so far! The model has been saved :)\n",
      "\n",
      "==================================================================================\n"
     ]
    },
    {
     "name": "stderr",
     "output_type": "stream",
     "text": [
      "> Epoch 16: 100%|██████████| 60/60 [00:29<00:00,  2.06it/s]\n"
     ]
    },
    {
     "name": "stdout",
     "output_type": "stream",
     "text": [
      " - Training Loss        0.1489\n",
      " - Validation Loss      0.549\n",
      " - Validation Accuracy  0.8177\n",
      "\n",
      " - Validation Accuracy (per class)\n",
      "   * Class 0\t 0.7906 [268 out of 339]\n",
      "   * Class 1\t 0.8051 [252 out of 313]\n",
      "   * Class 2\t 0.8604 [265 out of 308]\n",
      "   * Mean        0.8187\n",
      "\n",
      "> ATTENTION: epoch 16 was the best one so far! The model has been saved :)\n",
      "\n",
      "==================================================================================\n"
     ]
    },
    {
     "name": "stderr",
     "output_type": "stream",
     "text": [
      "> Epoch 17: 100%|██████████| 60/60 [00:29<00:00,  2.06it/s]\n"
     ]
    },
    {
     "name": "stdout",
     "output_type": "stream",
     "text": [
      " - Training Loss        0.1016\n",
      " - Validation Loss      0.5968\n",
      " - Validation Accuracy  0.8083\n",
      "\n",
      " - Validation Accuracy (per class)\n",
      "   * Class 0\t 0.8378 [284 out of 339]\n",
      "   * Class 1\t 0.8307 [260 out of 313]\n",
      "   * Class 2\t 0.7532 [232 out of 308]\n",
      "   * Mean        0.8072\n",
      "\n",
      "==================================================================================\n"
     ]
    },
    {
     "name": "stderr",
     "output_type": "stream",
     "text": [
      "> Epoch 18: 100%|██████████| 60/60 [00:29<00:00,  2.06it/s]\n"
     ]
    },
    {
     "name": "stdout",
     "output_type": "stream",
     "text": [
      " - Training Loss        0.0912\n",
      " - Validation Loss      0.5993\n",
      " - Validation Accuracy  0.8125\n",
      "\n",
      " - Validation Accuracy (per class)\n",
      "   * Class 0\t 0.8053 [273 out of 339]\n",
      "   * Class 1\t 0.7796 [244 out of 313]\n",
      "   * Class 2\t 0.8539 [263 out of 308]\n",
      "   * Mean        0.8129\n",
      "\n",
      "==================================================================================\n"
     ]
    },
    {
     "name": "stderr",
     "output_type": "stream",
     "text": [
      "> Epoch 19: 100%|██████████| 60/60 [00:29<00:00,  2.06it/s]\n"
     ]
    },
    {
     "name": "stdout",
     "output_type": "stream",
     "text": [
      " - Training Loss        0.0657\n",
      " - Validation Loss      0.6152\n",
      " - Validation Accuracy  0.8135\n",
      "\n",
      " - Validation Accuracy (per class)\n",
      "   * Class 0\t 0.7758 [263 out of 339]\n",
      "   * Class 1\t 0.7955 [249 out of 313]\n",
      "   * Class 2\t 0.8734 [269 out of 308]\n",
      "   * Mean        0.8149\n",
      "\n",
      "==================================================================================\n"
     ]
    },
    {
     "name": "stderr",
     "output_type": "stream",
     "text": [
      "> Epoch 20: 100%|██████████| 60/60 [00:29<00:00,  2.06it/s]\n"
     ]
    },
    {
     "name": "stdout",
     "output_type": "stream",
     "text": [
      " - Training Loss        0.0555\n",
      " - Validation Loss      0.6509\n",
      " - Validation Accuracy  0.8208\n",
      "\n",
      " - Validation Accuracy (per class)\n",
      "   * Class 0\t 0.7729 [262 out of 339]\n",
      "   * Class 1\t 0.8626 [270 out of 313]\n",
      "   * Class 2\t 0.8312 [256 out of 308]\n",
      "   * Mean        0.8222\n",
      "\n",
      "> ATTENTION: epoch 20 was the best one so far! The model has been saved :)\n",
      "\n",
      "==================================================================================\n"
     ]
    },
    {
     "name": "stderr",
     "output_type": "stream",
     "text": [
      "> Epoch 21: 100%|██████████| 60/60 [00:29<00:00,  2.06it/s]\n"
     ]
    },
    {
     "name": "stdout",
     "output_type": "stream",
     "text": [
      " - Training Loss        0.0419\n",
      " - Validation Loss      0.6464\n",
      " - Validation Accuracy  0.8229\n",
      "\n",
      " - Validation Accuracy (per class)\n",
      "   * Class 0\t 0.7817 [265 out of 339]\n",
      "   * Class 1\t 0.8914 [279 out of 313]\n",
      "   * Class 2\t 0.7987 [246 out of 308]\n",
      "   * Mean        0.8239\n",
      "\n",
      "> ATTENTION: epoch 21 was the best one so far! The model has been saved :)\n",
      "\n",
      "==================================================================================\n"
     ]
    },
    {
     "name": "stderr",
     "output_type": "stream",
     "text": [
      "> Epoch 22: 100%|██████████| 60/60 [00:29<00:00,  2.06it/s]\n"
     ]
    },
    {
     "name": "stdout",
     "output_type": "stream",
     "text": [
      " - Training Loss        0.0489\n",
      " - Validation Loss      0.6684\n",
      " - Validation Accuracy  0.8146\n",
      "\n",
      " - Validation Accuracy (per class)\n",
      "   * Class 0\t 0.7758 [263 out of 339]\n",
      "   * Class 1\t 0.853 [267 out of 313]\n",
      "   * Class 2\t 0.8182 [252 out of 308]\n",
      "   * Mean        0.8157\n",
      "\n",
      "==================================================================================\n"
     ]
    },
    {
     "name": "stderr",
     "output_type": "stream",
     "text": [
      "> Epoch 23: 100%|██████████| 60/60 [00:29<00:00,  2.06it/s]\n"
     ]
    },
    {
     "name": "stdout",
     "output_type": "stream",
     "text": [
      " - Training Loss        0.038\n",
      " - Validation Loss      0.744\n",
      " - Validation Accuracy  0.8229\n",
      "\n",
      " - Validation Accuracy (per class)\n",
      "   * Class 0\t 0.8142 [276 out of 339]\n",
      "   * Class 1\t 0.7508 [235 out of 313]\n",
      "   * Class 2\t 0.9058 [279 out of 308]\n",
      "   * Mean        0.8236\n",
      "\n",
      "==================================================================================\n"
     ]
    },
    {
     "name": "stderr",
     "output_type": "stream",
     "text": [
      "> Epoch 24: 100%|██████████| 60/60 [00:29<00:00,  2.06it/s]\n"
     ]
    },
    {
     "name": "stdout",
     "output_type": "stream",
     "text": [
      " - Training Loss        0.033\n",
      " - Validation Loss      0.6776\n",
      " - Validation Accuracy  0.8219\n",
      "\n",
      " - Validation Accuracy (per class)\n",
      "   * Class 0\t 0.8053 [273 out of 339]\n",
      "   * Class 1\t 0.8562 [268 out of 313]\n",
      "   * Class 2\t 0.8052 [248 out of 308]\n",
      "   * Mean        0.8222\n",
      "\n",
      "==================================================================================\n"
     ]
    },
    {
     "name": "stderr",
     "output_type": "stream",
     "text": [
      "> Epoch 25: 100%|██████████| 60/60 [00:29<00:00,  2.06it/s]\n"
     ]
    },
    {
     "name": "stdout",
     "output_type": "stream",
     "text": [
      " - Training Loss        0.0289\n",
      " - Validation Loss      0.7089\n",
      " - Validation Accuracy  0.8281\n",
      "\n",
      " - Validation Accuracy (per class)\n",
      "   * Class 0\t 0.8732 [296 out of 339]\n",
      "   * Class 1\t 0.7923 [248 out of 313]\n",
      "   * Class 2\t 0.8149 [251 out of 308]\n",
      "   * Mean        0.8268\n",
      "\n",
      "> ATTENTION: epoch 25 was the best one so far! The model has been saved :)\n",
      "\n",
      "==================================================================================\n"
     ]
    },
    {
     "name": "stderr",
     "output_type": "stream",
     "text": [
      "> Epoch 26: 100%|██████████| 60/60 [00:29<00:00,  2.06it/s]\n"
     ]
    },
    {
     "name": "stdout",
     "output_type": "stream",
     "text": [
      " - Training Loss        0.0281\n",
      " - Validation Loss      0.6904\n",
      " - Validation Accuracy  0.8302\n",
      "\n",
      " - Validation Accuracy (per class)\n",
      "   * Class 0\t 0.8024 [272 out of 339]\n",
      "   * Class 1\t 0.8243 [258 out of 313]\n",
      "   * Class 2\t 0.8669 [267 out of 308]\n",
      "   * Mean        0.8312\n",
      "\n",
      "> ATTENTION: epoch 26 was the best one so far! The model has been saved :)\n",
      "\n",
      "==================================================================================\n"
     ]
    },
    {
     "name": "stderr",
     "output_type": "stream",
     "text": [
      "> Epoch 27: 100%|██████████| 60/60 [00:29<00:00,  2.06it/s]\n"
     ]
    },
    {
     "name": "stdout",
     "output_type": "stream",
     "text": [
      " - Training Loss        0.0238\n",
      " - Validation Loss      0.7094\n",
      " - Validation Accuracy  0.8365\n",
      "\n",
      " - Validation Accuracy (per class)\n",
      "   * Class 0\t 0.7876 [267 out of 339]\n",
      "   * Class 1\t 0.8658 [271 out of 313]\n",
      "   * Class 2\t 0.8604 [265 out of 308]\n",
      "   * Mean        0.8379\n",
      "\n",
      "> ATTENTION: epoch 27 was the best one so far! The model has been saved :)\n",
      "\n",
      "==================================================================================\n"
     ]
    },
    {
     "name": "stderr",
     "output_type": "stream",
     "text": [
      "> Epoch 28: 100%|██████████| 60/60 [00:29<00:00,  2.06it/s]\n"
     ]
    },
    {
     "name": "stdout",
     "output_type": "stream",
     "text": [
      " - Training Loss        0.0301\n",
      " - Validation Loss      0.6958\n",
      " - Validation Accuracy  0.8365\n",
      "\n",
      " - Validation Accuracy (per class)\n",
      "   * Class 0\t 0.8673 [294 out of 339]\n",
      "   * Class 1\t 0.7764 [243 out of 313]\n",
      "   * Class 2\t 0.8636 [266 out of 308]\n",
      "   * Mean        0.8358\n",
      "\n",
      "==================================================================================\n"
     ]
    },
    {
     "name": "stderr",
     "output_type": "stream",
     "text": [
      "> Epoch 29: 100%|██████████| 60/60 [00:29<00:00,  2.06it/s]\n"
     ]
    },
    {
     "name": "stdout",
     "output_type": "stream",
     "text": [
      " - Training Loss        0.0269\n",
      " - Validation Loss      0.7163\n",
      " - Validation Accuracy  0.8281\n",
      "\n",
      " - Validation Accuracy (per class)\n",
      "   * Class 0\t 0.7699 [261 out of 339]\n",
      "   * Class 1\t 0.8466 [265 out of 313]\n",
      "   * Class 2\t 0.8734 [269 out of 308]\n",
      "   * Mean        0.83\n",
      "\n",
      "==================================================================================\n"
     ]
    },
    {
     "name": "stderr",
     "output_type": "stream",
     "text": [
      "> Epoch 30: 100%|██████████| 60/60 [00:29<00:00,  2.06it/s]\n"
     ]
    },
    {
     "name": "stdout",
     "output_type": "stream",
     "text": [
      " - Training Loss        0.0271\n",
      " - Validation Loss      0.7364\n",
      " - Validation Accuracy  0.825\n",
      "\n",
      " - Validation Accuracy (per class)\n",
      "   * Class 0\t 0.7817 [265 out of 339]\n",
      "   * Class 1\t 0.8307 [260 out of 313]\n",
      "   * Class 2\t 0.8669 [267 out of 308]\n",
      "   * Mean        0.8264\n",
      "\n",
      "==================================================================================\n"
     ]
    },
    {
     "name": "stderr",
     "output_type": "stream",
     "text": [
      "> Epoch 31: 100%|██████████| 60/60 [00:29<00:00,  2.06it/s]\n"
     ]
    },
    {
     "name": "stdout",
     "output_type": "stream",
     "text": [
      " - Training Loss        0.0352\n",
      " - Validation Loss      0.6908\n",
      " - Validation Accuracy  0.8271\n",
      "\n",
      " - Validation Accuracy (per class)\n",
      "   * Class 0\t 0.7758 [263 out of 339]\n",
      "   * Class 1\t 0.8307 [260 out of 313]\n",
      "   * Class 2\t 0.8799 [271 out of 308]\n",
      "   * Mean        0.8288\n",
      "\n",
      "==================================================================================\n"
     ]
    },
    {
     "name": "stderr",
     "output_type": "stream",
     "text": [
      "> Epoch 32: 100%|██████████| 60/60 [00:29<00:00,  2.06it/s]\n"
     ]
    },
    {
     "name": "stdout",
     "output_type": "stream",
     "text": [
      " - Training Loss        0.0377\n",
      " - Validation Loss      0.7195\n",
      " - Validation Accuracy  0.8094\n",
      "\n",
      " - Validation Accuracy (per class)\n",
      "   * Class 0\t 0.7935 [269 out of 339]\n",
      "   * Class 1\t 0.8466 [265 out of 313]\n",
      "   * Class 2\t 0.789 [243 out of 308]\n",
      "   * Mean        0.8097\n",
      "\n",
      "==================================================================================\n"
     ]
    },
    {
     "name": "stderr",
     "output_type": "stream",
     "text": [
      "> Epoch 33: 100%|██████████| 60/60 [00:29<00:00,  2.06it/s]\n"
     ]
    },
    {
     "name": "stdout",
     "output_type": "stream",
     "text": [
      " - Training Loss        0.0317\n",
      " - Validation Loss      0.7025\n",
      " - Validation Accuracy  0.8167\n",
      "\n",
      " - Validation Accuracy (per class)\n",
      "   * Class 0\t 0.8112 [275 out of 339]\n",
      "   * Class 1\t 0.8115 [254 out of 313]\n",
      "   * Class 2\t 0.8279 [255 out of 308]\n",
      "   * Mean        0.8169\n",
      "\n",
      "==================================================================================\n"
     ]
    },
    {
     "name": "stderr",
     "output_type": "stream",
     "text": [
      "> Epoch 34: 100%|██████████| 60/60 [00:29<00:00,  2.06it/s]\n"
     ]
    },
    {
     "name": "stdout",
     "output_type": "stream",
     "text": [
      " - Training Loss        0.0264\n",
      " - Validation Loss      0.7138\n",
      " - Validation Accuracy  0.8156\n",
      "\n",
      " - Validation Accuracy (per class)\n",
      "   * Class 0\t 0.8407 [285 out of 339]\n",
      "   * Class 1\t 0.8498 [266 out of 313]\n",
      "   * Class 2\t 0.7532 [232 out of 308]\n",
      "   * Mean        0.8146\n",
      "\n",
      "==================================================================================\n"
     ]
    },
    {
     "name": "stderr",
     "output_type": "stream",
     "text": [
      "> Epoch 35: 100%|██████████| 60/60 [00:29<00:00,  2.06it/s]\n"
     ]
    },
    {
     "name": "stdout",
     "output_type": "stream",
     "text": [
      " - Training Loss        0.0245\n",
      " - Validation Loss      0.7645\n",
      " - Validation Accuracy  0.8208\n",
      "\n",
      " - Validation Accuracy (per class)\n",
      "   * Class 0\t 0.8319 [282 out of 339]\n",
      "   * Class 1\t 0.7859 [246 out of 313]\n",
      "   * Class 2\t 0.8442 [260 out of 308]\n",
      "   * Mean        0.8207\n",
      "\n",
      "==================================================================================\n"
     ]
    },
    {
     "name": "stderr",
     "output_type": "stream",
     "text": [
      "> Epoch 36: 100%|██████████| 60/60 [00:29<00:00,  2.06it/s]\n"
     ]
    },
    {
     "name": "stdout",
     "output_type": "stream",
     "text": [
      " - Training Loss        0.0183\n",
      " - Validation Loss      0.8003\n",
      " - Validation Accuracy  0.8167\n",
      "\n",
      " - Validation Accuracy (per class)\n",
      "   * Class 0\t 0.7965 [270 out of 339]\n",
      "   * Class 1\t 0.7764 [243 out of 313]\n",
      "   * Class 2\t 0.8799 [271 out of 308]\n",
      "   * Mean        0.8176\n",
      "\n",
      "==================================================================================\n"
     ]
    },
    {
     "name": "stderr",
     "output_type": "stream",
     "text": [
      "> Epoch 37: 100%|██████████| 60/60 [00:29<00:00,  2.06it/s]\n"
     ]
    },
    {
     "name": "stdout",
     "output_type": "stream",
     "text": [
      " - Training Loss        0.0194\n",
      " - Validation Loss      0.7297\n",
      " - Validation Accuracy  0.8354\n",
      "\n",
      " - Validation Accuracy (per class)\n",
      "   * Class 0\t 0.7729 [262 out of 339]\n",
      "   * Class 1\t 0.8403 [263 out of 313]\n",
      "   * Class 2\t 0.8994 [277 out of 308]\n",
      "   * Mean        0.8375\n",
      "\n",
      "==================================================================================\n"
     ]
    },
    {
     "name": "stderr",
     "output_type": "stream",
     "text": [
      "> Epoch 38: 100%|██████████| 60/60 [00:29<00:00,  2.06it/s]\n"
     ]
    },
    {
     "name": "stdout",
     "output_type": "stream",
     "text": [
      " - Training Loss        0.0232\n",
      " - Validation Loss      0.705\n",
      " - Validation Accuracy  0.8344\n",
      "\n",
      " - Validation Accuracy (per class)\n",
      "   * Class 0\t 0.8319 [282 out of 339]\n",
      "   * Class 1\t 0.8562 [268 out of 313]\n",
      "   * Class 2\t 0.8149 [251 out of 308]\n",
      "   * Mean        0.8343\n",
      "\n",
      "==================================================================================\n"
     ]
    },
    {
     "name": "stderr",
     "output_type": "stream",
     "text": [
      "> Epoch 39: 100%|██████████| 60/60 [00:29<00:00,  2.06it/s]\n"
     ]
    },
    {
     "name": "stdout",
     "output_type": "stream",
     "text": [
      " - Training Loss        0.0178\n",
      " - Validation Loss      0.8179\n",
      " - Validation Accuracy  0.8229\n",
      "\n",
      " - Validation Accuracy (per class)\n",
      "   * Class 0\t 0.7493 [254 out of 339]\n",
      "   * Class 1\t 0.8498 [266 out of 313]\n",
      "   * Class 2\t 0.8766 [270 out of 308]\n",
      "   * Mean        0.8252\n",
      "\n",
      "==================================================================================\n"
     ]
    },
    {
     "name": "stderr",
     "output_type": "stream",
     "text": [
      "> Epoch 40: 100%|██████████| 60/60 [00:29<00:00,  2.06it/s]\n"
     ]
    },
    {
     "name": "stdout",
     "output_type": "stream",
     "text": [
      " - Training Loss        0.0169\n",
      " - Validation Loss      0.7723\n",
      " - Validation Accuracy  0.8354\n",
      "\n",
      " - Validation Accuracy (per class)\n",
      "   * Class 0\t 0.7906 [268 out of 339]\n",
      "   * Class 1\t 0.8786 [275 out of 313]\n",
      "   * Class 2\t 0.8409 [259 out of 308]\n",
      "   * Mean        0.8367\n",
      "\n",
      "==================================================================================\n"
     ]
    },
    {
     "name": "stderr",
     "output_type": "stream",
     "text": [
      "> Epoch 41: 100%|██████████| 60/60 [00:29<00:00,  2.06it/s]\n"
     ]
    },
    {
     "name": "stdout",
     "output_type": "stream",
     "text": [
      " - Training Loss        0.0195\n",
      " - Validation Loss      0.7823\n",
      " - Validation Accuracy  0.8313\n",
      "\n",
      " - Validation Accuracy (per class)\n",
      "   * Class 0\t 0.7817 [265 out of 339]\n",
      "   * Class 1\t 0.885 [277 out of 313]\n",
      "   * Class 2\t 0.8312 [256 out of 308]\n",
      "   * Mean        0.8326\n",
      "\n",
      "==================================================================================\n"
     ]
    },
    {
     "name": "stderr",
     "output_type": "stream",
     "text": [
      "> Epoch 42: 100%|██████████| 60/60 [00:29<00:00,  2.06it/s]\n"
     ]
    },
    {
     "name": "stdout",
     "output_type": "stream",
     "text": [
      " - Training Loss        0.014\n",
      " - Validation Loss      0.7623\n",
      " - Validation Accuracy  0.8365\n",
      "\n",
      " - Validation Accuracy (per class)\n",
      "   * Class 0\t 0.8171 [277 out of 339]\n",
      "   * Class 1\t 0.8083 [253 out of 313]\n",
      "   * Class 2\t 0.8864 [273 out of 308]\n",
      "   * Mean        0.8373\n",
      "\n",
      "==================================================================================\n"
     ]
    },
    {
     "name": "stderr",
     "output_type": "stream",
     "text": [
      "> Epoch 43: 100%|██████████| 60/60 [00:29<00:00,  2.06it/s]\n"
     ]
    },
    {
     "name": "stdout",
     "output_type": "stream",
     "text": [
      " - Training Loss        0.0113\n",
      " - Validation Loss      0.8366\n",
      " - Validation Accuracy  0.8219\n",
      "\n",
      " - Validation Accuracy (per class)\n",
      "   * Class 0\t 0.7434 [252 out of 339]\n",
      "   * Class 1\t 0.8466 [265 out of 313]\n",
      "   * Class 2\t 0.8831 [272 out of 308]\n",
      "   * Mean        0.8244\n",
      "\n",
      "==================================================================================\n"
     ]
    },
    {
     "name": "stderr",
     "output_type": "stream",
     "text": [
      "> Epoch 44: 100%|██████████| 60/60 [00:29<00:00,  2.06it/s]\n"
     ]
    },
    {
     "name": "stdout",
     "output_type": "stream",
     "text": [
      " - Training Loss        0.0112\n",
      " - Validation Loss      0.8809\n",
      " - Validation Accuracy  0.8229\n",
      "\n",
      " - Validation Accuracy (per class)\n",
      "   * Class 0\t 0.7729 [262 out of 339]\n",
      "   * Class 1\t 0.8978 [281 out of 313]\n",
      "   * Class 2\t 0.8019 [247 out of 308]\n",
      "   * Mean        0.8242\n",
      "\n",
      "==================================================================================\n"
     ]
    },
    {
     "name": "stderr",
     "output_type": "stream",
     "text": [
      "> Epoch 45: 100%|██████████| 60/60 [00:29<00:00,  2.06it/s]\n"
     ]
    },
    {
     "name": "stdout",
     "output_type": "stream",
     "text": [
      " - Training Loss        0.0138\n",
      " - Validation Loss      0.7437\n",
      " - Validation Accuracy  0.8396\n",
      "\n",
      " - Validation Accuracy (per class)\n",
      "   * Class 0\t 0.8348 [283 out of 339]\n",
      "   * Class 1\t 0.8339 [261 out of 313]\n",
      "   * Class 2\t 0.8506 [262 out of 308]\n",
      "   * Mean        0.8398\n",
      "\n",
      "> ATTENTION: epoch 45 was the best one so far! The model has been saved :)\n",
      "\n",
      "==================================================================================\n"
     ]
    },
    {
     "name": "stderr",
     "output_type": "stream",
     "text": [
      "> Epoch 46: 100%|██████████| 60/60 [00:29<00:00,  2.06it/s]\n"
     ]
    },
    {
     "name": "stdout",
     "output_type": "stream",
     "text": [
      " - Training Loss        0.0109\n",
      " - Validation Loss      0.7782\n",
      " - Validation Accuracy  0.8333\n",
      "\n",
      " - Validation Accuracy (per class)\n",
      "   * Class 0\t 0.8201 [278 out of 339]\n",
      "   * Class 1\t 0.8339 [261 out of 313]\n",
      "   * Class 2\t 0.8474 [261 out of 308]\n",
      "   * Mean        0.8338\n",
      "\n",
      "==================================================================================\n"
     ]
    },
    {
     "name": "stderr",
     "output_type": "stream",
     "text": [
      "> Epoch 47: 100%|██████████| 60/60 [00:29<00:00,  2.06it/s]\n"
     ]
    },
    {
     "name": "stdout",
     "output_type": "stream",
     "text": [
      " - Training Loss        0.0101\n",
      " - Validation Loss      0.8153\n",
      " - Validation Accuracy  0.8313\n",
      "\n",
      " - Validation Accuracy (per class)\n",
      "   * Class 0\t 0.8024 [272 out of 339]\n",
      "   * Class 1\t 0.8019 [251 out of 313]\n",
      "   * Class 2\t 0.8929 [275 out of 308]\n",
      "   * Mean        0.8324\n",
      "\n",
      "==================================================================================\n"
     ]
    },
    {
     "name": "stderr",
     "output_type": "stream",
     "text": [
      "> Epoch 48: 100%|██████████| 60/60 [00:29<00:00,  2.06it/s]\n"
     ]
    },
    {
     "name": "stdout",
     "output_type": "stream",
     "text": [
      " - Training Loss        0.0134\n",
      " - Validation Loss      0.7652\n",
      " - Validation Accuracy  0.8458\n",
      "\n",
      " - Validation Accuracy (per class)\n",
      "   * Class 0\t 0.8407 [285 out of 339]\n",
      "   * Class 1\t 0.8562 [268 out of 313]\n",
      "   * Class 2\t 0.8409 [259 out of 308]\n",
      "   * Mean        0.8459\n",
      "\n",
      "> ATTENTION: epoch 48 was the best one so far! The model has been saved :)\n",
      "\n",
      "==================================================================================\n"
     ]
    },
    {
     "name": "stderr",
     "output_type": "stream",
     "text": [
      "> Epoch 49: 100%|██████████| 60/60 [00:29<00:00,  2.06it/s]\n"
     ]
    },
    {
     "name": "stdout",
     "output_type": "stream",
     "text": [
      " - Training Loss        0.0134\n",
      " - Validation Loss      0.8651\n",
      " - Validation Accuracy  0.8281\n",
      "\n",
      " - Validation Accuracy (per class)\n",
      "   * Class 0\t 0.7699 [261 out of 339]\n",
      "   * Class 1\t 0.8435 [264 out of 313]\n",
      "   * Class 2\t 0.8766 [270 out of 308]\n",
      "   * Mean        0.83\n",
      "\n",
      "==================================================================================\n"
     ]
    },
    {
     "name": "stderr",
     "output_type": "stream",
     "text": [
      "> Epoch 50: 100%|██████████| 60/60 [00:29<00:00,  2.06it/s]\n"
     ]
    },
    {
     "name": "stdout",
     "output_type": "stream",
     "text": [
      " - Training Loss        0.0151\n",
      " - Validation Loss      0.8983\n",
      " - Validation Accuracy  0.826\n",
      "\n",
      " - Validation Accuracy (per class)\n",
      "   * Class 0\t 0.7434 [252 out of 339]\n",
      "   * Class 1\t 0.8498 [266 out of 313]\n",
      "   * Class 2\t 0.8929 [275 out of 308]\n",
      "   * Mean        0.8287\n",
      "\n",
      "==================================================================================\n",
      "> Parameters imported\n",
      "> Dataset correctly divided in training set, validation set and test set\n",
      "> Created Pytorch datasets and dataloaders\n",
      "> Model 'LSTM_fixed' instantiated\n",
      "> Initialization required 0.145 seconds\n",
      "\n",
      "MODEL 3 DETAILS\n",
      " * EMBEDDING_DIM  1024\n",
      " * HIDDEN_DIM     2048\n",
      " * LEARNING_RATE  0.0001\n",
      " * DROPOUT_P      0.0\n",
      "\n",
      "==================================================================================\n",
      "> Training Started\n",
      "  - Total Epochs: 50\n",
      "==================================================================================\n"
     ]
    },
    {
     "name": "stderr",
     "output_type": "stream",
     "text": [
      "> Epoch 1: 100%|██████████| 60/60 [01:18<00:00,  1.30s/it]\n"
     ]
    },
    {
     "name": "stdout",
     "output_type": "stream",
     "text": [
      " - Training Loss        1.1004\n",
      " - Validation Loss      1.1039\n",
      " - Validation Accuracy  0.3438\n",
      "\n",
      " - Validation Accuracy (per class)\n",
      "   * Class 0\t 0.0472 [16 out of 339]\n",
      "   * Class 1\t 0.9265 [290 out of 313]\n",
      "   * Class 2\t 0.0779 [24 out of 308]\n",
      "   * Mean        0.3505\n",
      "\n",
      "> ATTENTION: epoch 1 was the best one so far! The model has been saved :)\n",
      "\n",
      "==================================================================================\n"
     ]
    },
    {
     "name": "stderr",
     "output_type": "stream",
     "text": [
      "> Epoch 2: 100%|██████████| 60/60 [01:17<00:00,  1.30s/it]\n"
     ]
    },
    {
     "name": "stdout",
     "output_type": "stream",
     "text": [
      " - Training Loss        1.0641\n",
      " - Validation Loss      1.1108\n",
      " - Validation Accuracy  0.3271\n",
      "\n",
      " - Validation Accuracy (per class)\n",
      "   * Class 0\t 0.0649 [22 out of 339]\n",
      "   * Class 1\t 0.016 [5 out of 313]\n",
      "   * Class 2\t 0.9318 [287 out of 308]\n",
      "   * Mean        0.3376\n",
      "\n",
      "==================================================================================\n"
     ]
    },
    {
     "name": "stderr",
     "output_type": "stream",
     "text": [
      "> Epoch 3: 100%|██████████| 60/60 [01:18<00:00,  1.30s/it]\n"
     ]
    },
    {
     "name": "stdout",
     "output_type": "stream",
     "text": [
      " - Training Loss        1.0292\n",
      " - Validation Loss      1.1226\n",
      " - Validation Accuracy  0.3229\n",
      "\n",
      " - Validation Accuracy (per class)\n",
      "   * Class 0\t 0.0678 [23 out of 339]\n",
      "   * Class 1\t 0.0224 [7 out of 313]\n",
      "   * Class 2\t 0.9091 [280 out of 308]\n",
      "   * Mean        0.3331\n",
      "\n",
      "==================================================================================\n"
     ]
    },
    {
     "name": "stderr",
     "output_type": "stream",
     "text": [
      "> Epoch 4: 100%|██████████| 60/60 [01:18<00:00,  1.31s/it]\n"
     ]
    },
    {
     "name": "stdout",
     "output_type": "stream",
     "text": [
      " - Training Loss        1.0143\n",
      " - Validation Loss      1.1415\n",
      " - Validation Accuracy  0.3417\n",
      "\n",
      " - Validation Accuracy (per class)\n",
      "   * Class 0\t 0.0678 [23 out of 339]\n",
      "   * Class 1\t 0.9073 [284 out of 313]\n",
      "   * Class 2\t 0.0682 [21 out of 308]\n",
      "   * Mean        0.3478\n",
      "\n",
      "==================================================================================\n"
     ]
    },
    {
     "name": "stderr",
     "output_type": "stream",
     "text": [
      "> Epoch 5: 100%|██████████| 60/60 [01:18<00:00,  1.31s/it]\n"
     ]
    },
    {
     "name": "stdout",
     "output_type": "stream",
     "text": [
      " - Training Loss        0.9632\n",
      " - Validation Loss      1.1781\n",
      " - Validation Accuracy  0.325\n",
      "\n",
      " - Validation Accuracy (per class)\n",
      "   * Class 0\t 0.0767 [26 out of 339]\n",
      "   * Class 1\t 0.0256 [8 out of 313]\n",
      "   * Class 2\t 0.9026 [278 out of 308]\n",
      "   * Mean        0.335\n",
      "\n",
      "==================================================================================\n"
     ]
    },
    {
     "name": "stderr",
     "output_type": "stream",
     "text": [
      "> Epoch 6: 100%|██████████| 60/60 [01:18<00:00,  1.31s/it]\n"
     ]
    },
    {
     "name": "stdout",
     "output_type": "stream",
     "text": [
      " - Training Loss        0.9539\n",
      " - Validation Loss      1.1821\n",
      " - Validation Accuracy  0.3458\n",
      "\n",
      " - Validation Accuracy (per class)\n",
      "   * Class 0\t 0.0678 [23 out of 339]\n",
      "   * Class 1\t 0.9169 [287 out of 313]\n",
      "   * Class 2\t 0.0714 [22 out of 308]\n",
      "   * Mean        0.352\n",
      "\n",
      "> ATTENTION: epoch 6 was the best one so far! The model has been saved :)\n",
      "\n",
      "==================================================================================\n"
     ]
    },
    {
     "name": "stderr",
     "output_type": "stream",
     "text": [
      "> Epoch 7: 100%|██████████| 60/60 [01:18<00:00,  1.31s/it]\n"
     ]
    },
    {
     "name": "stdout",
     "output_type": "stream",
     "text": [
      " - Training Loss        0.9465\n",
      " - Validation Loss      1.2226\n",
      " - Validation Accuracy  0.3271\n",
      "\n",
      " - Validation Accuracy (per class)\n",
      "   * Class 0\t 0.059 [20 out of 339]\n",
      "   * Class 1\t 0.0288 [9 out of 313]\n",
      "   * Class 2\t 0.9253 [285 out of 308]\n",
      "   * Mean        0.3377\n",
      "\n",
      "==================================================================================\n"
     ]
    },
    {
     "name": "stderr",
     "output_type": "stream",
     "text": [
      "> Epoch 8: 100%|██████████| 60/60 [01:19<00:00,  1.33s/it]\n"
     ]
    },
    {
     "name": "stdout",
     "output_type": "stream",
     "text": [
      " - Training Loss        0.9418\n",
      " - Validation Loss      1.2449\n",
      " - Validation Accuracy  0.3427\n",
      "\n",
      " - Validation Accuracy (per class)\n",
      "   * Class 0\t 0.059 [20 out of 339]\n",
      "   * Class 1\t 0.9169 [287 out of 313]\n",
      "   * Class 2\t 0.0714 [22 out of 308]\n",
      "   * Mean        0.3491\n",
      "\n",
      "==================================================================================\n"
     ]
    },
    {
     "name": "stderr",
     "output_type": "stream",
     "text": [
      "> Epoch 9: 100%|██████████| 60/60 [01:19<00:00,  1.33s/it]\n"
     ]
    },
    {
     "name": "stdout",
     "output_type": "stream",
     "text": [
      " - Training Loss        0.9403\n",
      " - Validation Loss      1.274\n",
      " - Validation Accuracy  0.3458\n",
      "\n",
      " - Validation Accuracy (per class)\n",
      "   * Class 0\t 0.0678 [23 out of 339]\n",
      "   * Class 1\t 0.9105 [285 out of 313]\n",
      "   * Class 2\t 0.0779 [24 out of 308]\n",
      "   * Mean        0.3521\n",
      "\n",
      "> ATTENTION: epoch 9 was the best one so far! The model has been saved :)\n",
      "\n",
      "==================================================================================\n"
     ]
    },
    {
     "name": "stderr",
     "output_type": "stream",
     "text": [
      "> Epoch 10: 100%|██████████| 60/60 [01:19<00:00,  1.33s/it]\n"
     ]
    },
    {
     "name": "stdout",
     "output_type": "stream",
     "text": [
      " - Training Loss        0.9402\n",
      " - Validation Loss      1.2819\n",
      " - Validation Accuracy  0.3375\n",
      "\n",
      " - Validation Accuracy (per class)\n",
      "   * Class 0\t 0.0531 [18 out of 339]\n",
      "   * Class 1\t 0.9073 [284 out of 313]\n",
      "   * Class 2\t 0.0714 [22 out of 308]\n",
      "   * Mean        0.3439\n",
      "\n",
      "==================================================================================\n"
     ]
    },
    {
     "name": "stderr",
     "output_type": "stream",
     "text": [
      "> Epoch 11: 100%|██████████| 60/60 [01:18<00:00,  1.31s/it]\n"
     ]
    },
    {
     "name": "stdout",
     "output_type": "stream",
     "text": [
      " - Training Loss        0.9414\n",
      " - Validation Loss      1.233\n",
      " - Validation Accuracy  0.3365\n",
      "\n",
      " - Validation Accuracy (per class)\n",
      "   * Class 0\t 0.0501 [17 out of 339]\n",
      "   * Class 1\t 0.9073 [284 out of 313]\n",
      "   * Class 2\t 0.0714 [22 out of 308]\n",
      "   * Mean        0.3429\n",
      "\n",
      "==================================================================================\n"
     ]
    },
    {
     "name": "stderr",
     "output_type": "stream",
     "text": [
      "> Epoch 12: 100%|██████████| 60/60 [01:18<00:00,  1.31s/it]\n"
     ]
    },
    {
     "name": "stdout",
     "output_type": "stream",
     "text": [
      " - Training Loss        0.9402\n",
      " - Validation Loss      1.2752\n",
      " - Validation Accuracy  0.3292\n",
      "\n",
      " - Validation Accuracy (per class)\n",
      "   * Class 0\t 0.0649 [22 out of 339]\n",
      "   * Class 1\t 0.0288 [9 out of 313]\n",
      "   * Class 2\t 0.9253 [285 out of 308]\n",
      "   * Mean        0.3397\n",
      "\n",
      "==================================================================================\n"
     ]
    },
    {
     "name": "stderr",
     "output_type": "stream",
     "text": [
      "> Epoch 13: 100%|██████████| 60/60 [01:19<00:00,  1.33s/it]\n"
     ]
    },
    {
     "name": "stdout",
     "output_type": "stream",
     "text": [
      " - Training Loss        0.9396\n",
      " - Validation Loss      1.2993\n",
      " - Validation Accuracy  0.3229\n",
      "\n",
      " - Validation Accuracy (per class)\n",
      "   * Class 0\t 0.0501 [17 out of 339]\n",
      "   * Class 1\t 0.0256 [8 out of 313]\n",
      "   * Class 2\t 0.9253 [285 out of 308]\n",
      "   * Mean        0.3337\n",
      "\n",
      "==================================================================================\n"
     ]
    },
    {
     "name": "stderr",
     "output_type": "stream",
     "text": [
      "> Epoch 14: 100%|██████████| 60/60 [01:20<00:00,  1.34s/it]\n"
     ]
    },
    {
     "name": "stdout",
     "output_type": "stream",
     "text": [
      " - Training Loss        0.9389\n",
      " - Validation Loss      1.3255\n",
      " - Validation Accuracy  0.3375\n",
      "\n",
      " - Validation Accuracy (per class)\n",
      "   * Class 0\t 0.056 [19 out of 339]\n",
      "   * Class 1\t 0.9042 [283 out of 313]\n",
      "   * Class 2\t 0.0714 [22 out of 308]\n",
      "   * Mean        0.3439\n",
      "\n",
      "==================================================================================\n"
     ]
    },
    {
     "name": "stderr",
     "output_type": "stream",
     "text": [
      "> Epoch 15: 100%|██████████| 60/60 [01:20<00:00,  1.33s/it]\n"
     ]
    },
    {
     "name": "stdout",
     "output_type": "stream",
     "text": [
      " - Training Loss        0.9399\n",
      " - Validation Loss      1.278\n",
      " - Validation Accuracy  0.3365\n",
      "\n",
      " - Validation Accuracy (per class)\n",
      "   * Class 0\t 0.0413 [14 out of 339]\n",
      "   * Class 1\t 0.9233 [289 out of 313]\n",
      "   * Class 2\t 0.0649 [20 out of 308]\n",
      "   * Mean        0.3432\n",
      "\n",
      "==================================================================================\n"
     ]
    },
    {
     "name": "stderr",
     "output_type": "stream",
     "text": [
      "> Epoch 16: 100%|██████████| 60/60 [01:18<00:00,  1.31s/it]\n"
     ]
    },
    {
     "name": "stdout",
     "output_type": "stream",
     "text": [
      " - Training Loss        0.94\n",
      " - Validation Loss      1.2685\n",
      " - Validation Accuracy  0.3385\n",
      "\n",
      " - Validation Accuracy (per class)\n",
      "   * Class 0\t 0.0501 [17 out of 339]\n",
      "   * Class 1\t 0.9137 [286 out of 313]\n",
      "   * Class 2\t 0.0714 [22 out of 308]\n",
      "   * Mean        0.3451\n",
      "\n",
      "==================================================================================\n"
     ]
    },
    {
     "name": "stderr",
     "output_type": "stream",
     "text": [
      "> Epoch 17: 100%|██████████| 60/60 [01:18<00:00,  1.31s/it]\n"
     ]
    },
    {
     "name": "stdout",
     "output_type": "stream",
     "text": [
      " - Training Loss        0.9395\n",
      " - Validation Loss      1.3002\n",
      " - Validation Accuracy  0.3427\n",
      "\n",
      " - Validation Accuracy (per class)\n",
      "   * Class 0\t 0.0472 [16 out of 339]\n",
      "   * Class 1\t 0.9137 [286 out of 313]\n",
      "   * Class 2\t 0.0877 [27 out of 308]\n",
      "   * Mean        0.3495\n",
      "\n",
      "==================================================================================\n"
     ]
    },
    {
     "name": "stderr",
     "output_type": "stream",
     "text": [
      "> Epoch 18: 100%|██████████| 60/60 [01:19<00:00,  1.33s/it]\n"
     ]
    },
    {
     "name": "stdout",
     "output_type": "stream",
     "text": [
      " - Training Loss        0.9387\n",
      " - Validation Loss      1.337\n",
      " - Validation Accuracy  0.3396\n",
      "\n",
      " - Validation Accuracy (per class)\n",
      "   * Class 0\t 0.0501 [17 out of 339]\n",
      "   * Class 1\t 0.9137 [286 out of 313]\n",
      "   * Class 2\t 0.0747 [23 out of 308]\n",
      "   * Mean        0.3462\n",
      "\n",
      "==================================================================================\n"
     ]
    },
    {
     "name": "stderr",
     "output_type": "stream",
     "text": [
      "> Epoch 19: 100%|██████████| 60/60 [01:19<00:00,  1.33s/it]\n"
     ]
    },
    {
     "name": "stdout",
     "output_type": "stream",
     "text": [
      " - Training Loss        0.9385\n",
      " - Validation Loss      1.3359\n",
      " - Validation Accuracy  0.326\n",
      "\n",
      " - Validation Accuracy (per class)\n",
      "   * Class 0\t 0.0501 [17 out of 339]\n",
      "   * Class 1\t 0.0288 [9 out of 313]\n",
      "   * Class 2\t 0.9318 [287 out of 308]\n",
      "   * Mean        0.3369\n",
      "\n",
      "==================================================================================\n"
     ]
    },
    {
     "name": "stderr",
     "output_type": "stream",
     "text": [
      "> Epoch 20: 100%|██████████| 60/60 [01:19<00:00,  1.33s/it]\n"
     ]
    },
    {
     "name": "stdout",
     "output_type": "stream",
     "text": [
      " - Training Loss        0.9386\n",
      " - Validation Loss      1.3989\n",
      " - Validation Accuracy  0.3344\n",
      "\n",
      " - Validation Accuracy (per class)\n",
      "   * Class 0\t 0.0442 [15 out of 339]\n",
      "   * Class 1\t 0.9233 [289 out of 313]\n",
      "   * Class 2\t 0.0552 [17 out of 308]\n",
      "   * Mean        0.3409\n",
      "\n",
      "==================================================================================\n"
     ]
    },
    {
     "name": "stderr",
     "output_type": "stream",
     "text": [
      "> Epoch 21: 100%|██████████| 60/60 [01:19<00:00,  1.33s/it]\n"
     ]
    },
    {
     "name": "stdout",
     "output_type": "stream",
     "text": [
      " - Training Loss        0.9386\n",
      " - Validation Loss      1.3079\n",
      " - Validation Accuracy  0.3406\n",
      "\n",
      " - Validation Accuracy (per class)\n",
      "   * Class 0\t 0.0678 [23 out of 339]\n",
      "   * Class 1\t 0.9169 [287 out of 313]\n",
      "   * Class 2\t 0.0552 [17 out of 308]\n",
      "   * Mean        0.3466\n",
      "\n",
      "==================================================================================\n"
     ]
    },
    {
     "name": "stderr",
     "output_type": "stream",
     "text": [
      "> Epoch 22: 100%|██████████| 60/60 [01:19<00:00,  1.33s/it]\n"
     ]
    },
    {
     "name": "stdout",
     "output_type": "stream",
     "text": [
      " - Training Loss        0.9388\n",
      " - Validation Loss      1.3075\n",
      " - Validation Accuracy  0.3406\n",
      "\n",
      " - Validation Accuracy (per class)\n",
      "   * Class 0\t 0.0501 [17 out of 339]\n",
      "   * Class 1\t 0.9105 [285 out of 313]\n",
      "   * Class 2\t 0.0812 [25 out of 308]\n",
      "   * Mean        0.3473\n",
      "\n",
      "==================================================================================\n"
     ]
    },
    {
     "name": "stderr",
     "output_type": "stream",
     "text": [
      "> Epoch 23: 100%|██████████| 60/60 [01:20<00:00,  1.34s/it]\n"
     ]
    },
    {
     "name": "stdout",
     "output_type": "stream",
     "text": [
      " - Training Loss        0.9379\n",
      " - Validation Loss      1.2713\n",
      " - Validation Accuracy  0.3531\n",
      "\n",
      " - Validation Accuracy (per class)\n",
      "   * Class 0\t 0.0619 [21 out of 339]\n",
      "   * Class 1\t 0.9297 [291 out of 313]\n",
      "   * Class 2\t 0.0877 [27 out of 308]\n",
      "   * Mean        0.3598\n",
      "\n",
      "> ATTENTION: epoch 23 was the best one so far! The model has been saved :)\n",
      "\n",
      "==================================================================================\n"
     ]
    },
    {
     "name": "stderr",
     "output_type": "stream",
     "text": [
      "> Epoch 24: 100%|██████████| 60/60 [01:18<00:00,  1.31s/it]\n"
     ]
    },
    {
     "name": "stdout",
     "output_type": "stream",
     "text": [
      " - Training Loss        0.9569\n",
      " - Validation Loss      1.2005\n",
      " - Validation Accuracy  0.3417\n",
      "\n",
      " - Validation Accuracy (per class)\n",
      "   * Class 0\t 0.0501 [17 out of 339]\n",
      "   * Class 1\t 0.9201 [288 out of 313]\n",
      "   * Class 2\t 0.0747 [23 out of 308]\n",
      "   * Mean        0.3483\n",
      "\n",
      "==================================================================================\n"
     ]
    },
    {
     "name": "stderr",
     "output_type": "stream",
     "text": [
      "> Epoch 25: 100%|██████████| 60/60 [01:18<00:00,  1.31s/it]\n"
     ]
    },
    {
     "name": "stdout",
     "output_type": "stream",
     "text": [
      " - Training Loss        0.9462\n",
      " - Validation Loss      1.2535\n",
      " - Validation Accuracy  0.3375\n",
      "\n",
      " - Validation Accuracy (per class)\n",
      "   * Class 0\t 0.0501 [17 out of 339]\n",
      "   * Class 1\t 0.9073 [284 out of 313]\n",
      "   * Class 2\t 0.0747 [23 out of 308]\n",
      "   * Mean        0.344\n",
      "\n",
      "==================================================================================\n"
     ]
    },
    {
     "name": "stderr",
     "output_type": "stream",
     "text": [
      "> Epoch 26: 100%|██████████| 60/60 [01:19<00:00,  1.32s/it]\n"
     ]
    },
    {
     "name": "stdout",
     "output_type": "stream",
     "text": [
      " - Training Loss        0.9407\n",
      " - Validation Loss      1.262\n",
      " - Validation Accuracy  0.3219\n",
      "\n",
      " - Validation Accuracy (per class)\n",
      "   * Class 0\t 0.056 [19 out of 339]\n",
      "   * Class 1\t 0.0383 [12 out of 313]\n",
      "   * Class 2\t 0.9026 [278 out of 308]\n",
      "   * Mean        0.3323\n",
      "\n",
      "==================================================================================\n"
     ]
    },
    {
     "name": "stderr",
     "output_type": "stream",
     "text": [
      "> Epoch 27: 100%|██████████| 60/60 [01:19<00:00,  1.32s/it]\n"
     ]
    },
    {
     "name": "stdout",
     "output_type": "stream",
     "text": [
      " - Training Loss        0.9393\n",
      " - Validation Loss      1.2662\n",
      " - Validation Accuracy  0.3302\n",
      "\n",
      " - Validation Accuracy (per class)\n",
      "   * Class 0\t 0.0442 [15 out of 339]\n",
      "   * Class 1\t 0.9169 [287 out of 313]\n",
      "   * Class 2\t 0.0487 [15 out of 308]\n",
      "   * Mean        0.3366\n",
      "\n",
      "==================================================================================\n"
     ]
    },
    {
     "name": "stderr",
     "output_type": "stream",
     "text": [
      "> Epoch 28: 100%|██████████| 60/60 [01:19<00:00,  1.33s/it]\n"
     ]
    },
    {
     "name": "stdout",
     "output_type": "stream",
     "text": [
      " - Training Loss        0.9386\n",
      " - Validation Loss      1.2844\n",
      " - Validation Accuracy  0.3323\n",
      "\n",
      " - Validation Accuracy (per class)\n",
      "   * Class 0\t 0.0501 [17 out of 339]\n",
      "   * Class 1\t 0.9169 [287 out of 313]\n",
      "   * Class 2\t 0.0487 [15 out of 308]\n",
      "   * Mean        0.3386\n",
      "\n",
      "==================================================================================\n"
     ]
    },
    {
     "name": "stderr",
     "output_type": "stream",
     "text": [
      "> Epoch 29: 100%|██████████| 60/60 [01:19<00:00,  1.33s/it]\n"
     ]
    },
    {
     "name": "stdout",
     "output_type": "stream",
     "text": [
      " - Training Loss        0.9386\n",
      " - Validation Loss      1.2776\n",
      " - Validation Accuracy  0.3333\n",
      "\n",
      " - Validation Accuracy (per class)\n",
      "   * Class 0\t 0.056 [19 out of 339]\n",
      "   * Class 1\t 0.9137 [286 out of 313]\n",
      "   * Class 2\t 0.0487 [15 out of 308]\n",
      "   * Mean        0.3395\n",
      "\n",
      "==================================================================================\n"
     ]
    },
    {
     "name": "stderr",
     "output_type": "stream",
     "text": [
      "> Epoch 30: 100%|██████████| 60/60 [01:20<00:00,  1.34s/it]\n"
     ]
    },
    {
     "name": "stdout",
     "output_type": "stream",
     "text": [
      " - Training Loss        0.9382\n",
      " - Validation Loss      1.2889\n",
      " - Validation Accuracy  0.3323\n",
      "\n",
      " - Validation Accuracy (per class)\n",
      "   * Class 0\t 0.0531 [18 out of 339]\n",
      "   * Class 1\t 0.9137 [286 out of 313]\n",
      "   * Class 2\t 0.0487 [15 out of 308]\n",
      "   * Mean        0.3385\n",
      "\n",
      "==================================================================================\n"
     ]
    },
    {
     "name": "stderr",
     "output_type": "stream",
     "text": [
      "> Epoch 31: 100%|██████████| 60/60 [01:19<00:00,  1.33s/it]\n"
     ]
    },
    {
     "name": "stdout",
     "output_type": "stream",
     "text": [
      " - Training Loss        0.9381\n",
      " - Validation Loss      1.314\n",
      " - Validation Accuracy  0.3365\n",
      "\n",
      " - Validation Accuracy (per class)\n",
      "   * Class 0\t 0.056 [19 out of 339]\n",
      "   * Class 1\t 0.9169 [287 out of 313]\n",
      "   * Class 2\t 0.0552 [17 out of 308]\n",
      "   * Mean        0.3427\n",
      "\n",
      "==================================================================================\n"
     ]
    },
    {
     "name": "stderr",
     "output_type": "stream",
     "text": [
      "> Epoch 32: 100%|██████████| 60/60 [01:20<00:00,  1.34s/it]\n"
     ]
    },
    {
     "name": "stdout",
     "output_type": "stream",
     "text": [
      " - Training Loss        0.9387\n",
      " - Validation Loss      1.2625\n",
      " - Validation Accuracy  0.3365\n",
      "\n",
      " - Validation Accuracy (per class)\n",
      "   * Class 0\t 0.0531 [18 out of 339]\n",
      "   * Class 1\t 0.9201 [288 out of 313]\n",
      "   * Class 2\t 0.0552 [17 out of 308]\n",
      "   * Mean        0.3428\n",
      "\n",
      "==================================================================================\n"
     ]
    },
    {
     "name": "stderr",
     "output_type": "stream",
     "text": [
      "> Epoch 33: 100%|██████████| 60/60 [01:20<00:00,  1.34s/it]\n"
     ]
    },
    {
     "name": "stdout",
     "output_type": "stream",
     "text": [
      " - Training Loss        0.9391\n",
      " - Validation Loss      1.2619\n",
      " - Validation Accuracy  0.3365\n",
      "\n",
      " - Validation Accuracy (per class)\n",
      "   * Class 0\t 0.0531 [18 out of 339]\n",
      "   * Class 1\t 0.9137 [286 out of 313]\n",
      "   * Class 2\t 0.0617 [19 out of 308]\n",
      "   * Mean        0.3428\n",
      "\n",
      "==================================================================================\n"
     ]
    },
    {
     "name": "stderr",
     "output_type": "stream",
     "text": [
      "> Epoch 34: 100%|██████████| 60/60 [01:20<00:00,  1.33s/it]\n"
     ]
    },
    {
     "name": "stdout",
     "output_type": "stream",
     "text": [
      " - Training Loss        0.9392\n",
      " - Validation Loss      1.2939\n",
      " - Validation Accuracy  0.3302\n",
      "\n",
      " - Validation Accuracy (per class)\n",
      "   * Class 0\t 0.0442 [15 out of 339]\n",
      "   * Class 1\t 0.9201 [288 out of 313]\n",
      "   * Class 2\t 0.0455 [14 out of 308]\n",
      "   * Mean        0.3366\n",
      "\n",
      "==================================================================================\n"
     ]
    },
    {
     "name": "stderr",
     "output_type": "stream",
     "text": [
      "> Epoch 35: 100%|██████████| 60/60 [01:20<00:00,  1.34s/it]\n"
     ]
    },
    {
     "name": "stdout",
     "output_type": "stream",
     "text": [
      " - Training Loss        0.9385\n",
      " - Validation Loss      1.2891\n",
      " - Validation Accuracy  0.3271\n",
      "\n",
      " - Validation Accuracy (per class)\n",
      "   * Class 0\t 0.0383 [13 out of 339]\n",
      "   * Class 1\t 0.9201 [288 out of 313]\n",
      "   * Class 2\t 0.0422 [13 out of 308]\n",
      "   * Mean        0.3335\n",
      "\n",
      "==================================================================================\n"
     ]
    },
    {
     "name": "stderr",
     "output_type": "stream",
     "text": [
      "> Epoch 36: 100%|██████████| 60/60 [01:20<00:00,  1.34s/it]\n"
     ]
    },
    {
     "name": "stdout",
     "output_type": "stream",
     "text": [
      " - Training Loss        0.9385\n",
      " - Validation Loss      1.2798\n",
      " - Validation Accuracy  0.3365\n",
      "\n",
      " - Validation Accuracy (per class)\n",
      "   * Class 0\t 0.0501 [17 out of 339]\n",
      "   * Class 1\t 0.9201 [288 out of 313]\n",
      "   * Class 2\t 0.0584 [18 out of 308]\n",
      "   * Mean        0.3429\n",
      "\n",
      "==================================================================================\n"
     ]
    },
    {
     "name": "stderr",
     "output_type": "stream",
     "text": [
      "> Epoch 37: 100%|██████████| 60/60 [01:20<00:00,  1.34s/it]\n"
     ]
    },
    {
     "name": "stdout",
     "output_type": "stream",
     "text": [
      " - Training Loss        0.938\n",
      " - Validation Loss      1.2956\n",
      " - Validation Accuracy  0.3354\n",
      "\n",
      " - Validation Accuracy (per class)\n",
      "   * Class 0\t 0.0501 [17 out of 339]\n",
      "   * Class 1\t 0.9169 [287 out of 313]\n",
      "   * Class 2\t 0.0584 [18 out of 308]\n",
      "   * Mean        0.3418\n",
      "\n",
      "==================================================================================\n"
     ]
    },
    {
     "name": "stderr",
     "output_type": "stream",
     "text": [
      "> Epoch 38: 100%|██████████| 60/60 [01:19<00:00,  1.32s/it]\n"
     ]
    },
    {
     "name": "stdout",
     "output_type": "stream",
     "text": [
      " - Training Loss        0.9399\n",
      " - Validation Loss      1.2832\n",
      " - Validation Accuracy  0.3313\n",
      "\n",
      " - Validation Accuracy (per class)\n",
      "   * Class 0\t 0.0501 [17 out of 339]\n",
      "   * Class 1\t 0.9137 [286 out of 313]\n",
      "   * Class 2\t 0.0487 [15 out of 308]\n",
      "   * Mean        0.3375\n",
      "\n",
      "==================================================================================\n"
     ]
    },
    {
     "name": "stderr",
     "output_type": "stream",
     "text": [
      "> Epoch 39: 100%|██████████| 60/60 [01:19<00:00,  1.33s/it]\n"
     ]
    },
    {
     "name": "stdout",
     "output_type": "stream",
     "text": [
      " - Training Loss        0.9385\n",
      " - Validation Loss      1.2914\n",
      " - Validation Accuracy  0.3333\n",
      "\n",
      " - Validation Accuracy (per class)\n",
      "   * Class 0\t 0.0531 [18 out of 339]\n",
      "   * Class 1\t 0.9169 [287 out of 313]\n",
      "   * Class 2\t 0.0487 [15 out of 308]\n",
      "   * Mean        0.3396\n",
      "\n",
      "==================================================================================\n"
     ]
    },
    {
     "name": "stderr",
     "output_type": "stream",
     "text": [
      "> Epoch 40: 100%|██████████| 60/60 [01:19<00:00,  1.33s/it]\n"
     ]
    },
    {
     "name": "stdout",
     "output_type": "stream",
     "text": [
      " - Training Loss        0.9381\n",
      " - Validation Loss      1.3095\n",
      " - Validation Accuracy  0.3313\n",
      "\n",
      " - Validation Accuracy (per class)\n",
      "   * Class 0\t 0.0531 [18 out of 339]\n",
      "   * Class 1\t 0.9137 [286 out of 313]\n",
      "   * Class 2\t 0.0455 [14 out of 308]\n",
      "   * Mean        0.3374\n",
      "\n",
      "==================================================================================\n"
     ]
    },
    {
     "name": "stderr",
     "output_type": "stream",
     "text": [
      "> Epoch 41: 100%|██████████| 60/60 [01:20<00:00,  1.34s/it]\n"
     ]
    },
    {
     "name": "stdout",
     "output_type": "stream",
     "text": [
      " - Training Loss        0.9382\n",
      " - Validation Loss      1.2955\n",
      " - Validation Accuracy  0.3365\n",
      "\n",
      " - Validation Accuracy (per class)\n",
      "   * Class 0\t 0.059 [20 out of 339]\n",
      "   * Class 1\t 0.9201 [288 out of 313]\n",
      "   * Class 2\t 0.0487 [15 out of 308]\n",
      "   * Mean        0.3426\n",
      "\n",
      "==================================================================================\n"
     ]
    },
    {
     "name": "stderr",
     "output_type": "stream",
     "text": [
      "> Epoch 42: 100%|██████████| 60/60 [01:19<00:00,  1.33s/it]\n"
     ]
    },
    {
     "name": "stdout",
     "output_type": "stream",
     "text": [
      " - Training Loss        0.9378\n",
      " - Validation Loss      1.3038\n",
      " - Validation Accuracy  0.3365\n",
      "\n",
      " - Validation Accuracy (per class)\n",
      "   * Class 0\t 0.059 [20 out of 339]\n",
      "   * Class 1\t 0.9169 [287 out of 313]\n",
      "   * Class 2\t 0.0519 [16 out of 308]\n",
      "   * Mean        0.3426\n",
      "\n",
      "==================================================================================\n"
     ]
    },
    {
     "name": "stderr",
     "output_type": "stream",
     "text": [
      "> Epoch 43: 100%|██████████| 60/60 [01:20<00:00,  1.34s/it]\n"
     ]
    },
    {
     "name": "stdout",
     "output_type": "stream",
     "text": [
      " - Training Loss        0.9378\n",
      " - Validation Loss      1.3189\n",
      " - Validation Accuracy  0.3385\n",
      "\n",
      " - Validation Accuracy (per class)\n",
      "   * Class 0\t 0.059 [20 out of 339]\n",
      "   * Class 1\t 0.9201 [288 out of 313]\n",
      "   * Class 2\t 0.0552 [17 out of 308]\n",
      "   * Mean        0.3448\n",
      "\n",
      "==================================================================================\n"
     ]
    },
    {
     "name": "stderr",
     "output_type": "stream",
     "text": [
      "> Epoch 44: 100%|██████████| 60/60 [01:20<00:00,  1.34s/it]\n"
     ]
    },
    {
     "name": "stdout",
     "output_type": "stream",
     "text": [
      " - Training Loss        0.9386\n",
      " - Validation Loss      1.3043\n",
      " - Validation Accuracy  0.3375\n",
      "\n",
      " - Validation Accuracy (per class)\n",
      "   * Class 0\t 0.0531 [18 out of 339]\n",
      "   * Class 1\t 0.9201 [288 out of 313]\n",
      "   * Class 2\t 0.0584 [18 out of 308]\n",
      "   * Mean        0.3439\n",
      "\n",
      "==================================================================================\n"
     ]
    },
    {
     "name": "stderr",
     "output_type": "stream",
     "text": [
      "> Epoch 45: 100%|██████████| 60/60 [01:19<00:00,  1.32s/it]\n"
     ]
    },
    {
     "name": "stdout",
     "output_type": "stream",
     "text": [
      " - Training Loss        0.939\n",
      " - Validation Loss      1.32\n",
      " - Validation Accuracy  0.3375\n",
      "\n",
      " - Validation Accuracy (per class)\n",
      "   * Class 0\t 0.0472 [16 out of 339]\n",
      "   * Class 1\t 0.9297 [291 out of 313]\n",
      "   * Class 2\t 0.0552 [17 out of 308]\n",
      "   * Mean        0.344\n",
      "\n",
      "==================================================================================\n"
     ]
    },
    {
     "name": "stderr",
     "output_type": "stream",
     "text": [
      "> Epoch 46: 100%|██████████| 60/60 [01:19<00:00,  1.33s/it]\n"
     ]
    },
    {
     "name": "stdout",
     "output_type": "stream",
     "text": [
      " - Training Loss        0.938\n",
      " - Validation Loss      1.3095\n",
      " - Validation Accuracy  0.3365\n",
      "\n",
      " - Validation Accuracy (per class)\n",
      "   * Class 0\t 0.0472 [16 out of 339]\n",
      "   * Class 1\t 0.9233 [289 out of 313]\n",
      "   * Class 2\t 0.0584 [18 out of 308]\n",
      "   * Mean        0.343\n",
      "\n",
      "==================================================================================\n"
     ]
    },
    {
     "name": "stderr",
     "output_type": "stream",
     "text": [
      "> Epoch 47: 100%|██████████| 60/60 [01:19<00:00,  1.33s/it]\n"
     ]
    },
    {
     "name": "stdout",
     "output_type": "stream",
     "text": [
      " - Training Loss        0.9383\n",
      " - Validation Loss      1.315\n",
      " - Validation Accuracy  0.3406\n",
      "\n",
      " - Validation Accuracy (per class)\n",
      "   * Class 0\t 0.056 [19 out of 339]\n",
      "   * Class 1\t 0.9201 [288 out of 313]\n",
      "   * Class 2\t 0.0649 [20 out of 308]\n",
      "   * Mean        0.347\n",
      "\n",
      "==================================================================================\n"
     ]
    },
    {
     "name": "stderr",
     "output_type": "stream",
     "text": [
      "> Epoch 48: 100%|██████████| 60/60 [01:19<00:00,  1.33s/it]\n"
     ]
    },
    {
     "name": "stdout",
     "output_type": "stream",
     "text": [
      " - Training Loss        0.942\n",
      " - Validation Loss      1.2606\n",
      " - Validation Accuracy  0.3385\n",
      "\n",
      " - Validation Accuracy (per class)\n",
      "   * Class 0\t 0.0472 [16 out of 339]\n",
      "   * Class 1\t 0.9233 [289 out of 313]\n",
      "   * Class 2\t 0.0649 [20 out of 308]\n",
      "   * Mean        0.3451\n",
      "\n",
      "==================================================================================\n"
     ]
    },
    {
     "name": "stderr",
     "output_type": "stream",
     "text": [
      "> Epoch 49: 100%|██████████| 60/60 [01:19<00:00,  1.33s/it]\n"
     ]
    },
    {
     "name": "stdout",
     "output_type": "stream",
     "text": [
      " - Training Loss        0.9393\n",
      " - Validation Loss      1.2869\n",
      " - Validation Accuracy  0.3333\n",
      "\n",
      " - Validation Accuracy (per class)\n",
      "   * Class 0\t 0.0472 [16 out of 339]\n",
      "   * Class 1\t 0.9169 [287 out of 313]\n",
      "   * Class 2\t 0.0552 [17 out of 308]\n",
      "   * Mean        0.3398\n",
      "\n",
      "==================================================================================\n"
     ]
    },
    {
     "name": "stderr",
     "output_type": "stream",
     "text": [
      "> Epoch 50: 100%|██████████| 60/60 [01:19<00:00,  1.33s/it]\n"
     ]
    },
    {
     "name": "stdout",
     "output_type": "stream",
     "text": [
      " - Training Loss        0.9939\n",
      " - Validation Loss      1.2553\n",
      " - Validation Accuracy  0.3323\n",
      "\n",
      " - Validation Accuracy (per class)\n",
      "   * Class 0\t 0.0501 [17 out of 339]\n",
      "   * Class 1\t 0.9137 [286 out of 313]\n",
      "   * Class 2\t 0.0519 [16 out of 308]\n",
      "   * Mean        0.3386\n",
      "\n",
      "==================================================================================\n",
      "> Parameters imported\n",
      "> Dataset correctly divided in training set, validation set and test set\n",
      "> Created Pytorch datasets and dataloaders\n",
      "> Model 'LSTM_fixed' instantiated\n",
      "> Initialization required 0.147 seconds\n",
      "\n",
      "MODEL 4 DETAILS\n",
      " * EMBEDDING_DIM  1024\n",
      " * HIDDEN_DIM     2048\n",
      " * LEARNING_RATE  0.001\n",
      " * DROPOUT_P      0.0\n",
      "\n",
      "==================================================================================\n",
      "> Training Started\n",
      "  - Total Epochs: 50\n",
      "==================================================================================\n"
     ]
    },
    {
     "name": "stderr",
     "output_type": "stream",
     "text": [
      "> Epoch 1: 100%|██████████| 60/60 [01:18<00:00,  1.31s/it]\n"
     ]
    },
    {
     "name": "stdout",
     "output_type": "stream",
     "text": [
      " - Training Loss        1.1475\n",
      " - Validation Loss      1.112\n",
      " - Validation Accuracy  0.3375\n",
      "\n",
      " - Validation Accuracy (per class)\n",
      "   * Class 0\t 0.3333 [113 out of 339]\n",
      "   * Class 1\t 0.3674 [115 out of 313]\n",
      "   * Class 2\t 0.3117 [96 out of 308]\n",
      "   * Mean        0.3375\n",
      "\n",
      "> ATTENTION: epoch 1 was the best one so far! The model has been saved :)\n",
      "\n",
      "==================================================================================\n"
     ]
    },
    {
     "name": "stderr",
     "output_type": "stream",
     "text": [
      "> Epoch 2: 100%|██████████| 60/60 [01:20<00:00,  1.34s/it]\n"
     ]
    },
    {
     "name": "stdout",
     "output_type": "stream",
     "text": [
      " - Training Loss        1.0762\n",
      " - Validation Loss      1.1518\n",
      " - Validation Accuracy  0.3281\n",
      "\n",
      " - Validation Accuracy (per class)\n",
      "   * Class 0\t 0.0413 [14 out of 339]\n",
      "   * Class 1\t 0.8882 [278 out of 313]\n",
      "   * Class 2\t 0.0747 [23 out of 308]\n",
      "   * Mean        0.3347\n",
      "\n",
      "==================================================================================\n"
     ]
    },
    {
     "name": "stderr",
     "output_type": "stream",
     "text": [
      "> Epoch 3: 100%|██████████| 60/60 [01:20<00:00,  1.34s/it]\n"
     ]
    },
    {
     "name": "stdout",
     "output_type": "stream",
     "text": [
      " - Training Loss        1.0735\n",
      " - Validation Loss      1.2365\n",
      " - Validation Accuracy  0.3229\n",
      "\n",
      " - Validation Accuracy (per class)\n",
      "   * Class 0\t 0.0383 [13 out of 339]\n",
      "   * Class 1\t 0.4281 [134 out of 313]\n",
      "   * Class 2\t 0.5292 [163 out of 308]\n",
      "   * Mean        0.3319\n",
      "\n",
      "==================================================================================\n"
     ]
    },
    {
     "name": "stderr",
     "output_type": "stream",
     "text": [
      "> Epoch 4: 100%|██████████| 60/60 [01:19<00:00,  1.32s/it]\n"
     ]
    },
    {
     "name": "stdout",
     "output_type": "stream",
     "text": [
      " - Training Loss        1.0677\n",
      " - Validation Loss      1.1286\n",
      " - Validation Accuracy  0.3542\n",
      "\n",
      " - Validation Accuracy (per class)\n",
      "   * Class 0\t 0.233 [79 out of 339]\n",
      "   * Class 1\t 0.5272 [165 out of 313]\n",
      "   * Class 2\t 0.3117 [96 out of 308]\n",
      "   * Mean        0.3573\n",
      "\n",
      "> ATTENTION: epoch 4 was the best one so far! The model has been saved :)\n",
      "\n",
      "==================================================================================\n"
     ]
    },
    {
     "name": "stderr",
     "output_type": "stream",
     "text": [
      "> Epoch 5: 100%|██████████| 60/60 [01:18<00:00,  1.32s/it]\n"
     ]
    },
    {
     "name": "stdout",
     "output_type": "stream",
     "text": [
      " - Training Loss        0.9968\n",
      " - Validation Loss      1.1457\n",
      " - Validation Accuracy  0.4146\n",
      "\n",
      " - Validation Accuracy (per class)\n",
      "   * Class 0\t 0.531 [180 out of 339]\n",
      "   * Class 1\t 0.1821 [57 out of 313]\n",
      "   * Class 2\t 0.5227 [161 out of 308]\n",
      "   * Mean        0.4119\n",
      "\n",
      "> ATTENTION: epoch 5 was the best one so far! The model has been saved :)\n",
      "\n",
      "==================================================================================\n"
     ]
    },
    {
     "name": "stderr",
     "output_type": "stream",
     "text": [
      "> Epoch 6: 100%|██████████| 60/60 [01:18<00:00,  1.31s/it]\n"
     ]
    },
    {
     "name": "stdout",
     "output_type": "stream",
     "text": [
      " - Training Loss        0.9607\n",
      " - Validation Loss      1.1487\n",
      " - Validation Accuracy  0.4125\n",
      "\n",
      " - Validation Accuracy (per class)\n",
      "   * Class 0\t 0.5162 [175 out of 339]\n",
      "   * Class 1\t 0.4058 [127 out of 313]\n",
      "   * Class 2\t 0.3052 [94 out of 308]\n",
      "   * Mean        0.4091\n",
      "\n",
      "==================================================================================\n"
     ]
    },
    {
     "name": "stderr",
     "output_type": "stream",
     "text": [
      "> Epoch 7: 100%|██████████| 60/60 [01:18<00:00,  1.31s/it]\n"
     ]
    },
    {
     "name": "stdout",
     "output_type": "stream",
     "text": [
      " - Training Loss        0.9491\n",
      " - Validation Loss      1.1947\n",
      " - Validation Accuracy  0.3875\n",
      "\n",
      " - Validation Accuracy (per class)\n",
      "   * Class 0\t 0.5339 [181 out of 339]\n",
      "   * Class 1\t 0.0927 [29 out of 313]\n",
      "   * Class 2\t 0.526 [162 out of 308]\n",
      "   * Mean        0.3842\n",
      "\n",
      "==================================================================================\n"
     ]
    },
    {
     "name": "stderr",
     "output_type": "stream",
     "text": [
      "> Epoch 8: 100%|██████████| 60/60 [01:19<00:00,  1.32s/it]\n"
     ]
    },
    {
     "name": "stdout",
     "output_type": "stream",
     "text": [
      " - Training Loss        0.9377\n",
      " - Validation Loss      1.2104\n",
      " - Validation Accuracy  0.3771\n",
      "\n",
      " - Validation Accuracy (per class)\n",
      "   * Class 0\t 0.2861 [97 out of 339]\n",
      "   * Class 1\t 0.1086 [34 out of 313]\n",
      "   * Class 2\t 0.75 [231 out of 308]\n",
      "   * Mean        0.3816\n",
      "\n",
      "==================================================================================\n"
     ]
    },
    {
     "name": "stderr",
     "output_type": "stream",
     "text": [
      "> Epoch 9: 100%|██████████| 60/60 [01:20<00:00,  1.34s/it]\n"
     ]
    },
    {
     "name": "stdout",
     "output_type": "stream",
     "text": [
      " - Training Loss        0.96\n",
      " - Validation Loss      1.1879\n",
      " - Validation Accuracy  0.3333\n",
      "\n",
      " - Validation Accuracy (per class)\n",
      "   * Class 0\t 0.0678 [23 out of 339]\n",
      "   * Class 1\t 0.0575 [18 out of 313]\n",
      "   * Class 2\t 0.9058 [279 out of 308]\n",
      "   * Mean        0.3437\n",
      "\n",
      "==================================================================================\n"
     ]
    },
    {
     "name": "stderr",
     "output_type": "stream",
     "text": [
      "> Epoch 10: 100%|██████████| 60/60 [01:20<00:00,  1.34s/it]\n"
     ]
    },
    {
     "name": "stdout",
     "output_type": "stream",
     "text": [
      " - Training Loss        0.9585\n",
      " - Validation Loss      1.2146\n",
      " - Validation Accuracy  0.3313\n",
      "\n",
      " - Validation Accuracy (per class)\n",
      "   * Class 0\t 0.0708 [24 out of 339]\n",
      "   * Class 1\t 0.0224 [7 out of 313]\n",
      "   * Class 2\t 0.9318 [287 out of 308]\n",
      "   * Mean        0.3417\n",
      "\n",
      "==================================================================================\n"
     ]
    },
    {
     "name": "stderr",
     "output_type": "stream",
     "text": [
      "> Epoch 11: 100%|██████████| 60/60 [01:20<00:00,  1.34s/it]\n"
     ]
    },
    {
     "name": "stdout",
     "output_type": "stream",
     "text": [
      " - Training Loss        0.8706\n",
      " - Validation Loss      1.1112\n",
      " - Validation Accuracy  0.501\n",
      "\n",
      " - Validation Accuracy (per class)\n",
      "   * Class 0\t 0.0649 [22 out of 339]\n",
      "   * Class 1\t 0.8307 [260 out of 313]\n",
      "   * Class 2\t 0.6461 [199 out of 308]\n",
      "   * Mean        0.5139\n",
      "\n",
      "> ATTENTION: epoch 11 was the best one so far! The model has been saved :)\n",
      "\n",
      "==================================================================================\n"
     ]
    },
    {
     "name": "stderr",
     "output_type": "stream",
     "text": [
      "> Epoch 12: 100%|██████████| 60/60 [01:20<00:00,  1.34s/it]\n"
     ]
    },
    {
     "name": "stdout",
     "output_type": "stream",
     "text": [
      " - Training Loss        0.7445\n",
      " - Validation Loss      1.0611\n",
      " - Validation Accuracy  0.5333\n",
      "\n",
      " - Validation Accuracy (per class)\n",
      "   * Class 0\t 0.7729 [262 out of 339]\n",
      "   * Class 1\t 0.0447 [14 out of 313]\n",
      "   * Class 2\t 0.7662 [236 out of 308]\n",
      "   * Mean        0.5279\n",
      "\n",
      "> ATTENTION: epoch 12 was the best one so far! The model has been saved :)\n",
      "\n",
      "==================================================================================\n"
     ]
    },
    {
     "name": "stderr",
     "output_type": "stream",
     "text": [
      "> Epoch 13: 100%|██████████| 60/60 [01:20<00:00,  1.34s/it]\n"
     ]
    },
    {
     "name": "stdout",
     "output_type": "stream",
     "text": [
      " - Training Loss        0.7336\n",
      " - Validation Loss      1.0383\n",
      " - Validation Accuracy  0.5333\n",
      "\n",
      " - Validation Accuracy (per class)\n",
      "   * Class 0\t 0.6962 [236 out of 339]\n",
      "   * Class 1\t 0.0415 [13 out of 313]\n",
      "   * Class 2\t 0.8539 [263 out of 308]\n",
      "   * Mean        0.5305\n",
      "\n",
      "> ATTENTION: epoch 13 was the best one so far! The model has been saved :)\n",
      "\n",
      "==================================================================================\n"
     ]
    },
    {
     "name": "stderr",
     "output_type": "stream",
     "text": [
      "> Epoch 14: 100%|██████████| 60/60 [01:20<00:00,  1.34s/it]\n"
     ]
    },
    {
     "name": "stdout",
     "output_type": "stream",
     "text": [
      " - Training Loss        0.6934\n",
      " - Validation Loss      1.0042\n",
      " - Validation Accuracy  0.5427\n",
      "\n",
      " - Validation Accuracy (per class)\n",
      "   * Class 0\t 0.0649 [22 out of 339]\n",
      "   * Class 1\t 0.8914 [279 out of 313]\n",
      "   * Class 2\t 0.7143 [220 out of 308]\n",
      "   * Mean        0.5569\n",
      "\n",
      "> ATTENTION: epoch 14 was the best one so far! The model has been saved :)\n",
      "\n",
      "==================================================================================\n"
     ]
    },
    {
     "name": "stderr",
     "output_type": "stream",
     "text": [
      "> Epoch 15: 100%|██████████| 60/60 [01:20<00:00,  1.34s/it]\n"
     ]
    },
    {
     "name": "stdout",
     "output_type": "stream",
     "text": [
      " - Training Loss        0.6574\n",
      " - Validation Loss      0.8978\n",
      " - Validation Accuracy  0.6604\n",
      "\n",
      " - Validation Accuracy (per class)\n",
      "   * Class 0\t 0.6372 [216 out of 339]\n",
      "   * Class 1\t 0.6166 [193 out of 313]\n",
      "   * Class 2\t 0.7305 [225 out of 308]\n",
      "   * Mean        0.6614\n",
      "\n",
      "> ATTENTION: epoch 15 was the best one so far! The model has been saved :)\n",
      "\n",
      "==================================================================================\n"
     ]
    },
    {
     "name": "stderr",
     "output_type": "stream",
     "text": [
      "> Epoch 16: 100%|██████████| 60/60 [01:20<00:00,  1.34s/it]\n"
     ]
    },
    {
     "name": "stdout",
     "output_type": "stream",
     "text": [
      " - Training Loss        0.6069\n",
      " - Validation Loss      0.8801\n",
      " - Validation Accuracy  0.6865\n",
      "\n",
      " - Validation Accuracy (per class)\n",
      "   * Class 0\t 0.6372 [216 out of 339]\n",
      "   * Class 1\t 0.8211 [257 out of 313]\n",
      "   * Class 2\t 0.6039 [186 out of 308]\n",
      "   * Mean        0.6874\n",
      "\n",
      "> ATTENTION: epoch 16 was the best one so far! The model has been saved :)\n",
      "\n",
      "==================================================================================\n"
     ]
    },
    {
     "name": "stderr",
     "output_type": "stream",
     "text": [
      "> Epoch 17: 100%|██████████| 60/60 [01:20<00:00,  1.34s/it]\n"
     ]
    },
    {
     "name": "stdout",
     "output_type": "stream",
     "text": [
      " - Training Loss        0.5346\n",
      " - Validation Loss      0.7533\n",
      " - Validation Accuracy  0.7365\n",
      "\n",
      " - Validation Accuracy (per class)\n",
      "   * Class 0\t 0.587 [199 out of 339]\n",
      "   * Class 1\t 0.8466 [265 out of 313]\n",
      "   * Class 2\t 0.789 [243 out of 308]\n",
      "   * Mean        0.7409\n",
      "\n",
      "> ATTENTION: epoch 17 was the best one so far! The model has been saved :)\n",
      "\n",
      "==================================================================================\n"
     ]
    },
    {
     "name": "stderr",
     "output_type": "stream",
     "text": [
      "> Epoch 18: 100%|██████████| 60/60 [01:20<00:00,  1.34s/it]\n"
     ]
    },
    {
     "name": "stdout",
     "output_type": "stream",
     "text": [
      " - Training Loss        0.4543\n",
      " - Validation Loss      0.7837\n",
      " - Validation Accuracy  0.7365\n",
      "\n",
      " - Validation Accuracy (per class)\n",
      "   * Class 0\t 0.6313 [214 out of 339]\n",
      "   * Class 1\t 0.7732 [242 out of 313]\n",
      "   * Class 2\t 0.8149 [251 out of 308]\n",
      "   * Mean        0.7398\n",
      "\n",
      "==================================================================================\n"
     ]
    },
    {
     "name": "stderr",
     "output_type": "stream",
     "text": [
      "> Epoch 19: 100%|██████████| 60/60 [01:20<00:00,  1.34s/it]\n"
     ]
    },
    {
     "name": "stdout",
     "output_type": "stream",
     "text": [
      " - Training Loss        0.4199\n",
      " - Validation Loss      0.7736\n",
      " - Validation Accuracy  0.7385\n",
      "\n",
      " - Validation Accuracy (per class)\n",
      "   * Class 0\t 0.6106 [207 out of 339]\n",
      "   * Class 1\t 0.8019 [251 out of 313]\n",
      "   * Class 2\t 0.8149 [251 out of 308]\n",
      "   * Mean        0.7425\n",
      "\n",
      "> ATTENTION: epoch 19 was the best one so far! The model has been saved :)\n",
      "\n",
      "==================================================================================\n"
     ]
    },
    {
     "name": "stderr",
     "output_type": "stream",
     "text": [
      "> Epoch 20: 100%|██████████| 60/60 [01:20<00:00,  1.34s/it]\n"
     ]
    },
    {
     "name": "stdout",
     "output_type": "stream",
     "text": [
      " - Training Loss        0.3613\n",
      " - Validation Loss      0.7449\n",
      " - Validation Accuracy  0.7531\n",
      "\n",
      " - Validation Accuracy (per class)\n",
      "   * Class 0\t 0.6578 [223 out of 339]\n",
      "   * Class 1\t 0.8147 [255 out of 313]\n",
      "   * Class 2\t 0.7955 [245 out of 308]\n",
      "   * Mean        0.756\n",
      "\n",
      "> ATTENTION: epoch 20 was the best one so far! The model has been saved :)\n",
      "\n",
      "==================================================================================\n"
     ]
    },
    {
     "name": "stderr",
     "output_type": "stream",
     "text": [
      "> Epoch 21: 100%|██████████| 60/60 [01:20<00:00,  1.34s/it]\n"
     ]
    },
    {
     "name": "stdout",
     "output_type": "stream",
     "text": [
      " - Training Loss        0.3313\n",
      " - Validation Loss      0.7227\n",
      " - Validation Accuracy  0.7698\n",
      "\n",
      " - Validation Accuracy (per class)\n",
      "   * Class 0\t 0.6578 [223 out of 339]\n",
      "   * Class 1\t 0.8339 [261 out of 313]\n",
      "   * Class 2\t 0.8279 [255 out of 308]\n",
      "   * Mean        0.7732\n",
      "\n",
      "> ATTENTION: epoch 21 was the best one so far! The model has been saved :)\n",
      "\n",
      "==================================================================================\n"
     ]
    },
    {
     "name": "stderr",
     "output_type": "stream",
     "text": [
      "> Epoch 22: 100%|██████████| 60/60 [01:20<00:00,  1.34s/it]\n"
     ]
    },
    {
     "name": "stdout",
     "output_type": "stream",
     "text": [
      " - Training Loss        0.307\n",
      " - Validation Loss      0.7075\n",
      " - Validation Accuracy  0.7677\n",
      "\n",
      " - Validation Accuracy (per class)\n",
      "   * Class 0\t 0.7375 [250 out of 339]\n",
      "   * Class 1\t 0.7508 [235 out of 313]\n",
      "   * Class 2\t 0.8182 [252 out of 308]\n",
      "   * Mean        0.7688\n",
      "\n",
      "==================================================================================\n"
     ]
    },
    {
     "name": "stderr",
     "output_type": "stream",
     "text": [
      "> Epoch 23: 100%|██████████| 60/60 [01:20<00:00,  1.34s/it]\n"
     ]
    },
    {
     "name": "stdout",
     "output_type": "stream",
     "text": [
      " - Training Loss        0.2769\n",
      " - Validation Loss      0.6834\n",
      " - Validation Accuracy  0.7729\n",
      "\n",
      " - Validation Accuracy (per class)\n",
      "   * Class 0\t 0.7552 [256 out of 339]\n",
      "   * Class 1\t 0.738 [231 out of 313]\n",
      "   * Class 2\t 0.8279 [255 out of 308]\n",
      "   * Mean        0.7737\n",
      "\n",
      "> ATTENTION: epoch 23 was the best one so far! The model has been saved :)\n",
      "\n",
      "==================================================================================\n"
     ]
    },
    {
     "name": "stderr",
     "output_type": "stream",
     "text": [
      "> Epoch 24: 100%|██████████| 60/60 [01:20<00:00,  1.34s/it]\n"
     ]
    },
    {
     "name": "stdout",
     "output_type": "stream",
     "text": [
      " - Training Loss        0.2559\n",
      " - Validation Loss      0.7239\n",
      " - Validation Accuracy  0.7813\n",
      "\n",
      " - Validation Accuracy (per class)\n",
      "   * Class 0\t 0.7286 [247 out of 339]\n",
      "   * Class 1\t 0.8083 [253 out of 313]\n",
      "   * Class 2\t 0.8117 [250 out of 308]\n",
      "   * Mean        0.7829\n",
      "\n",
      "> ATTENTION: epoch 24 was the best one so far! The model has been saved :)\n",
      "\n",
      "==================================================================================\n"
     ]
    },
    {
     "name": "stderr",
     "output_type": "stream",
     "text": [
      "> Epoch 25: 100%|██████████| 60/60 [01:20<00:00,  1.34s/it]\n"
     ]
    },
    {
     "name": "stdout",
     "output_type": "stream",
     "text": [
      " - Training Loss        0.2318\n",
      " - Validation Loss      0.7541\n",
      " - Validation Accuracy  0.7823\n",
      "\n",
      " - Validation Accuracy (per class)\n",
      "   * Class 0\t 0.764 [259 out of 339]\n",
      "   * Class 1\t 0.7923 [248 out of 313]\n",
      "   * Class 2\t 0.7922 [244 out of 308]\n",
      "   * Mean        0.7828\n",
      "\n",
      "==================================================================================\n"
     ]
    },
    {
     "name": "stderr",
     "output_type": "stream",
     "text": [
      "> Epoch 26: 100%|██████████| 60/60 [01:20<00:00,  1.34s/it]\n"
     ]
    },
    {
     "name": "stdout",
     "output_type": "stream",
     "text": [
      " - Training Loss        0.2178\n",
      " - Validation Loss      0.761\n",
      " - Validation Accuracy  0.7677\n",
      "\n",
      " - Validation Accuracy (per class)\n",
      "   * Class 0\t 0.6962 [236 out of 339]\n",
      "   * Class 1\t 0.8179 [256 out of 313]\n",
      "   * Class 2\t 0.7955 [245 out of 308]\n",
      "   * Mean        0.7699\n",
      "\n",
      "==================================================================================\n"
     ]
    },
    {
     "name": "stderr",
     "output_type": "stream",
     "text": [
      "> Epoch 27: 100%|██████████| 60/60 [01:20<00:00,  1.34s/it]\n"
     ]
    },
    {
     "name": "stdout",
     "output_type": "stream",
     "text": [
      " - Training Loss        0.2043\n",
      " - Validation Loss      0.7565\n",
      " - Validation Accuracy  0.7667\n",
      "\n",
      " - Validation Accuracy (per class)\n",
      "   * Class 0\t 0.6991 [237 out of 339]\n",
      "   * Class 1\t 0.8051 [252 out of 313]\n",
      "   * Class 2\t 0.8019 [247 out of 308]\n",
      "   * Mean        0.7687\n",
      "\n",
      "==================================================================================\n"
     ]
    },
    {
     "name": "stderr",
     "output_type": "stream",
     "text": [
      "> Epoch 28: 100%|██████████| 60/60 [01:20<00:00,  1.34s/it]\n"
     ]
    },
    {
     "name": "stdout",
     "output_type": "stream",
     "text": [
      " - Training Loss        0.1902\n",
      " - Validation Loss      0.7808\n",
      " - Validation Accuracy  0.7729\n",
      "\n",
      " - Validation Accuracy (per class)\n",
      "   * Class 0\t 0.7257 [246 out of 339]\n",
      "   * Class 1\t 0.7764 [243 out of 313]\n",
      "   * Class 2\t 0.8214 [253 out of 308]\n",
      "   * Mean        0.7745\n",
      "\n",
      "==================================================================================\n"
     ]
    },
    {
     "name": "stderr",
     "output_type": "stream",
     "text": [
      "> Epoch 29: 100%|██████████| 60/60 [01:20<00:00,  1.34s/it]\n"
     ]
    },
    {
     "name": "stdout",
     "output_type": "stream",
     "text": [
      " - Training Loss        0.1699\n",
      " - Validation Loss      0.8196\n",
      " - Validation Accuracy  0.7688\n",
      "\n",
      " - Validation Accuracy (per class)\n",
      "   * Class 0\t 0.7611 [258 out of 339]\n",
      "   * Class 1\t 0.7955 [249 out of 313]\n",
      "   * Class 2\t 0.75 [231 out of 308]\n",
      "   * Mean        0.7689\n",
      "\n",
      "==================================================================================\n"
     ]
    },
    {
     "name": "stderr",
     "output_type": "stream",
     "text": [
      "> Epoch 30: 100%|██████████| 60/60 [01:20<00:00,  1.34s/it]\n"
     ]
    },
    {
     "name": "stdout",
     "output_type": "stream",
     "text": [
      " - Training Loss        0.1556\n",
      " - Validation Loss      0.8319\n",
      " - Validation Accuracy  0.775\n",
      "\n",
      " - Validation Accuracy (per class)\n",
      "   * Class 0\t 0.7286 [247 out of 339]\n",
      "   * Class 1\t 0.8211 [257 out of 313]\n",
      "   * Class 2\t 0.7792 [240 out of 308]\n",
      "   * Mean        0.7763\n",
      "\n",
      "==================================================================================\n"
     ]
    },
    {
     "name": "stderr",
     "output_type": "stream",
     "text": [
      "> Epoch 31: 100%|██████████| 60/60 [01:20<00:00,  1.34s/it]\n"
     ]
    },
    {
     "name": "stdout",
     "output_type": "stream",
     "text": [
      " - Training Loss        0.1504\n",
      " - Validation Loss      0.8572\n",
      " - Validation Accuracy  0.775\n",
      "\n",
      " - Validation Accuracy (per class)\n",
      "   * Class 0\t 0.7345 [249 out of 339]\n",
      "   * Class 1\t 0.7732 [242 out of 313]\n",
      "   * Class 2\t 0.8214 [253 out of 308]\n",
      "   * Mean        0.7764\n",
      "\n",
      "==================================================================================\n"
     ]
    },
    {
     "name": "stderr",
     "output_type": "stream",
     "text": [
      "> Epoch 32: 100%|██████████| 60/60 [01:20<00:00,  1.34s/it]\n"
     ]
    },
    {
     "name": "stdout",
     "output_type": "stream",
     "text": [
      " - Training Loss        0.1356\n",
      " - Validation Loss      0.842\n",
      " - Validation Accuracy  0.7875\n",
      "\n",
      " - Validation Accuracy (per class)\n",
      "   * Class 0\t 0.7404 [251 out of 339]\n",
      "   * Class 1\t 0.7827 [245 out of 313]\n",
      "   * Class 2\t 0.8442 [260 out of 308]\n",
      "   * Mean        0.7891\n",
      "\n",
      "> ATTENTION: epoch 32 was the best one so far! The model has been saved :)\n",
      "\n",
      "==================================================================================\n"
     ]
    },
    {
     "name": "stderr",
     "output_type": "stream",
     "text": [
      "> Epoch 33: 100%|██████████| 60/60 [01:20<00:00,  1.34s/it]\n"
     ]
    },
    {
     "name": "stdout",
     "output_type": "stream",
     "text": [
      " - Training Loss        0.131\n",
      " - Validation Loss      0.8656\n",
      " - Validation Accuracy  0.7792\n",
      "\n",
      " - Validation Accuracy (per class)\n",
      "   * Class 0\t 0.7109 [241 out of 339]\n",
      "   * Class 1\t 0.8658 [271 out of 313]\n",
      "   * Class 2\t 0.7662 [236 out of 308]\n",
      "   * Mean        0.781\n",
      "\n",
      "==================================================================================\n"
     ]
    },
    {
     "name": "stderr",
     "output_type": "stream",
     "text": [
      "> Epoch 34: 100%|██████████| 60/60 [01:20<00:00,  1.34s/it]\n"
     ]
    },
    {
     "name": "stdout",
     "output_type": "stream",
     "text": [
      " - Training Loss        0.1324\n",
      " - Validation Loss      0.8469\n",
      " - Validation Accuracy  0.7854\n",
      "\n",
      " - Validation Accuracy (per class)\n",
      "   * Class 0\t 0.7316 [248 out of 339]\n",
      "   * Class 1\t 0.8211 [257 out of 313]\n",
      "   * Class 2\t 0.8084 [249 out of 308]\n",
      "   * Mean        0.787\n",
      "\n",
      "==================================================================================\n"
     ]
    },
    {
     "name": "stderr",
     "output_type": "stream",
     "text": [
      "> Epoch 35: 100%|██████████| 60/60 [01:20<00:00,  1.34s/it]\n"
     ]
    },
    {
     "name": "stdout",
     "output_type": "stream",
     "text": [
      " - Training Loss        0.1257\n",
      " - Validation Loss      0.916\n",
      " - Validation Accuracy  0.7844\n",
      "\n",
      " - Validation Accuracy (per class)\n",
      "   * Class 0\t 0.7404 [251 out of 339]\n",
      "   * Class 1\t 0.8083 [253 out of 313]\n",
      "   * Class 2\t 0.8084 [249 out of 308]\n",
      "   * Mean        0.7857\n",
      "\n",
      "==================================================================================\n"
     ]
    },
    {
     "name": "stderr",
     "output_type": "stream",
     "text": [
      "> Epoch 36: 100%|██████████| 60/60 [01:20<00:00,  1.34s/it]\n"
     ]
    },
    {
     "name": "stdout",
     "output_type": "stream",
     "text": [
      " - Training Loss        0.1143\n",
      " - Validation Loss      0.89\n",
      " - Validation Accuracy  0.7771\n",
      "\n",
      " - Validation Accuracy (per class)\n",
      "   * Class 0\t 0.7581 [257 out of 339]\n",
      "   * Class 1\t 0.7827 [245 out of 313]\n",
      "   * Class 2\t 0.7922 [244 out of 308]\n",
      "   * Mean        0.7777\n",
      "\n",
      "==================================================================================\n"
     ]
    },
    {
     "name": "stderr",
     "output_type": "stream",
     "text": [
      "> Epoch 37: 100%|██████████| 60/60 [01:20<00:00,  1.34s/it]\n"
     ]
    },
    {
     "name": "stdout",
     "output_type": "stream",
     "text": [
      " - Training Loss        0.1053\n",
      " - Validation Loss      0.8977\n",
      " - Validation Accuracy  0.7896\n",
      "\n",
      " - Validation Accuracy (per class)\n",
      "   * Class 0\t 0.7611 [258 out of 339]\n",
      "   * Class 1\t 0.7955 [249 out of 313]\n",
      "   * Class 2\t 0.8149 [251 out of 308]\n",
      "   * Mean        0.7905\n",
      "\n",
      "> ATTENTION: epoch 37 was the best one so far! The model has been saved :)\n",
      "\n",
      "==================================================================================\n"
     ]
    },
    {
     "name": "stderr",
     "output_type": "stream",
     "text": [
      "> Epoch 38: 100%|██████████| 60/60 [01:20<00:00,  1.34s/it]\n"
     ]
    },
    {
     "name": "stdout",
     "output_type": "stream",
     "text": [
      " - Training Loss        0.103\n",
      " - Validation Loss      0.9259\n",
      " - Validation Accuracy  0.7885\n",
      "\n",
      " - Validation Accuracy (per class)\n",
      "   * Class 0\t 0.7375 [250 out of 339]\n",
      "   * Class 1\t 0.8083 [253 out of 313]\n",
      "   * Class 2\t 0.8247 [254 out of 308]\n",
      "   * Mean        0.7902\n",
      "\n",
      "==================================================================================\n"
     ]
    },
    {
     "name": "stderr",
     "output_type": "stream",
     "text": [
      "> Epoch 39: 100%|██████████| 60/60 [01:20<00:00,  1.34s/it]\n"
     ]
    },
    {
     "name": "stdout",
     "output_type": "stream",
     "text": [
      " - Training Loss        0.1016\n",
      " - Validation Loss      0.933\n",
      " - Validation Accuracy  0.7802\n",
      "\n",
      " - Validation Accuracy (per class)\n",
      "   * Class 0\t 0.7493 [254 out of 339]\n",
      "   * Class 1\t 0.7476 [234 out of 313]\n",
      "   * Class 2\t 0.8474 [261 out of 308]\n",
      "   * Mean        0.7814\n",
      "\n",
      "==================================================================================\n"
     ]
    },
    {
     "name": "stderr",
     "output_type": "stream",
     "text": [
      "> Epoch 40: 100%|██████████| 60/60 [01:20<00:00,  1.34s/it]\n"
     ]
    },
    {
     "name": "stdout",
     "output_type": "stream",
     "text": [
      " - Training Loss        0.1018\n",
      " - Validation Loss      0.9225\n",
      " - Validation Accuracy  0.7781\n",
      "\n",
      " - Validation Accuracy (per class)\n",
      "   * Class 0\t 0.7375 [250 out of 339]\n",
      "   * Class 1\t 0.7987 [250 out of 313]\n",
      "   * Class 2\t 0.8019 [247 out of 308]\n",
      "   * Mean        0.7794\n",
      "\n",
      "==================================================================================\n"
     ]
    },
    {
     "name": "stderr",
     "output_type": "stream",
     "text": [
      "> Epoch 41: 100%|██████████| 60/60 [01:20<00:00,  1.34s/it]\n"
     ]
    },
    {
     "name": "stdout",
     "output_type": "stream",
     "text": [
      " - Training Loss        0.1013\n",
      " - Validation Loss      0.8913\n",
      " - Validation Accuracy  0.7719\n",
      "\n",
      " - Validation Accuracy (per class)\n",
      "   * Class 0\t 0.7463 [253 out of 339]\n",
      "   * Class 1\t 0.7125 [223 out of 313]\n",
      "   * Class 2\t 0.8604 [265 out of 308]\n",
      "   * Mean        0.7731\n",
      "\n",
      "==================================================================================\n"
     ]
    },
    {
     "name": "stderr",
     "output_type": "stream",
     "text": [
      "> Epoch 42: 100%|██████████| 60/60 [01:20<00:00,  1.34s/it]\n"
     ]
    },
    {
     "name": "stdout",
     "output_type": "stream",
     "text": [
      " - Training Loss        0.0998\n",
      " - Validation Loss      0.8957\n",
      " - Validation Accuracy  0.7969\n",
      "\n",
      " - Validation Accuracy (per class)\n",
      "   * Class 0\t 0.7345 [249 out of 339]\n",
      "   * Class 1\t 0.8179 [256 out of 313]\n",
      "   * Class 2\t 0.8442 [260 out of 308]\n",
      "   * Mean        0.7989\n",
      "\n",
      "> ATTENTION: epoch 42 was the best one so far! The model has been saved :)\n",
      "\n",
      "==================================================================================\n"
     ]
    },
    {
     "name": "stderr",
     "output_type": "stream",
     "text": [
      "> Epoch 43: 100%|██████████| 60/60 [01:20<00:00,  1.34s/it]\n"
     ]
    },
    {
     "name": "stdout",
     "output_type": "stream",
     "text": [
      " - Training Loss        0.0852\n",
      " - Validation Loss      0.9351\n",
      " - Validation Accuracy  0.7948\n",
      "\n",
      " - Validation Accuracy (per class)\n",
      "   * Class 0\t 0.7404 [251 out of 339]\n",
      "   * Class 1\t 0.8243 [258 out of 313]\n",
      "   * Class 2\t 0.8247 [254 out of 308]\n",
      "   * Mean        0.7965\n",
      "\n",
      "==================================================================================\n"
     ]
    },
    {
     "name": "stderr",
     "output_type": "stream",
     "text": [
      "> Epoch 44: 100%|██████████| 60/60 [01:20<00:00,  1.34s/it]\n"
     ]
    },
    {
     "name": "stdout",
     "output_type": "stream",
     "text": [
      " - Training Loss        0.0788\n",
      " - Validation Loss      0.989\n",
      " - Validation Accuracy  0.7771\n",
      "\n",
      " - Validation Accuracy (per class)\n",
      "   * Class 0\t 0.7345 [249 out of 339]\n",
      "   * Class 1\t 0.8083 [253 out of 313]\n",
      "   * Class 2\t 0.7922 [244 out of 308]\n",
      "   * Mean        0.7783\n",
      "\n",
      "==================================================================================\n"
     ]
    },
    {
     "name": "stderr",
     "output_type": "stream",
     "text": [
      "> Epoch 45: 100%|██████████| 60/60 [01:20<00:00,  1.35s/it]\n"
     ]
    },
    {
     "name": "stdout",
     "output_type": "stream",
     "text": [
      " - Training Loss        0.0754\n",
      " - Validation Loss      0.9623\n",
      " - Validation Accuracy  0.7677\n",
      "\n",
      " - Validation Accuracy (per class)\n",
      "   * Class 0\t 0.7257 [246 out of 339]\n",
      "   * Class 1\t 0.7796 [244 out of 313]\n",
      "   * Class 2\t 0.8019 [247 out of 308]\n",
      "   * Mean        0.7691\n",
      "\n",
      "==================================================================================\n"
     ]
    },
    {
     "name": "stderr",
     "output_type": "stream",
     "text": [
      "> Epoch 46: 100%|██████████| 60/60 [01:20<00:00,  1.34s/it]\n"
     ]
    },
    {
     "name": "stdout",
     "output_type": "stream",
     "text": [
      " - Training Loss        0.0793\n",
      " - Validation Loss      0.9255\n",
      " - Validation Accuracy  0.7802\n",
      "\n",
      " - Validation Accuracy (per class)\n",
      "   * Class 0\t 0.7375 [250 out of 339]\n",
      "   * Class 1\t 0.8051 [252 out of 313]\n",
      "   * Class 2\t 0.8019 [247 out of 308]\n",
      "   * Mean        0.7815\n",
      "\n",
      "==================================================================================\n"
     ]
    },
    {
     "name": "stderr",
     "output_type": "stream",
     "text": [
      "> Epoch 47: 100%|██████████| 60/60 [01:20<00:00,  1.34s/it]\n"
     ]
    },
    {
     "name": "stdout",
     "output_type": "stream",
     "text": [
      " - Training Loss        0.0841\n",
      " - Validation Loss      1.0597\n",
      " - Validation Accuracy  0.7844\n",
      "\n",
      " - Validation Accuracy (per class)\n",
      "   * Class 0\t 0.705 [239 out of 339]\n",
      "   * Class 1\t 0.7668 [240 out of 313]\n",
      "   * Class 2\t 0.8896 [274 out of 308]\n",
      "   * Mean        0.7871\n",
      "\n",
      "==================================================================================\n"
     ]
    },
    {
     "name": "stderr",
     "output_type": "stream",
     "text": [
      "> Epoch 48: 100%|██████████| 60/60 [01:20<00:00,  1.34s/it]\n"
     ]
    },
    {
     "name": "stdout",
     "output_type": "stream",
     "text": [
      " - Training Loss        0.0809\n",
      " - Validation Loss      1.005\n",
      " - Validation Accuracy  0.7865\n",
      "\n",
      " - Validation Accuracy (per class)\n",
      "   * Class 0\t 0.7286 [247 out of 339]\n",
      "   * Class 1\t 0.8019 [251 out of 313]\n",
      "   * Class 2\t 0.8344 [257 out of 308]\n",
      "   * Mean        0.7883\n",
      "\n",
      "==================================================================================\n"
     ]
    },
    {
     "name": "stderr",
     "output_type": "stream",
     "text": [
      "> Epoch 49: 100%|██████████| 60/60 [01:20<00:00,  1.35s/it]\n"
     ]
    },
    {
     "name": "stdout",
     "output_type": "stream",
     "text": [
      " - Training Loss        0.0967\n",
      " - Validation Loss      0.8777\n",
      " - Validation Accuracy  0.775\n",
      "\n",
      " - Validation Accuracy (per class)\n",
      "   * Class 0\t 0.7611 [258 out of 339]\n",
      "   * Class 1\t 0.8211 [257 out of 313]\n",
      "   * Class 2\t 0.7435 [229 out of 308]\n",
      "   * Mean        0.7752\n",
      "\n",
      "==================================================================================\n"
     ]
    },
    {
     "name": "stderr",
     "output_type": "stream",
     "text": [
      "> Epoch 50: 100%|██████████| 60/60 [01:20<00:00,  1.34s/it]\n"
     ]
    },
    {
     "name": "stdout",
     "output_type": "stream",
     "text": [
      " - Training Loss        0.1119\n",
      " - Validation Loss      0.8632\n",
      " - Validation Accuracy  0.7813\n",
      "\n",
      " - Validation Accuracy (per class)\n",
      "   * Class 0\t 0.7434 [252 out of 339]\n",
      "   * Class 1\t 0.7764 [243 out of 313]\n",
      "   * Class 2\t 0.8279 [255 out of 308]\n",
      "   * Mean        0.7826\n",
      "\n",
      "==================================================================================\n",
      "> Parameters imported\n",
      "> Dataset correctly divided in training set, validation set and test set\n",
      "> Created Pytorch datasets and dataloaders\n",
      "> Model 'LSTM_fixed' instantiated\n",
      "> Initialization required 0.109 seconds\n",
      "\n",
      "MODEL 5 DETAILS\n",
      " * EMBEDDING_DIM  2048\n",
      " * HIDDEN_DIM     1024\n",
      " * LEARNING_RATE  0.0001\n",
      " * DROPOUT_P      0.0\n",
      "\n",
      "==================================================================================\n",
      "> Training Started\n",
      "  - Total Epochs: 50\n",
      "==================================================================================\n"
     ]
    },
    {
     "name": "stderr",
     "output_type": "stream",
     "text": [
      "> Epoch 1: 100%|██████████| 60/60 [00:41<00:00,  1.45it/s]\n"
     ]
    },
    {
     "name": "stdout",
     "output_type": "stream",
     "text": [
      " - Training Loss        1.101\n",
      " - Validation Loss      1.1041\n",
      " - Validation Accuracy  0.3458\n",
      "\n",
      " - Validation Accuracy (per class)\n",
      "   * Class 0\t 0.0472 [16 out of 339]\n",
      "   * Class 1\t 0.9201 [288 out of 313]\n",
      "   * Class 2\t 0.0909 [28 out of 308]\n",
      "   * Mean        0.3527\n",
      "\n",
      "> ATTENTION: epoch 1 was the best one so far! The model has been saved :)\n",
      "\n",
      "==================================================================================\n"
     ]
    },
    {
     "name": "stderr",
     "output_type": "stream",
     "text": [
      "> Epoch 2: 100%|██████████| 60/60 [00:41<00:00,  1.45it/s]\n"
     ]
    },
    {
     "name": "stdout",
     "output_type": "stream",
     "text": [
      " - Training Loss        1.0573\n",
      " - Validation Loss      1.1079\n",
      " - Validation Accuracy  0.3417\n",
      "\n",
      " - Validation Accuracy (per class)\n",
      "   * Class 0\t 0.0619 [21 out of 339]\n",
      "   * Class 1\t 0.9265 [290 out of 313]\n",
      "   * Class 2\t 0.0552 [17 out of 308]\n",
      "   * Mean        0.3479\n",
      "\n",
      "==================================================================================\n"
     ]
    },
    {
     "name": "stderr",
     "output_type": "stream",
     "text": [
      "> Epoch 3: 100%|██████████| 60/60 [00:41<00:00,  1.45it/s]\n"
     ]
    },
    {
     "name": "stdout",
     "output_type": "stream",
     "text": [
      " - Training Loss        1.0261\n",
      " - Validation Loss      1.1149\n",
      " - Validation Accuracy  0.3385\n",
      "\n",
      " - Validation Accuracy (per class)\n",
      "   * Class 0\t 0.056 [19 out of 339]\n",
      "   * Class 1\t 0.9233 [289 out of 313]\n",
      "   * Class 2\t 0.0552 [17 out of 308]\n",
      "   * Mean        0.3448\n",
      "\n",
      "==================================================================================\n"
     ]
    },
    {
     "name": "stderr",
     "output_type": "stream",
     "text": [
      "> Epoch 4: 100%|██████████| 60/60 [00:41<00:00,  1.45it/s]\n"
     ]
    },
    {
     "name": "stdout",
     "output_type": "stream",
     "text": [
      " - Training Loss        0.9932\n",
      " - Validation Loss      1.1308\n",
      " - Validation Accuracy  0.349\n",
      "\n",
      " - Validation Accuracy (per class)\n",
      "   * Class 0\t 0.056 [19 out of 339]\n",
      "   * Class 1\t 0.9201 [288 out of 313]\n",
      "   * Class 2\t 0.0909 [28 out of 308]\n",
      "   * Mean        0.3557\n",
      "\n",
      "> ATTENTION: epoch 4 was the best one so far! The model has been saved :)\n",
      "\n",
      "==================================================================================\n"
     ]
    },
    {
     "name": "stderr",
     "output_type": "stream",
     "text": [
      "> Epoch 5: 100%|██████████| 60/60 [00:41<00:00,  1.45it/s]\n"
     ]
    },
    {
     "name": "stdout",
     "output_type": "stream",
     "text": [
      " - Training Loss        0.965\n",
      " - Validation Loss      1.1431\n",
      " - Validation Accuracy  0.3438\n",
      "\n",
      " - Validation Accuracy (per class)\n",
      "   * Class 0\t 0.056 [19 out of 339]\n",
      "   * Class 1\t 0.9073 [284 out of 313]\n",
      "   * Class 2\t 0.0877 [27 out of 308]\n",
      "   * Mean        0.3503\n",
      "\n",
      "==================================================================================\n"
     ]
    },
    {
     "name": "stderr",
     "output_type": "stream",
     "text": [
      "> Epoch 6: 100%|██████████| 60/60 [00:41<00:00,  1.45it/s]\n"
     ]
    },
    {
     "name": "stdout",
     "output_type": "stream",
     "text": [
      " - Training Loss        0.9496\n",
      " - Validation Loss      1.1601\n",
      " - Validation Accuracy  0.3583\n",
      "\n",
      " - Validation Accuracy (per class)\n",
      "   * Class 0\t 0.9292 [315 out of 339]\n",
      "   * Class 1\t 0.0224 [7 out of 313]\n",
      "   * Class 2\t 0.0714 [22 out of 308]\n",
      "   * Mean        0.341\n",
      "\n",
      "==================================================================================\n"
     ]
    },
    {
     "name": "stderr",
     "output_type": "stream",
     "text": [
      "> Epoch 7: 100%|██████████| 60/60 [00:41<00:00,  1.44it/s]\n"
     ]
    },
    {
     "name": "stdout",
     "output_type": "stream",
     "text": [
      " - Training Loss        0.9439\n",
      " - Validation Loss      1.185\n",
      " - Validation Accuracy  0.3479\n",
      "\n",
      " - Validation Accuracy (per class)\n",
      "   * Class 0\t 0.0619 [21 out of 339]\n",
      "   * Class 1\t 0.9169 [287 out of 313]\n",
      "   * Class 2\t 0.0844 [26 out of 308]\n",
      "   * Mean        0.3544\n",
      "\n",
      "==================================================================================\n"
     ]
    },
    {
     "name": "stderr",
     "output_type": "stream",
     "text": [
      "> Epoch 8: 100%|██████████| 60/60 [00:41<00:00,  1.44it/s]\n"
     ]
    },
    {
     "name": "stdout",
     "output_type": "stream",
     "text": [
      " - Training Loss        0.9418\n",
      " - Validation Loss      1.2055\n",
      " - Validation Accuracy  0.3396\n",
      "\n",
      " - Validation Accuracy (per class)\n",
      "   * Class 0\t 0.0737 [25 out of 339]\n",
      "   * Class 1\t 0.9137 [286 out of 313]\n",
      "   * Class 2\t 0.0487 [15 out of 308]\n",
      "   * Mean        0.3454\n",
      "\n",
      "==================================================================================\n"
     ]
    },
    {
     "name": "stderr",
     "output_type": "stream",
     "text": [
      "> Epoch 9: 100%|██████████| 60/60 [00:41<00:00,  1.44it/s]\n"
     ]
    },
    {
     "name": "stdout",
     "output_type": "stream",
     "text": [
      " - Training Loss        0.9404\n",
      " - Validation Loss      1.2273\n",
      " - Validation Accuracy  0.349\n",
      "\n",
      " - Validation Accuracy (per class)\n",
      "   * Class 0\t 0.056 [19 out of 339]\n",
      "   * Class 1\t 0.9265 [290 out of 313]\n",
      "   * Class 2\t 0.0844 [26 out of 308]\n",
      "   * Mean        0.3556\n",
      "\n",
      "==================================================================================\n"
     ]
    },
    {
     "name": "stderr",
     "output_type": "stream",
     "text": [
      "> Epoch 10: 100%|██████████| 60/60 [00:41<00:00,  1.43it/s]\n"
     ]
    },
    {
     "name": "stdout",
     "output_type": "stream",
     "text": [
      " - Training Loss        0.9401\n",
      " - Validation Loss      1.1946\n",
      " - Validation Accuracy  0.3406\n",
      "\n",
      " - Validation Accuracy (per class)\n",
      "   * Class 0\t 0.059 [20 out of 339]\n",
      "   * Class 1\t 0.9233 [289 out of 313]\n",
      "   * Class 2\t 0.0584 [18 out of 308]\n",
      "   * Mean        0.3469\n",
      "\n",
      "==================================================================================\n"
     ]
    },
    {
     "name": "stderr",
     "output_type": "stream",
     "text": [
      "> Epoch 11: 100%|██████████| 60/60 [00:41<00:00,  1.44it/s]\n"
     ]
    },
    {
     "name": "stdout",
     "output_type": "stream",
     "text": [
      " - Training Loss        0.9407\n",
      " - Validation Loss      1.2133\n",
      " - Validation Accuracy  0.3469\n",
      "\n",
      " - Validation Accuracy (per class)\n",
      "   * Class 0\t 0.0855 [29 out of 339]\n",
      "   * Class 1\t 0.9233 [289 out of 313]\n",
      "   * Class 2\t 0.0487 [15 out of 308]\n",
      "   * Mean        0.3525\n",
      "\n",
      "==================================================================================\n"
     ]
    },
    {
     "name": "stderr",
     "output_type": "stream",
     "text": [
      "> Epoch 12: 100%|██████████| 60/60 [00:41<00:00,  1.44it/s]\n"
     ]
    },
    {
     "name": "stdout",
     "output_type": "stream",
     "text": [
      " - Training Loss        0.9395\n",
      " - Validation Loss      1.2426\n",
      " - Validation Accuracy  0.3479\n",
      "\n",
      " - Validation Accuracy (per class)\n",
      "   * Class 0\t 0.0708 [24 out of 339]\n",
      "   * Class 1\t 0.9201 [288 out of 313]\n",
      "   * Class 2\t 0.0714 [22 out of 308]\n",
      "   * Mean        0.3541\n",
      "\n",
      "==================================================================================\n"
     ]
    },
    {
     "name": "stderr",
     "output_type": "stream",
     "text": [
      "> Epoch 13: 100%|██████████| 60/60 [00:41<00:00,  1.43it/s]\n"
     ]
    },
    {
     "name": "stdout",
     "output_type": "stream",
     "text": [
      " - Training Loss        0.9388\n",
      " - Validation Loss      1.2593\n",
      " - Validation Accuracy  0.3375\n",
      "\n",
      " - Validation Accuracy (per class)\n",
      "   * Class 0\t 0.0767 [26 out of 339]\n",
      "   * Class 1\t 0.9201 [288 out of 313]\n",
      "   * Class 2\t 0.0325 [10 out of 308]\n",
      "   * Mean        0.3431\n",
      "\n",
      "==================================================================================\n"
     ]
    },
    {
     "name": "stderr",
     "output_type": "stream",
     "text": [
      "> Epoch 14: 100%|██████████| 60/60 [00:41<00:00,  1.44it/s]\n"
     ]
    },
    {
     "name": "stdout",
     "output_type": "stream",
     "text": [
      " - Training Loss        0.9394\n",
      " - Validation Loss      1.2189\n",
      " - Validation Accuracy  0.3406\n",
      "\n",
      " - Validation Accuracy (per class)\n",
      "   * Class 0\t 0.0619 [21 out of 339]\n",
      "   * Class 1\t 0.9137 [286 out of 313]\n",
      "   * Class 2\t 0.0649 [20 out of 308]\n",
      "   * Mean        0.3468\n",
      "\n",
      "==================================================================================\n"
     ]
    },
    {
     "name": "stderr",
     "output_type": "stream",
     "text": [
      "> Epoch 15: 100%|██████████| 60/60 [00:41<00:00,  1.43it/s]\n"
     ]
    },
    {
     "name": "stdout",
     "output_type": "stream",
     "text": [
      " - Training Loss        0.9401\n",
      " - Validation Loss      1.2409\n",
      " - Validation Accuracy  0.3438\n",
      "\n",
      " - Validation Accuracy (per class)\n",
      "   * Class 0\t 0.0796 [27 out of 339]\n",
      "   * Class 1\t 0.9105 [285 out of 313]\n",
      "   * Class 2\t 0.0584 [18 out of 308]\n",
      "   * Mean        0.3495\n",
      "\n",
      "==================================================================================\n"
     ]
    },
    {
     "name": "stderr",
     "output_type": "stream",
     "text": [
      "> Epoch 16: 100%|██████████| 60/60 [00:42<00:00,  1.43it/s]\n"
     ]
    },
    {
     "name": "stdout",
     "output_type": "stream",
     "text": [
      " - Training Loss        0.9395\n",
      " - Validation Loss      1.2476\n",
      " - Validation Accuracy  0.3396\n",
      "\n",
      " - Validation Accuracy (per class)\n",
      "   * Class 0\t 0.0678 [23 out of 339]\n",
      "   * Class 1\t 0.9169 [287 out of 313]\n",
      "   * Class 2\t 0.0519 [16 out of 308]\n",
      "   * Mean        0.3455\n",
      "\n",
      "==================================================================================\n"
     ]
    },
    {
     "name": "stderr",
     "output_type": "stream",
     "text": [
      "> Epoch 17: 100%|██████████| 60/60 [00:42<00:00,  1.42it/s]\n"
     ]
    },
    {
     "name": "stdout",
     "output_type": "stream",
     "text": [
      " - Training Loss        0.9384\n",
      " - Validation Loss      1.2645\n",
      " - Validation Accuracy  0.3417\n",
      "\n",
      " - Validation Accuracy (per class)\n",
      "   * Class 0\t 0.0649 [22 out of 339]\n",
      "   * Class 1\t 0.9201 [288 out of 313]\n",
      "   * Class 2\t 0.0584 [18 out of 308]\n",
      "   * Mean        0.3478\n",
      "\n",
      "==================================================================================\n"
     ]
    },
    {
     "name": "stderr",
     "output_type": "stream",
     "text": [
      "> Epoch 18: 100%|██████████| 60/60 [00:42<00:00,  1.42it/s]\n"
     ]
    },
    {
     "name": "stdout",
     "output_type": "stream",
     "text": [
      " - Training Loss        0.9383\n",
      " - Validation Loss      1.2653\n",
      " - Validation Accuracy  0.3385\n",
      "\n",
      " - Validation Accuracy (per class)\n",
      "   * Class 0\t 0.056 [19 out of 339]\n",
      "   * Class 1\t 0.9137 [286 out of 313]\n",
      "   * Class 2\t 0.0649 [20 out of 308]\n",
      "   * Mean        0.3449\n",
      "\n",
      "==================================================================================\n"
     ]
    },
    {
     "name": "stderr",
     "output_type": "stream",
     "text": [
      "> Epoch 19: 100%|██████████| 60/60 [00:42<00:00,  1.42it/s]\n"
     ]
    },
    {
     "name": "stdout",
     "output_type": "stream",
     "text": [
      " - Training Loss        0.938\n",
      " - Validation Loss      1.2729\n",
      " - Validation Accuracy  0.3406\n",
      "\n",
      " - Validation Accuracy (per class)\n",
      "   * Class 0\t 0.0649 [22 out of 339]\n",
      "   * Class 1\t 0.9137 [286 out of 313]\n",
      "   * Class 2\t 0.0617 [19 out of 308]\n",
      "   * Mean        0.3468\n",
      "\n",
      "==================================================================================\n"
     ]
    },
    {
     "name": "stderr",
     "output_type": "stream",
     "text": [
      "> Epoch 20: 100%|██████████| 60/60 [00:42<00:00,  1.42it/s]\n"
     ]
    },
    {
     "name": "stdout",
     "output_type": "stream",
     "text": [
      " - Training Loss        0.9376\n",
      " - Validation Loss      1.2772\n",
      " - Validation Accuracy  0.3406\n",
      "\n",
      " - Validation Accuracy (per class)\n",
      "   * Class 0\t 0.0619 [21 out of 339]\n",
      "   * Class 1\t 0.9169 [287 out of 313]\n",
      "   * Class 2\t 0.0617 [19 out of 308]\n",
      "   * Mean        0.3468\n",
      "\n",
      "==================================================================================\n"
     ]
    },
    {
     "name": "stderr",
     "output_type": "stream",
     "text": [
      "> Epoch 21: 100%|██████████| 60/60 [00:42<00:00,  1.42it/s]\n"
     ]
    },
    {
     "name": "stdout",
     "output_type": "stream",
     "text": [
      " - Training Loss        0.938\n",
      " - Validation Loss      1.2646\n",
      " - Validation Accuracy  0.3417\n",
      "\n",
      " - Validation Accuracy (per class)\n",
      "   * Class 0\t 0.0619 [21 out of 339]\n",
      "   * Class 1\t 0.9042 [283 out of 313]\n",
      "   * Class 2\t 0.0779 [24 out of 308]\n",
      "   * Mean        0.348\n",
      "\n",
      "==================================================================================\n"
     ]
    },
    {
     "name": "stderr",
     "output_type": "stream",
     "text": [
      "> Epoch 22: 100%|██████████| 60/60 [00:42<00:00,  1.42it/s]\n"
     ]
    },
    {
     "name": "stdout",
     "output_type": "stream",
     "text": [
      " - Training Loss        0.9384\n",
      " - Validation Loss      1.2679\n",
      " - Validation Accuracy  0.3344\n",
      "\n",
      " - Validation Accuracy (per class)\n",
      "   * Class 0\t 0.0855 [29 out of 339]\n",
      "   * Class 1\t 0.8754 [274 out of 313]\n",
      "   * Class 2\t 0.0584 [18 out of 308]\n",
      "   * Mean        0.3398\n",
      "\n",
      "==================================================================================\n"
     ]
    },
    {
     "name": "stderr",
     "output_type": "stream",
     "text": [
      "> Epoch 23: 100%|██████████| 60/60 [00:42<00:00,  1.42it/s]\n"
     ]
    },
    {
     "name": "stdout",
     "output_type": "stream",
     "text": [
      " - Training Loss        0.9381\n",
      " - Validation Loss      1.2588\n",
      " - Validation Accuracy  0.3365\n",
      "\n",
      " - Validation Accuracy (per class)\n",
      "   * Class 0\t 0.0531 [18 out of 339]\n",
      "   * Class 1\t 0.9105 [285 out of 313]\n",
      "   * Class 2\t 0.0649 [20 out of 308]\n",
      "   * Mean        0.3428\n",
      "\n",
      "==================================================================================\n"
     ]
    },
    {
     "name": "stderr",
     "output_type": "stream",
     "text": [
      "> Epoch 24: 100%|██████████| 60/60 [00:42<00:00,  1.42it/s]\n"
     ]
    },
    {
     "name": "stdout",
     "output_type": "stream",
     "text": [
      " - Training Loss        0.9375\n",
      " - Validation Loss      1.2813\n",
      " - Validation Accuracy  0.3406\n",
      "\n",
      " - Validation Accuracy (per class)\n",
      "   * Class 0\t 0.0678 [23 out of 339]\n",
      "   * Class 1\t 0.9137 [286 out of 313]\n",
      "   * Class 2\t 0.0584 [18 out of 308]\n",
      "   * Mean        0.3466\n",
      "\n",
      "==================================================================================\n"
     ]
    },
    {
     "name": "stderr",
     "output_type": "stream",
     "text": [
      "> Epoch 25: 100%|██████████| 60/60 [00:42<00:00,  1.42it/s]\n"
     ]
    },
    {
     "name": "stdout",
     "output_type": "stream",
     "text": [
      " - Training Loss        0.9391\n",
      " - Validation Loss      1.2586\n",
      " - Validation Accuracy  0.3375\n",
      "\n",
      " - Validation Accuracy (per class)\n",
      "   * Class 0\t 0.0649 [22 out of 339]\n",
      "   * Class 1\t 0.9169 [287 out of 313]\n",
      "   * Class 2\t 0.0487 [15 out of 308]\n",
      "   * Mean        0.3435\n",
      "\n",
      "==================================================================================\n"
     ]
    },
    {
     "name": "stderr",
     "output_type": "stream",
     "text": [
      "> Epoch 26: 100%|██████████| 60/60 [00:41<00:00,  1.43it/s]\n"
     ]
    },
    {
     "name": "stdout",
     "output_type": "stream",
     "text": [
      " - Training Loss        0.9395\n",
      " - Validation Loss      1.2496\n",
      " - Validation Accuracy  0.3396\n",
      "\n",
      " - Validation Accuracy (per class)\n",
      "   * Class 0\t 0.0619 [21 out of 339]\n",
      "   * Class 1\t 0.9137 [286 out of 313]\n",
      "   * Class 2\t 0.0617 [19 out of 308]\n",
      "   * Mean        0.3458\n",
      "\n",
      "==================================================================================\n"
     ]
    },
    {
     "name": "stderr",
     "output_type": "stream",
     "text": [
      "> Epoch 27: 100%|██████████| 60/60 [00:41<00:00,  1.43it/s]\n"
     ]
    },
    {
     "name": "stdout",
     "output_type": "stream",
     "text": [
      " - Training Loss        0.9383\n",
      " - Validation Loss      1.2676\n",
      " - Validation Accuracy  0.3375\n",
      "\n",
      " - Validation Accuracy (per class)\n",
      "   * Class 0\t 0.0649 [22 out of 339]\n",
      "   * Class 1\t 0.9105 [285 out of 313]\n",
      "   * Class 2\t 0.0552 [17 out of 308]\n",
      "   * Mean        0.3435\n",
      "\n",
      "==================================================================================\n"
     ]
    },
    {
     "name": "stderr",
     "output_type": "stream",
     "text": [
      "> Epoch 28: 100%|██████████| 60/60 [00:41<00:00,  1.43it/s]\n"
     ]
    },
    {
     "name": "stdout",
     "output_type": "stream",
     "text": [
      " - Training Loss        0.9381\n",
      " - Validation Loss      1.2797\n",
      " - Validation Accuracy  0.3344\n",
      "\n",
      " - Validation Accuracy (per class)\n",
      "   * Class 0\t 0.059 [20 out of 339]\n",
      "   * Class 1\t 0.9073 [284 out of 313]\n",
      "   * Class 2\t 0.0552 [17 out of 308]\n",
      "   * Mean        0.3405\n",
      "\n",
      "==================================================================================\n"
     ]
    },
    {
     "name": "stderr",
     "output_type": "stream",
     "text": [
      "> Epoch 29: 100%|██████████| 60/60 [00:41<00:00,  1.43it/s]\n"
     ]
    },
    {
     "name": "stdout",
     "output_type": "stream",
     "text": [
      " - Training Loss        0.9383\n",
      " - Validation Loss      1.2744\n",
      " - Validation Accuracy  0.3365\n",
      "\n",
      " - Validation Accuracy (per class)\n",
      "   * Class 0\t 0.0678 [23 out of 339]\n",
      "   * Class 1\t 0.9073 [284 out of 313]\n",
      "   * Class 2\t 0.0519 [16 out of 308]\n",
      "   * Mean        0.3423\n",
      "\n",
      "==================================================================================\n"
     ]
    },
    {
     "name": "stderr",
     "output_type": "stream",
     "text": [
      "> Epoch 30: 100%|██████████| 60/60 [00:42<00:00,  1.43it/s]\n"
     ]
    },
    {
     "name": "stdout",
     "output_type": "stream",
     "text": [
      " - Training Loss        0.9377\n",
      " - Validation Loss      1.2879\n",
      " - Validation Accuracy  0.3365\n",
      "\n",
      " - Validation Accuracy (per class)\n",
      "   * Class 0\t 0.0649 [22 out of 339]\n",
      "   * Class 1\t 0.9073 [284 out of 313]\n",
      "   * Class 2\t 0.0552 [17 out of 308]\n",
      "   * Mean        0.3425\n",
      "\n",
      "==================================================================================\n"
     ]
    },
    {
     "name": "stderr",
     "output_type": "stream",
     "text": [
      "> Epoch 31: 100%|██████████| 60/60 [00:42<00:00,  1.42it/s]\n"
     ]
    },
    {
     "name": "stdout",
     "output_type": "stream",
     "text": [
      " - Training Loss        0.9378\n",
      " - Validation Loss      1.3015\n",
      " - Validation Accuracy  0.3385\n",
      "\n",
      " - Validation Accuracy (per class)\n",
      "   * Class 0\t 0.0708 [24 out of 339]\n",
      "   * Class 1\t 0.9042 [283 out of 313]\n",
      "   * Class 2\t 0.0584 [18 out of 308]\n",
      "   * Mean        0.3445\n",
      "\n",
      "==================================================================================\n"
     ]
    },
    {
     "name": "stderr",
     "output_type": "stream",
     "text": [
      "> Epoch 32: 100%|██████████| 60/60 [00:42<00:00,  1.42it/s]\n"
     ]
    },
    {
     "name": "stdout",
     "output_type": "stream",
     "text": [
      " - Training Loss        0.9377\n",
      " - Validation Loss      1.2976\n",
      " - Validation Accuracy  0.3385\n",
      "\n",
      " - Validation Accuracy (per class)\n",
      "   * Class 0\t 0.056 [19 out of 339]\n",
      "   * Class 1\t 0.9169 [287 out of 313]\n",
      "   * Class 2\t 0.0617 [19 out of 308]\n",
      "   * Mean        0.3449\n",
      "\n",
      "==================================================================================\n"
     ]
    },
    {
     "name": "stderr",
     "output_type": "stream",
     "text": [
      "> Epoch 33: 100%|██████████| 60/60 [00:42<00:00,  1.42it/s]\n"
     ]
    },
    {
     "name": "stdout",
     "output_type": "stream",
     "text": [
      " - Training Loss        0.9365\n",
      " - Validation Loss      1.307\n",
      " - Validation Accuracy  0.3333\n",
      "\n",
      " - Validation Accuracy (per class)\n",
      "   * Class 0\t 0.0649 [22 out of 339]\n",
      "   * Class 1\t 0.8978 [281 out of 313]\n",
      "   * Class 2\t 0.0552 [17 out of 308]\n",
      "   * Mean        0.3393\n",
      "\n",
      "==================================================================================\n"
     ]
    },
    {
     "name": "stderr",
     "output_type": "stream",
     "text": [
      "> Epoch 34: 100%|██████████| 60/60 [00:42<00:00,  1.42it/s]\n"
     ]
    },
    {
     "name": "stdout",
     "output_type": "stream",
     "text": [
      " - Training Loss        0.9374\n",
      " - Validation Loss      1.3162\n",
      " - Validation Accuracy  0.3396\n",
      "\n",
      " - Validation Accuracy (per class)\n",
      "   * Class 0\t 0.0649 [22 out of 339]\n",
      "   * Class 1\t 0.9105 [285 out of 313]\n",
      "   * Class 2\t 0.0617 [19 out of 308]\n",
      "   * Mean        0.3457\n",
      "\n",
      "==================================================================================\n"
     ]
    },
    {
     "name": "stderr",
     "output_type": "stream",
     "text": [
      "> Epoch 35: 100%|██████████| 60/60 [00:42<00:00,  1.42it/s]\n"
     ]
    },
    {
     "name": "stdout",
     "output_type": "stream",
     "text": [
      " - Training Loss        0.9395\n",
      " - Validation Loss      1.2629\n",
      " - Validation Accuracy  0.3375\n",
      "\n",
      " - Validation Accuracy (per class)\n",
      "   * Class 0\t 0.0619 [21 out of 339]\n",
      "   * Class 1\t 0.9105 [285 out of 313]\n",
      "   * Class 2\t 0.0584 [18 out of 308]\n",
      "   * Mean        0.3436\n",
      "\n",
      "==================================================================================\n"
     ]
    },
    {
     "name": "stderr",
     "output_type": "stream",
     "text": [
      "> Epoch 36: 100%|██████████| 60/60 [00:41<00:00,  1.43it/s]\n"
     ]
    },
    {
     "name": "stdout",
     "output_type": "stream",
     "text": [
      " - Training Loss        0.9388\n",
      " - Validation Loss      1.2727\n",
      " - Validation Accuracy  0.3375\n",
      "\n",
      " - Validation Accuracy (per class)\n",
      "   * Class 0\t 0.056 [19 out of 339]\n",
      "   * Class 1\t 0.9137 [286 out of 313]\n",
      "   * Class 2\t 0.0617 [19 out of 308]\n",
      "   * Mean        0.3438\n",
      "\n",
      "==================================================================================\n"
     ]
    },
    {
     "name": "stderr",
     "output_type": "stream",
     "text": [
      "> Epoch 37: 100%|██████████| 60/60 [00:41<00:00,  1.43it/s]\n"
     ]
    },
    {
     "name": "stdout",
     "output_type": "stream",
     "text": [
      " - Training Loss        0.9381\n",
      " - Validation Loss      1.2975\n",
      " - Validation Accuracy  0.3365\n",
      "\n",
      " - Validation Accuracy (per class)\n",
      "   * Class 0\t 0.059 [20 out of 339]\n",
      "   * Class 1\t 0.9137 [286 out of 313]\n",
      "   * Class 2\t 0.0552 [17 out of 308]\n",
      "   * Mean        0.3426\n",
      "\n",
      "==================================================================================\n"
     ]
    },
    {
     "name": "stderr",
     "output_type": "stream",
     "text": [
      "> Epoch 38: 100%|██████████| 60/60 [00:42<00:00,  1.42it/s]\n"
     ]
    },
    {
     "name": "stdout",
     "output_type": "stream",
     "text": [
      " - Training Loss        0.9376\n",
      " - Validation Loss      1.3293\n",
      " - Validation Accuracy  0.3375\n",
      "\n",
      " - Validation Accuracy (per class)\n",
      "   * Class 0\t 0.0619 [21 out of 339]\n",
      "   * Class 1\t 0.9201 [288 out of 313]\n",
      "   * Class 2\t 0.0487 [15 out of 308]\n",
      "   * Mean        0.3436\n",
      "\n",
      "==================================================================================\n"
     ]
    },
    {
     "name": "stderr",
     "output_type": "stream",
     "text": [
      "> Epoch 39: 100%|██████████| 60/60 [00:42<00:00,  1.42it/s]\n"
     ]
    },
    {
     "name": "stdout",
     "output_type": "stream",
     "text": [
      " - Training Loss        0.9374\n",
      " - Validation Loss      1.3238\n",
      " - Validation Accuracy  0.3375\n",
      "\n",
      " - Validation Accuracy (per class)\n",
      "   * Class 0\t 0.0619 [21 out of 339]\n",
      "   * Class 1\t 0.9137 [286 out of 313]\n",
      "   * Class 2\t 0.0552 [17 out of 308]\n",
      "   * Mean        0.3436\n",
      "\n",
      "==================================================================================\n"
     ]
    },
    {
     "name": "stderr",
     "output_type": "stream",
     "text": [
      "> Epoch 40: 100%|██████████| 60/60 [00:42<00:00,  1.42it/s]\n"
     ]
    },
    {
     "name": "stdout",
     "output_type": "stream",
     "text": [
      " - Training Loss        0.9368\n",
      " - Validation Loss      1.3458\n",
      " - Validation Accuracy  0.3344\n",
      "\n",
      " - Validation Accuracy (per class)\n",
      "   * Class 0\t 0.0619 [21 out of 339]\n",
      "   * Class 1\t 0.9137 [286 out of 313]\n",
      "   * Class 2\t 0.0455 [14 out of 308]\n",
      "   * Mean        0.3404\n",
      "\n",
      "==================================================================================\n"
     ]
    },
    {
     "name": "stderr",
     "output_type": "stream",
     "text": [
      "> Epoch 41: 100%|██████████| 60/60 [00:42<00:00,  1.42it/s]\n"
     ]
    },
    {
     "name": "stdout",
     "output_type": "stream",
     "text": [
      " - Training Loss        0.9363\n",
      " - Validation Loss      1.3349\n",
      " - Validation Accuracy  0.3375\n",
      "\n",
      " - Validation Accuracy (per class)\n",
      "   * Class 0\t 0.0649 [22 out of 339]\n",
      "   * Class 1\t 0.9105 [285 out of 313]\n",
      "   * Class 2\t 0.0552 [17 out of 308]\n",
      "   * Mean        0.3435\n",
      "\n",
      "==================================================================================\n"
     ]
    },
    {
     "name": "stderr",
     "output_type": "stream",
     "text": [
      "> Epoch 42: 100%|██████████| 60/60 [00:42<00:00,  1.42it/s]\n"
     ]
    },
    {
     "name": "stdout",
     "output_type": "stream",
     "text": [
      " - Training Loss        0.937\n",
      " - Validation Loss      1.2827\n",
      " - Validation Accuracy  0.3406\n",
      "\n",
      " - Validation Accuracy (per class)\n",
      "   * Class 0\t 0.0708 [24 out of 339]\n",
      "   * Class 1\t 0.9042 [283 out of 313]\n",
      "   * Class 2\t 0.0649 [20 out of 308]\n",
      "   * Mean        0.3466\n",
      "\n",
      "==================================================================================\n"
     ]
    },
    {
     "name": "stderr",
     "output_type": "stream",
     "text": [
      "> Epoch 43: 100%|██████████| 60/60 [00:42<00:00,  1.42it/s]\n"
     ]
    },
    {
     "name": "stdout",
     "output_type": "stream",
     "text": [
      " - Training Loss        0.9528\n",
      " - Validation Loss      1.2235\n",
      " - Validation Accuracy  0.3427\n",
      "\n",
      " - Validation Accuracy (per class)\n",
      "   * Class 0\t 0.0708 [24 out of 339]\n",
      "   * Class 1\t 0.9137 [286 out of 313]\n",
      "   * Class 2\t 0.0617 [19 out of 308]\n",
      "   * Mean        0.3487\n",
      "\n",
      "==================================================================================\n"
     ]
    },
    {
     "name": "stderr",
     "output_type": "stream",
     "text": [
      "> Epoch 44: 100%|██████████| 60/60 [00:41<00:00,  1.44it/s]\n"
     ]
    },
    {
     "name": "stdout",
     "output_type": "stream",
     "text": [
      " - Training Loss        0.9431\n",
      " - Validation Loss      1.2265\n",
      " - Validation Accuracy  0.3438\n",
      "\n",
      " - Validation Accuracy (per class)\n",
      "   * Class 0\t 0.059 [20 out of 339]\n",
      "   * Class 1\t 0.9233 [289 out of 313]\n",
      "   * Class 2\t 0.0682 [21 out of 308]\n",
      "   * Mean        0.3502\n",
      "\n",
      "==================================================================================\n"
     ]
    },
    {
     "name": "stderr",
     "output_type": "stream",
     "text": [
      "> Epoch 45: 100%|██████████| 60/60 [00:41<00:00,  1.44it/s]\n"
     ]
    },
    {
     "name": "stdout",
     "output_type": "stream",
     "text": [
      " - Training Loss        0.9404\n",
      " - Validation Loss      1.225\n",
      " - Validation Accuracy  0.3438\n",
      "\n",
      " - Validation Accuracy (per class)\n",
      "   * Class 0\t 0.0619 [21 out of 339]\n",
      "   * Class 1\t 0.9137 [286 out of 313]\n",
      "   * Class 2\t 0.0747 [23 out of 308]\n",
      "   * Mean        0.3501\n",
      "\n",
      "==================================================================================\n"
     ]
    },
    {
     "name": "stderr",
     "output_type": "stream",
     "text": [
      "> Epoch 46: 100%|██████████| 60/60 [00:41<00:00,  1.44it/s]\n"
     ]
    },
    {
     "name": "stdout",
     "output_type": "stream",
     "text": [
      " - Training Loss        0.9392\n",
      " - Validation Loss      1.2343\n",
      " - Validation Accuracy  0.3438\n",
      "\n",
      " - Validation Accuracy (per class)\n",
      "   * Class 0\t 0.059 [20 out of 339]\n",
      "   * Class 1\t 0.9201 [288 out of 313]\n",
      "   * Class 2\t 0.0714 [22 out of 308]\n",
      "   * Mean        0.3502\n",
      "\n",
      "==================================================================================\n"
     ]
    },
    {
     "name": "stderr",
     "output_type": "stream",
     "text": [
      "> Epoch 47: 100%|██████████| 60/60 [00:41<00:00,  1.44it/s]\n"
     ]
    },
    {
     "name": "stdout",
     "output_type": "stream",
     "text": [
      " - Training Loss        0.939\n",
      " - Validation Loss      1.2439\n",
      " - Validation Accuracy  0.3427\n",
      "\n",
      " - Validation Accuracy (per class)\n",
      "   * Class 0\t 0.059 [20 out of 339]\n",
      "   * Class 1\t 0.9201 [288 out of 313]\n",
      "   * Class 2\t 0.0682 [21 out of 308]\n",
      "   * Mean        0.3491\n",
      "\n",
      "==================================================================================\n"
     ]
    },
    {
     "name": "stderr",
     "output_type": "stream",
     "text": [
      "> Epoch 48: 100%|██████████| 60/60 [00:41<00:00,  1.44it/s]\n"
     ]
    },
    {
     "name": "stdout",
     "output_type": "stream",
     "text": [
      " - Training Loss        0.9388\n",
      " - Validation Loss      1.2524\n",
      " - Validation Accuracy  0.3458\n",
      "\n",
      " - Validation Accuracy (per class)\n",
      "   * Class 0\t 0.0649 [22 out of 339]\n",
      "   * Class 1\t 0.9233 [289 out of 313]\n",
      "   * Class 2\t 0.0682 [21 out of 308]\n",
      "   * Mean        0.3521\n",
      "\n",
      "==================================================================================\n"
     ]
    },
    {
     "name": "stderr",
     "output_type": "stream",
     "text": [
      "> Epoch 49: 100%|██████████| 60/60 [00:41<00:00,  1.43it/s]\n"
     ]
    },
    {
     "name": "stdout",
     "output_type": "stream",
     "text": [
      " - Training Loss        0.9388\n",
      " - Validation Loss      1.2626\n",
      " - Validation Accuracy  0.3448\n",
      "\n",
      " - Validation Accuracy (per class)\n",
      "   * Class 0\t 0.0619 [21 out of 339]\n",
      "   * Class 1\t 0.9265 [290 out of 313]\n",
      "   * Class 2\t 0.0649 [20 out of 308]\n",
      "   * Mean        0.3511\n",
      "\n",
      "==================================================================================\n"
     ]
    },
    {
     "name": "stderr",
     "output_type": "stream",
     "text": [
      "> Epoch 50: 100%|██████████| 60/60 [00:41<00:00,  1.43it/s]\n"
     ]
    },
    {
     "name": "stdout",
     "output_type": "stream",
     "text": [
      " - Training Loss        0.9388\n",
      " - Validation Loss      1.2671\n",
      " - Validation Accuracy  0.3406\n",
      "\n",
      " - Validation Accuracy (per class)\n",
      "   * Class 0\t 0.059 [20 out of 339]\n",
      "   * Class 1\t 0.9169 [287 out of 313]\n",
      "   * Class 2\t 0.0649 [20 out of 308]\n",
      "   * Mean        0.3469\n",
      "\n",
      "==================================================================================\n",
      "> Parameters imported\n",
      "> Dataset correctly divided in training set, validation set and test set\n",
      "> Created Pytorch datasets and dataloaders\n",
      "> Model 'LSTM_fixed' instantiated\n",
      "> Initialization required 0.11 seconds\n",
      "\n",
      "MODEL 6 DETAILS\n",
      " * EMBEDDING_DIM  2048\n",
      " * HIDDEN_DIM     1024\n",
      " * LEARNING_RATE  0.001\n",
      " * DROPOUT_P      0.0\n",
      "\n",
      "==================================================================================\n",
      "> Training Started\n",
      "  - Total Epochs: 50\n",
      "==================================================================================\n"
     ]
    },
    {
     "name": "stderr",
     "output_type": "stream",
     "text": [
      "> Epoch 1: 100%|██████████| 60/60 [00:41<00:00,  1.45it/s]\n"
     ]
    },
    {
     "name": "stdout",
     "output_type": "stream",
     "text": [
      " - Training Loss        1.1156\n",
      " - Validation Loss      1.1068\n",
      " - Validation Accuracy  0.326\n",
      "\n",
      " - Validation Accuracy (per class)\n",
      "   * Class 0\t 0.0678 [23 out of 339]\n",
      "   * Class 1\t 0.016 [5 out of 313]\n",
      "   * Class 2\t 0.9253 [285 out of 308]\n",
      "   * Mean        0.3364\n",
      "\n",
      "> ATTENTION: epoch 1 was the best one so far! The model has been saved :)\n",
      "\n",
      "==================================================================================\n"
     ]
    },
    {
     "name": "stderr",
     "output_type": "stream",
     "text": [
      "> Epoch 2: 100%|██████████| 60/60 [00:41<00:00,  1.45it/s]\n"
     ]
    },
    {
     "name": "stdout",
     "output_type": "stream",
     "text": [
      " - Training Loss        1.0064\n",
      " - Validation Loss      1.1449\n",
      " - Validation Accuracy  0.3438\n",
      "\n",
      " - Validation Accuracy (per class)\n",
      "   * Class 0\t 0.0354 [12 out of 339]\n",
      "   * Class 1\t 0.9265 [290 out of 313]\n",
      "   * Class 2\t 0.0909 [28 out of 308]\n",
      "   * Mean        0.3509\n",
      "\n",
      "> ATTENTION: epoch 2 was the best one so far! The model has been saved :)\n",
      "\n",
      "==================================================================================\n"
     ]
    },
    {
     "name": "stderr",
     "output_type": "stream",
     "text": [
      "> Epoch 3: 100%|██████████| 60/60 [00:42<00:00,  1.42it/s]\n"
     ]
    },
    {
     "name": "stdout",
     "output_type": "stream",
     "text": [
      " - Training Loss        1.1171\n",
      " - Validation Loss      1.1678\n",
      " - Validation Accuracy  0.3458\n",
      "\n",
      " - Validation Accuracy (per class)\n",
      "   * Class 0\t 0.0501 [17 out of 339]\n",
      "   * Class 1\t 0.9233 [289 out of 313]\n",
      "   * Class 2\t 0.0844 [26 out of 308]\n",
      "   * Mean        0.3526\n",
      "\n",
      "> ATTENTION: epoch 3 was the best one so far! The model has been saved :)\n",
      "\n",
      "==================================================================================\n"
     ]
    },
    {
     "name": "stderr",
     "output_type": "stream",
     "text": [
      "> Epoch 4: 100%|██████████| 60/60 [00:42<00:00,  1.42it/s]\n"
     ]
    },
    {
     "name": "stdout",
     "output_type": "stream",
     "text": [
      " - Training Loss        0.9749\n",
      " - Validation Loss      1.1655\n",
      " - Validation Accuracy  0.3302\n",
      "\n",
      " - Validation Accuracy (per class)\n",
      "   * Class 0\t 0.0649 [22 out of 339]\n",
      "   * Class 1\t 0.0288 [9 out of 313]\n",
      "   * Class 2\t 0.9286 [286 out of 308]\n",
      "   * Mean        0.3408\n",
      "\n",
      "==================================================================================\n"
     ]
    },
    {
     "name": "stderr",
     "output_type": "stream",
     "text": [
      "> Epoch 5: 100%|██████████| 60/60 [00:42<00:00,  1.42it/s]\n"
     ]
    },
    {
     "name": "stdout",
     "output_type": "stream",
     "text": [
      " - Training Loss        0.9521\n",
      " - Validation Loss      1.1827\n",
      " - Validation Accuracy  0.3302\n",
      "\n",
      " - Validation Accuracy (per class)\n",
      "   * Class 0\t 0.0619 [21 out of 339]\n",
      "   * Class 1\t 0.0256 [8 out of 313]\n",
      "   * Class 2\t 0.9351 [288 out of 308]\n",
      "   * Mean        0.3409\n",
      "\n",
      "==================================================================================\n"
     ]
    },
    {
     "name": "stderr",
     "output_type": "stream",
     "text": [
      "> Epoch 6: 100%|██████████| 60/60 [00:42<00:00,  1.42it/s]\n"
     ]
    },
    {
     "name": "stdout",
     "output_type": "stream",
     "text": [
      " - Training Loss        0.9489\n",
      " - Validation Loss      1.1881\n",
      " - Validation Accuracy  0.3313\n",
      "\n",
      " - Validation Accuracy (per class)\n",
      "   * Class 0\t 0.0619 [21 out of 339]\n",
      "   * Class 1\t 0.0256 [8 out of 313]\n",
      "   * Class 2\t 0.9383 [289 out of 308]\n",
      "   * Mean        0.3419\n",
      "\n",
      "==================================================================================\n"
     ]
    },
    {
     "name": "stderr",
     "output_type": "stream",
     "text": [
      "> Epoch 7: 100%|██████████| 60/60 [00:42<00:00,  1.42it/s]\n"
     ]
    },
    {
     "name": "stdout",
     "output_type": "stream",
     "text": [
      " - Training Loss        0.9473\n",
      " - Validation Loss      1.2144\n",
      " - Validation Accuracy  0.3458\n",
      "\n",
      " - Validation Accuracy (per class)\n",
      "   * Class 0\t 0.059 [20 out of 339]\n",
      "   * Class 1\t 0.9233 [289 out of 313]\n",
      "   * Class 2\t 0.0747 [23 out of 308]\n",
      "   * Mean        0.3523\n",
      "\n",
      "==================================================================================\n"
     ]
    },
    {
     "name": "stderr",
     "output_type": "stream",
     "text": [
      "> Epoch 8: 100%|██████████| 60/60 [00:42<00:00,  1.42it/s]\n"
     ]
    },
    {
     "name": "stdout",
     "output_type": "stream",
     "text": [
      " - Training Loss        0.9469\n",
      " - Validation Loss      1.1935\n",
      " - Validation Accuracy  0.3573\n",
      "\n",
      " - Validation Accuracy (per class)\n",
      "   * Class 0\t 0.9145 [310 out of 339]\n",
      "   * Class 1\t 0.0256 [8 out of 313]\n",
      "   * Class 2\t 0.0812 [25 out of 308]\n",
      "   * Mean        0.3404\n",
      "\n",
      "==================================================================================\n"
     ]
    },
    {
     "name": "stderr",
     "output_type": "stream",
     "text": [
      "> Epoch 9: 100%|██████████| 60/60 [00:42<00:00,  1.42it/s]\n"
     ]
    },
    {
     "name": "stdout",
     "output_type": "stream",
     "text": [
      " - Training Loss        0.9436\n",
      " - Validation Loss      1.2066\n",
      " - Validation Accuracy  0.3333\n",
      "\n",
      " - Validation Accuracy (per class)\n",
      "   * Class 0\t 0.059 [20 out of 339]\n",
      "   * Class 1\t 0.0319 [10 out of 313]\n",
      "   * Class 2\t 0.9416 [290 out of 308]\n",
      "   * Mean        0.3442\n",
      "\n",
      "==================================================================================\n"
     ]
    },
    {
     "name": "stderr",
     "output_type": "stream",
     "text": [
      "> Epoch 10: 100%|██████████| 60/60 [00:42<00:00,  1.42it/s]\n"
     ]
    },
    {
     "name": "stdout",
     "output_type": "stream",
     "text": [
      " - Training Loss        0.948\n",
      " - Validation Loss      1.2029\n",
      " - Validation Accuracy  0.325\n",
      "\n",
      " - Validation Accuracy (per class)\n",
      "   * Class 0\t 0.059 [20 out of 339]\n",
      "   * Class 1\t 0.0288 [9 out of 313]\n",
      "   * Class 2\t 0.9188 [283 out of 308]\n",
      "   * Mean        0.3355\n",
      "\n",
      "==================================================================================\n"
     ]
    },
    {
     "name": "stderr",
     "output_type": "stream",
     "text": [
      "> Epoch 11: 100%|██████████| 60/60 [00:42<00:00,  1.42it/s]\n"
     ]
    },
    {
     "name": "stdout",
     "output_type": "stream",
     "text": [
      " - Training Loss        0.9449\n",
      " - Validation Loss      1.2063\n",
      " - Validation Accuracy  0.3292\n",
      "\n",
      " - Validation Accuracy (per class)\n",
      "   * Class 0\t 0.0619 [21 out of 339]\n",
      "   * Class 1\t 0.0288 [9 out of 313]\n",
      "   * Class 2\t 0.9286 [286 out of 308]\n",
      "   * Mean        0.3398\n",
      "\n",
      "==================================================================================\n"
     ]
    },
    {
     "name": "stderr",
     "output_type": "stream",
     "text": [
      "> Epoch 12: 100%|██████████| 60/60 [00:42<00:00,  1.42it/s]\n"
     ]
    },
    {
     "name": "stdout",
     "output_type": "stream",
     "text": [
      " - Training Loss        0.9424\n",
      " - Validation Loss      1.2059\n",
      " - Validation Accuracy  0.326\n",
      "\n",
      " - Validation Accuracy (per class)\n",
      "   * Class 0\t 0.056 [19 out of 339]\n",
      "   * Class 1\t 0.0224 [7 out of 313]\n",
      "   * Class 2\t 0.9318 [287 out of 308]\n",
      "   * Mean        0.3367\n",
      "\n",
      "==================================================================================\n"
     ]
    },
    {
     "name": "stderr",
     "output_type": "stream",
     "text": [
      "> Epoch 13: 100%|██████████| 60/60 [00:41<00:00,  1.43it/s]\n"
     ]
    },
    {
     "name": "stdout",
     "output_type": "stream",
     "text": [
      " - Training Loss        0.9428\n",
      " - Validation Loss      1.2069\n",
      " - Validation Accuracy  0.3531\n",
      "\n",
      " - Validation Accuracy (per class)\n",
      "   * Class 0\t 0.9115 [309 out of 339]\n",
      "   * Class 1\t 0.0224 [7 out of 313]\n",
      "   * Class 2\t 0.0747 [23 out of 308]\n",
      "   * Mean        0.3362\n",
      "\n",
      "==================================================================================\n"
     ]
    },
    {
     "name": "stderr",
     "output_type": "stream",
     "text": [
      "> Epoch 14: 100%|██████████| 60/60 [00:42<00:00,  1.43it/s]\n"
     ]
    },
    {
     "name": "stdout",
     "output_type": "stream",
     "text": [
      " - Training Loss        0.9439\n",
      " - Validation Loss      1.2112\n",
      " - Validation Accuracy  0.3271\n",
      "\n",
      " - Validation Accuracy (per class)\n",
      "   * Class 0\t 0.056 [19 out of 339]\n",
      "   * Class 1\t 0.0256 [8 out of 313]\n",
      "   * Class 2\t 0.9318 [287 out of 308]\n",
      "   * Mean        0.3378\n",
      "\n",
      "==================================================================================\n"
     ]
    },
    {
     "name": "stderr",
     "output_type": "stream",
     "text": [
      "> Epoch 15: 100%|██████████| 60/60 [00:42<00:00,  1.42it/s]\n"
     ]
    },
    {
     "name": "stdout",
     "output_type": "stream",
     "text": [
      " - Training Loss        0.9424\n",
      " - Validation Loss      1.2118\n",
      " - Validation Accuracy  0.3438\n",
      "\n",
      " - Validation Accuracy (per class)\n",
      "   * Class 0\t 0.056 [19 out of 339]\n",
      "   * Class 1\t 0.9201 [288 out of 313]\n",
      "   * Class 2\t 0.0747 [23 out of 308]\n",
      "   * Mean        0.3503\n",
      "\n",
      "==================================================================================\n"
     ]
    },
    {
     "name": "stderr",
     "output_type": "stream",
     "text": [
      "> Epoch 16: 100%|██████████| 60/60 [00:42<00:00,  1.42it/s]\n"
     ]
    },
    {
     "name": "stdout",
     "output_type": "stream",
     "text": [
      " - Training Loss        0.9419\n",
      " - Validation Loss      1.2134\n",
      " - Validation Accuracy  0.3448\n",
      "\n",
      " - Validation Accuracy (per class)\n",
      "   * Class 0\t 0.0531 [18 out of 339]\n",
      "   * Class 1\t 0.9265 [290 out of 313]\n",
      "   * Class 2\t 0.0747 [23 out of 308]\n",
      "   * Mean        0.3514\n",
      "\n",
      "==================================================================================\n"
     ]
    },
    {
     "name": "stderr",
     "output_type": "stream",
     "text": [
      "> Epoch 17: 100%|██████████| 60/60 [00:42<00:00,  1.42it/s]\n"
     ]
    },
    {
     "name": "stdout",
     "output_type": "stream",
     "text": [
      " - Training Loss        0.9419\n",
      " - Validation Loss      1.2146\n",
      " - Validation Accuracy  0.3448\n",
      "\n",
      " - Validation Accuracy (per class)\n",
      "   * Class 0\t 0.0531 [18 out of 339]\n",
      "   * Class 1\t 0.9265 [290 out of 313]\n",
      "   * Class 2\t 0.0747 [23 out of 308]\n",
      "   * Mean        0.3514\n",
      "\n",
      "==================================================================================\n"
     ]
    },
    {
     "name": "stderr",
     "output_type": "stream",
     "text": [
      "> Epoch 18: 100%|██████████| 60/60 [00:42<00:00,  1.42it/s]\n"
     ]
    },
    {
     "name": "stdout",
     "output_type": "stream",
     "text": [
      " - Training Loss        0.9414\n",
      " - Validation Loss      1.2236\n",
      " - Validation Accuracy  0.3458\n",
      "\n",
      " - Validation Accuracy (per class)\n",
      "   * Class 0\t 0.0531 [18 out of 339]\n",
      "   * Class 1\t 0.9265 [290 out of 313]\n",
      "   * Class 2\t 0.0779 [24 out of 308]\n",
      "   * Mean        0.3525\n",
      "\n",
      "==================================================================================\n"
     ]
    },
    {
     "name": "stderr",
     "output_type": "stream",
     "text": [
      "> Epoch 19: 100%|██████████| 60/60 [00:42<00:00,  1.42it/s]\n"
     ]
    },
    {
     "name": "stdout",
     "output_type": "stream",
     "text": [
      " - Training Loss        0.9415\n",
      " - Validation Loss      1.2201\n",
      " - Validation Accuracy  0.3563\n",
      "\n",
      " - Validation Accuracy (per class)\n",
      "   * Class 0\t 0.9086 [308 out of 339]\n",
      "   * Class 1\t 0.0319 [10 out of 313]\n",
      "   * Class 2\t 0.0779 [24 out of 308]\n",
      "   * Mean        0.3395\n",
      "\n",
      "==================================================================================\n"
     ]
    },
    {
     "name": "stderr",
     "output_type": "stream",
     "text": [
      "> Epoch 20: 100%|██████████| 60/60 [00:42<00:00,  1.42it/s]\n"
     ]
    },
    {
     "name": "stdout",
     "output_type": "stream",
     "text": [
      " - Training Loss        0.9449\n",
      " - Validation Loss      1.2222\n",
      " - Validation Accuracy  0.3458\n",
      "\n",
      " - Validation Accuracy (per class)\n",
      "   * Class 0\t 0.0531 [18 out of 339]\n",
      "   * Class 1\t 0.9265 [290 out of 313]\n",
      "   * Class 2\t 0.0779 [24 out of 308]\n",
      "   * Mean        0.3525\n",
      "\n",
      "==================================================================================\n"
     ]
    },
    {
     "name": "stderr",
     "output_type": "stream",
     "text": [
      "> Epoch 21: 100%|██████████| 60/60 [00:42<00:00,  1.42it/s]\n"
     ]
    },
    {
     "name": "stdout",
     "output_type": "stream",
     "text": [
      " - Training Loss        0.9418\n",
      " - Validation Loss      1.2236\n",
      " - Validation Accuracy  0.3438\n",
      "\n",
      " - Validation Accuracy (per class)\n",
      "   * Class 0\t 0.0501 [17 out of 339]\n",
      "   * Class 1\t 0.9265 [290 out of 313]\n",
      "   * Class 2\t 0.0747 [23 out of 308]\n",
      "   * Mean        0.3504\n",
      "\n",
      "==================================================================================\n"
     ]
    },
    {
     "name": "stderr",
     "output_type": "stream",
     "text": [
      "> Epoch 22: 100%|██████████| 60/60 [00:42<00:00,  1.42it/s]\n"
     ]
    },
    {
     "name": "stdout",
     "output_type": "stream",
     "text": [
      " - Training Loss        0.9406\n",
      " - Validation Loss      1.2217\n",
      " - Validation Accuracy  0.3292\n",
      "\n",
      " - Validation Accuracy (per class)\n",
      "   * Class 0\t 0.0531 [18 out of 339]\n",
      "   * Class 1\t 0.0351 [11 out of 313]\n",
      "   * Class 2\t 0.9318 [287 out of 308]\n",
      "   * Mean        0.34\n",
      "\n",
      "==================================================================================\n"
     ]
    },
    {
     "name": "stderr",
     "output_type": "stream",
     "text": [
      "> Epoch 23: 100%|██████████| 60/60 [00:42<00:00,  1.42it/s]\n"
     ]
    },
    {
     "name": "stdout",
     "output_type": "stream",
     "text": [
      " - Training Loss        0.9405\n",
      " - Validation Loss      1.2258\n",
      " - Validation Accuracy  0.3302\n",
      "\n",
      " - Validation Accuracy (per class)\n",
      "   * Class 0\t 0.0531 [18 out of 339]\n",
      "   * Class 1\t 0.0351 [11 out of 313]\n",
      "   * Class 2\t 0.9351 [288 out of 308]\n",
      "   * Mean        0.3411\n",
      "\n",
      "==================================================================================\n"
     ]
    },
    {
     "name": "stderr",
     "output_type": "stream",
     "text": [
      "> Epoch 24: 100%|██████████| 60/60 [00:42<00:00,  1.42it/s]\n"
     ]
    },
    {
     "name": "stdout",
     "output_type": "stream",
     "text": [
      " - Training Loss        0.943\n",
      " - Validation Loss      1.2231\n",
      " - Validation Accuracy  0.3448\n",
      "\n",
      " - Validation Accuracy (per class)\n",
      "   * Class 0\t 0.0501 [17 out of 339]\n",
      "   * Class 1\t 0.9265 [290 out of 313]\n",
      "   * Class 2\t 0.0779 [24 out of 308]\n",
      "   * Mean        0.3515\n",
      "\n",
      "==================================================================================\n"
     ]
    },
    {
     "name": "stderr",
     "output_type": "stream",
     "text": [
      "> Epoch 25: 100%|██████████| 60/60 [00:42<00:00,  1.42it/s]\n"
     ]
    },
    {
     "name": "stdout",
     "output_type": "stream",
     "text": [
      " - Training Loss        0.9411\n",
      " - Validation Loss      1.225\n",
      " - Validation Accuracy  0.3469\n",
      "\n",
      " - Validation Accuracy (per class)\n",
      "   * Class 0\t 0.0531 [18 out of 339]\n",
      "   * Class 1\t 0.9233 [289 out of 313]\n",
      "   * Class 2\t 0.0844 [26 out of 308]\n",
      "   * Mean        0.3536\n",
      "\n",
      "> ATTENTION: epoch 25 was the best one so far! The model has been saved :)\n",
      "\n",
      "==================================================================================\n"
     ]
    },
    {
     "name": "stderr",
     "output_type": "stream",
     "text": [
      "> Epoch 26: 100%|██████████| 60/60 [00:42<00:00,  1.42it/s]\n"
     ]
    },
    {
     "name": "stdout",
     "output_type": "stream",
     "text": [
      " - Training Loss        0.9398\n",
      " - Validation Loss      1.2225\n",
      " - Validation Accuracy  0.3479\n",
      "\n",
      " - Validation Accuracy (per class)\n",
      "   * Class 0\t 0.0501 [17 out of 339]\n",
      "   * Class 1\t 0.9233 [289 out of 313]\n",
      "   * Class 2\t 0.0909 [28 out of 308]\n",
      "   * Mean        0.3548\n",
      "\n",
      "> ATTENTION: epoch 26 was the best one so far! The model has been saved :)\n",
      "\n",
      "==================================================================================\n"
     ]
    },
    {
     "name": "stderr",
     "output_type": "stream",
     "text": [
      "> Epoch 27: 100%|██████████| 60/60 [00:42<00:00,  1.42it/s]\n"
     ]
    },
    {
     "name": "stdout",
     "output_type": "stream",
     "text": [
      " - Training Loss        0.9408\n",
      " - Validation Loss      1.2218\n",
      " - Validation Accuracy  0.3563\n",
      "\n",
      " - Validation Accuracy (per class)\n",
      "   * Class 0\t 0.9145 [310 out of 339]\n",
      "   * Class 1\t 0.0383 [12 out of 313]\n",
      "   * Class 2\t 0.0649 [20 out of 308]\n",
      "   * Mean        0.3392\n",
      "\n",
      "==================================================================================\n"
     ]
    },
    {
     "name": "stderr",
     "output_type": "stream",
     "text": [
      "> Epoch 28: 100%|██████████| 60/60 [00:42<00:00,  1.42it/s]\n"
     ]
    },
    {
     "name": "stdout",
     "output_type": "stream",
     "text": [
      " - Training Loss        0.9399\n",
      " - Validation Loss      1.2244\n",
      " - Validation Accuracy  0.326\n",
      "\n",
      " - Validation Accuracy (per class)\n",
      "   * Class 0\t 0.059 [20 out of 339]\n",
      "   * Class 1\t 0.0383 [12 out of 313]\n",
      "   * Class 2\t 0.9123 [281 out of 308]\n",
      "   * Mean        0.3365\n",
      "\n",
      "==================================================================================\n"
     ]
    },
    {
     "name": "stderr",
     "output_type": "stream",
     "text": [
      "> Epoch 29: 100%|██████████| 60/60 [00:42<00:00,  1.42it/s]\n"
     ]
    },
    {
     "name": "stdout",
     "output_type": "stream",
     "text": [
      " - Training Loss        0.9405\n",
      " - Validation Loss      1.2221\n",
      " - Validation Accuracy  0.3427\n",
      "\n",
      " - Validation Accuracy (per class)\n",
      "   * Class 0\t 0.059 [20 out of 339]\n",
      "   * Class 1\t 0.9297 [291 out of 313]\n",
      "   * Class 2\t 0.0584 [18 out of 308]\n",
      "   * Mean        0.349\n",
      "\n",
      "==================================================================================\n"
     ]
    },
    {
     "name": "stderr",
     "output_type": "stream",
     "text": [
      "> Epoch 30: 100%|██████████| 60/60 [00:42<00:00,  1.42it/s]\n"
     ]
    },
    {
     "name": "stdout",
     "output_type": "stream",
     "text": [
      " - Training Loss        0.9403\n",
      " - Validation Loss      1.2362\n",
      " - Validation Accuracy  0.3417\n",
      "\n",
      " - Validation Accuracy (per class)\n",
      "   * Class 0\t 0.056 [19 out of 339]\n",
      "   * Class 1\t 0.9297 [291 out of 313]\n",
      "   * Class 2\t 0.0584 [18 out of 308]\n",
      "   * Mean        0.348\n",
      "\n",
      "==================================================================================\n"
     ]
    },
    {
     "name": "stderr",
     "output_type": "stream",
     "text": [
      "> Epoch 31: 100%|██████████| 60/60 [00:42<00:00,  1.42it/s]\n"
     ]
    },
    {
     "name": "stdout",
     "output_type": "stream",
     "text": [
      " - Training Loss        0.9411\n",
      " - Validation Loss      1.2238\n",
      " - Validation Accuracy  0.3281\n",
      "\n",
      " - Validation Accuracy (per class)\n",
      "   * Class 0\t 0.059 [20 out of 339]\n",
      "   * Class 1\t 0.0288 [9 out of 313]\n",
      "   * Class 2\t 0.9286 [286 out of 308]\n",
      "   * Mean        0.3388\n",
      "\n",
      "==================================================================================\n"
     ]
    },
    {
     "name": "stderr",
     "output_type": "stream",
     "text": [
      "> Epoch 32: 100%|██████████| 60/60 [00:42<00:00,  1.42it/s]\n"
     ]
    },
    {
     "name": "stdout",
     "output_type": "stream",
     "text": [
      " - Training Loss        0.9436\n",
      " - Validation Loss      1.2282\n",
      " - Validation Accuracy  0.3438\n",
      "\n",
      " - Validation Accuracy (per class)\n",
      "   * Class 0\t 0.0501 [17 out of 339]\n",
      "   * Class 1\t 0.9201 [288 out of 313]\n",
      "   * Class 2\t 0.0812 [25 out of 308]\n",
      "   * Mean        0.3505\n",
      "\n",
      "==================================================================================\n"
     ]
    },
    {
     "name": "stderr",
     "output_type": "stream",
     "text": [
      "> Epoch 33: 100%|██████████| 60/60 [00:42<00:00,  1.42it/s]\n"
     ]
    },
    {
     "name": "stdout",
     "output_type": "stream",
     "text": [
      " - Training Loss        0.9434\n",
      " - Validation Loss      1.2314\n",
      " - Validation Accuracy  0.3469\n",
      "\n",
      " - Validation Accuracy (per class)\n",
      "   * Class 0\t 0.0501 [17 out of 339]\n",
      "   * Class 1\t 0.9233 [289 out of 313]\n",
      "   * Class 2\t 0.0877 [27 out of 308]\n",
      "   * Mean        0.3537\n",
      "\n",
      "==================================================================================\n"
     ]
    },
    {
     "name": "stderr",
     "output_type": "stream",
     "text": [
      "> Epoch 34: 100%|██████████| 60/60 [00:42<00:00,  1.42it/s]\n"
     ]
    },
    {
     "name": "stdout",
     "output_type": "stream",
     "text": [
      " - Training Loss        0.9409\n",
      " - Validation Loss      1.2326\n",
      " - Validation Accuracy  0.3448\n",
      "\n",
      " - Validation Accuracy (per class)\n",
      "   * Class 0\t 0.0472 [16 out of 339]\n",
      "   * Class 1\t 0.9201 [288 out of 313]\n",
      "   * Class 2\t 0.0877 [27 out of 308]\n",
      "   * Mean        0.3517\n",
      "\n",
      "==================================================================================\n"
     ]
    },
    {
     "name": "stderr",
     "output_type": "stream",
     "text": [
      "> Epoch 35: 100%|██████████| 60/60 [00:42<00:00,  1.42it/s]\n"
     ]
    },
    {
     "name": "stdout",
     "output_type": "stream",
     "text": [
      " - Training Loss        0.9395\n",
      " - Validation Loss      1.2344\n",
      " - Validation Accuracy  0.3302\n",
      "\n",
      " - Validation Accuracy (per class)\n",
      "   * Class 0\t 0.0501 [17 out of 339]\n",
      "   * Class 1\t 0.0319 [10 out of 313]\n",
      "   * Class 2\t 0.9416 [290 out of 308]\n",
      "   * Mean        0.3412\n",
      "\n",
      "==================================================================================\n"
     ]
    },
    {
     "name": "stderr",
     "output_type": "stream",
     "text": [
      "> Epoch 36: 100%|██████████| 60/60 [00:42<00:00,  1.42it/s]\n"
     ]
    },
    {
     "name": "stdout",
     "output_type": "stream",
     "text": [
      " - Training Loss        0.9408\n",
      " - Validation Loss      1.2349\n",
      " - Validation Accuracy  0.3448\n",
      "\n",
      " - Validation Accuracy (per class)\n",
      "   * Class 0\t 0.0501 [17 out of 339]\n",
      "   * Class 1\t 0.9201 [288 out of 313]\n",
      "   * Class 2\t 0.0844 [26 out of 308]\n",
      "   * Mean        0.3515\n",
      "\n",
      "==================================================================================\n"
     ]
    },
    {
     "name": "stderr",
     "output_type": "stream",
     "text": [
      "> Epoch 37: 100%|██████████| 60/60 [00:42<00:00,  1.42it/s]\n"
     ]
    },
    {
     "name": "stdout",
     "output_type": "stream",
     "text": [
      " - Training Loss        0.941\n",
      " - Validation Loss      1.2371\n",
      " - Validation Accuracy  0.3448\n",
      "\n",
      " - Validation Accuracy (per class)\n",
      "   * Class 0\t 0.0472 [16 out of 339]\n",
      "   * Class 1\t 0.9233 [289 out of 313]\n",
      "   * Class 2\t 0.0844 [26 out of 308]\n",
      "   * Mean        0.3516\n",
      "\n",
      "==================================================================================\n"
     ]
    },
    {
     "name": "stderr",
     "output_type": "stream",
     "text": [
      "> Epoch 38: 100%|██████████| 60/60 [00:42<00:00,  1.42it/s]\n"
     ]
    },
    {
     "name": "stdout",
     "output_type": "stream",
     "text": [
      " - Training Loss        0.94\n",
      " - Validation Loss      1.2411\n",
      " - Validation Accuracy  0.3458\n",
      "\n",
      " - Validation Accuracy (per class)\n",
      "   * Class 0\t 0.0501 [17 out of 339]\n",
      "   * Class 1\t 0.9233 [289 out of 313]\n",
      "   * Class 2\t 0.0844 [26 out of 308]\n",
      "   * Mean        0.3526\n",
      "\n",
      "==================================================================================\n"
     ]
    },
    {
     "name": "stderr",
     "output_type": "stream",
     "text": [
      "> Epoch 39: 100%|██████████| 60/60 [00:42<00:00,  1.42it/s]\n"
     ]
    },
    {
     "name": "stdout",
     "output_type": "stream",
     "text": [
      " - Training Loss        0.9411\n",
      " - Validation Loss      1.2388\n",
      " - Validation Accuracy  0.3573\n",
      "\n",
      " - Validation Accuracy (per class)\n",
      "   * Class 0\t 0.9027 [306 out of 339]\n",
      "   * Class 1\t 0.0319 [10 out of 313]\n",
      "   * Class 2\t 0.0877 [27 out of 308]\n",
      "   * Mean        0.3408\n",
      "\n",
      "==================================================================================\n"
     ]
    },
    {
     "name": "stderr",
     "output_type": "stream",
     "text": [
      "> Epoch 40: 100%|██████████| 60/60 [00:42<00:00,  1.42it/s]\n"
     ]
    },
    {
     "name": "stdout",
     "output_type": "stream",
     "text": [
      " - Training Loss        0.9423\n",
      " - Validation Loss      1.2322\n",
      " - Validation Accuracy  0.3302\n",
      "\n",
      " - Validation Accuracy (per class)\n",
      "   * Class 0\t 0.0501 [17 out of 339]\n",
      "   * Class 1\t 0.0288 [9 out of 313]\n",
      "   * Class 2\t 0.9448 [291 out of 308]\n",
      "   * Mean        0.3412\n",
      "\n",
      "==================================================================================\n"
     ]
    },
    {
     "name": "stderr",
     "output_type": "stream",
     "text": [
      "> Epoch 41: 100%|██████████| 60/60 [00:42<00:00,  1.42it/s]\n"
     ]
    },
    {
     "name": "stdout",
     "output_type": "stream",
     "text": [
      " - Training Loss        0.9393\n",
      " - Validation Loss      1.2368\n",
      " - Validation Accuracy  0.3427\n",
      "\n",
      " - Validation Accuracy (per class)\n",
      "   * Class 0\t 0.0472 [16 out of 339]\n",
      "   * Class 1\t 0.9169 [287 out of 313]\n",
      "   * Class 2\t 0.0844 [26 out of 308]\n",
      "   * Mean        0.3495\n",
      "\n",
      "==================================================================================\n"
     ]
    },
    {
     "name": "stderr",
     "output_type": "stream",
     "text": [
      "> Epoch 42: 100%|██████████| 60/60 [00:42<00:00,  1.42it/s]\n"
     ]
    },
    {
     "name": "stdout",
     "output_type": "stream",
     "text": [
      " - Training Loss        0.9399\n",
      " - Validation Loss      1.2467\n",
      " - Validation Accuracy  0.3458\n",
      "\n",
      " - Validation Accuracy (per class)\n",
      "   * Class 0\t 0.0472 [16 out of 339]\n",
      "   * Class 1\t 0.9233 [289 out of 313]\n",
      "   * Class 2\t 0.0877 [27 out of 308]\n",
      "   * Mean        0.3527\n",
      "\n",
      "==================================================================================\n"
     ]
    },
    {
     "name": "stderr",
     "output_type": "stream",
     "text": [
      "> Epoch 43: 100%|██████████| 60/60 [00:42<00:00,  1.42it/s]\n"
     ]
    },
    {
     "name": "stdout",
     "output_type": "stream",
     "text": [
      " - Training Loss        0.9412\n",
      " - Validation Loss      1.239\n",
      " - Validation Accuracy  0.3438\n",
      "\n",
      " - Validation Accuracy (per class)\n",
      "   * Class 0\t 0.0472 [16 out of 339]\n",
      "   * Class 1\t 0.9169 [287 out of 313]\n",
      "   * Class 2\t 0.0877 [27 out of 308]\n",
      "   * Mean        0.3506\n",
      "\n",
      "==================================================================================\n"
     ]
    },
    {
     "name": "stderr",
     "output_type": "stream",
     "text": [
      "> Epoch 44: 100%|██████████| 60/60 [00:42<00:00,  1.42it/s]\n"
     ]
    },
    {
     "name": "stdout",
     "output_type": "stream",
     "text": [
      " - Training Loss        0.9408\n",
      " - Validation Loss      1.243\n",
      " - Validation Accuracy  0.3417\n",
      "\n",
      " - Validation Accuracy (per class)\n",
      "   * Class 0\t 0.0442 [15 out of 339]\n",
      "   * Class 1\t 0.9169 [287 out of 313]\n",
      "   * Class 2\t 0.0844 [26 out of 308]\n",
      "   * Mean        0.3485\n",
      "\n",
      "==================================================================================\n"
     ]
    },
    {
     "name": "stderr",
     "output_type": "stream",
     "text": [
      "> Epoch 45: 100%|██████████| 60/60 [00:42<00:00,  1.42it/s]\n"
     ]
    },
    {
     "name": "stdout",
     "output_type": "stream",
     "text": [
      " - Training Loss        0.9347\n",
      " - Validation Loss      1.1846\n",
      " - Validation Accuracy  0.5\n",
      "\n",
      " - Validation Accuracy (per class)\n",
      "   * Class 0\t 0.0501 [17 out of 339]\n",
      "   * Class 1\t 0.7668 [240 out of 313]\n",
      "   * Class 2\t 0.724 [223 out of 308]\n",
      "   * Mean        0.5136\n",
      "\n",
      "> ATTENTION: epoch 45 was the best one so far! The model has been saved :)\n",
      "\n",
      "==================================================================================\n"
     ]
    },
    {
     "name": "stderr",
     "output_type": "stream",
     "text": [
      "> Epoch 46: 100%|██████████| 60/60 [00:42<00:00,  1.42it/s]\n"
     ]
    },
    {
     "name": "stdout",
     "output_type": "stream",
     "text": [
      " - Training Loss        0.8112\n",
      " - Validation Loss      1.0487\n",
      " - Validation Accuracy  0.5281\n",
      "\n",
      " - Validation Accuracy (per class)\n",
      "   * Class 0\t 0.2242 [76 out of 339]\n",
      "   * Class 1\t 0.6837 [214 out of 313]\n",
      "   * Class 2\t 0.7045 [217 out of 308]\n",
      "   * Mean        0.5375\n",
      "\n",
      "> ATTENTION: epoch 46 was the best one so far! The model has been saved :)\n",
      "\n",
      "==================================================================================\n"
     ]
    },
    {
     "name": "stderr",
     "output_type": "stream",
     "text": [
      "> Epoch 47: 100%|██████████| 60/60 [00:42<00:00,  1.42it/s]\n"
     ]
    },
    {
     "name": "stdout",
     "output_type": "stream",
     "text": [
      " - Training Loss        0.7441\n",
      " - Validation Loss      1.0379\n",
      " - Validation Accuracy  0.6448\n",
      "\n",
      " - Validation Accuracy (per class)\n",
      "   * Class 0\t 0.4808 [163 out of 339]\n",
      "   * Class 1\t 0.7348 [230 out of 313]\n",
      "   * Class 2\t 0.7338 [226 out of 308]\n",
      "   * Mean        0.6498\n",
      "\n",
      "> ATTENTION: epoch 47 was the best one so far! The model has been saved :)\n",
      "\n",
      "==================================================================================\n"
     ]
    },
    {
     "name": "stderr",
     "output_type": "stream",
     "text": [
      "> Epoch 48: 100%|██████████| 60/60 [00:42<00:00,  1.41it/s]\n"
     ]
    },
    {
     "name": "stdout",
     "output_type": "stream",
     "text": [
      " - Training Loss        0.6662\n",
      " - Validation Loss      0.9278\n",
      " - Validation Accuracy  0.6813\n",
      "\n",
      " - Validation Accuracy (per class)\n",
      "   * Class 0\t 0.5782 [196 out of 339]\n",
      "   * Class 1\t 0.8403 [263 out of 313]\n",
      "   * Class 2\t 0.6331 [195 out of 308]\n",
      "   * Mean        0.6839\n",
      "\n",
      "> ATTENTION: epoch 48 was the best one so far! The model has been saved :)\n",
      "\n",
      "==================================================================================\n"
     ]
    },
    {
     "name": "stderr",
     "output_type": "stream",
     "text": [
      "> Epoch 49: 100%|██████████| 60/60 [00:42<00:00,  1.42it/s]\n"
     ]
    },
    {
     "name": "stdout",
     "output_type": "stream",
     "text": [
      " - Training Loss        0.609\n",
      " - Validation Loss      0.9167\n",
      " - Validation Accuracy  0.7094\n",
      "\n",
      " - Validation Accuracy (per class)\n",
      "   * Class 0\t 0.6342 [215 out of 339]\n",
      "   * Class 1\t 0.8179 [256 out of 313]\n",
      "   * Class 2\t 0.6818 [210 out of 308]\n",
      "   * Mean        0.7113\n",
      "\n",
      "> ATTENTION: epoch 49 was the best one so far! The model has been saved :)\n",
      "\n",
      "==================================================================================\n"
     ]
    },
    {
     "name": "stderr",
     "output_type": "stream",
     "text": [
      "> Epoch 50: 100%|██████████| 60/60 [00:42<00:00,  1.42it/s]\n"
     ]
    },
    {
     "name": "stdout",
     "output_type": "stream",
     "text": [
      " - Training Loss        0.5815\n",
      " - Validation Loss      0.9343\n",
      " - Validation Accuracy  0.6813\n",
      "\n",
      " - Validation Accuracy (per class)\n",
      "   * Class 0\t 0.5811 [197 out of 339]\n",
      "   * Class 1\t 0.8339 [261 out of 313]\n",
      "   * Class 2\t 0.6364 [196 out of 308]\n",
      "   * Mean        0.6838\n",
      "\n",
      "==================================================================================\n",
      "> Parameters imported\n",
      "> Dataset correctly divided in training set, validation set and test set\n",
      "> Created Pytorch datasets and dataloaders\n",
      "> Model 'LSTM_fixed' instantiated\n",
      "> Initialization required 0.204 seconds\n",
      "\n",
      "MODEL 7 DETAILS\n",
      " * EMBEDDING_DIM  2048\n",
      " * HIDDEN_DIM     2048\n",
      " * LEARNING_RATE  0.0001\n",
      " * DROPOUT_P      0.0\n",
      "\n",
      "==================================================================================\n",
      "> Training Started\n",
      "  - Total Epochs: 50\n",
      "==================================================================================\n"
     ]
    },
    {
     "name": "stderr",
     "output_type": "stream",
     "text": [
      "> Epoch 1: 100%|██████████| 60/60 [01:38<00:00,  1.65s/it]\n"
     ]
    },
    {
     "name": "stdout",
     "output_type": "stream",
     "text": [
      " - Training Loss        1.1048\n",
      " - Validation Loss      1.1098\n",
      " - Validation Accuracy  0.3354\n",
      "\n",
      " - Validation Accuracy (per class)\n",
      "   * Class 0\t 0.0413 [14 out of 339]\n",
      "   * Class 1\t 0.9105 [285 out of 313]\n",
      "   * Class 2\t 0.0747 [23 out of 308]\n",
      "   * Mean        0.3422\n",
      "\n",
      "> ATTENTION: epoch 1 was the best one so far! The model has been saved :)\n",
      "\n",
      "==================================================================================\n"
     ]
    },
    {
     "name": "stderr",
     "output_type": "stream",
     "text": [
      "> Epoch 2: 100%|██████████| 60/60 [01:38<00:00,  1.64s/it]\n"
     ]
    },
    {
     "name": "stdout",
     "output_type": "stream",
     "text": [
      " - Training Loss        1.0489\n",
      " - Validation Loss      1.1226\n",
      " - Validation Accuracy  0.3344\n",
      "\n",
      " - Validation Accuracy (per class)\n",
      "   * Class 0\t 0.0177 [6 out of 339]\n",
      "   * Class 1\t 0.9137 [286 out of 313]\n",
      "   * Class 2\t 0.0942 [29 out of 308]\n",
      "   * Mean        0.3419\n",
      "\n",
      "==================================================================================\n"
     ]
    },
    {
     "name": "stderr",
     "output_type": "stream",
     "text": [
      "> Epoch 3: 100%|██████████| 60/60 [01:38<00:00,  1.65s/it]\n"
     ]
    },
    {
     "name": "stdout",
     "output_type": "stream",
     "text": [
      " - Training Loss        1.0104\n",
      " - Validation Loss      1.1342\n",
      " - Validation Accuracy  0.3219\n",
      "\n",
      " - Validation Accuracy (per class)\n",
      "   * Class 0\t 0.0472 [16 out of 339]\n",
      "   * Class 1\t 0.0256 [8 out of 313]\n",
      "   * Class 2\t 0.9253 [285 out of 308]\n",
      "   * Mean        0.3327\n",
      "\n",
      "==================================================================================\n"
     ]
    },
    {
     "name": "stderr",
     "output_type": "stream",
     "text": [
      "> Epoch 4: 100%|██████████| 60/60 [01:38<00:00,  1.65s/it]\n"
     ]
    },
    {
     "name": "stdout",
     "output_type": "stream",
     "text": [
      " - Training Loss        0.9709\n",
      " - Validation Loss      1.1675\n",
      " - Validation Accuracy  0.3396\n",
      "\n",
      " - Validation Accuracy (per class)\n",
      "   * Class 0\t 0.0472 [16 out of 339]\n",
      "   * Class 1\t 0.9201 [288 out of 313]\n",
      "   * Class 2\t 0.0714 [22 out of 308]\n",
      "   * Mean        0.3462\n",
      "\n",
      "> ATTENTION: epoch 4 was the best one so far! The model has been saved :)\n",
      "\n",
      "==================================================================================\n"
     ]
    },
    {
     "name": "stderr",
     "output_type": "stream",
     "text": [
      "> Epoch 5: 100%|██████████| 60/60 [01:39<00:00,  1.65s/it]\n"
     ]
    },
    {
     "name": "stdout",
     "output_type": "stream",
     "text": [
      " - Training Loss        0.9488\n",
      " - Validation Loss      1.2122\n",
      " - Validation Accuracy  0.3281\n",
      "\n",
      " - Validation Accuracy (per class)\n",
      "   * Class 0\t 0.0678 [23 out of 339]\n",
      "   * Class 1\t 0.0096 [3 out of 313]\n",
      "   * Class 2\t 0.9383 [289 out of 308]\n",
      "   * Mean        0.3386\n",
      "\n",
      "==================================================================================\n"
     ]
    },
    {
     "name": "stderr",
     "output_type": "stream",
     "text": [
      "> Epoch 6: 100%|██████████| 60/60 [01:39<00:00,  1.65s/it]\n"
     ]
    },
    {
     "name": "stdout",
     "output_type": "stream",
     "text": [
      " - Training Loss        0.9469\n",
      " - Validation Loss      1.2003\n",
      " - Validation Accuracy  0.3375\n",
      "\n",
      " - Validation Accuracy (per class)\n",
      "   * Class 0\t 0.0442 [15 out of 339]\n",
      "   * Class 1\t 0.9201 [288 out of 313]\n",
      "   * Class 2\t 0.0682 [21 out of 308]\n",
      "   * Mean        0.3442\n",
      "\n",
      "==================================================================================\n"
     ]
    },
    {
     "name": "stderr",
     "output_type": "stream",
     "text": [
      "> Epoch 7: 100%|██████████| 60/60 [01:39<00:00,  1.66s/it]\n"
     ]
    },
    {
     "name": "stdout",
     "output_type": "stream",
     "text": [
      " - Training Loss        0.942\n",
      " - Validation Loss      1.2161\n",
      " - Validation Accuracy  0.3365\n",
      "\n",
      " - Validation Accuracy (per class)\n",
      "   * Class 0\t 0.059 [20 out of 339]\n",
      "   * Class 1\t 0.9042 [283 out of 313]\n",
      "   * Class 2\t 0.0649 [20 out of 308]\n",
      "   * Mean        0.3427\n",
      "\n",
      "==================================================================================\n"
     ]
    },
    {
     "name": "stderr",
     "output_type": "stream",
     "text": [
      "> Epoch 8: 100%|██████████| 60/60 [01:40<00:00,  1.67s/it]\n"
     ]
    },
    {
     "name": "stdout",
     "output_type": "stream",
     "text": [
      " - Training Loss        0.9425\n",
      " - Validation Loss      1.231\n",
      " - Validation Accuracy  0.3385\n",
      "\n",
      " - Validation Accuracy (per class)\n",
      "   * Class 0\t 0.0531 [18 out of 339]\n",
      "   * Class 1\t 0.9169 [287 out of 313]\n",
      "   * Class 2\t 0.0649 [20 out of 308]\n",
      "   * Mean        0.345\n",
      "\n",
      "==================================================================================\n"
     ]
    },
    {
     "name": "stderr",
     "output_type": "stream",
     "text": [
      "> Epoch 9: 100%|██████████| 60/60 [01:40<00:00,  1.68s/it]\n"
     ]
    },
    {
     "name": "stdout",
     "output_type": "stream",
     "text": [
      " - Training Loss        0.9419\n",
      " - Validation Loss      1.2328\n",
      " - Validation Accuracy  0.3344\n",
      "\n",
      " - Validation Accuracy (per class)\n",
      "   * Class 0\t 0.0531 [18 out of 339]\n",
      "   * Class 1\t 0.9169 [287 out of 313]\n",
      "   * Class 2\t 0.0519 [16 out of 308]\n",
      "   * Mean        0.3406\n",
      "\n",
      "==================================================================================\n"
     ]
    },
    {
     "name": "stderr",
     "output_type": "stream",
     "text": [
      "> Epoch 10: 100%|██████████| 60/60 [01:40<00:00,  1.68s/it]\n"
     ]
    },
    {
     "name": "stdout",
     "output_type": "stream",
     "text": [
      " - Training Loss        0.9399\n",
      " - Validation Loss      1.2331\n",
      " - Validation Accuracy  0.3354\n",
      "\n",
      " - Validation Accuracy (per class)\n",
      "   * Class 0\t 0.0531 [18 out of 339]\n",
      "   * Class 1\t 0.9105 [285 out of 313]\n",
      "   * Class 2\t 0.0617 [19 out of 308]\n",
      "   * Mean        0.3418\n",
      "\n",
      "==================================================================================\n"
     ]
    },
    {
     "name": "stderr",
     "output_type": "stream",
     "text": [
      "> Epoch 11: 100%|██████████| 60/60 [01:39<00:00,  1.66s/it]\n"
     ]
    },
    {
     "name": "stdout",
     "output_type": "stream",
     "text": [
      " - Training Loss        0.9403\n",
      " - Validation Loss      1.2541\n",
      " - Validation Accuracy  0.3365\n",
      "\n",
      " - Validation Accuracy (per class)\n",
      "   * Class 0\t 0.056 [19 out of 339]\n",
      "   * Class 1\t 0.9105 [285 out of 313]\n",
      "   * Class 2\t 0.0617 [19 out of 308]\n",
      "   * Mean        0.3427\n",
      "\n",
      "==================================================================================\n"
     ]
    },
    {
     "name": "stderr",
     "output_type": "stream",
     "text": [
      "> Epoch 12: 100%|██████████| 60/60 [01:39<00:00,  1.66s/it]\n"
     ]
    },
    {
     "name": "stdout",
     "output_type": "stream",
     "text": [
      " - Training Loss        0.9397\n",
      " - Validation Loss      1.2726\n",
      " - Validation Accuracy  0.3396\n",
      "\n",
      " - Validation Accuracy (per class)\n",
      "   * Class 0\t 0.059 [20 out of 339]\n",
      "   * Class 1\t 0.9169 [287 out of 313]\n",
      "   * Class 2\t 0.0617 [19 out of 308]\n",
      "   * Mean        0.3459\n",
      "\n",
      "==================================================================================\n"
     ]
    },
    {
     "name": "stderr",
     "output_type": "stream",
     "text": [
      "> Epoch 13: 100%|██████████| 60/60 [01:39<00:00,  1.66s/it]\n"
     ]
    },
    {
     "name": "stdout",
     "output_type": "stream",
     "text": [
      " - Training Loss        0.9394\n",
      " - Validation Loss      1.2943\n",
      " - Validation Accuracy  0.3354\n",
      "\n",
      " - Validation Accuracy (per class)\n",
      "   * Class 0\t 0.056 [19 out of 339]\n",
      "   * Class 1\t 0.9105 [285 out of 313]\n",
      "   * Class 2\t 0.0584 [18 out of 308]\n",
      "   * Mean        0.3416\n",
      "\n",
      "==================================================================================\n"
     ]
    },
    {
     "name": "stderr",
     "output_type": "stream",
     "text": [
      "> Epoch 14: 100%|██████████| 60/60 [01:40<00:00,  1.68s/it]\n"
     ]
    },
    {
     "name": "stdout",
     "output_type": "stream",
     "text": [
      " - Training Loss        0.9404\n",
      " - Validation Loss      1.2302\n",
      " - Validation Accuracy  0.3365\n",
      "\n",
      " - Validation Accuracy (per class)\n",
      "   * Class 0\t 0.056 [19 out of 339]\n",
      "   * Class 1\t 0.9137 [286 out of 313]\n",
      "   * Class 2\t 0.0584 [18 out of 308]\n",
      "   * Mean        0.3427\n",
      "\n",
      "==================================================================================\n"
     ]
    },
    {
     "name": "stderr",
     "output_type": "stream",
     "text": [
      "> Epoch 15: 100%|██████████| 60/60 [01:40<00:00,  1.67s/it]\n"
     ]
    },
    {
     "name": "stdout",
     "output_type": "stream",
     "text": [
      " - Training Loss        0.9397\n",
      " - Validation Loss      1.2369\n",
      " - Validation Accuracy  0.3406\n",
      "\n",
      " - Validation Accuracy (per class)\n",
      "   * Class 0\t 0.059 [20 out of 339]\n",
      "   * Class 1\t 0.9137 [286 out of 313]\n",
      "   * Class 2\t 0.0682 [21 out of 308]\n",
      "   * Mean        0.347\n",
      "\n",
      "> ATTENTION: epoch 15 was the best one so far! The model has been saved :)\n",
      "\n",
      "==================================================================================\n"
     ]
    },
    {
     "name": "stderr",
     "output_type": "stream",
     "text": [
      "> Epoch 16: 100%|██████████| 60/60 [01:40<00:00,  1.68s/it]\n"
     ]
    },
    {
     "name": "stdout",
     "output_type": "stream",
     "text": [
      " - Training Loss        0.9391\n",
      " - Validation Loss      1.2472\n",
      " - Validation Accuracy  0.3438\n",
      "\n",
      " - Validation Accuracy (per class)\n",
      "   * Class 0\t 0.0619 [21 out of 339]\n",
      "   * Class 1\t 0.9137 [286 out of 313]\n",
      "   * Class 2\t 0.0747 [23 out of 308]\n",
      "   * Mean        0.3501\n",
      "\n",
      "> ATTENTION: epoch 16 was the best one so far! The model has been saved :)\n",
      "\n",
      "==================================================================================\n"
     ]
    },
    {
     "name": "stderr",
     "output_type": "stream",
     "text": [
      "> Epoch 17: 100%|██████████| 60/60 [01:40<00:00,  1.67s/it]\n"
     ]
    },
    {
     "name": "stdout",
     "output_type": "stream",
     "text": [
      " - Training Loss        0.9397\n",
      " - Validation Loss      1.2482\n",
      " - Validation Accuracy  0.3365\n",
      "\n",
      " - Validation Accuracy (per class)\n",
      "   * Class 0\t 0.059 [20 out of 339]\n",
      "   * Class 1\t 0.9073 [284 out of 313]\n",
      "   * Class 2\t 0.0617 [19 out of 308]\n",
      "   * Mean        0.3427\n",
      "\n",
      "==================================================================================\n"
     ]
    },
    {
     "name": "stderr",
     "output_type": "stream",
     "text": [
      "> Epoch 18: 100%|██████████| 60/60 [01:40<00:00,  1.68s/it]\n"
     ]
    },
    {
     "name": "stdout",
     "output_type": "stream",
     "text": [
      " - Training Loss        0.9386\n",
      " - Validation Loss      1.2646\n",
      " - Validation Accuracy  0.3333\n",
      "\n",
      " - Validation Accuracy (per class)\n",
      "   * Class 0\t 0.0531 [18 out of 339]\n",
      "   * Class 1\t 0.9073 [284 out of 313]\n",
      "   * Class 2\t 0.0584 [18 out of 308]\n",
      "   * Mean        0.3396\n",
      "\n",
      "==================================================================================\n"
     ]
    },
    {
     "name": "stderr",
     "output_type": "stream",
     "text": [
      "> Epoch 19: 100%|██████████| 60/60 [01:40<00:00,  1.68s/it]\n"
     ]
    },
    {
     "name": "stdout",
     "output_type": "stream",
     "text": [
      " - Training Loss        0.9538\n",
      " - Validation Loss      1.2572\n",
      " - Validation Accuracy  0.3229\n",
      "\n",
      " - Validation Accuracy (per class)\n",
      "   * Class 0\t 0.0708 [24 out of 339]\n",
      "   * Class 1\t 0.0383 [12 out of 313]\n",
      "   * Class 2\t 0.8896 [274 out of 308]\n",
      "   * Mean        0.3329\n",
      "\n",
      "==================================================================================\n"
     ]
    },
    {
     "name": "stderr",
     "output_type": "stream",
     "text": [
      "> Epoch 20: 100%|██████████| 60/60 [01:41<00:00,  1.69s/it]\n"
     ]
    },
    {
     "name": "stdout",
     "output_type": "stream",
     "text": [
      " - Training Loss        0.9575\n",
      " - Validation Loss      1.1959\n",
      " - Validation Accuracy  0.325\n",
      "\n",
      " - Validation Accuracy (per class)\n",
      "   * Class 0\t 0.0531 [18 out of 339]\n",
      "   * Class 1\t 0.0288 [9 out of 313]\n",
      "   * Class 2\t 0.9253 [285 out of 308]\n",
      "   * Mean        0.3357\n",
      "\n",
      "==================================================================================\n"
     ]
    },
    {
     "name": "stderr",
     "output_type": "stream",
     "text": [
      "> Epoch 21: 100%|██████████| 60/60 [01:39<00:00,  1.66s/it]\n"
     ]
    },
    {
     "name": "stdout",
     "output_type": "stream",
     "text": [
      " - Training Loss        0.9414\n",
      " - Validation Loss      1.2189\n",
      " - Validation Accuracy  0.3406\n",
      "\n",
      " - Validation Accuracy (per class)\n",
      "   * Class 0\t 0.0531 [18 out of 339]\n",
      "   * Class 1\t 0.9137 [286 out of 313]\n",
      "   * Class 2\t 0.0747 [23 out of 308]\n",
      "   * Mean        0.3472\n",
      "\n",
      "==================================================================================\n"
     ]
    },
    {
     "name": "stderr",
     "output_type": "stream",
     "text": [
      "> Epoch 22: 100%|██████████| 60/60 [01:39<00:00,  1.66s/it]\n"
     ]
    },
    {
     "name": "stdout",
     "output_type": "stream",
     "text": [
      " - Training Loss        0.9404\n",
      " - Validation Loss      1.2167\n",
      " - Validation Accuracy  0.349\n",
      "\n",
      " - Validation Accuracy (per class)\n",
      "   * Class 0\t 0.0678 [23 out of 339]\n",
      "   * Class 1\t 0.9137 [286 out of 313]\n",
      "   * Class 2\t 0.0844 [26 out of 308]\n",
      "   * Mean        0.3553\n",
      "\n",
      "> ATTENTION: epoch 22 was the best one so far! The model has been saved :)\n",
      "\n",
      "==================================================================================\n"
     ]
    },
    {
     "name": "stderr",
     "output_type": "stream",
     "text": [
      "> Epoch 23: 100%|██████████| 60/60 [01:39<00:00,  1.65s/it]\n"
     ]
    },
    {
     "name": "stdout",
     "output_type": "stream",
     "text": [
      " - Training Loss        0.9402\n",
      " - Validation Loss      1.2219\n",
      " - Validation Accuracy  0.3333\n",
      "\n",
      " - Validation Accuracy (per class)\n",
      "   * Class 0\t 0.0649 [22 out of 339]\n",
      "   * Class 1\t 0.0288 [9 out of 313]\n",
      "   * Class 2\t 0.9383 [289 out of 308]\n",
      "   * Mean        0.344\n",
      "\n",
      "==================================================================================\n"
     ]
    },
    {
     "name": "stderr",
     "output_type": "stream",
     "text": [
      "> Epoch 24: 100%|██████████| 60/60 [01:38<00:00,  1.65s/it]\n"
     ]
    },
    {
     "name": "stdout",
     "output_type": "stream",
     "text": [
      " - Training Loss        0.9401\n",
      " - Validation Loss      1.2299\n",
      " - Validation Accuracy  0.3469\n",
      "\n",
      " - Validation Accuracy (per class)\n",
      "   * Class 0\t 0.0649 [22 out of 339]\n",
      "   * Class 1\t 0.9169 [287 out of 313]\n",
      "   * Class 2\t 0.0779 [24 out of 308]\n",
      "   * Mean        0.3532\n",
      "\n",
      "==================================================================================\n"
     ]
    },
    {
     "name": "stderr",
     "output_type": "stream",
     "text": [
      "> Epoch 25: 100%|██████████| 60/60 [01:39<00:00,  1.65s/it]\n"
     ]
    },
    {
     "name": "stdout",
     "output_type": "stream",
     "text": [
      " - Training Loss        0.9396\n",
      " - Validation Loss      1.2404\n",
      " - Validation Accuracy  0.3458\n",
      "\n",
      " - Validation Accuracy (per class)\n",
      "   * Class 0\t 0.0619 [21 out of 339]\n",
      "   * Class 1\t 0.9169 [287 out of 313]\n",
      "   * Class 2\t 0.0779 [24 out of 308]\n",
      "   * Mean        0.3522\n",
      "\n",
      "==================================================================================\n"
     ]
    },
    {
     "name": "stderr",
     "output_type": "stream",
     "text": [
      "> Epoch 26: 100%|██████████| 60/60 [01:39<00:00,  1.65s/it]\n"
     ]
    },
    {
     "name": "stdout",
     "output_type": "stream",
     "text": [
      " - Training Loss        0.9397\n",
      " - Validation Loss      1.2488\n",
      " - Validation Accuracy  0.3427\n",
      "\n",
      " - Validation Accuracy (per class)\n",
      "   * Class 0\t 0.059 [20 out of 339]\n",
      "   * Class 1\t 0.9073 [284 out of 313]\n",
      "   * Class 2\t 0.0812 [25 out of 308]\n",
      "   * Mean        0.3492\n",
      "\n",
      "==================================================================================\n"
     ]
    },
    {
     "name": "stderr",
     "output_type": "stream",
     "text": [
      "> Epoch 27: 100%|██████████| 60/60 [01:39<00:00,  1.65s/it]\n"
     ]
    },
    {
     "name": "stdout",
     "output_type": "stream",
     "text": [
      " - Training Loss        0.9394\n",
      " - Validation Loss      1.2588\n",
      " - Validation Accuracy  0.3406\n",
      "\n",
      " - Validation Accuracy (per class)\n",
      "   * Class 0\t 0.059 [20 out of 339]\n",
      "   * Class 1\t 0.9073 [284 out of 313]\n",
      "   * Class 2\t 0.0747 [23 out of 308]\n",
      "   * Mean        0.347\n",
      "\n",
      "==================================================================================\n"
     ]
    },
    {
     "name": "stderr",
     "output_type": "stream",
     "text": [
      "> Epoch 28: 100%|██████████| 60/60 [01:39<00:00,  1.65s/it]\n"
     ]
    },
    {
     "name": "stdout",
     "output_type": "stream",
     "text": [
      " - Training Loss        0.939\n",
      " - Validation Loss      1.2659\n",
      " - Validation Accuracy  0.3417\n",
      "\n",
      " - Validation Accuracy (per class)\n",
      "   * Class 0\t 0.056 [19 out of 339]\n",
      "   * Class 1\t 0.9073 [284 out of 313]\n",
      "   * Class 2\t 0.0812 [25 out of 308]\n",
      "   * Mean        0.3482\n",
      "\n",
      "==================================================================================\n"
     ]
    },
    {
     "name": "stderr",
     "output_type": "stream",
     "text": [
      "> Epoch 29: 100%|██████████| 60/60 [01:39<00:00,  1.66s/it]\n"
     ]
    },
    {
     "name": "stdout",
     "output_type": "stream",
     "text": [
      " - Training Loss        0.9388\n",
      " - Validation Loss      1.2765\n",
      " - Validation Accuracy  0.3385\n",
      "\n",
      " - Validation Accuracy (per class)\n",
      "   * Class 0\t 0.056 [19 out of 339]\n",
      "   * Class 1\t 0.9073 [284 out of 313]\n",
      "   * Class 2\t 0.0714 [22 out of 308]\n",
      "   * Mean        0.3449\n",
      "\n",
      "==================================================================================\n"
     ]
    },
    {
     "name": "stderr",
     "output_type": "stream",
     "text": [
      "> Epoch 30: 100%|██████████| 60/60 [01:40<00:00,  1.68s/it]\n"
     ]
    },
    {
     "name": "stdout",
     "output_type": "stream",
     "text": [
      " - Training Loss        0.9384\n",
      " - Validation Loss      1.284\n",
      " - Validation Accuracy  0.3385\n",
      "\n",
      " - Validation Accuracy (per class)\n",
      "   * Class 0\t 0.056 [19 out of 339]\n",
      "   * Class 1\t 0.9073 [284 out of 313]\n",
      "   * Class 2\t 0.0714 [22 out of 308]\n",
      "   * Mean        0.3449\n",
      "\n",
      "==================================================================================\n"
     ]
    },
    {
     "name": "stderr",
     "output_type": "stream",
     "text": [
      "> Epoch 31: 100%|██████████| 60/60 [01:41<00:00,  1.69s/it]\n"
     ]
    },
    {
     "name": "stdout",
     "output_type": "stream",
     "text": [
      " - Training Loss        0.9384\n",
      " - Validation Loss      1.2851\n",
      " - Validation Accuracy  0.3417\n",
      "\n",
      " - Validation Accuracy (per class)\n",
      "   * Class 0\t 0.059 [20 out of 339]\n",
      "   * Class 1\t 0.9105 [285 out of 313]\n",
      "   * Class 2\t 0.0747 [23 out of 308]\n",
      "   * Mean        0.3481\n",
      "\n",
      "==================================================================================\n"
     ]
    },
    {
     "name": "stderr",
     "output_type": "stream",
     "text": [
      "> Epoch 32: 100%|██████████| 60/60 [01:41<00:00,  1.69s/it]\n"
     ]
    },
    {
     "name": "stdout",
     "output_type": "stream",
     "text": [
      " - Training Loss        0.9381\n",
      " - Validation Loss      1.2886\n",
      " - Validation Accuracy  0.3385\n",
      "\n",
      " - Validation Accuracy (per class)\n",
      "   * Class 0\t 0.059 [20 out of 339]\n",
      "   * Class 1\t 0.9073 [284 out of 313]\n",
      "   * Class 2\t 0.0682 [21 out of 308]\n",
      "   * Mean        0.3448\n",
      "\n",
      "==================================================================================\n"
     ]
    },
    {
     "name": "stderr",
     "output_type": "stream",
     "text": [
      "> Epoch 33: 100%|██████████| 60/60 [01:41<00:00,  1.69s/it]\n"
     ]
    },
    {
     "name": "stdout",
     "output_type": "stream",
     "text": [
      " - Training Loss        0.9382\n",
      " - Validation Loss      1.2954\n",
      " - Validation Accuracy  0.3396\n",
      "\n",
      " - Validation Accuracy (per class)\n",
      "   * Class 0\t 0.059 [20 out of 339]\n",
      "   * Class 1\t 0.9105 [285 out of 313]\n",
      "   * Class 2\t 0.0682 [21 out of 308]\n",
      "   * Mean        0.3459\n",
      "\n",
      "==================================================================================\n"
     ]
    },
    {
     "name": "stderr",
     "output_type": "stream",
     "text": [
      "> Epoch 34: 100%|██████████| 60/60 [04:05<00:00,  4.09s/it]\n"
     ]
    },
    {
     "name": "stdout",
     "output_type": "stream",
     "text": [
      " - Training Loss        0.9386\n",
      " - Validation Loss      1.2956\n",
      " - Validation Accuracy  0.3354\n",
      "\n",
      " - Validation Accuracy (per class)\n",
      "   * Class 0\t 0.056 [19 out of 339]\n",
      "   * Class 1\t 0.9073 [284 out of 313]\n",
      "   * Class 2\t 0.0617 [19 out of 308]\n",
      "   * Mean        0.3417\n",
      "\n",
      "==================================================================================\n"
     ]
    },
    {
     "name": "stderr",
     "output_type": "stream",
     "text": [
      "> Epoch 35: 100%|██████████| 60/60 [04:51<00:00,  4.85s/it]\n"
     ]
    },
    {
     "name": "stdout",
     "output_type": "stream",
     "text": [
      " - Training Loss        0.9385\n",
      " - Validation Loss      1.2864\n",
      " - Validation Accuracy  0.3365\n",
      "\n",
      " - Validation Accuracy (per class)\n",
      "   * Class 0\t 0.0501 [17 out of 339]\n",
      "   * Class 1\t 0.9073 [284 out of 313]\n",
      "   * Class 2\t 0.0714 [22 out of 308]\n",
      "   * Mean        0.3429\n",
      "\n",
      "==================================================================================\n"
     ]
    },
    {
     "name": "stderr",
     "output_type": "stream",
     "text": [
      "> Epoch 36: 100%|██████████| 60/60 [04:48<00:00,  4.81s/it]\n"
     ]
    },
    {
     "name": "stdout",
     "output_type": "stream",
     "text": [
      " - Training Loss        0.9382\n",
      " - Validation Loss      1.2947\n",
      " - Validation Accuracy  0.3417\n",
      "\n",
      " - Validation Accuracy (per class)\n",
      "   * Class 0\t 0.056 [19 out of 339]\n",
      "   * Class 1\t 0.9073 [284 out of 313]\n",
      "   * Class 2\t 0.0812 [25 out of 308]\n",
      "   * Mean        0.3482\n",
      "\n",
      "==================================================================================\n"
     ]
    },
    {
     "name": "stderr",
     "output_type": "stream",
     "text": [
      "> Epoch 37:  40%|████      | 24/60 [01:58<02:58,  4.95s/it]\n"
     ]
    },
    {
     "ename": "KeyboardInterrupt",
     "evalue": "",
     "output_type": "error",
     "traceback": [
      "\u001b[1;31m---------------------------------------------------------------------------\u001b[0m",
      "\u001b[1;31mKeyboardInterrupt\u001b[0m                         Traceback (most recent call last)",
      "\u001b[1;32mc:\\Users\\Daniele\\Documents\\Programmazione\\Github\\Uni_NLP2022_Exam\\02_network_and_practical\\src\\05.B_LSTM_fixed_length_grid_search.ipynb Cell 11'\u001b[0m in \u001b[0;36m<cell line: 3>\u001b[1;34m()\u001b[0m\n\u001b[0;32m     <a href='vscode-notebook-cell:/c%3A/Users/Daniele/Documents/Programmazione/Github/Uni_NLP2022_Exam/02_network_and_practical/src/05.B_LSTM_fixed_length_grid_search.ipynb#ch0000010?line=38'>39</a>\u001b[0m \u001b[39mprint\u001b[39m(\u001b[39mf\u001b[39m\u001b[39m\"\u001b[39m\u001b[39m * DROPOUT_P      \u001b[39m\u001b[39m{\u001b[39;00mDROPOUT_P\u001b[39m}\u001b[39;00m\u001b[39m\\n\u001b[39;00m\u001b[39m\"\u001b[39m)\n\u001b[0;32m     <a href='vscode-notebook-cell:/c%3A/Users/Daniele/Documents/Programmazione/Github/Uni_NLP2022_Exam/02_network_and_practical/src/05.B_LSTM_fixed_length_grid_search.ipynb#ch0000010?line=40'>41</a>\u001b[0m \u001b[39m# train the model\u001b[39;00m\n\u001b[1;32m---> <a href='vscode-notebook-cell:/c%3A/Users/Daniele/Documents/Programmazione/Github/Uni_NLP2022_Exam/02_network_and_practical/src/05.B_LSTM_fixed_length_grid_search.ipynb#ch0000010?line=41'>42</a>\u001b[0m LSTM_MODEL\u001b[39m.\u001b[39;49mtrain_model()\n\u001b[0;32m     <a href='vscode-notebook-cell:/c%3A/Users/Daniele/Documents/Programmazione/Github/Uni_NLP2022_Exam/02_network_and_practical/src/05.B_LSTM_fixed_length_grid_search.ipynb#ch0000010?line=43'>44</a>\u001b[0m iteration\u001b[39m+\u001b[39m\u001b[39m=\u001b[39m\u001b[39m1\u001b[39m\n",
      "File \u001b[1;32mc:\\Users\\Daniele\\Documents\\Programmazione\\Github\\Uni_NLP2022_Exam\\02_network_and_practical\\src\\utility\\models_pytorch.py:190\u001b[0m, in \u001b[0;36mPytorchModel.train_model\u001b[1;34m(self)\u001b[0m\n\u001b[0;32m    <a href='file:///c%3A/Users/Daniele/Documents/Programmazione/Github/Uni_NLP2022_Exam/02_network_and_practical/src/utility/models_pytorch.py?line=186'>187</a>\u001b[0m loss \u001b[39m=\u001b[39m F\u001b[39m.\u001b[39mcross_entropy(y_pred, y)\n\u001b[0;32m    <a href='file:///c%3A/Users/Daniele/Documents/Programmazione/Github/Uni_NLP2022_Exam/02_network_and_practical/src/utility/models_pytorch.py?line=188'>189</a>\u001b[0m \u001b[39m# CHECK FOR VANISHING/EXPLODING GRADIENT\u001b[39;00m\n\u001b[1;32m--> <a href='file:///c%3A/Users/Daniele/Documents/Programmazione/Github/Uni_NLP2022_Exam/02_network_and_practical/src/utility/models_pytorch.py?line=189'>190</a>\u001b[0m \u001b[39mif\u001b[39;00m torch\u001b[39m.\u001b[39misnan(loss):\n\u001b[0;32m    <a href='file:///c%3A/Users/Daniele/Documents/Programmazione/Github/Uni_NLP2022_Exam/02_network_and_practical/src/utility/models_pytorch.py?line=190'>191</a>\u001b[0m     \u001b[39mprint\u001b[39m(\u001b[39m\"\u001b[39m\u001b[39m-------------------------------------------------------------------\u001b[39m\u001b[39m\"\u001b[39m)\n\u001b[0;32m    <a href='file:///c%3A/Users/Daniele/Documents/Programmazione/Github/Uni_NLP2022_Exam/02_network_and_practical/src/utility/models_pytorch.py?line=191'>192</a>\u001b[0m     \u001b[39mprint\u001b[39m(\u001b[39m\"\u001b[39m\u001b[39mWARNING: the loss is now NaN, showing \u001b[39m\u001b[39m'\u001b[39m\u001b[39my_pred\u001b[39m\u001b[39m'\u001b[39m\u001b[39m and \u001b[39m\u001b[39m'\u001b[39m\u001b[39my\u001b[39m\u001b[39m'\u001b[39m\u001b[39m\"\u001b[39m)\n",
      "\u001b[1;31mKeyboardInterrupt\u001b[0m: "
     ]
    }
   ],
   "source": [
    "iteration = 1\n",
    "\n",
    "for EMBEDDING_DIM in EMBEDDING_DIM_LIST:\n",
    "    for HIDDEN_DIM in HIDDEN_DIM_LIST:\n",
    "        for LEARNING_RATE in LEARNING_RATE_LIST:\n",
    "            for DROPOUT_P in DROPOUT_P_LIST:\n",
    "\n",
    "                # re-import the class PytorchModel\n",
    "                # --> this is to be sure that each model is new, and not trained from the epoch of the previous one\n",
    "\n",
    "                importlib.reload(CustomPytorchModule)\n",
    "                PYTORCH_MODEL = CustomPytorchModule.PytorchModel\n",
    "\n",
    "                # instantiate the model with the current parameters\n",
    "                LSTM_MODEL = PYTORCH_MODEL(\n",
    "\n",
    "                    # set model and text language\n",
    "                    model_type      = \"LSTM_fixed\",\n",
    "                    dataset         = dataframe,\n",
    "                    language        = \"sv\",\n",
    "\n",
    "                    # set device, bacth size and epochs\n",
    "                    device          = device,\n",
    "                    batch_size      = 64,\n",
    "                    epochs          = 50,\n",
    "\n",
    "                    # set hyperparameters\n",
    "                    vocab_size      = COUNTS_SV,\n",
    "                    embedding_dim   = EMBEDDING_DIM,\n",
    "                    hidden_dim      = HIDDEN_DIM,\n",
    "                    learning_rate   = LEARNING_RATE,\n",
    "                    dropout_p       = DROPOUT_P\n",
    "                )\n",
    "\n",
    "                print(f\"\\nMODEL {iteration} DETAILS\")\n",
    "                print(f\" * EMBEDDING_DIM  {EMBEDDING_DIM}\")\n",
    "                print(f\" * HIDDEN_DIM     {HIDDEN_DIM}\")\n",
    "                print(f\" * LEARNING_RATE  {LEARNING_RATE}\")\n",
    "                print(f\" * DROPOUT_P      {DROPOUT_P}\\n\")\n",
    "\n",
    "                # train the model\n",
    "                LSTM_MODEL.train_model()\n",
    "\n",
    "                iteration+=1"
   ]
  }
 ],
 "metadata": {
  "interpreter": {
   "hash": "455534d435f7de67bc0026f9ceba702b21954bd7ad83505586b95ef58f556ae5"
  },
  "kernelspec": {
   "display_name": "Python 3.9.12 ('NLP_2022')",
   "language": "python",
   "name": "python3"
  },
  "language_info": {
   "codemirror_mode": {
    "name": "ipython",
    "version": 3
   },
   "file_extension": ".py",
   "mimetype": "text/x-python",
   "name": "python",
   "nbconvert_exporter": "python",
   "pygments_lexer": "ipython3",
   "version": "3.9.12"
  },
  "orig_nbformat": 4
 },
 "nbformat": 4,
 "nbformat_minor": 2
}
