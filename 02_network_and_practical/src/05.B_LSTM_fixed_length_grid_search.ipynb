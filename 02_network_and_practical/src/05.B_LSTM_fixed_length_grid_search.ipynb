{
 "cells": [
  {
   "cell_type": "markdown",
   "metadata": {},
   "source": [
    "## **NLP Practical**\n",
    "\n",
    "### **LSTM**\n",
    "\n",
    "We have seen in notebook 5.A that we can correctly train an LSTM in each language.\n",
    "\n",
    "We now have to tune the model, and store the best results."
   ]
  },
  {
   "cell_type": "markdown",
   "metadata": {},
   "source": [
    "#### **Libraries**\n",
    "\n",
    "We import the necessary libraries for the notebook."
   ]
  },
  {
   "cell_type": "code",
   "execution_count": null,
   "metadata": {},
   "outputs": [],
   "source": [
    "# general\n",
    "import pandas as pd\n",
    "from tqdm import tqdm\n",
    "tqdm.pandas()\n",
    "\n",
    "# pytorch\n",
    "import torch\n",
    "\n",
    "# reload libs\n",
    "import importlib\n",
    "\n",
    "# custom imports\n",
    "import utility.models_pytorch as CustomPytorchModule\n",
    "\n",
    "print(\"> Libraries Imported\")"
   ]
  },
  {
   "cell_type": "markdown",
   "metadata": {},
   "source": [
    "#### **Setup**\n",
    "\n",
    "- We set the device to *cuda*\n",
    "- We import the dataset"
   ]
  },
  {
   "cell_type": "code",
   "execution_count": null,
   "metadata": {},
   "outputs": [],
   "source": [
    "# Device configuration\n",
    "device = torch.device('cuda' if torch.cuda.is_available() else 'cpu')\n",
    "\n",
    "print(\"> Device:\", device)"
   ]
  },
  {
   "cell_type": "code",
   "execution_count": null,
   "metadata": {},
   "outputs": [],
   "source": [
    "dataframe = pd.read_pickle(\"../data/3_multi_eurlex_encoded.pkl\")\n",
    "dataframe.head(3)"
   ]
  },
  {
   "cell_type": "markdown",
   "metadata": {},
   "source": [
    "#### **Create a Grid Search for Fine Tuning**"
   ]
  },
  {
   "cell_type": "markdown",
   "metadata": {},
   "source": [
    "First, we setup the needed parameters."
   ]
  },
  {
   "cell_type": "code",
   "execution_count": null,
   "metadata": {},
   "outputs": [],
   "source": [
    "# Parameters setup\n",
    "\n",
    "COUNTS_EN = 3506\n",
    "COUNTS_DE = 4216\n",
    "COUNTS_IT = 4180\n",
    "COUNTS_PL = 5255\n",
    "COUNTS_SV = 4010\n",
    "\n",
    "EMBEDDING_DIM_LIST = [1024, 2048]\n",
    "HIDDEN_DIM_LIST = [1024, 2048]\n",
    "LEARNING_RATE_LIST = [0.0001, 0.001]\n",
    "DROPOUT_P_LIST = [0.0, 0.1]"
   ]
  },
  {
   "cell_type": "markdown",
   "metadata": {},
   "source": [
    "Then, we execute a grid search."
   ]
  },
  {
   "cell_type": "code",
   "execution_count": null,
   "metadata": {},
   "outputs": [],
   "source": [
    "for EMBEDDING_DIM in EMBEDDING_DIM_LIST:\n",
    "    for HIDDEN_DIM in HIDDEN_DIM_LIST:\n",
    "        for LEARNING_RATE in LEARNING_RATE_LIST:\n",
    "            for DROPOUT_P in DROPOUT_P_LIST:\n",
    "\n",
    "                # re-import the class PytorchModel\n",
    "                # --> this is to be sure that each model is new, and not trained from the epoch of the previous one\n",
    "\n",
    "                importlib.reload(CustomPytorchModule)\n",
    "                PYTORCH_MODEL = CustomPytorchModule.PytorchModel\n",
    "\n",
    "                # instantiate the model with the current parameters\n",
    "                LSTM_MODEL = PYTORCH_MODEL(\n",
    "\n",
    "                    # set model and text language\n",
    "                    model_type      = \"LSTM_fixed\",\n",
    "                    dataset         = dataframe,\n",
    "                    language        = \"en\",\n",
    "\n",
    "                    # set device, bacth size and epochs\n",
    "                    device          = device,\n",
    "                    batch_size      = 64,\n",
    "                    epochs          = 50,\n",
    "\n",
    "                    # set hyperparameters\n",
    "                    vocab_size      = COUNTS_EN,\n",
    "                    embedding_dim   = EMBEDDING_DIM,\n",
    "                    hidden_dim      = HIDDEN_DIM,\n",
    "                    learning_rate   = LEARNING_RATE,\n",
    "                    dropout_p       = DROPOUT_P\n",
    "                )"
   ]
  }
 ],
 "metadata": {
  "interpreter": {
   "hash": "455534d435f7de67bc0026f9ceba702b21954bd7ad83505586b95ef58f556ae5"
  },
  "kernelspec": {
   "display_name": "Python 3.9.12 ('NLP_2022')",
   "language": "python",
   "name": "python3"
  },
  "language_info": {
   "codemirror_mode": {
    "name": "ipython",
    "version": 3
   },
   "file_extension": ".py",
   "mimetype": "text/x-python",
   "name": "python",
   "nbconvert_exporter": "python",
   "pygments_lexer": "ipython3",
   "version": "3.9.12"
  },
  "orig_nbformat": 4
 },
 "nbformat": 4,
 "nbformat_minor": 2
}
