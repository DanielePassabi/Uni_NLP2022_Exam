{
 "cells": [
  {
   "cell_type": "markdown",
   "metadata": {},
   "source": [
    "## **Introduction to ML for NLP [Network + Practical]**\n",
    "\n",
    "### **LSTM**\n",
    "\n",
    "We have seen in notebook 5.A that we can correctly train an LSTM in each language.\n",
    "\n",
    "We now have to tune the model, and store the best results."
   ]
  },
  {
   "cell_type": "markdown",
   "metadata": {},
   "source": [
    "#### **Libraries**\n",
    "\n",
    "We import the necessary libraries for the notebook."
   ]
  },
  {
   "cell_type": "code",
   "execution_count": 1,
   "metadata": {},
   "outputs": [
    {
     "name": "stdout",
     "output_type": "stream",
     "text": [
      "> Libraries Imported\n"
     ]
    }
   ],
   "source": [
    "# general\n",
    "import pandas as pd\n",
    "from tqdm import tqdm\n",
    "tqdm.pandas()\n",
    "\n",
    "# pytorch\n",
    "import torch\n",
    "\n",
    "# reload libs\n",
    "import importlib\n",
    "\n",
    "# custom imports\n",
    "import utility.models_pytorch as CustomPytorchModule\n",
    "\n",
    "print(\"> Libraries Imported\")"
   ]
  },
  {
   "cell_type": "markdown",
   "metadata": {},
   "source": [
    "#### **Setup**\n",
    "\n",
    "- We set the device to *cuda*\n",
    "- We import the dataset"
   ]
  },
  {
   "cell_type": "code",
   "execution_count": 2,
   "metadata": {},
   "outputs": [
    {
     "name": "stdout",
     "output_type": "stream",
     "text": [
      "> Device: cuda\n"
     ]
    }
   ],
   "source": [
    "# Device configuration\n",
    "device = torch.device('cuda' if torch.cuda.is_available() else 'cpu')\n",
    "\n",
    "print(\"> Device:\", device)"
   ]
  },
  {
   "cell_type": "code",
   "execution_count": 3,
   "metadata": {},
   "outputs": [
    {
     "data": {
      "text/html": [
       "<div>\n",
       "<style scoped>\n",
       "    .dataframe tbody tr th:only-of-type {\n",
       "        vertical-align: middle;\n",
       "    }\n",
       "\n",
       "    .dataframe tbody tr th {\n",
       "        vertical-align: top;\n",
       "    }\n",
       "\n",
       "    .dataframe thead th {\n",
       "        text-align: right;\n",
       "    }\n",
       "</style>\n",
       "<table border=\"1\" class=\"dataframe\">\n",
       "  <thead>\n",
       "    <tr style=\"text-align: right;\">\n",
       "      <th></th>\n",
       "      <th>celex_id</th>\n",
       "      <th>labels</th>\n",
       "      <th>labels_new</th>\n",
       "      <th>text_en</th>\n",
       "      <th>text_de</th>\n",
       "      <th>text_it</th>\n",
       "      <th>text_pl</th>\n",
       "      <th>text_sv</th>\n",
       "      <th>text_en_enc</th>\n",
       "      <th>text_de_enc</th>\n",
       "      <th>text_it_enc</th>\n",
       "      <th>text_pl_enc</th>\n",
       "      <th>text_sv_enc</th>\n",
       "      <th>set</th>\n",
       "    </tr>\n",
       "  </thead>\n",
       "  <tbody>\n",
       "    <tr>\n",
       "      <th>0</th>\n",
       "      <td>32010D0395</td>\n",
       "      <td>2</td>\n",
       "      <td>0</td>\n",
       "      <td>commission decision of december on state aid c...</td>\n",
       "      <td>beschluss der kommission vom dezember uber die...</td>\n",
       "      <td>decisione della commissione del dicembre conce...</td>\n",
       "      <td>decyzja komisji z dnia grudnia r w sprawie pom...</td>\n",
       "      <td>kommissionens beslut av den december om det st...</td>\n",
       "      <td>[[2, 3, 4, 5, 6, 7, 8, 9, 10, 11, 12, 13, 14, ...</td>\n",
       "      <td>[[2, 3, 4, 5, 6, 7, 8, 9, 10, 11, 12, 13, 14, ...</td>\n",
       "      <td>[[2, 3, 4, 5, 6, 7, 8, 9, 10, 11, 12, 13, 14, ...</td>\n",
       "      <td>[[2, 3, 4, 5, 6, 7, 8, 9, 10, 11, 12, 13, 14, ...</td>\n",
       "      <td>[[2, 3, 4, 5, 6, 7, 8, 9, 10, 11, 12, 13, 14, ...</td>\n",
       "      <td>train</td>\n",
       "    </tr>\n",
       "    <tr>\n",
       "      <th>1</th>\n",
       "      <td>32012R0453</td>\n",
       "      <td>2</td>\n",
       "      <td>0</td>\n",
       "      <td>commission implementing regulation eu no of ma...</td>\n",
       "      <td>durchfuhrungsverordnung eu nr der kommission v...</td>\n",
       "      <td>regolamento di esecuzione ue n della commissio...</td>\n",
       "      <td>rozporzadzenie wykonawcze komisji ue nr z dnia...</td>\n",
       "      <td>kommissionens genomforandeforordning eu nr av ...</td>\n",
       "      <td>[[2, 1275, 1276, 29, 100, 4, 743, 1277, 15, 12...</td>\n",
       "      <td>[[1302, 33, 1303, 3, 4, 5, 807, 15, 1304, 3, 6...</td>\n",
       "      <td>[[453, 10, 1422, 38, 14, 3, 4, 5, 990, 1423, 1...</td>\n",
       "      <td>[[1753, 1754, 3, 34, 24, 4, 5, 829, 7, 1755, 9...</td>\n",
       "      <td>[[2, 1239, 33, 23, 4, 5, 806, 7, 774, 4, 132, ...</td>\n",
       "      <td>train</td>\n",
       "    </tr>\n",
       "    <tr>\n",
       "      <th>2</th>\n",
       "      <td>32012D0043</td>\n",
       "      <td>2</td>\n",
       "      <td>0</td>\n",
       "      <td>commission implementing decision of january au...</td>\n",
       "      <td>durchfuhrungsbeschluss der kommission vom janu...</td>\n",
       "      <td>decisione di esecuzione della commissione del ...</td>\n",
       "      <td>decyzja wykonawcza komisji z dnia stycznia r u...</td>\n",
       "      <td>kommissionens genomforandebeslut av den januar...</td>\n",
       "      <td>[[2, 1275, 3, 4, 1310, 1311, 15, 1015, 4, 1312...</td>\n",
       "      <td>[[1344, 3, 4, 5, 1345, 15, 1346, 74, 1347, 134...</td>\n",
       "      <td>[[2, 10, 1422, 3, 4, 5, 1454, 245, 1455, 24, 1...</td>\n",
       "      <td>[[2, 1791, 3, 4, 5, 1792, 7, 1, 1793, 1794, 65...</td>\n",
       "      <td>[[2, 1279, 4, 5, 1280, 7, 1281, 19, 1282, 1283...</td>\n",
       "      <td>train</td>\n",
       "    </tr>\n",
       "  </tbody>\n",
       "</table>\n",
       "</div>"
      ],
      "text/plain": [
       "     celex_id  labels  labels_new  \\\n",
       "0  32010D0395       2           0   \n",
       "1  32012R0453       2           0   \n",
       "2  32012D0043       2           0   \n",
       "\n",
       "                                             text_en  \\\n",
       "0  commission decision of december on state aid c...   \n",
       "1  commission implementing regulation eu no of ma...   \n",
       "2  commission implementing decision of january au...   \n",
       "\n",
       "                                             text_de  \\\n",
       "0  beschluss der kommission vom dezember uber die...   \n",
       "1  durchfuhrungsverordnung eu nr der kommission v...   \n",
       "2  durchfuhrungsbeschluss der kommission vom janu...   \n",
       "\n",
       "                                             text_it  \\\n",
       "0  decisione della commissione del dicembre conce...   \n",
       "1  regolamento di esecuzione ue n della commissio...   \n",
       "2  decisione di esecuzione della commissione del ...   \n",
       "\n",
       "                                             text_pl  \\\n",
       "0  decyzja komisji z dnia grudnia r w sprawie pom...   \n",
       "1  rozporzadzenie wykonawcze komisji ue nr z dnia...   \n",
       "2  decyzja wykonawcza komisji z dnia stycznia r u...   \n",
       "\n",
       "                                             text_sv  \\\n",
       "0  kommissionens beslut av den december om det st...   \n",
       "1  kommissionens genomforandeforordning eu nr av ...   \n",
       "2  kommissionens genomforandebeslut av den januar...   \n",
       "\n",
       "                                         text_en_enc  \\\n",
       "0  [[2, 3, 4, 5, 6, 7, 8, 9, 10, 11, 12, 13, 14, ...   \n",
       "1  [[2, 1275, 1276, 29, 100, 4, 743, 1277, 15, 12...   \n",
       "2  [[2, 1275, 3, 4, 1310, 1311, 15, 1015, 4, 1312...   \n",
       "\n",
       "                                         text_de_enc  \\\n",
       "0  [[2, 3, 4, 5, 6, 7, 8, 9, 10, 11, 12, 13, 14, ...   \n",
       "1  [[1302, 33, 1303, 3, 4, 5, 807, 15, 1304, 3, 6...   \n",
       "2  [[1344, 3, 4, 5, 1345, 15, 1346, 74, 1347, 134...   \n",
       "\n",
       "                                         text_it_enc  \\\n",
       "0  [[2, 3, 4, 5, 6, 7, 8, 9, 10, 11, 12, 13, 14, ...   \n",
       "1  [[453, 10, 1422, 38, 14, 3, 4, 5, 990, 1423, 1...   \n",
       "2  [[2, 10, 1422, 3, 4, 5, 1454, 245, 1455, 24, 1...   \n",
       "\n",
       "                                         text_pl_enc  \\\n",
       "0  [[2, 3, 4, 5, 6, 7, 8, 9, 10, 11, 12, 13, 14, ...   \n",
       "1  [[1753, 1754, 3, 34, 24, 4, 5, 829, 7, 1755, 9...   \n",
       "2  [[2, 1791, 3, 4, 5, 1792, 7, 1, 1793, 1794, 65...   \n",
       "\n",
       "                                         text_sv_enc    set  \n",
       "0  [[2, 3, 4, 5, 6, 7, 8, 9, 10, 11, 12, 13, 14, ...  train  \n",
       "1  [[2, 1239, 33, 23, 4, 5, 806, 7, 774, 4, 132, ...  train  \n",
       "2  [[2, 1279, 4, 5, 1280, 7, 1281, 19, 1282, 1283...  train  "
      ]
     },
     "execution_count": 3,
     "metadata": {},
     "output_type": "execute_result"
    }
   ],
   "source": [
    "dataframe = pd.read_pickle(\"../data/3_multi_eurlex_encoded.pkl\")\n",
    "dataframe.head(3)"
   ]
  },
  {
   "cell_type": "markdown",
   "metadata": {},
   "source": [
    "#### **Create a Grid Search for Fine Tuning**"
   ]
  },
  {
   "cell_type": "markdown",
   "metadata": {},
   "source": [
    "First, we setup the needed parameters."
   ]
  },
  {
   "cell_type": "code",
   "execution_count": 4,
   "metadata": {},
   "outputs": [],
   "source": [
    "# Parameters setup\n",
    "\n",
    "COUNTS_EN = 3506\n",
    "COUNTS_DE = 4216\n",
    "COUNTS_IT = 4180\n",
    "COUNTS_PL = 5255\n",
    "COUNTS_SV = 4010\n",
    "\n",
    "EMBEDDING_DIM_LIST = [1024, 2048]\n",
    "HIDDEN_DIM_LIST = [1024, 2048]\n",
    "LEARNING_RATE_LIST = [0.0001, 0.001]\n",
    "DROPOUT_P_LIST = [0.0, 0.1]"
   ]
  },
  {
   "cell_type": "markdown",
   "metadata": {},
   "source": [
    "Then, we execute a grid search."
   ]
  },
  {
   "cell_type": "code",
   "execution_count": 5,
   "metadata": {},
   "outputs": [
    {
     "name": "stdout",
     "output_type": "stream",
     "text": [
      "> Parameters imported\n",
      "> Dataset correctly divided in training set, validation set and test set\n",
      "> Created Pytorch datasets and dataloaders\n",
      "> Model 'LSTM_fixed' instantiated\n",
      "> Initialization required 1.3459 seconds\n",
      "==================================================================================\n",
      "> Training Started\n",
      "  - Total Epochs: 50\n",
      "==================================================================================\n"
     ]
    },
    {
     "name": "stderr",
     "output_type": "stream",
     "text": [
      "> Epoch 1: 100%|██████████| 60/60 [00:33<00:00,  1.79it/s]\n"
     ]
    },
    {
     "name": "stdout",
     "output_type": "stream",
     "text": [
      " - Training Loss        1.0987\n",
      " - Validation Loss      1.0987\n",
      " - Validation Accuracy  0.3448\n",
      "\n",
      " - Validation Accuracy (per class)\n",
      "   * Class 0\t 0.0855 [29 out of 339]\n",
      "   * Class 1\t 0.9169 [287 out of 313]\n",
      "   * Class 2\t 0.0487 [15 out of 308]\n",
      "   * Mean        0.3504\n",
      "\n",
      "> ATTENTION: epoch 1 was the best one so far! The model has been saved :)\n",
      "\n",
      "==================================================================================\n"
     ]
    },
    {
     "name": "stderr",
     "output_type": "stream",
     "text": [
      "> Epoch 2: 100%|██████████| 60/60 [00:32<00:00,  1.83it/s]\n"
     ]
    },
    {
     "name": "stdout",
     "output_type": "stream",
     "text": [
      " - Training Loss        1.0708\n",
      " - Validation Loss      1.0991\n",
      " - Validation Accuracy  0.3448\n",
      "\n",
      " - Validation Accuracy (per class)\n",
      "   * Class 0\t 0.0413 [14 out of 339]\n",
      "   * Class 1\t 0.9105 [285 out of 313]\n",
      "   * Class 2\t 0.1039 [32 out of 308]\n",
      "   * Mean        0.3519\n",
      "\n",
      "> ATTENTION: epoch 2 was the best one so far! The model has been saved :)\n",
      "\n",
      "==================================================================================\n"
     ]
    },
    {
     "name": "stderr",
     "output_type": "stream",
     "text": [
      "> Epoch 3: 100%|██████████| 60/60 [00:33<00:00,  1.81it/s]\n"
     ]
    },
    {
     "name": "stdout",
     "output_type": "stream",
     "text": [
      " - Training Loss        1.0443\n",
      " - Validation Loss      1.0973\n",
      " - Validation Accuracy  0.35\n",
      "\n",
      " - Validation Accuracy (per class)\n",
      "   * Class 0\t 0.0767 [26 out of 339]\n",
      "   * Class 1\t 0.9169 [287 out of 313]\n",
      "   * Class 2\t 0.0747 [23 out of 308]\n",
      "   * Mean        0.3561\n",
      "\n",
      "> ATTENTION: epoch 3 was the best one so far! The model has been saved :)\n",
      "\n",
      "==================================================================================\n"
     ]
    },
    {
     "name": "stderr",
     "output_type": "stream",
     "text": [
      "> Epoch 4: 100%|██████████| 60/60 [00:33<00:00,  1.81it/s]\n"
     ]
    },
    {
     "name": "stdout",
     "output_type": "stream",
     "text": [
      " - Training Loss        1.0028\n",
      " - Validation Loss      1.1226\n",
      " - Validation Accuracy  0.3396\n",
      "\n",
      " - Validation Accuracy (per class)\n",
      "   * Class 0\t 0.0531 [18 out of 339]\n",
      "   * Class 1\t 0.0575 [18 out of 313]\n",
      "   * Class 2\t 0.9416 [290 out of 308]\n",
      "   * Mean        0.3507\n",
      "\n",
      "==================================================================================\n"
     ]
    },
    {
     "name": "stderr",
     "output_type": "stream",
     "text": [
      "> Epoch 5: 100%|██████████| 60/60 [00:33<00:00,  1.81it/s]\n"
     ]
    },
    {
     "name": "stdout",
     "output_type": "stream",
     "text": [
      " - Training Loss        0.9685\n",
      " - Validation Loss      1.138\n",
      " - Validation Accuracy  0.3323\n",
      "\n",
      " - Validation Accuracy (per class)\n",
      "   * Class 0\t 0.0531 [18 out of 339]\n",
      "   * Class 1\t 0.0319 [10 out of 313]\n",
      "   * Class 2\t 0.9448 [291 out of 308]\n",
      "   * Mean        0.3433\n",
      "\n",
      "==================================================================================\n"
     ]
    },
    {
     "name": "stderr",
     "output_type": "stream",
     "text": [
      "> Epoch 6: 100%|██████████| 60/60 [00:33<00:00,  1.80it/s]\n"
     ]
    },
    {
     "name": "stdout",
     "output_type": "stream",
     "text": [
      " - Training Loss        0.9464\n",
      " - Validation Loss      1.1442\n",
      " - Validation Accuracy  0.3427\n",
      "\n",
      " - Validation Accuracy (per class)\n",
      "   * Class 0\t 0.0413 [14 out of 339]\n",
      "   * Class 1\t 0.9073 [284 out of 313]\n",
      "   * Class 2\t 0.1006 [31 out of 308]\n",
      "   * Mean        0.3497\n",
      "\n",
      "==================================================================================\n"
     ]
    },
    {
     "name": "stderr",
     "output_type": "stream",
     "text": [
      "> Epoch 7: 100%|██████████| 60/60 [00:33<00:00,  1.81it/s]\n"
     ]
    },
    {
     "name": "stdout",
     "output_type": "stream",
     "text": [
      " - Training Loss        0.938\n",
      " - Validation Loss      1.1584\n",
      " - Validation Accuracy  0.35\n",
      "\n",
      " - Validation Accuracy (per class)\n",
      "   * Class 0\t 0.0678 [23 out of 339]\n",
      "   * Class 1\t 0.9201 [288 out of 313]\n",
      "   * Class 2\t 0.0812 [25 out of 308]\n",
      "   * Mean        0.3564\n",
      "\n",
      "> ATTENTION: epoch 7 was the best one so far! The model has been saved :)\n",
      "\n",
      "==================================================================================\n"
     ]
    },
    {
     "name": "stderr",
     "output_type": "stream",
     "text": [
      "> Epoch 8: 100%|██████████| 60/60 [00:33<00:00,  1.80it/s]\n"
     ]
    },
    {
     "name": "stdout",
     "output_type": "stream",
     "text": [
      " - Training Loss        0.9347\n",
      " - Validation Loss      1.173\n",
      " - Validation Accuracy  0.3469\n",
      "\n",
      " - Validation Accuracy (per class)\n",
      "   * Class 0\t 0.056 [19 out of 339]\n",
      "   * Class 1\t 0.9201 [288 out of 313]\n",
      "   * Class 2\t 0.0844 [26 out of 308]\n",
      "   * Mean        0.3535\n",
      "\n",
      "==================================================================================\n"
     ]
    },
    {
     "name": "stderr",
     "output_type": "stream",
     "text": [
      "> Epoch 9: 100%|██████████| 60/60 [00:33<00:00,  1.80it/s]\n"
     ]
    },
    {
     "name": "stdout",
     "output_type": "stream",
     "text": [
      " - Training Loss        0.9302\n",
      " - Validation Loss      1.1983\n",
      " - Validation Accuracy  0.3479\n",
      "\n",
      " - Validation Accuracy (per class)\n",
      "   * Class 0\t 0.056 [19 out of 339]\n",
      "   * Class 1\t 0.9233 [289 out of 313]\n",
      "   * Class 2\t 0.0844 [26 out of 308]\n",
      "   * Mean        0.3546\n",
      "\n",
      "==================================================================================\n"
     ]
    },
    {
     "name": "stderr",
     "output_type": "stream",
     "text": [
      "> Epoch 10: 100%|██████████| 60/60 [00:33<00:00,  1.80it/s]\n"
     ]
    },
    {
     "name": "stdout",
     "output_type": "stream",
     "text": [
      " - Training Loss        0.9285\n",
      " - Validation Loss      1.203\n",
      " - Validation Accuracy  0.3469\n",
      "\n",
      " - Validation Accuracy (per class)\n",
      "   * Class 0\t 0.059 [20 out of 339]\n",
      "   * Class 1\t 0.9073 [284 out of 313]\n",
      "   * Class 2\t 0.0942 [29 out of 308]\n",
      "   * Mean        0.3535\n",
      "\n",
      "==================================================================================\n"
     ]
    },
    {
     "name": "stderr",
     "output_type": "stream",
     "text": [
      "> Epoch 11: 100%|██████████| 60/60 [00:33<00:00,  1.81it/s]\n"
     ]
    },
    {
     "name": "stdout",
     "output_type": "stream",
     "text": [
      " - Training Loss        0.9286\n",
      " - Validation Loss      1.1996\n",
      " - Validation Accuracy  0.35\n",
      "\n",
      " - Validation Accuracy (per class)\n",
      "   * Class 0\t 0.0619 [21 out of 339]\n",
      "   * Class 1\t 0.9137 [286 out of 313]\n",
      "   * Class 2\t 0.0942 [29 out of 308]\n",
      "   * Mean        0.3566\n",
      "\n",
      "> ATTENTION: epoch 11 was the best one so far! The model has been saved :)\n",
      "\n",
      "==================================================================================\n"
     ]
    },
    {
     "name": "stderr",
     "output_type": "stream",
     "text": [
      "> Epoch 12: 100%|██████████| 60/60 [00:33<00:00,  1.80it/s]\n"
     ]
    },
    {
     "name": "stdout",
     "output_type": "stream",
     "text": [
      " - Training Loss        0.927\n",
      " - Validation Loss      1.2489\n",
      " - Validation Accuracy  0.349\n",
      "\n",
      " - Validation Accuracy (per class)\n",
      "   * Class 0\t 0.059 [20 out of 339]\n",
      "   * Class 1\t 0.9042 [283 out of 313]\n",
      "   * Class 2\t 0.1039 [32 out of 308]\n",
      "   * Mean        0.3557\n",
      "\n",
      "==================================================================================\n"
     ]
    },
    {
     "name": "stderr",
     "output_type": "stream",
     "text": [
      "> Epoch 13: 100%|██████████| 60/60 [00:33<00:00,  1.79it/s]\n"
     ]
    },
    {
     "name": "stdout",
     "output_type": "stream",
     "text": [
      " - Training Loss        0.9262\n",
      " - Validation Loss      1.2435\n",
      " - Validation Accuracy  0.3531\n",
      "\n",
      " - Validation Accuracy (per class)\n",
      "   * Class 0\t 0.0678 [23 out of 339]\n",
      "   * Class 1\t 0.9265 [290 out of 313]\n",
      "   * Class 2\t 0.0844 [26 out of 308]\n",
      "   * Mean        0.3596\n",
      "\n",
      "> ATTENTION: epoch 13 was the best one so far! The model has been saved :)\n",
      "\n",
      "==================================================================================\n"
     ]
    },
    {
     "name": "stderr",
     "output_type": "stream",
     "text": [
      "> Epoch 14: 100%|██████████| 60/60 [00:33<00:00,  1.79it/s]\n"
     ]
    },
    {
     "name": "stdout",
     "output_type": "stream",
     "text": [
      " - Training Loss        0.9261\n",
      " - Validation Loss      1.2536\n",
      " - Validation Accuracy  0.351\n",
      "\n",
      " - Validation Accuracy (per class)\n",
      "   * Class 0\t 0.0708 [24 out of 339]\n",
      "   * Class 1\t 0.9073 [284 out of 313]\n",
      "   * Class 2\t 0.0942 [29 out of 308]\n",
      "   * Mean        0.3574\n",
      "\n",
      "==================================================================================\n"
     ]
    },
    {
     "name": "stderr",
     "output_type": "stream",
     "text": [
      "> Epoch 15: 100%|██████████| 60/60 [00:33<00:00,  1.79it/s]\n"
     ]
    },
    {
     "name": "stdout",
     "output_type": "stream",
     "text": [
      " - Training Loss        0.9255\n",
      " - Validation Loss      1.256\n",
      " - Validation Accuracy  0.3469\n",
      "\n",
      " - Validation Accuracy (per class)\n",
      "   * Class 0\t 0.059 [20 out of 339]\n",
      "   * Class 1\t 0.9042 [283 out of 313]\n",
      "   * Class 2\t 0.0974 [30 out of 308]\n",
      "   * Mean        0.3535\n",
      "\n",
      "==================================================================================\n"
     ]
    },
    {
     "name": "stderr",
     "output_type": "stream",
     "text": [
      "> Epoch 16: 100%|██████████| 60/60 [00:33<00:00,  1.79it/s]\n"
     ]
    },
    {
     "name": "stdout",
     "output_type": "stream",
     "text": [
      " - Training Loss        0.9254\n",
      " - Validation Loss      1.3055\n",
      " - Validation Accuracy  0.3458\n",
      "\n",
      " - Validation Accuracy (per class)\n",
      "   * Class 0\t 0.059 [20 out of 339]\n",
      "   * Class 1\t 0.9073 [284 out of 313]\n",
      "   * Class 2\t 0.0909 [28 out of 308]\n",
      "   * Mean        0.3524\n",
      "\n",
      "==================================================================================\n"
     ]
    },
    {
     "name": "stderr",
     "output_type": "stream",
     "text": [
      "> Epoch 17: 100%|██████████| 60/60 [00:33<00:00,  1.79it/s]\n"
     ]
    },
    {
     "name": "stdout",
     "output_type": "stream",
     "text": [
      " - Training Loss        0.9271\n",
      " - Validation Loss      1.2005\n",
      " - Validation Accuracy  0.349\n",
      "\n",
      " - Validation Accuracy (per class)\n",
      "   * Class 0\t 0.0855 [29 out of 339]\n",
      "   * Class 1\t 0.9105 [285 out of 313]\n",
      "   * Class 2\t 0.0682 [21 out of 308]\n",
      "   * Mean        0.3547\n",
      "\n",
      "==================================================================================\n"
     ]
    },
    {
     "name": "stderr",
     "output_type": "stream",
     "text": [
      "> Epoch 18: 100%|██████████| 60/60 [00:33<00:00,  1.79it/s]\n"
     ]
    },
    {
     "name": "stdout",
     "output_type": "stream",
     "text": [
      " - Training Loss        0.9281\n",
      " - Validation Loss      1.2732\n",
      " - Validation Accuracy  0.3469\n",
      "\n",
      " - Validation Accuracy (per class)\n",
      "   * Class 0\t 0.0383 [13 out of 339]\n",
      "   * Class 1\t 0.9361 [293 out of 313]\n",
      "   * Class 2\t 0.0877 [27 out of 308]\n",
      "   * Mean        0.354\n",
      "\n",
      "==================================================================================\n"
     ]
    },
    {
     "name": "stderr",
     "output_type": "stream",
     "text": [
      "> Epoch 19: 100%|██████████| 60/60 [00:33<00:00,  1.79it/s]\n"
     ]
    },
    {
     "name": "stdout",
     "output_type": "stream",
     "text": [
      " - Training Loss        0.9262\n",
      " - Validation Loss      1.2561\n",
      " - Validation Accuracy  0.349\n",
      "\n",
      " - Validation Accuracy (per class)\n",
      "   * Class 0\t 0.0649 [22 out of 339]\n",
      "   * Class 1\t 0.9073 [284 out of 313]\n",
      "   * Class 2\t 0.0942 [29 out of 308]\n",
      "   * Mean        0.3555\n",
      "\n",
      "==================================================================================\n"
     ]
    },
    {
     "name": "stderr",
     "output_type": "stream",
     "text": [
      "> Epoch 20: 100%|██████████| 60/60 [00:33<00:00,  1.78it/s]\n"
     ]
    },
    {
     "name": "stdout",
     "output_type": "stream",
     "text": [
      " - Training Loss        0.9243\n",
      " - Validation Loss      1.3038\n",
      " - Validation Accuracy  0.3417\n",
      "\n",
      " - Validation Accuracy (per class)\n",
      "   * Class 0\t 0.059 [20 out of 339]\n",
      "   * Class 1\t 0.885 [277 out of 313]\n",
      "   * Class 2\t 0.1006 [31 out of 308]\n",
      "   * Mean        0.3482\n",
      "\n",
      "==================================================================================\n"
     ]
    },
    {
     "name": "stderr",
     "output_type": "stream",
     "text": [
      "> Epoch 21: 100%|██████████| 60/60 [00:33<00:00,  1.78it/s]\n"
     ]
    },
    {
     "name": "stdout",
     "output_type": "stream",
     "text": [
      " - Training Loss        0.9253\n",
      " - Validation Loss      1.2463\n",
      " - Validation Accuracy  0.351\n",
      "\n",
      " - Validation Accuracy (per class)\n",
      "   * Class 0\t 0.0649 [22 out of 339]\n",
      "   * Class 1\t 0.9137 [286 out of 313]\n",
      "   * Class 2\t 0.0942 [29 out of 308]\n",
      "   * Mean        0.3576\n",
      "\n",
      "==================================================================================\n"
     ]
    },
    {
     "name": "stderr",
     "output_type": "stream",
     "text": [
      "> Epoch 22: 100%|██████████| 60/60 [00:33<00:00,  1.78it/s]\n"
     ]
    },
    {
     "name": "stdout",
     "output_type": "stream",
     "text": [
      " - Training Loss        0.9253\n",
      " - Validation Loss      1.2653\n",
      " - Validation Accuracy  0.35\n",
      "\n",
      " - Validation Accuracy (per class)\n",
      "   * Class 0\t 0.0531 [18 out of 339]\n",
      "   * Class 1\t 0.9137 [286 out of 313]\n",
      "   * Class 2\t 0.1039 [32 out of 308]\n",
      "   * Mean        0.3569\n",
      "\n",
      "==================================================================================\n"
     ]
    },
    {
     "name": "stderr",
     "output_type": "stream",
     "text": [
      "> Epoch 23: 100%|██████████| 60/60 [00:33<00:00,  1.77it/s]\n"
     ]
    },
    {
     "name": "stdout",
     "output_type": "stream",
     "text": [
      " - Training Loss        0.9251\n",
      " - Validation Loss      1.2751\n",
      " - Validation Accuracy  0.3479\n",
      "\n",
      " - Validation Accuracy (per class)\n",
      "   * Class 0\t 0.0737 [25 out of 339]\n",
      "   * Class 1\t 0.8978 [281 out of 313]\n",
      "   * Class 2\t 0.0909 [28 out of 308]\n",
      "   * Mean        0.3541\n",
      "\n",
      "==================================================================================\n"
     ]
    },
    {
     "name": "stderr",
     "output_type": "stream",
     "text": [
      "> Epoch 24: 100%|██████████| 60/60 [00:33<00:00,  1.78it/s]\n"
     ]
    },
    {
     "name": "stdout",
     "output_type": "stream",
     "text": [
      " - Training Loss        0.9245\n",
      " - Validation Loss      1.2666\n",
      " - Validation Accuracy  0.349\n",
      "\n",
      " - Validation Accuracy (per class)\n",
      "   * Class 0\t 0.0619 [21 out of 339]\n",
      "   * Class 1\t 0.9105 [285 out of 313]\n",
      "   * Class 2\t 0.0942 [29 out of 308]\n",
      "   * Mean        0.3555\n",
      "\n",
      "==================================================================================\n"
     ]
    },
    {
     "name": "stderr",
     "output_type": "stream",
     "text": [
      "> Epoch 25: 100%|██████████| 60/60 [00:33<00:00,  1.78it/s]\n"
     ]
    },
    {
     "name": "stdout",
     "output_type": "stream",
     "text": [
      " - Training Loss        0.9241\n",
      " - Validation Loss      1.2935\n",
      " - Validation Accuracy  0.3458\n",
      "\n",
      " - Validation Accuracy (per class)\n",
      "   * Class 0\t 0.0531 [18 out of 339]\n",
      "   * Class 1\t 0.9137 [286 out of 313]\n",
      "   * Class 2\t 0.0909 [28 out of 308]\n",
      "   * Mean        0.3526\n",
      "\n",
      "==================================================================================\n"
     ]
    },
    {
     "name": "stderr",
     "output_type": "stream",
     "text": [
      "> Epoch 26: 100%|██████████| 60/60 [00:33<00:00,  1.78it/s]\n"
     ]
    },
    {
     "name": "stdout",
     "output_type": "stream",
     "text": [
      " - Training Loss        0.9249\n",
      " - Validation Loss      1.294\n",
      " - Validation Accuracy  0.3469\n",
      "\n",
      " - Validation Accuracy (per class)\n",
      "   * Class 0\t 0.0531 [18 out of 339]\n",
      "   * Class 1\t 0.9105 [285 out of 313]\n",
      "   * Class 2\t 0.0974 [30 out of 308]\n",
      "   * Mean        0.3537\n",
      "\n",
      "==================================================================================\n"
     ]
    },
    {
     "name": "stderr",
     "output_type": "stream",
     "text": [
      "> Epoch 27: 100%|██████████| 60/60 [00:33<00:00,  1.79it/s]\n"
     ]
    },
    {
     "name": "stdout",
     "output_type": "stream",
     "text": [
      " - Training Loss        0.9272\n",
      " - Validation Loss      1.2051\n",
      " - Validation Accuracy  0.3469\n",
      "\n",
      " - Validation Accuracy (per class)\n",
      "   * Class 0\t 0.0619 [21 out of 339]\n",
      "   * Class 1\t 0.9073 [284 out of 313]\n",
      "   * Class 2\t 0.0909 [28 out of 308]\n",
      "   * Mean        0.3534\n",
      "\n",
      "==================================================================================\n"
     ]
    },
    {
     "name": "stderr",
     "output_type": "stream",
     "text": [
      "> Epoch 28: 100%|██████████| 60/60 [00:33<00:00,  1.80it/s]\n"
     ]
    },
    {
     "name": "stdout",
     "output_type": "stream",
     "text": [
      " - Training Loss        0.9251\n",
      " - Validation Loss      1.2332\n",
      " - Validation Accuracy  0.3479\n",
      "\n",
      " - Validation Accuracy (per class)\n",
      "   * Class 0\t 0.0649 [22 out of 339]\n",
      "   * Class 1\t 0.9073 [284 out of 313]\n",
      "   * Class 2\t 0.0909 [28 out of 308]\n",
      "   * Mean        0.3544\n",
      "\n",
      "==================================================================================\n"
     ]
    },
    {
     "name": "stderr",
     "output_type": "stream",
     "text": [
      "> Epoch 29: 100%|██████████| 60/60 [00:33<00:00,  1.78it/s]\n"
     ]
    },
    {
     "name": "stdout",
     "output_type": "stream",
     "text": [
      " - Training Loss        0.924\n",
      " - Validation Loss      1.2524\n",
      " - Validation Accuracy  0.35\n",
      "\n",
      " - Validation Accuracy (per class)\n",
      "   * Class 0\t 0.0649 [22 out of 339]\n",
      "   * Class 1\t 0.9137 [286 out of 313]\n",
      "   * Class 2\t 0.0909 [28 out of 308]\n",
      "   * Mean        0.3565\n",
      "\n",
      "==================================================================================\n"
     ]
    },
    {
     "name": "stderr",
     "output_type": "stream",
     "text": [
      "> Epoch 30: 100%|██████████| 60/60 [00:34<00:00,  1.76it/s]\n"
     ]
    },
    {
     "name": "stdout",
     "output_type": "stream",
     "text": [
      " - Training Loss        0.924\n",
      " - Validation Loss      1.2592\n",
      " - Validation Accuracy  0.3469\n",
      "\n",
      " - Validation Accuracy (per class)\n",
      "   * Class 0\t 0.0649 [22 out of 339]\n",
      "   * Class 1\t 0.9105 [285 out of 313]\n",
      "   * Class 2\t 0.0844 [26 out of 308]\n",
      "   * Mean        0.3533\n",
      "\n",
      "==================================================================================\n"
     ]
    },
    {
     "name": "stderr",
     "output_type": "stream",
     "text": [
      "> Epoch 31: 100%|██████████| 60/60 [00:33<00:00,  1.78it/s]\n"
     ]
    },
    {
     "name": "stdout",
     "output_type": "stream",
     "text": [
      " - Training Loss        0.9235\n",
      " - Validation Loss      1.2684\n",
      " - Validation Accuracy  0.3469\n",
      "\n",
      " - Validation Accuracy (per class)\n",
      "   * Class 0\t 0.0649 [22 out of 339]\n",
      "   * Class 1\t 0.9042 [283 out of 313]\n",
      "   * Class 2\t 0.0909 [28 out of 308]\n",
      "   * Mean        0.3533\n",
      "\n",
      "==================================================================================\n"
     ]
    },
    {
     "name": "stderr",
     "output_type": "stream",
     "text": [
      "> Epoch 32: 100%|██████████| 60/60 [00:33<00:00,  1.78it/s]\n"
     ]
    },
    {
     "name": "stdout",
     "output_type": "stream",
     "text": [
      " - Training Loss        0.9234\n",
      " - Validation Loss      1.2529\n",
      " - Validation Accuracy  0.349\n",
      "\n",
      " - Validation Accuracy (per class)\n",
      "   * Class 0\t 0.0619 [21 out of 339]\n",
      "   * Class 1\t 0.9105 [285 out of 313]\n",
      "   * Class 2\t 0.0942 [29 out of 308]\n",
      "   * Mean        0.3555\n",
      "\n",
      "==================================================================================\n"
     ]
    },
    {
     "name": "stderr",
     "output_type": "stream",
     "text": [
      "> Epoch 33: 100%|██████████| 60/60 [00:33<00:00,  1.79it/s]\n"
     ]
    },
    {
     "name": "stdout",
     "output_type": "stream",
     "text": [
      " - Training Loss        0.9236\n",
      " - Validation Loss      1.3029\n",
      " - Validation Accuracy  0.3396\n",
      "\n",
      " - Validation Accuracy (per class)\n",
      "   * Class 0\t 0.056 [19 out of 339]\n",
      "   * Class 1\t 0.8946 [280 out of 313]\n",
      "   * Class 2\t 0.0877 [27 out of 308]\n",
      "   * Mean        0.3461\n",
      "\n",
      "==================================================================================\n"
     ]
    },
    {
     "name": "stderr",
     "output_type": "stream",
     "text": [
      "> Epoch 34: 100%|██████████| 60/60 [00:33<00:00,  1.78it/s]\n"
     ]
    },
    {
     "name": "stdout",
     "output_type": "stream",
     "text": [
      " - Training Loss        0.9237\n",
      " - Validation Loss      1.238\n",
      " - Validation Accuracy  0.349\n",
      "\n",
      " - Validation Accuracy (per class)\n",
      "   * Class 0\t 0.0619 [21 out of 339]\n",
      "   * Class 1\t 0.9073 [284 out of 313]\n",
      "   * Class 2\t 0.0974 [30 out of 308]\n",
      "   * Mean        0.3555\n",
      "\n",
      "==================================================================================\n"
     ]
    },
    {
     "name": "stderr",
     "output_type": "stream",
     "text": [
      "> Epoch 35: 100%|██████████| 60/60 [00:33<00:00,  1.79it/s]\n"
     ]
    },
    {
     "name": "stdout",
     "output_type": "stream",
     "text": [
      " - Training Loss        0.9248\n",
      " - Validation Loss      1.2664\n",
      " - Validation Accuracy  0.3479\n",
      "\n",
      " - Validation Accuracy (per class)\n",
      "   * Class 0\t 0.0649 [22 out of 339]\n",
      "   * Class 1\t 0.9042 [283 out of 313]\n",
      "   * Class 2\t 0.0942 [29 out of 308]\n",
      "   * Mean        0.3544\n",
      "\n",
      "==================================================================================\n"
     ]
    },
    {
     "name": "stderr",
     "output_type": "stream",
     "text": [
      "> Epoch 36: 100%|██████████| 60/60 [00:33<00:00,  1.79it/s]\n"
     ]
    },
    {
     "name": "stdout",
     "output_type": "stream",
     "text": [
      " - Training Loss        0.9235\n",
      " - Validation Loss      1.2747\n",
      " - Validation Accuracy  0.3469\n",
      "\n",
      " - Validation Accuracy (per class)\n",
      "   * Class 0\t 0.0708 [24 out of 339]\n",
      "   * Class 1\t 0.9042 [283 out of 313]\n",
      "   * Class 2\t 0.0844 [26 out of 308]\n",
      "   * Mean        0.3531\n",
      "\n",
      "==================================================================================\n"
     ]
    },
    {
     "name": "stderr",
     "output_type": "stream",
     "text": [
      "> Epoch 37: 100%|██████████| 60/60 [00:33<00:00,  1.79it/s]\n"
     ]
    },
    {
     "name": "stdout",
     "output_type": "stream",
     "text": [
      " - Training Loss        0.9238\n",
      " - Validation Loss      1.2709\n",
      " - Validation Accuracy  0.349\n",
      "\n",
      " - Validation Accuracy (per class)\n",
      "   * Class 0\t 0.0767 [26 out of 339]\n",
      "   * Class 1\t 0.9042 [283 out of 313]\n",
      "   * Class 2\t 0.0844 [26 out of 308]\n",
      "   * Mean        0.3551\n",
      "\n",
      "==================================================================================\n"
     ]
    },
    {
     "name": "stderr",
     "output_type": "stream",
     "text": [
      "> Epoch 38: 100%|██████████| 60/60 [00:33<00:00,  1.79it/s]\n"
     ]
    },
    {
     "name": "stdout",
     "output_type": "stream",
     "text": [
      " - Training Loss        0.9237\n",
      " - Validation Loss      1.2816\n",
      " - Validation Accuracy  0.3521\n",
      "\n",
      " - Validation Accuracy (per class)\n",
      "   * Class 0\t 0.0767 [26 out of 339]\n",
      "   * Class 1\t 0.9073 [284 out of 313]\n",
      "   * Class 2\t 0.0909 [28 out of 308]\n",
      "   * Mean        0.3583\n",
      "\n",
      "==================================================================================\n"
     ]
    },
    {
     "name": "stderr",
     "output_type": "stream",
     "text": [
      "> Epoch 39: 100%|██████████| 60/60 [00:33<00:00,  1.79it/s]\n"
     ]
    },
    {
     "name": "stdout",
     "output_type": "stream",
     "text": [
      " - Training Loss        0.9229\n",
      " - Validation Loss      1.3246\n",
      " - Validation Accuracy  0.3406\n",
      "\n",
      " - Validation Accuracy (per class)\n",
      "   * Class 0\t 0.0649 [22 out of 339]\n",
      "   * Class 1\t 0.8978 [281 out of 313]\n",
      "   * Class 2\t 0.0779 [24 out of 308]\n",
      "   * Mean        0.3469\n",
      "\n",
      "==================================================================================\n"
     ]
    },
    {
     "name": "stderr",
     "output_type": "stream",
     "text": [
      "> Epoch 40: 100%|██████████| 60/60 [00:33<00:00,  1.78it/s]\n"
     ]
    },
    {
     "name": "stdout",
     "output_type": "stream",
     "text": [
      " - Training Loss        0.9239\n",
      " - Validation Loss      1.2993\n",
      " - Validation Accuracy  0.3385\n",
      "\n",
      " - Validation Accuracy (per class)\n",
      "   * Class 0\t 0.0531 [18 out of 339]\n",
      "   * Class 1\t 0.901 [282 out of 313]\n",
      "   * Class 2\t 0.0812 [25 out of 308]\n",
      "   * Mean        0.3451\n",
      "\n",
      "==================================================================================\n"
     ]
    },
    {
     "name": "stderr",
     "output_type": "stream",
     "text": [
      "> Epoch 41: 100%|██████████| 60/60 [00:33<00:00,  1.79it/s]\n"
     ]
    },
    {
     "name": "stdout",
     "output_type": "stream",
     "text": [
      " - Training Loss        0.9229\n",
      " - Validation Loss      1.3156\n",
      " - Validation Accuracy  0.3427\n",
      "\n",
      " - Validation Accuracy (per class)\n",
      "   * Class 0\t 0.0619 [21 out of 339]\n",
      "   * Class 1\t 0.9042 [283 out of 313]\n",
      "   * Class 2\t 0.0812 [25 out of 308]\n",
      "   * Mean        0.3491\n",
      "\n",
      "==================================================================================\n"
     ]
    },
    {
     "name": "stderr",
     "output_type": "stream",
     "text": [
      "> Epoch 42: 100%|██████████| 60/60 [00:33<00:00,  1.79it/s]\n"
     ]
    },
    {
     "name": "stdout",
     "output_type": "stream",
     "text": [
      " - Training Loss        0.9244\n",
      " - Validation Loss      1.2477\n",
      " - Validation Accuracy  0.3521\n",
      "\n",
      " - Validation Accuracy (per class)\n",
      "   * Class 0\t 0.0737 [25 out of 339]\n",
      "   * Class 1\t 0.9042 [283 out of 313]\n",
      "   * Class 2\t 0.0974 [30 out of 308]\n",
      "   * Mean        0.3584\n",
      "\n",
      "==================================================================================\n"
     ]
    },
    {
     "name": "stderr",
     "output_type": "stream",
     "text": [
      "> Epoch 43: 100%|██████████| 60/60 [00:33<00:00,  1.79it/s]\n"
     ]
    },
    {
     "name": "stdout",
     "output_type": "stream",
     "text": [
      " - Training Loss        0.9245\n",
      " - Validation Loss      1.2632\n",
      " - Validation Accuracy  0.3479\n",
      "\n",
      " - Validation Accuracy (per class)\n",
      "   * Class 0\t 0.0737 [25 out of 339]\n",
      "   * Class 1\t 0.8978 [281 out of 313]\n",
      "   * Class 2\t 0.0909 [28 out of 308]\n",
      "   * Mean        0.3541\n",
      "\n",
      "==================================================================================\n"
     ]
    },
    {
     "name": "stderr",
     "output_type": "stream",
     "text": [
      "> Epoch 44: 100%|██████████| 60/60 [00:33<00:00,  1.79it/s]\n"
     ]
    },
    {
     "name": "stdout",
     "output_type": "stream",
     "text": [
      " - Training Loss        0.9237\n",
      " - Validation Loss      1.2812\n",
      " - Validation Accuracy  0.3438\n",
      "\n",
      " - Validation Accuracy (per class)\n",
      "   * Class 0\t 0.0649 [22 out of 339]\n",
      "   * Class 1\t 0.8978 [281 out of 313]\n",
      "   * Class 2\t 0.0877 [27 out of 308]\n",
      "   * Mean        0.3501\n",
      "\n",
      "==================================================================================\n"
     ]
    },
    {
     "name": "stderr",
     "output_type": "stream",
     "text": [
      "> Epoch 45: 100%|██████████| 60/60 [00:33<00:00,  1.78it/s]\n"
     ]
    },
    {
     "name": "stdout",
     "output_type": "stream",
     "text": [
      " - Training Loss        0.9235\n",
      " - Validation Loss      1.2904\n",
      " - Validation Accuracy  0.3469\n",
      "\n",
      " - Validation Accuracy (per class)\n",
      "   * Class 0\t 0.0678 [23 out of 339]\n",
      "   * Class 1\t 0.901 [282 out of 313]\n",
      "   * Class 2\t 0.0909 [28 out of 308]\n",
      "   * Mean        0.3532\n",
      "\n",
      "==================================================================================\n"
     ]
    },
    {
     "name": "stderr",
     "output_type": "stream",
     "text": [
      "> Epoch 46: 100%|██████████| 60/60 [00:33<00:00,  1.79it/s]\n"
     ]
    },
    {
     "name": "stdout",
     "output_type": "stream",
     "text": [
      " - Training Loss        0.9229\n",
      " - Validation Loss      1.2829\n",
      " - Validation Accuracy  0.35\n",
      "\n",
      " - Validation Accuracy (per class)\n",
      "   * Class 0\t 0.0796 [27 out of 339]\n",
      "   * Class 1\t 0.9073 [284 out of 313]\n",
      "   * Class 2\t 0.0812 [25 out of 308]\n",
      "   * Mean        0.356\n",
      "\n",
      "==================================================================================\n"
     ]
    },
    {
     "name": "stderr",
     "output_type": "stream",
     "text": [
      "> Epoch 47: 100%|██████████| 60/60 [00:33<00:00,  1.79it/s]\n"
     ]
    },
    {
     "name": "stdout",
     "output_type": "stream",
     "text": [
      " - Training Loss        0.9235\n",
      " - Validation Loss      1.2765\n",
      " - Validation Accuracy  0.35\n",
      "\n",
      " - Validation Accuracy (per class)\n",
      "   * Class 0\t 0.0796 [27 out of 339]\n",
      "   * Class 1\t 0.9042 [283 out of 313]\n",
      "   * Class 2\t 0.0844 [26 out of 308]\n",
      "   * Mean        0.3561\n",
      "\n",
      "==================================================================================\n"
     ]
    },
    {
     "name": "stderr",
     "output_type": "stream",
     "text": [
      "> Epoch 48: 100%|██████████| 60/60 [00:33<00:00,  1.78it/s]\n"
     ]
    },
    {
     "name": "stdout",
     "output_type": "stream",
     "text": [
      " - Training Loss        0.9233\n",
      " - Validation Loss      1.2874\n",
      " - Validation Accuracy  0.3458\n",
      "\n",
      " - Validation Accuracy (per class)\n",
      "   * Class 0\t 0.0649 [22 out of 339]\n",
      "   * Class 1\t 0.8978 [281 out of 313]\n",
      "   * Class 2\t 0.0942 [29 out of 308]\n",
      "   * Mean        0.3523\n",
      "\n",
      "==================================================================================\n"
     ]
    },
    {
     "name": "stderr",
     "output_type": "stream",
     "text": [
      "> Epoch 49: 100%|██████████| 60/60 [00:33<00:00,  1.78it/s]\n"
     ]
    },
    {
     "name": "stdout",
     "output_type": "stream",
     "text": [
      " - Training Loss        0.9228\n",
      " - Validation Loss      1.309\n",
      " - Validation Accuracy  0.351\n",
      "\n",
      " - Validation Accuracy (per class)\n",
      "   * Class 0\t 0.0649 [22 out of 339]\n",
      "   * Class 1\t 0.9042 [283 out of 313]\n",
      "   * Class 2\t 0.1039 [32 out of 308]\n",
      "   * Mean        0.3577\n",
      "\n",
      "==================================================================================\n"
     ]
    },
    {
     "name": "stderr",
     "output_type": "stream",
     "text": [
      "> Epoch 50: 100%|██████████| 60/60 [00:33<00:00,  1.79it/s]\n"
     ]
    },
    {
     "name": "stdout",
     "output_type": "stream",
     "text": [
      " - Training Loss        0.9235\n",
      " - Validation Loss      1.2826\n",
      " - Validation Accuracy  0.349\n",
      "\n",
      " - Validation Accuracy (per class)\n",
      "   * Class 0\t 0.0649 [22 out of 339]\n",
      "   * Class 1\t 0.9042 [283 out of 313]\n",
      "   * Class 2\t 0.0974 [30 out of 308]\n",
      "   * Mean        0.3555\n",
      "\n",
      "==================================================================================\n",
      "> Parameters imported\n",
      "> Dataset correctly divided in training set, validation set and test set\n",
      "> Created Pytorch datasets and dataloaders\n",
      "> Model 'LSTM_fixed' instantiated\n",
      "> Initialization required 0.071 seconds\n",
      "==================================================================================\n",
      "> Training Started\n",
      "  - Total Epochs: 50\n",
      "==================================================================================\n"
     ]
    },
    {
     "name": "stderr",
     "output_type": "stream",
     "text": [
      "> Epoch 1: 100%|██████████| 60/60 [00:33<00:00,  1.81it/s]\n"
     ]
    },
    {
     "name": "stdout",
     "output_type": "stream",
     "text": [
      " - Training Loss        1.0997\n",
      " - Validation Loss      1.0975\n",
      " - Validation Accuracy  0.3365\n",
      "\n",
      " - Validation Accuracy (per class)\n",
      "   * Class 0\t 0.0383 [13 out of 339]\n",
      "   * Class 1\t 0.8914 [279 out of 313]\n",
      "   * Class 2\t 0.1006 [31 out of 308]\n",
      "   * Mean        0.3434\n",
      "\n",
      "> ATTENTION: epoch 1 was the best one so far! The model has been saved :)\n",
      "\n",
      "==================================================================================\n"
     ]
    },
    {
     "name": "stderr",
     "output_type": "stream",
     "text": [
      "> Epoch 2: 100%|██████████| 60/60 [00:33<00:00,  1.81it/s]\n"
     ]
    },
    {
     "name": "stdout",
     "output_type": "stream",
     "text": [
      " - Training Loss        1.0735\n",
      " - Validation Loss      1.0987\n",
      " - Validation Accuracy  0.3438\n",
      "\n",
      " - Validation Accuracy (per class)\n",
      "   * Class 0\t 0.056 [19 out of 339]\n",
      "   * Class 1\t 0.901 [282 out of 313]\n",
      "   * Class 2\t 0.0942 [29 out of 308]\n",
      "   * Mean        0.3504\n",
      "\n",
      "> ATTENTION: epoch 2 was the best one so far! The model has been saved :)\n",
      "\n",
      "==================================================================================\n"
     ]
    },
    {
     "name": "stderr",
     "output_type": "stream",
     "text": [
      "> Epoch 3: 100%|██████████| 60/60 [00:33<00:00,  1.81it/s]\n"
     ]
    },
    {
     "name": "stdout",
     "output_type": "stream",
     "text": [
      " - Training Loss        1.0504\n",
      " - Validation Loss      1.1034\n",
      " - Validation Accuracy  0.3417\n",
      "\n",
      " - Validation Accuracy (per class)\n",
      "   * Class 0\t 0.0531 [18 out of 339]\n",
      "   * Class 1\t 0.9105 [285 out of 313]\n",
      "   * Class 2\t 0.0812 [25 out of 308]\n",
      "   * Mean        0.3483\n",
      "\n",
      "==================================================================================\n"
     ]
    },
    {
     "name": "stderr",
     "output_type": "stream",
     "text": [
      "> Epoch 4: 100%|██████████| 60/60 [00:33<00:00,  1.81it/s]\n"
     ]
    },
    {
     "name": "stdout",
     "output_type": "stream",
     "text": [
      " - Training Loss        1.0191\n",
      " - Validation Loss      1.1031\n",
      " - Validation Accuracy  0.3333\n",
      "\n",
      " - Validation Accuracy (per class)\n",
      "   * Class 0\t 0.0708 [24 out of 339]\n",
      "   * Class 1\t 0.0319 [10 out of 313]\n",
      "   * Class 2\t 0.9286 [286 out of 308]\n",
      "   * Mean        0.3438\n",
      "\n",
      "==================================================================================\n"
     ]
    },
    {
     "name": "stderr",
     "output_type": "stream",
     "text": [
      "> Epoch 5: 100%|██████████| 60/60 [00:33<00:00,  1.80it/s]\n"
     ]
    },
    {
     "name": "stdout",
     "output_type": "stream",
     "text": [
      " - Training Loss        0.9828\n",
      " - Validation Loss      1.1206\n",
      " - Validation Accuracy  0.349\n",
      "\n",
      " - Validation Accuracy (per class)\n",
      "   * Class 0\t 0.0649 [22 out of 339]\n",
      "   * Class 1\t 0.9042 [283 out of 313]\n",
      "   * Class 2\t 0.0974 [30 out of 308]\n",
      "   * Mean        0.3555\n",
      "\n",
      "> ATTENTION: epoch 5 was the best one so far! The model has been saved :)\n",
      "\n",
      "==================================================================================\n"
     ]
    },
    {
     "name": "stderr",
     "output_type": "stream",
     "text": [
      "> Epoch 6: 100%|██████████| 60/60 [00:33<00:00,  1.81it/s]\n"
     ]
    },
    {
     "name": "stdout",
     "output_type": "stream",
     "text": [
      " - Training Loss        0.9562\n",
      " - Validation Loss      1.1301\n",
      " - Validation Accuracy  0.3479\n",
      "\n",
      " - Validation Accuracy (per class)\n",
      "   * Class 0\t 0.0737 [25 out of 339]\n",
      "   * Class 1\t 0.9073 [284 out of 313]\n",
      "   * Class 2\t 0.0812 [25 out of 308]\n",
      "   * Mean        0.3541\n",
      "\n",
      "==================================================================================\n"
     ]
    },
    {
     "name": "stderr",
     "output_type": "stream",
     "text": [
      "> Epoch 7: 100%|██████████| 60/60 [00:33<00:00,  1.80it/s]\n"
     ]
    },
    {
     "name": "stdout",
     "output_type": "stream",
     "text": [
      " - Training Loss        0.9436\n",
      " - Validation Loss      1.2009\n",
      " - Validation Accuracy  0.3302\n",
      "\n",
      " - Validation Accuracy (per class)\n",
      "   * Class 0\t 0.0354 [12 out of 339]\n",
      "   * Class 1\t 0.0351 [11 out of 313]\n",
      "   * Class 2\t 0.9545 [294 out of 308]\n",
      "   * Mean        0.3417\n",
      "\n",
      "==================================================================================\n"
     ]
    },
    {
     "name": "stderr",
     "output_type": "stream",
     "text": [
      "> Epoch 8: 100%|██████████| 60/60 [00:33<00:00,  1.80it/s]\n"
     ]
    },
    {
     "name": "stdout",
     "output_type": "stream",
     "text": [
      " - Training Loss        0.9349\n",
      " - Validation Loss      1.1896\n",
      " - Validation Accuracy  0.351\n",
      "\n",
      " - Validation Accuracy (per class)\n",
      "   * Class 0\t 0.0472 [16 out of 339]\n",
      "   * Class 1\t 0.9137 [286 out of 313]\n",
      "   * Class 2\t 0.1136 [35 out of 308]\n",
      "   * Mean        0.3582\n",
      "\n",
      "> ATTENTION: epoch 8 was the best one so far! The model has been saved :)\n",
      "\n",
      "==================================================================================\n"
     ]
    },
    {
     "name": "stderr",
     "output_type": "stream",
     "text": [
      "> Epoch 9: 100%|██████████| 60/60 [00:33<00:00,  1.80it/s]\n"
     ]
    },
    {
     "name": "stdout",
     "output_type": "stream",
     "text": [
      " - Training Loss        0.9333\n",
      " - Validation Loss      1.1654\n",
      " - Validation Accuracy  0.3427\n",
      "\n",
      " - Validation Accuracy (per class)\n",
      "   * Class 0\t 0.0501 [17 out of 339]\n",
      "   * Class 1\t 0.9137 [286 out of 313]\n",
      "   * Class 2\t 0.0844 [26 out of 308]\n",
      "   * Mean        0.3494\n",
      "\n",
      "==================================================================================\n"
     ]
    },
    {
     "name": "stderr",
     "output_type": "stream",
     "text": [
      "> Epoch 10: 100%|██████████| 60/60 [00:33<00:00,  1.80it/s]\n"
     ]
    },
    {
     "name": "stdout",
     "output_type": "stream",
     "text": [
      " - Training Loss        0.9318\n",
      " - Validation Loss      1.2115\n",
      " - Validation Accuracy  0.3531\n",
      "\n",
      " - Validation Accuracy (per class)\n",
      "   * Class 0\t 0.056 [19 out of 339]\n",
      "   * Class 1\t 0.9137 [286 out of 313]\n",
      "   * Class 2\t 0.1104 [34 out of 308]\n",
      "   * Mean        0.36\n",
      "\n",
      "> ATTENTION: epoch 10 was the best one so far! The model has been saved :)\n",
      "\n",
      "==================================================================================\n"
     ]
    },
    {
     "name": "stderr",
     "output_type": "stream",
     "text": [
      "> Epoch 11: 100%|██████████| 60/60 [00:33<00:00,  1.80it/s]\n"
     ]
    },
    {
     "name": "stdout",
     "output_type": "stream",
     "text": [
      " - Training Loss        0.9287\n",
      " - Validation Loss      1.2088\n",
      " - Validation Accuracy  0.3396\n",
      "\n",
      " - Validation Accuracy (per class)\n",
      "   * Class 0\t 0.0442 [15 out of 339]\n",
      "   * Class 1\t 0.9073 [284 out of 313]\n",
      "   * Class 2\t 0.0877 [27 out of 308]\n",
      "   * Mean        0.3464\n",
      "\n",
      "==================================================================================\n"
     ]
    },
    {
     "name": "stderr",
     "output_type": "stream",
     "text": [
      "> Epoch 12: 100%|██████████| 60/60 [00:33<00:00,  1.80it/s]\n"
     ]
    },
    {
     "name": "stdout",
     "output_type": "stream",
     "text": [
      " - Training Loss        0.93\n",
      " - Validation Loss      1.2163\n",
      " - Validation Accuracy  0.3292\n",
      "\n",
      " - Validation Accuracy (per class)\n",
      "   * Class 0\t 0.056 [19 out of 339]\n",
      "   * Class 1\t 0.0447 [14 out of 313]\n",
      "   * Class 2\t 0.9188 [283 out of 308]\n",
      "   * Mean        0.3398\n",
      "\n",
      "==================================================================================\n"
     ]
    },
    {
     "name": "stderr",
     "output_type": "stream",
     "text": [
      "> Epoch 13: 100%|██████████| 60/60 [00:33<00:00,  1.80it/s]\n"
     ]
    },
    {
     "name": "stdout",
     "output_type": "stream",
     "text": [
      " - Training Loss        0.9268\n",
      " - Validation Loss      1.2394\n",
      " - Validation Accuracy  0.3458\n",
      "\n",
      " - Validation Accuracy (per class)\n",
      "   * Class 0\t 0.0472 [16 out of 339]\n",
      "   * Class 1\t 0.9169 [287 out of 313]\n",
      "   * Class 2\t 0.0942 [29 out of 308]\n",
      "   * Mean        0.3528\n",
      "\n",
      "==================================================================================\n"
     ]
    },
    {
     "name": "stderr",
     "output_type": "stream",
     "text": [
      "> Epoch 14: 100%|██████████| 60/60 [00:33<00:00,  1.79it/s]\n"
     ]
    },
    {
     "name": "stdout",
     "output_type": "stream",
     "text": [
      " - Training Loss        0.9265\n",
      " - Validation Loss      1.2546\n",
      " - Validation Accuracy  0.3427\n",
      "\n",
      " - Validation Accuracy (per class)\n",
      "   * Class 0\t 0.0531 [18 out of 339]\n",
      "   * Class 1\t 0.9169 [287 out of 313]\n",
      "   * Class 2\t 0.0779 [24 out of 308]\n",
      "   * Mean        0.3493\n",
      "\n",
      "==================================================================================\n"
     ]
    },
    {
     "name": "stderr",
     "output_type": "stream",
     "text": [
      "> Epoch 15: 100%|██████████| 60/60 [00:33<00:00,  1.78it/s]\n"
     ]
    },
    {
     "name": "stdout",
     "output_type": "stream",
     "text": [
      " - Training Loss        0.9263\n",
      " - Validation Loss      1.2989\n",
      " - Validation Accuracy  0.3448\n",
      "\n",
      " - Validation Accuracy (per class)\n",
      "   * Class 0\t 0.0413 [14 out of 339]\n",
      "   * Class 1\t 0.9233 [289 out of 313]\n",
      "   * Class 2\t 0.0909 [28 out of 308]\n",
      "   * Mean        0.3518\n",
      "\n",
      "==================================================================================\n"
     ]
    },
    {
     "name": "stderr",
     "output_type": "stream",
     "text": [
      "> Epoch 16: 100%|██████████| 60/60 [00:33<00:00,  1.79it/s]\n"
     ]
    },
    {
     "name": "stdout",
     "output_type": "stream",
     "text": [
      " - Training Loss        0.9268\n",
      " - Validation Loss      1.2505\n",
      " - Validation Accuracy  0.3469\n",
      "\n",
      " - Validation Accuracy (per class)\n",
      "   * Class 0\t 0.059 [20 out of 339]\n",
      "   * Class 1\t 0.9137 [286 out of 313]\n",
      "   * Class 2\t 0.0877 [27 out of 308]\n",
      "   * Mean        0.3535\n",
      "\n",
      "==================================================================================\n"
     ]
    },
    {
     "name": "stderr",
     "output_type": "stream",
     "text": [
      "> Epoch 17: 100%|██████████| 60/60 [00:33<00:00,  1.79it/s]\n"
     ]
    },
    {
     "name": "stdout",
     "output_type": "stream",
     "text": [
      " - Training Loss        0.9255\n",
      " - Validation Loss      1.2695\n",
      " - Validation Accuracy  0.351\n",
      "\n",
      " - Validation Accuracy (per class)\n",
      "   * Class 0\t 0.0619 [21 out of 339]\n",
      "   * Class 1\t 0.9073 [284 out of 313]\n",
      "   * Class 2\t 0.1039 [32 out of 308]\n",
      "   * Mean        0.3577\n",
      "\n",
      "==================================================================================\n"
     ]
    },
    {
     "name": "stderr",
     "output_type": "stream",
     "text": [
      "> Epoch 18: 100%|██████████| 60/60 [00:33<00:00,  1.79it/s]\n"
     ]
    },
    {
     "name": "stdout",
     "output_type": "stream",
     "text": [
      " - Training Loss        0.9244\n",
      " - Validation Loss      1.274\n",
      " - Validation Accuracy  0.3479\n",
      "\n",
      " - Validation Accuracy (per class)\n",
      "   * Class 0\t 0.0649 [22 out of 339]\n",
      "   * Class 1\t 0.9073 [284 out of 313]\n",
      "   * Class 2\t 0.0909 [28 out of 308]\n",
      "   * Mean        0.3544\n",
      "\n",
      "==================================================================================\n"
     ]
    },
    {
     "name": "stderr",
     "output_type": "stream",
     "text": [
      "> Epoch 19: 100%|██████████| 60/60 [00:33<00:00,  1.79it/s]\n"
     ]
    },
    {
     "name": "stdout",
     "output_type": "stream",
     "text": [
      " - Training Loss        0.9243\n",
      " - Validation Loss      1.3127\n",
      " - Validation Accuracy  0.349\n",
      "\n",
      " - Validation Accuracy (per class)\n",
      "   * Class 0\t 0.0944 [32 out of 339]\n",
      "   * Class 1\t 0.885 [277 out of 313]\n",
      "   * Class 2\t 0.0844 [26 out of 308]\n",
      "   * Mean        0.3546\n",
      "\n",
      "==================================================================================\n"
     ]
    },
    {
     "name": "stderr",
     "output_type": "stream",
     "text": [
      "> Epoch 20: 100%|██████████| 60/60 [00:33<00:00,  1.79it/s]\n"
     ]
    },
    {
     "name": "stdout",
     "output_type": "stream",
     "text": [
      " - Training Loss        0.9263\n",
      " - Validation Loss      1.2591\n",
      " - Validation Accuracy  0.3438\n",
      "\n",
      " - Validation Accuracy (per class)\n",
      "   * Class 0\t 0.0501 [17 out of 339]\n",
      "   * Class 1\t 0.9073 [284 out of 313]\n",
      "   * Class 2\t 0.0942 [29 out of 308]\n",
      "   * Mean        0.3505\n",
      "\n",
      "==================================================================================\n"
     ]
    },
    {
     "name": "stderr",
     "output_type": "stream",
     "text": [
      "> Epoch 21: 100%|██████████| 60/60 [00:33<00:00,  1.79it/s]\n"
     ]
    },
    {
     "name": "stdout",
     "output_type": "stream",
     "text": [
      " - Training Loss        0.9242\n",
      " - Validation Loss      1.2939\n",
      " - Validation Accuracy  0.3521\n",
      "\n",
      " - Validation Accuracy (per class)\n",
      "   * Class 0\t 0.0708 [24 out of 339]\n",
      "   * Class 1\t 0.901 [282 out of 313]\n",
      "   * Class 2\t 0.1039 [32 out of 308]\n",
      "   * Mean        0.3586\n",
      "\n",
      "==================================================================================\n"
     ]
    },
    {
     "name": "stderr",
     "output_type": "stream",
     "text": [
      "> Epoch 22: 100%|██████████| 60/60 [00:33<00:00,  1.80it/s]\n"
     ]
    },
    {
     "name": "stdout",
     "output_type": "stream",
     "text": [
      " - Training Loss        0.9259\n",
      " - Validation Loss      1.2533\n",
      " - Validation Accuracy  0.3438\n",
      "\n",
      " - Validation Accuracy (per class)\n",
      "   * Class 0\t 0.056 [19 out of 339]\n",
      "   * Class 1\t 0.9073 [284 out of 313]\n",
      "   * Class 2\t 0.0877 [27 out of 308]\n",
      "   * Mean        0.3503\n",
      "\n",
      "==================================================================================\n"
     ]
    },
    {
     "name": "stderr",
     "output_type": "stream",
     "text": [
      "> Epoch 23: 100%|██████████| 60/60 [00:33<00:00,  1.79it/s]\n"
     ]
    },
    {
     "name": "stdout",
     "output_type": "stream",
     "text": [
      " - Training Loss        0.9242\n",
      " - Validation Loss      1.2754\n",
      " - Validation Accuracy  0.3458\n",
      "\n",
      " - Validation Accuracy (per class)\n",
      "   * Class 0\t 0.059 [20 out of 339]\n",
      "   * Class 1\t 0.9042 [283 out of 313]\n",
      "   * Class 2\t 0.0942 [29 out of 308]\n",
      "   * Mean        0.3525\n",
      "\n",
      "==================================================================================\n"
     ]
    },
    {
     "name": "stderr",
     "output_type": "stream",
     "text": [
      "> Epoch 24: 100%|██████████| 60/60 [00:33<00:00,  1.78it/s]\n"
     ]
    },
    {
     "name": "stdout",
     "output_type": "stream",
     "text": [
      " - Training Loss        0.9235\n",
      " - Validation Loss      1.2911\n",
      " - Validation Accuracy  0.349\n",
      "\n",
      " - Validation Accuracy (per class)\n",
      "   * Class 0\t 0.0767 [26 out of 339]\n",
      "   * Class 1\t 0.901 [282 out of 313]\n",
      "   * Class 2\t 0.0877 [27 out of 308]\n",
      "   * Mean        0.3551\n",
      "\n",
      "==================================================================================\n"
     ]
    },
    {
     "name": "stderr",
     "output_type": "stream",
     "text": [
      "> Epoch 25: 100%|██████████| 60/60 [00:33<00:00,  1.78it/s]\n"
     ]
    },
    {
     "name": "stdout",
     "output_type": "stream",
     "text": [
      " - Training Loss        0.9239\n",
      " - Validation Loss      1.3199\n",
      " - Validation Accuracy  0.3427\n",
      "\n",
      " - Validation Accuracy (per class)\n",
      "   * Class 0\t 0.0472 [16 out of 339]\n",
      "   * Class 1\t 0.9137 [286 out of 313]\n",
      "   * Class 2\t 0.0877 [27 out of 308]\n",
      "   * Mean        0.3495\n",
      "\n",
      "==================================================================================\n"
     ]
    },
    {
     "name": "stderr",
     "output_type": "stream",
     "text": [
      "> Epoch 26: 100%|██████████| 60/60 [00:33<00:00,  1.79it/s]\n"
     ]
    },
    {
     "name": "stdout",
     "output_type": "stream",
     "text": [
      " - Training Loss        0.9239\n",
      " - Validation Loss      1.2973\n",
      " - Validation Accuracy  0.3469\n",
      "\n",
      " - Validation Accuracy (per class)\n",
      "   * Class 0\t 0.056 [19 out of 339]\n",
      "   * Class 1\t 0.9073 [284 out of 313]\n",
      "   * Class 2\t 0.0974 [30 out of 308]\n",
      "   * Mean        0.3536\n",
      "\n",
      "==================================================================================\n"
     ]
    },
    {
     "name": "stderr",
     "output_type": "stream",
     "text": [
      "> Epoch 27: 100%|██████████| 60/60 [00:33<00:00,  1.79it/s]\n"
     ]
    },
    {
     "name": "stdout",
     "output_type": "stream",
     "text": [
      " - Training Loss        0.9242\n",
      " - Validation Loss      1.3189\n",
      " - Validation Accuracy  0.3531\n",
      "\n",
      " - Validation Accuracy (per class)\n",
      "   * Class 0\t 0.0737 [25 out of 339]\n",
      "   * Class 1\t 0.9073 [284 out of 313]\n",
      "   * Class 2\t 0.0974 [30 out of 308]\n",
      "   * Mean        0.3595\n",
      "\n",
      "==================================================================================\n"
     ]
    },
    {
     "name": "stderr",
     "output_type": "stream",
     "text": [
      "> Epoch 28: 100%|██████████| 60/60 [00:33<00:00,  1.79it/s]\n"
     ]
    },
    {
     "name": "stdout",
     "output_type": "stream",
     "text": [
      " - Training Loss        0.9241\n",
      " - Validation Loss      1.2706\n",
      " - Validation Accuracy  0.3448\n",
      "\n",
      " - Validation Accuracy (per class)\n",
      "   * Class 0\t 0.059 [20 out of 339]\n",
      "   * Class 1\t 0.901 [282 out of 313]\n",
      "   * Class 2\t 0.0942 [29 out of 308]\n",
      "   * Mean        0.3514\n",
      "\n",
      "==================================================================================\n"
     ]
    },
    {
     "name": "stderr",
     "output_type": "stream",
     "text": [
      "> Epoch 29: 100%|██████████| 60/60 [00:33<00:00,  1.79it/s]\n"
     ]
    },
    {
     "name": "stdout",
     "output_type": "stream",
     "text": [
      " - Training Loss        0.923\n",
      " - Validation Loss      1.2906\n",
      " - Validation Accuracy  0.3427\n",
      "\n",
      " - Validation Accuracy (per class)\n",
      "   * Class 0\t 0.059 [20 out of 339]\n",
      "   * Class 1\t 0.901 [282 out of 313]\n",
      "   * Class 2\t 0.0877 [27 out of 308]\n",
      "   * Mean        0.3492\n",
      "\n",
      "==================================================================================\n"
     ]
    },
    {
     "name": "stderr",
     "output_type": "stream",
     "text": [
      "> Epoch 30: 100%|██████████| 60/60 [00:33<00:00,  1.79it/s]\n"
     ]
    },
    {
     "name": "stdout",
     "output_type": "stream",
     "text": [
      " - Training Loss        0.9244\n",
      " - Validation Loss      1.221\n",
      " - Validation Accuracy  0.349\n",
      "\n",
      " - Validation Accuracy (per class)\n",
      "   * Class 0\t 0.0796 [27 out of 339]\n",
      "   * Class 1\t 0.8978 [281 out of 313]\n",
      "   * Class 2\t 0.0877 [27 out of 308]\n",
      "   * Mean        0.355\n",
      "\n",
      "==================================================================================\n"
     ]
    },
    {
     "name": "stderr",
     "output_type": "stream",
     "text": [
      "> Epoch 31: 100%|██████████| 60/60 [00:33<00:00,  1.79it/s]\n"
     ]
    },
    {
     "name": "stdout",
     "output_type": "stream",
     "text": [
      " - Training Loss        0.9297\n",
      " - Validation Loss      1.2071\n",
      " - Validation Accuracy  0.3427\n",
      "\n",
      " - Validation Accuracy (per class)\n",
      "   * Class 0\t 0.0619 [21 out of 339]\n",
      "   * Class 1\t 0.9105 [285 out of 313]\n",
      "   * Class 2\t 0.0747 [23 out of 308]\n",
      "   * Mean        0.349\n",
      "\n",
      "==================================================================================\n"
     ]
    },
    {
     "name": "stderr",
     "output_type": "stream",
     "text": [
      "> Epoch 32: 100%|██████████| 60/60 [00:33<00:00,  1.78it/s]\n"
     ]
    },
    {
     "name": "stdout",
     "output_type": "stream",
     "text": [
      " - Training Loss        0.9255\n",
      " - Validation Loss      1.2576\n",
      " - Validation Accuracy  0.3385\n",
      "\n",
      " - Validation Accuracy (per class)\n",
      "   * Class 0\t 0.0531 [18 out of 339]\n",
      "   * Class 1\t 0.8914 [279 out of 313]\n",
      "   * Class 2\t 0.0909 [28 out of 308]\n",
      "   * Mean        0.3451\n",
      "\n",
      "==================================================================================\n"
     ]
    },
    {
     "name": "stderr",
     "output_type": "stream",
     "text": [
      "> Epoch 33: 100%|██████████| 60/60 [00:33<00:00,  1.78it/s]\n"
     ]
    },
    {
     "name": "stdout",
     "output_type": "stream",
     "text": [
      " - Training Loss        0.9234\n",
      " - Validation Loss      1.298\n",
      " - Validation Accuracy  0.3396\n",
      "\n",
      " - Validation Accuracy (per class)\n",
      "   * Class 0\t 0.0501 [17 out of 339]\n",
      "   * Class 1\t 0.8978 [281 out of 313]\n",
      "   * Class 2\t 0.0909 [28 out of 308]\n",
      "   * Mean        0.3463\n",
      "\n",
      "==================================================================================\n"
     ]
    },
    {
     "name": "stderr",
     "output_type": "stream",
     "text": [
      "> Epoch 34: 100%|██████████| 60/60 [00:33<00:00,  1.78it/s]\n"
     ]
    },
    {
     "name": "stdout",
     "output_type": "stream",
     "text": [
      " - Training Loss        0.9235\n",
      " - Validation Loss      1.2949\n",
      " - Validation Accuracy  0.3406\n",
      "\n",
      " - Validation Accuracy (per class)\n",
      "   * Class 0\t 0.059 [20 out of 339]\n",
      "   * Class 1\t 0.885 [277 out of 313]\n",
      "   * Class 2\t 0.0974 [30 out of 308]\n",
      "   * Mean        0.3471\n",
      "\n",
      "==================================================================================\n"
     ]
    },
    {
     "name": "stderr",
     "output_type": "stream",
     "text": [
      "> Epoch 35: 100%|██████████| 60/60 [00:33<00:00,  1.78it/s]\n"
     ]
    },
    {
     "name": "stdout",
     "output_type": "stream",
     "text": [
      " - Training Loss        0.9232\n",
      " - Validation Loss      1.2536\n",
      " - Validation Accuracy  0.3448\n",
      "\n",
      " - Validation Accuracy (per class)\n",
      "   * Class 0\t 0.0708 [24 out of 339]\n",
      "   * Class 1\t 0.9105 [285 out of 313]\n",
      "   * Class 2\t 0.0714 [22 out of 308]\n",
      "   * Mean        0.3509\n",
      "\n",
      "==================================================================================\n"
     ]
    },
    {
     "name": "stderr",
     "output_type": "stream",
     "text": [
      "> Epoch 36: 100%|██████████| 60/60 [00:33<00:00,  1.78it/s]\n"
     ]
    },
    {
     "name": "stdout",
     "output_type": "stream",
     "text": [
      " - Training Loss        0.9241\n",
      " - Validation Loss      1.2746\n",
      " - Validation Accuracy  0.3427\n",
      "\n",
      " - Validation Accuracy (per class)\n",
      "   * Class 0\t 0.059 [20 out of 339]\n",
      "   * Class 1\t 0.8946 [280 out of 313]\n",
      "   * Class 2\t 0.0942 [29 out of 308]\n",
      "   * Mean        0.3493\n",
      "\n",
      "==================================================================================\n"
     ]
    },
    {
     "name": "stderr",
     "output_type": "stream",
     "text": [
      "> Epoch 37: 100%|██████████| 60/60 [00:33<00:00,  1.78it/s]\n"
     ]
    },
    {
     "name": "stdout",
     "output_type": "stream",
     "text": [
      " - Training Loss        0.9232\n",
      " - Validation Loss      1.2999\n",
      " - Validation Accuracy  0.3417\n",
      "\n",
      " - Validation Accuracy (per class)\n",
      "   * Class 0\t 0.0619 [21 out of 339]\n",
      "   * Class 1\t 0.8914 [279 out of 313]\n",
      "   * Class 2\t 0.0909 [28 out of 308]\n",
      "   * Mean        0.3481\n",
      "\n",
      "==================================================================================\n"
     ]
    },
    {
     "name": "stderr",
     "output_type": "stream",
     "text": [
      "> Epoch 38: 100%|██████████| 60/60 [00:33<00:00,  1.78it/s]\n"
     ]
    },
    {
     "name": "stdout",
     "output_type": "stream",
     "text": [
      " - Training Loss        0.9241\n",
      " - Validation Loss      1.2472\n",
      " - Validation Accuracy  0.3448\n",
      "\n",
      " - Validation Accuracy (per class)\n",
      "   * Class 0\t 0.0678 [23 out of 339]\n",
      "   * Class 1\t 0.8946 [280 out of 313]\n",
      "   * Class 2\t 0.0909 [28 out of 308]\n",
      "   * Mean        0.3511\n",
      "\n",
      "==================================================================================\n"
     ]
    },
    {
     "name": "stderr",
     "output_type": "stream",
     "text": [
      "> Epoch 39: 100%|██████████| 60/60 [00:33<00:00,  1.77it/s]\n"
     ]
    },
    {
     "name": "stdout",
     "output_type": "stream",
     "text": [
      " - Training Loss        0.9227\n",
      " - Validation Loss      1.2626\n",
      " - Validation Accuracy  0.3448\n",
      "\n",
      " - Validation Accuracy (per class)\n",
      "   * Class 0\t 0.0678 [23 out of 339]\n",
      "   * Class 1\t 0.901 [282 out of 313]\n",
      "   * Class 2\t 0.0844 [26 out of 308]\n",
      "   * Mean        0.3511\n",
      "\n",
      "==================================================================================\n"
     ]
    },
    {
     "name": "stderr",
     "output_type": "stream",
     "text": [
      "> Epoch 40: 100%|██████████| 60/60 [00:33<00:00,  1.77it/s]\n"
     ]
    },
    {
     "name": "stdout",
     "output_type": "stream",
     "text": [
      " - Training Loss        0.9221\n",
      " - Validation Loss      1.2677\n",
      " - Validation Accuracy  0.3458\n",
      "\n",
      " - Validation Accuracy (per class)\n",
      "   * Class 0\t 0.0767 [26 out of 339]\n",
      "   * Class 1\t 0.9233 [289 out of 313]\n",
      "   * Class 2\t 0.0552 [17 out of 308]\n",
      "   * Mean        0.3517\n",
      "\n",
      "==================================================================================\n"
     ]
    },
    {
     "name": "stderr",
     "output_type": "stream",
     "text": [
      "> Epoch 41: 100%|██████████| 60/60 [00:33<00:00,  1.78it/s]\n"
     ]
    },
    {
     "name": "stdout",
     "output_type": "stream",
     "text": [
      " - Training Loss        0.9235\n",
      " - Validation Loss      1.2435\n",
      " - Validation Accuracy  0.3406\n",
      "\n",
      " - Validation Accuracy (per class)\n",
      "   * Class 0\t 0.059 [20 out of 339]\n",
      "   * Class 1\t 0.9105 [285 out of 313]\n",
      "   * Class 2\t 0.0714 [22 out of 308]\n",
      "   * Mean        0.347\n",
      "\n",
      "==================================================================================\n"
     ]
    },
    {
     "name": "stderr",
     "output_type": "stream",
     "text": [
      "> Epoch 42: 100%|██████████| 60/60 [00:33<00:00,  1.79it/s]\n"
     ]
    },
    {
     "name": "stdout",
     "output_type": "stream",
     "text": [
      " - Training Loss        0.9246\n",
      " - Validation Loss      1.2565\n",
      " - Validation Accuracy  0.3458\n",
      "\n",
      " - Validation Accuracy (per class)\n",
      "   * Class 0\t 0.0737 [25 out of 339]\n",
      "   * Class 1\t 0.8978 [281 out of 313]\n",
      "   * Class 2\t 0.0844 [26 out of 308]\n",
      "   * Mean        0.352\n",
      "\n",
      "==================================================================================\n"
     ]
    },
    {
     "name": "stderr",
     "output_type": "stream",
     "text": [
      "> Epoch 43: 100%|██████████| 60/60 [00:33<00:00,  1.78it/s]\n"
     ]
    },
    {
     "name": "stdout",
     "output_type": "stream",
     "text": [
      " - Training Loss        0.9231\n",
      " - Validation Loss      1.272\n",
      " - Validation Accuracy  0.3531\n",
      "\n",
      " - Validation Accuracy (per class)\n",
      "   * Class 0\t 0.0796 [27 out of 339]\n",
      "   * Class 1\t 0.901 [282 out of 313]\n",
      "   * Class 2\t 0.0974 [30 out of 308]\n",
      "   * Mean        0.3593\n",
      "\n",
      "==================================================================================\n"
     ]
    },
    {
     "name": "stderr",
     "output_type": "stream",
     "text": [
      "> Epoch 44: 100%|██████████| 60/60 [00:33<00:00,  1.78it/s]\n"
     ]
    },
    {
     "name": "stdout",
     "output_type": "stream",
     "text": [
      " - Training Loss        0.9228\n",
      " - Validation Loss      1.2711\n",
      " - Validation Accuracy  0.3479\n",
      "\n",
      " - Validation Accuracy (per class)\n",
      "   * Class 0\t 0.0708 [24 out of 339]\n",
      "   * Class 1\t 0.9042 [283 out of 313]\n",
      "   * Class 2\t 0.0877 [27 out of 308]\n",
      "   * Mean        0.3542\n",
      "\n",
      "==================================================================================\n"
     ]
    },
    {
     "name": "stderr",
     "output_type": "stream",
     "text": [
      "> Epoch 45: 100%|██████████| 60/60 [00:32<00:00,  1.82it/s]\n"
     ]
    },
    {
     "name": "stdout",
     "output_type": "stream",
     "text": [
      " - Training Loss        0.9219\n",
      " - Validation Loss      1.2996\n",
      " - Validation Accuracy  0.3542\n",
      "\n",
      " - Validation Accuracy (per class)\n",
      "   * Class 0\t 0.0855 [29 out of 339]\n",
      "   * Class 1\t 0.8978 [281 out of 313]\n",
      "   * Class 2\t 0.0974 [30 out of 308]\n",
      "   * Mean        0.3602\n",
      "\n",
      "> ATTENTION: epoch 45 was the best one so far! The model has been saved :)\n",
      "\n",
      "==================================================================================\n"
     ]
    },
    {
     "name": "stderr",
     "output_type": "stream",
     "text": [
      "> Epoch 46: 100%|██████████| 60/60 [00:32<00:00,  1.82it/s]\n"
     ]
    },
    {
     "name": "stdout",
     "output_type": "stream",
     "text": [
      " - Training Loss        0.9223\n",
      " - Validation Loss      1.2987\n",
      " - Validation Accuracy  0.349\n",
      "\n",
      " - Validation Accuracy (per class)\n",
      "   * Class 0\t 0.0649 [22 out of 339]\n",
      "   * Class 1\t 0.9042 [283 out of 313]\n",
      "   * Class 2\t 0.0974 [30 out of 308]\n",
      "   * Mean        0.3555\n",
      "\n",
      "==================================================================================\n"
     ]
    },
    {
     "name": "stderr",
     "output_type": "stream",
     "text": [
      "> Epoch 47: 100%|██████████| 60/60 [00:33<00:00,  1.81it/s]\n"
     ]
    },
    {
     "name": "stdout",
     "output_type": "stream",
     "text": [
      " - Training Loss        0.9219\n",
      " - Validation Loss      1.2803\n",
      " - Validation Accuracy  0.3479\n",
      "\n",
      " - Validation Accuracy (per class)\n",
      "   * Class 0\t 0.059 [20 out of 339]\n",
      "   * Class 1\t 0.9137 [286 out of 313]\n",
      "   * Class 2\t 0.0909 [28 out of 308]\n",
      "   * Mean        0.3545\n",
      "\n",
      "==================================================================================\n"
     ]
    },
    {
     "name": "stderr",
     "output_type": "stream",
     "text": [
      "> Epoch 48: 100%|██████████| 60/60 [00:32<00:00,  1.82it/s]\n"
     ]
    },
    {
     "name": "stdout",
     "output_type": "stream",
     "text": [
      " - Training Loss        0.9241\n",
      " - Validation Loss      1.2757\n",
      " - Validation Accuracy  0.349\n",
      "\n",
      " - Validation Accuracy (per class)\n",
      "   * Class 0\t 0.0885 [30 out of 339]\n",
      "   * Class 1\t 0.8978 [281 out of 313]\n",
      "   * Class 2\t 0.0779 [24 out of 308]\n",
      "   * Mean        0.3547\n",
      "\n",
      "==================================================================================\n"
     ]
    },
    {
     "name": "stderr",
     "output_type": "stream",
     "text": [
      "> Epoch 49: 100%|██████████| 60/60 [00:32<00:00,  1.82it/s]\n"
     ]
    },
    {
     "name": "stdout",
     "output_type": "stream",
     "text": [
      " - Training Loss        0.9274\n",
      " - Validation Loss      1.2426\n",
      " - Validation Accuracy  0.3448\n",
      "\n",
      " - Validation Accuracy (per class)\n",
      "   * Class 0\t 0.0737 [25 out of 339]\n",
      "   * Class 1\t 0.9042 [283 out of 313]\n",
      "   * Class 2\t 0.0747 [23 out of 308]\n",
      "   * Mean        0.3509\n",
      "\n",
      "==================================================================================\n"
     ]
    },
    {
     "name": "stderr",
     "output_type": "stream",
     "text": [
      "> Epoch 50: 100%|██████████| 60/60 [00:32<00:00,  1.82it/s]\n"
     ]
    },
    {
     "name": "stdout",
     "output_type": "stream",
     "text": [
      " - Training Loss        0.9235\n",
      " - Validation Loss      1.2758\n",
      " - Validation Accuracy  0.3427\n",
      "\n",
      " - Validation Accuracy (per class)\n",
      "   * Class 0\t 0.056 [19 out of 339]\n",
      "   * Class 1\t 0.9201 [288 out of 313]\n",
      "   * Class 2\t 0.0714 [22 out of 308]\n",
      "   * Mean        0.3492\n",
      "\n",
      "==================================================================================\n",
      "> Parameters imported\n",
      "> Dataset correctly divided in training set, validation set and test set\n",
      "> Created Pytorch datasets and dataloaders\n",
      "> Model 'LSTM_fixed' instantiated\n",
      "> Initialization required 0.072 seconds\n",
      "==================================================================================\n",
      "> Training Started\n",
      "  - Total Epochs: 50\n",
      "==================================================================================\n"
     ]
    },
    {
     "name": "stderr",
     "output_type": "stream",
     "text": [
      "> Epoch 1: 100%|██████████| 60/60 [00:32<00:00,  1.82it/s]\n"
     ]
    },
    {
     "name": "stdout",
     "output_type": "stream",
     "text": [
      " - Training Loss        1.1107\n",
      " - Validation Loss      1.1003\n",
      " - Validation Accuracy  0.3406\n",
      "\n",
      " - Validation Accuracy (per class)\n",
      "   * Class 0\t 0.0206 [7 out of 339]\n",
      "   * Class 1\t 0.9201 [288 out of 313]\n",
      "   * Class 2\t 0.1039 [32 out of 308]\n",
      "   * Mean        0.3482\n",
      "\n",
      "> ATTENTION: epoch 1 was the best one so far! The model has been saved :)\n",
      "\n",
      "==================================================================================\n"
     ]
    },
    {
     "name": "stderr",
     "output_type": "stream",
     "text": [
      "> Epoch 2: 100%|██████████| 60/60 [00:33<00:00,  1.80it/s]\n"
     ]
    },
    {
     "name": "stdout",
     "output_type": "stream",
     "text": [
      " - Training Loss        1.0968\n",
      " - Validation Loss      1.2798\n",
      " - Validation Accuracy  0.2938\n",
      "\n",
      " - Validation Accuracy (per class)\n",
      "   * Class 0\t 0.059 [20 out of 339]\n",
      "   * Class 1\t 0.5623 [176 out of 313]\n",
      "   * Class 2\t 0.2792 [86 out of 308]\n",
      "   * Mean        0.3002\n",
      "\n",
      "==================================================================================\n"
     ]
    },
    {
     "name": "stderr",
     "output_type": "stream",
     "text": [
      "> Epoch 3: 100%|██████████| 60/60 [00:33<00:00,  1.78it/s]\n"
     ]
    },
    {
     "name": "stdout",
     "output_type": "stream",
     "text": [
      " - Training Loss        1.1309\n",
      " - Validation Loss      1.1387\n",
      " - Validation Accuracy  0.3354\n",
      "\n",
      " - Validation Accuracy (per class)\n",
      "   * Class 0\t 0.0324 [11 out of 339]\n",
      "   * Class 1\t 0.9297 [291 out of 313]\n",
      "   * Class 2\t 0.0649 [20 out of 308]\n",
      "   * Mean        0.3423\n",
      "\n",
      "==================================================================================\n"
     ]
    },
    {
     "name": "stderr",
     "output_type": "stream",
     "text": [
      "> Epoch 4: 100%|██████████| 60/60 [00:33<00:00,  1.78it/s]\n"
     ]
    },
    {
     "name": "stdout",
     "output_type": "stream",
     "text": [
      " - Training Loss        0.9864\n",
      " - Validation Loss      0.9808\n",
      " - Validation Accuracy  0.5875\n",
      "\n",
      " - Validation Accuracy (per class)\n",
      "   * Class 0\t 0.528 [179 out of 339]\n",
      "   * Class 1\t 0.508 [159 out of 313]\n",
      "   * Class 2\t 0.7338 [226 out of 308]\n",
      "   * Mean        0.5899\n",
      "\n",
      "> ATTENTION: epoch 4 was the best one so far! The model has been saved :)\n",
      "\n",
      "==================================================================================\n"
     ]
    },
    {
     "name": "stderr",
     "output_type": "stream",
     "text": [
      "> Epoch 5: 100%|██████████| 60/60 [00:33<00:00,  1.78it/s]\n"
     ]
    },
    {
     "name": "stdout",
     "output_type": "stream",
     "text": [
      " - Training Loss        0.9539\n",
      " - Validation Loss      1.1213\n",
      " - Validation Accuracy  0.399\n",
      "\n",
      " - Validation Accuracy (per class)\n",
      "   * Class 0\t 0.6224 [211 out of 339]\n",
      "   * Class 1\t 0.1118 [35 out of 313]\n",
      "   * Class 2\t 0.4448 [137 out of 308]\n",
      "   * Mean        0.393\n",
      "\n",
      "==================================================================================\n"
     ]
    },
    {
     "name": "stderr",
     "output_type": "stream",
     "text": [
      "> Epoch 6: 100%|██████████| 60/60 [00:33<00:00,  1.78it/s]\n"
     ]
    },
    {
     "name": "stdout",
     "output_type": "stream",
     "text": [
      " - Training Loss        0.9173\n",
      " - Validation Loss      1.0\n",
      " - Validation Accuracy  0.526\n",
      "\n",
      " - Validation Accuracy (per class)\n",
      "   * Class 0\t 0.059 [20 out of 339]\n",
      "   * Class 1\t 0.8658 [271 out of 313]\n",
      "   * Class 2\t 0.6948 [214 out of 308]\n",
      "   * Mean        0.5399\n",
      "\n",
      "==================================================================================\n"
     ]
    },
    {
     "name": "stderr",
     "output_type": "stream",
     "text": [
      "> Epoch 7: 100%|██████████| 60/60 [00:33<00:00,  1.78it/s]\n"
     ]
    },
    {
     "name": "stdout",
     "output_type": "stream",
     "text": [
      " - Training Loss        0.7743\n",
      " - Validation Loss      0.9688\n",
      " - Validation Accuracy  0.5219\n",
      "\n",
      " - Validation Accuracy (per class)\n",
      "   * Class 0\t 0.0649 [22 out of 339]\n",
      "   * Class 1\t 0.8818 [276 out of 313]\n",
      "   * Class 2\t 0.6591 [203 out of 308]\n",
      "   * Mean        0.5353\n",
      "\n",
      "==================================================================================\n"
     ]
    },
    {
     "name": "stderr",
     "output_type": "stream",
     "text": [
      "> Epoch 8: 100%|██████████| 60/60 [00:33<00:00,  1.78it/s]\n"
     ]
    },
    {
     "name": "stdout",
     "output_type": "stream",
     "text": [
      " - Training Loss        0.7587\n",
      " - Validation Loss      0.9759\n",
      " - Validation Accuracy  0.526\n",
      "\n",
      " - Validation Accuracy (per class)\n",
      "   * Class 0\t 0.0708 [24 out of 339]\n",
      "   * Class 1\t 0.8914 [279 out of 313]\n",
      "   * Class 2\t 0.6558 [202 out of 308]\n",
      "   * Mean        0.5393\n",
      "\n",
      "==================================================================================\n"
     ]
    },
    {
     "name": "stderr",
     "output_type": "stream",
     "text": [
      "> Epoch 9: 100%|██████████| 60/60 [00:33<00:00,  1.78it/s]\n"
     ]
    },
    {
     "name": "stdout",
     "output_type": "stream",
     "text": [
      " - Training Loss        0.7775\n",
      " - Validation Loss      1.085\n",
      " - Validation Accuracy  0.3823\n",
      "\n",
      " - Validation Accuracy (per class)\n",
      "   * Class 0\t 0.8378 [284 out of 339]\n",
      "   * Class 1\t 0.0863 [27 out of 313]\n",
      "   * Class 2\t 0.1818 [56 out of 308]\n",
      "   * Mean        0.3686\n",
      "\n",
      "==================================================================================\n"
     ]
    },
    {
     "name": "stderr",
     "output_type": "stream",
     "text": [
      "> Epoch 10: 100%|██████████| 60/60 [00:33<00:00,  1.78it/s]\n"
     ]
    },
    {
     "name": "stdout",
     "output_type": "stream",
     "text": [
      " - Training Loss        0.7151\n",
      " - Validation Loss      0.9196\n",
      " - Validation Accuracy  0.6469\n",
      "\n",
      " - Validation Accuracy (per class)\n",
      "   * Class 0\t 0.6342 [215 out of 339]\n",
      "   * Class 1\t 0.5751 [180 out of 313]\n",
      "   * Class 2\t 0.7338 [226 out of 308]\n",
      "   * Mean        0.6477\n",
      "\n",
      "> ATTENTION: epoch 10 was the best one so far! The model has been saved :)\n",
      "\n",
      "==================================================================================\n"
     ]
    },
    {
     "name": "stderr",
     "output_type": "stream",
     "text": [
      "> Epoch 11: 100%|██████████| 60/60 [00:33<00:00,  1.78it/s]\n"
     ]
    },
    {
     "name": "stdout",
     "output_type": "stream",
     "text": [
      " - Training Loss        0.6296\n",
      " - Validation Loss      0.8455\n",
      " - Validation Accuracy  0.6844\n",
      "\n",
      " - Validation Accuracy (per class)\n",
      "   * Class 0\t 0.6106 [207 out of 339]\n",
      "   * Class 1\t 0.7412 [232 out of 313]\n",
      "   * Class 2\t 0.7078 [218 out of 308]\n",
      "   * Mean        0.6865\n",
      "\n",
      "> ATTENTION: epoch 11 was the best one so far! The model has been saved :)\n",
      "\n",
      "==================================================================================\n"
     ]
    },
    {
     "name": "stderr",
     "output_type": "stream",
     "text": [
      "> Epoch 12: 100%|██████████| 60/60 [00:33<00:00,  1.78it/s]\n"
     ]
    },
    {
     "name": "stdout",
     "output_type": "stream",
     "text": [
      " - Training Loss        0.5675\n",
      " - Validation Loss      0.826\n",
      " - Validation Accuracy  0.6896\n",
      "\n",
      " - Validation Accuracy (per class)\n",
      "   * Class 0\t 0.5811 [197 out of 339]\n",
      "   * Class 1\t 0.8179 [256 out of 313]\n",
      "   * Class 2\t 0.6786 [209 out of 308]\n",
      "   * Mean        0.6925\n",
      "\n",
      "> ATTENTION: epoch 12 was the best one so far! The model has been saved :)\n",
      "\n",
      "==================================================================================\n"
     ]
    },
    {
     "name": "stderr",
     "output_type": "stream",
     "text": [
      "> Epoch 13: 100%|██████████| 60/60 [00:33<00:00,  1.78it/s]\n"
     ]
    },
    {
     "name": "stdout",
     "output_type": "stream",
     "text": [
      " - Training Loss        0.5268\n",
      " - Validation Loss      0.7849\n",
      " - Validation Accuracy  0.7104\n",
      "\n",
      " - Validation Accuracy (per class)\n",
      "   * Class 0\t 0.6195 [210 out of 339]\n",
      "   * Class 1\t 0.8435 [264 out of 313]\n",
      "   * Class 2\t 0.6753 [208 out of 308]\n",
      "   * Mean        0.7128\n",
      "\n",
      "> ATTENTION: epoch 13 was the best one so far! The model has been saved :)\n",
      "\n",
      "==================================================================================\n"
     ]
    },
    {
     "name": "stderr",
     "output_type": "stream",
     "text": [
      "> Epoch 14: 100%|██████████| 60/60 [00:33<00:00,  1.78it/s]\n"
     ]
    },
    {
     "name": "stdout",
     "output_type": "stream",
     "text": [
      " - Training Loss        0.4918\n",
      " - Validation Loss      0.7698\n",
      " - Validation Accuracy  0.7271\n",
      "\n",
      " - Validation Accuracy (per class)\n",
      "   * Class 0\t 0.6224 [211 out of 339]\n",
      "   * Class 1\t 0.8403 [263 out of 313]\n",
      "   * Class 2\t 0.7273 [224 out of 308]\n",
      "   * Mean        0.73\n",
      "\n",
      "> ATTENTION: epoch 14 was the best one so far! The model has been saved :)\n",
      "\n",
      "==================================================================================\n"
     ]
    },
    {
     "name": "stderr",
     "output_type": "stream",
     "text": [
      "> Epoch 15: 100%|██████████| 60/60 [00:33<00:00,  1.78it/s]\n"
     ]
    },
    {
     "name": "stdout",
     "output_type": "stream",
     "text": [
      " - Training Loss        0.468\n",
      " - Validation Loss      0.8028\n",
      " - Validation Accuracy  0.7323\n",
      "\n",
      " - Validation Accuracy (per class)\n",
      "   * Class 0\t 0.6195 [210 out of 339]\n",
      "   * Class 1\t 0.8371 [262 out of 313]\n",
      "   * Class 2\t 0.75 [231 out of 308]\n",
      "   * Mean        0.7355\n",
      "\n",
      "> ATTENTION: epoch 15 was the best one so far! The model has been saved :)\n",
      "\n",
      "==================================================================================\n"
     ]
    },
    {
     "name": "stderr",
     "output_type": "stream",
     "text": [
      "> Epoch 16: 100%|██████████| 60/60 [00:33<00:00,  1.77it/s]\n"
     ]
    },
    {
     "name": "stdout",
     "output_type": "stream",
     "text": [
      " - Training Loss        0.4544\n",
      " - Validation Loss      0.793\n",
      " - Validation Accuracy  0.7323\n",
      "\n",
      " - Validation Accuracy (per class)\n",
      "   * Class 0\t 0.6401 [217 out of 339]\n",
      "   * Class 1\t 0.8594 [269 out of 313]\n",
      "   * Class 2\t 0.7045 [217 out of 308]\n",
      "   * Mean        0.7347\n",
      "\n",
      "==================================================================================\n"
     ]
    },
    {
     "name": "stderr",
     "output_type": "stream",
     "text": [
      "> Epoch 17: 100%|██████████| 60/60 [00:33<00:00,  1.78it/s]\n"
     ]
    },
    {
     "name": "stdout",
     "output_type": "stream",
     "text": [
      " - Training Loss        0.5475\n",
      " - Validation Loss      0.8381\n",
      " - Validation Accuracy  0.7135\n",
      "\n",
      " - Validation Accuracy (per class)\n",
      "   * Class 0\t 0.6283 [213 out of 339]\n",
      "   * Class 1\t 0.8882 [278 out of 313]\n",
      "   * Class 2\t 0.6299 [194 out of 308]\n",
      "   * Mean        0.7155\n",
      "\n",
      "==================================================================================\n"
     ]
    },
    {
     "name": "stderr",
     "output_type": "stream",
     "text": [
      "> Epoch 18: 100%|██████████| 60/60 [00:33<00:00,  1.78it/s]\n"
     ]
    },
    {
     "name": "stdout",
     "output_type": "stream",
     "text": [
      " - Training Loss        0.4897\n",
      " - Validation Loss      0.77\n",
      " - Validation Accuracy  0.7375\n",
      "\n",
      " - Validation Accuracy (per class)\n",
      "   * Class 0\t 0.7227 [245 out of 339]\n",
      "   * Class 1\t 0.8275 [259 out of 313]\n",
      "   * Class 2\t 0.6623 [204 out of 308]\n",
      "   * Mean        0.7375\n",
      "\n",
      "> ATTENTION: epoch 18 was the best one so far! The model has been saved :)\n",
      "\n",
      "==================================================================================\n"
     ]
    },
    {
     "name": "stderr",
     "output_type": "stream",
     "text": [
      "> Epoch 19: 100%|██████████| 60/60 [00:33<00:00,  1.78it/s]\n"
     ]
    },
    {
     "name": "stdout",
     "output_type": "stream",
     "text": [
      " - Training Loss        0.4405\n",
      " - Validation Loss      0.7862\n",
      " - Validation Accuracy  0.7531\n",
      "\n",
      " - Validation Accuracy (per class)\n",
      "   * Class 0\t 0.6519 [221 out of 339]\n",
      "   * Class 1\t 0.869 [272 out of 313]\n",
      "   * Class 2\t 0.7468 [230 out of 308]\n",
      "   * Mean        0.7559\n",
      "\n",
      "> ATTENTION: epoch 19 was the best one so far! The model has been saved :)\n",
      "\n",
      "==================================================================================\n"
     ]
    },
    {
     "name": "stderr",
     "output_type": "stream",
     "text": [
      "> Epoch 20: 100%|██████████| 60/60 [00:33<00:00,  1.78it/s]\n"
     ]
    },
    {
     "name": "stdout",
     "output_type": "stream",
     "text": [
      " - Training Loss        0.42\n",
      " - Validation Loss      0.7353\n",
      " - Validation Accuracy  0.749\n",
      "\n",
      " - Validation Accuracy (per class)\n",
      "   * Class 0\t 0.6932 [235 out of 339]\n",
      "   * Class 1\t 0.7572 [237 out of 313]\n",
      "   * Class 2\t 0.8019 [247 out of 308]\n",
      "   * Mean        0.7508\n",
      "\n",
      "==================================================================================\n"
     ]
    },
    {
     "name": "stderr",
     "output_type": "stream",
     "text": [
      "> Epoch 21: 100%|██████████| 60/60 [00:33<00:00,  1.77it/s]\n"
     ]
    },
    {
     "name": "stdout",
     "output_type": "stream",
     "text": [
      " - Training Loss        0.4372\n",
      " - Validation Loss      0.8132\n",
      " - Validation Accuracy  0.7646\n",
      "\n",
      " - Validation Accuracy (per class)\n",
      "   * Class 0\t 0.6932 [235 out of 339]\n",
      "   * Class 1\t 0.8147 [255 out of 313]\n",
      "   * Class 2\t 0.7922 [244 out of 308]\n",
      "   * Mean        0.7667\n",
      "\n",
      "> ATTENTION: epoch 21 was the best one so far! The model has been saved :)\n",
      "\n",
      "==================================================================================\n"
     ]
    },
    {
     "name": "stderr",
     "output_type": "stream",
     "text": [
      "> Epoch 22: 100%|██████████| 60/60 [00:33<00:00,  1.78it/s]\n"
     ]
    },
    {
     "name": "stdout",
     "output_type": "stream",
     "text": [
      " - Training Loss        0.3647\n",
      " - Validation Loss      0.7695\n",
      " - Validation Accuracy  0.7635\n",
      "\n",
      " - Validation Accuracy (per class)\n",
      "   * Class 0\t 0.6844 [232 out of 339]\n",
      "   * Class 1\t 0.722 [226 out of 313]\n",
      "   * Class 2\t 0.8929 [275 out of 308]\n",
      "   * Mean        0.7664\n",
      "\n",
      "==================================================================================\n"
     ]
    },
    {
     "name": "stderr",
     "output_type": "stream",
     "text": [
      "> Epoch 23: 100%|██████████| 60/60 [00:33<00:00,  1.78it/s]\n"
     ]
    },
    {
     "name": "stdout",
     "output_type": "stream",
     "text": [
      " - Training Loss        0.3053\n",
      " - Validation Loss      0.7637\n",
      " - Validation Accuracy  0.7604\n",
      "\n",
      " - Validation Accuracy (per class)\n",
      "   * Class 0\t 0.6785 [230 out of 339]\n",
      "   * Class 1\t 0.7252 [227 out of 313]\n",
      "   * Class 2\t 0.8864 [273 out of 308]\n",
      "   * Mean        0.7634\n",
      "\n",
      "==================================================================================\n"
     ]
    },
    {
     "name": "stderr",
     "output_type": "stream",
     "text": [
      "> Epoch 24: 100%|██████████| 60/60 [00:33<00:00,  1.78it/s]\n"
     ]
    },
    {
     "name": "stdout",
     "output_type": "stream",
     "text": [
      " - Training Loss        0.2637\n",
      " - Validation Loss      0.7532\n",
      " - Validation Accuracy  0.776\n",
      "\n",
      " - Validation Accuracy (per class)\n",
      "   * Class 0\t 0.7316 [248 out of 339]\n",
      "   * Class 1\t 0.7636 [239 out of 313]\n",
      "   * Class 2\t 0.8377 [258 out of 308]\n",
      "   * Mean        0.7776\n",
      "\n",
      "> ATTENTION: epoch 24 was the best one so far! The model has been saved :)\n",
      "\n",
      "==================================================================================\n"
     ]
    },
    {
     "name": "stderr",
     "output_type": "stream",
     "text": [
      "> Epoch 25: 100%|██████████| 60/60 [00:33<00:00,  1.78it/s]\n"
     ]
    },
    {
     "name": "stdout",
     "output_type": "stream",
     "text": [
      " - Training Loss        0.2213\n",
      " - Validation Loss      0.7235\n",
      " - Validation Accuracy  0.7948\n",
      "\n",
      " - Validation Accuracy (per class)\n",
      "   * Class 0\t 0.7375 [250 out of 339]\n",
      "   * Class 1\t 0.8019 [251 out of 313]\n",
      "   * Class 2\t 0.8506 [262 out of 308]\n",
      "   * Mean        0.7967\n",
      "\n",
      "> ATTENTION: epoch 25 was the best one so far! The model has been saved :)\n",
      "\n",
      "==================================================================================\n"
     ]
    },
    {
     "name": "stderr",
     "output_type": "stream",
     "text": [
      "> Epoch 26: 100%|██████████| 60/60 [00:29<00:00,  2.04it/s]\n"
     ]
    },
    {
     "name": "stdout",
     "output_type": "stream",
     "text": [
      " - Training Loss        0.2049\n",
      " - Validation Loss      0.7602\n",
      " - Validation Accuracy  0.7833\n",
      "\n",
      " - Validation Accuracy (per class)\n",
      "   * Class 0\t 0.7463 [253 out of 339]\n",
      "   * Class 1\t 0.7636 [239 out of 313]\n",
      "   * Class 2\t 0.8442 [260 out of 308]\n",
      "   * Mean        0.7847\n",
      "\n",
      "==================================================================================\n"
     ]
    },
    {
     "name": "stderr",
     "output_type": "stream",
     "text": [
      "> Epoch 27: 100%|██████████| 60/60 [00:29<00:00,  2.05it/s]\n"
     ]
    },
    {
     "name": "stdout",
     "output_type": "stream",
     "text": [
      " - Training Loss        0.2493\n",
      " - Validation Loss      0.7121\n",
      " - Validation Accuracy  0.8052\n",
      "\n",
      " - Validation Accuracy (per class)\n",
      "   * Class 0\t 0.7493 [254 out of 339]\n",
      "   * Class 1\t 0.8498 [266 out of 313]\n",
      "   * Class 2\t 0.8214 [253 out of 308]\n",
      "   * Mean        0.8068\n",
      "\n",
      "> ATTENTION: epoch 27 was the best one so far! The model has been saved :)\n",
      "\n",
      "==================================================================================\n"
     ]
    },
    {
     "name": "stderr",
     "output_type": "stream",
     "text": [
      "> Epoch 28: 100%|██████████| 60/60 [00:29<00:00,  2.05it/s]\n"
     ]
    },
    {
     "name": "stdout",
     "output_type": "stream",
     "text": [
      " - Training Loss        0.1856\n",
      " - Validation Loss      0.7426\n",
      " - Validation Accuracy  0.7927\n",
      "\n",
      " - Validation Accuracy (per class)\n",
      "   * Class 0\t 0.7139 [242 out of 339]\n",
      "   * Class 1\t 0.8626 [270 out of 313]\n",
      "   * Class 2\t 0.8084 [249 out of 308]\n",
      "   * Mean        0.795\n",
      "\n",
      "==================================================================================\n"
     ]
    },
    {
     "name": "stderr",
     "output_type": "stream",
     "text": [
      "> Epoch 29: 100%|██████████| 60/60 [00:29<00:00,  2.05it/s]\n"
     ]
    },
    {
     "name": "stdout",
     "output_type": "stream",
     "text": [
      " - Training Loss        0.1668\n",
      " - Validation Loss      0.7214\n",
      " - Validation Accuracy  0.8042\n",
      "\n",
      " - Validation Accuracy (per class)\n",
      "   * Class 0\t 0.7404 [251 out of 339]\n",
      "   * Class 1\t 0.8211 [257 out of 313]\n",
      "   * Class 2\t 0.8571 [264 out of 308]\n",
      "   * Mean        0.8062\n",
      "\n",
      "==================================================================================\n"
     ]
    },
    {
     "name": "stderr",
     "output_type": "stream",
     "text": [
      "> Epoch 30: 100%|██████████| 60/60 [00:29<00:00,  2.05it/s]\n"
     ]
    },
    {
     "name": "stdout",
     "output_type": "stream",
     "text": [
      " - Training Loss        0.1599\n",
      " - Validation Loss      0.7228\n",
      " - Validation Accuracy  0.7938\n",
      "\n",
      " - Validation Accuracy (per class)\n",
      "   * Class 0\t 0.7552 [256 out of 339]\n",
      "   * Class 1\t 0.8243 [258 out of 313]\n",
      "   * Class 2\t 0.8052 [248 out of 308]\n",
      "   * Mean        0.7949\n",
      "\n",
      "==================================================================================\n"
     ]
    },
    {
     "name": "stderr",
     "output_type": "stream",
     "text": [
      "> Epoch 31: 100%|██████████| 60/60 [00:29<00:00,  2.05it/s]\n"
     ]
    },
    {
     "name": "stdout",
     "output_type": "stream",
     "text": [
      " - Training Loss        0.149\n",
      " - Validation Loss      0.7414\n",
      " - Validation Accuracy  0.8021\n",
      "\n",
      " - Validation Accuracy (per class)\n",
      "   * Class 0\t 0.7345 [249 out of 339]\n",
      "   * Class 1\t 0.8466 [265 out of 313]\n",
      "   * Class 2\t 0.8312 [256 out of 308]\n",
      "   * Mean        0.8041\n",
      "\n",
      "==================================================================================\n"
     ]
    },
    {
     "name": "stderr",
     "output_type": "stream",
     "text": [
      "> Epoch 32: 100%|██████████| 60/60 [00:29<00:00,  2.05it/s]\n"
     ]
    },
    {
     "name": "stdout",
     "output_type": "stream",
     "text": [
      " - Training Loss        0.1393\n",
      " - Validation Loss      0.7505\n",
      " - Validation Accuracy  0.7927\n",
      "\n",
      " - Validation Accuracy (per class)\n",
      "   * Class 0\t 0.7404 [251 out of 339]\n",
      "   * Class 1\t 0.7796 [244 out of 313]\n",
      "   * Class 2\t 0.8636 [266 out of 308]\n",
      "   * Mean        0.7945\n",
      "\n",
      "==================================================================================\n"
     ]
    },
    {
     "name": "stderr",
     "output_type": "stream",
     "text": [
      "> Epoch 33: 100%|██████████| 60/60 [00:29<00:00,  2.05it/s]\n"
     ]
    },
    {
     "name": "stdout",
     "output_type": "stream",
     "text": [
      " - Training Loss        0.1233\n",
      " - Validation Loss      0.7496\n",
      " - Validation Accuracy  0.8094\n",
      "\n",
      " - Validation Accuracy (per class)\n",
      "   * Class 0\t 0.7493 [254 out of 339]\n",
      "   * Class 1\t 0.8179 [256 out of 313]\n",
      "   * Class 2\t 0.8669 [267 out of 308]\n",
      "   * Mean        0.8114\n",
      "\n",
      "> ATTENTION: epoch 33 was the best one so far! The model has been saved :)\n",
      "\n",
      "==================================================================================\n"
     ]
    },
    {
     "name": "stderr",
     "output_type": "stream",
     "text": [
      "> Epoch 34: 100%|██████████| 60/60 [00:29<00:00,  2.05it/s]\n"
     ]
    },
    {
     "name": "stdout",
     "output_type": "stream",
     "text": [
      " - Training Loss        0.1104\n",
      " - Validation Loss      0.7912\n",
      " - Validation Accuracy  0.8\n",
      "\n",
      " - Validation Accuracy (per class)\n",
      "   * Class 0\t 0.7434 [252 out of 339]\n",
      "   * Class 1\t 0.8658 [271 out of 313]\n",
      "   * Class 2\t 0.7955 [245 out of 308]\n",
      "   * Mean        0.8016\n",
      "\n",
      "==================================================================================\n"
     ]
    },
    {
     "name": "stderr",
     "output_type": "stream",
     "text": [
      "> Epoch 35: 100%|██████████| 60/60 [00:29<00:00,  2.05it/s]\n"
     ]
    },
    {
     "name": "stdout",
     "output_type": "stream",
     "text": [
      " - Training Loss        0.1146\n",
      " - Validation Loss      0.7235\n",
      " - Validation Accuracy  0.8104\n",
      "\n",
      " - Validation Accuracy (per class)\n",
      "   * Class 0\t 0.7758 [263 out of 339]\n",
      "   * Class 1\t 0.8498 [266 out of 313]\n",
      "   * Class 2\t 0.8084 [249 out of 308]\n",
      "   * Mean        0.8113\n",
      "\n",
      "==================================================================================\n"
     ]
    },
    {
     "name": "stderr",
     "output_type": "stream",
     "text": [
      "> Epoch 36: 100%|██████████| 60/60 [00:29<00:00,  2.05it/s]\n"
     ]
    },
    {
     "name": "stdout",
     "output_type": "stream",
     "text": [
      " - Training Loss        0.1016\n",
      " - Validation Loss      0.7816\n",
      " - Validation Accuracy  0.8052\n",
      "\n",
      " - Validation Accuracy (per class)\n",
      "   * Class 0\t 0.7758 [263 out of 339]\n",
      "   * Class 1\t 0.8243 [258 out of 313]\n",
      "   * Class 2\t 0.8182 [252 out of 308]\n",
      "   * Mean        0.8061\n",
      "\n",
      "==================================================================================\n"
     ]
    },
    {
     "name": "stderr",
     "output_type": "stream",
     "text": [
      "> Epoch 37: 100%|██████████| 60/60 [00:29<00:00,  2.05it/s]\n"
     ]
    },
    {
     "name": "stdout",
     "output_type": "stream",
     "text": [
      " - Training Loss        0.0927\n",
      " - Validation Loss      0.7761\n",
      " - Validation Accuracy  0.8031\n",
      "\n",
      " - Validation Accuracy (per class)\n",
      "   * Class 0\t 0.8142 [276 out of 339]\n",
      "   * Class 1\t 0.7987 [250 out of 313]\n",
      "   * Class 2\t 0.7955 [245 out of 308]\n",
      "   * Mean        0.8028\n",
      "\n",
      "==================================================================================\n"
     ]
    },
    {
     "name": "stderr",
     "output_type": "stream",
     "text": [
      "> Epoch 38: 100%|██████████| 60/60 [00:29<00:00,  2.05it/s]\n"
     ]
    },
    {
     "name": "stdout",
     "output_type": "stream",
     "text": [
      " - Training Loss        0.0924\n",
      " - Validation Loss      0.7669\n",
      " - Validation Accuracy  0.8073\n",
      "\n",
      " - Validation Accuracy (per class)\n",
      "   * Class 0\t 0.7847 [266 out of 339]\n",
      "   * Class 1\t 0.8243 [258 out of 313]\n",
      "   * Class 2\t 0.8149 [251 out of 308]\n",
      "   * Mean        0.808\n",
      "\n",
      "==================================================================================\n"
     ]
    },
    {
     "name": "stderr",
     "output_type": "stream",
     "text": [
      "> Epoch 39: 100%|██████████| 60/60 [00:29<00:00,  2.05it/s]\n"
     ]
    },
    {
     "name": "stdout",
     "output_type": "stream",
     "text": [
      " - Training Loss        0.0803\n",
      " - Validation Loss      0.7972\n",
      " - Validation Accuracy  0.7958\n",
      "\n",
      " - Validation Accuracy (per class)\n",
      "   * Class 0\t 0.7994 [271 out of 339]\n",
      "   * Class 1\t 0.7987 [250 out of 313]\n",
      "   * Class 2\t 0.789 [243 out of 308]\n",
      "   * Mean        0.7957\n",
      "\n",
      "==================================================================================\n"
     ]
    },
    {
     "name": "stderr",
     "output_type": "stream",
     "text": [
      "> Epoch 40: 100%|██████████| 60/60 [00:29<00:00,  2.05it/s]\n"
     ]
    },
    {
     "name": "stdout",
     "output_type": "stream",
     "text": [
      " - Training Loss        0.0743\n",
      " - Validation Loss      0.7999\n",
      " - Validation Accuracy  0.8073\n",
      "\n",
      " - Validation Accuracy (per class)\n",
      "   * Class 0\t 0.7345 [249 out of 339]\n",
      "   * Class 1\t 0.8435 [264 out of 313]\n",
      "   * Class 2\t 0.8506 [262 out of 308]\n",
      "   * Mean        0.8095\n",
      "\n",
      "==================================================================================\n"
     ]
    },
    {
     "name": "stderr",
     "output_type": "stream",
     "text": [
      "> Epoch 41: 100%|██████████| 60/60 [00:29<00:00,  2.05it/s]\n"
     ]
    },
    {
     "name": "stdout",
     "output_type": "stream",
     "text": [
      " - Training Loss        0.0712\n",
      " - Validation Loss      0.7901\n",
      " - Validation Accuracy  0.7979\n",
      "\n",
      " - Validation Accuracy (per class)\n",
      "   * Class 0\t 0.7788 [264 out of 339]\n",
      "   * Class 1\t 0.7572 [237 out of 313]\n",
      "   * Class 2\t 0.8604 [265 out of 308]\n",
      "   * Mean        0.7988\n",
      "\n",
      "==================================================================================\n"
     ]
    },
    {
     "name": "stderr",
     "output_type": "stream",
     "text": [
      "> Epoch 42: 100%|██████████| 60/60 [00:29<00:00,  2.05it/s]\n"
     ]
    },
    {
     "name": "stdout",
     "output_type": "stream",
     "text": [
      " - Training Loss        0.066\n",
      " - Validation Loss      0.8407\n",
      " - Validation Accuracy  0.7938\n",
      "\n",
      " - Validation Accuracy (per class)\n",
      "   * Class 0\t 0.8112 [275 out of 339]\n",
      "   * Class 1\t 0.7508 [235 out of 313]\n",
      "   * Class 2\t 0.8182 [252 out of 308]\n",
      "   * Mean        0.7934\n",
      "\n",
      "==================================================================================\n"
     ]
    },
    {
     "name": "stderr",
     "output_type": "stream",
     "text": [
      "> Epoch 43: 100%|██████████| 60/60 [00:29<00:00,  2.05it/s]\n"
     ]
    },
    {
     "name": "stdout",
     "output_type": "stream",
     "text": [
      " - Training Loss        0.071\n",
      " - Validation Loss      0.8427\n",
      " - Validation Accuracy  0.8042\n",
      "\n",
      " - Validation Accuracy (per class)\n",
      "   * Class 0\t 0.7581 [257 out of 339]\n",
      "   * Class 1\t 0.869 [272 out of 313]\n",
      "   * Class 2\t 0.789 [243 out of 308]\n",
      "   * Mean        0.8054\n",
      "\n",
      "==================================================================================\n"
     ]
    },
    {
     "name": "stderr",
     "output_type": "stream",
     "text": [
      "> Epoch 44: 100%|██████████| 60/60 [00:29<00:00,  2.05it/s]\n"
     ]
    },
    {
     "name": "stdout",
     "output_type": "stream",
     "text": [
      " - Training Loss        0.06\n",
      " - Validation Loss      0.8402\n",
      " - Validation Accuracy  0.8094\n",
      "\n",
      " - Validation Accuracy (per class)\n",
      "   * Class 0\t 0.7434 [252 out of 339]\n",
      "   * Class 1\t 0.8371 [262 out of 313]\n",
      "   * Class 2\t 0.8539 [263 out of 308]\n",
      "   * Mean        0.8115\n",
      "\n",
      "> ATTENTION: epoch 44 was the best one so far! The model has been saved :)\n",
      "\n",
      "==================================================================================\n"
     ]
    },
    {
     "name": "stderr",
     "output_type": "stream",
     "text": [
      "> Epoch 45: 100%|██████████| 60/60 [00:29<00:00,  2.05it/s]\n"
     ]
    },
    {
     "name": "stdout",
     "output_type": "stream",
     "text": [
      " - Training Loss        0.0609\n",
      " - Validation Loss      0.7873\n",
      " - Validation Accuracy  0.8146\n",
      "\n",
      " - Validation Accuracy (per class)\n",
      "   * Class 0\t 0.7788 [264 out of 339]\n",
      "   * Class 1\t 0.853 [267 out of 313]\n",
      "   * Class 2\t 0.8149 [251 out of 308]\n",
      "   * Mean        0.8156\n",
      "\n",
      "> ATTENTION: epoch 45 was the best one so far! The model has been saved :)\n",
      "\n",
      "==================================================================================\n"
     ]
    },
    {
     "name": "stderr",
     "output_type": "stream",
     "text": [
      "> Epoch 46: 100%|██████████| 60/60 [00:29<00:00,  2.05it/s]\n"
     ]
    },
    {
     "name": "stdout",
     "output_type": "stream",
     "text": [
      " - Training Loss        0.0589\n",
      " - Validation Loss      0.8739\n",
      " - Validation Accuracy  0.8052\n",
      "\n",
      " - Validation Accuracy (per class)\n",
      "   * Class 0\t 0.7729 [262 out of 339]\n",
      "   * Class 1\t 0.77 [241 out of 313]\n",
      "   * Class 2\t 0.8766 [270 out of 308]\n",
      "   * Mean        0.8065\n",
      "\n",
      "==================================================================================\n"
     ]
    },
    {
     "name": "stderr",
     "output_type": "stream",
     "text": [
      "> Epoch 47: 100%|██████████| 60/60 [00:29<00:00,  2.05it/s]\n"
     ]
    },
    {
     "name": "stdout",
     "output_type": "stream",
     "text": [
      " - Training Loss        0.0592\n",
      " - Validation Loss      0.8247\n",
      " - Validation Accuracy  0.8104\n",
      "\n",
      " - Validation Accuracy (per class)\n",
      "   * Class 0\t 0.7552 [256 out of 339]\n",
      "   * Class 1\t 0.8562 [268 out of 313]\n",
      "   * Class 2\t 0.8247 [254 out of 308]\n",
      "   * Mean        0.812\n",
      "\n",
      "==================================================================================\n"
     ]
    },
    {
     "name": "stderr",
     "output_type": "stream",
     "text": [
      "> Epoch 48: 100%|██████████| 60/60 [00:29<00:00,  2.05it/s]\n"
     ]
    },
    {
     "name": "stdout",
     "output_type": "stream",
     "text": [
      " - Training Loss        0.0498\n",
      " - Validation Loss      0.8273\n",
      " - Validation Accuracy  0.8125\n",
      "\n",
      " - Validation Accuracy (per class)\n",
      "   * Class 0\t 0.7729 [262 out of 339]\n",
      "   * Class 1\t 0.8562 [268 out of 313]\n",
      "   * Class 2\t 0.8117 [250 out of 308]\n",
      "   * Mean        0.8136\n",
      "\n",
      "==================================================================================\n"
     ]
    },
    {
     "name": "stderr",
     "output_type": "stream",
     "text": [
      "> Epoch 49: 100%|██████████| 60/60 [00:29<00:00,  2.05it/s]\n"
     ]
    },
    {
     "name": "stdout",
     "output_type": "stream",
     "text": [
      " - Training Loss        0.0506\n",
      " - Validation Loss      0.9157\n",
      " - Validation Accuracy  0.8094\n",
      "\n",
      " - Validation Accuracy (per class)\n",
      "   * Class 0\t 0.7493 [254 out of 339]\n",
      "   * Class 1\t 0.8435 [264 out of 313]\n",
      "   * Class 2\t 0.8409 [259 out of 308]\n",
      "   * Mean        0.8112\n",
      "\n",
      "==================================================================================\n"
     ]
    },
    {
     "name": "stderr",
     "output_type": "stream",
     "text": [
      "> Epoch 50: 100%|██████████| 60/60 [00:29<00:00,  2.05it/s]\n"
     ]
    },
    {
     "name": "stdout",
     "output_type": "stream",
     "text": [
      " - Training Loss        0.0499\n",
      " - Validation Loss      0.8699\n",
      " - Validation Accuracy  0.8031\n",
      "\n",
      " - Validation Accuracy (per class)\n",
      "   * Class 0\t 0.7699 [261 out of 339]\n",
      "   * Class 1\t 0.8179 [256 out of 313]\n",
      "   * Class 2\t 0.8247 [254 out of 308]\n",
      "   * Mean        0.8042\n",
      "\n",
      "==================================================================================\n",
      "> Parameters imported\n",
      "> Dataset correctly divided in training set, validation set and test set\n",
      "> Created Pytorch datasets and dataloaders\n",
      "> Model 'LSTM_fixed' instantiated\n",
      "> Initialization required 0.069 seconds\n",
      "==================================================================================\n",
      "> Training Started\n",
      "  - Total Epochs: 50\n",
      "==================================================================================\n"
     ]
    },
    {
     "name": "stderr",
     "output_type": "stream",
     "text": [
      "> Epoch 1: 100%|██████████| 60/60 [00:28<00:00,  2.10it/s]\n"
     ]
    },
    {
     "name": "stdout",
     "output_type": "stream",
     "text": [
      " - Training Loss        1.1098\n",
      " - Validation Loss      1.101\n",
      " - Validation Accuracy  0.3271\n",
      "\n",
      " - Validation Accuracy (per class)\n",
      "   * Class 0\t 0.0501 [17 out of 339]\n",
      "   * Class 1\t 0.0288 [9 out of 313]\n",
      "   * Class 2\t 0.9351 [288 out of 308]\n",
      "   * Mean        0.338\n",
      "\n",
      "> ATTENTION: epoch 1 was the best one so far! The model has been saved :)\n",
      "\n",
      "==================================================================================\n"
     ]
    },
    {
     "name": "stderr",
     "output_type": "stream",
     "text": [
      "> Epoch 2: 100%|██████████| 60/60 [00:28<00:00,  2.08it/s]\n"
     ]
    },
    {
     "name": "stdout",
     "output_type": "stream",
     "text": [
      " - Training Loss        1.029\n",
      " - Validation Loss      1.1516\n",
      " - Validation Accuracy  0.3365\n",
      "\n",
      " - Validation Accuracy (per class)\n",
      "   * Class 0\t 0.0472 [16 out of 339]\n",
      "   * Class 1\t 0.9169 [287 out of 313]\n",
      "   * Class 2\t 0.0649 [20 out of 308]\n",
      "   * Mean        0.343\n",
      "\n",
      "> ATTENTION: epoch 2 was the best one so far! The model has been saved :)\n",
      "\n",
      "==================================================================================\n"
     ]
    },
    {
     "name": "stderr",
     "output_type": "stream",
     "text": [
      "> Epoch 3: 100%|██████████| 60/60 [00:28<00:00,  2.08it/s]\n"
     ]
    },
    {
     "name": "stdout",
     "output_type": "stream",
     "text": [
      " - Training Loss        0.9667\n",
      " - Validation Loss      1.2047\n",
      " - Validation Accuracy  0.3333\n",
      "\n",
      " - Validation Accuracy (per class)\n",
      "   * Class 0\t 0.0501 [17 out of 339]\n",
      "   * Class 1\t 0.0415 [13 out of 313]\n",
      "   * Class 2\t 0.9416 [290 out of 308]\n",
      "   * Mean        0.3444\n",
      "\n",
      "> ATTENTION: epoch 3 was the best one so far! The model has been saved :)\n",
      "\n",
      "==================================================================================\n"
     ]
    },
    {
     "name": "stderr",
     "output_type": "stream",
     "text": [
      "> Epoch 4: 100%|██████████| 60/60 [00:28<00:00,  2.07it/s]\n"
     ]
    },
    {
     "name": "stdout",
     "output_type": "stream",
     "text": [
      " - Training Loss        0.947\n",
      " - Validation Loss      1.2988\n",
      " - Validation Accuracy  0.3406\n",
      "\n",
      " - Validation Accuracy (per class)\n",
      "   * Class 0\t 0.3097 [105 out of 339]\n",
      "   * Class 1\t 0.3898 [122 out of 313]\n",
      "   * Class 2\t 0.3247 [100 out of 308]\n",
      "   * Mean        0.3414\n",
      "\n",
      "==================================================================================\n"
     ]
    },
    {
     "name": "stderr",
     "output_type": "stream",
     "text": [
      "> Epoch 5: 100%|██████████| 60/60 [00:29<00:00,  2.05it/s]\n"
     ]
    },
    {
     "name": "stdout",
     "output_type": "stream",
     "text": [
      " - Training Loss        1.0037\n",
      " - Validation Loss      1.1587\n",
      " - Validation Accuracy  0.3729\n",
      "\n",
      " - Validation Accuracy (per class)\n",
      "   * Class 0\t 0.4543 [154 out of 339]\n",
      "   * Class 1\t 0.2204 [69 out of 313]\n",
      "   * Class 2\t 0.4383 [135 out of 308]\n",
      "   * Mean        0.371\n",
      "\n",
      "> ATTENTION: epoch 5 was the best one so far! The model has been saved :)\n",
      "\n",
      "==================================================================================\n"
     ]
    },
    {
     "name": "stderr",
     "output_type": "stream",
     "text": [
      "> Epoch 6: 100%|██████████| 60/60 [00:29<00:00,  2.06it/s]\n"
     ]
    },
    {
     "name": "stdout",
     "output_type": "stream",
     "text": [
      " - Training Loss        0.9407\n",
      " - Validation Loss      1.1817\n",
      " - Validation Accuracy  0.3781\n",
      "\n",
      " - Validation Accuracy (per class)\n",
      "   * Class 0\t 0.5428 [184 out of 339]\n",
      "   * Class 1\t 0.0511 [16 out of 313]\n",
      "   * Class 2\t 0.5292 [163 out of 308]\n",
      "   * Mean        0.3744\n",
      "\n",
      "> ATTENTION: epoch 6 was the best one so far! The model has been saved :)\n",
      "\n",
      "==================================================================================\n"
     ]
    },
    {
     "name": "stderr",
     "output_type": "stream",
     "text": [
      "> Epoch 7: 100%|██████████| 60/60 [00:29<00:00,  2.06it/s]\n"
     ]
    },
    {
     "name": "stdout",
     "output_type": "stream",
     "text": [
      " - Training Loss        0.945\n",
      " - Validation Loss      1.2664\n",
      " - Validation Accuracy  0.3458\n",
      "\n",
      " - Validation Accuracy (per class)\n",
      "   * Class 0\t 0.3215 [109 out of 339]\n",
      "   * Class 1\t 0.5304 [166 out of 313]\n",
      "   * Class 2\t 0.1851 [57 out of 308]\n",
      "   * Mean        0.3457\n",
      "\n",
      "==================================================================================\n"
     ]
    },
    {
     "name": "stderr",
     "output_type": "stream",
     "text": [
      "> Epoch 8: 100%|██████████| 60/60 [00:29<00:00,  2.06it/s]\n"
     ]
    },
    {
     "name": "stdout",
     "output_type": "stream",
     "text": [
      " - Training Loss        0.9412\n",
      " - Validation Loss      1.1969\n",
      " - Validation Accuracy  0.3208\n",
      "\n",
      " - Validation Accuracy (per class)\n",
      "   * Class 0\t 0.1888 [64 out of 339]\n",
      "   * Class 1\t 0.1182 [37 out of 313]\n",
      "   * Class 2\t 0.6721 [207 out of 308]\n",
      "   * Mean        0.3264\n",
      "\n",
      "==================================================================================\n"
     ]
    },
    {
     "name": "stderr",
     "output_type": "stream",
     "text": [
      "> Epoch 9: 100%|██████████| 60/60 [00:29<00:00,  2.04it/s]\n"
     ]
    },
    {
     "name": "stdout",
     "output_type": "stream",
     "text": [
      " - Training Loss        0.9401\n",
      " - Validation Loss      1.2167\n",
      " - Validation Accuracy  0.3427\n",
      "\n",
      " - Validation Accuracy (per class)\n",
      "   * Class 0\t 0.3186 [108 out of 339]\n",
      "   * Class 1\t 0.6198 [194 out of 313]\n",
      "   * Class 2\t 0.0877 [27 out of 308]\n",
      "   * Mean        0.342\n",
      "\n",
      "==================================================================================\n"
     ]
    },
    {
     "name": "stderr",
     "output_type": "stream",
     "text": [
      "> Epoch 10: 100%|██████████| 60/60 [00:29<00:00,  2.04it/s]\n"
     ]
    },
    {
     "name": "stdout",
     "output_type": "stream",
     "text": [
      " - Training Loss        0.9435\n",
      " - Validation Loss      1.2331\n",
      " - Validation Accuracy  0.35\n",
      "\n",
      " - Validation Accuracy (per class)\n",
      "   * Class 0\t 0.236 [80 out of 339]\n",
      "   * Class 1\t 0.2141 [67 out of 313]\n",
      "   * Class 2\t 0.6136 [189 out of 308]\n",
      "   * Mean        0.3546\n",
      "\n",
      "==================================================================================\n"
     ]
    },
    {
     "name": "stderr",
     "output_type": "stream",
     "text": [
      "> Epoch 11: 100%|██████████| 60/60 [00:29<00:00,  2.04it/s]\n"
     ]
    },
    {
     "name": "stdout",
     "output_type": "stream",
     "text": [
      " - Training Loss        0.9411\n",
      " - Validation Loss      1.2547\n",
      " - Validation Accuracy  0.3292\n",
      "\n",
      " - Validation Accuracy (per class)\n",
      "   * Class 0\t 0.2124 [72 out of 339]\n",
      "   * Class 1\t 0.4058 [127 out of 313]\n",
      "   * Class 2\t 0.3799 [117 out of 308]\n",
      "   * Mean        0.3327\n",
      "\n",
      "==================================================================================\n"
     ]
    },
    {
     "name": "stderr",
     "output_type": "stream",
     "text": [
      "> Epoch 12: 100%|██████████| 60/60 [00:29<00:00,  2.04it/s]\n"
     ]
    },
    {
     "name": "stdout",
     "output_type": "stream",
     "text": [
      " - Training Loss        0.9415\n",
      " - Validation Loss      1.2377\n",
      " - Validation Accuracy  0.3677\n",
      "\n",
      " - Validation Accuracy (per class)\n",
      "   * Class 0\t 0.2389 [81 out of 339]\n",
      "   * Class 1\t 0.2524 [79 out of 313]\n",
      "   * Class 2\t 0.6266 [193 out of 308]\n",
      "   * Mean        0.3726\n",
      "\n",
      "==================================================================================\n"
     ]
    },
    {
     "name": "stderr",
     "output_type": "stream",
     "text": [
      "> Epoch 13: 100%|██████████| 60/60 [00:29<00:00,  2.04it/s]\n"
     ]
    },
    {
     "name": "stdout",
     "output_type": "stream",
     "text": [
      " - Training Loss        0.9369\n",
      " - Validation Loss      1.2391\n",
      " - Validation Accuracy  0.3667\n",
      "\n",
      " - Validation Accuracy (per class)\n",
      "   * Class 0\t 0.3717 [126 out of 339]\n",
      "   * Class 1\t 0.4185 [131 out of 313]\n",
      "   * Class 2\t 0.3084 [95 out of 308]\n",
      "   * Mean        0.3662\n",
      "\n",
      "==================================================================================\n"
     ]
    },
    {
     "name": "stderr",
     "output_type": "stream",
     "text": [
      "> Epoch 14: 100%|██████████| 60/60 [00:29<00:00,  2.04it/s]\n"
     ]
    },
    {
     "name": "stdout",
     "output_type": "stream",
     "text": [
      " - Training Loss        0.9318\n",
      " - Validation Loss      1.255\n",
      " - Validation Accuracy  0.3594\n",
      "\n",
      " - Validation Accuracy (per class)\n",
      "   * Class 0\t 0.5752 [195 out of 339]\n",
      "   * Class 1\t 0.3898 [122 out of 313]\n",
      "   * Class 2\t 0.0909 [28 out of 308]\n",
      "   * Mean        0.352\n",
      "\n",
      "==================================================================================\n"
     ]
    },
    {
     "name": "stderr",
     "output_type": "stream",
     "text": [
      "> Epoch 15: 100%|██████████| 60/60 [00:29<00:00,  2.04it/s]\n"
     ]
    },
    {
     "name": "stdout",
     "output_type": "stream",
     "text": [
      " - Training Loss        0.937\n",
      " - Validation Loss      1.2456\n",
      " - Validation Accuracy  0.3656\n",
      "\n",
      " - Validation Accuracy (per class)\n",
      "   * Class 0\t 0.236 [80 out of 339]\n",
      "   * Class 1\t 0.7764 [243 out of 313]\n",
      "   * Class 2\t 0.0909 [28 out of 308]\n",
      "   * Mean        0.3678\n",
      "\n",
      "==================================================================================\n"
     ]
    },
    {
     "name": "stderr",
     "output_type": "stream",
     "text": [
      "> Epoch 16: 100%|██████████| 60/60 [00:29<00:00,  2.04it/s]\n"
     ]
    },
    {
     "name": "stdout",
     "output_type": "stream",
     "text": [
      " - Training Loss        0.933\n",
      " - Validation Loss      1.2535\n",
      " - Validation Accuracy  0.3573\n",
      "\n",
      " - Validation Accuracy (per class)\n",
      "   * Class 0\t 0.236 [80 out of 339]\n",
      "   * Class 1\t 0.4377 [137 out of 313]\n",
      "   * Class 2\t 0.4091 [126 out of 308]\n",
      "   * Mean        0.3609\n",
      "\n",
      "==================================================================================\n"
     ]
    },
    {
     "name": "stderr",
     "output_type": "stream",
     "text": [
      "> Epoch 17: 100%|██████████| 60/60 [00:29<00:00,  2.04it/s]\n"
     ]
    },
    {
     "name": "stdout",
     "output_type": "stream",
     "text": [
      " - Training Loss        0.9336\n",
      " - Validation Loss      1.2708\n",
      " - Validation Accuracy  0.3563\n",
      "\n",
      " - Validation Accuracy (per class)\n",
      "   * Class 0\t 0.0472 [16 out of 339]\n",
      "   * Class 1\t 0.7444 [233 out of 313]\n",
      "   * Class 2\t 0.3019 [93 out of 308]\n",
      "   * Mean        0.3645\n",
      "\n",
      "==================================================================================\n"
     ]
    },
    {
     "name": "stderr",
     "output_type": "stream",
     "text": [
      "> Epoch 18: 100%|██████████| 60/60 [00:29<00:00,  2.04it/s]\n"
     ]
    },
    {
     "name": "stdout",
     "output_type": "stream",
     "text": [
      " - Training Loss        0.9299\n",
      " - Validation Loss      1.2532\n",
      " - Validation Accuracy  0.3625\n",
      "\n",
      " - Validation Accuracy (per class)\n",
      "   * Class 0\t 0.2389 [81 out of 339]\n",
      "   * Class 1\t 0.2268 [71 out of 313]\n",
      "   * Class 2\t 0.6364 [196 out of 308]\n",
      "   * Mean        0.3674\n",
      "\n",
      "==================================================================================\n"
     ]
    },
    {
     "name": "stderr",
     "output_type": "stream",
     "text": [
      "> Epoch 19: 100%|██████████| 60/60 [00:29<00:00,  2.04it/s]\n"
     ]
    },
    {
     "name": "stdout",
     "output_type": "stream",
     "text": [
      " - Training Loss        0.9337\n",
      " - Validation Loss      1.2655\n",
      " - Validation Accuracy  0.3594\n",
      "\n",
      " - Validation Accuracy (per class)\n",
      "   * Class 0\t 0.413 [140 out of 339]\n",
      "   * Class 1\t 0.2556 [80 out of 313]\n",
      "   * Class 2\t 0.4058 [125 out of 308]\n",
      "   * Mean        0.3581\n",
      "\n",
      "==================================================================================\n"
     ]
    },
    {
     "name": "stderr",
     "output_type": "stream",
     "text": [
      "> Epoch 20: 100%|██████████| 60/60 [00:29<00:00,  2.04it/s]\n"
     ]
    },
    {
     "name": "stdout",
     "output_type": "stream",
     "text": [
      " - Training Loss        0.9321\n",
      " - Validation Loss      1.2714\n",
      " - Validation Accuracy  0.3719\n",
      "\n",
      " - Validation Accuracy (per class)\n",
      "   * Class 0\t 0.4395 [149 out of 339]\n",
      "   * Class 1\t 0.5719 [179 out of 313]\n",
      "   * Class 2\t 0.0942 [29 out of 308]\n",
      "   * Mean        0.3685\n",
      "\n",
      "==================================================================================\n"
     ]
    },
    {
     "name": "stderr",
     "output_type": "stream",
     "text": [
      "> Epoch 21: 100%|██████████| 60/60 [00:29<00:00,  2.04it/s]\n"
     ]
    },
    {
     "name": "stdout",
     "output_type": "stream",
     "text": [
      " - Training Loss        0.9278\n",
      " - Validation Loss      1.2607\n",
      " - Validation Accuracy  0.3646\n",
      "\n",
      " - Validation Accuracy (per class)\n",
      "   * Class 0\t 0.4041 [137 out of 339]\n",
      "   * Class 1\t 0.5942 [186 out of 313]\n",
      "   * Class 2\t 0.0877 [27 out of 308]\n",
      "   * Mean        0.362\n",
      "\n",
      "==================================================================================\n"
     ]
    },
    {
     "name": "stderr",
     "output_type": "stream",
     "text": [
      "> Epoch 22: 100%|██████████| 60/60 [00:29<00:00,  2.04it/s]\n"
     ]
    },
    {
     "name": "stdout",
     "output_type": "stream",
     "text": [
      " - Training Loss        0.9298\n",
      " - Validation Loss      1.2648\n",
      " - Validation Accuracy  0.3375\n",
      "\n",
      " - Validation Accuracy (per class)\n",
      "   * Class 0\t 0.0472 [16 out of 339]\n",
      "   * Class 1\t 0.77 [241 out of 313]\n",
      "   * Class 2\t 0.2175 [67 out of 308]\n",
      "   * Mean        0.3449\n",
      "\n",
      "==================================================================================\n"
     ]
    },
    {
     "name": "stderr",
     "output_type": "stream",
     "text": [
      "> Epoch 23: 100%|██████████| 60/60 [00:29<00:00,  2.04it/s]\n"
     ]
    },
    {
     "name": "stdout",
     "output_type": "stream",
     "text": [
      " - Training Loss        0.9227\n",
      " - Validation Loss      1.2673\n",
      " - Validation Accuracy  0.3948\n",
      "\n",
      " - Validation Accuracy (per class)\n",
      "   * Class 0\t 0.5133 [174 out of 339]\n",
      "   * Class 1\t 0.5655 [177 out of 313]\n",
      "   * Class 2\t 0.0909 [28 out of 308]\n",
      "   * Mean        0.3899\n",
      "\n",
      "> ATTENTION: epoch 23 was the best one so far! The model has been saved :)\n",
      "\n",
      "==================================================================================\n"
     ]
    },
    {
     "name": "stderr",
     "output_type": "stream",
     "text": [
      "> Epoch 24: 100%|██████████| 60/60 [00:29<00:00,  2.04it/s]\n"
     ]
    },
    {
     "name": "stdout",
     "output_type": "stream",
     "text": [
      " - Training Loss        0.9289\n",
      " - Validation Loss      1.2861\n",
      " - Validation Accuracy  0.3771\n",
      "\n",
      " - Validation Accuracy (per class)\n",
      "   * Class 0\t 0.5811 [197 out of 339]\n",
      "   * Class 1\t 0.4217 [132 out of 313]\n",
      "   * Class 2\t 0.1071 [33 out of 308]\n",
      "   * Mean        0.37\n",
      "\n",
      "==================================================================================\n"
     ]
    },
    {
     "name": "stderr",
     "output_type": "stream",
     "text": [
      "> Epoch 25: 100%|██████████| 60/60 [00:29<00:00,  2.04it/s]\n"
     ]
    },
    {
     "name": "stdout",
     "output_type": "stream",
     "text": [
      " - Training Loss        0.9288\n",
      " - Validation Loss      1.282\n",
      " - Validation Accuracy  0.324\n",
      "\n",
      " - Validation Accuracy (per class)\n",
      "   * Class 0\t 0.3776 [128 out of 339]\n",
      "   * Class 1\t 0.0639 [20 out of 313]\n",
      "   * Class 2\t 0.5292 [163 out of 308]\n",
      "   * Mean        0.3236\n",
      "\n",
      "==================================================================================\n"
     ]
    },
    {
     "name": "stderr",
     "output_type": "stream",
     "text": [
      "> Epoch 26: 100%|██████████| 60/60 [00:29<00:00,  2.04it/s]\n"
     ]
    },
    {
     "name": "stdout",
     "output_type": "stream",
     "text": [
      " - Training Loss        0.9298\n",
      " - Validation Loss      1.2735\n",
      " - Validation Accuracy  0.3542\n",
      "\n",
      " - Validation Accuracy (per class)\n",
      "   * Class 0\t 0.0413 [14 out of 339]\n",
      "   * Class 1\t 0.7444 [233 out of 313]\n",
      "   * Class 2\t 0.3019 [93 out of 308]\n",
      "   * Mean        0.3625\n",
      "\n",
      "==================================================================================\n"
     ]
    },
    {
     "name": "stderr",
     "output_type": "stream",
     "text": [
      "> Epoch 27: 100%|██████████| 60/60 [00:29<00:00,  2.04it/s]\n"
     ]
    },
    {
     "name": "stdout",
     "output_type": "stream",
     "text": [
      " - Training Loss        0.9289\n",
      " - Validation Loss      1.2693\n",
      " - Validation Accuracy  0.3781\n",
      "\n",
      " - Validation Accuracy (per class)\n",
      "   * Class 0\t 0.4218 [143 out of 339]\n",
      "   * Class 1\t 0.0639 [20 out of 313]\n",
      "   * Class 2\t 0.6494 [200 out of 308]\n",
      "   * Mean        0.3784\n",
      "\n",
      "==================================================================================\n"
     ]
    },
    {
     "name": "stderr",
     "output_type": "stream",
     "text": [
      "> Epoch 28: 100%|██████████| 60/60 [00:29<00:00,  2.04it/s]\n"
     ]
    },
    {
     "name": "stdout",
     "output_type": "stream",
     "text": [
      " - Training Loss        0.9308\n",
      " - Validation Loss      1.2797\n",
      " - Validation Accuracy  0.3594\n",
      "\n",
      " - Validation Accuracy (per class)\n",
      "   * Class 0\t 0.4572 [155 out of 339]\n",
      "   * Class 1\t 0.5112 [160 out of 313]\n",
      "   * Class 2\t 0.0974 [30 out of 308]\n",
      "   * Mean        0.3553\n",
      "\n",
      "==================================================================================\n"
     ]
    },
    {
     "name": "stderr",
     "output_type": "stream",
     "text": [
      "> Epoch 29: 100%|██████████| 60/60 [00:29<00:00,  2.04it/s]\n"
     ]
    },
    {
     "name": "stdout",
     "output_type": "stream",
     "text": [
      " - Training Loss        0.9319\n",
      " - Validation Loss      1.2554\n",
      " - Validation Accuracy  0.3531\n",
      "\n",
      " - Validation Accuracy (per class)\n",
      "   * Class 0\t 0.1091 [37 out of 339]\n",
      "   * Class 1\t 0.8786 [275 out of 313]\n",
      "   * Class 2\t 0.0877 [27 out of 308]\n",
      "   * Mean        0.3585\n",
      "\n",
      "==================================================================================\n"
     ]
    },
    {
     "name": "stderr",
     "output_type": "stream",
     "text": [
      "> Epoch 30: 100%|██████████| 60/60 [00:29<00:00,  2.04it/s]\n"
     ]
    },
    {
     "name": "stdout",
     "output_type": "stream",
     "text": [
      " - Training Loss        0.9395\n",
      " - Validation Loss      1.2591\n",
      " - Validation Accuracy  0.4135\n",
      "\n",
      " - Validation Accuracy (per class)\n",
      "   * Class 0\t 0.1298 [44 out of 339]\n",
      "   * Class 1\t 0.8722 [273 out of 313]\n",
      "   * Class 2\t 0.2597 [80 out of 308]\n",
      "   * Mean        0.4206\n",
      "\n",
      "> ATTENTION: epoch 30 was the best one so far! The model has been saved :)\n",
      "\n",
      "==================================================================================\n"
     ]
    },
    {
     "name": "stderr",
     "output_type": "stream",
     "text": [
      "> Epoch 31: 100%|██████████| 60/60 [00:29<00:00,  2.04it/s]\n"
     ]
    },
    {
     "name": "stdout",
     "output_type": "stream",
     "text": [
      " - Training Loss        0.8374\n",
      " - Validation Loss      1.1182\n",
      " - Validation Accuracy  0.4771\n",
      "\n",
      " - Validation Accuracy (per class)\n",
      "   * Class 0\t 0.7906 [268 out of 339]\n",
      "   * Class 1\t 0.0735 [23 out of 313]\n",
      "   * Class 2\t 0.5422 [167 out of 308]\n",
      "   * Mean        0.4688\n",
      "\n",
      "> ATTENTION: epoch 31 was the best one so far! The model has been saved :)\n",
      "\n",
      "==================================================================================\n"
     ]
    },
    {
     "name": "stderr",
     "output_type": "stream",
     "text": [
      "> Epoch 32: 100%|██████████| 60/60 [00:29<00:00,  2.04it/s]\n"
     ]
    },
    {
     "name": "stdout",
     "output_type": "stream",
     "text": [
      " - Training Loss        0.7717\n",
      " - Validation Loss      1.0703\n",
      " - Validation Accuracy  0.5438\n",
      "\n",
      " - Validation Accuracy (per class)\n",
      "   * Class 0\t 0.3156 [107 out of 339]\n",
      "   * Class 1\t 0.6358 [199 out of 313]\n",
      "   * Class 2\t 0.7013 [216 out of 308]\n",
      "   * Mean        0.5509\n",
      "\n",
      "> ATTENTION: epoch 32 was the best one so far! The model has been saved :)\n",
      "\n",
      "==================================================================================\n"
     ]
    },
    {
     "name": "stderr",
     "output_type": "stream",
     "text": [
      "> Epoch 33: 100%|██████████| 60/60 [00:29<00:00,  2.05it/s]\n"
     ]
    },
    {
     "name": "stdout",
     "output_type": "stream",
     "text": [
      " - Training Loss        0.7433\n",
      " - Validation Loss      1.0278\n",
      " - Validation Accuracy  0.5396\n",
      "\n",
      " - Validation Accuracy (per class)\n",
      "   * Class 0\t 0.0708 [24 out of 339]\n",
      "   * Class 1\t 0.8818 [276 out of 313]\n",
      "   * Class 2\t 0.7078 [218 out of 308]\n",
      "   * Mean        0.5535\n",
      "\n",
      "> ATTENTION: epoch 33 was the best one so far! The model has been saved :)\n",
      "\n",
      "==================================================================================\n"
     ]
    },
    {
     "name": "stderr",
     "output_type": "stream",
     "text": [
      "> Epoch 34: 100%|██████████| 60/60 [00:29<00:00,  2.05it/s]\n"
     ]
    },
    {
     "name": "stdout",
     "output_type": "stream",
     "text": [
      " - Training Loss        0.7228\n",
      " - Validation Loss      1.0258\n",
      " - Validation Accuracy  0.624\n",
      "\n",
      " - Validation Accuracy (per class)\n",
      "   * Class 0\t 0.5074 [172 out of 339]\n",
      "   * Class 1\t 0.6773 [212 out of 313]\n",
      "   * Class 2\t 0.6981 [215 out of 308]\n",
      "   * Mean        0.6276\n",
      "\n",
      "> ATTENTION: epoch 34 was the best one so far! The model has been saved :)\n",
      "\n",
      "==================================================================================\n"
     ]
    },
    {
     "name": "stderr",
     "output_type": "stream",
     "text": [
      "> Epoch 35: 100%|██████████| 60/60 [00:29<00:00,  2.05it/s]\n"
     ]
    },
    {
     "name": "stdout",
     "output_type": "stream",
     "text": [
      " - Training Loss        0.608\n",
      " - Validation Loss      0.8779\n",
      " - Validation Accuracy  0.6865\n",
      "\n",
      " - Validation Accuracy (per class)\n",
      "   * Class 0\t 0.6549 [222 out of 339]\n",
      "   * Class 1\t 0.7029 [220 out of 313]\n",
      "   * Class 2\t 0.7045 [217 out of 308]\n",
      "   * Mean        0.6874\n",
      "\n",
      "> ATTENTION: epoch 35 was the best one so far! The model has been saved :)\n",
      "\n",
      "==================================================================================\n"
     ]
    },
    {
     "name": "stderr",
     "output_type": "stream",
     "text": [
      "> Epoch 36: 100%|██████████| 60/60 [00:29<00:00,  2.05it/s]\n"
     ]
    },
    {
     "name": "stdout",
     "output_type": "stream",
     "text": [
      " - Training Loss        0.5232\n",
      " - Validation Loss      0.9016\n",
      " - Validation Accuracy  0.6896\n",
      "\n",
      " - Validation Accuracy (per class)\n",
      "   * Class 0\t 0.6254 [212 out of 339]\n",
      "   * Class 1\t 0.7764 [243 out of 313]\n",
      "   * Class 2\t 0.6721 [207 out of 308]\n",
      "   * Mean        0.6913\n",
      "\n",
      "> ATTENTION: epoch 36 was the best one so far! The model has been saved :)\n",
      "\n",
      "==================================================================================\n"
     ]
    },
    {
     "name": "stderr",
     "output_type": "stream",
     "text": [
      "> Epoch 37: 100%|██████████| 60/60 [00:29<00:00,  2.05it/s]\n"
     ]
    },
    {
     "name": "stdout",
     "output_type": "stream",
     "text": [
      " - Training Loss        0.5014\n",
      " - Validation Loss      0.8795\n",
      " - Validation Accuracy  0.7135\n",
      "\n",
      " - Validation Accuracy (per class)\n",
      "   * Class 0\t 0.6372 [216 out of 339]\n",
      "   * Class 1\t 0.8243 [258 out of 313]\n",
      "   * Class 2\t 0.6851 [211 out of 308]\n",
      "   * Mean        0.7155\n",
      "\n",
      "> ATTENTION: epoch 37 was the best one so far! The model has been saved :)\n",
      "\n",
      "==================================================================================\n"
     ]
    },
    {
     "name": "stderr",
     "output_type": "stream",
     "text": [
      "> Epoch 38: 100%|██████████| 60/60 [00:29<00:00,  2.05it/s]\n"
     ]
    },
    {
     "name": "stdout",
     "output_type": "stream",
     "text": [
      " - Training Loss        0.5334\n",
      " - Validation Loss      0.8797\n",
      " - Validation Accuracy  0.7125\n",
      "\n",
      " - Validation Accuracy (per class)\n",
      "   * Class 0\t 0.6785 [230 out of 339]\n",
      "   * Class 1\t 0.8371 [262 out of 313]\n",
      "   * Class 2\t 0.6234 [192 out of 308]\n",
      "   * Mean        0.713\n",
      "\n",
      "==================================================================================\n"
     ]
    },
    {
     "name": "stderr",
     "output_type": "stream",
     "text": [
      "> Epoch 39: 100%|██████████| 60/60 [00:29<00:00,  2.05it/s]\n"
     ]
    },
    {
     "name": "stdout",
     "output_type": "stream",
     "text": [
      " - Training Loss        0.4906\n",
      " - Validation Loss      0.9121\n",
      " - Validation Accuracy  0.7073\n",
      "\n",
      " - Validation Accuracy (per class)\n",
      "   * Class 0\t 0.6283 [213 out of 339]\n",
      "   * Class 1\t 0.7764 [243 out of 313]\n",
      "   * Class 2\t 0.724 [223 out of 308]\n",
      "   * Mean        0.7096\n",
      "\n",
      "==================================================================================\n"
     ]
    },
    {
     "name": "stderr",
     "output_type": "stream",
     "text": [
      "> Epoch 40: 100%|██████████| 60/60 [00:29<00:00,  2.04it/s]\n"
     ]
    },
    {
     "name": "stdout",
     "output_type": "stream",
     "text": [
      " - Training Loss        0.4661\n",
      " - Validation Loss      0.8573\n",
      " - Validation Accuracy  0.7302\n",
      "\n",
      " - Validation Accuracy (per class)\n",
      "   * Class 0\t 0.6667 [226 out of 339]\n",
      "   * Class 1\t 0.8626 [270 out of 313]\n",
      "   * Class 2\t 0.6656 [205 out of 308]\n",
      "   * Mean        0.7316\n",
      "\n",
      "> ATTENTION: epoch 40 was the best one so far! The model has been saved :)\n",
      "\n",
      "==================================================================================\n"
     ]
    },
    {
     "name": "stderr",
     "output_type": "stream",
     "text": [
      "> Epoch 41: 100%|██████████| 60/60 [00:29<00:00,  2.04it/s]\n"
     ]
    },
    {
     "name": "stdout",
     "output_type": "stream",
     "text": [
      " - Training Loss        0.46\n",
      " - Validation Loss      0.8816\n",
      " - Validation Accuracy  0.7302\n",
      "\n",
      " - Validation Accuracy (per class)\n",
      "   * Class 0\t 0.6578 [223 out of 339]\n",
      "   * Class 1\t 0.8594 [269 out of 313]\n",
      "   * Class 2\t 0.6786 [209 out of 308]\n",
      "   * Mean        0.7319\n",
      "\n",
      "> ATTENTION: epoch 41 was the best one so far! The model has been saved :)\n",
      "\n",
      "==================================================================================\n"
     ]
    },
    {
     "name": "stderr",
     "output_type": "stream",
     "text": [
      "> Epoch 42: 100%|██████████| 60/60 [00:29<00:00,  2.04it/s]\n"
     ]
    },
    {
     "name": "stdout",
     "output_type": "stream",
     "text": [
      " - Training Loss        0.452\n",
      " - Validation Loss      0.8903\n",
      " - Validation Accuracy  0.7281\n",
      "\n",
      " - Validation Accuracy (per class)\n",
      "   * Class 0\t 0.6431 [218 out of 339]\n",
      "   * Class 1\t 0.8658 [271 out of 313]\n",
      "   * Class 2\t 0.6818 [210 out of 308]\n",
      "   * Mean        0.7302\n",
      "\n",
      "==================================================================================\n"
     ]
    },
    {
     "name": "stderr",
     "output_type": "stream",
     "text": [
      "> Epoch 43: 100%|██████████| 60/60 [00:29<00:00,  2.05it/s]\n"
     ]
    },
    {
     "name": "stdout",
     "output_type": "stream",
     "text": [
      " - Training Loss        0.4525\n",
      " - Validation Loss      0.8656\n",
      " - Validation Accuracy  0.7333\n",
      "\n",
      " - Validation Accuracy (per class)\n",
      "   * Class 0\t 0.6608 [224 out of 339]\n",
      "   * Class 1\t 0.8754 [274 out of 313]\n",
      "   * Class 2\t 0.6688 [206 out of 308]\n",
      "   * Mean        0.735\n",
      "\n",
      "> ATTENTION: epoch 43 was the best one so far! The model has been saved :)\n",
      "\n",
      "==================================================================================\n"
     ]
    },
    {
     "name": "stderr",
     "output_type": "stream",
     "text": [
      "> Epoch 44: 100%|██████████| 60/60 [00:29<00:00,  2.04it/s]\n"
     ]
    },
    {
     "name": "stdout",
     "output_type": "stream",
     "text": [
      " - Training Loss        0.4493\n",
      " - Validation Loss      0.8602\n",
      " - Validation Accuracy  0.7281\n",
      "\n",
      " - Validation Accuracy (per class)\n",
      "   * Class 0\t 0.6637 [225 out of 339]\n",
      "   * Class 1\t 0.8594 [269 out of 313]\n",
      "   * Class 2\t 0.6656 [205 out of 308]\n",
      "   * Mean        0.7296\n",
      "\n",
      "==================================================================================\n"
     ]
    },
    {
     "name": "stderr",
     "output_type": "stream",
     "text": [
      "> Epoch 45: 100%|██████████| 60/60 [00:29<00:00,  2.04it/s]\n"
     ]
    },
    {
     "name": "stdout",
     "output_type": "stream",
     "text": [
      " - Training Loss        0.4368\n",
      " - Validation Loss      0.9068\n",
      " - Validation Accuracy  0.7313\n",
      "\n",
      " - Validation Accuracy (per class)\n",
      "   * Class 0\t 0.6401 [217 out of 339]\n",
      "   * Class 1\t 0.8339 [261 out of 313]\n",
      "   * Class 2\t 0.7273 [224 out of 308]\n",
      "   * Mean        0.7338\n",
      "\n",
      "==================================================================================\n"
     ]
    },
    {
     "name": "stderr",
     "output_type": "stream",
     "text": [
      "> Epoch 46: 100%|██████████| 60/60 [00:29<00:00,  2.04it/s]\n"
     ]
    },
    {
     "name": "stdout",
     "output_type": "stream",
     "text": [
      " - Training Loss        0.4312\n",
      " - Validation Loss      0.868\n",
      " - Validation Accuracy  0.7271\n",
      "\n",
      " - Validation Accuracy (per class)\n",
      "   * Class 0\t 0.6696 [227 out of 339]\n",
      "   * Class 1\t 0.8403 [263 out of 313]\n",
      "   * Class 2\t 0.6753 [208 out of 308]\n",
      "   * Mean        0.7284\n",
      "\n",
      "==================================================================================\n"
     ]
    },
    {
     "name": "stderr",
     "output_type": "stream",
     "text": [
      "> Epoch 47: 100%|██████████| 60/60 [00:29<00:00,  2.04it/s]\n"
     ]
    },
    {
     "name": "stdout",
     "output_type": "stream",
     "text": [
      " - Training Loss        0.4154\n",
      " - Validation Loss      0.8818\n",
      " - Validation Accuracy  0.7104\n",
      "\n",
      " - Validation Accuracy (per class)\n",
      "   * Class 0\t 0.6637 [225 out of 339]\n",
      "   * Class 1\t 0.8147 [255 out of 313]\n",
      "   * Class 2\t 0.6558 [202 out of 308]\n",
      "   * Mean        0.7114\n",
      "\n",
      "==================================================================================\n"
     ]
    },
    {
     "name": "stderr",
     "output_type": "stream",
     "text": [
      "> Epoch 48: 100%|██████████| 60/60 [00:29<00:00,  2.04it/s]\n"
     ]
    },
    {
     "name": "stdout",
     "output_type": "stream",
     "text": [
      " - Training Loss        0.3954\n",
      " - Validation Loss      0.9365\n",
      " - Validation Accuracy  0.7219\n",
      "\n",
      " - Validation Accuracy (per class)\n",
      "   * Class 0\t 0.6372 [216 out of 339]\n",
      "   * Class 1\t 0.8275 [259 out of 313]\n",
      "   * Class 2\t 0.7078 [218 out of 308]\n",
      "   * Mean        0.7242\n",
      "\n",
      "==================================================================================\n"
     ]
    },
    {
     "name": "stderr",
     "output_type": "stream",
     "text": [
      "> Epoch 49: 100%|██████████| 60/60 [00:29<00:00,  2.04it/s]\n"
     ]
    },
    {
     "name": "stdout",
     "output_type": "stream",
     "text": [
      " - Training Loss        0.372\n",
      " - Validation Loss      0.834\n",
      " - Validation Accuracy  0.7156\n",
      "\n",
      " - Validation Accuracy (per class)\n",
      "   * Class 0\t 0.6549 [222 out of 339]\n",
      "   * Class 1\t 0.77 [241 out of 313]\n",
      "   * Class 2\t 0.7273 [224 out of 308]\n",
      "   * Mean        0.7174\n",
      "\n",
      "==================================================================================\n"
     ]
    },
    {
     "name": "stderr",
     "output_type": "stream",
     "text": [
      "> Epoch 50: 100%|██████████| 60/60 [00:29<00:00,  2.04it/s]\n"
     ]
    },
    {
     "name": "stdout",
     "output_type": "stream",
     "text": [
      " - Training Loss        0.3887\n",
      " - Validation Loss      0.9079\n",
      " - Validation Accuracy  0.7094\n",
      "\n",
      " - Validation Accuracy (per class)\n",
      "   * Class 0\t 0.6608 [224 out of 339]\n",
      "   * Class 1\t 0.6965 [218 out of 313]\n",
      "   * Class 2\t 0.776 [239 out of 308]\n",
      "   * Mean        0.7111\n",
      "\n",
      "==================================================================================\n",
      "> Parameters imported\n",
      "> Dataset correctly divided in training set, validation set and test set\n",
      "> Created Pytorch datasets and dataloaders\n",
      "> Model 'LSTM_fixed' instantiated\n",
      "> Initialization required 0.148 seconds\n",
      "==================================================================================\n",
      "> Training Started\n",
      "  - Total Epochs: 50\n",
      "==================================================================================\n"
     ]
    },
    {
     "name": "stderr",
     "output_type": "stream",
     "text": [
      "> Epoch 1: 100%|██████████| 60/60 [01:18<00:00,  1.30s/it]\n"
     ]
    },
    {
     "name": "stdout",
     "output_type": "stream",
     "text": [
      " - Training Loss        1.0994\n",
      " - Validation Loss      1.1024\n",
      " - Validation Accuracy  0.3375\n",
      "\n",
      " - Validation Accuracy (per class)\n",
      "   * Class 0\t 0.0383 [13 out of 339]\n",
      "   * Class 1\t 0.8818 [276 out of 313]\n",
      "   * Class 2\t 0.1136 [35 out of 308]\n",
      "   * Mean        0.3446\n",
      "\n",
      "> ATTENTION: epoch 1 was the best one so far! The model has been saved :)\n",
      "\n",
      "==================================================================================\n"
     ]
    },
    {
     "name": "stderr",
     "output_type": "stream",
     "text": [
      "> Epoch 2: 100%|██████████| 60/60 [01:18<00:00,  1.30s/it]\n"
     ]
    },
    {
     "name": "stdout",
     "output_type": "stream",
     "text": [
      " - Training Loss        1.0615\n",
      " - Validation Loss      1.1046\n",
      " - Validation Accuracy  0.3448\n",
      "\n",
      " - Validation Accuracy (per class)\n",
      "   * Class 0\t 0.0649 [22 out of 339]\n",
      "   * Class 1\t 0.9169 [287 out of 313]\n",
      "   * Class 2\t 0.0714 [22 out of 308]\n",
      "   * Mean        0.3511\n",
      "\n",
      "> ATTENTION: epoch 2 was the best one so far! The model has been saved :)\n",
      "\n",
      "==================================================================================\n"
     ]
    },
    {
     "name": "stderr",
     "output_type": "stream",
     "text": [
      "> Epoch 3: 100%|██████████| 60/60 [01:18<00:00,  1.31s/it]\n"
     ]
    },
    {
     "name": "stdout",
     "output_type": "stream",
     "text": [
      " - Training Loss        1.0171\n",
      " - Validation Loss      1.1591\n",
      " - Validation Accuracy  0.3448\n",
      "\n",
      " - Validation Accuracy (per class)\n",
      "   * Class 0\t 0.0265 [9 out of 339]\n",
      "   * Class 1\t 0.9073 [284 out of 313]\n",
      "   * Class 2\t 0.1234 [38 out of 308]\n",
      "   * Mean        0.3524\n",
      "\n",
      "> ATTENTION: epoch 3 was the best one so far! The model has been saved :)\n",
      "\n",
      "==================================================================================\n"
     ]
    },
    {
     "name": "stderr",
     "output_type": "stream",
     "text": [
      "> Epoch 4: 100%|██████████| 60/60 [01:18<00:00,  1.31s/it]\n"
     ]
    },
    {
     "name": "stdout",
     "output_type": "stream",
     "text": [
      " - Training Loss        0.9762\n",
      " - Validation Loss      1.1411\n",
      " - Validation Accuracy  0.35\n",
      "\n",
      " - Validation Accuracy (per class)\n",
      "   * Class 0\t 0.0737 [25 out of 339]\n",
      "   * Class 1\t 0.8914 [279 out of 313]\n",
      "   * Class 2\t 0.1039 [32 out of 308]\n",
      "   * Mean        0.3563\n",
      "\n",
      "> ATTENTION: epoch 4 was the best one so far! The model has been saved :)\n",
      "\n",
      "==================================================================================\n"
     ]
    },
    {
     "name": "stderr",
     "output_type": "stream",
     "text": [
      "> Epoch 5: 100%|██████████| 60/60 [01:18<00:00,  1.31s/it]\n"
     ]
    },
    {
     "name": "stdout",
     "output_type": "stream",
     "text": [
      " - Training Loss        0.9467\n",
      " - Validation Loss      1.1565\n",
      " - Validation Accuracy  0.3448\n",
      "\n",
      " - Validation Accuracy (per class)\n",
      "   * Class 0\t 0.0649 [22 out of 339]\n",
      "   * Class 1\t 0.8946 [280 out of 313]\n",
      "   * Class 2\t 0.0942 [29 out of 308]\n",
      "   * Mean        0.3512\n",
      "\n",
      "==================================================================================\n"
     ]
    },
    {
     "name": "stderr",
     "output_type": "stream",
     "text": [
      "> Epoch 6: 100%|██████████| 60/60 [01:18<00:00,  1.32s/it]\n"
     ]
    },
    {
     "name": "stdout",
     "output_type": "stream",
     "text": [
      " - Training Loss        0.9395\n",
      " - Validation Loss      1.17\n",
      " - Validation Accuracy  0.3469\n",
      "\n",
      " - Validation Accuracy (per class)\n",
      "   * Class 0\t 0.0737 [25 out of 339]\n",
      "   * Class 1\t 0.9105 [285 out of 313]\n",
      "   * Class 2\t 0.0747 [23 out of 308]\n",
      "   * Mean        0.353\n",
      "\n",
      "==================================================================================\n"
     ]
    },
    {
     "name": "stderr",
     "output_type": "stream",
     "text": [
      "> Epoch 7: 100%|██████████| 60/60 [01:18<00:00,  1.31s/it]\n"
     ]
    },
    {
     "name": "stdout",
     "output_type": "stream",
     "text": [
      " - Training Loss        0.9405\n",
      " - Validation Loss      1.1906\n",
      " - Validation Accuracy  0.349\n",
      "\n",
      " - Validation Accuracy (per class)\n",
      "   * Class 0\t 0.0796 [27 out of 339]\n",
      "   * Class 1\t 0.901 [282 out of 313]\n",
      "   * Class 2\t 0.0844 [26 out of 308]\n",
      "   * Mean        0.355\n",
      "\n",
      "==================================================================================\n"
     ]
    },
    {
     "name": "stderr",
     "output_type": "stream",
     "text": [
      "> Epoch 8: 100%|██████████| 60/60 [01:19<00:00,  1.32s/it]\n"
     ]
    },
    {
     "name": "stdout",
     "output_type": "stream",
     "text": [
      " - Training Loss        0.9275\n",
      " - Validation Loss      1.2218\n",
      " - Validation Accuracy  0.349\n",
      "\n",
      " - Validation Accuracy (per class)\n",
      "   * Class 0\t 0.0767 [26 out of 339]\n",
      "   * Class 1\t 0.9073 [284 out of 313]\n",
      "   * Class 2\t 0.0812 [25 out of 308]\n",
      "   * Mean        0.3551\n",
      "\n",
      "==================================================================================\n"
     ]
    },
    {
     "name": "stderr",
     "output_type": "stream",
     "text": [
      "> Epoch 9: 100%|██████████| 60/60 [01:19<00:00,  1.33s/it]\n"
     ]
    },
    {
     "name": "stdout",
     "output_type": "stream",
     "text": [
      " - Training Loss        0.9269\n",
      " - Validation Loss      1.233\n",
      " - Validation Accuracy  0.3354\n",
      "\n",
      " - Validation Accuracy (per class)\n",
      "   * Class 0\t 0.0678 [23 out of 339]\n",
      "   * Class 1\t 0.0415 [13 out of 313]\n",
      "   * Class 2\t 0.9286 [286 out of 308]\n",
      "   * Mean        0.346\n",
      "\n",
      "==================================================================================\n"
     ]
    },
    {
     "name": "stderr",
     "output_type": "stream",
     "text": [
      "> Epoch 10: 100%|██████████| 60/60 [01:19<00:00,  1.32s/it]\n"
     ]
    },
    {
     "name": "stdout",
     "output_type": "stream",
     "text": [
      " - Training Loss        0.9262\n",
      " - Validation Loss      1.253\n",
      " - Validation Accuracy  0.3417\n",
      "\n",
      " - Validation Accuracy (per class)\n",
      "   * Class 0\t 0.0649 [22 out of 339]\n",
      "   * Class 1\t 0.901 [282 out of 313]\n",
      "   * Class 2\t 0.0779 [24 out of 308]\n",
      "   * Mean        0.3479\n",
      "\n",
      "==================================================================================\n"
     ]
    },
    {
     "name": "stderr",
     "output_type": "stream",
     "text": [
      "> Epoch 11: 100%|██████████| 60/60 [01:25<00:00,  1.42s/it]\n"
     ]
    },
    {
     "name": "stdout",
     "output_type": "stream",
     "text": [
      " - Training Loss        0.9255\n",
      " - Validation Loss      1.2524\n",
      " - Validation Accuracy  0.3479\n",
      "\n",
      " - Validation Accuracy (per class)\n",
      "   * Class 0\t 0.0855 [29 out of 339]\n",
      "   * Class 1\t 0.901 [282 out of 313]\n",
      "   * Class 2\t 0.0747 [23 out of 308]\n",
      "   * Mean        0.3537\n",
      "\n",
      "==================================================================================\n"
     ]
    },
    {
     "name": "stderr",
     "output_type": "stream",
     "text": [
      "> Epoch 12: 100%|██████████| 60/60 [03:13<00:00,  3.22s/it]\n"
     ]
    },
    {
     "name": "stdout",
     "output_type": "stream",
     "text": [
      " - Training Loss        0.9274\n",
      " - Validation Loss      1.2248\n",
      " - Validation Accuracy  0.349\n",
      "\n",
      " - Validation Accuracy (per class)\n",
      "   * Class 0\t 0.0649 [22 out of 339]\n",
      "   * Class 1\t 0.9233 [289 out of 313]\n",
      "   * Class 2\t 0.0779 [24 out of 308]\n",
      "   * Mean        0.3554\n",
      "\n",
      "==================================================================================\n"
     ]
    },
    {
     "name": "stderr",
     "output_type": "stream",
     "text": [
      "> Epoch 13: 100%|██████████| 60/60 [03:17<00:00,  3.30s/it]\n"
     ]
    },
    {
     "name": "stdout",
     "output_type": "stream",
     "text": [
      " - Training Loss        0.9262\n",
      " - Validation Loss      1.2241\n",
      " - Validation Accuracy  0.35\n",
      "\n",
      " - Validation Accuracy (per class)\n",
      "   * Class 0\t 0.0767 [26 out of 339]\n",
      "   * Class 1\t 0.9201 [288 out of 313]\n",
      "   * Class 2\t 0.0714 [22 out of 308]\n",
      "   * Mean        0.3561\n",
      "\n",
      "==================================================================================\n"
     ]
    },
    {
     "name": "stderr",
     "output_type": "stream",
     "text": [
      "> Epoch 14: 100%|██████████| 60/60 [03:18<00:00,  3.31s/it]\n"
     ]
    },
    {
     "name": "stdout",
     "output_type": "stream",
     "text": [
      " - Training Loss        0.9276\n",
      " - Validation Loss      1.2167\n",
      " - Validation Accuracy  0.35\n",
      "\n",
      " - Validation Accuracy (per class)\n",
      "   * Class 0\t 0.0737 [25 out of 339]\n",
      "   * Class 1\t 0.9105 [285 out of 313]\n",
      "   * Class 2\t 0.0844 [26 out of 308]\n",
      "   * Mean        0.3562\n",
      "\n",
      "==================================================================================\n"
     ]
    },
    {
     "name": "stderr",
     "output_type": "stream",
     "text": [
      "> Epoch 15: 100%|██████████| 60/60 [03:18<00:00,  3.30s/it]\n"
     ]
    },
    {
     "name": "stdout",
     "output_type": "stream",
     "text": [
      " - Training Loss        0.9256\n",
      " - Validation Loss      1.2496\n",
      " - Validation Accuracy  0.3469\n",
      "\n",
      " - Validation Accuracy (per class)\n",
      "   * Class 0\t 0.0737 [25 out of 339]\n",
      "   * Class 1\t 0.9073 [284 out of 313]\n",
      "   * Class 2\t 0.0779 [24 out of 308]\n",
      "   * Mean        0.353\n",
      "\n",
      "==================================================================================\n"
     ]
    },
    {
     "name": "stderr",
     "output_type": "stream",
     "text": [
      "> Epoch 16: 100%|██████████| 60/60 [03:18<00:00,  3.31s/it]\n"
     ]
    },
    {
     "name": "stdout",
     "output_type": "stream",
     "text": [
      " - Training Loss        0.9269\n",
      " - Validation Loss      1.2838\n",
      " - Validation Accuracy  0.3427\n",
      "\n",
      " - Validation Accuracy (per class)\n",
      "   * Class 0\t 0.0531 [18 out of 339]\n",
      "   * Class 1\t 0.9073 [284 out of 313]\n",
      "   * Class 2\t 0.0877 [27 out of 308]\n",
      "   * Mean        0.3494\n",
      "\n",
      "==================================================================================\n"
     ]
    },
    {
     "name": "stderr",
     "output_type": "stream",
     "text": [
      "> Epoch 17: 100%|██████████| 60/60 [03:17<00:00,  3.30s/it]\n"
     ]
    },
    {
     "name": "stdout",
     "output_type": "stream",
     "text": [
      " - Training Loss        0.9313\n",
      " - Validation Loss      1.1687\n",
      " - Validation Accuracy  0.3521\n",
      "\n",
      " - Validation Accuracy (per class)\n",
      "   * Class 0\t 0.0855 [29 out of 339]\n",
      "   * Class 1\t 0.9073 [284 out of 313]\n",
      "   * Class 2\t 0.0812 [25 out of 308]\n",
      "   * Mean        0.358\n",
      "\n",
      "> ATTENTION: epoch 17 was the best one so far! The model has been saved :)\n",
      "\n",
      "==================================================================================\n"
     ]
    },
    {
     "name": "stderr",
     "output_type": "stream",
     "text": [
      "> Epoch 18: 100%|██████████| 60/60 [03:18<00:00,  3.31s/it]\n"
     ]
    },
    {
     "name": "stdout",
     "output_type": "stream",
     "text": [
      " - Training Loss        0.9268\n",
      " - Validation Loss      1.1981\n",
      " - Validation Accuracy  0.3625\n",
      "\n",
      " - Validation Accuracy (per class)\n",
      "   * Class 0\t 0.9145 [310 out of 339]\n",
      "   * Class 1\t 0.0319 [10 out of 313]\n",
      "   * Class 2\t 0.0909 [28 out of 308]\n",
      "   * Mean        0.3458\n",
      "\n",
      "==================================================================================\n"
     ]
    },
    {
     "name": "stderr",
     "output_type": "stream",
     "text": [
      "> Epoch 19: 100%|██████████| 60/60 [03:18<00:00,  3.30s/it]\n"
     ]
    },
    {
     "name": "stdout",
     "output_type": "stream",
     "text": [
      " - Training Loss        0.9252\n",
      " - Validation Loss      1.203\n",
      " - Validation Accuracy  0.3479\n",
      "\n",
      " - Validation Accuracy (per class)\n",
      "   * Class 0\t 0.0767 [26 out of 339]\n",
      "   * Class 1\t 0.8978 [281 out of 313]\n",
      "   * Class 2\t 0.0877 [27 out of 308]\n",
      "   * Mean        0.3541\n",
      "\n",
      "==================================================================================\n"
     ]
    },
    {
     "name": "stderr",
     "output_type": "stream",
     "text": [
      "> Epoch 20: 100%|██████████| 60/60 [02:14<00:00,  2.24s/it]\n"
     ]
    },
    {
     "name": "stdout",
     "output_type": "stream",
     "text": [
      " - Training Loss        0.9245\n",
      " - Validation Loss      1.2236\n",
      " - Validation Accuracy  0.3479\n",
      "\n",
      " - Validation Accuracy (per class)\n",
      "   * Class 0\t 0.0826 [28 out of 339]\n",
      "   * Class 1\t 0.8978 [281 out of 313]\n",
      "   * Class 2\t 0.0812 [25 out of 308]\n",
      "   * Mean        0.3539\n",
      "\n",
      "==================================================================================\n"
     ]
    },
    {
     "name": "stderr",
     "output_type": "stream",
     "text": [
      "> Epoch 21: 100%|██████████| 60/60 [01:19<00:00,  1.33s/it]\n"
     ]
    },
    {
     "name": "stdout",
     "output_type": "stream",
     "text": [
      " - Training Loss        0.925\n",
      " - Validation Loss      1.2134\n",
      " - Validation Accuracy  0.3469\n",
      "\n",
      " - Validation Accuracy (per class)\n",
      "   * Class 0\t 0.0737 [25 out of 339]\n",
      "   * Class 1\t 0.9105 [285 out of 313]\n",
      "   * Class 2\t 0.0747 [23 out of 308]\n",
      "   * Mean        0.353\n",
      "\n",
      "==================================================================================\n"
     ]
    },
    {
     "name": "stderr",
     "output_type": "stream",
     "text": [
      "> Epoch 22: 100%|██████████| 60/60 [01:20<00:00,  1.33s/it]\n"
     ]
    },
    {
     "name": "stdout",
     "output_type": "stream",
     "text": [
      " - Training Loss        0.9239\n",
      " - Validation Loss      1.2202\n",
      " - Validation Accuracy  0.35\n",
      "\n",
      " - Validation Accuracy (per class)\n",
      "   * Class 0\t 0.0796 [27 out of 339]\n",
      "   * Class 1\t 0.9073 [284 out of 313]\n",
      "   * Class 2\t 0.0812 [25 out of 308]\n",
      "   * Mean        0.356\n",
      "\n",
      "==================================================================================\n"
     ]
    },
    {
     "name": "stderr",
     "output_type": "stream",
     "text": [
      "> Epoch 23: 100%|██████████| 60/60 [01:19<00:00,  1.33s/it]\n"
     ]
    },
    {
     "name": "stdout",
     "output_type": "stream",
     "text": [
      " - Training Loss        0.9242\n",
      " - Validation Loss      1.2367\n",
      " - Validation Accuracy  0.3458\n",
      "\n",
      " - Validation Accuracy (per class)\n",
      "   * Class 0\t 0.0826 [28 out of 339]\n",
      "   * Class 1\t 0.8946 [280 out of 313]\n",
      "   * Class 2\t 0.0779 [24 out of 308]\n",
      "   * Mean        0.3517\n",
      "\n",
      "==================================================================================\n"
     ]
    },
    {
     "name": "stderr",
     "output_type": "stream",
     "text": [
      "> Epoch 24: 100%|██████████| 60/60 [01:19<00:00,  1.33s/it]\n"
     ]
    },
    {
     "name": "stdout",
     "output_type": "stream",
     "text": [
      " - Training Loss        0.9239\n",
      " - Validation Loss      1.2278\n",
      " - Validation Accuracy  0.3458\n",
      "\n",
      " - Validation Accuracy (per class)\n",
      "   * Class 0\t 0.0737 [25 out of 339]\n",
      "   * Class 1\t 0.901 [282 out of 313]\n",
      "   * Class 2\t 0.0812 [25 out of 308]\n",
      "   * Mean        0.352\n",
      "\n",
      "==================================================================================\n"
     ]
    },
    {
     "name": "stderr",
     "output_type": "stream",
     "text": [
      "> Epoch 25: 100%|██████████| 60/60 [01:19<00:00,  1.32s/it]\n"
     ]
    },
    {
     "name": "stdout",
     "output_type": "stream",
     "text": [
      " - Training Loss        0.9246\n",
      " - Validation Loss      1.2202\n",
      " - Validation Accuracy  0.3479\n",
      "\n",
      " - Validation Accuracy (per class)\n",
      "   * Class 0\t 0.0678 [23 out of 339]\n",
      "   * Class 1\t 0.9169 [287 out of 313]\n",
      "   * Class 2\t 0.0779 [24 out of 308]\n",
      "   * Mean        0.3542\n",
      "\n",
      "==================================================================================\n"
     ]
    },
    {
     "name": "stderr",
     "output_type": "stream",
     "text": [
      "> Epoch 26: 100%|██████████| 60/60 [01:19<00:00,  1.32s/it]\n"
     ]
    },
    {
     "name": "stdout",
     "output_type": "stream",
     "text": [
      " - Training Loss        0.924\n",
      " - Validation Loss      1.2287\n",
      " - Validation Accuracy  0.3573\n",
      "\n",
      " - Validation Accuracy (per class)\n",
      "   * Class 0\t 0.0914 [31 out of 339]\n",
      "   * Class 1\t 0.9073 [284 out of 313]\n",
      "   * Class 2\t 0.0909 [28 out of 308]\n",
      "   * Mean        0.3632\n",
      "\n",
      "> ATTENTION: epoch 26 was the best one so far! The model has been saved :)\n",
      "\n",
      "==================================================================================\n"
     ]
    },
    {
     "name": "stderr",
     "output_type": "stream",
     "text": [
      "> Epoch 27: 100%|██████████| 60/60 [01:19<00:00,  1.33s/it]\n"
     ]
    },
    {
     "name": "stdout",
     "output_type": "stream",
     "text": [
      " - Training Loss        0.9242\n",
      " - Validation Loss      1.2429\n",
      " - Validation Accuracy  0.3458\n",
      "\n",
      " - Validation Accuracy (per class)\n",
      "   * Class 0\t 0.0708 [24 out of 339]\n",
      "   * Class 1\t 0.9042 [283 out of 313]\n",
      "   * Class 2\t 0.0812 [25 out of 308]\n",
      "   * Mean        0.3521\n",
      "\n",
      "==================================================================================\n"
     ]
    },
    {
     "name": "stderr",
     "output_type": "stream",
     "text": [
      "> Epoch 28: 100%|██████████| 60/60 [01:19<00:00,  1.33s/it]\n"
     ]
    },
    {
     "name": "stdout",
     "output_type": "stream",
     "text": [
      " - Training Loss        0.9238\n",
      " - Validation Loss      1.2262\n",
      " - Validation Accuracy  0.3469\n",
      "\n",
      " - Validation Accuracy (per class)\n",
      "   * Class 0\t 0.0708 [24 out of 339]\n",
      "   * Class 1\t 0.9042 [283 out of 313]\n",
      "   * Class 2\t 0.0844 [26 out of 308]\n",
      "   * Mean        0.3531\n",
      "\n",
      "==================================================================================\n"
     ]
    },
    {
     "name": "stderr",
     "output_type": "stream",
     "text": [
      "> Epoch 29: 100%|██████████| 60/60 [01:19<00:00,  1.33s/it]\n"
     ]
    },
    {
     "name": "stdout",
     "output_type": "stream",
     "text": [
      " - Training Loss        0.9236\n",
      " - Validation Loss      1.2774\n",
      " - Validation Accuracy  0.349\n",
      "\n",
      " - Validation Accuracy (per class)\n",
      "   * Class 0\t 0.0767 [26 out of 339]\n",
      "   * Class 1\t 0.901 [282 out of 313]\n",
      "   * Class 2\t 0.0877 [27 out of 308]\n",
      "   * Mean        0.3551\n",
      "\n",
      "==================================================================================\n"
     ]
    },
    {
     "name": "stderr",
     "output_type": "stream",
     "text": [
      "> Epoch 30: 100%|██████████| 60/60 [01:19<00:00,  1.32s/it]\n"
     ]
    },
    {
     "name": "stdout",
     "output_type": "stream",
     "text": [
      " - Training Loss        0.9244\n",
      " - Validation Loss      1.2392\n",
      " - Validation Accuracy  0.3427\n",
      "\n",
      " - Validation Accuracy (per class)\n",
      "   * Class 0\t 0.0708 [24 out of 339]\n",
      "   * Class 1\t 0.9042 [283 out of 313]\n",
      "   * Class 2\t 0.0714 [22 out of 308]\n",
      "   * Mean        0.3488\n",
      "\n",
      "==================================================================================\n"
     ]
    },
    {
     "name": "stderr",
     "output_type": "stream",
     "text": [
      "> Epoch 31: 100%|██████████| 60/60 [01:18<00:00,  1.32s/it]\n"
     ]
    },
    {
     "name": "stdout",
     "output_type": "stream",
     "text": [
      " - Training Loss        0.9285\n",
      " - Validation Loss      1.2043\n",
      " - Validation Accuracy  0.3469\n",
      "\n",
      " - Validation Accuracy (per class)\n",
      "   * Class 0\t 0.0767 [26 out of 339]\n",
      "   * Class 1\t 0.9073 [284 out of 313]\n",
      "   * Class 2\t 0.0747 [23 out of 308]\n",
      "   * Mean        0.3529\n",
      "\n",
      "==================================================================================\n"
     ]
    },
    {
     "name": "stderr",
     "output_type": "stream",
     "text": [
      "> Epoch 32: 100%|██████████| 60/60 [01:19<00:00,  1.32s/it]\n"
     ]
    },
    {
     "name": "stdout",
     "output_type": "stream",
     "text": [
      " - Training Loss        0.9264\n",
      " - Validation Loss      1.237\n",
      " - Validation Accuracy  0.349\n",
      "\n",
      " - Validation Accuracy (per class)\n",
      "   * Class 0\t 0.0649 [22 out of 339]\n",
      "   * Class 1\t 0.9073 [284 out of 313]\n",
      "   * Class 2\t 0.0942 [29 out of 308]\n",
      "   * Mean        0.3555\n",
      "\n",
      "==================================================================================\n"
     ]
    },
    {
     "name": "stderr",
     "output_type": "stream",
     "text": [
      "> Epoch 33: 100%|██████████| 60/60 [01:19<00:00,  1.33s/it]\n"
     ]
    },
    {
     "name": "stdout",
     "output_type": "stream",
     "text": [
      " - Training Loss        0.9278\n",
      " - Validation Loss      1.2283\n",
      " - Validation Accuracy  0.3427\n",
      "\n",
      " - Validation Accuracy (per class)\n",
      "   * Class 0\t 0.0649 [22 out of 339]\n",
      "   * Class 1\t 0.8978 [281 out of 313]\n",
      "   * Class 2\t 0.0844 [26 out of 308]\n",
      "   * Mean        0.349\n",
      "\n",
      "==================================================================================\n"
     ]
    },
    {
     "name": "stderr",
     "output_type": "stream",
     "text": [
      "> Epoch 34: 100%|██████████| 60/60 [01:18<00:00,  1.32s/it]\n"
     ]
    },
    {
     "name": "stdout",
     "output_type": "stream",
     "text": [
      " - Training Loss        0.9277\n",
      " - Validation Loss      1.2415\n",
      " - Validation Accuracy  0.3417\n",
      "\n",
      " - Validation Accuracy (per class)\n",
      "   * Class 0\t 0.056 [19 out of 339]\n",
      "   * Class 1\t 0.8914 [279 out of 313]\n",
      "   * Class 2\t 0.0974 [30 out of 308]\n",
      "   * Mean        0.3483\n",
      "\n",
      "==================================================================================\n"
     ]
    },
    {
     "name": "stderr",
     "output_type": "stream",
     "text": [
      "> Epoch 35: 100%|██████████| 60/60 [01:19<00:00,  1.33s/it]\n"
     ]
    },
    {
     "name": "stdout",
     "output_type": "stream",
     "text": [
      " - Training Loss        0.9249\n",
      " - Validation Loss      1.2624\n",
      " - Validation Accuracy  0.3417\n",
      "\n",
      " - Validation Accuracy (per class)\n",
      "   * Class 0\t 0.0678 [23 out of 339]\n",
      "   * Class 1\t 0.8882 [278 out of 313]\n",
      "   * Class 2\t 0.0877 [27 out of 308]\n",
      "   * Mean        0.3479\n",
      "\n",
      "==================================================================================\n"
     ]
    },
    {
     "name": "stderr",
     "output_type": "stream",
     "text": [
      "> Epoch 36: 100%|██████████| 60/60 [01:20<00:00,  1.34s/it]\n"
     ]
    },
    {
     "name": "stdout",
     "output_type": "stream",
     "text": [
      " - Training Loss        0.9248\n",
      " - Validation Loss      1.2634\n",
      " - Validation Accuracy  0.3438\n",
      "\n",
      " - Validation Accuracy (per class)\n",
      "   * Class 0\t 0.0737 [25 out of 339]\n",
      "   * Class 1\t 0.8978 [281 out of 313]\n",
      "   * Class 2\t 0.0779 [24 out of 308]\n",
      "   * Mean        0.3498\n",
      "\n",
      "==================================================================================\n"
     ]
    },
    {
     "name": "stderr",
     "output_type": "stream",
     "text": [
      "> Epoch 37: 100%|██████████| 60/60 [01:19<00:00,  1.33s/it]\n"
     ]
    },
    {
     "name": "stdout",
     "output_type": "stream",
     "text": [
      " - Training Loss        0.9257\n",
      " - Validation Loss      1.2415\n",
      " - Validation Accuracy  0.3427\n",
      "\n",
      " - Validation Accuracy (per class)\n",
      "   * Class 0\t 0.059 [20 out of 339]\n",
      "   * Class 1\t 0.9073 [284 out of 313]\n",
      "   * Class 2\t 0.0812 [25 out of 308]\n",
      "   * Mean        0.3492\n",
      "\n",
      "==================================================================================\n"
     ]
    },
    {
     "name": "stderr",
     "output_type": "stream",
     "text": [
      "> Epoch 38: 100%|██████████| 60/60 [01:19<00:00,  1.32s/it]\n"
     ]
    },
    {
     "name": "stdout",
     "output_type": "stream",
     "text": [
      " - Training Loss        0.9257\n",
      " - Validation Loss      1.2464\n",
      " - Validation Accuracy  0.3479\n",
      "\n",
      " - Validation Accuracy (per class)\n",
      "   * Class 0\t 0.059 [20 out of 339]\n",
      "   * Class 1\t 0.9137 [286 out of 313]\n",
      "   * Class 2\t 0.0909 [28 out of 308]\n",
      "   * Mean        0.3545\n",
      "\n",
      "==================================================================================\n"
     ]
    },
    {
     "name": "stderr",
     "output_type": "stream",
     "text": [
      "> Epoch 39: 100%|██████████| 60/60 [01:19<00:00,  1.32s/it]\n"
     ]
    },
    {
     "name": "stdout",
     "output_type": "stream",
     "text": [
      " - Training Loss        0.9251\n",
      " - Validation Loss      1.26\n",
      " - Validation Accuracy  0.3448\n",
      "\n",
      " - Validation Accuracy (per class)\n",
      "   * Class 0\t 0.0501 [17 out of 339]\n",
      "   * Class 1\t 0.9073 [284 out of 313]\n",
      "   * Class 2\t 0.0974 [30 out of 308]\n",
      "   * Mean        0.3516\n",
      "\n",
      "==================================================================================\n"
     ]
    },
    {
     "name": "stderr",
     "output_type": "stream",
     "text": [
      "> Epoch 40: 100%|██████████| 60/60 [01:19<00:00,  1.33s/it]\n"
     ]
    },
    {
     "name": "stdout",
     "output_type": "stream",
     "text": [
      " - Training Loss        0.9249\n",
      " - Validation Loss      1.257\n",
      " - Validation Accuracy  0.351\n",
      "\n",
      " - Validation Accuracy (per class)\n",
      "   * Class 0\t 0.059 [20 out of 339]\n",
      "   * Class 1\t 0.9137 [286 out of 313]\n",
      "   * Class 2\t 0.1006 [31 out of 308]\n",
      "   * Mean        0.3578\n",
      "\n",
      "==================================================================================\n"
     ]
    },
    {
     "name": "stderr",
     "output_type": "stream",
     "text": [
      "> Epoch 41: 100%|██████████| 60/60 [01:19<00:00,  1.33s/it]\n"
     ]
    },
    {
     "name": "stdout",
     "output_type": "stream",
     "text": [
      " - Training Loss        0.9244\n",
      " - Validation Loss      1.2653\n",
      " - Validation Accuracy  0.35\n",
      "\n",
      " - Validation Accuracy (per class)\n",
      "   * Class 0\t 0.0619 [21 out of 339]\n",
      "   * Class 1\t 0.9137 [286 out of 313]\n",
      "   * Class 2\t 0.0942 [29 out of 308]\n",
      "   * Mean        0.3566\n",
      "\n",
      "==================================================================================\n"
     ]
    },
    {
     "name": "stderr",
     "output_type": "stream",
     "text": [
      "> Epoch 42: 100%|██████████| 60/60 [01:19<00:00,  1.33s/it]\n"
     ]
    },
    {
     "name": "stdout",
     "output_type": "stream",
     "text": [
      " - Training Loss        0.9235\n",
      " - Validation Loss      1.2661\n",
      " - Validation Accuracy  0.3521\n",
      "\n",
      " - Validation Accuracy (per class)\n",
      "   * Class 0\t 0.0737 [25 out of 339]\n",
      "   * Class 1\t 0.9073 [284 out of 313]\n",
      "   * Class 2\t 0.0942 [29 out of 308]\n",
      "   * Mean        0.3584\n",
      "\n",
      "==================================================================================\n"
     ]
    },
    {
     "name": "stderr",
     "output_type": "stream",
     "text": [
      "> Epoch 43: 100%|██████████| 60/60 [01:19<00:00,  1.33s/it]\n"
     ]
    },
    {
     "name": "stdout",
     "output_type": "stream",
     "text": [
      " - Training Loss        0.9245\n",
      " - Validation Loss      1.2912\n",
      " - Validation Accuracy  0.3469\n",
      "\n",
      " - Validation Accuracy (per class)\n",
      "   * Class 0\t 0.0678 [23 out of 339]\n",
      "   * Class 1\t 0.901 [282 out of 313]\n",
      "   * Class 2\t 0.0909 [28 out of 308]\n",
      "   * Mean        0.3532\n",
      "\n",
      "==================================================================================\n"
     ]
    },
    {
     "name": "stderr",
     "output_type": "stream",
     "text": [
      "> Epoch 44: 100%|██████████| 60/60 [01:20<00:00,  1.34s/it]\n"
     ]
    },
    {
     "name": "stdout",
     "output_type": "stream",
     "text": [
      " - Training Loss        0.9244\n",
      " - Validation Loss      1.2808\n",
      " - Validation Accuracy  0.3417\n",
      "\n",
      " - Validation Accuracy (per class)\n",
      "   * Class 0\t 0.0531 [18 out of 339]\n",
      "   * Class 1\t 0.8978 [281 out of 313]\n",
      "   * Class 2\t 0.0942 [29 out of 308]\n",
      "   * Mean        0.3484\n",
      "\n",
      "==================================================================================\n"
     ]
    },
    {
     "name": "stderr",
     "output_type": "stream",
     "text": [
      "> Epoch 45: 100%|██████████| 60/60 [01:20<00:00,  1.34s/it]\n"
     ]
    },
    {
     "name": "stdout",
     "output_type": "stream",
     "text": [
      " - Training Loss        0.9234\n",
      " - Validation Loss      1.2886\n",
      " - Validation Accuracy  0.3448\n",
      "\n",
      " - Validation Accuracy (per class)\n",
      "   * Class 0\t 0.0678 [23 out of 339]\n",
      "   * Class 1\t 0.8914 [279 out of 313]\n",
      "   * Class 2\t 0.0942 [29 out of 308]\n",
      "   * Mean        0.3511\n",
      "\n",
      "==================================================================================\n"
     ]
    },
    {
     "name": "stderr",
     "output_type": "stream",
     "text": [
      "> Epoch 46: 100%|██████████| 60/60 [01:20<00:00,  1.33s/it]\n"
     ]
    },
    {
     "name": "stdout",
     "output_type": "stream",
     "text": [
      " - Training Loss        0.9235\n",
      " - Validation Loss      1.2834\n",
      " - Validation Accuracy  0.349\n",
      "\n",
      " - Validation Accuracy (per class)\n",
      "   * Class 0\t 0.0649 [22 out of 339]\n",
      "   * Class 1\t 0.9042 [283 out of 313]\n",
      "   * Class 2\t 0.0974 [30 out of 308]\n",
      "   * Mean        0.3555\n",
      "\n",
      "==================================================================================\n"
     ]
    },
    {
     "name": "stderr",
     "output_type": "stream",
     "text": [
      "> Epoch 47: 100%|██████████| 60/60 [01:20<00:00,  1.34s/it]\n"
     ]
    },
    {
     "name": "stdout",
     "output_type": "stream",
     "text": [
      " - Training Loss        0.9234\n",
      " - Validation Loss      1.2845\n",
      " - Validation Accuracy  0.349\n",
      "\n",
      " - Validation Accuracy (per class)\n",
      "   * Class 0\t 0.0619 [21 out of 339]\n",
      "   * Class 1\t 0.9042 [283 out of 313]\n",
      "   * Class 2\t 0.1006 [31 out of 308]\n",
      "   * Mean        0.3556\n",
      "\n",
      "==================================================================================\n"
     ]
    },
    {
     "name": "stderr",
     "output_type": "stream",
     "text": [
      "> Epoch 48: 100%|██████████| 60/60 [01:20<00:00,  1.34s/it]\n"
     ]
    },
    {
     "name": "stdout",
     "output_type": "stream",
     "text": [
      " - Training Loss        0.9233\n",
      " - Validation Loss      1.2768\n",
      " - Validation Accuracy  0.3458\n",
      "\n",
      " - Validation Accuracy (per class)\n",
      "   * Class 0\t 0.059 [20 out of 339]\n",
      "   * Class 1\t 0.9073 [284 out of 313]\n",
      "   * Class 2\t 0.0909 [28 out of 308]\n",
      "   * Mean        0.3524\n",
      "\n",
      "==================================================================================\n"
     ]
    },
    {
     "name": "stderr",
     "output_type": "stream",
     "text": [
      "> Epoch 49: 100%|██████████| 60/60 [01:20<00:00,  1.33s/it]\n"
     ]
    },
    {
     "name": "stdout",
     "output_type": "stream",
     "text": [
      " - Training Loss        0.9262\n",
      " - Validation Loss      1.2421\n",
      " - Validation Accuracy  0.3479\n",
      "\n",
      " - Validation Accuracy (per class)\n",
      "   * Class 0\t 0.056 [19 out of 339]\n",
      "   * Class 1\t 0.9329 [292 out of 313]\n",
      "   * Class 2\t 0.0747 [23 out of 308]\n",
      "   * Mean        0.3545\n",
      "\n",
      "==================================================================================\n"
     ]
    },
    {
     "name": "stderr",
     "output_type": "stream",
     "text": [
      "> Epoch 50: 100%|██████████| 60/60 [01:18<00:00,  1.31s/it]\n"
     ]
    },
    {
     "name": "stdout",
     "output_type": "stream",
     "text": [
      " - Training Loss        0.9268\n",
      " - Validation Loss      1.2323\n",
      " - Validation Accuracy  0.3479\n",
      "\n",
      " - Validation Accuracy (per class)\n",
      "   * Class 0\t 0.0737 [25 out of 339]\n",
      "   * Class 1\t 0.9137 [286 out of 313]\n",
      "   * Class 2\t 0.0747 [23 out of 308]\n",
      "   * Mean        0.354\n",
      "\n",
      "==================================================================================\n",
      "> Parameters imported\n",
      "> Dataset correctly divided in training set, validation set and test set\n",
      "> Created Pytorch datasets and dataloaders\n",
      "> Model 'LSTM_fixed' instantiated\n",
      "> Initialization required 0.145 seconds\n",
      "==================================================================================\n",
      "> Training Started\n",
      "  - Total Epochs: 50\n",
      "==================================================================================\n"
     ]
    },
    {
     "name": "stderr",
     "output_type": "stream",
     "text": [
      "> Epoch 1: 100%|██████████| 60/60 [01:17<00:00,  1.30s/it]\n"
     ]
    },
    {
     "name": "stdout",
     "output_type": "stream",
     "text": [
      " - Training Loss        1.101\n",
      " - Validation Loss      1.0978\n",
      " - Validation Accuracy  0.3479\n",
      "\n",
      " - Validation Accuracy (per class)\n",
      "   * Class 0\t 0.056 [19 out of 339]\n",
      "   * Class 1\t 0.9073 [284 out of 313]\n",
      "   * Class 2\t 0.1006 [31 out of 308]\n",
      "   * Mean        0.3546\n",
      "\n",
      "> ATTENTION: epoch 1 was the best one so far! The model has been saved :)\n",
      "\n",
      "==================================================================================\n"
     ]
    },
    {
     "name": "stderr",
     "output_type": "stream",
     "text": [
      "> Epoch 2: 100%|██████████| 60/60 [01:18<00:00,  1.30s/it]\n"
     ]
    },
    {
     "name": "stdout",
     "output_type": "stream",
     "text": [
      " - Training Loss        1.0651\n",
      " - Validation Loss      1.1028\n",
      " - Validation Accuracy  0.3406\n",
      "\n",
      " - Validation Accuracy (per class)\n",
      "   * Class 0\t 0.0442 [15 out of 339]\n",
      "   * Class 1\t 0.9233 [289 out of 313]\n",
      "   * Class 2\t 0.0747 [23 out of 308]\n",
      "   * Mean        0.3474\n",
      "\n",
      "==================================================================================\n"
     ]
    },
    {
     "name": "stderr",
     "output_type": "stream",
     "text": [
      "> Epoch 3: 100%|██████████| 60/60 [01:18<00:00,  1.31s/it]\n"
     ]
    },
    {
     "name": "stdout",
     "output_type": "stream",
     "text": [
      " - Training Loss        1.0326\n",
      " - Validation Loss      1.0998\n",
      " - Validation Accuracy  0.3427\n",
      "\n",
      " - Validation Accuracy (per class)\n",
      "   * Class 0\t 0.0796 [27 out of 339]\n",
      "   * Class 1\t 0.9105 [285 out of 313]\n",
      "   * Class 2\t 0.0552 [17 out of 308]\n",
      "   * Mean        0.3484\n",
      "\n",
      "==================================================================================\n"
     ]
    },
    {
     "name": "stderr",
     "output_type": "stream",
     "text": [
      "> Epoch 4: 100%|██████████| 60/60 [01:18<00:00,  1.31s/it]\n"
     ]
    },
    {
     "name": "stdout",
     "output_type": "stream",
     "text": [
      " - Training Loss        0.9904\n",
      " - Validation Loss      1.1347\n",
      " - Validation Accuracy  0.3469\n",
      "\n",
      " - Validation Accuracy (per class)\n",
      "   * Class 0\t 0.0649 [22 out of 339]\n",
      "   * Class 1\t 0.9297 [291 out of 313]\n",
      "   * Class 2\t 0.0649 [20 out of 308]\n",
      "   * Mean        0.3532\n",
      "\n",
      "==================================================================================\n"
     ]
    },
    {
     "name": "stderr",
     "output_type": "stream",
     "text": [
      "> Epoch 5: 100%|██████████| 60/60 [01:18<00:00,  1.31s/it]\n"
     ]
    },
    {
     "name": "stdout",
     "output_type": "stream",
     "text": [
      " - Training Loss        0.959\n",
      " - Validation Loss      1.1528\n",
      " - Validation Accuracy  0.3417\n",
      "\n",
      " - Validation Accuracy (per class)\n",
      "   * Class 0\t 0.0442 [15 out of 339]\n",
      "   * Class 1\t 0.9169 [287 out of 313]\n",
      "   * Class 2\t 0.0844 [26 out of 308]\n",
      "   * Mean        0.3485\n",
      "\n",
      "==================================================================================\n"
     ]
    },
    {
     "name": "stderr",
     "output_type": "stream",
     "text": [
      "> Epoch 6: 100%|██████████| 60/60 [01:18<00:00,  1.31s/it]\n"
     ]
    },
    {
     "name": "stdout",
     "output_type": "stream",
     "text": [
      " - Training Loss        0.942\n",
      " - Validation Loss      1.1596\n",
      " - Validation Accuracy  0.3354\n",
      "\n",
      " - Validation Accuracy (per class)\n",
      "   * Class 0\t 0.0767 [26 out of 339]\n",
      "   * Class 1\t 0.0479 [15 out of 313]\n",
      "   * Class 2\t 0.9123 [281 out of 308]\n",
      "   * Mean        0.3456\n",
      "\n",
      "==================================================================================\n"
     ]
    },
    {
     "name": "stderr",
     "output_type": "stream",
     "text": [
      "> Epoch 7: 100%|██████████| 60/60 [01:19<00:00,  1.32s/it]\n"
     ]
    },
    {
     "name": "stdout",
     "output_type": "stream",
     "text": [
      " - Training Loss        0.9299\n",
      " - Validation Loss      1.2041\n",
      " - Validation Accuracy  0.3385\n",
      "\n",
      " - Validation Accuracy (per class)\n",
      "   * Class 0\t 0.0737 [25 out of 339]\n",
      "   * Class 1\t 0.0319 [10 out of 313]\n",
      "   * Class 2\t 0.9416 [290 out of 308]\n",
      "   * Mean        0.3491\n",
      "\n",
      "==================================================================================\n"
     ]
    },
    {
     "name": "stderr",
     "output_type": "stream",
     "text": [
      "> Epoch 8: 100%|██████████| 60/60 [01:19<00:00,  1.33s/it]\n"
     ]
    },
    {
     "name": "stdout",
     "output_type": "stream",
     "text": [
      " - Training Loss        0.9313\n",
      " - Validation Loss      1.218\n",
      " - Validation Accuracy  0.3438\n",
      "\n",
      " - Validation Accuracy (per class)\n",
      "   * Class 0\t 0.0501 [17 out of 339]\n",
      "   * Class 1\t 0.9169 [287 out of 313]\n",
      "   * Class 2\t 0.0844 [26 out of 308]\n",
      "   * Mean        0.3505\n",
      "\n",
      "==================================================================================\n"
     ]
    },
    {
     "name": "stderr",
     "output_type": "stream",
     "text": [
      "> Epoch 9: 100%|██████████| 60/60 [01:19<00:00,  1.32s/it]\n"
     ]
    },
    {
     "name": "stdout",
     "output_type": "stream",
     "text": [
      " - Training Loss        0.927\n",
      " - Validation Loss      1.242\n",
      " - Validation Accuracy  0.3448\n",
      "\n",
      " - Validation Accuracy (per class)\n",
      "   * Class 0\t 0.0531 [18 out of 339]\n",
      "   * Class 1\t 0.9233 [289 out of 313]\n",
      "   * Class 2\t 0.0779 [24 out of 308]\n",
      "   * Mean        0.3514\n",
      "\n",
      "==================================================================================\n"
     ]
    },
    {
     "name": "stderr",
     "output_type": "stream",
     "text": [
      "> Epoch 10: 100%|██████████| 60/60 [01:19<00:00,  1.32s/it]\n"
     ]
    },
    {
     "name": "stdout",
     "output_type": "stream",
     "text": [
      " - Training Loss        0.9264\n",
      " - Validation Loss      1.28\n",
      " - Validation Accuracy  0.3396\n",
      "\n",
      " - Validation Accuracy (per class)\n",
      "   * Class 0\t 0.0501 [17 out of 339]\n",
      "   * Class 1\t 0.901 [282 out of 313]\n",
      "   * Class 2\t 0.0877 [27 out of 308]\n",
      "   * Mean        0.3463\n",
      "\n",
      "==================================================================================\n"
     ]
    },
    {
     "name": "stderr",
     "output_type": "stream",
     "text": [
      "> Epoch 11: 100%|██████████| 60/60 [01:19<00:00,  1.33s/it]\n"
     ]
    },
    {
     "name": "stdout",
     "output_type": "stream",
     "text": [
      " - Training Loss        0.9311\n",
      " - Validation Loss      1.1821\n",
      " - Validation Accuracy  0.35\n",
      "\n",
      " - Validation Accuracy (per class)\n",
      "   * Class 0\t 0.0855 [29 out of 339]\n",
      "   * Class 1\t 0.9137 [286 out of 313]\n",
      "   * Class 2\t 0.0682 [21 out of 308]\n",
      "   * Mean        0.3558\n",
      "\n",
      "> ATTENTION: epoch 11 was the best one so far! The model has been saved :)\n",
      "\n",
      "==================================================================================\n"
     ]
    },
    {
     "name": "stderr",
     "output_type": "stream",
     "text": [
      "> Epoch 12: 100%|██████████| 60/60 [01:19<00:00,  1.33s/it]\n"
     ]
    },
    {
     "name": "stdout",
     "output_type": "stream",
     "text": [
      " - Training Loss        0.9274\n",
      " - Validation Loss      1.1973\n",
      " - Validation Accuracy  0.3448\n",
      "\n",
      " - Validation Accuracy (per class)\n",
      "   * Class 0\t 0.059 [20 out of 339]\n",
      "   * Class 1\t 0.9073 [284 out of 313]\n",
      "   * Class 2\t 0.0877 [27 out of 308]\n",
      "   * Mean        0.3513\n",
      "\n",
      "==================================================================================\n"
     ]
    },
    {
     "name": "stderr",
     "output_type": "stream",
     "text": [
      "> Epoch 13: 100%|██████████| 60/60 [01:19<00:00,  1.33s/it]\n"
     ]
    },
    {
     "name": "stdout",
     "output_type": "stream",
     "text": [
      " - Training Loss        0.9387\n",
      " - Validation Loss      1.1914\n",
      " - Validation Accuracy  0.3469\n",
      "\n",
      " - Validation Accuracy (per class)\n",
      "   * Class 0\t 0.0678 [23 out of 339]\n",
      "   * Class 1\t 0.9073 [284 out of 313]\n",
      "   * Class 2\t 0.0844 [26 out of 308]\n",
      "   * Mean        0.3532\n",
      "\n",
      "==================================================================================\n"
     ]
    },
    {
     "name": "stderr",
     "output_type": "stream",
     "text": [
      "> Epoch 14: 100%|██████████| 60/60 [01:18<00:00,  1.32s/it]\n"
     ]
    },
    {
     "name": "stdout",
     "output_type": "stream",
     "text": [
      " - Training Loss        0.9315\n",
      " - Validation Loss      1.2152\n",
      " - Validation Accuracy  0.3417\n",
      "\n",
      " - Validation Accuracy (per class)\n",
      "   * Class 0\t 0.0472 [16 out of 339]\n",
      "   * Class 1\t 0.9137 [286 out of 313]\n",
      "   * Class 2\t 0.0844 [26 out of 308]\n",
      "   * Mean        0.3484\n",
      "\n",
      "==================================================================================\n"
     ]
    },
    {
     "name": "stderr",
     "output_type": "stream",
     "text": [
      "> Epoch 15: 100%|██████████| 60/60 [01:19<00:00,  1.32s/it]\n"
     ]
    },
    {
     "name": "stdout",
     "output_type": "stream",
     "text": [
      " - Training Loss        0.9267\n",
      " - Validation Loss      1.2242\n",
      " - Validation Accuracy  0.3448\n",
      "\n",
      " - Validation Accuracy (per class)\n",
      "   * Class 0\t 0.059 [20 out of 339]\n",
      "   * Class 1\t 0.9137 [286 out of 313]\n",
      "   * Class 2\t 0.0812 [25 out of 308]\n",
      "   * Mean        0.3513\n",
      "\n",
      "==================================================================================\n"
     ]
    },
    {
     "name": "stderr",
     "output_type": "stream",
     "text": [
      "> Epoch 16: 100%|██████████| 60/60 [01:20<00:00,  1.34s/it]\n"
     ]
    },
    {
     "name": "stdout",
     "output_type": "stream",
     "text": [
      " - Training Loss        0.9255\n",
      " - Validation Loss      1.2344\n",
      " - Validation Accuracy  0.3458\n",
      "\n",
      " - Validation Accuracy (per class)\n",
      "   * Class 0\t 0.0649 [22 out of 339]\n",
      "   * Class 1\t 0.9137 [286 out of 313]\n",
      "   * Class 2\t 0.0779 [24 out of 308]\n",
      "   * Mean        0.3522\n",
      "\n",
      "==================================================================================\n"
     ]
    },
    {
     "name": "stderr",
     "output_type": "stream",
     "text": [
      "> Epoch 17: 100%|██████████| 60/60 [01:20<00:00,  1.34s/it]\n"
     ]
    },
    {
     "name": "stdout",
     "output_type": "stream",
     "text": [
      " - Training Loss        0.9287\n",
      " - Validation Loss      1.2095\n",
      " - Validation Accuracy  0.3479\n",
      "\n",
      " - Validation Accuracy (per class)\n",
      "   * Class 0\t 0.0767 [26 out of 339]\n",
      "   * Class 1\t 0.9073 [284 out of 313]\n",
      "   * Class 2\t 0.0779 [24 out of 308]\n",
      "   * Mean        0.354\n",
      "\n",
      "==================================================================================\n"
     ]
    },
    {
     "name": "stderr",
     "output_type": "stream",
     "text": [
      "> Epoch 18: 100%|██████████| 60/60 [01:20<00:00,  1.34s/it]\n"
     ]
    },
    {
     "name": "stdout",
     "output_type": "stream",
     "text": [
      " - Training Loss        0.9252\n",
      " - Validation Loss      1.2348\n",
      " - Validation Accuracy  0.3479\n",
      "\n",
      " - Validation Accuracy (per class)\n",
      "   * Class 0\t 0.0649 [22 out of 339]\n",
      "   * Class 1\t 0.9137 [286 out of 313]\n",
      "   * Class 2\t 0.0844 [26 out of 308]\n",
      "   * Mean        0.3543\n",
      "\n",
      "==================================================================================\n"
     ]
    },
    {
     "name": "stderr",
     "output_type": "stream",
     "text": [
      "> Epoch 19: 100%|██████████| 60/60 [01:20<00:00,  1.34s/it]\n"
     ]
    },
    {
     "name": "stdout",
     "output_type": "stream",
     "text": [
      " - Training Loss        0.9256\n",
      " - Validation Loss      1.2337\n",
      " - Validation Accuracy  0.3458\n",
      "\n",
      " - Validation Accuracy (per class)\n",
      "   * Class 0\t 0.0708 [24 out of 339]\n",
      "   * Class 1\t 0.9042 [283 out of 313]\n",
      "   * Class 2\t 0.0812 [25 out of 308]\n",
      "   * Mean        0.3521\n",
      "\n",
      "==================================================================================\n"
     ]
    },
    {
     "name": "stderr",
     "output_type": "stream",
     "text": [
      "> Epoch 20: 100%|██████████| 60/60 [01:19<00:00,  1.33s/it]\n"
     ]
    },
    {
     "name": "stdout",
     "output_type": "stream",
     "text": [
      " - Training Loss        0.9248\n",
      " - Validation Loss      1.2741\n",
      " - Validation Accuracy  0.3448\n",
      "\n",
      " - Validation Accuracy (per class)\n",
      "   * Class 0\t 0.059 [20 out of 339]\n",
      "   * Class 1\t 0.9137 [286 out of 313]\n",
      "   * Class 2\t 0.0812 [25 out of 308]\n",
      "   * Mean        0.3513\n",
      "\n",
      "==================================================================================\n"
     ]
    },
    {
     "name": "stderr",
     "output_type": "stream",
     "text": [
      "> Epoch 21: 100%|██████████| 60/60 [01:20<00:00,  1.34s/it]\n"
     ]
    },
    {
     "name": "stdout",
     "output_type": "stream",
     "text": [
      " - Training Loss        0.9248\n",
      " - Validation Loss      1.2588\n",
      " - Validation Accuracy  0.3354\n",
      "\n",
      " - Validation Accuracy (per class)\n",
      "   * Class 0\t 0.0619 [21 out of 339]\n",
      "   * Class 1\t 0.0415 [13 out of 313]\n",
      "   * Class 2\t 0.9351 [288 out of 308]\n",
      "   * Mean        0.3462\n",
      "\n",
      "==================================================================================\n"
     ]
    },
    {
     "name": "stderr",
     "output_type": "stream",
     "text": [
      "> Epoch 22: 100%|██████████| 60/60 [01:20<00:00,  1.33s/it]\n"
     ]
    },
    {
     "name": "stdout",
     "output_type": "stream",
     "text": [
      " - Training Loss        0.9245\n",
      " - Validation Loss      1.2497\n",
      " - Validation Accuracy  0.3438\n",
      "\n",
      " - Validation Accuracy (per class)\n",
      "   * Class 0\t 0.0619 [21 out of 339]\n",
      "   * Class 1\t 0.9105 [285 out of 313]\n",
      "   * Class 2\t 0.0779 [24 out of 308]\n",
      "   * Mean        0.3501\n",
      "\n",
      "==================================================================================\n"
     ]
    },
    {
     "name": "stderr",
     "output_type": "stream",
     "text": [
      "> Epoch 23: 100%|██████████| 60/60 [01:19<00:00,  1.33s/it]\n"
     ]
    },
    {
     "name": "stdout",
     "output_type": "stream",
     "text": [
      " - Training Loss        0.9241\n",
      " - Validation Loss      1.2607\n",
      " - Validation Accuracy  0.349\n",
      "\n",
      " - Validation Accuracy (per class)\n",
      "   * Class 0\t 0.0767 [26 out of 339]\n",
      "   * Class 1\t 0.9042 [283 out of 313]\n",
      "   * Class 2\t 0.0844 [26 out of 308]\n",
      "   * Mean        0.3551\n",
      "\n",
      "==================================================================================\n"
     ]
    },
    {
     "name": "stderr",
     "output_type": "stream",
     "text": [
      "> Epoch 24: 100%|██████████| 60/60 [01:19<00:00,  1.32s/it]\n"
     ]
    },
    {
     "name": "stdout",
     "output_type": "stream",
     "text": [
      " - Training Loss        0.9241\n",
      " - Validation Loss      1.2763\n",
      " - Validation Accuracy  0.3438\n",
      "\n",
      " - Validation Accuracy (per class)\n",
      "   * Class 0\t 0.0619 [21 out of 339]\n",
      "   * Class 1\t 0.9042 [283 out of 313]\n",
      "   * Class 2\t 0.0844 [26 out of 308]\n",
      "   * Mean        0.3502\n",
      "\n",
      "==================================================================================\n"
     ]
    },
    {
     "name": "stderr",
     "output_type": "stream",
     "text": [
      "> Epoch 25: 100%|██████████| 60/60 [01:19<00:00,  1.33s/it]\n"
     ]
    },
    {
     "name": "stdout",
     "output_type": "stream",
     "text": [
      " - Training Loss        0.9238\n",
      " - Validation Loss      1.3016\n",
      " - Validation Accuracy  0.3448\n",
      "\n",
      " - Validation Accuracy (per class)\n",
      "   * Class 0\t 0.0619 [21 out of 339]\n",
      "   * Class 1\t 0.901 [282 out of 313]\n",
      "   * Class 2\t 0.0909 [28 out of 308]\n",
      "   * Mean        0.3513\n",
      "\n",
      "==================================================================================\n"
     ]
    },
    {
     "name": "stderr",
     "output_type": "stream",
     "text": [
      "> Epoch 26: 100%|██████████| 60/60 [01:20<00:00,  1.34s/it]\n"
     ]
    },
    {
     "name": "stdout",
     "output_type": "stream",
     "text": [
      " - Training Loss        0.9236\n",
      " - Validation Loss      1.2987\n",
      " - Validation Accuracy  0.3406\n",
      "\n",
      " - Validation Accuracy (per class)\n",
      "   * Class 0\t 0.0649 [22 out of 339]\n",
      "   * Class 1\t 0.901 [282 out of 313]\n",
      "   * Class 2\t 0.0747 [23 out of 308]\n",
      "   * Mean        0.3469\n",
      "\n",
      "==================================================================================\n"
     ]
    },
    {
     "name": "stderr",
     "output_type": "stream",
     "text": [
      "> Epoch 27: 100%|██████████| 60/60 [01:19<00:00,  1.33s/it]\n"
     ]
    },
    {
     "name": "stdout",
     "output_type": "stream",
     "text": [
      " - Training Loss        0.9236\n",
      " - Validation Loss      1.2998\n",
      " - Validation Accuracy  0.3417\n",
      "\n",
      " - Validation Accuracy (per class)\n",
      "   * Class 0\t 0.059 [20 out of 339]\n",
      "   * Class 1\t 0.9073 [284 out of 313]\n",
      "   * Class 2\t 0.0779 [24 out of 308]\n",
      "   * Mean        0.3481\n",
      "\n",
      "==================================================================================\n"
     ]
    },
    {
     "name": "stderr",
     "output_type": "stream",
     "text": [
      "> Epoch 28: 100%|██████████| 60/60 [01:20<00:00,  1.34s/it]\n"
     ]
    },
    {
     "name": "stdout",
     "output_type": "stream",
     "text": [
      " - Training Loss        0.9231\n",
      " - Validation Loss      1.3021\n",
      " - Validation Accuracy  0.349\n",
      "\n",
      " - Validation Accuracy (per class)\n",
      "   * Class 0\t 0.0649 [22 out of 339]\n",
      "   * Class 1\t 0.9105 [285 out of 313]\n",
      "   * Class 2\t 0.0909 [28 out of 308]\n",
      "   * Mean        0.3554\n",
      "\n",
      "==================================================================================\n"
     ]
    },
    {
     "name": "stderr",
     "output_type": "stream",
     "text": [
      "> Epoch 29: 100%|██████████| 60/60 [01:20<00:00,  1.33s/it]\n"
     ]
    },
    {
     "name": "stdout",
     "output_type": "stream",
     "text": [
      " - Training Loss        0.9233\n",
      " - Validation Loss      1.2477\n",
      " - Validation Accuracy  0.349\n",
      "\n",
      " - Validation Accuracy (per class)\n",
      "   * Class 0\t 0.0678 [23 out of 339]\n",
      "   * Class 1\t 0.9073 [284 out of 313]\n",
      "   * Class 2\t 0.0909 [28 out of 308]\n",
      "   * Mean        0.3553\n",
      "\n",
      "==================================================================================\n"
     ]
    },
    {
     "name": "stderr",
     "output_type": "stream",
     "text": [
      "> Epoch 30: 100%|██████████| 60/60 [01:19<00:00,  1.33s/it]\n"
     ]
    },
    {
     "name": "stdout",
     "output_type": "stream",
     "text": [
      " - Training Loss        0.9257\n",
      " - Validation Loss      1.2408\n",
      " - Validation Accuracy  0.3531\n",
      "\n",
      " - Validation Accuracy (per class)\n",
      "   * Class 0\t 0.0737 [25 out of 339]\n",
      "   * Class 1\t 0.9137 [286 out of 313]\n",
      "   * Class 2\t 0.0909 [28 out of 308]\n",
      "   * Mean        0.3594\n",
      "\n",
      "> ATTENTION: epoch 30 was the best one so far! The model has been saved :)\n",
      "\n",
      "==================================================================================\n"
     ]
    },
    {
     "name": "stderr",
     "output_type": "stream",
     "text": [
      "> Epoch 31: 100%|██████████| 60/60 [01:20<00:00,  1.34s/it]\n"
     ]
    },
    {
     "name": "stdout",
     "output_type": "stream",
     "text": [
      " - Training Loss        0.9259\n",
      " - Validation Loss      1.2291\n",
      " - Validation Accuracy  0.35\n",
      "\n",
      " - Validation Accuracy (per class)\n",
      "   * Class 0\t 0.0914 [31 out of 339]\n",
      "   * Class 1\t 0.901 [282 out of 313]\n",
      "   * Class 2\t 0.0747 [23 out of 308]\n",
      "   * Mean        0.3557\n",
      "\n",
      "==================================================================================\n"
     ]
    },
    {
     "name": "stderr",
     "output_type": "stream",
     "text": [
      "> Epoch 32: 100%|██████████| 60/60 [01:20<00:00,  1.34s/it]\n"
     ]
    },
    {
     "name": "stdout",
     "output_type": "stream",
     "text": [
      " - Training Loss        0.9265\n",
      " - Validation Loss      1.2416\n",
      " - Validation Accuracy  0.3469\n",
      "\n",
      " - Validation Accuracy (per class)\n",
      "   * Class 0\t 0.0767 [26 out of 339]\n",
      "   * Class 1\t 0.9105 [285 out of 313]\n",
      "   * Class 2\t 0.0714 [22 out of 308]\n",
      "   * Mean        0.3529\n",
      "\n",
      "==================================================================================\n"
     ]
    },
    {
     "name": "stderr",
     "output_type": "stream",
     "text": [
      "> Epoch 33: 100%|██████████| 60/60 [01:19<00:00,  1.33s/it]\n"
     ]
    },
    {
     "name": "stdout",
     "output_type": "stream",
     "text": [
      " - Training Loss        0.9287\n",
      " - Validation Loss      1.2286\n",
      " - Validation Accuracy  0.3521\n",
      "\n",
      " - Validation Accuracy (per class)\n",
      "   * Class 0\t 0.0796 [27 out of 339]\n",
      "   * Class 1\t 0.9393 [294 out of 313]\n",
      "   * Class 2\t 0.0552 [17 out of 308]\n",
      "   * Mean        0.358\n",
      "\n",
      "==================================================================================\n"
     ]
    },
    {
     "name": "stderr",
     "output_type": "stream",
     "text": [
      "> Epoch 34: 100%|██████████| 60/60 [01:20<00:00,  1.33s/it]\n"
     ]
    },
    {
     "name": "stdout",
     "output_type": "stream",
     "text": [
      " - Training Loss        0.9256\n",
      " - Validation Loss      1.2369\n",
      " - Validation Accuracy  0.35\n",
      "\n",
      " - Validation Accuracy (per class)\n",
      "   * Class 0\t 0.0796 [27 out of 339]\n",
      "   * Class 1\t 0.9169 [287 out of 313]\n",
      "   * Class 2\t 0.0714 [22 out of 308]\n",
      "   * Mean        0.356\n",
      "\n",
      "==================================================================================\n"
     ]
    },
    {
     "name": "stderr",
     "output_type": "stream",
     "text": [
      "> Epoch 35: 100%|██████████| 60/60 [01:20<00:00,  1.34s/it]\n"
     ]
    },
    {
     "name": "stdout",
     "output_type": "stream",
     "text": [
      " - Training Loss        0.9238\n",
      " - Validation Loss      1.2599\n",
      " - Validation Accuracy  0.3531\n",
      "\n",
      " - Validation Accuracy (per class)\n",
      "   * Class 0\t 0.0767 [26 out of 339]\n",
      "   * Class 1\t 0.9201 [288 out of 313]\n",
      "   * Class 2\t 0.0812 [25 out of 308]\n",
      "   * Mean        0.3593\n",
      "\n",
      "==================================================================================\n"
     ]
    },
    {
     "name": "stderr",
     "output_type": "stream",
     "text": [
      "> Epoch 36: 100%|██████████| 60/60 [01:20<00:00,  1.34s/it]\n"
     ]
    },
    {
     "name": "stdout",
     "output_type": "stream",
     "text": [
      " - Training Loss        0.9254\n",
      " - Validation Loss      1.2528\n",
      " - Validation Accuracy  0.35\n",
      "\n",
      " - Validation Accuracy (per class)\n",
      "   * Class 0\t 0.0767 [26 out of 339]\n",
      "   * Class 1\t 0.9201 [288 out of 313]\n",
      "   * Class 2\t 0.0714 [22 out of 308]\n",
      "   * Mean        0.3561\n",
      "\n",
      "==================================================================================\n"
     ]
    },
    {
     "name": "stderr",
     "output_type": "stream",
     "text": [
      "> Epoch 37: 100%|██████████| 60/60 [01:20<00:00,  1.34s/it]\n"
     ]
    },
    {
     "name": "stdout",
     "output_type": "stream",
     "text": [
      " - Training Loss        0.9246\n",
      " - Validation Loss      1.2476\n",
      " - Validation Accuracy  0.3427\n",
      "\n",
      " - Validation Accuracy (per class)\n",
      "   * Class 0\t 0.0737 [25 out of 339]\n",
      "   * Class 1\t 0.901 [282 out of 313]\n",
      "   * Class 2\t 0.0714 [22 out of 308]\n",
      "   * Mean        0.3487\n",
      "\n",
      "==================================================================================\n"
     ]
    },
    {
     "name": "stderr",
     "output_type": "stream",
     "text": [
      "> Epoch 38: 100%|██████████| 60/60 [01:20<00:00,  1.34s/it]\n"
     ]
    },
    {
     "name": "stdout",
     "output_type": "stream",
     "text": [
      " - Training Loss        0.9233\n",
      " - Validation Loss      1.2567\n",
      " - Validation Accuracy  0.3469\n",
      "\n",
      " - Validation Accuracy (per class)\n",
      "   * Class 0\t 0.0767 [26 out of 339]\n",
      "   * Class 1\t 0.9042 [283 out of 313]\n",
      "   * Class 2\t 0.0779 [24 out of 308]\n",
      "   * Mean        0.3529\n",
      "\n",
      "==================================================================================\n"
     ]
    },
    {
     "name": "stderr",
     "output_type": "stream",
     "text": [
      "> Epoch 39: 100%|██████████| 60/60 [01:20<00:00,  1.34s/it]\n"
     ]
    },
    {
     "name": "stdout",
     "output_type": "stream",
     "text": [
      " - Training Loss        0.923\n",
      " - Validation Loss      1.2642\n",
      " - Validation Accuracy  0.3448\n",
      "\n",
      " - Validation Accuracy (per class)\n",
      "   * Class 0\t 0.0708 [24 out of 339]\n",
      "   * Class 1\t 0.9042 [283 out of 313]\n",
      "   * Class 2\t 0.0779 [24 out of 308]\n",
      "   * Mean        0.351\n",
      "\n",
      "==================================================================================\n"
     ]
    },
    {
     "name": "stderr",
     "output_type": "stream",
     "text": [
      "> Epoch 40: 100%|██████████| 60/60 [01:20<00:00,  1.34s/it]\n"
     ]
    },
    {
     "name": "stdout",
     "output_type": "stream",
     "text": [
      " - Training Loss        0.9255\n",
      " - Validation Loss      1.2401\n",
      " - Validation Accuracy  0.3479\n",
      "\n",
      " - Validation Accuracy (per class)\n",
      "   * Class 0\t 0.0826 [28 out of 339]\n",
      "   * Class 1\t 0.9169 [287 out of 313]\n",
      "   * Class 2\t 0.0617 [19 out of 308]\n",
      "   * Mean        0.3537\n",
      "\n",
      "==================================================================================\n"
     ]
    },
    {
     "name": "stderr",
     "output_type": "stream",
     "text": [
      "> Epoch 41: 100%|██████████| 60/60 [01:20<00:00,  1.34s/it]\n"
     ]
    },
    {
     "name": "stdout",
     "output_type": "stream",
     "text": [
      " - Training Loss        0.9248\n",
      " - Validation Loss      1.247\n",
      " - Validation Accuracy  0.3448\n",
      "\n",
      " - Validation Accuracy (per class)\n",
      "   * Class 0\t 0.0678 [23 out of 339]\n",
      "   * Class 1\t 0.9105 [285 out of 313]\n",
      "   * Class 2\t 0.0747 [23 out of 308]\n",
      "   * Mean        0.351\n",
      "\n",
      "==================================================================================\n"
     ]
    },
    {
     "name": "stderr",
     "output_type": "stream",
     "text": [
      "> Epoch 42: 100%|██████████| 60/60 [01:20<00:00,  1.34s/it]\n"
     ]
    },
    {
     "name": "stdout",
     "output_type": "stream",
     "text": [
      " - Training Loss        0.9231\n",
      " - Validation Loss      1.2689\n",
      " - Validation Accuracy  0.349\n",
      "\n",
      " - Validation Accuracy (per class)\n",
      "   * Class 0\t 0.0737 [25 out of 339]\n",
      "   * Class 1\t 0.9137 [286 out of 313]\n",
      "   * Class 2\t 0.0779 [24 out of 308]\n",
      "   * Mean        0.3551\n",
      "\n",
      "==================================================================================\n"
     ]
    },
    {
     "name": "stderr",
     "output_type": "stream",
     "text": [
      "> Epoch 43: 100%|██████████| 60/60 [01:20<00:00,  1.34s/it]\n"
     ]
    },
    {
     "name": "stdout",
     "output_type": "stream",
     "text": [
      " - Training Loss        0.9319\n",
      " - Validation Loss      1.3268\n",
      " - Validation Accuracy  0.3396\n",
      "\n",
      " - Validation Accuracy (per class)\n",
      "   * Class 0\t 0.0737 [25 out of 339]\n",
      "   * Class 1\t 0.8978 [281 out of 313]\n",
      "   * Class 2\t 0.0649 [20 out of 308]\n",
      "   * Mean        0.3455\n",
      "\n",
      "==================================================================================\n"
     ]
    },
    {
     "name": "stderr",
     "output_type": "stream",
     "text": [
      "> Epoch 44: 100%|██████████| 60/60 [01:19<00:00,  1.33s/it]\n"
     ]
    },
    {
     "name": "stdout",
     "output_type": "stream",
     "text": [
      " - Training Loss        0.9264\n",
      " - Validation Loss      1.2207\n",
      " - Validation Accuracy  0.349\n",
      "\n",
      " - Validation Accuracy (per class)\n",
      "   * Class 0\t 0.0737 [25 out of 339]\n",
      "   * Class 1\t 0.9201 [288 out of 313]\n",
      "   * Class 2\t 0.0714 [22 out of 308]\n",
      "   * Mean        0.3551\n",
      "\n",
      "==================================================================================\n"
     ]
    },
    {
     "name": "stderr",
     "output_type": "stream",
     "text": [
      "> Epoch 45: 100%|██████████| 60/60 [01:19<00:00,  1.32s/it]\n"
     ]
    },
    {
     "name": "stdout",
     "output_type": "stream",
     "text": [
      " - Training Loss        0.926\n",
      " - Validation Loss      1.2624\n",
      " - Validation Accuracy  0.3427\n",
      "\n",
      " - Validation Accuracy (per class)\n",
      "   * Class 0\t 0.0678 [23 out of 339]\n",
      "   * Class 1\t 0.9042 [283 out of 313]\n",
      "   * Class 2\t 0.0747 [23 out of 308]\n",
      "   * Mean        0.3489\n",
      "\n",
      "==================================================================================\n"
     ]
    },
    {
     "name": "stderr",
     "output_type": "stream",
     "text": [
      "> Epoch 46: 100%|██████████| 60/60 [01:20<00:00,  1.34s/it]\n"
     ]
    },
    {
     "name": "stdout",
     "output_type": "stream",
     "text": [
      " - Training Loss        0.9247\n",
      " - Validation Loss      1.2523\n",
      " - Validation Accuracy  0.3458\n",
      "\n",
      " - Validation Accuracy (per class)\n",
      "   * Class 0\t 0.0649 [22 out of 339]\n",
      "   * Class 1\t 0.9105 [285 out of 313]\n",
      "   * Class 2\t 0.0812 [25 out of 308]\n",
      "   * Mean        0.3522\n",
      "\n",
      "==================================================================================\n"
     ]
    },
    {
     "name": "stderr",
     "output_type": "stream",
     "text": [
      "> Epoch 47: 100%|██████████| 60/60 [01:19<00:00,  1.33s/it]\n"
     ]
    },
    {
     "name": "stdout",
     "output_type": "stream",
     "text": [
      " - Training Loss        0.9239\n",
      " - Validation Loss      1.261\n",
      " - Validation Accuracy  0.3479\n",
      "\n",
      " - Validation Accuracy (per class)\n",
      "   * Class 0\t 0.0649 [22 out of 339]\n",
      "   * Class 1\t 0.9105 [285 out of 313]\n",
      "   * Class 2\t 0.0877 [27 out of 308]\n",
      "   * Mean        0.3544\n",
      "\n",
      "==================================================================================\n"
     ]
    },
    {
     "name": "stderr",
     "output_type": "stream",
     "text": [
      "> Epoch 48: 100%|██████████| 60/60 [01:20<00:00,  1.33s/it]\n"
     ]
    },
    {
     "name": "stdout",
     "output_type": "stream",
     "text": [
      " - Training Loss        0.9233\n",
      " - Validation Loss      1.2739\n",
      " - Validation Accuracy  0.3479\n",
      "\n",
      " - Validation Accuracy (per class)\n",
      "   * Class 0\t 0.0708 [24 out of 339]\n",
      "   * Class 1\t 0.9073 [284 out of 313]\n",
      "   * Class 2\t 0.0844 [26 out of 308]\n",
      "   * Mean        0.3542\n",
      "\n",
      "==================================================================================\n"
     ]
    },
    {
     "name": "stderr",
     "output_type": "stream",
     "text": [
      "> Epoch 49: 100%|██████████| 60/60 [01:19<00:00,  1.33s/it]\n"
     ]
    },
    {
     "name": "stdout",
     "output_type": "stream",
     "text": [
      " - Training Loss        0.9235\n",
      " - Validation Loss      1.2825\n",
      " - Validation Accuracy  0.3469\n",
      "\n",
      " - Validation Accuracy (per class)\n",
      "   * Class 0\t 0.0708 [24 out of 339]\n",
      "   * Class 1\t 0.9073 [284 out of 313]\n",
      "   * Class 2\t 0.0812 [25 out of 308]\n",
      "   * Mean        0.3531\n",
      "\n",
      "==================================================================================\n"
     ]
    },
    {
     "name": "stderr",
     "output_type": "stream",
     "text": [
      "> Epoch 50: 100%|██████████| 60/60 [01:19<00:00,  1.33s/it]\n"
     ]
    },
    {
     "name": "stdout",
     "output_type": "stream",
     "text": [
      " - Training Loss        0.9237\n",
      " - Validation Loss      1.2627\n",
      " - Validation Accuracy  0.3479\n",
      "\n",
      " - Validation Accuracy (per class)\n",
      "   * Class 0\t 0.0678 [23 out of 339]\n",
      "   * Class 1\t 0.9105 [285 out of 313]\n",
      "   * Class 2\t 0.0844 [26 out of 308]\n",
      "   * Mean        0.3542\n",
      "\n",
      "==================================================================================\n",
      "> Parameters imported\n",
      "> Dataset correctly divided in training set, validation set and test set\n",
      "> Created Pytorch datasets and dataloaders\n",
      "> Model 'LSTM_fixed' instantiated\n",
      "> Initialization required 0.141 seconds\n",
      "==================================================================================\n",
      "> Training Started\n",
      "  - Total Epochs: 50\n",
      "==================================================================================\n"
     ]
    },
    {
     "name": "stderr",
     "output_type": "stream",
     "text": [
      "> Epoch 1: 100%|██████████| 60/60 [01:18<00:00,  1.30s/it]\n"
     ]
    },
    {
     "name": "stdout",
     "output_type": "stream",
     "text": [
      " - Training Loss        1.1095\n",
      " - Validation Loss      1.1005\n",
      " - Validation Accuracy  0.3396\n",
      "\n",
      " - Validation Accuracy (per class)\n",
      "   * Class 0\t 0.0737 [25 out of 339]\n",
      "   * Class 1\t 0.8978 [281 out of 313]\n",
      "   * Class 2\t 0.0649 [20 out of 308]\n",
      "   * Mean        0.3455\n",
      "\n",
      "> ATTENTION: epoch 1 was the best one so far! The model has been saved :)\n",
      "\n",
      "==================================================================================\n"
     ]
    },
    {
     "name": "stderr",
     "output_type": "stream",
     "text": [
      "> Epoch 2: 100%|██████████| 60/60 [01:18<00:00,  1.32s/it]\n"
     ]
    },
    {
     "name": "stdout",
     "output_type": "stream",
     "text": [
      " - Training Loss        1.04\n",
      " - Validation Loss      1.1438\n",
      " - Validation Accuracy  0.3365\n",
      "\n",
      " - Validation Accuracy (per class)\n",
      "   * Class 0\t 0.0354 [12 out of 339]\n",
      "   * Class 1\t 0.901 [282 out of 313]\n",
      "   * Class 2\t 0.0942 [29 out of 308]\n",
      "   * Mean        0.3435\n",
      "\n",
      "==================================================================================\n"
     ]
    },
    {
     "name": "stderr",
     "output_type": "stream",
     "text": [
      "> Epoch 3: 100%|██████████| 60/60 [01:20<00:00,  1.34s/it]\n"
     ]
    },
    {
     "name": "stdout",
     "output_type": "stream",
     "text": [
      " - Training Loss        1.1781\n",
      " - Validation Loss      0.9349\n",
      " - Validation Accuracy  0.5375\n",
      "\n",
      " - Validation Accuracy (per class)\n",
      "   * Class 0\t 0.0413 [14 out of 339]\n",
      "   * Class 1\t 0.9169 [287 out of 313]\n",
      "   * Class 2\t 0.6981 [215 out of 308]\n",
      "   * Mean        0.5521\n",
      "\n",
      "> ATTENTION: epoch 3 was the best one so far! The model has been saved :)\n",
      "\n",
      "==================================================================================\n"
     ]
    },
    {
     "name": "stderr",
     "output_type": "stream",
     "text": [
      "> Epoch 4: 100%|██████████| 60/60 [01:20<00:00,  1.34s/it]\n"
     ]
    },
    {
     "name": "stdout",
     "output_type": "stream",
     "text": [
      " - Training Loss        0.8933\n",
      " - Validation Loss      0.8306\n",
      " - Validation Accuracy  0.6542\n",
      "\n",
      " - Validation Accuracy (per class)\n",
      "   * Class 0\t 0.5988 [203 out of 339]\n",
      "   * Class 1\t 0.5559 [174 out of 313]\n",
      "   * Class 2\t 0.8149 [251 out of 308]\n",
      "   * Mean        0.6565\n",
      "\n",
      "> ATTENTION: epoch 4 was the best one so far! The model has been saved :)\n",
      "\n",
      "==================================================================================\n"
     ]
    },
    {
     "name": "stderr",
     "output_type": "stream",
     "text": [
      "> Epoch 5: 100%|██████████| 60/60 [01:20<00:00,  1.34s/it]\n"
     ]
    },
    {
     "name": "stdout",
     "output_type": "stream",
     "text": [
      " - Training Loss        0.8289\n",
      " - Validation Loss      0.7831\n",
      " - Validation Accuracy  0.651\n",
      "\n",
      " - Validation Accuracy (per class)\n",
      "   * Class 0\t 0.6136 [208 out of 339]\n",
      "   * Class 1\t 0.508 [159 out of 313]\n",
      "   * Class 2\t 0.8377 [258 out of 308]\n",
      "   * Mean        0.6531\n",
      "\n",
      "==================================================================================\n"
     ]
    },
    {
     "name": "stderr",
     "output_type": "stream",
     "text": [
      "> Epoch 6: 100%|██████████| 60/60 [01:20<00:00,  1.34s/it]\n"
     ]
    },
    {
     "name": "stdout",
     "output_type": "stream",
     "text": [
      " - Training Loss        0.7683\n",
      " - Validation Loss      0.7533\n",
      " - Validation Accuracy  0.7031\n",
      "\n",
      " - Validation Accuracy (per class)\n",
      "   * Class 0\t 0.4425 [150 out of 339]\n",
      "   * Class 1\t 0.869 [272 out of 313]\n",
      "   * Class 2\t 0.8214 [253 out of 308]\n",
      "   * Mean        0.711\n",
      "\n",
      "> ATTENTION: epoch 6 was the best one so far! The model has been saved :)\n",
      "\n",
      "==================================================================================\n"
     ]
    },
    {
     "name": "stderr",
     "output_type": "stream",
     "text": [
      "> Epoch 7: 100%|██████████| 60/60 [01:20<00:00,  1.34s/it]\n"
     ]
    },
    {
     "name": "stdout",
     "output_type": "stream",
     "text": [
      " - Training Loss        0.7164\n",
      " - Validation Loss      0.7041\n",
      " - Validation Accuracy  0.6979\n",
      "\n",
      " - Validation Accuracy (per class)\n",
      "   * Class 0\t 0.5782 [196 out of 339]\n",
      "   * Class 1\t 0.7796 [244 out of 313]\n",
      "   * Class 2\t 0.7468 [230 out of 308]\n",
      "   * Mean        0.7015\n",
      "\n",
      "==================================================================================\n"
     ]
    },
    {
     "name": "stderr",
     "output_type": "stream",
     "text": [
      "> Epoch 8: 100%|██████████| 60/60 [01:20<00:00,  1.34s/it]\n"
     ]
    },
    {
     "name": "stdout",
     "output_type": "stream",
     "text": [
      " - Training Loss        0.6755\n",
      " - Validation Loss      0.6826\n",
      " - Validation Accuracy  0.7042\n",
      "\n",
      " - Validation Accuracy (per class)\n",
      "   * Class 0\t 0.7286 [247 out of 339]\n",
      "   * Class 1\t 0.6294 [197 out of 313]\n",
      "   * Class 2\t 0.7532 [232 out of 308]\n",
      "   * Mean        0.7037\n",
      "\n",
      "==================================================================================\n"
     ]
    },
    {
     "name": "stderr",
     "output_type": "stream",
     "text": [
      "> Epoch 9: 100%|██████████| 60/60 [01:20<00:00,  1.34s/it]\n"
     ]
    },
    {
     "name": "stdout",
     "output_type": "stream",
     "text": [
      " - Training Loss        0.6438\n",
      " - Validation Loss      0.7143\n",
      " - Validation Accuracy  0.7021\n",
      "\n",
      " - Validation Accuracy (per class)\n",
      "   * Class 0\t 0.4749 [161 out of 339]\n",
      "   * Class 1\t 0.9233 [289 out of 313]\n",
      "   * Class 2\t 0.7273 [224 out of 308]\n",
      "   * Mean        0.7085\n",
      "\n",
      "==================================================================================\n"
     ]
    },
    {
     "name": "stderr",
     "output_type": "stream",
     "text": [
      "> Epoch 10: 100%|██████████| 60/60 [01:20<00:00,  1.34s/it]\n"
     ]
    },
    {
     "name": "stdout",
     "output_type": "stream",
     "text": [
      " - Training Loss        0.6178\n",
      " - Validation Loss      0.6424\n",
      " - Validation Accuracy  0.7146\n",
      "\n",
      " - Validation Accuracy (per class)\n",
      "   * Class 0\t 0.705 [239 out of 339]\n",
      "   * Class 1\t 0.6486 [203 out of 313]\n",
      "   * Class 2\t 0.7922 [244 out of 308]\n",
      "   * Mean        0.7153\n",
      "\n",
      "> ATTENTION: epoch 10 was the best one so far! The model has been saved :)\n",
      "\n",
      "==================================================================================\n"
     ]
    },
    {
     "name": "stderr",
     "output_type": "stream",
     "text": [
      "> Epoch 11: 100%|██████████| 60/60 [01:20<00:00,  1.34s/it]\n"
     ]
    },
    {
     "name": "stdout",
     "output_type": "stream",
     "text": [
      " - Training Loss        0.5904\n",
      " - Validation Loss      0.6069\n",
      " - Validation Accuracy  0.7594\n",
      "\n",
      " - Validation Accuracy (per class)\n",
      "   * Class 0\t 0.6932 [235 out of 339]\n",
      "   * Class 1\t 0.7987 [250 out of 313]\n",
      "   * Class 2\t 0.7922 [244 out of 308]\n",
      "   * Mean        0.7614\n",
      "\n",
      "> ATTENTION: epoch 11 was the best one so far! The model has been saved :)\n",
      "\n",
      "==================================================================================\n"
     ]
    },
    {
     "name": "stderr",
     "output_type": "stream",
     "text": [
      "> Epoch 12: 100%|██████████| 60/60 [01:20<00:00,  1.33s/it]\n"
     ]
    },
    {
     "name": "stdout",
     "output_type": "stream",
     "text": [
      " - Training Loss        0.5548\n",
      " - Validation Loss      0.5892\n",
      " - Validation Accuracy  0.7688\n",
      "\n",
      " - Validation Accuracy (per class)\n",
      "   * Class 0\t 0.7434 [252 out of 339]\n",
      "   * Class 1\t 0.7764 [243 out of 313]\n",
      "   * Class 2\t 0.789 [243 out of 308]\n",
      "   * Mean        0.7696\n",
      "\n",
      "> ATTENTION: epoch 12 was the best one so far! The model has been saved :)\n",
      "\n",
      "==================================================================================\n"
     ]
    },
    {
     "name": "stderr",
     "output_type": "stream",
     "text": [
      "> Epoch 13: 100%|██████████| 60/60 [01:20<00:00,  1.34s/it]\n"
     ]
    },
    {
     "name": "stdout",
     "output_type": "stream",
     "text": [
      " - Training Loss        0.5025\n",
      " - Validation Loss      0.5944\n",
      " - Validation Accuracy  0.7698\n",
      "\n",
      " - Validation Accuracy (per class)\n",
      "   * Class 0\t 0.6903 [234 out of 339]\n",
      "   * Class 1\t 0.8786 [275 out of 313]\n",
      "   * Class 2\t 0.7468 [230 out of 308]\n",
      "   * Mean        0.7719\n",
      "\n",
      "> ATTENTION: epoch 13 was the best one so far! The model has been saved :)\n",
      "\n",
      "==================================================================================\n"
     ]
    },
    {
     "name": "stderr",
     "output_type": "stream",
     "text": [
      "> Epoch 14: 100%|██████████| 60/60 [01:20<00:00,  1.34s/it]\n"
     ]
    },
    {
     "name": "stdout",
     "output_type": "stream",
     "text": [
      " - Training Loss        0.585\n",
      " - Validation Loss      0.5653\n",
      " - Validation Accuracy  0.7771\n",
      "\n",
      " - Validation Accuracy (per class)\n",
      "   * Class 0\t 0.6873 [233 out of 339]\n",
      "   * Class 1\t 0.8594 [269 out of 313]\n",
      "   * Class 2\t 0.7922 [244 out of 308]\n",
      "   * Mean        0.7796\n",
      "\n",
      "> ATTENTION: epoch 14 was the best one so far! The model has been saved :)\n",
      "\n",
      "==================================================================================\n"
     ]
    },
    {
     "name": "stderr",
     "output_type": "stream",
     "text": [
      "> Epoch 15: 100%|██████████| 60/60 [01:20<00:00,  1.34s/it]\n"
     ]
    },
    {
     "name": "stdout",
     "output_type": "stream",
     "text": [
      " - Training Loss        0.5002\n",
      " - Validation Loss      0.5487\n",
      " - Validation Accuracy  0.7854\n",
      "\n",
      " - Validation Accuracy (per class)\n",
      "   * Class 0\t 0.7316 [248 out of 339]\n",
      "   * Class 1\t 0.8498 [266 out of 313]\n",
      "   * Class 2\t 0.7792 [240 out of 308]\n",
      "   * Mean        0.7869\n",
      "\n",
      "> ATTENTION: epoch 15 was the best one so far! The model has been saved :)\n",
      "\n",
      "==================================================================================\n"
     ]
    },
    {
     "name": "stderr",
     "output_type": "stream",
     "text": [
      "> Epoch 16: 100%|██████████| 60/60 [01:20<00:00,  1.34s/it]\n"
     ]
    },
    {
     "name": "stdout",
     "output_type": "stream",
     "text": [
      " - Training Loss        0.4656\n",
      " - Validation Loss      0.5699\n",
      " - Validation Accuracy  0.7792\n",
      "\n",
      " - Validation Accuracy (per class)\n",
      "   * Class 0\t 0.8378 [284 out of 339]\n",
      "   * Class 1\t 0.7029 [220 out of 313]\n",
      "   * Class 2\t 0.7922 [244 out of 308]\n",
      "   * Mean        0.7776\n",
      "\n",
      "==================================================================================\n"
     ]
    },
    {
     "name": "stderr",
     "output_type": "stream",
     "text": [
      "> Epoch 17: 100%|██████████| 60/60 [01:20<00:00,  1.34s/it]\n"
     ]
    },
    {
     "name": "stdout",
     "output_type": "stream",
     "text": [
      " - Training Loss        0.4242\n",
      " - Validation Loss      0.579\n",
      " - Validation Accuracy  0.7729\n",
      "\n",
      " - Validation Accuracy (per class)\n",
      "   * Class 0\t 0.6726 [228 out of 339]\n",
      "   * Class 1\t 0.885 [277 out of 313]\n",
      "   * Class 2\t 0.7695 [237 out of 308]\n",
      "   * Mean        0.7757\n",
      "\n",
      "==================================================================================\n"
     ]
    },
    {
     "name": "stderr",
     "output_type": "stream",
     "text": [
      "> Epoch 18: 100%|██████████| 60/60 [01:20<00:00,  1.34s/it]\n"
     ]
    },
    {
     "name": "stdout",
     "output_type": "stream",
     "text": [
      " - Training Loss        0.4053\n",
      " - Validation Loss      0.5601\n",
      " - Validation Accuracy  0.8115\n",
      "\n",
      " - Validation Accuracy (per class)\n",
      "   * Class 0\t 0.8407 [285 out of 339]\n",
      "   * Class 1\t 0.8243 [258 out of 313]\n",
      "   * Class 2\t 0.7662 [236 out of 308]\n",
      "   * Mean        0.8104\n",
      "\n",
      "> ATTENTION: epoch 18 was the best one so far! The model has been saved :)\n",
      "\n",
      "==================================================================================\n"
     ]
    },
    {
     "name": "stderr",
     "output_type": "stream",
     "text": [
      "> Epoch 19: 100%|██████████| 60/60 [01:20<00:00,  1.34s/it]\n"
     ]
    },
    {
     "name": "stdout",
     "output_type": "stream",
     "text": [
      " - Training Loss        0.3857\n",
      " - Validation Loss      0.5808\n",
      " - Validation Accuracy  0.801\n",
      "\n",
      " - Validation Accuracy (per class)\n",
      "   * Class 0\t 0.7316 [248 out of 339]\n",
      "   * Class 1\t 0.8946 [280 out of 313]\n",
      "   * Class 2\t 0.7825 [241 out of 308]\n",
      "   * Mean        0.8029\n",
      "\n",
      "==================================================================================\n"
     ]
    },
    {
     "name": "stderr",
     "output_type": "stream",
     "text": [
      "> Epoch 20: 100%|██████████| 60/60 [01:20<00:00,  1.34s/it]\n"
     ]
    },
    {
     "name": "stdout",
     "output_type": "stream",
     "text": [
      " - Training Loss        0.3506\n",
      " - Validation Loss      0.536\n",
      " - Validation Accuracy  0.801\n",
      "\n",
      " - Validation Accuracy (per class)\n",
      "   * Class 0\t 0.7729 [262 out of 339]\n",
      "   * Class 1\t 0.7764 [243 out of 313]\n",
      "   * Class 2\t 0.8571 [264 out of 308]\n",
      "   * Mean        0.8021\n",
      "\n",
      "==================================================================================\n"
     ]
    },
    {
     "name": "stderr",
     "output_type": "stream",
     "text": [
      "> Epoch 21: 100%|██████████| 60/60 [01:20<00:00,  1.34s/it]\n"
     ]
    },
    {
     "name": "stdout",
     "output_type": "stream",
     "text": [
      " - Training Loss        0.3372\n",
      " - Validation Loss      0.5075\n",
      " - Validation Accuracy  0.8208\n",
      "\n",
      " - Validation Accuracy (per class)\n",
      "   * Class 0\t 0.7965 [270 out of 339]\n",
      "   * Class 1\t 0.7923 [248 out of 313]\n",
      "   * Class 2\t 0.8766 [270 out of 308]\n",
      "   * Mean        0.8218\n",
      "\n",
      "> ATTENTION: epoch 21 was the best one so far! The model has been saved :)\n",
      "\n",
      "==================================================================================\n"
     ]
    },
    {
     "name": "stderr",
     "output_type": "stream",
     "text": [
      "> Epoch 22: 100%|██████████| 60/60 [01:20<00:00,  1.34s/it]\n"
     ]
    },
    {
     "name": "stdout",
     "output_type": "stream",
     "text": [
      " - Training Loss        0.3114\n",
      " - Validation Loss      0.5494\n",
      " - Validation Accuracy  0.8063\n",
      "\n",
      " - Validation Accuracy (per class)\n",
      "   * Class 0\t 0.8732 [296 out of 339]\n",
      "   * Class 1\t 0.6901 [216 out of 313]\n",
      "   * Class 2\t 0.8506 [262 out of 308]\n",
      "   * Mean        0.8046\n",
      "\n",
      "==================================================================================\n"
     ]
    },
    {
     "name": "stderr",
     "output_type": "stream",
     "text": [
      "> Epoch 23: 100%|██████████| 60/60 [01:20<00:00,  1.34s/it]\n"
     ]
    },
    {
     "name": "stdout",
     "output_type": "stream",
     "text": [
      " - Training Loss        0.2846\n",
      " - Validation Loss      0.4584\n",
      " - Validation Accuracy  0.8396\n",
      "\n",
      " - Validation Accuracy (per class)\n",
      "   * Class 0\t 0.823 [279 out of 339]\n",
      "   * Class 1\t 0.8339 [261 out of 313]\n",
      "   * Class 2\t 0.8636 [266 out of 308]\n",
      "   * Mean        0.8402\n",
      "\n",
      "> ATTENTION: epoch 23 was the best one so far! The model has been saved :)\n",
      "\n",
      "==================================================================================\n"
     ]
    },
    {
     "name": "stderr",
     "output_type": "stream",
     "text": [
      "> Epoch 24: 100%|██████████| 60/60 [01:20<00:00,  1.34s/it]\n"
     ]
    },
    {
     "name": "stdout",
     "output_type": "stream",
     "text": [
      " - Training Loss        0.279\n",
      " - Validation Loss      0.5133\n",
      " - Validation Accuracy  0.8198\n",
      "\n",
      " - Validation Accuracy (per class)\n",
      "   * Class 0\t 0.7935 [269 out of 339]\n",
      "   * Class 1\t 0.8722 [273 out of 313]\n",
      "   * Class 2\t 0.7955 [245 out of 308]\n",
      "   * Mean        0.8204\n",
      "\n",
      "==================================================================================\n"
     ]
    },
    {
     "name": "stderr",
     "output_type": "stream",
     "text": [
      "> Epoch 25: 100%|██████████| 60/60 [01:20<00:00,  1.34s/it]\n"
     ]
    },
    {
     "name": "stdout",
     "output_type": "stream",
     "text": [
      " - Training Loss        0.2837\n",
      " - Validation Loss      0.501\n",
      " - Validation Accuracy  0.8302\n",
      "\n",
      " - Validation Accuracy (per class)\n",
      "   * Class 0\t 0.7906 [268 out of 339]\n",
      "   * Class 1\t 0.8722 [273 out of 313]\n",
      "   * Class 2\t 0.8312 [256 out of 308]\n",
      "   * Mean        0.8313\n",
      "\n",
      "==================================================================================\n"
     ]
    },
    {
     "name": "stderr",
     "output_type": "stream",
     "text": [
      "> Epoch 26: 100%|██████████| 60/60 [01:20<00:00,  1.34s/it]\n"
     ]
    },
    {
     "name": "stdout",
     "output_type": "stream",
     "text": [
      " - Training Loss        0.3004\n",
      " - Validation Loss      0.5004\n",
      " - Validation Accuracy  0.8156\n",
      "\n",
      " - Validation Accuracy (per class)\n",
      "   * Class 0\t 0.8407 [285 out of 339]\n",
      "   * Class 1\t 0.8307 [260 out of 313]\n",
      "   * Class 2\t 0.7727 [238 out of 308]\n",
      "   * Mean        0.8147\n",
      "\n",
      "==================================================================================\n"
     ]
    },
    {
     "name": "stderr",
     "output_type": "stream",
     "text": [
      "> Epoch 27: 100%|██████████| 60/60 [01:20<00:00,  1.34s/it]\n"
     ]
    },
    {
     "name": "stdout",
     "output_type": "stream",
     "text": [
      " - Training Loss        0.3171\n",
      " - Validation Loss      0.4923\n",
      " - Validation Accuracy  0.8354\n",
      "\n",
      " - Validation Accuracy (per class)\n",
      "   * Class 0\t 0.8584 [291 out of 339]\n",
      "   * Class 1\t 0.8051 [252 out of 313]\n",
      "   * Class 2\t 0.8409 [259 out of 308]\n",
      "   * Mean        0.8348\n",
      "\n",
      "==================================================================================\n"
     ]
    },
    {
     "name": "stderr",
     "output_type": "stream",
     "text": [
      "> Epoch 28: 100%|██████████| 60/60 [01:20<00:00,  1.34s/it]\n"
     ]
    },
    {
     "name": "stdout",
     "output_type": "stream",
     "text": [
      " - Training Loss        0.284\n",
      " - Validation Loss      0.4942\n",
      " - Validation Accuracy  0.8229\n",
      "\n",
      " - Validation Accuracy (per class)\n",
      "   * Class 0\t 0.7847 [266 out of 339]\n",
      "   * Class 1\t 0.8019 [251 out of 313]\n",
      "   * Class 2\t 0.8864 [273 out of 308]\n",
      "   * Mean        0.8243\n",
      "\n",
      "==================================================================================\n"
     ]
    },
    {
     "name": "stderr",
     "output_type": "stream",
     "text": [
      "> Epoch 29: 100%|██████████| 60/60 [01:20<00:00,  1.34s/it]\n"
     ]
    },
    {
     "name": "stdout",
     "output_type": "stream",
     "text": [
      " - Training Loss        0.2611\n",
      " - Validation Loss      0.4651\n",
      " - Validation Accuracy  0.8292\n",
      "\n",
      " - Validation Accuracy (per class)\n",
      "   * Class 0\t 0.8466 [287 out of 339]\n",
      "   * Class 1\t 0.8051 [252 out of 313]\n",
      "   * Class 2\t 0.8344 [257 out of 308]\n",
      "   * Mean        0.8287\n",
      "\n",
      "==================================================================================\n"
     ]
    },
    {
     "name": "stderr",
     "output_type": "stream",
     "text": [
      "> Epoch 30: 100%|██████████| 60/60 [01:20<00:00,  1.34s/it]\n"
     ]
    },
    {
     "name": "stdout",
     "output_type": "stream",
     "text": [
      " - Training Loss        0.2297\n",
      " - Validation Loss      0.4918\n",
      " - Validation Accuracy  0.8385\n",
      "\n",
      " - Validation Accuracy (per class)\n",
      "   * Class 0\t 0.8407 [285 out of 339]\n",
      "   * Class 1\t 0.7796 [244 out of 313]\n",
      "   * Class 2\t 0.8961 [276 out of 308]\n",
      "   * Mean        0.8388\n",
      "\n",
      "==================================================================================\n"
     ]
    },
    {
     "name": "stderr",
     "output_type": "stream",
     "text": [
      "> Epoch 31: 100%|██████████| 60/60 [01:20<00:00,  1.34s/it]\n"
     ]
    },
    {
     "name": "stdout",
     "output_type": "stream",
     "text": [
      " - Training Loss        0.2501\n",
      " - Validation Loss      0.4636\n",
      " - Validation Accuracy  0.849\n",
      "\n",
      " - Validation Accuracy (per class)\n",
      "   * Class 0\t 0.8525 [289 out of 339]\n",
      "   * Class 1\t 0.8562 [268 out of 313]\n",
      "   * Class 2\t 0.8377 [258 out of 308]\n",
      "   * Mean        0.8488\n",
      "\n",
      "> ATTENTION: epoch 31 was the best one so far! The model has been saved :)\n",
      "\n",
      "==================================================================================\n"
     ]
    },
    {
     "name": "stderr",
     "output_type": "stream",
     "text": [
      "> Epoch 32: 100%|██████████| 60/60 [01:20<00:00,  1.34s/it]\n"
     ]
    },
    {
     "name": "stdout",
     "output_type": "stream",
     "text": [
      " - Training Loss        0.1954\n",
      " - Validation Loss      0.4857\n",
      " - Validation Accuracy  0.8458\n",
      "\n",
      " - Validation Accuracy (per class)\n",
      "   * Class 0\t 0.8024 [272 out of 339]\n",
      "   * Class 1\t 0.8594 [269 out of 313]\n",
      "   * Class 2\t 0.8799 [271 out of 308]\n",
      "   * Mean        0.8472\n",
      "\n",
      "==================================================================================\n"
     ]
    },
    {
     "name": "stderr",
     "output_type": "stream",
     "text": [
      "> Epoch 33: 100%|██████████| 60/60 [01:20<00:00,  1.34s/it]\n"
     ]
    },
    {
     "name": "stdout",
     "output_type": "stream",
     "text": [
      " - Training Loss        0.1846\n",
      " - Validation Loss      0.4738\n",
      " - Validation Accuracy  0.8438\n",
      "\n",
      " - Validation Accuracy (per class)\n",
      "   * Class 0\t 0.823 [279 out of 339]\n",
      "   * Class 1\t 0.8275 [259 out of 313]\n",
      "   * Class 2\t 0.8831 [272 out of 308]\n",
      "   * Mean        0.8445\n",
      "\n",
      "==================================================================================\n"
     ]
    },
    {
     "name": "stderr",
     "output_type": "stream",
     "text": [
      "> Epoch 34: 100%|██████████| 60/60 [01:20<00:00,  1.34s/it]\n"
     ]
    },
    {
     "name": "stdout",
     "output_type": "stream",
     "text": [
      " - Training Loss        0.1752\n",
      " - Validation Loss      0.595\n",
      " - Validation Accuracy  0.8281\n",
      "\n",
      " - Validation Accuracy (per class)\n",
      "   * Class 0\t 0.7375 [250 out of 339]\n",
      "   * Class 1\t 0.9073 [284 out of 313]\n",
      "   * Class 2\t 0.8474 [261 out of 308]\n",
      "   * Mean        0.8307\n",
      "\n",
      "==================================================================================\n"
     ]
    },
    {
     "name": "stderr",
     "output_type": "stream",
     "text": [
      "> Epoch 35: 100%|██████████| 60/60 [01:20<00:00,  1.34s/it]\n"
     ]
    },
    {
     "name": "stdout",
     "output_type": "stream",
     "text": [
      " - Training Loss        0.1685\n",
      " - Validation Loss      0.5057\n",
      " - Validation Accuracy  0.8458\n",
      "\n",
      " - Validation Accuracy (per class)\n",
      "   * Class 0\t 0.7906 [268 out of 339]\n",
      "   * Class 1\t 0.8882 [278 out of 313]\n",
      "   * Class 2\t 0.8636 [266 out of 308]\n",
      "   * Mean        0.8475\n",
      "\n",
      "==================================================================================\n"
     ]
    },
    {
     "name": "stderr",
     "output_type": "stream",
     "text": [
      "> Epoch 36: 100%|██████████| 60/60 [01:20<00:00,  1.34s/it]\n"
     ]
    },
    {
     "name": "stdout",
     "output_type": "stream",
     "text": [
      " - Training Loss        0.1555\n",
      " - Validation Loss      0.5718\n",
      " - Validation Accuracy  0.8333\n",
      "\n",
      " - Validation Accuracy (per class)\n",
      "   * Class 0\t 0.7552 [256 out of 339]\n",
      "   * Class 1\t 0.8946 [280 out of 313]\n",
      "   * Class 2\t 0.8571 [264 out of 308]\n",
      "   * Mean        0.8356\n",
      "\n",
      "==================================================================================\n"
     ]
    },
    {
     "name": "stderr",
     "output_type": "stream",
     "text": [
      "> Epoch 37: 100%|██████████| 60/60 [01:20<00:00,  1.34s/it]\n"
     ]
    },
    {
     "name": "stdout",
     "output_type": "stream",
     "text": [
      " - Training Loss        0.1399\n",
      " - Validation Loss      0.4917\n",
      " - Validation Accuracy  0.8333\n",
      "\n",
      " - Validation Accuracy (per class)\n",
      "   * Class 0\t 0.7876 [267 out of 339]\n",
      "   * Class 1\t 0.853 [267 out of 313]\n",
      "   * Class 2\t 0.8636 [266 out of 308]\n",
      "   * Mean        0.8347\n",
      "\n",
      "==================================================================================\n"
     ]
    },
    {
     "name": "stderr",
     "output_type": "stream",
     "text": [
      "> Epoch 38: 100%|██████████| 60/60 [01:20<00:00,  1.34s/it]\n"
     ]
    },
    {
     "name": "stdout",
     "output_type": "stream",
     "text": [
      " - Training Loss        0.1382\n",
      " - Validation Loss      0.5643\n",
      " - Validation Accuracy  0.8385\n",
      "\n",
      " - Validation Accuracy (per class)\n",
      "   * Class 0\t 0.8024 [272 out of 339]\n",
      "   * Class 1\t 0.8594 [269 out of 313]\n",
      "   * Class 2\t 0.8571 [264 out of 308]\n",
      "   * Mean        0.8396\n",
      "\n",
      "==================================================================================\n"
     ]
    },
    {
     "name": "stderr",
     "output_type": "stream",
     "text": [
      "> Epoch 39: 100%|██████████| 60/60 [01:20<00:00,  1.34s/it]\n"
     ]
    },
    {
     "name": "stdout",
     "output_type": "stream",
     "text": [
      " - Training Loss        0.1329\n",
      " - Validation Loss      0.5325\n",
      " - Validation Accuracy  0.8438\n",
      "\n",
      " - Validation Accuracy (per class)\n",
      "   * Class 0\t 0.8348 [283 out of 339]\n",
      "   * Class 1\t 0.8882 [278 out of 313]\n",
      "   * Class 2\t 0.8084 [249 out of 308]\n",
      "   * Mean        0.8438\n",
      "\n",
      "==================================================================================\n"
     ]
    },
    {
     "name": "stderr",
     "output_type": "stream",
     "text": [
      "> Epoch 40: 100%|██████████| 60/60 [01:20<00:00,  1.34s/it]\n"
     ]
    },
    {
     "name": "stdout",
     "output_type": "stream",
     "text": [
      " - Training Loss        0.1251\n",
      " - Validation Loss      0.5388\n",
      " - Validation Accuracy  0.8396\n",
      "\n",
      " - Validation Accuracy (per class)\n",
      "   * Class 0\t 0.823 [279 out of 339]\n",
      "   * Class 1\t 0.8243 [258 out of 313]\n",
      "   * Class 2\t 0.8734 [269 out of 308]\n",
      "   * Mean        0.8402\n",
      "\n",
      "==================================================================================\n"
     ]
    },
    {
     "name": "stderr",
     "output_type": "stream",
     "text": [
      "> Epoch 41: 100%|██████████| 60/60 [01:20<00:00,  1.34s/it]\n"
     ]
    },
    {
     "name": "stdout",
     "output_type": "stream",
     "text": [
      " - Training Loss        0.1066\n",
      " - Validation Loss      0.5826\n",
      " - Validation Accuracy  0.8365\n",
      "\n",
      " - Validation Accuracy (per class)\n",
      "   * Class 0\t 0.9027 [306 out of 339]\n",
      "   * Class 1\t 0.7796 [244 out of 313]\n",
      "   * Class 2\t 0.8214 [253 out of 308]\n",
      "   * Mean        0.8346\n",
      "\n",
      "==================================================================================\n"
     ]
    },
    {
     "name": "stderr",
     "output_type": "stream",
     "text": [
      "> Epoch 42: 100%|██████████| 60/60 [01:20<00:00,  1.34s/it]\n"
     ]
    },
    {
     "name": "stdout",
     "output_type": "stream",
     "text": [
      " - Training Loss        0.1153\n",
      " - Validation Loss      0.5656\n",
      " - Validation Accuracy  0.8406\n",
      "\n",
      " - Validation Accuracy (per class)\n",
      "   * Class 0\t 0.8555 [290 out of 339]\n",
      "   * Class 1\t 0.8882 [278 out of 313]\n",
      "   * Class 2\t 0.776 [239 out of 308]\n",
      "   * Mean        0.8399\n",
      "\n",
      "==================================================================================\n"
     ]
    },
    {
     "name": "stderr",
     "output_type": "stream",
     "text": [
      "> Epoch 43: 100%|██████████| 60/60 [01:20<00:00,  1.34s/it]\n"
     ]
    },
    {
     "name": "stdout",
     "output_type": "stream",
     "text": [
      " - Training Loss        0.0943\n",
      " - Validation Loss      0.6168\n",
      " - Validation Accuracy  0.8333\n",
      "\n",
      " - Validation Accuracy (per class)\n",
      "   * Class 0\t 0.8968 [304 out of 339]\n",
      "   * Class 1\t 0.8179 [256 out of 313]\n",
      "   * Class 2\t 0.7792 [240 out of 308]\n",
      "   * Mean        0.8313\n",
      "\n",
      "==================================================================================\n"
     ]
    },
    {
     "name": "stderr",
     "output_type": "stream",
     "text": [
      "> Epoch 44: 100%|██████████| 60/60 [01:20<00:00,  1.34s/it]\n"
     ]
    },
    {
     "name": "stdout",
     "output_type": "stream",
     "text": [
      " - Training Loss        0.0906\n",
      " - Validation Loss      0.5994\n",
      " - Validation Accuracy  0.825\n",
      "\n",
      " - Validation Accuracy (per class)\n",
      "   * Class 0\t 0.7847 [266 out of 339]\n",
      "   * Class 1\t 0.8339 [261 out of 313]\n",
      "   * Class 2\t 0.8604 [265 out of 308]\n",
      "   * Mean        0.8263\n",
      "\n",
      "==================================================================================\n"
     ]
    },
    {
     "name": "stderr",
     "output_type": "stream",
     "text": [
      "> Epoch 45: 100%|██████████| 60/60 [01:20<00:00,  1.34s/it]\n"
     ]
    },
    {
     "name": "stdout",
     "output_type": "stream",
     "text": [
      " - Training Loss        0.1009\n",
      " - Validation Loss      0.5173\n",
      " - Validation Accuracy  0.8438\n",
      "\n",
      " - Validation Accuracy (per class)\n",
      "   * Class 0\t 0.8201 [278 out of 339]\n",
      "   * Class 1\t 0.8754 [274 out of 313]\n",
      "   * Class 2\t 0.8377 [258 out of 308]\n",
      "   * Mean        0.8444\n",
      "\n",
      "==================================================================================\n"
     ]
    },
    {
     "name": "stderr",
     "output_type": "stream",
     "text": [
      "> Epoch 46: 100%|██████████| 60/60 [01:20<00:00,  1.34s/it]\n"
     ]
    },
    {
     "name": "stdout",
     "output_type": "stream",
     "text": [
      " - Training Loss        0.0892\n",
      " - Validation Loss      0.5818\n",
      " - Validation Accuracy  0.8417\n",
      "\n",
      " - Validation Accuracy (per class)\n",
      "   * Class 0\t 0.8083 [274 out of 339]\n",
      "   * Class 1\t 0.8946 [280 out of 313]\n",
      "   * Class 2\t 0.8247 [254 out of 308]\n",
      "   * Mean        0.8425\n",
      "\n",
      "==================================================================================\n"
     ]
    },
    {
     "name": "stderr",
     "output_type": "stream",
     "text": [
      "> Epoch 47: 100%|██████████| 60/60 [01:20<00:00,  1.34s/it]\n"
     ]
    },
    {
     "name": "stdout",
     "output_type": "stream",
     "text": [
      " - Training Loss        0.0979\n",
      " - Validation Loss      0.569\n",
      " - Validation Accuracy  0.8365\n",
      "\n",
      " - Validation Accuracy (per class)\n",
      "   * Class 0\t 0.7847 [266 out of 339]\n",
      "   * Class 1\t 0.8914 [279 out of 313]\n",
      "   * Class 2\t 0.8377 [258 out of 308]\n",
      "   * Mean        0.8379\n",
      "\n",
      "==================================================================================\n"
     ]
    },
    {
     "name": "stderr",
     "output_type": "stream",
     "text": [
      "> Epoch 48: 100%|██████████| 60/60 [01:20<00:00,  1.34s/it]\n"
     ]
    },
    {
     "name": "stdout",
     "output_type": "stream",
     "text": [
      " - Training Loss        0.0837\n",
      " - Validation Loss      0.6236\n",
      " - Validation Accuracy  0.8354\n",
      "\n",
      " - Validation Accuracy (per class)\n",
      "   * Class 0\t 0.9027 [306 out of 339]\n",
      "   * Class 1\t 0.8403 [263 out of 313]\n",
      "   * Class 2\t 0.7565 [233 out of 308]\n",
      "   * Mean        0.8332\n",
      "\n",
      "==================================================================================\n"
     ]
    },
    {
     "name": "stderr",
     "output_type": "stream",
     "text": [
      "> Epoch 49: 100%|██████████| 60/60 [01:20<00:00,  1.34s/it]\n"
     ]
    },
    {
     "name": "stdout",
     "output_type": "stream",
     "text": [
      " - Training Loss        0.0767\n",
      " - Validation Loss      0.6003\n",
      " - Validation Accuracy  0.8406\n",
      "\n",
      " - Validation Accuracy (per class)\n",
      "   * Class 0\t 0.8348 [283 out of 339]\n",
      "   * Class 1\t 0.8435 [264 out of 313]\n",
      "   * Class 2\t 0.8442 [260 out of 308]\n",
      "   * Mean        0.8408\n",
      "\n",
      "==================================================================================\n"
     ]
    },
    {
     "name": "stderr",
     "output_type": "stream",
     "text": [
      "> Epoch 50: 100%|██████████| 60/60 [01:20<00:00,  1.34s/it]\n"
     ]
    },
    {
     "name": "stdout",
     "output_type": "stream",
     "text": [
      " - Training Loss        0.0766\n",
      " - Validation Loss      0.6738\n",
      " - Validation Accuracy  0.8344\n",
      "\n",
      " - Validation Accuracy (per class)\n",
      "   * Class 0\t 0.8938 [303 out of 339]\n",
      "   * Class 1\t 0.853 [267 out of 313]\n",
      "   * Class 2\t 0.75 [231 out of 308]\n",
      "   * Mean        0.8323\n",
      "\n",
      "==================================================================================\n",
      "> Parameters imported\n",
      "> Dataset correctly divided in training set, validation set and test set\n",
      "> Created Pytorch datasets and dataloaders\n",
      "> Model 'LSTM_fixed' instantiated\n",
      "> Initialization required 0.142 seconds\n",
      "==================================================================================\n",
      "> Training Started\n",
      "  - Total Epochs: 50\n",
      "==================================================================================\n"
     ]
    },
    {
     "name": "stderr",
     "output_type": "stream",
     "text": [
      "> Epoch 1: 100%|██████████| 60/60 [01:18<00:00,  1.31s/it]\n"
     ]
    },
    {
     "name": "stdout",
     "output_type": "stream",
     "text": [
      " - Training Loss        1.1126\n",
      " - Validation Loss      1.1088\n",
      " - Validation Accuracy  0.3406\n",
      "\n",
      " - Validation Accuracy (per class)\n",
      "   * Class 0\t 0.0472 [16 out of 339]\n",
      "   * Class 1\t 0.8978 [281 out of 313]\n",
      "   * Class 2\t 0.0974 [30 out of 308]\n",
      "   * Mean        0.3475\n",
      "\n",
      "> ATTENTION: epoch 1 was the best one so far! The model has been saved :)\n",
      "\n",
      "==================================================================================\n"
     ]
    },
    {
     "name": "stderr",
     "output_type": "stream",
     "text": [
      "> Epoch 2: 100%|██████████| 60/60 [01:19<00:00,  1.33s/it]\n"
     ]
    },
    {
     "name": "stdout",
     "output_type": "stream",
     "text": [
      " - Training Loss        1.0978\n",
      " - Validation Loss      1.1744\n",
      " - Validation Accuracy  0.2812\n",
      "\n",
      " - Validation Accuracy (per class)\n",
      "   * Class 0\t 0.1475 [50 out of 339]\n",
      "   * Class 1\t 0.3163 [99 out of 313]\n",
      "   * Class 2\t 0.3929 [121 out of 308]\n",
      "   * Mean        0.2856\n",
      "\n",
      "==================================================================================\n"
     ]
    },
    {
     "name": "stderr",
     "output_type": "stream",
     "text": [
      "> Epoch 3: 100%|██████████| 60/60 [01:18<00:00,  1.31s/it]\n"
     ]
    },
    {
     "name": "stdout",
     "output_type": "stream",
     "text": [
      " - Training Loss        1.1217\n",
      " - Validation Loss      1.1562\n",
      " - Validation Accuracy  0.3927\n",
      "\n",
      " - Validation Accuracy (per class)\n",
      "   * Class 0\t 0.6755 [229 out of 339]\n",
      "   * Class 1\t 0.3131 [98 out of 313]\n",
      "   * Class 2\t 0.1623 [50 out of 308]\n",
      "   * Mean        0.3836\n",
      "\n",
      "> ATTENTION: epoch 3 was the best one so far! The model has been saved :)\n",
      "\n",
      "==================================================================================\n"
     ]
    },
    {
     "name": "stderr",
     "output_type": "stream",
     "text": [
      "> Epoch 4: 100%|██████████| 60/60 [01:18<00:00,  1.31s/it]\n"
     ]
    },
    {
     "name": "stdout",
     "output_type": "stream",
     "text": [
      " - Training Loss        1.0808\n",
      " - Validation Loss      1.1368\n",
      " - Validation Accuracy  0.3698\n",
      "\n",
      " - Validation Accuracy (per class)\n",
      "   * Class 0\t 0.236 [80 out of 339]\n",
      "   * Class 1\t 0.7061 [221 out of 313]\n",
      "   * Class 2\t 0.1753 [54 out of 308]\n",
      "   * Mean        0.3725\n",
      "\n",
      "==================================================================================\n"
     ]
    },
    {
     "name": "stderr",
     "output_type": "stream",
     "text": [
      "> Epoch 5: 100%|██████████| 60/60 [01:18<00:00,  1.31s/it]\n"
     ]
    },
    {
     "name": "stdout",
     "output_type": "stream",
     "text": [
      " - Training Loss        1.0562\n",
      " - Validation Loss      1.0718\n",
      " - Validation Accuracy  0.4615\n",
      "\n",
      " - Validation Accuracy (per class)\n",
      "   * Class 0\t 0.528 [179 out of 339]\n",
      "   * Class 1\t 0.3323 [104 out of 313]\n",
      "   * Class 2\t 0.5195 [160 out of 308]\n",
      "   * Mean        0.4599\n",
      "\n",
      "> ATTENTION: epoch 5 was the best one so far! The model has been saved :)\n",
      "\n",
      "==================================================================================\n"
     ]
    },
    {
     "name": "stderr",
     "output_type": "stream",
     "text": [
      "> Epoch 6: 100%|██████████| 60/60 [01:18<00:00,  1.31s/it]\n"
     ]
    },
    {
     "name": "stdout",
     "output_type": "stream",
     "text": [
      " - Training Loss        0.9935\n",
      " - Validation Loss      1.1079\n",
      " - Validation Accuracy  0.4188\n",
      "\n",
      " - Validation Accuracy (per class)\n",
      "   * Class 0\t 0.5369 [182 out of 339]\n",
      "   * Class 1\t 0.2875 [90 out of 313]\n",
      "   * Class 2\t 0.4221 [130 out of 308]\n",
      "   * Mean        0.4155\n",
      "\n",
      "==================================================================================\n"
     ]
    },
    {
     "name": "stderr",
     "output_type": "stream",
     "text": [
      "> Epoch 7: 100%|██████████| 60/60 [01:19<00:00,  1.32s/it]\n"
     ]
    },
    {
     "name": "stdout",
     "output_type": "stream",
     "text": [
      " - Training Loss        0.9637\n",
      " - Validation Loss      1.1328\n",
      " - Validation Accuracy  0.4385\n",
      "\n",
      " - Validation Accuracy (per class)\n",
      "   * Class 0\t 0.5339 [181 out of 339]\n",
      "   * Class 1\t 0.2939 [92 out of 313]\n",
      "   * Class 2\t 0.4805 [148 out of 308]\n",
      "   * Mean        0.4361\n",
      "\n",
      "==================================================================================\n"
     ]
    },
    {
     "name": "stderr",
     "output_type": "stream",
     "text": [
      "> Epoch 8: 100%|██████████| 60/60 [01:19<00:00,  1.32s/it]\n"
     ]
    },
    {
     "name": "stdout",
     "output_type": "stream",
     "text": [
      " - Training Loss        0.9288\n",
      " - Validation Loss      1.1373\n",
      " - Validation Accuracy  0.4281\n",
      "\n",
      " - Validation Accuracy (per class)\n",
      "   * Class 0\t 0.5516 [187 out of 339]\n",
      "   * Class 1\t 0.6262 [196 out of 313]\n",
      "   * Class 2\t 0.0909 [28 out of 308]\n",
      "   * Mean        0.4229\n",
      "\n",
      "==================================================================================\n"
     ]
    },
    {
     "name": "stderr",
     "output_type": "stream",
     "text": [
      "> Epoch 9: 100%|██████████| 60/60 [01:19<00:00,  1.32s/it]\n"
     ]
    },
    {
     "name": "stdout",
     "output_type": "stream",
     "text": [
      " - Training Loss        0.9371\n",
      " - Validation Loss      1.1623\n",
      " - Validation Accuracy  0.3854\n",
      "\n",
      " - Validation Accuracy (per class)\n",
      "   * Class 0\t 0.4779 [162 out of 339]\n",
      "   * Class 1\t 0.607 [190 out of 313]\n",
      "   * Class 2\t 0.0584 [18 out of 308]\n",
      "   * Mean        0.3811\n",
      "\n",
      "==================================================================================\n"
     ]
    },
    {
     "name": "stderr",
     "output_type": "stream",
     "text": [
      "> Epoch 10: 100%|██████████| 60/60 [01:19<00:00,  1.32s/it]\n"
     ]
    },
    {
     "name": "stdout",
     "output_type": "stream",
     "text": [
      " - Training Loss        0.9348\n",
      " - Validation Loss      1.1527\n",
      " - Validation Accuracy  0.4271\n",
      "\n",
      " - Validation Accuracy (per class)\n",
      "   * Class 0\t 0.5192 [176 out of 339]\n",
      "   * Class 1\t 0.3834 [120 out of 313]\n",
      "   * Class 2\t 0.3701 [114 out of 308]\n",
      "   * Mean        0.4242\n",
      "\n",
      "==================================================================================\n"
     ]
    },
    {
     "name": "stderr",
     "output_type": "stream",
     "text": [
      "> Epoch 11: 100%|██████████| 60/60 [01:19<00:00,  1.32s/it]\n"
     ]
    },
    {
     "name": "stdout",
     "output_type": "stream",
     "text": [
      " - Training Loss        0.9178\n",
      " - Validation Loss      1.1866\n",
      " - Validation Accuracy  0.3458\n",
      "\n",
      " - Validation Accuracy (per class)\n",
      "   * Class 0\t 0.056 [19 out of 339]\n",
      "   * Class 1\t 0.361 [113 out of 313]\n",
      "   * Class 2\t 0.6494 [200 out of 308]\n",
      "   * Mean        0.3555\n",
      "\n",
      "==================================================================================\n"
     ]
    },
    {
     "name": "stderr",
     "output_type": "stream",
     "text": [
      "> Epoch 12: 100%|██████████| 60/60 [01:19<00:00,  1.32s/it]\n"
     ]
    },
    {
     "name": "stdout",
     "output_type": "stream",
     "text": [
      " - Training Loss        0.9253\n",
      " - Validation Loss      1.1878\n",
      " - Validation Accuracy  0.424\n",
      "\n",
      " - Validation Accuracy (per class)\n",
      "   * Class 0\t 0.5133 [174 out of 339]\n",
      "   * Class 1\t 0.3642 [114 out of 313]\n",
      "   * Class 2\t 0.3864 [119 out of 308]\n",
      "   * Mean        0.4213\n",
      "\n",
      "==================================================================================\n"
     ]
    },
    {
     "name": "stderr",
     "output_type": "stream",
     "text": [
      "> Epoch 13: 100%|██████████| 60/60 [01:19<00:00,  1.33s/it]\n"
     ]
    },
    {
     "name": "stdout",
     "output_type": "stream",
     "text": [
      " - Training Loss        0.9174\n",
      " - Validation Loss      1.2152\n",
      " - Validation Accuracy  0.3917\n",
      "\n",
      " - Validation Accuracy (per class)\n",
      "   * Class 0\t 0.7139 [242 out of 339]\n",
      "   * Class 1\t 0.3578 [112 out of 313]\n",
      "   * Class 2\t 0.0714 [22 out of 308]\n",
      "   * Mean        0.381\n",
      "\n",
      "==================================================================================\n"
     ]
    },
    {
     "name": "stderr",
     "output_type": "stream",
     "text": [
      "> Epoch 14: 100%|██████████| 60/60 [01:19<00:00,  1.33s/it]\n"
     ]
    },
    {
     "name": "stdout",
     "output_type": "stream",
     "text": [
      " - Training Loss        0.9255\n",
      " - Validation Loss      1.2326\n",
      " - Validation Accuracy  0.3344\n",
      "\n",
      " - Validation Accuracy (per class)\n",
      "   * Class 0\t 0.059 [20 out of 339]\n",
      "   * Class 1\t 0.5911 [185 out of 313]\n",
      "   * Class 2\t 0.3766 [116 out of 308]\n",
      "   * Mean        0.3422\n",
      "\n",
      "==================================================================================\n"
     ]
    },
    {
     "name": "stderr",
     "output_type": "stream",
     "text": [
      "> Epoch 15: 100%|██████████| 60/60 [01:19<00:00,  1.33s/it]\n"
     ]
    },
    {
     "name": "stdout",
     "output_type": "stream",
     "text": [
      " - Training Loss        0.9224\n",
      " - Validation Loss      1.2193\n",
      " - Validation Accuracy  0.375\n",
      "\n",
      " - Validation Accuracy (per class)\n",
      "   * Class 0\t 0.4218 [143 out of 339]\n",
      "   * Class 1\t 0.3323 [104 out of 313]\n",
      "   * Class 2\t 0.3669 [113 out of 308]\n",
      "   * Mean        0.3737\n",
      "\n",
      "==================================================================================\n"
     ]
    },
    {
     "name": "stderr",
     "output_type": "stream",
     "text": [
      "> Epoch 16: 100%|██████████| 60/60 [01:19<00:00,  1.33s/it]\n"
     ]
    },
    {
     "name": "stdout",
     "output_type": "stream",
     "text": [
      " - Training Loss        0.9243\n",
      " - Validation Loss      1.2447\n",
      " - Validation Accuracy  0.3802\n",
      "\n",
      " - Validation Accuracy (per class)\n",
      "   * Class 0\t 0.4071 [138 out of 339]\n",
      "   * Class 1\t 0.655 [205 out of 313]\n",
      "   * Class 2\t 0.0714 [22 out of 308]\n",
      "   * Mean        0.3778\n",
      "\n",
      "==================================================================================\n"
     ]
    },
    {
     "name": "stderr",
     "output_type": "stream",
     "text": [
      "> Epoch 17: 100%|██████████| 60/60 [01:19<00:00,  1.33s/it]\n"
     ]
    },
    {
     "name": "stdout",
     "output_type": "stream",
     "text": [
      " - Training Loss        1.0141\n",
      " - Validation Loss      1.2258\n",
      " - Validation Accuracy  0.3135\n",
      "\n",
      " - Validation Accuracy (per class)\n",
      "   * Class 0\t 0.2153 [73 out of 339]\n",
      "   * Class 1\t 0.3291 [103 out of 313]\n",
      "   * Class 2\t 0.4058 [125 out of 308]\n",
      "   * Mean        0.3167\n",
      "\n",
      "==================================================================================\n"
     ]
    },
    {
     "name": "stderr",
     "output_type": "stream",
     "text": [
      "> Epoch 18: 100%|██████████| 60/60 [01:19<00:00,  1.32s/it]\n"
     ]
    },
    {
     "name": "stdout",
     "output_type": "stream",
     "text": [
      " - Training Loss        0.9386\n",
      " - Validation Loss      1.2095\n",
      " - Validation Accuracy  0.3385\n",
      "\n",
      " - Validation Accuracy (per class)\n",
      "   * Class 0\t 0.3186 [108 out of 339]\n",
      "   * Class 1\t 0.6006 [188 out of 313]\n",
      "   * Class 2\t 0.0942 [29 out of 308]\n",
      "   * Mean        0.3378\n",
      "\n",
      "==================================================================================\n"
     ]
    },
    {
     "name": "stderr",
     "output_type": "stream",
     "text": [
      "> Epoch 19: 100%|██████████| 60/60 [01:20<00:00,  1.35s/it]\n"
     ]
    },
    {
     "name": "stdout",
     "output_type": "stream",
     "text": [
      " - Training Loss        0.9737\n",
      " - Validation Loss      1.1503\n",
      " - Validation Accuracy  0.4375\n",
      "\n",
      " - Validation Accuracy (per class)\n",
      "   * Class 0\t 0.5369 [182 out of 339]\n",
      "   * Class 1\t 0.4217 [132 out of 313]\n",
      "   * Class 2\t 0.3442 [106 out of 308]\n",
      "   * Mean        0.4343\n",
      "\n",
      "==================================================================================\n"
     ]
    },
    {
     "name": "stderr",
     "output_type": "stream",
     "text": [
      "> Epoch 20: 100%|██████████| 60/60 [01:20<00:00,  1.35s/it]\n"
     ]
    },
    {
     "name": "stdout",
     "output_type": "stream",
     "text": [
      " - Training Loss        0.9255\n",
      " - Validation Loss      1.176\n",
      " - Validation Accuracy  0.451\n",
      "\n",
      " - Validation Accuracy (per class)\n",
      "   * Class 0\t 0.5428 [184 out of 339]\n",
      "   * Class 1\t 0.2013 [63 out of 313]\n",
      "   * Class 2\t 0.6039 [186 out of 308]\n",
      "   * Mean        0.4493\n",
      "\n",
      "==================================================================================\n"
     ]
    },
    {
     "name": "stderr",
     "output_type": "stream",
     "text": [
      "> Epoch 21: 100%|██████████| 60/60 [01:20<00:00,  1.35s/it]\n"
     ]
    },
    {
     "name": "stdout",
     "output_type": "stream",
     "text": [
      " - Training Loss        0.9187\n",
      " - Validation Loss      1.2159\n",
      " - Validation Accuracy  0.3677\n",
      "\n",
      " - Validation Accuracy (per class)\n",
      "   * Class 0\t 0.3628 [123 out of 339]\n",
      "   * Class 1\t 0.2588 [81 out of 313]\n",
      "   * Class 2\t 0.4838 [149 out of 308]\n",
      "   * Mean        0.3685\n",
      "\n",
      "==================================================================================\n"
     ]
    },
    {
     "name": "stderr",
     "output_type": "stream",
     "text": [
      "> Epoch 22: 100%|██████████| 60/60 [01:20<00:00,  1.35s/it]\n"
     ]
    },
    {
     "name": "stdout",
     "output_type": "stream",
     "text": [
      " - Training Loss        0.9489\n",
      " - Validation Loss      1.2083\n",
      " - Validation Accuracy  0.3885\n",
      "\n",
      " - Validation Accuracy (per class)\n",
      "   * Class 0\t 0.531 [180 out of 339]\n",
      "   * Class 1\t 0.3834 [120 out of 313]\n",
      "   * Class 2\t 0.237 [73 out of 308]\n",
      "   * Mean        0.3838\n",
      "\n",
      "==================================================================================\n"
     ]
    },
    {
     "name": "stderr",
     "output_type": "stream",
     "text": [
      "> Epoch 23: 100%|██████████| 60/60 [01:20<00:00,  1.35s/it]\n"
     ]
    },
    {
     "name": "stdout",
     "output_type": "stream",
     "text": [
      " - Training Loss        0.958\n",
      " - Validation Loss      1.2393\n",
      " - Validation Accuracy  0.3344\n",
      "\n",
      " - Validation Accuracy (per class)\n",
      "   * Class 0\t 0.0649 [22 out of 339]\n",
      "   * Class 1\t 0.0319 [10 out of 313]\n",
      "   * Class 2\t 0.9383 [289 out of 308]\n",
      "   * Mean        0.345\n",
      "\n",
      "==================================================================================\n"
     ]
    },
    {
     "name": "stderr",
     "output_type": "stream",
     "text": [
      "> Epoch 24: 100%|██████████| 60/60 [01:20<00:00,  1.35s/it]\n"
     ]
    },
    {
     "name": "stdout",
     "output_type": "stream",
     "text": [
      " - Training Loss        0.9436\n",
      " - Validation Loss      1.2415\n",
      " - Validation Accuracy  0.3573\n",
      "\n",
      " - Validation Accuracy (per class)\n",
      "   * Class 0\t 0.8909 [302 out of 339]\n",
      "   * Class 1\t 0.0607 [19 out of 313]\n",
      "   * Class 2\t 0.0714 [22 out of 308]\n",
      "   * Mean        0.341\n",
      "\n",
      "==================================================================================\n"
     ]
    },
    {
     "name": "stderr",
     "output_type": "stream",
     "text": [
      "> Epoch 25: 100%|██████████| 60/60 [01:20<00:00,  1.35s/it]\n"
     ]
    },
    {
     "name": "stdout",
     "output_type": "stream",
     "text": [
      " - Training Loss        0.9403\n",
      " - Validation Loss      1.2584\n",
      " - Validation Accuracy  0.3458\n",
      "\n",
      " - Validation Accuracy (per class)\n",
      "   * Class 0\t 0.0531 [18 out of 339]\n",
      "   * Class 1\t 0.9137 [286 out of 313]\n",
      "   * Class 2\t 0.0909 [28 out of 308]\n",
      "   * Mean        0.3526\n",
      "\n",
      "==================================================================================\n"
     ]
    },
    {
     "name": "stderr",
     "output_type": "stream",
     "text": [
      "> Epoch 26: 100%|██████████| 60/60 [01:20<00:00,  1.35s/it]\n"
     ]
    },
    {
     "name": "stdout",
     "output_type": "stream",
     "text": [
      " - Training Loss        0.9251\n",
      " - Validation Loss      1.228\n",
      " - Validation Accuracy  0.5229\n",
      "\n",
      " - Validation Accuracy (per class)\n",
      "   * Class 0\t 0.0442 [15 out of 339]\n",
      "   * Class 1\t 0.8754 [274 out of 313]\n",
      "   * Class 2\t 0.6916 [213 out of 308]\n",
      "   * Mean        0.5371\n",
      "\n",
      "> ATTENTION: epoch 26 was the best one so far! The model has been saved :)\n",
      "\n",
      "==================================================================================\n"
     ]
    },
    {
     "name": "stderr",
     "output_type": "stream",
     "text": [
      "> Epoch 27: 100%|██████████| 60/60 [01:20<00:00,  1.35s/it]\n"
     ]
    },
    {
     "name": "stdout",
     "output_type": "stream",
     "text": [
      " - Training Loss        0.8424\n",
      " - Validation Loss      1.1287\n",
      " - Validation Accuracy  0.5125\n",
      "\n",
      " - Validation Accuracy (per class)\n",
      "   * Class 0\t 0.7493 [254 out of 339]\n",
      "   * Class 1\t 0.0831 [26 out of 313]\n",
      "   * Class 2\t 0.6883 [212 out of 308]\n",
      "   * Mean        0.5069\n",
      "\n",
      "==================================================================================\n"
     ]
    },
    {
     "name": "stderr",
     "output_type": "stream",
     "text": [
      "> Epoch 28: 100%|██████████| 60/60 [01:20<00:00,  1.35s/it]\n"
     ]
    },
    {
     "name": "stdout",
     "output_type": "stream",
     "text": [
      " - Training Loss        0.8001\n",
      " - Validation Loss      1.1247\n",
      " - Validation Accuracy  0.526\n",
      "\n",
      " - Validation Accuracy (per class)\n",
      "   * Class 0\t 0.0531 [18 out of 339]\n",
      "   * Class 1\t 0.885 [277 out of 313]\n",
      "   * Class 2\t 0.6818 [210 out of 308]\n",
      "   * Mean        0.54\n",
      "\n",
      "> ATTENTION: epoch 28 was the best one so far! The model has been saved :)\n",
      "\n",
      "==================================================================================\n"
     ]
    },
    {
     "name": "stderr",
     "output_type": "stream",
     "text": [
      "> Epoch 29: 100%|██████████| 60/60 [01:20<00:00,  1.35s/it]\n"
     ]
    },
    {
     "name": "stdout",
     "output_type": "stream",
     "text": [
      " - Training Loss        0.7765\n",
      " - Validation Loss      1.1426\n",
      " - Validation Accuracy  0.5281\n",
      "\n",
      " - Validation Accuracy (per class)\n",
      "   * Class 0\t 0.059 [20 out of 339]\n",
      "   * Class 1\t 0.8786 [275 out of 313]\n",
      "   * Class 2\t 0.6883 [212 out of 308]\n",
      "   * Mean        0.542\n",
      "\n",
      "> ATTENTION: epoch 29 was the best one so far! The model has been saved :)\n",
      "\n",
      "==================================================================================\n"
     ]
    },
    {
     "name": "stderr",
     "output_type": "stream",
     "text": [
      "> Epoch 30: 100%|██████████| 60/60 [01:20<00:00,  1.35s/it]\n"
     ]
    },
    {
     "name": "stdout",
     "output_type": "stream",
     "text": [
      " - Training Loss        0.7807\n",
      " - Validation Loss      1.1151\n",
      " - Validation Accuracy  0.5292\n",
      "\n",
      " - Validation Accuracy (per class)\n",
      "   * Class 0\t 0.7404 [251 out of 339]\n",
      "   * Class 1\t 0.1661 [52 out of 313]\n",
      "   * Class 2\t 0.6656 [205 out of 308]\n",
      "   * Mean        0.524\n",
      "\n",
      "==================================================================================\n"
     ]
    },
    {
     "name": "stderr",
     "output_type": "stream",
     "text": [
      "> Epoch 31: 100%|██████████| 60/60 [01:20<00:00,  1.35s/it]\n"
     ]
    },
    {
     "name": "stdout",
     "output_type": "stream",
     "text": [
      " - Training Loss        0.7712\n",
      " - Validation Loss      1.131\n",
      " - Validation Accuracy  0.5302\n",
      "\n",
      " - Validation Accuracy (per class)\n",
      "   * Class 0\t 0.0472 [16 out of 339]\n",
      "   * Class 1\t 0.8914 [279 out of 313]\n",
      "   * Class 2\t 0.6948 [214 out of 308]\n",
      "   * Mean        0.5445\n",
      "\n",
      "> ATTENTION: epoch 31 was the best one so far! The model has been saved :)\n",
      "\n",
      "==================================================================================\n"
     ]
    },
    {
     "name": "stderr",
     "output_type": "stream",
     "text": [
      "> Epoch 32: 100%|██████████| 60/60 [01:20<00:00,  1.35s/it]\n"
     ]
    },
    {
     "name": "stdout",
     "output_type": "stream",
     "text": [
      " - Training Loss        0.7588\n",
      " - Validation Loss      1.1177\n",
      " - Validation Accuracy  0.5448\n",
      "\n",
      " - Validation Accuracy (per class)\n",
      "   * Class 0\t 0.7434 [252 out of 339]\n",
      "   * Class 1\t 0.1725 [54 out of 313]\n",
      "   * Class 2\t 0.7045 [217 out of 308]\n",
      "   * Mean        0.5401\n",
      "\n",
      "==================================================================================\n"
     ]
    },
    {
     "name": "stderr",
     "output_type": "stream",
     "text": [
      "> Epoch 33: 100%|██████████| 60/60 [01:20<00:00,  1.35s/it]\n"
     ]
    },
    {
     "name": "stdout",
     "output_type": "stream",
     "text": [
      " - Training Loss        0.7686\n",
      " - Validation Loss      1.1188\n",
      " - Validation Accuracy  0.5312\n",
      "\n",
      " - Validation Accuracy (per class)\n",
      "   * Class 0\t 0.0383 [13 out of 339]\n",
      "   * Class 1\t 0.8882 [278 out of 313]\n",
      "   * Class 2\t 0.711 [219 out of 308]\n",
      "   * Mean        0.5458\n",
      "\n",
      "> ATTENTION: epoch 33 was the best one so far! The model has been saved :)\n",
      "\n",
      "==================================================================================\n"
     ]
    },
    {
     "name": "stderr",
     "output_type": "stream",
     "text": [
      "> Epoch 34: 100%|██████████| 60/60 [01:20<00:00,  1.35s/it]\n"
     ]
    },
    {
     "name": "stdout",
     "output_type": "stream",
     "text": [
      " - Training Loss        0.7598\n",
      " - Validation Loss      1.09\n",
      " - Validation Accuracy  0.5302\n",
      "\n",
      " - Validation Accuracy (per class)\n",
      "   * Class 0\t 0.0531 [18 out of 339]\n",
      "   * Class 1\t 0.869 [272 out of 313]\n",
      "   * Class 2\t 0.711 [219 out of 308]\n",
      "   * Mean        0.5444\n",
      "\n",
      "==================================================================================\n"
     ]
    },
    {
     "name": "stderr",
     "output_type": "stream",
     "text": [
      "> Epoch 35: 100%|██████████| 60/60 [01:20<00:00,  1.35s/it]\n"
     ]
    },
    {
     "name": "stdout",
     "output_type": "stream",
     "text": [
      " - Training Loss        0.7505\n",
      " - Validation Loss      1.1097\n",
      " - Validation Accuracy  0.5375\n",
      "\n",
      " - Validation Accuracy (per class)\n",
      "   * Class 0\t 0.056 [19 out of 339]\n",
      "   * Class 1\t 0.8754 [274 out of 313]\n",
      "   * Class 2\t 0.724 [223 out of 308]\n",
      "   * Mean        0.5518\n",
      "\n",
      "> ATTENTION: epoch 35 was the best one so far! The model has been saved :)\n",
      "\n",
      "==================================================================================\n"
     ]
    },
    {
     "name": "stderr",
     "output_type": "stream",
     "text": [
      "> Epoch 36: 100%|██████████| 60/60 [01:20<00:00,  1.35s/it]\n"
     ]
    },
    {
     "name": "stdout",
     "output_type": "stream",
     "text": [
      " - Training Loss        0.7486\n",
      " - Validation Loss      1.1259\n",
      " - Validation Accuracy  0.5271\n",
      "\n",
      " - Validation Accuracy (per class)\n",
      "   * Class 0\t 0.7935 [269 out of 339]\n",
      "   * Class 1\t 0.1022 [32 out of 313]\n",
      "   * Class 2\t 0.6656 [205 out of 308]\n",
      "   * Mean        0.5204\n",
      "\n",
      "==================================================================================\n"
     ]
    },
    {
     "name": "stderr",
     "output_type": "stream",
     "text": [
      "> Epoch 37: 100%|██████████| 60/60 [01:20<00:00,  1.35s/it]\n"
     ]
    },
    {
     "name": "stdout",
     "output_type": "stream",
     "text": [
      " - Training Loss        0.7445\n",
      " - Validation Loss      1.1796\n",
      " - Validation Accuracy  0.524\n",
      "\n",
      " - Validation Accuracy (per class)\n",
      "   * Class 0\t 0.0501 [17 out of 339]\n",
      "   * Class 1\t 0.8946 [280 out of 313]\n",
      "   * Class 2\t 0.6688 [206 out of 308]\n",
      "   * Mean        0.5378\n",
      "\n",
      "==================================================================================\n"
     ]
    },
    {
     "name": "stderr",
     "output_type": "stream",
     "text": [
      "> Epoch 38: 100%|██████████| 60/60 [01:20<00:00,  1.35s/it]\n"
     ]
    },
    {
     "name": "stdout",
     "output_type": "stream",
     "text": [
      " - Training Loss        0.7423\n",
      " - Validation Loss      1.0522\n",
      " - Validation Accuracy  0.5781\n",
      "\n",
      " - Validation Accuracy (per class)\n",
      "   * Class 0\t 0.6608 [224 out of 339]\n",
      "   * Class 1\t 0.4058 [127 out of 313]\n",
      "   * Class 2\t 0.6623 [204 out of 308]\n",
      "   * Mean        0.5763\n",
      "\n",
      "> ATTENTION: epoch 38 was the best one so far! The model has been saved :)\n",
      "\n",
      "==================================================================================\n"
     ]
    },
    {
     "name": "stderr",
     "output_type": "stream",
     "text": [
      "> Epoch 39: 100%|██████████| 60/60 [01:20<00:00,  1.35s/it]\n"
     ]
    },
    {
     "name": "stdout",
     "output_type": "stream",
     "text": [
      " - Training Loss        0.6961\n",
      " - Validation Loss      0.9505\n",
      " - Validation Accuracy  0.6969\n",
      "\n",
      " - Validation Accuracy (per class)\n",
      "   * Class 0\t 0.6195 [210 out of 339]\n",
      "   * Class 1\t 0.7891 [247 out of 313]\n",
      "   * Class 2\t 0.6883 [212 out of 308]\n",
      "   * Mean        0.699\n",
      "\n",
      "> ATTENTION: epoch 39 was the best one so far! The model has been saved :)\n",
      "\n",
      "==================================================================================\n"
     ]
    },
    {
     "name": "stderr",
     "output_type": "stream",
     "text": [
      "> Epoch 40: 100%|██████████| 60/60 [01:20<00:00,  1.35s/it]\n"
     ]
    },
    {
     "name": "stdout",
     "output_type": "stream",
     "text": [
      " - Training Loss        0.637\n",
      " - Validation Loss      1.1285\n",
      " - Validation Accuracy  0.4906\n",
      "\n",
      " - Validation Accuracy (per class)\n",
      "   * Class 0\t 0.4513 [153 out of 339]\n",
      "   * Class 1\t 0.1693 [53 out of 313]\n",
      "   * Class 2\t 0.8604 [265 out of 308]\n",
      "   * Mean        0.4937\n",
      "\n",
      "==================================================================================\n"
     ]
    },
    {
     "name": "stderr",
     "output_type": "stream",
     "text": [
      "> Epoch 41: 100%|██████████| 60/60 [01:20<00:00,  1.35s/it]\n"
     ]
    },
    {
     "name": "stdout",
     "output_type": "stream",
     "text": [
      " - Training Loss        0.6459\n",
      " - Validation Loss      0.9304\n",
      " - Validation Accuracy  0.699\n",
      "\n",
      " - Validation Accuracy (per class)\n",
      "   * Class 0\t 0.6018 [204 out of 339]\n",
      "   * Class 1\t 0.8083 [253 out of 313]\n",
      "   * Class 2\t 0.6948 [214 out of 308]\n",
      "   * Mean        0.7016\n",
      "\n",
      "> ATTENTION: epoch 41 was the best one so far! The model has been saved :)\n",
      "\n",
      "==================================================================================\n"
     ]
    },
    {
     "name": "stderr",
     "output_type": "stream",
     "text": [
      "> Epoch 42: 100%|██████████| 60/60 [01:20<00:00,  1.35s/it]\n"
     ]
    },
    {
     "name": "stdout",
     "output_type": "stream",
     "text": [
      " - Training Loss        0.6256\n",
      " - Validation Loss      0.9433\n",
      " - Validation Accuracy  0.7\n",
      "\n",
      " - Validation Accuracy (per class)\n",
      "   * Class 0\t 0.6195 [210 out of 339]\n",
      "   * Class 1\t 0.7859 [246 out of 313]\n",
      "   * Class 2\t 0.7013 [216 out of 308]\n",
      "   * Mean        0.7022\n",
      "\n",
      "> ATTENTION: epoch 42 was the best one so far! The model has been saved :)\n",
      "\n",
      "==================================================================================\n"
     ]
    },
    {
     "name": "stderr",
     "output_type": "stream",
     "text": [
      "> Epoch 43: 100%|██████████| 60/60 [01:20<00:00,  1.35s/it]\n"
     ]
    },
    {
     "name": "stdout",
     "output_type": "stream",
     "text": [
      " - Training Loss        0.5981\n",
      " - Validation Loss      0.9968\n",
      " - Validation Accuracy  0.6052\n",
      "\n",
      " - Validation Accuracy (per class)\n",
      "   * Class 0\t 0.6844 [232 out of 339]\n",
      "   * Class 1\t 0.4121 [129 out of 313]\n",
      "   * Class 2\t 0.7143 [220 out of 308]\n",
      "   * Mean        0.6036\n",
      "\n",
      "==================================================================================\n"
     ]
    },
    {
     "name": "stderr",
     "output_type": "stream",
     "text": [
      "> Epoch 44: 100%|██████████| 60/60 [01:20<00:00,  1.35s/it]\n"
     ]
    },
    {
     "name": "stdout",
     "output_type": "stream",
     "text": [
      " - Training Loss        0.5848\n",
      " - Validation Loss      0.9281\n",
      " - Validation Accuracy  0.7021\n",
      "\n",
      " - Validation Accuracy (per class)\n",
      "   * Class 0\t 0.5988 [203 out of 339]\n",
      "   * Class 1\t 0.8211 [257 out of 313]\n",
      "   * Class 2\t 0.6948 [214 out of 308]\n",
      "   * Mean        0.7049\n",
      "\n",
      "> ATTENTION: epoch 44 was the best one so far! The model has been saved :)\n",
      "\n",
      "==================================================================================\n"
     ]
    },
    {
     "name": "stderr",
     "output_type": "stream",
     "text": [
      "> Epoch 45: 100%|██████████| 60/60 [01:20<00:00,  1.35s/it]\n"
     ]
    },
    {
     "name": "stdout",
     "output_type": "stream",
     "text": [
      " - Training Loss        0.592\n",
      " - Validation Loss      0.9289\n",
      " - Validation Accuracy  0.7021\n",
      "\n",
      " - Validation Accuracy (per class)\n",
      "   * Class 0\t 0.5929 [201 out of 339]\n",
      "   * Class 1\t 0.8147 [255 out of 313]\n",
      "   * Class 2\t 0.7078 [218 out of 308]\n",
      "   * Mean        0.7051\n",
      "\n",
      "> ATTENTION: epoch 45 was the best one so far! The model has been saved :)\n",
      "\n",
      "==================================================================================\n"
     ]
    },
    {
     "name": "stderr",
     "output_type": "stream",
     "text": [
      "> Epoch 46: 100%|██████████| 60/60 [01:20<00:00,  1.35s/it]\n"
     ]
    },
    {
     "name": "stdout",
     "output_type": "stream",
     "text": [
      " - Training Loss        0.5826\n",
      " - Validation Loss      0.8877\n",
      " - Validation Accuracy  0.7135\n",
      "\n",
      " - Validation Accuracy (per class)\n",
      "   * Class 0\t 0.5988 [203 out of 339]\n",
      "   * Class 1\t 0.8498 [266 out of 313]\n",
      "   * Class 2\t 0.7013 [216 out of 308]\n",
      "   * Mean        0.7166\n",
      "\n",
      "> ATTENTION: epoch 46 was the best one so far! The model has been saved :)\n",
      "\n",
      "==================================================================================\n"
     ]
    },
    {
     "name": "stderr",
     "output_type": "stream",
     "text": [
      "> Epoch 47: 100%|██████████| 60/60 [01:20<00:00,  1.35s/it]\n"
     ]
    },
    {
     "name": "stdout",
     "output_type": "stream",
     "text": [
      " - Training Loss        0.5525\n",
      " - Validation Loss      0.8659\n",
      " - Validation Accuracy  0.7031\n",
      "\n",
      " - Validation Accuracy (per class)\n",
      "   * Class 0\t 0.6018 [204 out of 339]\n",
      "   * Class 1\t 0.8307 [260 out of 313]\n",
      "   * Class 2\t 0.6851 [211 out of 308]\n",
      "   * Mean        0.7059\n",
      "\n",
      "==================================================================================\n"
     ]
    },
    {
     "name": "stderr",
     "output_type": "stream",
     "text": [
      "> Epoch 48: 100%|██████████| 60/60 [01:20<00:00,  1.35s/it]\n"
     ]
    },
    {
     "name": "stdout",
     "output_type": "stream",
     "text": [
      " - Training Loss        0.5409\n",
      " - Validation Loss      0.869\n",
      " - Validation Accuracy  0.7115\n",
      "\n",
      " - Validation Accuracy (per class)\n",
      "   * Class 0\t 0.587 [199 out of 339]\n",
      "   * Class 1\t 0.853 [267 out of 313]\n",
      "   * Class 2\t 0.7045 [217 out of 308]\n",
      "   * Mean        0.7148\n",
      "\n",
      "==================================================================================\n"
     ]
    },
    {
     "name": "stderr",
     "output_type": "stream",
     "text": [
      "> Epoch 49: 100%|██████████| 60/60 [01:20<00:00,  1.35s/it]\n"
     ]
    },
    {
     "name": "stdout",
     "output_type": "stream",
     "text": [
      " - Training Loss        0.5221\n",
      " - Validation Loss      0.8686\n",
      " - Validation Accuracy  0.699\n",
      "\n",
      " - Validation Accuracy (per class)\n",
      "   * Class 0\t 0.6254 [212 out of 339]\n",
      "   * Class 1\t 0.8275 [259 out of 313]\n",
      "   * Class 2\t 0.6494 [200 out of 308]\n",
      "   * Mean        0.7008\n",
      "\n",
      "==================================================================================\n"
     ]
    },
    {
     "name": "stderr",
     "output_type": "stream",
     "text": [
      "> Epoch 50: 100%|██████████| 60/60 [01:20<00:00,  1.35s/it]\n"
     ]
    },
    {
     "name": "stdout",
     "output_type": "stream",
     "text": [
      " - Training Loss        0.5288\n",
      " - Validation Loss      0.8598\n",
      " - Validation Accuracy  0.7156\n",
      "\n",
      " - Validation Accuracy (per class)\n",
      "   * Class 0\t 0.5723 [194 out of 339]\n",
      "   * Class 1\t 0.8403 [263 out of 313]\n",
      "   * Class 2\t 0.7468 [230 out of 308]\n",
      "   * Mean        0.7198\n",
      "\n",
      "> ATTENTION: epoch 50 was the best one so far! The model has been saved :)\n",
      "\n",
      "==================================================================================\n",
      "> Parameters imported\n",
      "> Dataset correctly divided in training set, validation set and test set\n",
      "> Created Pytorch datasets and dataloaders\n",
      "> Model 'LSTM_fixed' instantiated\n",
      "> Initialization required 0.104 seconds\n",
      "==================================================================================\n",
      "> Training Started\n",
      "  - Total Epochs: 50\n",
      "==================================================================================\n"
     ]
    },
    {
     "name": "stderr",
     "output_type": "stream",
     "text": [
      "> Epoch 1: 100%|██████████| 60/60 [00:41<00:00,  1.45it/s]\n"
     ]
    },
    {
     "name": "stdout",
     "output_type": "stream",
     "text": [
      " - Training Loss        1.1013\n",
      " - Validation Loss      1.1\n",
      " - Validation Accuracy  0.3438\n",
      "\n",
      " - Validation Accuracy (per class)\n",
      "   * Class 0\t 0.0531 [18 out of 339]\n",
      "   * Class 1\t 0.9201 [288 out of 313]\n",
      "   * Class 2\t 0.0779 [24 out of 308]\n",
      "   * Mean        0.3504\n",
      "\n",
      "> ATTENTION: epoch 1 was the best one so far! The model has been saved :)\n",
      "\n",
      "==================================================================================\n"
     ]
    },
    {
     "name": "stderr",
     "output_type": "stream",
     "text": [
      "> Epoch 2: 100%|██████████| 60/60 [00:41<00:00,  1.45it/s]\n"
     ]
    },
    {
     "name": "stdout",
     "output_type": "stream",
     "text": [
      " - Training Loss        1.0538\n",
      " - Validation Loss      1.1009\n",
      " - Validation Accuracy  0.3438\n",
      "\n",
      " - Validation Accuracy (per class)\n",
      "   * Class 0\t 0.0619 [21 out of 339]\n",
      "   * Class 1\t 0.9105 [285 out of 313]\n",
      "   * Class 2\t 0.0779 [24 out of 308]\n",
      "   * Mean        0.3501\n",
      "\n",
      "==================================================================================\n"
     ]
    },
    {
     "name": "stderr",
     "output_type": "stream",
     "text": [
      "> Epoch 3: 100%|██████████| 60/60 [00:41<00:00,  1.45it/s]\n"
     ]
    },
    {
     "name": "stdout",
     "output_type": "stream",
     "text": [
      " - Training Loss        1.0167\n",
      " - Validation Loss      1.1058\n",
      " - Validation Accuracy  0.3458\n",
      "\n",
      " - Validation Accuracy (per class)\n",
      "   * Class 0\t 0.0708 [24 out of 339]\n",
      "   * Class 1\t 0.9073 [284 out of 313]\n",
      "   * Class 2\t 0.0779 [24 out of 308]\n",
      "   * Mean        0.352\n",
      "\n",
      "> ATTENTION: epoch 3 was the best one so far! The model has been saved :)\n",
      "\n",
      "==================================================================================\n"
     ]
    },
    {
     "name": "stderr",
     "output_type": "stream",
     "text": [
      "> Epoch 4: 100%|██████████| 60/60 [00:41<00:00,  1.45it/s]\n"
     ]
    },
    {
     "name": "stdout",
     "output_type": "stream",
     "text": [
      " - Training Loss        0.9747\n",
      " - Validation Loss      1.1207\n",
      " - Validation Accuracy  0.3479\n",
      "\n",
      " - Validation Accuracy (per class)\n",
      "   * Class 0\t 0.0708 [24 out of 339]\n",
      "   * Class 1\t 0.9393 [294 out of 313]\n",
      "   * Class 2\t 0.0519 [16 out of 308]\n",
      "   * Mean        0.354\n",
      "\n",
      "> ATTENTION: epoch 4 was the best one so far! The model has been saved :)\n",
      "\n",
      "==================================================================================\n"
     ]
    },
    {
     "name": "stderr",
     "output_type": "stream",
     "text": [
      "> Epoch 5: 100%|██████████| 60/60 [00:41<00:00,  1.45it/s]\n"
     ]
    },
    {
     "name": "stdout",
     "output_type": "stream",
     "text": [
      " - Training Loss        0.9485\n",
      " - Validation Loss      1.1344\n",
      " - Validation Accuracy  0.3479\n",
      "\n",
      " - Validation Accuracy (per class)\n",
      "   * Class 0\t 0.0649 [22 out of 339]\n",
      "   * Class 1\t 0.9042 [283 out of 313]\n",
      "   * Class 2\t 0.0942 [29 out of 308]\n",
      "   * Mean        0.3544\n",
      "\n",
      "> ATTENTION: epoch 5 was the best one so far! The model has been saved :)\n",
      "\n",
      "==================================================================================\n"
     ]
    },
    {
     "name": "stderr",
     "output_type": "stream",
     "text": [
      "> Epoch 6: 100%|██████████| 60/60 [00:41<00:00,  1.44it/s]\n"
     ]
    },
    {
     "name": "stdout",
     "output_type": "stream",
     "text": [
      " - Training Loss        0.9341\n",
      " - Validation Loss      1.1567\n",
      " - Validation Accuracy  0.3479\n",
      "\n",
      " - Validation Accuracy (per class)\n",
      "   * Class 0\t 0.0472 [16 out of 339]\n",
      "   * Class 1\t 0.9361 [293 out of 313]\n",
      "   * Class 2\t 0.0812 [25 out of 308]\n",
      "   * Mean        0.3548\n",
      "\n",
      "> ATTENTION: epoch 6 was the best one so far! The model has been saved :)\n",
      "\n",
      "==================================================================================\n"
     ]
    },
    {
     "name": "stderr",
     "output_type": "stream",
     "text": [
      "> Epoch 7: 100%|██████████| 60/60 [00:41<00:00,  1.44it/s]\n"
     ]
    },
    {
     "name": "stdout",
     "output_type": "stream",
     "text": [
      " - Training Loss        0.9322\n",
      " - Validation Loss      1.1576\n",
      " - Validation Accuracy  0.3406\n",
      "\n",
      " - Validation Accuracy (per class)\n",
      "   * Class 0\t 0.056 [19 out of 339]\n",
      "   * Class 1\t 0.9105 [285 out of 313]\n",
      "   * Class 2\t 0.0747 [23 out of 308]\n",
      "   * Mean        0.3471\n",
      "\n",
      "==================================================================================\n"
     ]
    },
    {
     "name": "stderr",
     "output_type": "stream",
     "text": [
      "> Epoch 8: 100%|██████████| 60/60 [00:41<00:00,  1.44it/s]\n"
     ]
    },
    {
     "name": "stdout",
     "output_type": "stream",
     "text": [
      " - Training Loss        0.929\n",
      " - Validation Loss      1.1712\n",
      " - Validation Accuracy  0.3438\n",
      "\n",
      " - Validation Accuracy (per class)\n",
      "   * Class 0\t 0.056 [19 out of 339]\n",
      "   * Class 1\t 0.9169 [287 out of 313]\n",
      "   * Class 2\t 0.0779 [24 out of 308]\n",
      "   * Mean        0.3503\n",
      "\n",
      "==================================================================================\n"
     ]
    },
    {
     "name": "stderr",
     "output_type": "stream",
     "text": [
      "> Epoch 9: 100%|██████████| 60/60 [00:41<00:00,  1.44it/s]\n"
     ]
    },
    {
     "name": "stdout",
     "output_type": "stream",
     "text": [
      " - Training Loss        0.9274\n",
      " - Validation Loss      1.1917\n",
      " - Validation Accuracy  0.349\n",
      "\n",
      " - Validation Accuracy (per class)\n",
      "   * Class 0\t 0.059 [20 out of 339]\n",
      "   * Class 1\t 0.9105 [285 out of 313]\n",
      "   * Class 2\t 0.0974 [30 out of 308]\n",
      "   * Mean        0.3556\n",
      "\n",
      "> ATTENTION: epoch 9 was the best one so far! The model has been saved :)\n",
      "\n",
      "==================================================================================\n"
     ]
    },
    {
     "name": "stderr",
     "output_type": "stream",
     "text": [
      "> Epoch 10: 100%|██████████| 60/60 [00:41<00:00,  1.43it/s]\n"
     ]
    },
    {
     "name": "stdout",
     "output_type": "stream",
     "text": [
      " - Training Loss        0.9259\n",
      " - Validation Loss      1.2249\n",
      " - Validation Accuracy  0.3438\n",
      "\n",
      " - Validation Accuracy (per class)\n",
      "   * Class 0\t 0.0472 [16 out of 339]\n",
      "   * Class 1\t 0.9137 [286 out of 313]\n",
      "   * Class 2\t 0.0909 [28 out of 308]\n",
      "   * Mean        0.3506\n",
      "\n",
      "==================================================================================\n"
     ]
    },
    {
     "name": "stderr",
     "output_type": "stream",
     "text": [
      "> Epoch 11: 100%|██████████| 60/60 [00:41<00:00,  1.43it/s]\n"
     ]
    },
    {
     "name": "stdout",
     "output_type": "stream",
     "text": [
      " - Training Loss        0.9274\n",
      " - Validation Loss      1.2086\n",
      " - Validation Accuracy  0.3375\n",
      "\n",
      " - Validation Accuracy (per class)\n",
      "   * Class 0\t 0.0354 [12 out of 339]\n",
      "   * Class 1\t 0.9073 [284 out of 313]\n",
      "   * Class 2\t 0.0909 [28 out of 308]\n",
      "   * Mean        0.3445\n",
      "\n",
      "==================================================================================\n"
     ]
    },
    {
     "name": "stderr",
     "output_type": "stream",
     "text": [
      "> Epoch 12: 100%|██████████| 60/60 [00:41<00:00,  1.44it/s]\n"
     ]
    },
    {
     "name": "stdout",
     "output_type": "stream",
     "text": [
      " - Training Loss        0.927\n",
      " - Validation Loss      1.1887\n",
      " - Validation Accuracy  0.3333\n",
      "\n",
      " - Validation Accuracy (per class)\n",
      "   * Class 0\t 0.056 [19 out of 339]\n",
      "   * Class 1\t 0.0479 [15 out of 313]\n",
      "   * Class 2\t 0.9286 [286 out of 308]\n",
      "   * Mean        0.3442\n",
      "\n",
      "==================================================================================\n"
     ]
    },
    {
     "name": "stderr",
     "output_type": "stream",
     "text": [
      "> Epoch 13: 100%|██████████| 60/60 [00:41<00:00,  1.43it/s]\n"
     ]
    },
    {
     "name": "stdout",
     "output_type": "stream",
     "text": [
      " - Training Loss        0.9259\n",
      " - Validation Loss      1.1897\n",
      " - Validation Accuracy  0.3448\n",
      "\n",
      " - Validation Accuracy (per class)\n",
      "   * Class 0\t 0.059 [20 out of 339]\n",
      "   * Class 1\t 0.9105 [285 out of 313]\n",
      "   * Class 2\t 0.0844 [26 out of 308]\n",
      "   * Mean        0.3513\n",
      "\n",
      "==================================================================================\n"
     ]
    },
    {
     "name": "stderr",
     "output_type": "stream",
     "text": [
      "> Epoch 14: 100%|██████████| 60/60 [00:41<00:00,  1.43it/s]\n"
     ]
    },
    {
     "name": "stdout",
     "output_type": "stream",
     "text": [
      " - Training Loss        0.925\n",
      " - Validation Loss      1.1991\n",
      " - Validation Accuracy  0.3479\n",
      "\n",
      " - Validation Accuracy (per class)\n",
      "   * Class 0\t 0.0649 [22 out of 339]\n",
      "   * Class 1\t 0.9137 [286 out of 313]\n",
      "   * Class 2\t 0.0844 [26 out of 308]\n",
      "   * Mean        0.3543\n",
      "\n",
      "==================================================================================\n"
     ]
    },
    {
     "name": "stderr",
     "output_type": "stream",
     "text": [
      "> Epoch 15: 100%|██████████| 60/60 [00:42<00:00,  1.42it/s]\n"
     ]
    },
    {
     "name": "stdout",
     "output_type": "stream",
     "text": [
      " - Training Loss        0.9244\n",
      " - Validation Loss      1.2222\n",
      " - Validation Accuracy  0.35\n",
      "\n",
      " - Validation Accuracy (per class)\n",
      "   * Class 0\t 0.0649 [22 out of 339]\n",
      "   * Class 1\t 0.9169 [287 out of 313]\n",
      "   * Class 2\t 0.0877 [27 out of 308]\n",
      "   * Mean        0.3565\n",
      "\n",
      "> ATTENTION: epoch 15 was the best one so far! The model has been saved :)\n",
      "\n",
      "==================================================================================\n"
     ]
    },
    {
     "name": "stderr",
     "output_type": "stream",
     "text": [
      "> Epoch 16: 100%|██████████| 60/60 [00:42<00:00,  1.42it/s]\n"
     ]
    },
    {
     "name": "stdout",
     "output_type": "stream",
     "text": [
      " - Training Loss        0.9246\n",
      " - Validation Loss      1.1952\n",
      " - Validation Accuracy  0.3406\n",
      "\n",
      " - Validation Accuracy (per class)\n",
      "   * Class 0\t 0.0472 [16 out of 339]\n",
      "   * Class 1\t 0.9169 [287 out of 313]\n",
      "   * Class 2\t 0.0779 [24 out of 308]\n",
      "   * Mean        0.3473\n",
      "\n",
      "==================================================================================\n"
     ]
    },
    {
     "name": "stderr",
     "output_type": "stream",
     "text": [
      "> Epoch 17: 100%|██████████| 60/60 [00:41<00:00,  1.44it/s]\n"
     ]
    },
    {
     "name": "stdout",
     "output_type": "stream",
     "text": [
      " - Training Loss        0.9272\n",
      " - Validation Loss      1.2254\n",
      " - Validation Accuracy  0.3458\n",
      "\n",
      " - Validation Accuracy (per class)\n",
      "   * Class 0\t 0.0413 [14 out of 339]\n",
      "   * Class 1\t 0.9042 [283 out of 313]\n",
      "   * Class 2\t 0.1136 [35 out of 308]\n",
      "   * Mean        0.353\n",
      "\n",
      "==================================================================================\n"
     ]
    },
    {
     "name": "stderr",
     "output_type": "stream",
     "text": [
      "> Epoch 18: 100%|██████████| 60/60 [00:41<00:00,  1.43it/s]\n"
     ]
    },
    {
     "name": "stdout",
     "output_type": "stream",
     "text": [
      " - Training Loss        0.9251\n",
      " - Validation Loss      1.1788\n",
      " - Validation Accuracy  0.3438\n",
      "\n",
      " - Validation Accuracy (per class)\n",
      "   * Class 0\t 0.0649 [22 out of 339]\n",
      "   * Class 1\t 0.9137 [286 out of 313]\n",
      "   * Class 2\t 0.0714 [22 out of 308]\n",
      "   * Mean        0.35\n",
      "\n",
      "==================================================================================\n"
     ]
    },
    {
     "name": "stderr",
     "output_type": "stream",
     "text": [
      "> Epoch 19: 100%|██████████| 60/60 [00:41<00:00,  1.43it/s]\n"
     ]
    },
    {
     "name": "stdout",
     "output_type": "stream",
     "text": [
      " - Training Loss        0.9245\n",
      " - Validation Loss      1.2011\n",
      " - Validation Accuracy  0.3469\n",
      "\n",
      " - Validation Accuracy (per class)\n",
      "   * Class 0\t 0.0649 [22 out of 339]\n",
      "   * Class 1\t 0.9042 [283 out of 313]\n",
      "   * Class 2\t 0.0909 [28 out of 308]\n",
      "   * Mean        0.3533\n",
      "\n",
      "==================================================================================\n"
     ]
    },
    {
     "name": "stderr",
     "output_type": "stream",
     "text": [
      "> Epoch 20: 100%|██████████| 60/60 [00:42<00:00,  1.42it/s]\n"
     ]
    },
    {
     "name": "stdout",
     "output_type": "stream",
     "text": [
      " - Training Loss        0.9241\n",
      " - Validation Loss      1.2252\n",
      " - Validation Accuracy  0.351\n",
      "\n",
      " - Validation Accuracy (per class)\n",
      "   * Class 0\t 0.0767 [26 out of 339]\n",
      "   * Class 1\t 0.9073 [284 out of 313]\n",
      "   * Class 2\t 0.0877 [27 out of 308]\n",
      "   * Mean        0.3572\n",
      "\n",
      "> ATTENTION: epoch 20 was the best one so far! The model has been saved :)\n",
      "\n",
      "==================================================================================\n"
     ]
    },
    {
     "name": "stderr",
     "output_type": "stream",
     "text": [
      "> Epoch 21: 100%|██████████| 60/60 [00:42<00:00,  1.42it/s]\n"
     ]
    },
    {
     "name": "stdout",
     "output_type": "stream",
     "text": [
      " - Training Loss        0.9241\n",
      " - Validation Loss      1.206\n",
      " - Validation Accuracy  0.35\n",
      "\n",
      " - Validation Accuracy (per class)\n",
      "   * Class 0\t 0.0678 [23 out of 339]\n",
      "   * Class 1\t 0.901 [282 out of 313]\n",
      "   * Class 2\t 0.1006 [31 out of 308]\n",
      "   * Mean        0.3565\n",
      "\n",
      "==================================================================================\n"
     ]
    },
    {
     "name": "stderr",
     "output_type": "stream",
     "text": [
      "> Epoch 22: 100%|██████████| 60/60 [00:42<00:00,  1.42it/s]\n"
     ]
    },
    {
     "name": "stdout",
     "output_type": "stream",
     "text": [
      " - Training Loss        0.9305\n",
      " - Validation Loss      1.1942\n",
      " - Validation Accuracy  0.3479\n",
      "\n",
      " - Validation Accuracy (per class)\n",
      "   * Class 0\t 0.0708 [24 out of 339]\n",
      "   * Class 1\t 0.8978 [281 out of 313]\n",
      "   * Class 2\t 0.0942 [29 out of 308]\n",
      "   * Mean        0.3543\n",
      "\n",
      "==================================================================================\n"
     ]
    },
    {
     "name": "stderr",
     "output_type": "stream",
     "text": [
      "> Epoch 23: 100%|██████████| 60/60 [00:41<00:00,  1.44it/s]\n"
     ]
    },
    {
     "name": "stdout",
     "output_type": "stream",
     "text": [
      " - Training Loss        0.9288\n",
      " - Validation Loss      1.1914\n",
      " - Validation Accuracy  0.3479\n",
      "\n",
      " - Validation Accuracy (per class)\n",
      "   * Class 0\t 0.0619 [21 out of 339]\n",
      "   * Class 1\t 0.9042 [283 out of 313]\n",
      "   * Class 2\t 0.0974 [30 out of 308]\n",
      "   * Mean        0.3545\n",
      "\n",
      "==================================================================================\n"
     ]
    },
    {
     "name": "stderr",
     "output_type": "stream",
     "text": [
      "> Epoch 24: 100%|██████████| 60/60 [00:43<00:00,  1.37it/s]\n"
     ]
    },
    {
     "name": "stdout",
     "output_type": "stream",
     "text": [
      " - Training Loss        0.9259\n",
      " - Validation Loss      1.1965\n",
      " - Validation Accuracy  0.349\n",
      "\n",
      " - Validation Accuracy (per class)\n",
      "   * Class 0\t 0.0649 [22 out of 339]\n",
      "   * Class 1\t 0.9105 [285 out of 313]\n",
      "   * Class 2\t 0.0909 [28 out of 308]\n",
      "   * Mean        0.3554\n",
      "\n",
      "==================================================================================\n"
     ]
    },
    {
     "name": "stderr",
     "output_type": "stream",
     "text": [
      "> Epoch 25: 100%|██████████| 60/60 [01:29<00:00,  1.49s/it]\n"
     ]
    },
    {
     "name": "stdout",
     "output_type": "stream",
     "text": [
      " - Training Loss        0.9254\n",
      " - Validation Loss      1.2108\n",
      " - Validation Accuracy  0.351\n",
      "\n",
      " - Validation Accuracy (per class)\n",
      "   * Class 0\t 0.0649 [22 out of 339]\n",
      "   * Class 1\t 0.9105 [285 out of 313]\n",
      "   * Class 2\t 0.0974 [30 out of 308]\n",
      "   * Mean        0.3576\n",
      "\n",
      "> ATTENTION: epoch 25 was the best one so far! The model has been saved :)\n",
      "\n",
      "==================================================================================\n"
     ]
    },
    {
     "name": "stderr",
     "output_type": "stream",
     "text": [
      "> Epoch 26: 100%|██████████| 60/60 [00:50<00:00,  1.19it/s]\n"
     ]
    },
    {
     "name": "stdout",
     "output_type": "stream",
     "text": [
      " - Training Loss        0.9241\n",
      " - Validation Loss      1.2309\n",
      " - Validation Accuracy  0.3531\n",
      "\n",
      " - Validation Accuracy (per class)\n",
      "   * Class 0\t 0.0767 [26 out of 339]\n",
      "   * Class 1\t 0.8978 [281 out of 313]\n",
      "   * Class 2\t 0.1039 [32 out of 308]\n",
      "   * Mean        0.3595\n",
      "\n",
      "> ATTENTION: epoch 26 was the best one so far! The model has been saved :)\n",
      "\n",
      "==================================================================================\n"
     ]
    },
    {
     "name": "stderr",
     "output_type": "stream",
     "text": [
      "> Epoch 27: 100%|██████████| 60/60 [00:48<00:00,  1.23it/s]\n"
     ]
    },
    {
     "name": "stdout",
     "output_type": "stream",
     "text": [
      " - Training Loss        0.9263\n",
      " - Validation Loss      1.1975\n",
      " - Validation Accuracy  0.349\n",
      "\n",
      " - Validation Accuracy (per class)\n",
      "   * Class 0\t 0.0708 [24 out of 339]\n",
      "   * Class 1\t 0.9042 [283 out of 313]\n",
      "   * Class 2\t 0.0909 [28 out of 308]\n",
      "   * Mean        0.3553\n",
      "\n",
      "==================================================================================\n"
     ]
    },
    {
     "name": "stderr",
     "output_type": "stream",
     "text": [
      "> Epoch 28: 100%|██████████| 60/60 [00:45<00:00,  1.31it/s]\n"
     ]
    },
    {
     "name": "stdout",
     "output_type": "stream",
     "text": [
      " - Training Loss        0.925\n",
      " - Validation Loss      1.2076\n",
      " - Validation Accuracy  0.351\n",
      "\n",
      " - Validation Accuracy (per class)\n",
      "   * Class 0\t 0.0678 [23 out of 339]\n",
      "   * Class 1\t 0.9073 [284 out of 313]\n",
      "   * Class 2\t 0.0974 [30 out of 308]\n",
      "   * Mean        0.3575\n",
      "\n",
      "==================================================================================\n"
     ]
    },
    {
     "name": "stderr",
     "output_type": "stream",
     "text": [
      "> Epoch 29: 100%|██████████| 60/60 [00:47<00:00,  1.28it/s]\n"
     ]
    },
    {
     "name": "stdout",
     "output_type": "stream",
     "text": [
      " - Training Loss        0.9241\n",
      " - Validation Loss      1.2185\n",
      " - Validation Accuracy  0.3469\n",
      "\n",
      " - Validation Accuracy (per class)\n",
      "   * Class 0\t 0.0678 [23 out of 339]\n",
      "   * Class 1\t 0.901 [282 out of 313]\n",
      "   * Class 2\t 0.0909 [28 out of 308]\n",
      "   * Mean        0.3532\n",
      "\n",
      "==================================================================================\n"
     ]
    },
    {
     "name": "stderr",
     "output_type": "stream",
     "text": [
      "> Epoch 30: 100%|██████████| 60/60 [00:54<00:00,  1.10it/s]\n"
     ]
    },
    {
     "name": "stdout",
     "output_type": "stream",
     "text": [
      " - Training Loss        0.9235\n",
      " - Validation Loss      1.2326\n",
      " - Validation Accuracy  0.3458\n",
      "\n",
      " - Validation Accuracy (per class)\n",
      "   * Class 0\t 0.0678 [23 out of 339]\n",
      "   * Class 1\t 0.8978 [281 out of 313]\n",
      "   * Class 2\t 0.0909 [28 out of 308]\n",
      "   * Mean        0.3522\n",
      "\n",
      "==================================================================================\n"
     ]
    },
    {
     "name": "stderr",
     "output_type": "stream",
     "text": [
      "> Epoch 31: 100%|██████████| 60/60 [00:42<00:00,  1.41it/s]\n"
     ]
    },
    {
     "name": "stdout",
     "output_type": "stream",
     "text": [
      " - Training Loss        0.9237\n",
      " - Validation Loss      1.2243\n",
      " - Validation Accuracy  0.3458\n",
      "\n",
      " - Validation Accuracy (per class)\n",
      "   * Class 0\t 0.0708 [24 out of 339]\n",
      "   * Class 1\t 0.901 [282 out of 313]\n",
      "   * Class 2\t 0.0844 [26 out of 308]\n",
      "   * Mean        0.3521\n",
      "\n",
      "==================================================================================\n"
     ]
    },
    {
     "name": "stderr",
     "output_type": "stream",
     "text": [
      "> Epoch 32: 100%|██████████| 60/60 [00:42<00:00,  1.41it/s]\n"
     ]
    },
    {
     "name": "stdout",
     "output_type": "stream",
     "text": [
      " - Training Loss        0.923\n",
      " - Validation Loss      1.237\n",
      " - Validation Accuracy  0.3438\n",
      "\n",
      " - Validation Accuracy (per class)\n",
      "   * Class 0\t 0.0678 [23 out of 339]\n",
      "   * Class 1\t 0.901 [282 out of 313]\n",
      "   * Class 2\t 0.0812 [25 out of 308]\n",
      "   * Mean        0.35\n",
      "\n",
      "==================================================================================\n"
     ]
    },
    {
     "name": "stderr",
     "output_type": "stream",
     "text": [
      "> Epoch 33: 100%|██████████| 60/60 [00:42<00:00,  1.41it/s]\n"
     ]
    },
    {
     "name": "stdout",
     "output_type": "stream",
     "text": [
      " - Training Loss        0.9228\n",
      " - Validation Loss      1.249\n",
      " - Validation Accuracy  0.349\n",
      "\n",
      " - Validation Accuracy (per class)\n",
      "   * Class 0\t 0.0678 [23 out of 339]\n",
      "   * Class 1\t 0.8978 [281 out of 313]\n",
      "   * Class 2\t 0.1006 [31 out of 308]\n",
      "   * Mean        0.3554\n",
      "\n",
      "==================================================================================\n"
     ]
    },
    {
     "name": "stderr",
     "output_type": "stream",
     "text": [
      "> Epoch 34: 100%|██████████| 60/60 [00:42<00:00,  1.41it/s]\n"
     ]
    },
    {
     "name": "stdout",
     "output_type": "stream",
     "text": [
      " - Training Loss        0.9257\n",
      " - Validation Loss      1.2688\n",
      " - Validation Accuracy  0.3479\n",
      "\n",
      " - Validation Accuracy (per class)\n",
      "   * Class 0\t 0.0619 [21 out of 339]\n",
      "   * Class 1\t 0.901 [282 out of 313]\n",
      "   * Class 2\t 0.1006 [31 out of 308]\n",
      "   * Mean        0.3545\n",
      "\n",
      "==================================================================================\n"
     ]
    },
    {
     "name": "stderr",
     "output_type": "stream",
     "text": [
      "> Epoch 35: 100%|██████████| 60/60 [00:42<00:00,  1.41it/s]\n"
     ]
    },
    {
     "name": "stdout",
     "output_type": "stream",
     "text": [
      " - Training Loss        0.9963\n",
      " - Validation Loss      1.2254\n",
      " - Validation Accuracy  0.3479\n",
      "\n",
      " - Validation Accuracy (per class)\n",
      "   * Class 0\t 0.0678 [23 out of 339]\n",
      "   * Class 1\t 0.9201 [288 out of 313]\n",
      "   * Class 2\t 0.0747 [23 out of 308]\n",
      "   * Mean        0.3542\n",
      "\n",
      "==================================================================================\n"
     ]
    },
    {
     "name": "stderr",
     "output_type": "stream",
     "text": [
      "> Epoch 36: 100%|██████████| 60/60 [00:42<00:00,  1.42it/s]\n"
     ]
    },
    {
     "name": "stdout",
     "output_type": "stream",
     "text": [
      " - Training Loss        0.9288\n",
      " - Validation Loss      1.1813\n",
      " - Validation Accuracy  0.3438\n",
      "\n",
      " - Validation Accuracy (per class)\n",
      "   * Class 0\t 0.0619 [21 out of 339]\n",
      "   * Class 1\t 0.9042 [283 out of 313]\n",
      "   * Class 2\t 0.0844 [26 out of 308]\n",
      "   * Mean        0.3502\n",
      "\n",
      "==================================================================================\n"
     ]
    },
    {
     "name": "stderr",
     "output_type": "stream",
     "text": [
      "> Epoch 37: 100%|██████████| 60/60 [00:42<00:00,  1.41it/s]\n"
     ]
    },
    {
     "name": "stdout",
     "output_type": "stream",
     "text": [
      " - Training Loss        0.9252\n",
      " - Validation Loss      1.1971\n",
      " - Validation Accuracy  0.3448\n",
      "\n",
      " - Validation Accuracy (per class)\n",
      "   * Class 0\t 0.0619 [21 out of 339]\n",
      "   * Class 1\t 0.9042 [283 out of 313]\n",
      "   * Class 2\t 0.0877 [27 out of 308]\n",
      "   * Mean        0.3513\n",
      "\n",
      "==================================================================================\n"
     ]
    },
    {
     "name": "stderr",
     "output_type": "stream",
     "text": [
      "> Epoch 38: 100%|██████████| 60/60 [00:42<00:00,  1.42it/s]\n"
     ]
    },
    {
     "name": "stdout",
     "output_type": "stream",
     "text": [
      " - Training Loss        0.9247\n",
      " - Validation Loss      1.2121\n",
      " - Validation Accuracy  0.3469\n",
      "\n",
      " - Validation Accuracy (per class)\n",
      "   * Class 0\t 0.0531 [18 out of 339]\n",
      "   * Class 1\t 0.9073 [284 out of 313]\n",
      "   * Class 2\t 0.1006 [31 out of 308]\n",
      "   * Mean        0.3537\n",
      "\n",
      "==================================================================================\n"
     ]
    },
    {
     "name": "stderr",
     "output_type": "stream",
     "text": [
      "> Epoch 39: 100%|██████████| 60/60 [00:42<00:00,  1.43it/s]\n"
     ]
    },
    {
     "name": "stdout",
     "output_type": "stream",
     "text": [
      " - Training Loss        0.9243\n",
      " - Validation Loss      1.2196\n",
      " - Validation Accuracy  0.3458\n",
      "\n",
      " - Validation Accuracy (per class)\n",
      "   * Class 0\t 0.056 [19 out of 339]\n",
      "   * Class 1\t 0.9042 [283 out of 313]\n",
      "   * Class 2\t 0.0974 [30 out of 308]\n",
      "   * Mean        0.3525\n",
      "\n",
      "==================================================================================\n"
     ]
    },
    {
     "name": "stderr",
     "output_type": "stream",
     "text": [
      "> Epoch 40: 100%|██████████| 60/60 [00:42<00:00,  1.42it/s]\n"
     ]
    },
    {
     "name": "stdout",
     "output_type": "stream",
     "text": [
      " - Training Loss        0.9239\n",
      " - Validation Loss      1.2341\n",
      " - Validation Accuracy  0.3469\n",
      "\n",
      " - Validation Accuracy (per class)\n",
      "   * Class 0\t 0.0649 [22 out of 339]\n",
      "   * Class 1\t 0.8946 [280 out of 313]\n",
      "   * Class 2\t 0.1006 [31 out of 308]\n",
      "   * Mean        0.3534\n",
      "\n",
      "==================================================================================\n"
     ]
    },
    {
     "name": "stderr",
     "output_type": "stream",
     "text": [
      "> Epoch 41: 100%|██████████| 60/60 [00:42<00:00,  1.42it/s]\n"
     ]
    },
    {
     "name": "stdout",
     "output_type": "stream",
     "text": [
      " - Training Loss        0.9244\n",
      " - Validation Loss      1.2072\n",
      " - Validation Accuracy  0.3438\n",
      "\n",
      " - Validation Accuracy (per class)\n",
      "   * Class 0\t 0.0501 [17 out of 339]\n",
      "   * Class 1\t 0.9169 [287 out of 313]\n",
      "   * Class 2\t 0.0844 [26 out of 308]\n",
      "   * Mean        0.3505\n",
      "\n",
      "==================================================================================\n"
     ]
    },
    {
     "name": "stderr",
     "output_type": "stream",
     "text": [
      "> Epoch 42: 100%|██████████| 60/60 [00:42<00:00,  1.42it/s]\n"
     ]
    },
    {
     "name": "stdout",
     "output_type": "stream",
     "text": [
      " - Training Loss        0.9252\n",
      " - Validation Loss      1.1996\n",
      " - Validation Accuracy  0.3448\n",
      "\n",
      " - Validation Accuracy (per class)\n",
      "   * Class 0\t 0.0649 [22 out of 339]\n",
      "   * Class 1\t 0.9042 [283 out of 313]\n",
      "   * Class 2\t 0.0844 [26 out of 308]\n",
      "   * Mean        0.3512\n",
      "\n",
      "==================================================================================\n"
     ]
    },
    {
     "name": "stderr",
     "output_type": "stream",
     "text": [
      "> Epoch 43: 100%|██████████| 60/60 [00:42<00:00,  1.43it/s]\n"
     ]
    },
    {
     "name": "stdout",
     "output_type": "stream",
     "text": [
      " - Training Loss        0.9244\n",
      " - Validation Loss      1.2113\n",
      " - Validation Accuracy  0.3458\n",
      "\n",
      " - Validation Accuracy (per class)\n",
      "   * Class 0\t 0.0619 [21 out of 339]\n",
      "   * Class 1\t 0.9042 [283 out of 313]\n",
      "   * Class 2\t 0.0909 [28 out of 308]\n",
      "   * Mean        0.3523\n",
      "\n",
      "==================================================================================\n"
     ]
    },
    {
     "name": "stderr",
     "output_type": "stream",
     "text": [
      "> Epoch 44: 100%|██████████| 60/60 [00:41<00:00,  1.43it/s]\n"
     ]
    },
    {
     "name": "stdout",
     "output_type": "stream",
     "text": [
      " - Training Loss        0.9243\n",
      " - Validation Loss      1.2171\n",
      " - Validation Accuracy  0.3458\n",
      "\n",
      " - Validation Accuracy (per class)\n",
      "   * Class 0\t 0.0619 [21 out of 339]\n",
      "   * Class 1\t 0.9042 [283 out of 313]\n",
      "   * Class 2\t 0.0909 [28 out of 308]\n",
      "   * Mean        0.3523\n",
      "\n",
      "==================================================================================\n"
     ]
    },
    {
     "name": "stderr",
     "output_type": "stream",
     "text": [
      "> Epoch 45: 100%|██████████| 60/60 [00:41<00:00,  1.43it/s]\n"
     ]
    },
    {
     "name": "stdout",
     "output_type": "stream",
     "text": [
      " - Training Loss        0.924\n",
      " - Validation Loss      1.2248\n",
      " - Validation Accuracy  0.3458\n",
      "\n",
      " - Validation Accuracy (per class)\n",
      "   * Class 0\t 0.0619 [21 out of 339]\n",
      "   * Class 1\t 0.9042 [283 out of 313]\n",
      "   * Class 2\t 0.0909 [28 out of 308]\n",
      "   * Mean        0.3523\n",
      "\n",
      "==================================================================================\n"
     ]
    },
    {
     "name": "stderr",
     "output_type": "stream",
     "text": [
      "> Epoch 46: 100%|██████████| 60/60 [00:42<00:00,  1.43it/s]\n"
     ]
    },
    {
     "name": "stdout",
     "output_type": "stream",
     "text": [
      " - Training Loss        0.924\n",
      " - Validation Loss      1.2308\n",
      " - Validation Accuracy  0.3438\n",
      "\n",
      " - Validation Accuracy (per class)\n",
      "   * Class 0\t 0.0619 [21 out of 339]\n",
      "   * Class 1\t 0.9042 [283 out of 313]\n",
      "   * Class 2\t 0.0844 [26 out of 308]\n",
      "   * Mean        0.3502\n",
      "\n",
      "==================================================================================\n"
     ]
    },
    {
     "name": "stderr",
     "output_type": "stream",
     "text": [
      "> Epoch 47: 100%|██████████| 60/60 [00:42<00:00,  1.43it/s]\n"
     ]
    },
    {
     "name": "stdout",
     "output_type": "stream",
     "text": [
      " - Training Loss        0.9239\n",
      " - Validation Loss      1.2385\n",
      " - Validation Accuracy  0.3438\n",
      "\n",
      " - Validation Accuracy (per class)\n",
      "   * Class 0\t 0.059 [20 out of 339]\n",
      "   * Class 1\t 0.9042 [283 out of 313]\n",
      "   * Class 2\t 0.0877 [27 out of 308]\n",
      "   * Mean        0.3503\n",
      "\n",
      "==================================================================================\n"
     ]
    },
    {
     "name": "stderr",
     "output_type": "stream",
     "text": [
      "> Epoch 48: 100%|██████████| 60/60 [00:42<00:00,  1.42it/s]\n"
     ]
    },
    {
     "name": "stdout",
     "output_type": "stream",
     "text": [
      " - Training Loss        0.9236\n",
      " - Validation Loss      1.2456\n",
      " - Validation Accuracy  0.3448\n",
      "\n",
      " - Validation Accuracy (per class)\n",
      "   * Class 0\t 0.0649 [22 out of 339]\n",
      "   * Class 1\t 0.901 [282 out of 313]\n",
      "   * Class 2\t 0.0877 [27 out of 308]\n",
      "   * Mean        0.3512\n",
      "\n",
      "==================================================================================\n"
     ]
    },
    {
     "name": "stderr",
     "output_type": "stream",
     "text": [
      "> Epoch 49: 100%|██████████| 60/60 [00:42<00:00,  1.42it/s]\n"
     ]
    },
    {
     "name": "stdout",
     "output_type": "stream",
     "text": [
      " - Training Loss        0.9235\n",
      " - Validation Loss      1.2547\n",
      " - Validation Accuracy  0.3469\n",
      "\n",
      " - Validation Accuracy (per class)\n",
      "   * Class 0\t 0.0619 [21 out of 339]\n",
      "   * Class 1\t 0.9042 [283 out of 313]\n",
      "   * Class 2\t 0.0942 [29 out of 308]\n",
      "   * Mean        0.3534\n",
      "\n",
      "==================================================================================\n"
     ]
    },
    {
     "name": "stderr",
     "output_type": "stream",
     "text": [
      "> Epoch 50: 100%|██████████| 60/60 [00:42<00:00,  1.41it/s]\n"
     ]
    },
    {
     "name": "stdout",
     "output_type": "stream",
     "text": [
      " - Training Loss        0.9232\n",
      " - Validation Loss      1.2665\n",
      " - Validation Accuracy  0.3448\n",
      "\n",
      " - Validation Accuracy (per class)\n",
      "   * Class 0\t 0.0649 [22 out of 339]\n",
      "   * Class 1\t 0.8978 [281 out of 313]\n",
      "   * Class 2\t 0.0909 [28 out of 308]\n",
      "   * Mean        0.3512\n",
      "\n",
      "==================================================================================\n",
      "> Parameters imported\n",
      "> Dataset correctly divided in training set, validation set and test set\n",
      "> Created Pytorch datasets and dataloaders\n",
      "> Model 'LSTM_fixed' instantiated\n",
      "> Initialization required 0.113 seconds\n",
      "==================================================================================\n",
      "> Training Started\n",
      "  - Total Epochs: 50\n",
      "==================================================================================\n"
     ]
    },
    {
     "name": "stderr",
     "output_type": "stream",
     "text": [
      "> Epoch 1: 100%|██████████| 60/60 [00:41<00:00,  1.44it/s]\n"
     ]
    },
    {
     "name": "stdout",
     "output_type": "stream",
     "text": [
      " - Training Loss        1.1015\n",
      " - Validation Loss      1.1019\n",
      " - Validation Accuracy  0.3427\n",
      "\n",
      " - Validation Accuracy (per class)\n",
      "   * Class 0\t 0.0442 [15 out of 339]\n",
      "   * Class 1\t 0.901 [282 out of 313]\n",
      "   * Class 2\t 0.1039 [32 out of 308]\n",
      "   * Mean        0.3497\n",
      "\n",
      "> ATTENTION: epoch 1 was the best one so far! The model has been saved :)\n",
      "\n",
      "==================================================================================\n"
     ]
    },
    {
     "name": "stderr",
     "output_type": "stream",
     "text": [
      "> Epoch 2: 100%|██████████| 60/60 [00:41<00:00,  1.44it/s]\n"
     ]
    },
    {
     "name": "stdout",
     "output_type": "stream",
     "text": [
      " - Training Loss        1.0618\n",
      " - Validation Loss      1.1042\n",
      " - Validation Accuracy  0.3448\n",
      "\n",
      " - Validation Accuracy (per class)\n",
      "   * Class 0\t 0.0737 [25 out of 339]\n",
      "   * Class 1\t 0.8978 [281 out of 313]\n",
      "   * Class 2\t 0.0812 [25 out of 308]\n",
      "   * Mean        0.3509\n",
      "\n",
      "> ATTENTION: epoch 2 was the best one so far! The model has been saved :)\n",
      "\n",
      "==================================================================================\n"
     ]
    },
    {
     "name": "stderr",
     "output_type": "stream",
     "text": [
      "> Epoch 3: 100%|██████████| 60/60 [00:41<00:00,  1.43it/s]\n"
     ]
    },
    {
     "name": "stdout",
     "output_type": "stream",
     "text": [
      " - Training Loss        1.0296\n",
      " - Validation Loss      1.1068\n",
      " - Validation Accuracy  0.349\n",
      "\n",
      " - Validation Accuracy (per class)\n",
      "   * Class 0\t 0.0649 [22 out of 339]\n",
      "   * Class 1\t 0.9393 [294 out of 313]\n",
      "   * Class 2\t 0.0617 [19 out of 308]\n",
      "   * Mean        0.3553\n",
      "\n",
      "> ATTENTION: epoch 3 was the best one so far! The model has been saved :)\n",
      "\n",
      "==================================================================================\n"
     ]
    },
    {
     "name": "stderr",
     "output_type": "stream",
     "text": [
      "> Epoch 4: 100%|██████████| 60/60 [00:41<00:00,  1.43it/s]\n"
     ]
    },
    {
     "name": "stdout",
     "output_type": "stream",
     "text": [
      " - Training Loss        0.9917\n",
      " - Validation Loss      1.113\n",
      " - Validation Accuracy  0.3313\n",
      "\n",
      " - Validation Accuracy (per class)\n",
      "   * Class 0\t 0.0885 [30 out of 339]\n",
      "   * Class 1\t 0.0288 [9 out of 313]\n",
      "   * Class 2\t 0.9058 [279 out of 308]\n",
      "   * Mean        0.341\n",
      "\n",
      "==================================================================================\n"
     ]
    },
    {
     "name": "stderr",
     "output_type": "stream",
     "text": [
      "> Epoch 5: 100%|██████████| 60/60 [00:41<00:00,  1.43it/s]\n"
     ]
    },
    {
     "name": "stdout",
     "output_type": "stream",
     "text": [
      " - Training Loss        0.9621\n",
      " - Validation Loss      1.125\n",
      " - Validation Accuracy  0.3469\n",
      "\n",
      " - Validation Accuracy (per class)\n",
      "   * Class 0\t 0.0531 [18 out of 339]\n",
      "   * Class 1\t 0.9393 [294 out of 313]\n",
      "   * Class 2\t 0.0682 [21 out of 308]\n",
      "   * Mean        0.3535\n",
      "\n",
      "==================================================================================\n"
     ]
    },
    {
     "name": "stderr",
     "output_type": "stream",
     "text": [
      "> Epoch 6: 100%|██████████| 60/60 [00:41<00:00,  1.43it/s]\n"
     ]
    },
    {
     "name": "stdout",
     "output_type": "stream",
     "text": [
      " - Training Loss        0.9409\n",
      " - Validation Loss      1.1558\n",
      " - Validation Accuracy  0.3427\n",
      "\n",
      " - Validation Accuracy (per class)\n",
      "   * Class 0\t 0.0531 [18 out of 339]\n",
      "   * Class 1\t 0.9073 [284 out of 313]\n",
      "   * Class 2\t 0.0877 [27 out of 308]\n",
      "   * Mean        0.3494\n",
      "\n",
      "==================================================================================\n"
     ]
    },
    {
     "name": "stderr",
     "output_type": "stream",
     "text": [
      "> Epoch 7: 100%|██████████| 60/60 [00:41<00:00,  1.43it/s]\n"
     ]
    },
    {
     "name": "stdout",
     "output_type": "stream",
     "text": [
      " - Training Loss        0.9343\n",
      " - Validation Loss      1.1577\n",
      " - Validation Accuracy  0.3479\n",
      "\n",
      " - Validation Accuracy (per class)\n",
      "   * Class 0\t 0.0885 [30 out of 339]\n",
      "   * Class 1\t 0.901 [282 out of 313]\n",
      "   * Class 2\t 0.0714 [22 out of 308]\n",
      "   * Mean        0.3536\n",
      "\n",
      "==================================================================================\n"
     ]
    },
    {
     "name": "stderr",
     "output_type": "stream",
     "text": [
      "> Epoch 8: 100%|██████████| 60/60 [00:42<00:00,  1.43it/s]\n"
     ]
    },
    {
     "name": "stdout",
     "output_type": "stream",
     "text": [
      " - Training Loss        0.932\n",
      " - Validation Loss      1.1771\n",
      " - Validation Accuracy  0.3438\n",
      "\n",
      " - Validation Accuracy (per class)\n",
      "   * Class 0\t 0.0501 [17 out of 339]\n",
      "   * Class 1\t 0.9105 [285 out of 313]\n",
      "   * Class 2\t 0.0909 [28 out of 308]\n",
      "   * Mean        0.3505\n",
      "\n",
      "==================================================================================\n"
     ]
    },
    {
     "name": "stderr",
     "output_type": "stream",
     "text": [
      "> Epoch 9: 100%|██████████| 60/60 [00:42<00:00,  1.42it/s]\n"
     ]
    },
    {
     "name": "stdout",
     "output_type": "stream",
     "text": [
      " - Training Loss        0.9279\n",
      " - Validation Loss      1.2096\n",
      " - Validation Accuracy  0.3448\n",
      "\n",
      " - Validation Accuracy (per class)\n",
      "   * Class 0\t 0.056 [19 out of 339]\n",
      "   * Class 1\t 0.9137 [286 out of 313]\n",
      "   * Class 2\t 0.0844 [26 out of 308]\n",
      "   * Mean        0.3514\n",
      "\n",
      "==================================================================================\n"
     ]
    },
    {
     "name": "stderr",
     "output_type": "stream",
     "text": [
      "> Epoch 10: 100%|██████████| 60/60 [00:42<00:00,  1.42it/s]\n"
     ]
    },
    {
     "name": "stdout",
     "output_type": "stream",
     "text": [
      " - Training Loss        0.9272\n",
      " - Validation Loss      1.2109\n",
      " - Validation Accuracy  0.3427\n",
      "\n",
      " - Validation Accuracy (per class)\n",
      "   * Class 0\t 0.059 [20 out of 339]\n",
      "   * Class 1\t 0.901 [282 out of 313]\n",
      "   * Class 2\t 0.0877 [27 out of 308]\n",
      "   * Mean        0.3492\n",
      "\n",
      "==================================================================================\n"
     ]
    },
    {
     "name": "stderr",
     "output_type": "stream",
     "text": [
      "> Epoch 11: 100%|██████████| 60/60 [00:42<00:00,  1.42it/s]\n"
     ]
    },
    {
     "name": "stdout",
     "output_type": "stream",
     "text": [
      " - Training Loss        0.9263\n",
      " - Validation Loss      1.2559\n",
      " - Validation Accuracy  0.3354\n",
      "\n",
      " - Validation Accuracy (per class)\n",
      "   * Class 0\t 0.0413 [14 out of 339]\n",
      "   * Class 1\t 0.901 [282 out of 313]\n",
      "   * Class 2\t 0.0844 [26 out of 308]\n",
      "   * Mean        0.3422\n",
      "\n",
      "==================================================================================\n"
     ]
    },
    {
     "name": "stderr",
     "output_type": "stream",
     "text": [
      "> Epoch 12: 100%|██████████| 60/60 [00:42<00:00,  1.41it/s]\n"
     ]
    },
    {
     "name": "stdout",
     "output_type": "stream",
     "text": [
      " - Training Loss        2.8002\n",
      " - Validation Loss      1.1486\n",
      " - Validation Accuracy  0.349\n",
      "\n",
      " - Validation Accuracy (per class)\n",
      "   * Class 0\t 0.0737 [25 out of 339]\n",
      "   * Class 1\t 0.9201 [288 out of 313]\n",
      "   * Class 2\t 0.0714 [22 out of 308]\n",
      "   * Mean        0.3551\n",
      "\n",
      "==================================================================================\n"
     ]
    },
    {
     "name": "stderr",
     "output_type": "stream",
     "text": [
      "> Epoch 13: 100%|██████████| 60/60 [00:42<00:00,  1.42it/s]\n"
     ]
    },
    {
     "name": "stdout",
     "output_type": "stream",
     "text": [
      " - Training Loss        0.9325\n",
      " - Validation Loss      1.163\n",
      " - Validation Accuracy  0.349\n",
      "\n",
      " - Validation Accuracy (per class)\n",
      "   * Class 0\t 0.0678 [23 out of 339]\n",
      "   * Class 1\t 0.9073 [284 out of 313]\n",
      "   * Class 2\t 0.0909 [28 out of 308]\n",
      "   * Mean        0.3553\n",
      "\n",
      "==================================================================================\n"
     ]
    },
    {
     "name": "stderr",
     "output_type": "stream",
     "text": [
      "> Epoch 14: 100%|██████████| 60/60 [00:42<00:00,  1.42it/s]\n"
     ]
    },
    {
     "name": "stdout",
     "output_type": "stream",
     "text": [
      " - Training Loss        0.9278\n",
      " - Validation Loss      1.1705\n",
      " - Validation Accuracy  0.349\n",
      "\n",
      " - Validation Accuracy (per class)\n",
      "   * Class 0\t 0.0649 [22 out of 339]\n",
      "   * Class 1\t 0.9105 [285 out of 313]\n",
      "   * Class 2\t 0.0909 [28 out of 308]\n",
      "   * Mean        0.3554\n",
      "\n",
      "> ATTENTION: epoch 14 was the best one so far! The model has been saved :)\n",
      "\n",
      "==================================================================================\n"
     ]
    },
    {
     "name": "stderr",
     "output_type": "stream",
     "text": [
      "> Epoch 15: 100%|██████████| 60/60 [00:42<00:00,  1.42it/s]\n"
     ]
    },
    {
     "name": "stdout",
     "output_type": "stream",
     "text": [
      " - Training Loss        0.9267\n",
      " - Validation Loss      1.1819\n",
      " - Validation Accuracy  0.3448\n",
      "\n",
      " - Validation Accuracy (per class)\n",
      "   * Class 0\t 0.056 [19 out of 339]\n",
      "   * Class 1\t 0.9105 [285 out of 313]\n",
      "   * Class 2\t 0.0877 [27 out of 308]\n",
      "   * Mean        0.3514\n",
      "\n",
      "==================================================================================\n"
     ]
    },
    {
     "name": "stderr",
     "output_type": "stream",
     "text": [
      "> Epoch 16: 100%|██████████| 60/60 [00:41<00:00,  1.43it/s]\n"
     ]
    },
    {
     "name": "stdout",
     "output_type": "stream",
     "text": [
      " - Training Loss        0.9261\n",
      " - Validation Loss      1.1935\n",
      " - Validation Accuracy  0.3479\n",
      "\n",
      " - Validation Accuracy (per class)\n",
      "   * Class 0\t 0.059 [20 out of 339]\n",
      "   * Class 1\t 0.9105 [285 out of 313]\n",
      "   * Class 2\t 0.0942 [29 out of 308]\n",
      "   * Mean        0.3546\n",
      "\n",
      "==================================================================================\n"
     ]
    },
    {
     "name": "stderr",
     "output_type": "stream",
     "text": [
      "> Epoch 17: 100%|██████████| 60/60 [00:42<00:00,  1.43it/s]\n"
     ]
    },
    {
     "name": "stdout",
     "output_type": "stream",
     "text": [
      " - Training Loss        0.9255\n",
      " - Validation Loss      1.2067\n",
      " - Validation Accuracy  0.349\n",
      "\n",
      " - Validation Accuracy (per class)\n",
      "   * Class 0\t 0.0619 [21 out of 339]\n",
      "   * Class 1\t 0.9073 [284 out of 313]\n",
      "   * Class 2\t 0.0974 [30 out of 308]\n",
      "   * Mean        0.3555\n",
      "\n",
      "> ATTENTION: epoch 17 was the best one so far! The model has been saved :)\n",
      "\n",
      "==================================================================================\n"
     ]
    },
    {
     "name": "stderr",
     "output_type": "stream",
     "text": [
      "> Epoch 18: 100%|██████████| 60/60 [00:42<00:00,  1.43it/s]\n"
     ]
    },
    {
     "name": "stdout",
     "output_type": "stream",
     "text": [
      " - Training Loss        0.9251\n",
      " - Validation Loss      1.2069\n",
      " - Validation Accuracy  0.3448\n",
      "\n",
      " - Validation Accuracy (per class)\n",
      "   * Class 0\t 0.059 [20 out of 339]\n",
      "   * Class 1\t 0.9073 [284 out of 313]\n",
      "   * Class 2\t 0.0877 [27 out of 308]\n",
      "   * Mean        0.3513\n",
      "\n",
      "==================================================================================\n"
     ]
    },
    {
     "name": "stderr",
     "output_type": "stream",
     "text": [
      "> Epoch 19: 100%|██████████| 60/60 [00:42<00:00,  1.43it/s]\n"
     ]
    },
    {
     "name": "stdout",
     "output_type": "stream",
     "text": [
      " - Training Loss        0.9249\n",
      " - Validation Loss      1.2193\n",
      " - Validation Accuracy  0.3458\n",
      "\n",
      " - Validation Accuracy (per class)\n",
      "   * Class 0\t 0.0531 [18 out of 339]\n",
      "   * Class 1\t 0.9073 [284 out of 313]\n",
      "   * Class 2\t 0.0974 [30 out of 308]\n",
      "   * Mean        0.3526\n",
      "\n",
      "==================================================================================\n"
     ]
    },
    {
     "name": "stderr",
     "output_type": "stream",
     "text": [
      "> Epoch 20: 100%|██████████| 60/60 [00:42<00:00,  1.42it/s]\n"
     ]
    },
    {
     "name": "stdout",
     "output_type": "stream",
     "text": [
      " - Training Loss        0.925\n",
      " - Validation Loss      1.2198\n",
      " - Validation Accuracy  0.3438\n",
      "\n",
      " - Validation Accuracy (per class)\n",
      "   * Class 0\t 0.0531 [18 out of 339]\n",
      "   * Class 1\t 0.9105 [285 out of 313]\n",
      "   * Class 2\t 0.0877 [27 out of 308]\n",
      "   * Mean        0.3504\n",
      "\n",
      "==================================================================================\n"
     ]
    },
    {
     "name": "stderr",
     "output_type": "stream",
     "text": [
      "> Epoch 21: 100%|██████████| 60/60 [00:42<00:00,  1.42it/s]\n"
     ]
    },
    {
     "name": "stdout",
     "output_type": "stream",
     "text": [
      " - Training Loss        0.9245\n",
      " - Validation Loss      1.2247\n",
      " - Validation Accuracy  0.3323\n",
      "\n",
      " - Validation Accuracy (per class)\n",
      "   * Class 0\t 0.0531 [18 out of 339]\n",
      "   * Class 1\t 0.0415 [13 out of 313]\n",
      "   * Class 2\t 0.9351 [288 out of 308]\n",
      "   * Mean        0.3432\n",
      "\n",
      "==================================================================================\n"
     ]
    },
    {
     "name": "stderr",
     "output_type": "stream",
     "text": [
      "> Epoch 22: 100%|██████████| 60/60 [00:42<00:00,  1.42it/s]\n"
     ]
    },
    {
     "name": "stdout",
     "output_type": "stream",
     "text": [
      " - Training Loss        0.9249\n",
      " - Validation Loss      1.2287\n",
      " - Validation Accuracy  0.3427\n",
      "\n",
      " - Validation Accuracy (per class)\n",
      "   * Class 0\t 0.0531 [18 out of 339]\n",
      "   * Class 1\t 0.9073 [284 out of 313]\n",
      "   * Class 2\t 0.0877 [27 out of 308]\n",
      "   * Mean        0.3494\n",
      "\n",
      "==================================================================================\n"
     ]
    },
    {
     "name": "stderr",
     "output_type": "stream",
     "text": [
      "> Epoch 23: 100%|██████████| 60/60 [00:42<00:00,  1.42it/s]\n"
     ]
    },
    {
     "name": "stdout",
     "output_type": "stream",
     "text": [
      " - Training Loss        0.9243\n",
      " - Validation Loss      1.2378\n",
      " - Validation Accuracy  0.3427\n",
      "\n",
      " - Validation Accuracy (per class)\n",
      "   * Class 0\t 0.0531 [18 out of 339]\n",
      "   * Class 1\t 0.9042 [283 out of 313]\n",
      "   * Class 2\t 0.0909 [28 out of 308]\n",
      "   * Mean        0.3494\n",
      "\n",
      "==================================================================================\n"
     ]
    },
    {
     "name": "stderr",
     "output_type": "stream",
     "text": [
      "> Epoch 24: 100%|██████████| 60/60 [00:42<00:00,  1.42it/s]\n"
     ]
    },
    {
     "name": "stdout",
     "output_type": "stream",
     "text": [
      " - Training Loss        0.9243\n",
      " - Validation Loss      1.2471\n",
      " - Validation Accuracy  0.3438\n",
      "\n",
      " - Validation Accuracy (per class)\n",
      "   * Class 0\t 0.0531 [18 out of 339]\n",
      "   * Class 1\t 0.9042 [283 out of 313]\n",
      "   * Class 2\t 0.0942 [29 out of 308]\n",
      "   * Mean        0.3505\n",
      "\n",
      "==================================================================================\n"
     ]
    },
    {
     "name": "stderr",
     "output_type": "stream",
     "text": [
      "> Epoch 25: 100%|██████████| 60/60 [00:42<00:00,  1.41it/s]\n"
     ]
    },
    {
     "name": "stdout",
     "output_type": "stream",
     "text": [
      " - Training Loss        0.9242\n",
      " - Validation Loss      1.2512\n",
      " - Validation Accuracy  0.3438\n",
      "\n",
      " - Validation Accuracy (per class)\n",
      "   * Class 0\t 0.0531 [18 out of 339]\n",
      "   * Class 1\t 0.901 [282 out of 313]\n",
      "   * Class 2\t 0.0974 [30 out of 308]\n",
      "   * Mean        0.3505\n",
      "\n",
      "==================================================================================\n"
     ]
    },
    {
     "name": "stderr",
     "output_type": "stream",
     "text": [
      "> Epoch 26: 100%|██████████| 60/60 [00:42<00:00,  1.41it/s]\n"
     ]
    },
    {
     "name": "stdout",
     "output_type": "stream",
     "text": [
      " - Training Loss        0.9238\n",
      " - Validation Loss      1.2541\n",
      " - Validation Accuracy  0.3448\n",
      "\n",
      " - Validation Accuracy (per class)\n",
      "   * Class 0\t 0.059 [20 out of 339]\n",
      "   * Class 1\t 0.901 [282 out of 313]\n",
      "   * Class 2\t 0.0942 [29 out of 308]\n",
      "   * Mean        0.3514\n",
      "\n",
      "==================================================================================\n"
     ]
    },
    {
     "name": "stderr",
     "output_type": "stream",
     "text": [
      "> Epoch 27: 100%|██████████| 60/60 [00:42<00:00,  1.41it/s]\n"
     ]
    },
    {
     "name": "stdout",
     "output_type": "stream",
     "text": [
      " - Training Loss        0.924\n",
      " - Validation Loss      1.2543\n",
      " - Validation Accuracy  0.3448\n",
      "\n",
      " - Validation Accuracy (per class)\n",
      "   * Class 0\t 0.059 [20 out of 339]\n",
      "   * Class 1\t 0.901 [282 out of 313]\n",
      "   * Class 2\t 0.0942 [29 out of 308]\n",
      "   * Mean        0.3514\n",
      "\n",
      "==================================================================================\n"
     ]
    },
    {
     "name": "stderr",
     "output_type": "stream",
     "text": [
      "> Epoch 28: 100%|██████████| 60/60 [00:42<00:00,  1.41it/s]\n"
     ]
    },
    {
     "name": "stdout",
     "output_type": "stream",
     "text": [
      " - Training Loss        0.924\n",
      " - Validation Loss      1.2598\n",
      " - Validation Accuracy  0.3417\n",
      "\n",
      " - Validation Accuracy (per class)\n",
      "   * Class 0\t 0.0708 [24 out of 339]\n",
      "   * Class 1\t 0.885 [277 out of 313]\n",
      "   * Class 2\t 0.0877 [27 out of 308]\n",
      "   * Mean        0.3478\n",
      "\n",
      "==================================================================================\n"
     ]
    },
    {
     "name": "stderr",
     "output_type": "stream",
     "text": [
      "> Epoch 29: 100%|██████████| 60/60 [00:42<00:00,  1.41it/s]\n"
     ]
    },
    {
     "name": "stdout",
     "output_type": "stream",
     "text": [
      " - Training Loss        0.9236\n",
      " - Validation Loss      1.2664\n",
      " - Validation Accuracy  0.3458\n",
      "\n",
      " - Validation Accuracy (per class)\n",
      "   * Class 0\t 0.0678 [23 out of 339]\n",
      "   * Class 1\t 0.8978 [281 out of 313]\n",
      "   * Class 2\t 0.0909 [28 out of 308]\n",
      "   * Mean        0.3522\n",
      "\n",
      "==================================================================================\n"
     ]
    },
    {
     "name": "stderr",
     "output_type": "stream",
     "text": [
      "> Epoch 30: 100%|██████████| 60/60 [00:42<00:00,  1.42it/s]\n"
     ]
    },
    {
     "name": "stdout",
     "output_type": "stream",
     "text": [
      " - Training Loss        0.9296\n",
      " - Validation Loss      1.2306\n",
      " - Validation Accuracy  0.3438\n",
      "\n",
      " - Validation Accuracy (per class)\n",
      "   * Class 0\t 0.0708 [24 out of 339]\n",
      "   * Class 1\t 0.901 [282 out of 313]\n",
      "   * Class 2\t 0.0779 [24 out of 308]\n",
      "   * Mean        0.3499\n",
      "\n",
      "==================================================================================\n"
     ]
    },
    {
     "name": "stderr",
     "output_type": "stream",
     "text": [
      "> Epoch 31: 100%|██████████| 60/60 [00:42<00:00,  1.41it/s]\n"
     ]
    },
    {
     "name": "stdout",
     "output_type": "stream",
     "text": [
      " - Training Loss        0.9246\n",
      " - Validation Loss      1.2459\n",
      " - Validation Accuracy  0.3427\n",
      "\n",
      " - Validation Accuracy (per class)\n",
      "   * Class 0\t 0.059 [20 out of 339]\n",
      "   * Class 1\t 0.901 [282 out of 313]\n",
      "   * Class 2\t 0.0877 [27 out of 308]\n",
      "   * Mean        0.3492\n",
      "\n",
      "==================================================================================\n"
     ]
    },
    {
     "name": "stderr",
     "output_type": "stream",
     "text": [
      "> Epoch 32: 100%|██████████| 60/60 [00:42<00:00,  1.41it/s]\n"
     ]
    },
    {
     "name": "stdout",
     "output_type": "stream",
     "text": [
      " - Training Loss        0.924\n",
      " - Validation Loss      1.2337\n",
      " - Validation Accuracy  0.3479\n",
      "\n",
      " - Validation Accuracy (per class)\n",
      "   * Class 0\t 0.0678 [23 out of 339]\n",
      "   * Class 1\t 0.9105 [285 out of 313]\n",
      "   * Class 2\t 0.0844 [26 out of 308]\n",
      "   * Mean        0.3542\n",
      "\n",
      "==================================================================================\n"
     ]
    },
    {
     "name": "stderr",
     "output_type": "stream",
     "text": [
      "> Epoch 33: 100%|██████████| 60/60 [00:42<00:00,  1.42it/s]\n"
     ]
    },
    {
     "name": "stdout",
     "output_type": "stream",
     "text": [
      " - Training Loss        0.9241\n",
      " - Validation Loss      1.257\n",
      " - Validation Accuracy  0.3458\n",
      "\n",
      " - Validation Accuracy (per class)\n",
      "   * Class 0\t 0.059 [20 out of 339]\n",
      "   * Class 1\t 0.9073 [284 out of 313]\n",
      "   * Class 2\t 0.0909 [28 out of 308]\n",
      "   * Mean        0.3524\n",
      "\n",
      "==================================================================================\n"
     ]
    },
    {
     "name": "stderr",
     "output_type": "stream",
     "text": [
      "> Epoch 34: 100%|██████████| 60/60 [00:42<00:00,  1.41it/s]\n"
     ]
    },
    {
     "name": "stdout",
     "output_type": "stream",
     "text": [
      " - Training Loss        0.9237\n",
      " - Validation Loss      1.2415\n",
      " - Validation Accuracy  0.3438\n",
      "\n",
      " - Validation Accuracy (per class)\n",
      "   * Class 0\t 0.0649 [22 out of 339]\n",
      "   * Class 1\t 0.9042 [283 out of 313]\n",
      "   * Class 2\t 0.0812 [25 out of 308]\n",
      "   * Mean        0.3501\n",
      "\n",
      "==================================================================================\n"
     ]
    },
    {
     "name": "stderr",
     "output_type": "stream",
     "text": [
      "> Epoch 35: 100%|██████████| 60/60 [00:42<00:00,  1.41it/s]\n"
     ]
    },
    {
     "name": "stdout",
     "output_type": "stream",
     "text": [
      " - Training Loss        0.9235\n",
      " - Validation Loss      1.2565\n",
      " - Validation Accuracy  0.3417\n",
      "\n",
      " - Validation Accuracy (per class)\n",
      "   * Class 0\t 0.059 [20 out of 339]\n",
      "   * Class 1\t 0.8978 [281 out of 313]\n",
      "   * Class 2\t 0.0877 [27 out of 308]\n",
      "   * Mean        0.3482\n",
      "\n",
      "==================================================================================\n"
     ]
    },
    {
     "name": "stderr",
     "output_type": "stream",
     "text": [
      "> Epoch 36: 100%|██████████| 60/60 [00:42<00:00,  1.41it/s]\n"
     ]
    },
    {
     "name": "stdout",
     "output_type": "stream",
     "text": [
      " - Training Loss        0.9238\n",
      " - Validation Loss      1.2677\n",
      " - Validation Accuracy  0.3448\n",
      "\n",
      " - Validation Accuracy (per class)\n",
      "   * Class 0\t 0.059 [20 out of 339]\n",
      "   * Class 1\t 0.9073 [284 out of 313]\n",
      "   * Class 2\t 0.0877 [27 out of 308]\n",
      "   * Mean        0.3513\n",
      "\n",
      "==================================================================================\n"
     ]
    },
    {
     "name": "stderr",
     "output_type": "stream",
     "text": [
      "> Epoch 37: 100%|██████████| 60/60 [00:42<00:00,  1.41it/s]\n"
     ]
    },
    {
     "name": "stdout",
     "output_type": "stream",
     "text": [
      " - Training Loss        0.9233\n",
      " - Validation Loss      1.2649\n",
      " - Validation Accuracy  0.3427\n",
      "\n",
      " - Validation Accuracy (per class)\n",
      "   * Class 0\t 0.0678 [23 out of 339]\n",
      "   * Class 1\t 0.901 [282 out of 313]\n",
      "   * Class 2\t 0.0779 [24 out of 308]\n",
      "   * Mean        0.3489\n",
      "\n",
      "==================================================================================\n"
     ]
    },
    {
     "name": "stderr",
     "output_type": "stream",
     "text": [
      "> Epoch 38: 100%|██████████| 60/60 [00:42<00:00,  1.41it/s]\n"
     ]
    },
    {
     "name": "stdout",
     "output_type": "stream",
     "text": [
      " - Training Loss        0.9235\n",
      " - Validation Loss      1.2762\n",
      " - Validation Accuracy  0.3469\n",
      "\n",
      " - Validation Accuracy (per class)\n",
      "   * Class 0\t 0.056 [19 out of 339]\n",
      "   * Class 1\t 0.9137 [286 out of 313]\n",
      "   * Class 2\t 0.0909 [28 out of 308]\n",
      "   * Mean        0.3535\n",
      "\n",
      "==================================================================================\n"
     ]
    },
    {
     "name": "stderr",
     "output_type": "stream",
     "text": [
      "> Epoch 39: 100%|██████████| 60/60 [00:42<00:00,  1.41it/s]\n"
     ]
    },
    {
     "name": "stdout",
     "output_type": "stream",
     "text": [
      " - Training Loss        0.9236\n",
      " - Validation Loss      1.2604\n",
      " - Validation Accuracy  0.3458\n",
      "\n",
      " - Validation Accuracy (per class)\n",
      "   * Class 0\t 0.0737 [25 out of 339]\n",
      "   * Class 1\t 0.9042 [283 out of 313]\n",
      "   * Class 2\t 0.0779 [24 out of 308]\n",
      "   * Mean        0.3519\n",
      "\n",
      "==================================================================================\n"
     ]
    },
    {
     "name": "stderr",
     "output_type": "stream",
     "text": [
      "> Epoch 40: 100%|██████████| 60/60 [00:42<00:00,  1.41it/s]\n"
     ]
    },
    {
     "name": "stdout",
     "output_type": "stream",
     "text": [
      " - Training Loss        0.9232\n",
      " - Validation Loss      1.2726\n",
      " - Validation Accuracy  0.3469\n",
      "\n",
      " - Validation Accuracy (per class)\n",
      "   * Class 0\t 0.0708 [24 out of 339]\n",
      "   * Class 1\t 0.901 [282 out of 313]\n",
      "   * Class 2\t 0.0877 [27 out of 308]\n",
      "   * Mean        0.3532\n",
      "\n",
      "==================================================================================\n"
     ]
    },
    {
     "name": "stderr",
     "output_type": "stream",
     "text": [
      "> Epoch 41: 100%|██████████| 60/60 [00:42<00:00,  1.42it/s]\n"
     ]
    },
    {
     "name": "stdout",
     "output_type": "stream",
     "text": [
      " - Training Loss        0.9254\n",
      " - Validation Loss      1.3117\n",
      " - Validation Accuracy  0.3427\n",
      "\n",
      " - Validation Accuracy (per class)\n",
      "   * Class 0\t 0.0442 [15 out of 339]\n",
      "   * Class 1\t 0.9073 [284 out of 313]\n",
      "   * Class 2\t 0.0974 [30 out of 308]\n",
      "   * Mean        0.3496\n",
      "\n",
      "==================================================================================\n"
     ]
    },
    {
     "name": "stderr",
     "output_type": "stream",
     "text": [
      "> Epoch 42: 100%|██████████| 60/60 [00:41<00:00,  1.43it/s]\n"
     ]
    },
    {
     "name": "stdout",
     "output_type": "stream",
     "text": [
      " - Training Loss        0.9333\n",
      " - Validation Loss      1.2092\n",
      " - Validation Accuracy  0.349\n",
      "\n",
      " - Validation Accuracy (per class)\n",
      "   * Class 0\t 0.0531 [18 out of 339]\n",
      "   * Class 1\t 0.9265 [290 out of 313]\n",
      "   * Class 2\t 0.0877 [27 out of 308]\n",
      "   * Mean        0.3558\n",
      "\n",
      "> ATTENTION: epoch 42 was the best one so far! The model has been saved :)\n",
      "\n",
      "==================================================================================\n"
     ]
    },
    {
     "name": "stderr",
     "output_type": "stream",
     "text": [
      "> Epoch 43: 100%|██████████| 60/60 [00:41<00:00,  1.43it/s]\n"
     ]
    },
    {
     "name": "stdout",
     "output_type": "stream",
     "text": [
      " - Training Loss        0.9251\n",
      " - Validation Loss      1.2165\n",
      " - Validation Accuracy  0.3438\n",
      "\n",
      " - Validation Accuracy (per class)\n",
      "   * Class 0\t 0.0531 [18 out of 339]\n",
      "   * Class 1\t 0.9201 [288 out of 313]\n",
      "   * Class 2\t 0.0779 [24 out of 308]\n",
      "   * Mean        0.3504\n",
      "\n",
      "==================================================================================\n"
     ]
    },
    {
     "name": "stderr",
     "output_type": "stream",
     "text": [
      "> Epoch 44: 100%|██████████| 60/60 [00:42<00:00,  1.43it/s]\n"
     ]
    },
    {
     "name": "stdout",
     "output_type": "stream",
     "text": [
      " - Training Loss        0.9242\n",
      " - Validation Loss      1.233\n",
      " - Validation Accuracy  0.3427\n",
      "\n",
      " - Validation Accuracy (per class)\n",
      "   * Class 0\t 0.056 [19 out of 339]\n",
      "   * Class 1\t 0.9137 [286 out of 313]\n",
      "   * Class 2\t 0.0779 [24 out of 308]\n",
      "   * Mean        0.3492\n",
      "\n",
      "==================================================================================\n"
     ]
    },
    {
     "name": "stderr",
     "output_type": "stream",
     "text": [
      "> Epoch 45: 100%|██████████| 60/60 [00:42<00:00,  1.42it/s]\n"
     ]
    },
    {
     "name": "stdout",
     "output_type": "stream",
     "text": [
      " - Training Loss        0.9238\n",
      " - Validation Loss      1.2465\n",
      " - Validation Accuracy  0.3427\n",
      "\n",
      " - Validation Accuracy (per class)\n",
      "   * Class 0\t 0.056 [19 out of 339]\n",
      "   * Class 1\t 0.9105 [285 out of 313]\n",
      "   * Class 2\t 0.0812 [25 out of 308]\n",
      "   * Mean        0.3492\n",
      "\n",
      "==================================================================================\n"
     ]
    },
    {
     "name": "stderr",
     "output_type": "stream",
     "text": [
      "> Epoch 46: 100%|██████████| 60/60 [00:42<00:00,  1.42it/s]\n"
     ]
    },
    {
     "name": "stdout",
     "output_type": "stream",
     "text": [
      " - Training Loss        0.9238\n",
      " - Validation Loss      1.2564\n",
      " - Validation Accuracy  0.3375\n",
      "\n",
      " - Validation Accuracy (per class)\n",
      "   * Class 0\t 0.0531 [18 out of 339]\n",
      "   * Class 1\t 0.901 [282 out of 313]\n",
      "   * Class 2\t 0.0779 [24 out of 308]\n",
      "   * Mean        0.344\n",
      "\n",
      "==================================================================================\n"
     ]
    },
    {
     "name": "stderr",
     "output_type": "stream",
     "text": [
      "> Epoch 47: 100%|██████████| 60/60 [00:42<00:00,  1.41it/s]\n"
     ]
    },
    {
     "name": "stdout",
     "output_type": "stream",
     "text": [
      " - Training Loss        0.9235\n",
      " - Validation Loss      1.2636\n",
      " - Validation Accuracy  0.3417\n",
      "\n",
      " - Validation Accuracy (per class)\n",
      "   * Class 0\t 0.0619 [21 out of 339]\n",
      "   * Class 1\t 0.901 [282 out of 313]\n",
      "   * Class 2\t 0.0812 [25 out of 308]\n",
      "   * Mean        0.348\n",
      "\n",
      "==================================================================================\n"
     ]
    },
    {
     "name": "stderr",
     "output_type": "stream",
     "text": [
      "> Epoch 48: 100%|██████████| 60/60 [00:42<00:00,  1.41it/s]\n"
     ]
    },
    {
     "name": "stdout",
     "output_type": "stream",
     "text": [
      " - Training Loss        0.9235\n",
      " - Validation Loss      1.2722\n",
      " - Validation Accuracy  0.3385\n",
      "\n",
      " - Validation Accuracy (per class)\n",
      "   * Class 0\t 0.0501 [17 out of 339]\n",
      "   * Class 1\t 0.901 [282 out of 313]\n",
      "   * Class 2\t 0.0844 [26 out of 308]\n",
      "   * Mean        0.3452\n",
      "\n",
      "==================================================================================\n"
     ]
    },
    {
     "name": "stderr",
     "output_type": "stream",
     "text": [
      "> Epoch 49: 100%|██████████| 60/60 [00:42<00:00,  1.42it/s]\n"
     ]
    },
    {
     "name": "stdout",
     "output_type": "stream",
     "text": [
      " - Training Loss        0.9247\n",
      " - Validation Loss      1.2432\n",
      " - Validation Accuracy  0.3448\n",
      "\n",
      " - Validation Accuracy (per class)\n",
      "   * Class 0\t 0.0531 [18 out of 339]\n",
      "   * Class 1\t 0.9169 [287 out of 313]\n",
      "   * Class 2\t 0.0844 [26 out of 308]\n",
      "   * Mean        0.3515\n",
      "\n",
      "==================================================================================\n"
     ]
    },
    {
     "name": "stderr",
     "output_type": "stream",
     "text": [
      "> Epoch 50: 100%|██████████| 60/60 [00:42<00:00,  1.42it/s]\n"
     ]
    },
    {
     "name": "stdout",
     "output_type": "stream",
     "text": [
      " - Training Loss        0.9246\n",
      " - Validation Loss      1.262\n",
      " - Validation Accuracy  0.351\n",
      "\n",
      " - Validation Accuracy (per class)\n",
      "   * Class 0\t 0.0649 [22 out of 339]\n",
      "   * Class 1\t 0.9073 [284 out of 313]\n",
      "   * Class 2\t 0.1006 [31 out of 308]\n",
      "   * Mean        0.3576\n",
      "\n",
      "> ATTENTION: epoch 50 was the best one so far! The model has been saved :)\n",
      "\n",
      "==================================================================================\n",
      "> Parameters imported\n",
      "> Dataset correctly divided in training set, validation set and test set\n",
      "> Created Pytorch datasets and dataloaders\n",
      "> Model 'LSTM_fixed' instantiated\n",
      "> Initialization required 0.11 seconds\n",
      "==================================================================================\n",
      "> Training Started\n",
      "  - Total Epochs: 50\n",
      "==================================================================================\n"
     ]
    },
    {
     "name": "stderr",
     "output_type": "stream",
     "text": [
      "> Epoch 1: 100%|██████████| 60/60 [00:41<00:00,  1.45it/s]\n"
     ]
    },
    {
     "name": "stdout",
     "output_type": "stream",
     "text": [
      " - Training Loss        1.1157\n",
      " - Validation Loss      1.1043\n",
      " - Validation Accuracy  0.3438\n",
      "\n",
      " - Validation Accuracy (per class)\n",
      "   * Class 0\t 0.056 [19 out of 339]\n",
      "   * Class 1\t 0.9073 [284 out of 313]\n",
      "   * Class 2\t 0.0877 [27 out of 308]\n",
      "   * Mean        0.3503\n",
      "\n",
      "> ATTENTION: epoch 1 was the best one so far! The model has been saved :)\n",
      "\n",
      "==================================================================================\n"
     ]
    },
    {
     "name": "stderr",
     "output_type": "stream",
     "text": [
      "> Epoch 2: 100%|██████████| 60/60 [00:41<00:00,  1.45it/s]\n"
     ]
    },
    {
     "name": "stdout",
     "output_type": "stream",
     "text": [
      " - Training Loss        1.0069\n",
      " - Validation Loss      1.1666\n",
      " - Validation Accuracy  0.3396\n",
      "\n",
      " - Validation Accuracy (per class)\n",
      "   * Class 0\t 0.0413 [14 out of 339]\n",
      "   * Class 1\t 0.9105 [285 out of 313]\n",
      "   * Class 2\t 0.0877 [27 out of 308]\n",
      "   * Mean        0.3465\n",
      "\n",
      "==================================================================================\n"
     ]
    },
    {
     "name": "stderr",
     "output_type": "stream",
     "text": [
      "> Epoch 3: 100%|██████████| 60/60 [00:41<00:00,  1.44it/s]\n"
     ]
    },
    {
     "name": "stdout",
     "output_type": "stream",
     "text": [
      " - Training Loss        0.9551\n",
      " - Validation Loss      1.1822\n",
      " - Validation Accuracy  0.3354\n",
      "\n",
      " - Validation Accuracy (per class)\n",
      "   * Class 0\t 0.0442 [15 out of 339]\n",
      "   * Class 1\t 0.9137 [286 out of 313]\n",
      "   * Class 2\t 0.0682 [21 out of 308]\n",
      "   * Mean        0.342\n",
      "\n",
      "==================================================================================\n"
     ]
    },
    {
     "name": "stderr",
     "output_type": "stream",
     "text": [
      "> Epoch 4: 100%|██████████| 60/60 [00:41<00:00,  1.44it/s]\n"
     ]
    },
    {
     "name": "stdout",
     "output_type": "stream",
     "text": [
      " - Training Loss        0.934\n",
      " - Validation Loss      1.2002\n",
      " - Validation Accuracy  0.324\n",
      "\n",
      " - Validation Accuracy (per class)\n",
      "   * Class 0\t 0.0442 [15 out of 339]\n",
      "   * Class 1\t 0.0383 [12 out of 313]\n",
      "   * Class 2\t 0.9221 [284 out of 308]\n",
      "   * Mean        0.3349\n",
      "\n",
      "==================================================================================\n"
     ]
    },
    {
     "name": "stderr",
     "output_type": "stream",
     "text": [
      "> Epoch 5: 100%|██████████| 60/60 [00:41<00:00,  1.44it/s]\n"
     ]
    },
    {
     "name": "stdout",
     "output_type": "stream",
     "text": [
      " - Training Loss        0.9291\n",
      " - Validation Loss      1.2205\n",
      " - Validation Accuracy  0.3385\n",
      "\n",
      " - Validation Accuracy (per class)\n",
      "   * Class 0\t 0.0413 [14 out of 339]\n",
      "   * Class 1\t 0.9073 [284 out of 313]\n",
      "   * Class 2\t 0.0877 [27 out of 308]\n",
      "   * Mean        0.3454\n",
      "\n",
      "==================================================================================\n"
     ]
    },
    {
     "name": "stderr",
     "output_type": "stream",
     "text": [
      "> Epoch 6: 100%|██████████| 60/60 [00:41<00:00,  1.44it/s]\n"
     ]
    },
    {
     "name": "stdout",
     "output_type": "stream",
     "text": [
      " - Training Loss        0.9276\n",
      " - Validation Loss      1.2294\n",
      " - Validation Accuracy  0.324\n",
      "\n",
      " - Validation Accuracy (per class)\n",
      "   * Class 0\t 0.0413 [14 out of 339]\n",
      "   * Class 1\t 0.0383 [12 out of 313]\n",
      "   * Class 2\t 0.9253 [285 out of 308]\n",
      "   * Mean        0.335\n",
      "\n",
      "==================================================================================\n"
     ]
    },
    {
     "name": "stderr",
     "output_type": "stream",
     "text": [
      "> Epoch 7: 100%|██████████| 60/60 [00:41<00:00,  1.44it/s]\n"
     ]
    },
    {
     "name": "stdout",
     "output_type": "stream",
     "text": [
      " - Training Loss        0.9279\n",
      " - Validation Loss      1.2326\n",
      " - Validation Accuracy  0.3354\n",
      "\n",
      " - Validation Accuracy (per class)\n",
      "   * Class 0\t 0.0472 [16 out of 339]\n",
      "   * Class 1\t 0.9042 [283 out of 313]\n",
      "   * Class 2\t 0.0747 [23 out of 308]\n",
      "   * Mean        0.342\n",
      "\n",
      "==================================================================================\n"
     ]
    },
    {
     "name": "stderr",
     "output_type": "stream",
     "text": [
      "> Epoch 8: 100%|██████████| 60/60 [00:42<00:00,  1.42it/s]\n"
     ]
    },
    {
     "name": "stdout",
     "output_type": "stream",
     "text": [
      " - Training Loss        1.044\n",
      " - Validation Loss      1.2182\n",
      " - Validation Accuracy  0.3646\n",
      "\n",
      " - Validation Accuracy (per class)\n",
      "   * Class 0\t 0.4159 [141 out of 339]\n",
      "   * Class 1\t 0.5942 [186 out of 313]\n",
      "   * Class 2\t 0.0747 [23 out of 308]\n",
      "   * Mean        0.3616\n",
      "\n",
      "> ATTENTION: epoch 8 was the best one so far! The model has been saved :)\n",
      "\n",
      "==================================================================================\n"
     ]
    },
    {
     "name": "stderr",
     "output_type": "stream",
     "text": [
      "> Epoch 9: 100%|██████████| 60/60 [00:41<00:00,  1.45it/s]\n"
     ]
    },
    {
     "name": "stdout",
     "output_type": "stream",
     "text": [
      " - Training Loss        0.9583\n",
      " - Validation Loss      1.1678\n",
      " - Validation Accuracy  0.3635\n",
      "\n",
      " - Validation Accuracy (per class)\n",
      "   * Class 0\t 0.2773 [94 out of 339]\n",
      "   * Class 1\t 0.3706 [116 out of 313]\n",
      "   * Class 2\t 0.4513 [139 out of 308]\n",
      "   * Mean        0.3664\n",
      "\n",
      "> ATTENTION: epoch 9 was the best one so far! The model has been saved :)\n",
      "\n",
      "==================================================================================\n"
     ]
    },
    {
     "name": "stderr",
     "output_type": "stream",
     "text": [
      "> Epoch 10: 100%|██████████| 60/60 [00:41<00:00,  1.45it/s]\n"
     ]
    },
    {
     "name": "stdout",
     "output_type": "stream",
     "text": [
      " - Training Loss        0.9432\n",
      " - Validation Loss      1.1953\n",
      " - Validation Accuracy  0.3396\n",
      "\n",
      " - Validation Accuracy (per class)\n",
      "   * Class 0\t 0.059 [20 out of 339]\n",
      "   * Class 1\t 0.4089 [128 out of 313]\n",
      "   * Class 2\t 0.5779 [178 out of 308]\n",
      "   * Mean        0.3486\n",
      "\n",
      "==================================================================================\n"
     ]
    },
    {
     "name": "stderr",
     "output_type": "stream",
     "text": [
      "> Epoch 11: 100%|██████████| 60/60 [00:41<00:00,  1.44it/s]\n"
     ]
    },
    {
     "name": "stdout",
     "output_type": "stream",
     "text": [
      " - Training Loss        0.9287\n",
      " - Validation Loss      1.1682\n",
      " - Validation Accuracy  0.3625\n",
      "\n",
      " - Validation Accuracy (per class)\n",
      "   * Class 0\t 0.3009 [102 out of 339]\n",
      "   * Class 1\t 0.5304 [166 out of 313]\n",
      "   * Class 2\t 0.2597 [80 out of 308]\n",
      "   * Mean        0.3637\n",
      "\n",
      "==================================================================================\n"
     ]
    },
    {
     "name": "stderr",
     "output_type": "stream",
     "text": [
      "> Epoch 12: 100%|██████████| 60/60 [00:41<00:00,  1.44it/s]\n"
     ]
    },
    {
     "name": "stdout",
     "output_type": "stream",
     "text": [
      " - Training Loss        0.9271\n",
      " - Validation Loss      1.1672\n",
      " - Validation Accuracy  0.3563\n",
      "\n",
      " - Validation Accuracy (per class)\n",
      "   * Class 0\t 0.3038 [103 out of 339]\n",
      "   * Class 1\t 0.5176 [162 out of 313]\n",
      "   * Class 2\t 0.25 [77 out of 308]\n",
      "   * Mean        0.3571\n",
      "\n",
      "==================================================================================\n"
     ]
    },
    {
     "name": "stderr",
     "output_type": "stream",
     "text": [
      "> Epoch 13: 100%|██████████| 60/60 [00:41<00:00,  1.44it/s]\n"
     ]
    },
    {
     "name": "stdout",
     "output_type": "stream",
     "text": [
      " - Training Loss        0.9293\n",
      " - Validation Loss      1.1663\n",
      " - Validation Accuracy  0.3656\n",
      "\n",
      " - Validation Accuracy (per class)\n",
      "   * Class 0\t 0.3097 [105 out of 339]\n",
      "   * Class 1\t 0.0415 [13 out of 313]\n",
      "   * Class 2\t 0.7565 [233 out of 308]\n",
      "   * Mean        0.3692\n",
      "\n",
      "> ATTENTION: epoch 13 was the best one so far! The model has been saved :)\n",
      "\n",
      "==================================================================================\n"
     ]
    },
    {
     "name": "stderr",
     "output_type": "stream",
     "text": [
      "> Epoch 14: 100%|██████████| 60/60 [00:41<00:00,  1.44it/s]\n"
     ]
    },
    {
     "name": "stdout",
     "output_type": "stream",
     "text": [
      " - Training Loss        0.9234\n",
      " - Validation Loss      1.176\n",
      " - Validation Accuracy  0.3969\n",
      "\n",
      " - Validation Accuracy (per class)\n",
      "   * Class 0\t 0.6814 [231 out of 339]\n",
      "   * Class 1\t 0.3898 [122 out of 313]\n",
      "   * Class 2\t 0.0909 [28 out of 308]\n",
      "   * Mean        0.3874\n",
      "\n",
      "> ATTENTION: epoch 14 was the best one so far! The model has been saved :)\n",
      "\n",
      "==================================================================================\n"
     ]
    },
    {
     "name": "stderr",
     "output_type": "stream",
     "text": [
      "> Epoch 15: 100%|██████████| 60/60 [00:41<00:00,  1.44it/s]\n"
     ]
    },
    {
     "name": "stdout",
     "output_type": "stream",
     "text": [
      " - Training Loss        0.9243\n",
      " - Validation Loss      1.1882\n",
      " - Validation Accuracy  0.3573\n",
      "\n",
      " - Validation Accuracy (per class)\n",
      "   * Class 0\t 0.4631 [157 out of 339]\n",
      "   * Class 1\t 0.508 [159 out of 313]\n",
      "   * Class 2\t 0.0877 [27 out of 308]\n",
      "   * Mean        0.3529\n",
      "\n",
      "==================================================================================\n"
     ]
    },
    {
     "name": "stderr",
     "output_type": "stream",
     "text": [
      "> Epoch 16: 100%|██████████| 60/60 [00:41<00:00,  1.44it/s]\n"
     ]
    },
    {
     "name": "stdout",
     "output_type": "stream",
     "text": [
      " - Training Loss        0.9244\n",
      " - Validation Loss      1.1809\n",
      " - Validation Accuracy  0.3302\n",
      "\n",
      " - Validation Accuracy (per class)\n",
      "   * Class 0\t 0.0678 [23 out of 339]\n",
      "   * Class 1\t 0.377 [118 out of 313]\n",
      "   * Class 2\t 0.5714 [176 out of 308]\n",
      "   * Mean        0.3387\n",
      "\n",
      "==================================================================================\n"
     ]
    },
    {
     "name": "stderr",
     "output_type": "stream",
     "text": [
      "> Epoch 17: 100%|██████████| 60/60 [00:41<00:00,  1.44it/s]\n"
     ]
    },
    {
     "name": "stdout",
     "output_type": "stream",
     "text": [
      " - Training Loss        0.9273\n",
      " - Validation Loss      1.1738\n",
      " - Validation Accuracy  0.3563\n",
      "\n",
      " - Validation Accuracy (per class)\n",
      "   * Class 0\t 0.4336 [147 out of 339]\n",
      "   * Class 1\t 0.2332 [73 out of 313]\n",
      "   * Class 2\t 0.3961 [122 out of 308]\n",
      "   * Mean        0.3543\n",
      "\n",
      "==================================================================================\n"
     ]
    },
    {
     "name": "stderr",
     "output_type": "stream",
     "text": [
      "> Epoch 18: 100%|██████████| 60/60 [00:41<00:00,  1.43it/s]\n"
     ]
    },
    {
     "name": "stdout",
     "output_type": "stream",
     "text": [
      " - Training Loss        0.9257\n",
      " - Validation Loss      1.1702\n",
      " - Validation Accuracy  0.3521\n",
      "\n",
      " - Validation Accuracy (per class)\n",
      "   * Class 0\t 0.4218 [143 out of 339]\n",
      "   * Class 1\t 0.2268 [71 out of 313]\n",
      "   * Class 2\t 0.4026 [124 out of 308]\n",
      "   * Mean        0.3504\n",
      "\n",
      "==================================================================================\n"
     ]
    },
    {
     "name": "stderr",
     "output_type": "stream",
     "text": [
      "> Epoch 19: 100%|██████████| 60/60 [00:41<00:00,  1.43it/s]\n"
     ]
    },
    {
     "name": "stdout",
     "output_type": "stream",
     "text": [
      " - Training Loss        0.9247\n",
      " - Validation Loss      1.1701\n",
      " - Validation Accuracy  0.3854\n",
      "\n",
      " - Validation Accuracy (per class)\n",
      "   * Class 0\t 0.6519 [221 out of 339]\n",
      "   * Class 1\t 0.2268 [71 out of 313]\n",
      "   * Class 2\t 0.2532 [78 out of 308]\n",
      "   * Mean        0.3773\n",
      "\n",
      "==================================================================================\n"
     ]
    },
    {
     "name": "stderr",
     "output_type": "stream",
     "text": [
      "> Epoch 20: 100%|██████████| 60/60 [00:41<00:00,  1.43it/s]\n"
     ]
    },
    {
     "name": "stdout",
     "output_type": "stream",
     "text": [
      " - Training Loss        0.924\n",
      " - Validation Loss      1.1717\n",
      " - Validation Accuracy  0.3792\n",
      "\n",
      " - Validation Accuracy (per class)\n",
      "   * Class 0\t 0.4897 [166 out of 339]\n",
      "   * Class 1\t 0.3834 [120 out of 313]\n",
      "   * Class 2\t 0.2532 [78 out of 308]\n",
      "   * Mean        0.3754\n",
      "\n",
      "==================================================================================\n"
     ]
    },
    {
     "name": "stderr",
     "output_type": "stream",
     "text": [
      "> Epoch 21: 100%|██████████| 60/60 [00:41<00:00,  1.43it/s]\n"
     ]
    },
    {
     "name": "stdout",
     "output_type": "stream",
     "text": [
      " - Training Loss        0.924\n",
      " - Validation Loss      1.1755\n",
      " - Validation Accuracy  0.374\n",
      "\n",
      " - Validation Accuracy (per class)\n",
      "   * Class 0\t 0.4484 [152 out of 339]\n",
      "   * Class 1\t 0.2236 [70 out of 313]\n",
      "   * Class 2\t 0.4448 [137 out of 308]\n",
      "   * Mean        0.3723\n",
      "\n",
      "==================================================================================\n"
     ]
    },
    {
     "name": "stderr",
     "output_type": "stream",
     "text": [
      "> Epoch 22: 100%|██████████| 60/60 [00:42<00:00,  1.42it/s]\n"
     ]
    },
    {
     "name": "stdout",
     "output_type": "stream",
     "text": [
      " - Training Loss        0.9362\n",
      " - Validation Loss      1.1466\n",
      " - Validation Accuracy  0.3667\n",
      "\n",
      " - Validation Accuracy (per class)\n",
      "   * Class 0\t 0.7581 [257 out of 339]\n",
      "   * Class 1\t 0.1949 [61 out of 313]\n",
      "   * Class 2\t 0.1104 [34 out of 308]\n",
      "   * Mean        0.3545\n",
      "\n",
      "==================================================================================\n"
     ]
    },
    {
     "name": "stderr",
     "output_type": "stream",
     "text": [
      "> Epoch 23: 100%|██████████| 60/60 [00:42<00:00,  1.41it/s]\n"
     ]
    },
    {
     "name": "stdout",
     "output_type": "stream",
     "text": [
      " - Training Loss        0.952\n",
      " - Validation Loss      1.1852\n",
      " - Validation Accuracy  0.3656\n",
      "\n",
      " - Validation Accuracy (per class)\n",
      "   * Class 0\t 0.4012 [136 out of 339]\n",
      "   * Class 1\t 0.1725 [54 out of 313]\n",
      "   * Class 2\t 0.5227 [161 out of 308]\n",
      "   * Mean        0.3655\n",
      "\n",
      "==================================================================================\n"
     ]
    },
    {
     "name": "stderr",
     "output_type": "stream",
     "text": [
      "> Epoch 24: 100%|██████████| 60/60 [00:42<00:00,  1.42it/s]\n"
     ]
    },
    {
     "name": "stdout",
     "output_type": "stream",
     "text": [
      " - Training Loss        0.941\n",
      " - Validation Loss      1.1658\n",
      " - Validation Accuracy  0.3844\n",
      "\n",
      " - Validation Accuracy (per class)\n",
      "   * Class 0\t 0.4897 [166 out of 339]\n",
      "   * Class 1\t 0.2716 [85 out of 313]\n",
      "   * Class 2\t 0.3831 [118 out of 308]\n",
      "   * Mean        0.3815\n",
      "\n",
      "==================================================================================\n"
     ]
    },
    {
     "name": "stderr",
     "output_type": "stream",
     "text": [
      "> Epoch 25: 100%|██████████| 60/60 [00:42<00:00,  1.42it/s]\n"
     ]
    },
    {
     "name": "stdout",
     "output_type": "stream",
     "text": [
      " - Training Loss        0.9296\n",
      " - Validation Loss      1.1723\n",
      " - Validation Accuracy  0.3865\n",
      "\n",
      " - Validation Accuracy (per class)\n",
      "   * Class 0\t 0.4838 [164 out of 339]\n",
      "   * Class 1\t 0.147 [46 out of 313]\n",
      "   * Class 2\t 0.5227 [161 out of 308]\n",
      "   * Mean        0.3845\n",
      "\n",
      "==================================================================================\n"
     ]
    },
    {
     "name": "stderr",
     "output_type": "stream",
     "text": [
      "> Epoch 26: 100%|██████████| 60/60 [00:42<00:00,  1.42it/s]\n"
     ]
    },
    {
     "name": "stdout",
     "output_type": "stream",
     "text": [
      " - Training Loss        0.9313\n",
      " - Validation Loss      1.1641\n",
      " - Validation Accuracy  0.3958\n",
      "\n",
      " - Validation Accuracy (per class)\n",
      "   * Class 0\t 0.5782 [196 out of 339]\n",
      "   * Class 1\t 0.1438 [45 out of 313]\n",
      "   * Class 2\t 0.4513 [139 out of 308]\n",
      "   * Mean        0.3911\n",
      "\n",
      "> ATTENTION: epoch 26 was the best one so far! The model has been saved :)\n",
      "\n",
      "==================================================================================\n"
     ]
    },
    {
     "name": "stderr",
     "output_type": "stream",
     "text": [
      "> Epoch 27: 100%|██████████| 60/60 [00:42<00:00,  1.42it/s]\n"
     ]
    },
    {
     "name": "stdout",
     "output_type": "stream",
     "text": [
      " - Training Loss        0.9328\n",
      " - Validation Loss      1.1968\n",
      " - Validation Accuracy  0.3271\n",
      "\n",
      " - Validation Accuracy (per class)\n",
      "   * Class 0\t 0.2271 [77 out of 339]\n",
      "   * Class 1\t 0.4153 [130 out of 313]\n",
      "   * Class 2\t 0.3474 [107 out of 308]\n",
      "   * Mean        0.3299\n",
      "\n",
      "==================================================================================\n"
     ]
    },
    {
     "name": "stderr",
     "output_type": "stream",
     "text": [
      "> Epoch 28: 100%|██████████| 60/60 [00:42<00:00,  1.41it/s]\n"
     ]
    },
    {
     "name": "stdout",
     "output_type": "stream",
     "text": [
      " - Training Loss        0.9394\n",
      " - Validation Loss      1.1974\n",
      " - Validation Accuracy  0.3281\n",
      "\n",
      " - Validation Accuracy (per class)\n",
      "   * Class 0\t 0.059 [20 out of 339]\n",
      "   * Class 1\t 0.3514 [110 out of 313]\n",
      "   * Class 2\t 0.6006 [185 out of 308]\n",
      "   * Mean        0.337\n",
      "\n",
      "==================================================================================\n"
     ]
    },
    {
     "name": "stderr",
     "output_type": "stream",
     "text": [
      "> Epoch 29: 100%|██████████| 60/60 [00:42<00:00,  1.41it/s]\n"
     ]
    },
    {
     "name": "stdout",
     "output_type": "stream",
     "text": [
      " - Training Loss        0.9397\n",
      " - Validation Loss      1.2011\n",
      " - Validation Accuracy  0.3365\n",
      "\n",
      " - Validation Accuracy (per class)\n",
      "   * Class 0\t 0.0885 [30 out of 339]\n",
      "   * Class 1\t 0.77 [241 out of 313]\n",
      "   * Class 2\t 0.1688 [52 out of 308]\n",
      "   * Mean        0.3424\n",
      "\n",
      "==================================================================================\n"
     ]
    },
    {
     "name": "stderr",
     "output_type": "stream",
     "text": [
      "> Epoch 30: 100%|██████████| 60/60 [00:42<00:00,  1.41it/s]\n"
     ]
    },
    {
     "name": "stdout",
     "output_type": "stream",
     "text": [
      " - Training Loss        0.9359\n",
      " - Validation Loss      1.1826\n",
      " - Validation Accuracy  0.3594\n",
      "\n",
      " - Validation Accuracy (per class)\n",
      "   * Class 0\t 0.0914 [31 out of 339]\n",
      "   * Class 1\t 0.8211 [257 out of 313]\n",
      "   * Class 2\t 0.1851 [57 out of 308]\n",
      "   * Mean        0.3659\n",
      "\n",
      "==================================================================================\n"
     ]
    },
    {
     "name": "stderr",
     "output_type": "stream",
     "text": [
      "> Epoch 31: 100%|██████████| 60/60 [00:42<00:00,  1.41it/s]\n"
     ]
    },
    {
     "name": "stdout",
     "output_type": "stream",
     "text": [
      " - Training Loss        0.9367\n",
      " - Validation Loss      1.1846\n",
      " - Validation Accuracy  0.3802\n",
      "\n",
      " - Validation Accuracy (per class)\n",
      "   * Class 0\t 0.2212 [75 out of 339]\n",
      "   * Class 1\t 0.3387 [106 out of 313]\n",
      "   * Class 2\t 0.5974 [184 out of 308]\n",
      "   * Mean        0.3858\n",
      "\n",
      "==================================================================================\n"
     ]
    },
    {
     "name": "stderr",
     "output_type": "stream",
     "text": [
      "> Epoch 32: 100%|██████████| 60/60 [00:42<00:00,  1.41it/s]\n"
     ]
    },
    {
     "name": "stdout",
     "output_type": "stream",
     "text": [
      " - Training Loss        0.9388\n",
      " - Validation Loss      1.2072\n",
      " - Validation Accuracy  0.3563\n",
      "\n",
      " - Validation Accuracy (per class)\n",
      "   * Class 0\t 0.056 [19 out of 339]\n",
      "   * Class 1\t 0.5751 [180 out of 313]\n",
      "   * Class 2\t 0.4643 [143 out of 308]\n",
      "   * Mean        0.3651\n",
      "\n",
      "==================================================================================\n"
     ]
    },
    {
     "name": "stderr",
     "output_type": "stream",
     "text": [
      "> Epoch 33: 100%|██████████| 60/60 [00:42<00:00,  1.42it/s]\n"
     ]
    },
    {
     "name": "stdout",
     "output_type": "stream",
     "text": [
      " - Training Loss        0.9393\n",
      " - Validation Loss      1.1841\n",
      " - Validation Accuracy  0.3406\n",
      "\n",
      " - Validation Accuracy (per class)\n",
      "   * Class 0\t 0.351 [119 out of 339]\n",
      "   * Class 1\t 0.5016 [157 out of 313]\n",
      "   * Class 2\t 0.1656 [51 out of 308]\n",
      "   * Mean        0.3394\n",
      "\n",
      "==================================================================================\n"
     ]
    },
    {
     "name": "stderr",
     "output_type": "stream",
     "text": [
      "> Epoch 34: 100%|██████████| 60/60 [00:42<00:00,  1.41it/s]\n"
     ]
    },
    {
     "name": "stdout",
     "output_type": "stream",
     "text": [
      " - Training Loss        0.943\n",
      " - Validation Loss      1.1772\n",
      " - Validation Accuracy  0.3344\n",
      "\n",
      " - Validation Accuracy (per class)\n",
      "   * Class 0\t 0.3068 [104 out of 339]\n",
      "   * Class 1\t 0.2939 [92 out of 313]\n",
      "   * Class 2\t 0.4058 [125 out of 308]\n",
      "   * Mean        0.3355\n",
      "\n",
      "==================================================================================\n"
     ]
    },
    {
     "name": "stderr",
     "output_type": "stream",
     "text": [
      "> Epoch 35: 100%|██████████| 60/60 [00:42<00:00,  1.41it/s]\n"
     ]
    },
    {
     "name": "stdout",
     "output_type": "stream",
     "text": [
      " - Training Loss        0.9425\n",
      " - Validation Loss      1.19\n",
      " - Validation Accuracy  0.3604\n",
      "\n",
      " - Validation Accuracy (per class)\n",
      "   * Class 0\t 0.3835 [130 out of 339]\n",
      "   * Class 1\t 0.3291 [103 out of 313]\n",
      "   * Class 2\t 0.3669 [113 out of 308]\n",
      "   * Mean        0.3598\n",
      "\n",
      "==================================================================================\n"
     ]
    },
    {
     "name": "stderr",
     "output_type": "stream",
     "text": [
      "> Epoch 36: 100%|██████████| 60/60 [00:42<00:00,  1.42it/s]\n"
     ]
    },
    {
     "name": "stdout",
     "output_type": "stream",
     "text": [
      " - Training Loss        0.9393\n",
      " - Validation Loss      1.1953\n",
      " - Validation Accuracy  0.3563\n",
      "\n",
      " - Validation Accuracy (per class)\n",
      "   * Class 0\t 0.354 [120 out of 339]\n",
      "   * Class 1\t 0.0575 [18 out of 313]\n",
      "   * Class 2\t 0.6623 [204 out of 308]\n",
      "   * Mean        0.3579\n",
      "\n",
      "==================================================================================\n"
     ]
    },
    {
     "name": "stderr",
     "output_type": "stream",
     "text": [
      "> Epoch 37: 100%|██████████| 60/60 [00:42<00:00,  1.42it/s]\n"
     ]
    },
    {
     "name": "stdout",
     "output_type": "stream",
     "text": [
      " - Training Loss        0.9396\n",
      " - Validation Loss      1.2053\n",
      " - Validation Accuracy  0.3573\n",
      "\n",
      " - Validation Accuracy (per class)\n",
      "   * Class 0\t 0.059 [20 out of 339]\n",
      "   * Class 1\t 0.639 [200 out of 313]\n",
      "   * Class 2\t 0.3994 [123 out of 308]\n",
      "   * Mean        0.3658\n",
      "\n",
      "==================================================================================\n"
     ]
    },
    {
     "name": "stderr",
     "output_type": "stream",
     "text": [
      "> Epoch 38: 100%|██████████| 60/60 [00:42<00:00,  1.42it/s]\n"
     ]
    },
    {
     "name": "stdout",
     "output_type": "stream",
     "text": [
      " - Training Loss        0.9357\n",
      " - Validation Loss      1.2117\n",
      " - Validation Accuracy  0.3583\n",
      "\n",
      " - Validation Accuracy (per class)\n",
      "   * Class 0\t 0.059 [20 out of 339]\n",
      "   * Class 1\t 0.639 [200 out of 313]\n",
      "   * Class 2\t 0.4026 [124 out of 308]\n",
      "   * Mean        0.3669\n",
      "\n",
      "==================================================================================\n"
     ]
    },
    {
     "name": "stderr",
     "output_type": "stream",
     "text": [
      "> Epoch 39: 100%|██████████| 60/60 [00:42<00:00,  1.42it/s]\n"
     ]
    },
    {
     "name": "stdout",
     "output_type": "stream",
     "text": [
      " - Training Loss        0.9372\n",
      " - Validation Loss      1.1975\n",
      " - Validation Accuracy  0.3406\n",
      "\n",
      " - Validation Accuracy (per class)\n",
      "   * Class 0\t 0.2979 [101 out of 339]\n",
      "   * Class 1\t 0.639 [200 out of 313]\n",
      "   * Class 2\t 0.0844 [26 out of 308]\n",
      "   * Mean        0.3404\n",
      "\n",
      "==================================================================================\n"
     ]
    },
    {
     "name": "stderr",
     "output_type": "stream",
     "text": [
      "> Epoch 40: 100%|██████████| 60/60 [00:42<00:00,  1.42it/s]\n"
     ]
    },
    {
     "name": "stdout",
     "output_type": "stream",
     "text": [
      " - Training Loss        0.9369\n",
      " - Validation Loss      1.1927\n",
      " - Validation Accuracy  0.3635\n",
      "\n",
      " - Validation Accuracy (per class)\n",
      "   * Class 0\t 0.9056 [307 out of 339]\n",
      "   * Class 1\t 0.0511 [16 out of 313]\n",
      "   * Class 2\t 0.0844 [26 out of 308]\n",
      "   * Mean        0.347\n",
      "\n",
      "==================================================================================\n"
     ]
    },
    {
     "name": "stderr",
     "output_type": "stream",
     "text": [
      "> Epoch 41: 100%|██████████| 60/60 [00:42<00:00,  1.42it/s]\n"
     ]
    },
    {
     "name": "stdout",
     "output_type": "stream",
     "text": [
      " - Training Loss        0.9364\n",
      " - Validation Loss      1.1948\n",
      " - Validation Accuracy  0.3417\n",
      "\n",
      " - Validation Accuracy (per class)\n",
      "   * Class 0\t 0.2979 [101 out of 339]\n",
      "   * Class 1\t 0.639 [200 out of 313]\n",
      "   * Class 2\t 0.0877 [27 out of 308]\n",
      "   * Mean        0.3415\n",
      "\n",
      "==================================================================================\n"
     ]
    },
    {
     "name": "stderr",
     "output_type": "stream",
     "text": [
      "> Epoch 42: 100%|██████████| 60/60 [00:42<00:00,  1.42it/s]\n"
     ]
    },
    {
     "name": "stdout",
     "output_type": "stream",
     "text": [
      " - Training Loss        0.9366\n",
      " - Validation Loss      1.2058\n",
      " - Validation Accuracy  0.3323\n",
      "\n",
      " - Validation Accuracy (per class)\n",
      "   * Class 0\t 0.2979 [101 out of 339]\n",
      "   * Class 1\t 0.345 [108 out of 313]\n",
      "   * Class 2\t 0.3571 [110 out of 308]\n",
      "   * Mean        0.3333\n",
      "\n",
      "==================================================================================\n"
     ]
    },
    {
     "name": "stderr",
     "output_type": "stream",
     "text": [
      "> Epoch 43: 100%|██████████| 60/60 [00:42<00:00,  1.42it/s]\n"
     ]
    },
    {
     "name": "stdout",
     "output_type": "stream",
     "text": [
      " - Training Loss        0.9358\n",
      " - Validation Loss      1.2049\n",
      " - Validation Accuracy  0.3281\n",
      "\n",
      " - Validation Accuracy (per class)\n",
      "   * Class 0\t 0.059 [20 out of 339]\n",
      "   * Class 1\t 0.3355 [105 out of 313]\n",
      "   * Class 2\t 0.6169 [190 out of 308]\n",
      "   * Mean        0.3371\n",
      "\n",
      "==================================================================================\n"
     ]
    },
    {
     "name": "stderr",
     "output_type": "stream",
     "text": [
      "> Epoch 44: 100%|██████████| 60/60 [00:42<00:00,  1.42it/s]\n"
     ]
    },
    {
     "name": "stdout",
     "output_type": "stream",
     "text": [
      " - Training Loss        0.9401\n",
      " - Validation Loss      1.2176\n",
      " - Validation Accuracy  0.3604\n",
      "\n",
      " - Validation Accuracy (per class)\n",
      "   * Class 0\t 0.3599 [122 out of 339]\n",
      "   * Class 1\t 0.6294 [197 out of 313]\n",
      "   * Class 2\t 0.0877 [27 out of 308]\n",
      "   * Mean        0.359\n",
      "\n",
      "==================================================================================\n"
     ]
    },
    {
     "name": "stderr",
     "output_type": "stream",
     "text": [
      "> Epoch 45: 100%|██████████| 60/60 [00:42<00:00,  1.42it/s]\n"
     ]
    },
    {
     "name": "stdout",
     "output_type": "stream",
     "text": [
      " - Training Loss        0.9371\n",
      " - Validation Loss      1.1986\n",
      " - Validation Accuracy  0.3688\n",
      "\n",
      " - Validation Accuracy (per class)\n",
      "   * Class 0\t 0.3569 [121 out of 339]\n",
      "   * Class 1\t 0.345 [108 out of 313]\n",
      "   * Class 2\t 0.4058 [125 out of 308]\n",
      "   * Mean        0.3692\n",
      "\n",
      "==================================================================================\n"
     ]
    },
    {
     "name": "stderr",
     "output_type": "stream",
     "text": [
      "> Epoch 46: 100%|██████████| 60/60 [00:42<00:00,  1.42it/s]\n"
     ]
    },
    {
     "name": "stdout",
     "output_type": "stream",
     "text": [
      " - Training Loss        0.9314\n",
      " - Validation Loss      1.205\n",
      " - Validation Accuracy  0.3594\n",
      "\n",
      " - Validation Accuracy (per class)\n",
      "   * Class 0\t 0.3569 [121 out of 339]\n",
      "   * Class 1\t 0.6294 [197 out of 313]\n",
      "   * Class 2\t 0.0877 [27 out of 308]\n",
      "   * Mean        0.358\n",
      "\n",
      "==================================================================================\n"
     ]
    },
    {
     "name": "stderr",
     "output_type": "stream",
     "text": [
      "> Epoch 47: 100%|██████████| 60/60 [00:42<00:00,  1.42it/s]\n"
     ]
    },
    {
     "name": "stdout",
     "output_type": "stream",
     "text": [
      " - Training Loss        0.9339\n",
      " - Validation Loss      1.2087\n",
      " - Validation Accuracy  0.3552\n",
      "\n",
      " - Validation Accuracy (per class)\n",
      "   * Class 0\t 0.3569 [121 out of 339]\n",
      "   * Class 1\t 0.0543 [17 out of 313]\n",
      "   * Class 2\t 0.6591 [203 out of 308]\n",
      "   * Mean        0.3568\n",
      "\n",
      "==================================================================================\n"
     ]
    },
    {
     "name": "stderr",
     "output_type": "stream",
     "text": [
      "> Epoch 48: 100%|██████████| 60/60 [00:42<00:00,  1.42it/s]\n"
     ]
    },
    {
     "name": "stdout",
     "output_type": "stream",
     "text": [
      " - Training Loss        0.9356\n",
      " - Validation Loss      1.2033\n",
      " - Validation Accuracy  0.3344\n",
      "\n",
      " - Validation Accuracy (per class)\n",
      "   * Class 0\t 0.2979 [101 out of 339]\n",
      "   * Class 1\t 0.345 [108 out of 313]\n",
      "   * Class 2\t 0.3636 [112 out of 308]\n",
      "   * Mean        0.3355\n",
      "\n",
      "==================================================================================\n"
     ]
    },
    {
     "name": "stderr",
     "output_type": "stream",
     "text": [
      "> Epoch 49: 100%|██████████| 60/60 [00:42<00:00,  1.42it/s]\n"
     ]
    },
    {
     "name": "stdout",
     "output_type": "stream",
     "text": [
      " - Training Loss        0.9329\n",
      " - Validation Loss      1.2125\n",
      " - Validation Accuracy  0.3698\n",
      "\n",
      " - Validation Accuracy (per class)\n",
      "   * Class 0\t 0.354 [120 out of 339]\n",
      "   * Class 1\t 0.3482 [109 out of 313]\n",
      "   * Class 2\t 0.4091 [126 out of 308]\n",
      "   * Mean        0.3704\n",
      "\n",
      "==================================================================================\n"
     ]
    },
    {
     "name": "stderr",
     "output_type": "stream",
     "text": [
      "> Epoch 50: 100%|██████████| 60/60 [00:42<00:00,  1.42it/s]\n"
     ]
    },
    {
     "name": "stdout",
     "output_type": "stream",
     "text": [
      " - Training Loss        0.9329\n",
      " - Validation Loss      1.2142\n",
      " - Validation Accuracy  0.3531\n",
      "\n",
      " - Validation Accuracy (per class)\n",
      "   * Class 0\t 0.059 [20 out of 339]\n",
      "   * Class 1\t 0.3514 [110 out of 313]\n",
      "   * Class 2\t 0.6786 [209 out of 308]\n",
      "   * Mean        0.363\n",
      "\n",
      "==================================================================================\n",
      "> Parameters imported\n",
      "> Dataset correctly divided in training set, validation set and test set\n",
      "> Created Pytorch datasets and dataloaders\n",
      "> Model 'LSTM_fixed' instantiated\n",
      "> Initialization required 0.1105 seconds\n",
      "==================================================================================\n",
      "> Training Started\n",
      "  - Total Epochs: 50\n",
      "==================================================================================\n"
     ]
    },
    {
     "name": "stderr",
     "output_type": "stream",
     "text": [
      "> Epoch 1: 100%|██████████| 60/60 [00:41<00:00,  1.44it/s]\n"
     ]
    },
    {
     "name": "stdout",
     "output_type": "stream",
     "text": [
      " - Training Loss        1.1175\n",
      " - Validation Loss      1.0965\n",
      " - Validation Accuracy  0.3521\n",
      "\n",
      " - Validation Accuracy (per class)\n",
      "   * Class 0\t 0.0767 [26 out of 339]\n",
      "   * Class 1\t 0.9233 [289 out of 313]\n",
      "   * Class 2\t 0.0747 [23 out of 308]\n",
      "   * Mean        0.3582\n",
      "\n",
      "> ATTENTION: epoch 1 was the best one so far! The model has been saved :)\n",
      "\n",
      "==================================================================================\n"
     ]
    },
    {
     "name": "stderr",
     "output_type": "stream",
     "text": [
      "> Epoch 2: 100%|██████████| 60/60 [00:41<00:00,  1.44it/s]\n"
     ]
    },
    {
     "name": "stdout",
     "output_type": "stream",
     "text": [
      " - Training Loss        1.0053\n",
      " - Validation Loss      1.1577\n",
      " - Validation Accuracy  0.3438\n",
      "\n",
      " - Validation Accuracy (per class)\n",
      "   * Class 0\t 0.0354 [12 out of 339]\n",
      "   * Class 1\t 0.9137 [286 out of 313]\n",
      "   * Class 2\t 0.1039 [32 out of 308]\n",
      "   * Mean        0.351\n",
      "\n",
      "==================================================================================\n"
     ]
    },
    {
     "name": "stderr",
     "output_type": "stream",
     "text": [
      "> Epoch 3: 100%|██████████| 60/60 [00:42<00:00,  1.41it/s]\n"
     ]
    },
    {
     "name": "stdout",
     "output_type": "stream",
     "text": [
      " - Training Loss        1.069\n",
      " - Validation Loss      1.1268\n",
      " - Validation Accuracy  0.325\n",
      "\n",
      " - Validation Accuracy (per class)\n",
      "   * Class 0\t 0.0501 [17 out of 339]\n",
      "   * Class 1\t 0.0447 [14 out of 313]\n",
      "   * Class 2\t 0.9123 [281 out of 308]\n",
      "   * Mean        0.3357\n",
      "\n",
      "==================================================================================\n"
     ]
    },
    {
     "name": "stderr",
     "output_type": "stream",
     "text": [
      "> Epoch 4: 100%|██████████| 60/60 [00:42<00:00,  1.41it/s]\n"
     ]
    },
    {
     "name": "stdout",
     "output_type": "stream",
     "text": [
      " - Training Loss        0.9863\n",
      " - Validation Loss      1.1371\n",
      " - Validation Accuracy  0.3583\n",
      "\n",
      " - Validation Accuracy (per class)\n",
      "   * Class 0\t 0.8879 [301 out of 339]\n",
      "   * Class 1\t 0.0447 [14 out of 313]\n",
      "   * Class 2\t 0.0942 [29 out of 308]\n",
      "   * Mean        0.3423\n",
      "\n",
      "==================================================================================\n"
     ]
    },
    {
     "name": "stderr",
     "output_type": "stream",
     "text": [
      "> Epoch 5: 100%|██████████| 60/60 [00:42<00:00,  1.41it/s]\n"
     ]
    },
    {
     "name": "stdout",
     "output_type": "stream",
     "text": [
      " - Training Loss        0.9486\n",
      " - Validation Loss      1.1686\n",
      " - Validation Accuracy  0.3427\n",
      "\n",
      " - Validation Accuracy (per class)\n",
      "   * Class 0\t 0.0354 [12 out of 339]\n",
      "   * Class 1\t 0.9169 [287 out of 313]\n",
      "   * Class 2\t 0.0974 [30 out of 308]\n",
      "   * Mean        0.3499\n",
      "\n",
      "==================================================================================\n"
     ]
    },
    {
     "name": "stderr",
     "output_type": "stream",
     "text": [
      "> Epoch 6: 100%|██████████| 60/60 [00:42<00:00,  1.41it/s]\n"
     ]
    },
    {
     "name": "stdout",
     "output_type": "stream",
     "text": [
      " - Training Loss        0.9354\n",
      " - Validation Loss      1.1549\n",
      " - Validation Accuracy  0.3646\n",
      "\n",
      " - Validation Accuracy (per class)\n",
      "   * Class 0\t 0.5723 [194 out of 339]\n",
      "   * Class 1\t 0.4026 [126 out of 313]\n",
      "   * Class 2\t 0.0974 [30 out of 308]\n",
      "   * Mean        0.3574\n",
      "\n",
      "==================================================================================\n"
     ]
    },
    {
     "name": "stderr",
     "output_type": "stream",
     "text": [
      "> Epoch 7: 100%|██████████| 60/60 [00:42<00:00,  1.41it/s]\n"
     ]
    },
    {
     "name": "stdout",
     "output_type": "stream",
     "text": [
      " - Training Loss        0.8674\n",
      " - Validation Loss      1.0694\n",
      " - Validation Accuracy  0.4792\n",
      "\n",
      " - Validation Accuracy (per class)\n",
      "   * Class 0\t 0.7699 [261 out of 339]\n",
      "   * Class 1\t 0.0511 [16 out of 313]\n",
      "   * Class 2\t 0.5942 [183 out of 308]\n",
      "   * Mean        0.4717\n",
      "\n",
      "> ATTENTION: epoch 7 was the best one so far! The model has been saved :)\n",
      "\n",
      "==================================================================================\n"
     ]
    },
    {
     "name": "stderr",
     "output_type": "stream",
     "text": [
      "> Epoch 8: 100%|██████████| 60/60 [00:42<00:00,  1.41it/s]\n"
     ]
    },
    {
     "name": "stdout",
     "output_type": "stream",
     "text": [
      " - Training Loss        0.7707\n",
      " - Validation Loss      1.0318\n",
      " - Validation Accuracy  0.5146\n",
      "\n",
      " - Validation Accuracy (per class)\n",
      "   * Class 0\t 0.0383 [13 out of 339]\n",
      "   * Class 1\t 0.8594 [269 out of 313]\n",
      "   * Class 2\t 0.6883 [212 out of 308]\n",
      "   * Mean        0.5287\n",
      "\n",
      "> ATTENTION: epoch 8 was the best one so far! The model has been saved :)\n",
      "\n",
      "==================================================================================\n"
     ]
    },
    {
     "name": "stderr",
     "output_type": "stream",
     "text": [
      "> Epoch 9: 100%|██████████| 60/60 [00:42<00:00,  1.41it/s]\n"
     ]
    },
    {
     "name": "stdout",
     "output_type": "stream",
     "text": [
      " - Training Loss        0.7502\n",
      " - Validation Loss      1.0508\n",
      " - Validation Accuracy  0.5167\n",
      "\n",
      " - Validation Accuracy (per class)\n",
      "   * Class 0\t 0.0354 [12 out of 339]\n",
      "   * Class 1\t 0.8754 [274 out of 313]\n",
      "   * Class 2\t 0.6818 [210 out of 308]\n",
      "   * Mean        0.5309\n",
      "\n",
      "> ATTENTION: epoch 9 was the best one so far! The model has been saved :)\n",
      "\n",
      "==================================================================================\n"
     ]
    },
    {
     "name": "stderr",
     "output_type": "stream",
     "text": [
      "> Epoch 10: 100%|██████████| 60/60 [00:42<00:00,  1.41it/s]\n"
     ]
    },
    {
     "name": "stdout",
     "output_type": "stream",
     "text": [
      " - Training Loss        0.761\n",
      " - Validation Loss      1.093\n",
      " - Validation Accuracy  0.5094\n",
      "\n",
      " - Validation Accuracy (per class)\n",
      "   * Class 0\t 0.7345 [249 out of 339]\n",
      "   * Class 1\t 0.0447 [14 out of 313]\n",
      "   * Class 2\t 0.7338 [226 out of 308]\n",
      "   * Mean        0.5043\n",
      "\n",
      "==================================================================================\n"
     ]
    },
    {
     "name": "stderr",
     "output_type": "stream",
     "text": [
      "> Epoch 11: 100%|██████████| 60/60 [00:42<00:00,  1.41it/s]\n"
     ]
    },
    {
     "name": "stdout",
     "output_type": "stream",
     "text": [
      " - Training Loss        0.7486\n",
      " - Validation Loss      1.0376\n",
      " - Validation Accuracy  0.5167\n",
      "\n",
      " - Validation Accuracy (per class)\n",
      "   * Class 0\t 0.0413 [14 out of 339]\n",
      "   * Class 1\t 0.8626 [270 out of 313]\n",
      "   * Class 2\t 0.6883 [212 out of 308]\n",
      "   * Mean        0.5307\n",
      "\n",
      "==================================================================================\n"
     ]
    },
    {
     "name": "stderr",
     "output_type": "stream",
     "text": [
      "> Epoch 12: 100%|██████████| 60/60 [00:42<00:00,  1.41it/s]\n"
     ]
    },
    {
     "name": "stdout",
     "output_type": "stream",
     "text": [
      " - Training Loss        0.7415\n",
      " - Validation Loss      1.0542\n",
      " - Validation Accuracy  0.5198\n",
      "\n",
      " - Validation Accuracy (per class)\n",
      "   * Class 0\t 0.0413 [14 out of 339]\n",
      "   * Class 1\t 0.8754 [274 out of 313]\n",
      "   * Class 2\t 0.6851 [211 out of 308]\n",
      "   * Mean        0.5339\n",
      "\n",
      "> ATTENTION: epoch 12 was the best one so far! The model has been saved :)\n",
      "\n",
      "==================================================================================\n"
     ]
    },
    {
     "name": "stderr",
     "output_type": "stream",
     "text": [
      "> Epoch 13: 100%|██████████| 60/60 [00:42<00:00,  1.41it/s]\n"
     ]
    },
    {
     "name": "stdout",
     "output_type": "stream",
     "text": [
      " - Training Loss        0.7309\n",
      " - Validation Loss      1.0308\n",
      " - Validation Accuracy  0.5104\n",
      "\n",
      " - Validation Accuracy (per class)\n",
      "   * Class 0\t 0.7994 [271 out of 339]\n",
      "   * Class 1\t 0.0447 [14 out of 313]\n",
      "   * Class 2\t 0.6656 [205 out of 308]\n",
      "   * Mean        0.5032\n",
      "\n",
      "==================================================================================\n"
     ]
    },
    {
     "name": "stderr",
     "output_type": "stream",
     "text": [
      "> Epoch 14: 100%|██████████| 60/60 [00:42<00:00,  1.41it/s]\n"
     ]
    },
    {
     "name": "stdout",
     "output_type": "stream",
     "text": [
      " - Training Loss        0.7284\n",
      " - Validation Loss      1.0496\n",
      " - Validation Accuracy  0.5177\n",
      "\n",
      " - Validation Accuracy (per class)\n",
      "   * Class 0\t 0.0383 [13 out of 339]\n",
      "   * Class 1\t 0.8818 [276 out of 313]\n",
      "   * Class 2\t 0.6753 [208 out of 308]\n",
      "   * Mean        0.5318\n",
      "\n",
      "==================================================================================\n"
     ]
    },
    {
     "name": "stderr",
     "output_type": "stream",
     "text": [
      "> Epoch 15: 100%|██████████| 60/60 [00:42<00:00,  1.41it/s]\n"
     ]
    },
    {
     "name": "stdout",
     "output_type": "stream",
     "text": [
      " - Training Loss        0.718\n",
      " - Validation Loss      1.0359\n",
      " - Validation Accuracy  0.5156\n",
      "\n",
      " - Validation Accuracy (per class)\n",
      "   * Class 0\t 0.0531 [18 out of 339]\n",
      "   * Class 1\t 0.8339 [261 out of 313]\n",
      "   * Class 2\t 0.7013 [216 out of 308]\n",
      "   * Mean        0.5294\n",
      "\n",
      "==================================================================================\n"
     ]
    },
    {
     "name": "stderr",
     "output_type": "stream",
     "text": [
      "> Epoch 16: 100%|██████████| 60/60 [00:42<00:00,  1.41it/s]\n"
     ]
    },
    {
     "name": "stdout",
     "output_type": "stream",
     "text": [
      " - Training Loss        0.711\n",
      " - Validation Loss      1.0181\n",
      " - Validation Accuracy  0.5396\n",
      "\n",
      " - Validation Accuracy (per class)\n",
      "   * Class 0\t 0.767 [260 out of 339]\n",
      "   * Class 1\t 0.1278 [40 out of 313]\n",
      "   * Class 2\t 0.7078 [218 out of 308]\n",
      "   * Mean        0.5342\n",
      "\n",
      "> ATTENTION: epoch 16 was the best one so far! The model has been saved :)\n",
      "\n",
      "==================================================================================\n"
     ]
    },
    {
     "name": "stderr",
     "output_type": "stream",
     "text": [
      "> Epoch 17: 100%|██████████| 60/60 [00:42<00:00,  1.41it/s]\n"
     ]
    },
    {
     "name": "stdout",
     "output_type": "stream",
     "text": [
      " - Training Loss        0.719\n",
      " - Validation Loss      1.0536\n",
      " - Validation Accuracy  0.5167\n",
      "\n",
      " - Validation Accuracy (per class)\n",
      "   * Class 0\t 0.0413 [14 out of 339]\n",
      "   * Class 1\t 0.8403 [263 out of 313]\n",
      "   * Class 2\t 0.711 [219 out of 308]\n",
      "   * Mean        0.5309\n",
      "\n",
      "==================================================================================\n"
     ]
    },
    {
     "name": "stderr",
     "output_type": "stream",
     "text": [
      "> Epoch 18: 100%|██████████| 60/60 [00:42<00:00,  1.41it/s]\n"
     ]
    },
    {
     "name": "stdout",
     "output_type": "stream",
     "text": [
      " - Training Loss        0.702\n",
      " - Validation Loss      1.0158\n",
      " - Validation Accuracy  0.5885\n",
      "\n",
      " - Validation Accuracy (per class)\n",
      "   * Class 0\t 0.531 [180 out of 339]\n",
      "   * Class 1\t 0.5272 [165 out of 313]\n",
      "   * Class 2\t 0.7143 [220 out of 308]\n",
      "   * Mean        0.5908\n",
      "\n",
      "> ATTENTION: epoch 18 was the best one so far! The model has been saved :)\n",
      "\n",
      "==================================================================================\n"
     ]
    },
    {
     "name": "stderr",
     "output_type": "stream",
     "text": [
      "> Epoch 19: 100%|██████████| 60/60 [00:42<00:00,  1.41it/s]\n"
     ]
    },
    {
     "name": "stdout",
     "output_type": "stream",
     "text": [
      " - Training Loss        0.6902\n",
      " - Validation Loss      1.0491\n",
      " - Validation Accuracy  0.5229\n",
      "\n",
      " - Validation Accuracy (per class)\n",
      "   * Class 0\t 0.0472 [16 out of 339]\n",
      "   * Class 1\t 0.8658 [271 out of 313]\n",
      "   * Class 2\t 0.6981 [215 out of 308]\n",
      "   * Mean        0.537\n",
      "\n",
      "==================================================================================\n"
     ]
    },
    {
     "name": "stderr",
     "output_type": "stream",
     "text": [
      "> Epoch 20: 100%|██████████| 60/60 [00:42<00:00,  1.41it/s]\n"
     ]
    },
    {
     "name": "stdout",
     "output_type": "stream",
     "text": [
      " - Training Loss        0.6867\n",
      " - Validation Loss      1.006\n",
      " - Validation Accuracy  0.5729\n",
      "\n",
      " - Validation Accuracy (per class)\n",
      "   * Class 0\t 0.2655 [90 out of 339]\n",
      "   * Class 1\t 0.7859 [246 out of 313]\n",
      "   * Class 2\t 0.6948 [214 out of 308]\n",
      "   * Mean        0.5821\n",
      "\n",
      "==================================================================================\n"
     ]
    },
    {
     "name": "stderr",
     "output_type": "stream",
     "text": [
      "> Epoch 21: 100%|██████████| 60/60 [00:42<00:00,  1.41it/s]\n"
     ]
    },
    {
     "name": "stdout",
     "output_type": "stream",
     "text": [
      " - Training Loss        0.6453\n",
      " - Validation Loss      0.9492\n",
      " - Validation Accuracy  0.676\n",
      "\n",
      " - Validation Accuracy (per class)\n",
      "   * Class 0\t 0.5162 [175 out of 339]\n",
      "   * Class 1\t 0.8275 [259 out of 313]\n",
      "   * Class 2\t 0.6981 [215 out of 308]\n",
      "   * Mean        0.6806\n",
      "\n",
      "> ATTENTION: epoch 21 was the best one so far! The model has been saved :)\n",
      "\n",
      "==================================================================================\n"
     ]
    },
    {
     "name": "stderr",
     "output_type": "stream",
     "text": [
      "> Epoch 22: 100%|██████████| 60/60 [00:42<00:00,  1.41it/s]\n"
     ]
    },
    {
     "name": "stdout",
     "output_type": "stream",
     "text": [
      " - Training Loss        0.5502\n",
      " - Validation Loss      0.8589\n",
      " - Validation Accuracy  0.7188\n",
      "\n",
      " - Validation Accuracy (per class)\n",
      "   * Class 0\t 0.6342 [215 out of 339]\n",
      "   * Class 1\t 0.8307 [260 out of 313]\n",
      "   * Class 2\t 0.6981 [215 out of 308]\n",
      "   * Mean        0.721\n",
      "\n",
      "> ATTENTION: epoch 22 was the best one so far! The model has been saved :)\n",
      "\n",
      "==================================================================================\n"
     ]
    },
    {
     "name": "stderr",
     "output_type": "stream",
     "text": [
      "> Epoch 23: 100%|██████████| 60/60 [00:42<00:00,  1.41it/s]\n"
     ]
    },
    {
     "name": "stdout",
     "output_type": "stream",
     "text": [
      " - Training Loss        0.5071\n",
      " - Validation Loss      0.883\n",
      " - Validation Accuracy  0.701\n",
      "\n",
      " - Validation Accuracy (per class)\n",
      "   * Class 0\t 0.5575 [189 out of 339]\n",
      "   * Class 1\t 0.8435 [264 out of 313]\n",
      "   * Class 2\t 0.7143 [220 out of 308]\n",
      "   * Mean        0.7051\n",
      "\n",
      "==================================================================================\n"
     ]
    },
    {
     "name": "stderr",
     "output_type": "stream",
     "text": [
      "> Epoch 24: 100%|██████████| 60/60 [00:42<00:00,  1.41it/s]\n"
     ]
    },
    {
     "name": "stdout",
     "output_type": "stream",
     "text": [
      " - Training Loss        0.4975\n",
      " - Validation Loss      0.9066\n",
      " - Validation Accuracy  0.6948\n",
      "\n",
      " - Validation Accuracy (per class)\n",
      "   * Class 0\t 0.5428 [184 out of 339]\n",
      "   * Class 1\t 0.8435 [264 out of 313]\n",
      "   * Class 2\t 0.711 [219 out of 308]\n",
      "   * Mean        0.6991\n",
      "\n",
      "==================================================================================\n"
     ]
    },
    {
     "name": "stderr",
     "output_type": "stream",
     "text": [
      "> Epoch 25: 100%|██████████| 60/60 [00:42<00:00,  1.41it/s]\n"
     ]
    },
    {
     "name": "stdout",
     "output_type": "stream",
     "text": [
      " - Training Loss        0.4892\n",
      " - Validation Loss      0.8742\n",
      " - Validation Accuracy  0.701\n",
      "\n",
      " - Validation Accuracy (per class)\n",
      "   * Class 0\t 0.5693 [193 out of 339]\n",
      "   * Class 1\t 0.8211 [257 out of 313]\n",
      "   * Class 2\t 0.724 [223 out of 308]\n",
      "   * Mean        0.7048\n",
      "\n",
      "==================================================================================\n"
     ]
    },
    {
     "name": "stderr",
     "output_type": "stream",
     "text": [
      "> Epoch 26: 100%|██████████| 60/60 [00:42<00:00,  1.41it/s]\n"
     ]
    },
    {
     "name": "stdout",
     "output_type": "stream",
     "text": [
      " - Training Loss        0.4861\n",
      " - Validation Loss      0.9346\n",
      " - Validation Accuracy  0.7063\n",
      "\n",
      " - Validation Accuracy (per class)\n",
      "   * Class 0\t 0.5929 [201 out of 339]\n",
      "   * Class 1\t 0.853 [267 out of 313]\n",
      "   * Class 2\t 0.6818 [210 out of 308]\n",
      "   * Mean        0.7092\n",
      "\n",
      "==================================================================================\n"
     ]
    },
    {
     "name": "stderr",
     "output_type": "stream",
     "text": [
      "> Epoch 27: 100%|██████████| 60/60 [00:42<00:00,  1.41it/s]\n"
     ]
    },
    {
     "name": "stdout",
     "output_type": "stream",
     "text": [
      " - Training Loss        0.4753\n",
      " - Validation Loss      0.8617\n",
      " - Validation Accuracy  0.725\n",
      "\n",
      " - Validation Accuracy (per class)\n",
      "   * Class 0\t 0.6283 [213 out of 339]\n",
      "   * Class 1\t 0.8403 [263 out of 313]\n",
      "   * Class 2\t 0.7143 [220 out of 308]\n",
      "   * Mean        0.7276\n",
      "\n",
      "> ATTENTION: epoch 27 was the best one so far! The model has been saved :)\n",
      "\n",
      "==================================================================================\n"
     ]
    },
    {
     "name": "stderr",
     "output_type": "stream",
     "text": [
      "> Epoch 28: 100%|██████████| 60/60 [00:42<00:00,  1.41it/s]\n"
     ]
    },
    {
     "name": "stdout",
     "output_type": "stream",
     "text": [
      " - Training Loss        0.5602\n",
      " - Validation Loss      0.9968\n",
      " - Validation Accuracy  0.6281\n",
      "\n",
      " - Validation Accuracy (per class)\n",
      "   * Class 0\t 0.3422 [116 out of 339]\n",
      "   * Class 1\t 0.8626 [270 out of 313]\n",
      "   * Class 2\t 0.7045 [217 out of 308]\n",
      "   * Mean        0.6364\n",
      "\n",
      "==================================================================================\n"
     ]
    },
    {
     "name": "stderr",
     "output_type": "stream",
     "text": [
      "> Epoch 29: 100%|██████████| 60/60 [00:42<00:00,  1.41it/s]\n"
     ]
    },
    {
     "name": "stdout",
     "output_type": "stream",
     "text": [
      " - Training Loss        0.5665\n",
      " - Validation Loss      0.9369\n",
      " - Validation Accuracy  0.6365\n",
      "\n",
      " - Validation Accuracy (per class)\n",
      "   * Class 0\t 0.3746 [127 out of 339]\n",
      "   * Class 1\t 0.8562 [268 out of 313]\n",
      "   * Class 2\t 0.7013 [216 out of 308]\n",
      "   * Mean        0.644\n",
      "\n",
      "==================================================================================\n"
     ]
    },
    {
     "name": "stderr",
     "output_type": "stream",
     "text": [
      "> Epoch 30: 100%|██████████| 60/60 [00:42<00:00,  1.41it/s]\n"
     ]
    },
    {
     "name": "stdout",
     "output_type": "stream",
     "text": [
      " - Training Loss        0.563\n",
      " - Validation Loss      1.0093\n",
      " - Validation Accuracy  0.6688\n",
      "\n",
      " - Validation Accuracy (per class)\n",
      "   * Class 0\t 0.4395 [149 out of 339]\n",
      "   * Class 1\t 0.8435 [264 out of 313]\n",
      "   * Class 2\t 0.7435 [229 out of 308]\n",
      "   * Mean        0.6755\n",
      "\n",
      "==================================================================================\n"
     ]
    },
    {
     "name": "stderr",
     "output_type": "stream",
     "text": [
      "> Epoch 31: 100%|██████████| 60/60 [00:42<00:00,  1.41it/s]\n"
     ]
    },
    {
     "name": "stdout",
     "output_type": "stream",
     "text": [
      " - Training Loss        0.5723\n",
      " - Validation Loss      1.0052\n",
      " - Validation Accuracy  0.6323\n",
      "\n",
      " - Validation Accuracy (per class)\n",
      "   * Class 0\t 0.3304 [112 out of 339]\n",
      "   * Class 1\t 0.8722 [273 out of 313]\n",
      "   * Class 2\t 0.7208 [222 out of 308]\n",
      "   * Mean        0.6411\n",
      "\n",
      "==================================================================================\n"
     ]
    },
    {
     "name": "stderr",
     "output_type": "stream",
     "text": [
      "> Epoch 32: 100%|██████████| 60/60 [00:42<00:00,  1.41it/s]\n"
     ]
    },
    {
     "name": "stdout",
     "output_type": "stream",
     "text": [
      " - Training Loss        0.5556\n",
      " - Validation Loss      0.9775\n",
      " - Validation Accuracy  0.6396\n",
      "\n",
      " - Validation Accuracy (per class)\n",
      "   * Class 0\t 0.3392 [115 out of 339]\n",
      "   * Class 1\t 0.8722 [273 out of 313]\n",
      "   * Class 2\t 0.7338 [226 out of 308]\n",
      "   * Mean        0.6484\n",
      "\n",
      "==================================================================================\n"
     ]
    },
    {
     "name": "stderr",
     "output_type": "stream",
     "text": [
      "> Epoch 33: 100%|██████████| 60/60 [00:42<00:00,  1.41it/s]\n"
     ]
    },
    {
     "name": "stdout",
     "output_type": "stream",
     "text": [
      " - Training Loss        0.5504\n",
      " - Validation Loss      0.9934\n",
      " - Validation Accuracy  0.6417\n",
      "\n",
      " - Validation Accuracy (per class)\n",
      "   * Class 0\t 0.3422 [116 out of 339]\n",
      "   * Class 1\t 0.8594 [269 out of 313]\n",
      "   * Class 2\t 0.75 [231 out of 308]\n",
      "   * Mean        0.6505\n",
      "\n",
      "==================================================================================\n"
     ]
    },
    {
     "name": "stderr",
     "output_type": "stream",
     "text": [
      "> Epoch 34: 100%|██████████| 60/60 [00:42<00:00,  1.41it/s]\n"
     ]
    },
    {
     "name": "stdout",
     "output_type": "stream",
     "text": [
      " - Training Loss        0.5393\n",
      " - Validation Loss      1.0027\n",
      " - Validation Accuracy  0.6385\n",
      "\n",
      " - Validation Accuracy (per class)\n",
      "   * Class 0\t 0.3422 [116 out of 339]\n",
      "   * Class 1\t 0.8594 [269 out of 313]\n",
      "   * Class 2\t 0.7403 [228 out of 308]\n",
      "   * Mean        0.6473\n",
      "\n",
      "==================================================================================\n"
     ]
    },
    {
     "name": "stderr",
     "output_type": "stream",
     "text": [
      "> Epoch 35: 100%|██████████| 60/60 [00:42<00:00,  1.41it/s]\n"
     ]
    },
    {
     "name": "stdout",
     "output_type": "stream",
     "text": [
      " - Training Loss        0.5333\n",
      " - Validation Loss      1.0291\n",
      " - Validation Accuracy  0.6396\n",
      "\n",
      " - Validation Accuracy (per class)\n",
      "   * Class 0\t 0.3422 [116 out of 339]\n",
      "   * Class 1\t 0.8786 [275 out of 313]\n",
      "   * Class 2\t 0.724 [223 out of 308]\n",
      "   * Mean        0.6483\n",
      "\n",
      "==================================================================================\n"
     ]
    },
    {
     "name": "stderr",
     "output_type": "stream",
     "text": [
      "> Epoch 36: 100%|██████████| 60/60 [00:42<00:00,  1.41it/s]\n"
     ]
    },
    {
     "name": "stdout",
     "output_type": "stream",
     "text": [
      " - Training Loss        0.5263\n",
      " - Validation Loss      1.0495\n",
      " - Validation Accuracy  0.6854\n",
      "\n",
      " - Validation Accuracy (per class)\n",
      "   * Class 0\t 0.5546 [188 out of 339]\n",
      "   * Class 1\t 0.7859 [246 out of 313]\n",
      "   * Class 2\t 0.7273 [224 out of 308]\n",
      "   * Mean        0.6893\n",
      "\n",
      "==================================================================================\n"
     ]
    },
    {
     "name": "stderr",
     "output_type": "stream",
     "text": [
      "> Epoch 37: 100%|██████████| 60/60 [00:42<00:00,  1.41it/s]\n"
     ]
    },
    {
     "name": "stdout",
     "output_type": "stream",
     "text": [
      " - Training Loss        0.4751\n",
      " - Validation Loss      0.9434\n",
      " - Validation Accuracy  0.7094\n",
      "\n",
      " - Validation Accuracy (per class)\n",
      "   * Class 0\t 0.5723 [194 out of 339]\n",
      "   * Class 1\t 0.8403 [263 out of 313]\n",
      "   * Class 2\t 0.7273 [224 out of 308]\n",
      "   * Mean        0.7133\n",
      "\n",
      "==================================================================================\n"
     ]
    },
    {
     "name": "stderr",
     "output_type": "stream",
     "text": [
      "> Epoch 38: 100%|██████████| 60/60 [00:42<00:00,  1.41it/s]\n"
     ]
    },
    {
     "name": "stdout",
     "output_type": "stream",
     "text": [
      " - Training Loss        0.4305\n",
      " - Validation Loss      0.8948\n",
      " - Validation Accuracy  0.7302\n",
      "\n",
      " - Validation Accuracy (per class)\n",
      "   * Class 0\t 0.649 [220 out of 339]\n",
      "   * Class 1\t 0.8339 [261 out of 313]\n",
      "   * Class 2\t 0.7143 [220 out of 308]\n",
      "   * Mean        0.7324\n",
      "\n",
      "> ATTENTION: epoch 38 was the best one so far! The model has been saved :)\n",
      "\n",
      "==================================================================================\n"
     ]
    },
    {
     "name": "stderr",
     "output_type": "stream",
     "text": [
      "> Epoch 39: 100%|██████████| 60/60 [00:42<00:00,  1.41it/s]\n"
     ]
    },
    {
     "name": "stdout",
     "output_type": "stream",
     "text": [
      " - Training Loss        0.4152\n",
      " - Validation Loss      0.9112\n",
      " - Validation Accuracy  0.7313\n",
      "\n",
      " - Validation Accuracy (per class)\n",
      "   * Class 0\t 0.6372 [216 out of 339]\n",
      "   * Class 1\t 0.8466 [265 out of 313]\n",
      "   * Class 2\t 0.7175 [221 out of 308]\n",
      "   * Mean        0.7338\n",
      "\n",
      "> ATTENTION: epoch 39 was the best one so far! The model has been saved :)\n",
      "\n",
      "==================================================================================\n"
     ]
    },
    {
     "name": "stderr",
     "output_type": "stream",
     "text": [
      "> Epoch 40: 100%|██████████| 60/60 [00:42<00:00,  1.41it/s]\n"
     ]
    },
    {
     "name": "stdout",
     "output_type": "stream",
     "text": [
      " - Training Loss        0.4071\n",
      " - Validation Loss      0.925\n",
      " - Validation Accuracy  0.7271\n",
      "\n",
      " - Validation Accuracy (per class)\n",
      "   * Class 0\t 0.6313 [214 out of 339]\n",
      "   * Class 1\t 0.8498 [266 out of 313]\n",
      "   * Class 2\t 0.7078 [218 out of 308]\n",
      "   * Mean        0.7296\n",
      "\n",
      "==================================================================================\n"
     ]
    },
    {
     "name": "stderr",
     "output_type": "stream",
     "text": [
      "> Epoch 41: 100%|██████████| 60/60 [00:42<00:00,  1.41it/s]\n"
     ]
    },
    {
     "name": "stdout",
     "output_type": "stream",
     "text": [
      " - Training Loss        0.4064\n",
      " - Validation Loss      0.9023\n",
      " - Validation Accuracy  0.7292\n",
      "\n",
      " - Validation Accuracy (per class)\n",
      "   * Class 0\t 0.6283 [213 out of 339]\n",
      "   * Class 1\t 0.8626 [270 out of 313]\n",
      "   * Class 2\t 0.7045 [217 out of 308]\n",
      "   * Mean        0.7318\n",
      "\n",
      "==================================================================================\n"
     ]
    },
    {
     "name": "stderr",
     "output_type": "stream",
     "text": [
      "> Epoch 42: 100%|██████████| 60/60 [00:42<00:00,  1.41it/s]\n"
     ]
    },
    {
     "name": "stdout",
     "output_type": "stream",
     "text": [
      " - Training Loss        0.3988\n",
      " - Validation Loss      0.909\n",
      " - Validation Accuracy  0.7323\n",
      "\n",
      " - Validation Accuracy (per class)\n",
      "   * Class 0\t 0.6431 [218 out of 339]\n",
      "   * Class 1\t 0.8435 [264 out of 313]\n",
      "   * Class 2\t 0.7175 [221 out of 308]\n",
      "   * Mean        0.7347\n",
      "\n",
      "> ATTENTION: epoch 42 was the best one so far! The model has been saved :)\n",
      "\n",
      "==================================================================================\n"
     ]
    },
    {
     "name": "stderr",
     "output_type": "stream",
     "text": [
      "> Epoch 43: 100%|██████████| 60/60 [00:42<00:00,  1.41it/s]\n"
     ]
    },
    {
     "name": "stdout",
     "output_type": "stream",
     "text": [
      " - Training Loss        0.3956\n",
      " - Validation Loss      0.9466\n",
      " - Validation Accuracy  0.7083\n",
      "\n",
      " - Validation Accuracy (per class)\n",
      "   * Class 0\t 0.6608 [224 out of 339]\n",
      "   * Class 1\t 0.7636 [239 out of 313]\n",
      "   * Class 2\t 0.7045 [217 out of 308]\n",
      "   * Mean        0.7096\n",
      "\n",
      "==================================================================================\n"
     ]
    },
    {
     "name": "stderr",
     "output_type": "stream",
     "text": [
      "> Epoch 44: 100%|██████████| 60/60 [00:42<00:00,  1.41it/s]\n"
     ]
    },
    {
     "name": "stdout",
     "output_type": "stream",
     "text": [
      " - Training Loss        0.3919\n",
      " - Validation Loss      0.9352\n",
      " - Validation Accuracy  0.7292\n",
      "\n",
      " - Validation Accuracy (per class)\n",
      "   * Class 0\t 0.6549 [222 out of 339]\n",
      "   * Class 1\t 0.8275 [259 out of 313]\n",
      "   * Class 2\t 0.711 [219 out of 308]\n",
      "   * Mean        0.7311\n",
      "\n",
      "==================================================================================\n"
     ]
    },
    {
     "name": "stderr",
     "output_type": "stream",
     "text": [
      "> Epoch 45: 100%|██████████| 60/60 [00:42<00:00,  1.41it/s]\n"
     ]
    },
    {
     "name": "stdout",
     "output_type": "stream",
     "text": [
      " - Training Loss        0.3812\n",
      " - Validation Loss      0.9929\n",
      " - Validation Accuracy  0.7198\n",
      "\n",
      " - Validation Accuracy (per class)\n",
      "   * Class 0\t 0.646 [219 out of 339]\n",
      "   * Class 1\t 0.8307 [260 out of 313]\n",
      "   * Class 2\t 0.6883 [212 out of 308]\n",
      "   * Mean        0.7217\n",
      "\n",
      "==================================================================================\n"
     ]
    },
    {
     "name": "stderr",
     "output_type": "stream",
     "text": [
      "> Epoch 46: 100%|██████████| 60/60 [00:42<00:00,  1.41it/s]\n"
     ]
    },
    {
     "name": "stdout",
     "output_type": "stream",
     "text": [
      " - Training Loss        0.3884\n",
      " - Validation Loss      0.9421\n",
      " - Validation Accuracy  0.7229\n",
      "\n",
      " - Validation Accuracy (per class)\n",
      "   * Class 0\t 0.6401 [217 out of 339]\n",
      "   * Class 1\t 0.8435 [264 out of 313]\n",
      "   * Class 2\t 0.6916 [213 out of 308]\n",
      "   * Mean        0.7251\n",
      "\n",
      "==================================================================================\n"
     ]
    },
    {
     "name": "stderr",
     "output_type": "stream",
     "text": [
      "> Epoch 47: 100%|██████████| 60/60 [00:42<00:00,  1.41it/s]\n"
     ]
    },
    {
     "name": "stdout",
     "output_type": "stream",
     "text": [
      " - Training Loss        0.3999\n",
      " - Validation Loss      0.9657\n",
      " - Validation Accuracy  0.725\n",
      "\n",
      " - Validation Accuracy (per class)\n",
      "   * Class 0\t 0.6283 [213 out of 339]\n",
      "   * Class 1\t 0.8147 [255 out of 313]\n",
      "   * Class 2\t 0.7403 [228 out of 308]\n",
      "   * Mean        0.7278\n",
      "\n",
      "==================================================================================\n"
     ]
    },
    {
     "name": "stderr",
     "output_type": "stream",
     "text": [
      "> Epoch 48: 100%|██████████| 60/60 [00:42<00:00,  1.41it/s]\n"
     ]
    },
    {
     "name": "stdout",
     "output_type": "stream",
     "text": [
      " - Training Loss        0.3881\n",
      " - Validation Loss      0.9316\n",
      " - Validation Accuracy  0.7219\n",
      "\n",
      " - Validation Accuracy (per class)\n",
      "   * Class 0\t 0.6431 [218 out of 339]\n",
      "   * Class 1\t 0.8466 [265 out of 313]\n",
      "   * Class 2\t 0.6818 [210 out of 308]\n",
      "   * Mean        0.7238\n",
      "\n",
      "==================================================================================\n"
     ]
    },
    {
     "name": "stderr",
     "output_type": "stream",
     "text": [
      "> Epoch 49: 100%|██████████| 60/60 [00:42<00:00,  1.41it/s]\n"
     ]
    },
    {
     "name": "stdout",
     "output_type": "stream",
     "text": [
      " - Training Loss        0.3842\n",
      " - Validation Loss      0.9407\n",
      " - Validation Accuracy  0.7104\n",
      "\n",
      " - Validation Accuracy (per class)\n",
      "   * Class 0\t 0.5959 [202 out of 339]\n",
      "   * Class 1\t 0.8498 [266 out of 313]\n",
      "   * Class 2\t 0.6948 [214 out of 308]\n",
      "   * Mean        0.7135\n",
      "\n",
      "==================================================================================\n"
     ]
    },
    {
     "name": "stderr",
     "output_type": "stream",
     "text": [
      "> Epoch 50: 100%|██████████| 60/60 [00:42<00:00,  1.41it/s]\n"
     ]
    },
    {
     "name": "stdout",
     "output_type": "stream",
     "text": [
      " - Training Loss        0.3771\n",
      " - Validation Loss      0.9985\n",
      " - Validation Accuracy  0.7229\n",
      "\n",
      " - Validation Accuracy (per class)\n",
      "   * Class 0\t 0.6165 [209 out of 339]\n",
      "   * Class 1\t 0.8339 [261 out of 313]\n",
      "   * Class 2\t 0.7273 [224 out of 308]\n",
      "   * Mean        0.7259\n",
      "\n",
      "==================================================================================\n",
      "> Parameters imported\n",
      "> Dataset correctly divided in training set, validation set and test set\n",
      "> Created Pytorch datasets and dataloaders\n",
      "> Model 'LSTM_fixed' instantiated\n",
      "> Initialization required 0.204 seconds\n",
      "==================================================================================\n",
      "> Training Started\n",
      "  - Total Epochs: 50\n",
      "==================================================================================\n"
     ]
    },
    {
     "name": "stderr",
     "output_type": "stream",
     "text": [
      "> Epoch 1: 100%|██████████| 60/60 [01:38<00:00,  1.65s/it]\n"
     ]
    },
    {
     "name": "stdout",
     "output_type": "stream",
     "text": [
      " - Training Loss        1.106\n",
      " - Validation Loss      1.1062\n",
      " - Validation Accuracy  0.3396\n",
      "\n",
      " - Validation Accuracy (per class)\n",
      "   * Class 0\t 0.0442 [15 out of 339]\n",
      "   * Class 1\t 0.8882 [278 out of 313]\n",
      "   * Class 2\t 0.1071 [33 out of 308]\n",
      "   * Mean        0.3465\n",
      "\n",
      "> ATTENTION: epoch 1 was the best one so far! The model has been saved :)\n",
      "\n",
      "==================================================================================\n"
     ]
    },
    {
     "name": "stderr",
     "output_type": "stream",
     "text": [
      "> Epoch 2: 100%|██████████| 60/60 [01:38<00:00,  1.64s/it]\n"
     ]
    },
    {
     "name": "stdout",
     "output_type": "stream",
     "text": [
      " - Training Loss        1.0465\n",
      " - Validation Loss      1.1036\n",
      " - Validation Accuracy  0.3427\n",
      "\n",
      " - Validation Accuracy (per class)\n",
      "   * Class 0\t 0.0678 [23 out of 339]\n",
      "   * Class 1\t 0.8946 [280 out of 313]\n",
      "   * Class 2\t 0.0844 [26 out of 308]\n",
      "   * Mean        0.3489\n",
      "\n",
      "> ATTENTION: epoch 2 was the best one so far! The model has been saved :)\n",
      "\n",
      "==================================================================================\n"
     ]
    },
    {
     "name": "stderr",
     "output_type": "stream",
     "text": [
      "> Epoch 3: 100%|██████████| 60/60 [01:38<00:00,  1.65s/it]\n"
     ]
    },
    {
     "name": "stdout",
     "output_type": "stream",
     "text": [
      " - Training Loss        0.9974\n",
      " - Validation Loss      1.1162\n",
      " - Validation Accuracy  0.3417\n",
      "\n",
      " - Validation Accuracy (per class)\n",
      "   * Class 0\t 0.0826 [28 out of 339]\n",
      "   * Class 1\t 0.8978 [281 out of 313]\n",
      "   * Class 2\t 0.0617 [19 out of 308]\n",
      "   * Mean        0.3474\n",
      "\n",
      "==================================================================================\n"
     ]
    },
    {
     "name": "stderr",
     "output_type": "stream",
     "text": [
      "> Epoch 4: 100%|██████████| 60/60 [01:39<00:00,  1.65s/it]\n"
     ]
    },
    {
     "name": "stdout",
     "output_type": "stream",
     "text": [
      " - Training Loss        0.9526\n",
      " - Validation Loss      1.1367\n",
      " - Validation Accuracy  0.3448\n",
      "\n",
      " - Validation Accuracy (per class)\n",
      "   * Class 0\t 0.0678 [23 out of 339]\n",
      "   * Class 1\t 0.8978 [281 out of 313]\n",
      "   * Class 2\t 0.0877 [27 out of 308]\n",
      "   * Mean        0.3511\n",
      "\n",
      "> ATTENTION: epoch 4 was the best one so far! The model has been saved :)\n",
      "\n",
      "==================================================================================\n"
     ]
    },
    {
     "name": "stderr",
     "output_type": "stream",
     "text": [
      "> Epoch 5: 100%|██████████| 60/60 [01:39<00:00,  1.65s/it]\n"
     ]
    },
    {
     "name": "stdout",
     "output_type": "stream",
     "text": [
      " - Training Loss        0.9383\n",
      " - Validation Loss      1.1546\n",
      " - Validation Accuracy  0.3448\n",
      "\n",
      " - Validation Accuracy (per class)\n",
      "   * Class 0\t 0.059 [20 out of 339]\n",
      "   * Class 1\t 0.9329 [292 out of 313]\n",
      "   * Class 2\t 0.0617 [19 out of 308]\n",
      "   * Mean        0.3512\n",
      "\n",
      "> ATTENTION: epoch 5 was the best one so far! The model has been saved :)\n",
      "\n",
      "==================================================================================\n"
     ]
    },
    {
     "name": "stderr",
     "output_type": "stream",
     "text": [
      "> Epoch 6: 100%|██████████| 60/60 [01:40<00:00,  1.67s/it]\n"
     ]
    },
    {
     "name": "stdout",
     "output_type": "stream",
     "text": [
      " - Training Loss        0.9306\n",
      " - Validation Loss      1.178\n",
      " - Validation Accuracy  0.3333\n",
      "\n",
      " - Validation Accuracy (per class)\n",
      "   * Class 0\t 0.0649 [22 out of 339]\n",
      "   * Class 1\t 0.0479 [15 out of 313]\n",
      "   * Class 2\t 0.9188 [283 out of 308]\n",
      "   * Mean        0.3439\n",
      "\n",
      "==================================================================================\n"
     ]
    },
    {
     "name": "stderr",
     "output_type": "stream",
     "text": [
      "> Epoch 7: 100%|██████████| 60/60 [01:40<00:00,  1.68s/it]\n"
     ]
    },
    {
     "name": "stdout",
     "output_type": "stream",
     "text": [
      " - Training Loss        0.9299\n",
      " - Validation Loss      1.1931\n",
      " - Validation Accuracy  0.3406\n",
      "\n",
      " - Validation Accuracy (per class)\n",
      "   * Class 0\t 0.0501 [17 out of 339]\n",
      "   * Class 1\t 0.9042 [283 out of 313]\n",
      "   * Class 2\t 0.0877 [27 out of 308]\n",
      "   * Mean        0.3473\n",
      "\n",
      "==================================================================================\n"
     ]
    },
    {
     "name": "stderr",
     "output_type": "stream",
     "text": [
      "> Epoch 8: 100%|██████████| 60/60 [01:40<00:00,  1.67s/it]\n"
     ]
    },
    {
     "name": "stdout",
     "output_type": "stream",
     "text": [
      " - Training Loss        0.9274\n",
      " - Validation Loss      1.2058\n",
      " - Validation Accuracy  0.3427\n",
      "\n",
      " - Validation Accuracy (per class)\n",
      "   * Class 0\t 0.0619 [21 out of 339]\n",
      "   * Class 1\t 0.9105 [285 out of 313]\n",
      "   * Class 2\t 0.0747 [23 out of 308]\n",
      "   * Mean        0.349\n",
      "\n",
      "==================================================================================\n"
     ]
    },
    {
     "name": "stderr",
     "output_type": "stream",
     "text": [
      "> Epoch 9: 100%|██████████| 60/60 [01:40<00:00,  1.68s/it]\n"
     ]
    },
    {
     "name": "stdout",
     "output_type": "stream",
     "text": [
      " - Training Loss        0.9336\n",
      " - Validation Loss      1.1825\n",
      " - Validation Accuracy  0.3438\n",
      "\n",
      " - Validation Accuracy (per class)\n",
      "   * Class 0\t 0.0531 [18 out of 339]\n",
      "   * Class 1\t 0.9073 [284 out of 313]\n",
      "   * Class 2\t 0.0909 [28 out of 308]\n",
      "   * Mean        0.3504\n",
      "\n",
      "==================================================================================\n"
     ]
    },
    {
     "name": "stderr",
     "output_type": "stream",
     "text": [
      "> Epoch 10: 100%|██████████| 60/60 [01:40<00:00,  1.67s/it]\n"
     ]
    },
    {
     "name": "stdout",
     "output_type": "stream",
     "text": [
      " - Training Loss        0.9307\n",
      " - Validation Loss      1.1808\n",
      " - Validation Accuracy  0.3427\n",
      "\n",
      " - Validation Accuracy (per class)\n",
      "   * Class 0\t 0.0531 [18 out of 339]\n",
      "   * Class 1\t 0.9169 [287 out of 313]\n",
      "   * Class 2\t 0.0779 [24 out of 308]\n",
      "   * Mean        0.3493\n",
      "\n",
      "==================================================================================\n"
     ]
    },
    {
     "name": "stderr",
     "output_type": "stream",
     "text": [
      "> Epoch 11: 100%|██████████| 60/60 [01:40<00:00,  1.68s/it]\n"
     ]
    },
    {
     "name": "stdout",
     "output_type": "stream",
     "text": [
      " - Training Loss        0.9259\n",
      " - Validation Loss      1.2043\n",
      " - Validation Accuracy  0.3292\n",
      "\n",
      " - Validation Accuracy (per class)\n",
      "   * Class 0\t 0.056 [19 out of 339]\n",
      "   * Class 1\t 0.0511 [16 out of 313]\n",
      "   * Class 2\t 0.9123 [281 out of 308]\n",
      "   * Mean        0.3398\n",
      "\n",
      "==================================================================================\n"
     ]
    },
    {
     "name": "stderr",
     "output_type": "stream",
     "text": [
      "> Epoch 12: 100%|██████████| 60/60 [01:41<00:00,  1.69s/it]\n"
     ]
    },
    {
     "name": "stdout",
     "output_type": "stream",
     "text": [
      " - Training Loss        0.925\n",
      " - Validation Loss      1.2203\n",
      " - Validation Accuracy  0.3365\n",
      "\n",
      " - Validation Accuracy (per class)\n",
      "   * Class 0\t 0.0472 [16 out of 339]\n",
      "   * Class 1\t 0.9105 [285 out of 313]\n",
      "   * Class 2\t 0.0714 [22 out of 308]\n",
      "   * Mean        0.343\n",
      "\n",
      "==================================================================================\n"
     ]
    },
    {
     "name": "stderr",
     "output_type": "stream",
     "text": [
      "> Epoch 13: 100%|██████████| 60/60 [01:41<00:00,  1.69s/it]\n"
     ]
    },
    {
     "name": "stdout",
     "output_type": "stream",
     "text": [
      " - Training Loss        0.9247\n",
      " - Validation Loss      1.2125\n",
      " - Validation Accuracy  0.3417\n",
      "\n",
      " - Validation Accuracy (per class)\n",
      "   * Class 0\t 0.0678 [23 out of 339]\n",
      "   * Class 1\t 0.9073 [284 out of 313]\n",
      "   * Class 2\t 0.0682 [21 out of 308]\n",
      "   * Mean        0.3478\n",
      "\n",
      "==================================================================================\n"
     ]
    },
    {
     "name": "stderr",
     "output_type": "stream",
     "text": [
      "> Epoch 14: 100%|██████████| 60/60 [01:41<00:00,  1.69s/it]\n"
     ]
    },
    {
     "name": "stdout",
     "output_type": "stream",
     "text": [
      " - Training Loss        0.9259\n",
      " - Validation Loss      1.2755\n",
      " - Validation Accuracy  0.3417\n",
      "\n",
      " - Validation Accuracy (per class)\n",
      "   * Class 0\t 0.0442 [15 out of 339]\n",
      "   * Class 1\t 0.9297 [291 out of 313]\n",
      "   * Class 2\t 0.0714 [22 out of 308]\n",
      "   * Mean        0.3484\n",
      "\n",
      "==================================================================================\n"
     ]
    },
    {
     "name": "stderr",
     "output_type": "stream",
     "text": [
      "> Epoch 15: 100%|██████████| 60/60 [01:41<00:00,  1.69s/it]\n"
     ]
    },
    {
     "name": "stdout",
     "output_type": "stream",
     "text": [
      " - Training Loss        1.1566\n",
      " - Validation Loss      1.1434\n",
      " - Validation Accuracy  0.3625\n",
      "\n",
      " - Validation Accuracy (per class)\n",
      "   * Class 0\t 0.9587 [325 out of 339]\n",
      "   * Class 1\t 0.0288 [9 out of 313]\n",
      "   * Class 2\t 0.0455 [14 out of 308]\n",
      "   * Mean        0.3443\n",
      "\n",
      "==================================================================================\n"
     ]
    },
    {
     "name": "stderr",
     "output_type": "stream",
     "text": [
      "> Epoch 16: 100%|██████████| 60/60 [01:41<00:00,  1.69s/it]\n"
     ]
    },
    {
     "name": "stdout",
     "output_type": "stream",
     "text": [
      " - Training Loss        1.0146\n",
      " - Validation Loss      1.1574\n",
      " - Validation Accuracy  0.3438\n",
      "\n",
      " - Validation Accuracy (per class)\n",
      "   * Class 0\t 0.0649 [22 out of 339]\n",
      "   * Class 1\t 0.9105 [285 out of 313]\n",
      "   * Class 2\t 0.0747 [23 out of 308]\n",
      "   * Mean        0.35\n",
      "\n",
      "==================================================================================\n"
     ]
    },
    {
     "name": "stderr",
     "output_type": "stream",
     "text": [
      "> Epoch 17: 100%|██████████| 60/60 [01:40<00:00,  1.68s/it]\n"
     ]
    },
    {
     "name": "stdout",
     "output_type": "stream",
     "text": [
      " - Training Loss        0.9474\n",
      " - Validation Loss      1.168\n",
      " - Validation Accuracy  0.3479\n",
      "\n",
      " - Validation Accuracy (per class)\n",
      "   * Class 0\t 0.059 [20 out of 339]\n",
      "   * Class 1\t 0.9105 [285 out of 313]\n",
      "   * Class 2\t 0.0942 [29 out of 308]\n",
      "   * Mean        0.3546\n",
      "\n",
      "> ATTENTION: epoch 17 was the best one so far! The model has been saved :)\n",
      "\n",
      "==================================================================================\n"
     ]
    },
    {
     "name": "stderr",
     "output_type": "stream",
     "text": [
      "> Epoch 18: 100%|██████████| 60/60 [01:41<00:00,  1.69s/it]\n"
     ]
    },
    {
     "name": "stdout",
     "output_type": "stream",
     "text": [
      " - Training Loss        0.9277\n",
      " - Validation Loss      1.184\n",
      " - Validation Accuracy  0.3469\n",
      "\n",
      " - Validation Accuracy (per class)\n",
      "   * Class 0\t 0.0531 [18 out of 339]\n",
      "   * Class 1\t 0.9137 [286 out of 313]\n",
      "   * Class 2\t 0.0942 [29 out of 308]\n",
      "   * Mean        0.3537\n",
      "\n",
      "==================================================================================\n"
     ]
    },
    {
     "name": "stderr",
     "output_type": "stream",
     "text": [
      "> Epoch 19: 100%|██████████| 60/60 [01:40<00:00,  1.68s/it]\n"
     ]
    },
    {
     "name": "stdout",
     "output_type": "stream",
     "text": [
      " - Training Loss        0.9266\n",
      " - Validation Loss      1.1948\n",
      " - Validation Accuracy  0.3458\n",
      "\n",
      " - Validation Accuracy (per class)\n",
      "   * Class 0\t 0.056 [19 out of 339]\n",
      "   * Class 1\t 0.9042 [283 out of 313]\n",
      "   * Class 2\t 0.0974 [30 out of 308]\n",
      "   * Mean        0.3525\n",
      "\n",
      "==================================================================================\n"
     ]
    },
    {
     "name": "stderr",
     "output_type": "stream",
     "text": [
      "> Epoch 20: 100%|██████████| 60/60 [01:41<00:00,  1.69s/it]\n"
     ]
    },
    {
     "name": "stdout",
     "output_type": "stream",
     "text": [
      " - Training Loss        0.926\n",
      " - Validation Loss      1.201\n",
      " - Validation Accuracy  0.3438\n",
      "\n",
      " - Validation Accuracy (per class)\n",
      "   * Class 0\t 0.0531 [18 out of 339]\n",
      "   * Class 1\t 0.9073 [284 out of 313]\n",
      "   * Class 2\t 0.0909 [28 out of 308]\n",
      "   * Mean        0.3504\n",
      "\n",
      "==================================================================================\n"
     ]
    },
    {
     "name": "stderr",
     "output_type": "stream",
     "text": [
      "> Epoch 21: 100%|██████████| 60/60 [01:40<00:00,  1.68s/it]\n"
     ]
    },
    {
     "name": "stdout",
     "output_type": "stream",
     "text": [
      " - Training Loss        0.9259\n",
      " - Validation Loss      1.1997\n",
      " - Validation Accuracy  0.3448\n",
      "\n",
      " - Validation Accuracy (per class)\n",
      "   * Class 0\t 0.0619 [21 out of 339]\n",
      "   * Class 1\t 0.9105 [285 out of 313]\n",
      "   * Class 2\t 0.0812 [25 out of 308]\n",
      "   * Mean        0.3512\n",
      "\n",
      "==================================================================================\n"
     ]
    },
    {
     "name": "stderr",
     "output_type": "stream",
     "text": [
      "> Epoch 22: 100%|██████████| 60/60 [01:40<00:00,  1.68s/it]\n"
     ]
    },
    {
     "name": "stdout",
     "output_type": "stream",
     "text": [
      " - Training Loss        0.925\n",
      " - Validation Loss      1.2115\n",
      " - Validation Accuracy  0.3458\n",
      "\n",
      " - Validation Accuracy (per class)\n",
      "   * Class 0\t 0.0649 [22 out of 339]\n",
      "   * Class 1\t 0.9105 [285 out of 313]\n",
      "   * Class 2\t 0.0812 [25 out of 308]\n",
      "   * Mean        0.3522\n",
      "\n",
      "==================================================================================\n"
     ]
    },
    {
     "name": "stderr",
     "output_type": "stream",
     "text": [
      "> Epoch 23: 100%|██████████| 60/60 [01:40<00:00,  1.68s/it]\n"
     ]
    },
    {
     "name": "stdout",
     "output_type": "stream",
     "text": [
      " - Training Loss        0.9248\n",
      " - Validation Loss      1.223\n",
      " - Validation Accuracy  0.3448\n",
      "\n",
      " - Validation Accuracy (per class)\n",
      "   * Class 0\t 0.0619 [21 out of 339]\n",
      "   * Class 1\t 0.9105 [285 out of 313]\n",
      "   * Class 2\t 0.0812 [25 out of 308]\n",
      "   * Mean        0.3512\n",
      "\n",
      "==================================================================================\n"
     ]
    },
    {
     "name": "stderr",
     "output_type": "stream",
     "text": [
      "> Epoch 24: 100%|██████████| 60/60 [01:41<00:00,  1.69s/it]\n"
     ]
    },
    {
     "name": "stdout",
     "output_type": "stream",
     "text": [
      " - Training Loss        0.9239\n",
      " - Validation Loss      1.2329\n",
      " - Validation Accuracy  0.3427\n",
      "\n",
      " - Validation Accuracy (per class)\n",
      "   * Class 0\t 0.059 [20 out of 339]\n",
      "   * Class 1\t 0.901 [282 out of 313]\n",
      "   * Class 2\t 0.0877 [27 out of 308]\n",
      "   * Mean        0.3492\n",
      "\n",
      "==================================================================================\n"
     ]
    },
    {
     "name": "stderr",
     "output_type": "stream",
     "text": [
      "> Epoch 25: 100%|██████████| 60/60 [01:41<00:00,  1.69s/it]\n"
     ]
    },
    {
     "name": "stdout",
     "output_type": "stream",
     "text": [
      " - Training Loss        0.9244\n",
      " - Validation Loss      1.2071\n",
      " - Validation Accuracy  0.3458\n",
      "\n",
      " - Validation Accuracy (per class)\n",
      "   * Class 0\t 0.0678 [23 out of 339]\n",
      "   * Class 1\t 0.9073 [284 out of 313]\n",
      "   * Class 2\t 0.0812 [25 out of 308]\n",
      "   * Mean        0.3521\n",
      "\n",
      "==================================================================================\n"
     ]
    },
    {
     "name": "stderr",
     "output_type": "stream",
     "text": [
      "> Epoch 26: 100%|██████████| 60/60 [01:41<00:00,  1.69s/it]\n"
     ]
    },
    {
     "name": "stdout",
     "output_type": "stream",
     "text": [
      " - Training Loss        0.9251\n",
      " - Validation Loss      1.2398\n",
      " - Validation Accuracy  0.3396\n",
      "\n",
      " - Validation Accuracy (per class)\n",
      "   * Class 0\t 0.0678 [23 out of 339]\n",
      "   * Class 1\t 0.8882 [278 out of 313]\n",
      "   * Class 2\t 0.0812 [25 out of 308]\n",
      "   * Mean        0.3457\n",
      "\n",
      "==================================================================================\n"
     ]
    },
    {
     "name": "stderr",
     "output_type": "stream",
     "text": [
      "> Epoch 27: 100%|██████████| 60/60 [01:41<00:00,  1.68s/it]\n"
     ]
    },
    {
     "name": "stdout",
     "output_type": "stream",
     "text": [
      " - Training Loss        0.9252\n",
      " - Validation Loss      1.2192\n",
      " - Validation Accuracy  0.3448\n",
      "\n",
      " - Validation Accuracy (per class)\n",
      "   * Class 0\t 0.0767 [26 out of 339]\n",
      "   * Class 1\t 0.9042 [283 out of 313]\n",
      "   * Class 2\t 0.0714 [22 out of 308]\n",
      "   * Mean        0.3508\n",
      "\n",
      "==================================================================================\n"
     ]
    },
    {
     "name": "stderr",
     "output_type": "stream",
     "text": [
      "> Epoch 28: 100%|██████████| 60/60 [01:40<00:00,  1.68s/it]\n"
     ]
    },
    {
     "name": "stdout",
     "output_type": "stream",
     "text": [
      " - Training Loss        0.9247\n",
      " - Validation Loss      1.2253\n",
      " - Validation Accuracy  0.3438\n",
      "\n",
      " - Validation Accuracy (per class)\n",
      "   * Class 0\t 0.0531 [18 out of 339]\n",
      "   * Class 1\t 0.9105 [285 out of 313]\n",
      "   * Class 2\t 0.0877 [27 out of 308]\n",
      "   * Mean        0.3504\n",
      "\n",
      "==================================================================================\n"
     ]
    },
    {
     "name": "stderr",
     "output_type": "stream",
     "text": [
      "> Epoch 29: 100%|██████████| 60/60 [01:41<00:00,  1.69s/it]\n"
     ]
    },
    {
     "name": "stdout",
     "output_type": "stream",
     "text": [
      " - Training Loss        0.9241\n",
      " - Validation Loss      1.2367\n",
      " - Validation Accuracy  0.3406\n",
      "\n",
      " - Validation Accuracy (per class)\n",
      "   * Class 0\t 0.059 [20 out of 339]\n",
      "   * Class 1\t 0.901 [282 out of 313]\n",
      "   * Class 2\t 0.0812 [25 out of 308]\n",
      "   * Mean        0.3471\n",
      "\n",
      "==================================================================================\n"
     ]
    },
    {
     "name": "stderr",
     "output_type": "stream",
     "text": [
      "> Epoch 30: 100%|██████████| 60/60 [01:40<00:00,  1.67s/it]\n"
     ]
    },
    {
     "name": "stdout",
     "output_type": "stream",
     "text": [
      " - Training Loss        0.9272\n",
      " - Validation Loss      1.2154\n",
      " - Validation Accuracy  0.3479\n",
      "\n",
      " - Validation Accuracy (per class)\n",
      "   * Class 0\t 0.0737 [25 out of 339]\n",
      "   * Class 1\t 0.901 [282 out of 313]\n",
      "   * Class 2\t 0.0877 [27 out of 308]\n",
      "   * Mean        0.3541\n",
      "\n",
      "==================================================================================\n"
     ]
    },
    {
     "name": "stderr",
     "output_type": "stream",
     "text": [
      "> Epoch 31: 100%|██████████| 60/60 [01:40<00:00,  1.68s/it]\n"
     ]
    },
    {
     "name": "stdout",
     "output_type": "stream",
     "text": [
      " - Training Loss        0.9249\n",
      " - Validation Loss      1.2321\n",
      " - Validation Accuracy  0.3448\n",
      "\n",
      " - Validation Accuracy (per class)\n",
      "   * Class 0\t 0.0619 [21 out of 339]\n",
      "   * Class 1\t 0.901 [282 out of 313]\n",
      "   * Class 2\t 0.0909 [28 out of 308]\n",
      "   * Mean        0.3513\n",
      "\n",
      "==================================================================================\n"
     ]
    },
    {
     "name": "stderr",
     "output_type": "stream",
     "text": [
      "> Epoch 32: 100%|██████████| 60/60 [01:40<00:00,  1.67s/it]\n"
     ]
    },
    {
     "name": "stdout",
     "output_type": "stream",
     "text": [
      " - Training Loss        0.9273\n",
      " - Validation Loss      1.2237\n",
      " - Validation Accuracy  0.3458\n",
      "\n",
      " - Validation Accuracy (per class)\n",
      "   * Class 0\t 0.0708 [24 out of 339]\n",
      "   * Class 1\t 0.9073 [284 out of 313]\n",
      "   * Class 2\t 0.0779 [24 out of 308]\n",
      "   * Mean        0.352\n",
      "\n",
      "==================================================================================\n"
     ]
    },
    {
     "name": "stderr",
     "output_type": "stream",
     "text": [
      "> Epoch 33: 100%|██████████| 60/60 [01:41<00:00,  1.69s/it]\n"
     ]
    },
    {
     "name": "stdout",
     "output_type": "stream",
     "text": [
      " - Training Loss        0.9239\n",
      " - Validation Loss      1.2363\n",
      " - Validation Accuracy  0.3417\n",
      "\n",
      " - Validation Accuracy (per class)\n",
      "   * Class 0\t 0.0619 [21 out of 339]\n",
      "   * Class 1\t 0.901 [282 out of 313]\n",
      "   * Class 2\t 0.0812 [25 out of 308]\n",
      "   * Mean        0.348\n",
      "\n",
      "==================================================================================\n"
     ]
    },
    {
     "name": "stderr",
     "output_type": "stream",
     "text": [
      "> Epoch 34: 100%|██████████| 60/60 [01:41<00:00,  1.69s/it]\n"
     ]
    },
    {
     "name": "stdout",
     "output_type": "stream",
     "text": [
      " - Training Loss        0.9238\n",
      " - Validation Loss      1.2309\n",
      " - Validation Accuracy  0.3448\n",
      "\n",
      " - Validation Accuracy (per class)\n",
      "   * Class 0\t 0.0678 [23 out of 339]\n",
      "   * Class 1\t 0.9073 [284 out of 313]\n",
      "   * Class 2\t 0.0779 [24 out of 308]\n",
      "   * Mean        0.351\n",
      "\n",
      "==================================================================================\n"
     ]
    },
    {
     "name": "stderr",
     "output_type": "stream",
     "text": [
      "> Epoch 35: 100%|██████████| 60/60 [01:40<00:00,  1.68s/it]\n"
     ]
    },
    {
     "name": "stdout",
     "output_type": "stream",
     "text": [
      " - Training Loss        0.9239\n",
      " - Validation Loss      1.2371\n",
      " - Validation Accuracy  0.3448\n",
      "\n",
      " - Validation Accuracy (per class)\n",
      "   * Class 0\t 0.0678 [23 out of 339]\n",
      "   * Class 1\t 0.9073 [284 out of 313]\n",
      "   * Class 2\t 0.0779 [24 out of 308]\n",
      "   * Mean        0.351\n",
      "\n",
      "==================================================================================\n"
     ]
    },
    {
     "name": "stderr",
     "output_type": "stream",
     "text": [
      "> Epoch 36: 100%|██████████| 60/60 [01:40<00:00,  1.68s/it]\n"
     ]
    },
    {
     "name": "stdout",
     "output_type": "stream",
     "text": [
      " - Training Loss        0.9236\n",
      " - Validation Loss      1.2536\n",
      " - Validation Accuracy  0.3417\n",
      "\n",
      " - Validation Accuracy (per class)\n",
      "   * Class 0\t 0.0531 [18 out of 339]\n",
      "   * Class 1\t 0.9073 [284 out of 313]\n",
      "   * Class 2\t 0.0844 [26 out of 308]\n",
      "   * Mean        0.3483\n",
      "\n",
      "==================================================================================\n"
     ]
    },
    {
     "name": "stderr",
     "output_type": "stream",
     "text": [
      "> Epoch 37: 100%|██████████| 60/60 [01:41<00:00,  1.69s/it]\n"
     ]
    },
    {
     "name": "stdout",
     "output_type": "stream",
     "text": [
      " - Training Loss        0.9256\n",
      " - Validation Loss      1.2202\n",
      " - Validation Accuracy  0.3406\n",
      "\n",
      " - Validation Accuracy (per class)\n",
      "   * Class 0\t 0.0678 [23 out of 339]\n",
      "   * Class 1\t 0.9105 [285 out of 313]\n",
      "   * Class 2\t 0.0617 [19 out of 308]\n",
      "   * Mean        0.3467\n",
      "\n",
      "==================================================================================\n"
     ]
    },
    {
     "name": "stderr",
     "output_type": "stream",
     "text": [
      "> Epoch 38: 100%|██████████| 60/60 [01:41<00:00,  1.68s/it]\n"
     ]
    },
    {
     "name": "stdout",
     "output_type": "stream",
     "text": [
      " - Training Loss        0.9246\n",
      " - Validation Loss      1.2333\n",
      " - Validation Accuracy  0.3448\n",
      "\n",
      " - Validation Accuracy (per class)\n",
      "   * Class 0\t 0.0737 [25 out of 339]\n",
      "   * Class 1\t 0.9105 [285 out of 313]\n",
      "   * Class 2\t 0.0682 [21 out of 308]\n",
      "   * Mean        0.3508\n",
      "\n",
      "==================================================================================\n"
     ]
    },
    {
     "name": "stderr",
     "output_type": "stream",
     "text": [
      "> Epoch 39: 100%|██████████| 60/60 [01:41<00:00,  1.69s/it]\n"
     ]
    },
    {
     "name": "stdout",
     "output_type": "stream",
     "text": [
      " - Training Loss        0.9243\n",
      " - Validation Loss      1.235\n",
      " - Validation Accuracy  0.3406\n",
      "\n",
      " - Validation Accuracy (per class)\n",
      "   * Class 0\t 0.0678 [23 out of 339]\n",
      "   * Class 1\t 0.9042 [283 out of 313]\n",
      "   * Class 2\t 0.0682 [21 out of 308]\n",
      "   * Mean        0.3467\n",
      "\n",
      "==================================================================================\n"
     ]
    },
    {
     "name": "stderr",
     "output_type": "stream",
     "text": [
      "> Epoch 40: 100%|██████████| 60/60 [01:41<00:00,  1.69s/it]\n"
     ]
    },
    {
     "name": "stdout",
     "output_type": "stream",
     "text": [
      " - Training Loss        0.924\n",
      " - Validation Loss      1.2354\n",
      " - Validation Accuracy  0.3458\n",
      "\n",
      " - Validation Accuracy (per class)\n",
      "   * Class 0\t 0.0708 [24 out of 339]\n",
      "   * Class 1\t 0.9105 [285 out of 313]\n",
      "   * Class 2\t 0.0747 [23 out of 308]\n",
      "   * Mean        0.352\n",
      "\n",
      "==================================================================================\n"
     ]
    },
    {
     "name": "stderr",
     "output_type": "stream",
     "text": [
      "> Epoch 41: 100%|██████████| 60/60 [01:40<00:00,  1.68s/it]\n"
     ]
    },
    {
     "name": "stdout",
     "output_type": "stream",
     "text": [
      " - Training Loss        0.9237\n",
      " - Validation Loss      1.2431\n",
      " - Validation Accuracy  0.3479\n",
      "\n",
      " - Validation Accuracy (per class)\n",
      "   * Class 0\t 0.0678 [23 out of 339]\n",
      "   * Class 1\t 0.9105 [285 out of 313]\n",
      "   * Class 2\t 0.0844 [26 out of 308]\n",
      "   * Mean        0.3542\n",
      "\n",
      "==================================================================================\n"
     ]
    },
    {
     "name": "stderr",
     "output_type": "stream",
     "text": [
      "> Epoch 42: 100%|██████████| 60/60 [01:40<00:00,  1.68s/it]\n"
     ]
    },
    {
     "name": "stdout",
     "output_type": "stream",
     "text": [
      " - Training Loss        0.9236\n",
      " - Validation Loss      1.2458\n",
      " - Validation Accuracy  0.3469\n",
      "\n",
      " - Validation Accuracy (per class)\n",
      "   * Class 0\t 0.0649 [22 out of 339]\n",
      "   * Class 1\t 0.9105 [285 out of 313]\n",
      "   * Class 2\t 0.0844 [26 out of 308]\n",
      "   * Mean        0.3533\n",
      "\n",
      "==================================================================================\n"
     ]
    },
    {
     "name": "stderr",
     "output_type": "stream",
     "text": [
      "> Epoch 43: 100%|██████████| 60/60 [01:40<00:00,  1.68s/it]\n"
     ]
    },
    {
     "name": "stdout",
     "output_type": "stream",
     "text": [
      " - Training Loss        0.9236\n",
      " - Validation Loss      1.2475\n",
      " - Validation Accuracy  0.3469\n",
      "\n",
      " - Validation Accuracy (per class)\n",
      "   * Class 0\t 0.0678 [23 out of 339]\n",
      "   * Class 1\t 0.9105 [285 out of 313]\n",
      "   * Class 2\t 0.0812 [25 out of 308]\n",
      "   * Mean        0.3532\n",
      "\n",
      "==================================================================================\n"
     ]
    },
    {
     "name": "stderr",
     "output_type": "stream",
     "text": [
      "> Epoch 44: 100%|██████████| 60/60 [01:40<00:00,  1.68s/it]\n"
     ]
    },
    {
     "name": "stdout",
     "output_type": "stream",
     "text": [
      " - Training Loss        0.9235\n",
      " - Validation Loss      1.2499\n",
      " - Validation Accuracy  0.3458\n",
      "\n",
      " - Validation Accuracy (per class)\n",
      "   * Class 0\t 0.0649 [22 out of 339]\n",
      "   * Class 1\t 0.9105 [285 out of 313]\n",
      "   * Class 2\t 0.0812 [25 out of 308]\n",
      "   * Mean        0.3522\n",
      "\n",
      "==================================================================================\n"
     ]
    },
    {
     "name": "stderr",
     "output_type": "stream",
     "text": [
      "> Epoch 45: 100%|██████████| 60/60 [01:40<00:00,  1.68s/it]\n"
     ]
    },
    {
     "name": "stdout",
     "output_type": "stream",
     "text": [
      " - Training Loss        0.9235\n",
      " - Validation Loss      1.2476\n",
      " - Validation Accuracy  0.35\n",
      "\n",
      " - Validation Accuracy (per class)\n",
      "   * Class 0\t 0.0737 [25 out of 339]\n",
      "   * Class 1\t 0.9105 [285 out of 313]\n",
      "   * Class 2\t 0.0844 [26 out of 308]\n",
      "   * Mean        0.3562\n",
      "\n",
      "> ATTENTION: epoch 45 was the best one so far! The model has been saved :)\n",
      "\n",
      "==================================================================================\n"
     ]
    },
    {
     "name": "stderr",
     "output_type": "stream",
     "text": [
      "> Epoch 46: 100%|██████████| 60/60 [01:40<00:00,  1.68s/it]\n"
     ]
    },
    {
     "name": "stdout",
     "output_type": "stream",
     "text": [
      " - Training Loss        0.9235\n",
      " - Validation Loss      1.2486\n",
      " - Validation Accuracy  0.351\n",
      "\n",
      " - Validation Accuracy (per class)\n",
      "   * Class 0\t 0.0767 [26 out of 339]\n",
      "   * Class 1\t 0.9105 [285 out of 313]\n",
      "   * Class 2\t 0.0844 [26 out of 308]\n",
      "   * Mean        0.3572\n",
      "\n",
      "> ATTENTION: epoch 46 was the best one so far! The model has been saved :)\n",
      "\n",
      "==================================================================================\n"
     ]
    },
    {
     "name": "stderr",
     "output_type": "stream",
     "text": [
      "> Epoch 47: 100%|██████████| 60/60 [01:40<00:00,  1.67s/it]\n"
     ]
    },
    {
     "name": "stdout",
     "output_type": "stream",
     "text": [
      " - Training Loss        0.9235\n",
      " - Validation Loss      1.2544\n",
      " - Validation Accuracy  0.35\n",
      "\n",
      " - Validation Accuracy (per class)\n",
      "   * Class 0\t 0.0678 [23 out of 339]\n",
      "   * Class 1\t 0.9137 [286 out of 313]\n",
      "   * Class 2\t 0.0877 [27 out of 308]\n",
      "   * Mean        0.3564\n",
      "\n",
      "==================================================================================\n"
     ]
    },
    {
     "name": "stderr",
     "output_type": "stream",
     "text": [
      "> Epoch 48: 100%|██████████| 60/60 [01:40<00:00,  1.68s/it]\n"
     ]
    },
    {
     "name": "stdout",
     "output_type": "stream",
     "text": [
      " - Training Loss        0.9233\n",
      " - Validation Loss      1.2512\n",
      " - Validation Accuracy  0.35\n",
      "\n",
      " - Validation Accuracy (per class)\n",
      "   * Class 0\t 0.0678 [23 out of 339]\n",
      "   * Class 1\t 0.9105 [285 out of 313]\n",
      "   * Class 2\t 0.0909 [28 out of 308]\n",
      "   * Mean        0.3564\n",
      "\n",
      "==================================================================================\n"
     ]
    },
    {
     "name": "stderr",
     "output_type": "stream",
     "text": [
      "> Epoch 49: 100%|██████████| 60/60 [01:40<00:00,  1.67s/it]\n"
     ]
    },
    {
     "name": "stdout",
     "output_type": "stream",
     "text": [
      " - Training Loss        0.9235\n",
      " - Validation Loss      1.2413\n",
      " - Validation Accuracy  0.3458\n",
      "\n",
      " - Validation Accuracy (per class)\n",
      "   * Class 0\t 0.0649 [22 out of 339]\n",
      "   * Class 1\t 0.9105 [285 out of 313]\n",
      "   * Class 2\t 0.0812 [25 out of 308]\n",
      "   * Mean        0.3522\n",
      "\n",
      "==================================================================================\n"
     ]
    },
    {
     "name": "stderr",
     "output_type": "stream",
     "text": [
      "> Epoch 50: 100%|██████████| 60/60 [01:39<00:00,  1.67s/it]\n"
     ]
    },
    {
     "name": "stdout",
     "output_type": "stream",
     "text": [
      " - Training Loss        0.9278\n",
      " - Validation Loss      1.2189\n",
      " - Validation Accuracy  0.3521\n",
      "\n",
      " - Validation Accuracy (per class)\n",
      "   * Class 0\t 0.0767 [26 out of 339]\n",
      "   * Class 1\t 0.9137 [286 out of 313]\n",
      "   * Class 2\t 0.0844 [26 out of 308]\n",
      "   * Mean        0.3583\n",
      "\n",
      "> ATTENTION: epoch 50 was the best one so far! The model has been saved :)\n",
      "\n",
      "==================================================================================\n",
      "> Parameters imported\n",
      "> Dataset correctly divided in training set, validation set and test set\n",
      "> Created Pytorch datasets and dataloaders\n",
      "> Model 'LSTM_fixed' instantiated\n",
      "> Initialization required 0.2096 seconds\n",
      "==================================================================================\n",
      "> Training Started\n",
      "  - Total Epochs: 50\n",
      "==================================================================================\n"
     ]
    },
    {
     "name": "stderr",
     "output_type": "stream",
     "text": [
      "> Epoch 1: 100%|██████████| 60/60 [01:38<00:00,  1.65s/it]\n"
     ]
    },
    {
     "name": "stdout",
     "output_type": "stream",
     "text": [
      " - Training Loss        1.1042\n",
      " - Validation Loss      1.1045\n",
      " - Validation Accuracy  0.3385\n",
      "\n",
      " - Validation Accuracy (per class)\n",
      "   * Class 0\t 0.0354 [12 out of 339]\n",
      "   * Class 1\t 0.9201 [288 out of 313]\n",
      "   * Class 2\t 0.0812 [25 out of 308]\n",
      "   * Mean        0.3456\n",
      "\n",
      "> ATTENTION: epoch 1 was the best one so far! The model has been saved :)\n",
      "\n",
      "==================================================================================\n"
     ]
    },
    {
     "name": "stderr",
     "output_type": "stream",
     "text": [
      "> Epoch 2: 100%|██████████| 60/60 [01:39<00:00,  1.65s/it]\n"
     ]
    },
    {
     "name": "stdout",
     "output_type": "stream",
     "text": [
      " - Training Loss        1.0471\n",
      " - Validation Loss      1.1135\n",
      " - Validation Accuracy  0.3448\n",
      "\n",
      " - Validation Accuracy (per class)\n",
      "   * Class 0\t 0.0442 [15 out of 339]\n",
      "   * Class 1\t 0.9105 [285 out of 313]\n",
      "   * Class 2\t 0.1006 [31 out of 308]\n",
      "   * Mean        0.3518\n",
      "\n",
      "> ATTENTION: epoch 2 was the best one so far! The model has been saved :)\n",
      "\n",
      "==================================================================================\n"
     ]
    },
    {
     "name": "stderr",
     "output_type": "stream",
     "text": [
      "> Epoch 3: 100%|██████████| 60/60 [01:39<00:00,  1.66s/it]\n"
     ]
    },
    {
     "name": "stdout",
     "output_type": "stream",
     "text": [
      " - Training Loss        0.9992\n",
      " - Validation Loss      1.1207\n",
      " - Validation Accuracy  0.3333\n",
      "\n",
      " - Validation Accuracy (per class)\n",
      "   * Class 0\t 0.0796 [27 out of 339]\n",
      "   * Class 1\t 0.0447 [14 out of 313]\n",
      "   * Class 2\t 0.9058 [279 out of 308]\n",
      "   * Mean        0.3434\n",
      "\n",
      "==================================================================================\n"
     ]
    },
    {
     "name": "stderr",
     "output_type": "stream",
     "text": [
      "> Epoch 4: 100%|██████████| 60/60 [01:39<00:00,  1.66s/it]\n"
     ]
    },
    {
     "name": "stdout",
     "output_type": "stream",
     "text": [
      " - Training Loss        0.9592\n",
      " - Validation Loss      1.1472\n",
      " - Validation Accuracy  0.3427\n",
      "\n",
      " - Validation Accuracy (per class)\n",
      "   * Class 0\t 0.0914 [31 out of 339]\n",
      "   * Class 1\t 0.901 [282 out of 313]\n",
      "   * Class 2\t 0.0519 [16 out of 308]\n",
      "   * Mean        0.3481\n",
      "\n",
      "==================================================================================\n"
     ]
    },
    {
     "name": "stderr",
     "output_type": "stream",
     "text": [
      "> Epoch 5: 100%|██████████| 60/60 [01:39<00:00,  1.66s/it]\n"
     ]
    },
    {
     "name": "stdout",
     "output_type": "stream",
     "text": [
      " - Training Loss        0.9403\n",
      " - Validation Loss      1.1802\n",
      " - Validation Accuracy  0.3323\n",
      "\n",
      " - Validation Accuracy (per class)\n",
      "   * Class 0\t 0.0413 [14 out of 339]\n",
      "   * Class 1\t 0.0351 [11 out of 313]\n",
      "   * Class 2\t 0.9545 [294 out of 308]\n",
      "   * Mean        0.3436\n",
      "\n",
      "==================================================================================\n"
     ]
    },
    {
     "name": "stderr",
     "output_type": "stream",
     "text": [
      "> Epoch 6: 100%|██████████| 60/60 [01:39<00:00,  1.67s/it]\n"
     ]
    },
    {
     "name": "stdout",
     "output_type": "stream",
     "text": [
      " - Training Loss        0.9326\n",
      " - Validation Loss      1.1919\n",
      " - Validation Accuracy  0.3458\n",
      "\n",
      " - Validation Accuracy (per class)\n",
      "   * Class 0\t 0.0531 [18 out of 339]\n",
      "   * Class 1\t 0.9073 [284 out of 313]\n",
      "   * Class 2\t 0.0974 [30 out of 308]\n",
      "   * Mean        0.3526\n",
      "\n",
      "> ATTENTION: epoch 6 was the best one so far! The model has been saved :)\n",
      "\n",
      "==================================================================================\n"
     ]
    },
    {
     "name": "stderr",
     "output_type": "stream",
     "text": [
      "> Epoch 7: 100%|██████████| 60/60 [01:40<00:00,  1.68s/it]\n"
     ]
    },
    {
     "name": "stdout",
     "output_type": "stream",
     "text": [
      " - Training Loss        0.9285\n",
      " - Validation Loss      1.2258\n",
      " - Validation Accuracy  0.35\n",
      "\n",
      " - Validation Accuracy (per class)\n",
      "   * Class 0\t 0.0708 [24 out of 339]\n",
      "   * Class 1\t 0.9137 [286 out of 313]\n",
      "   * Class 2\t 0.0844 [26 out of 308]\n",
      "   * Mean        0.3563\n",
      "\n",
      "> ATTENTION: epoch 7 was the best one so far! The model has been saved :)\n",
      "\n",
      "==================================================================================\n"
     ]
    },
    {
     "name": "stderr",
     "output_type": "stream",
     "text": [
      "> Epoch 8: 100%|██████████| 60/60 [01:40<00:00,  1.68s/it]\n"
     ]
    },
    {
     "name": "stdout",
     "output_type": "stream",
     "text": [
      " - Training Loss        0.9272\n",
      " - Validation Loss      1.2569\n",
      " - Validation Accuracy  0.349\n",
      "\n",
      " - Validation Accuracy (per class)\n",
      "   * Class 0\t 0.059 [20 out of 339]\n",
      "   * Class 1\t 0.9073 [284 out of 313]\n",
      "   * Class 2\t 0.1006 [31 out of 308]\n",
      "   * Mean        0.3556\n",
      "\n",
      "==================================================================================\n"
     ]
    },
    {
     "name": "stderr",
     "output_type": "stream",
     "text": [
      "> Epoch 9: 100%|██████████| 60/60 [01:41<00:00,  1.69s/it]\n"
     ]
    },
    {
     "name": "stdout",
     "output_type": "stream",
     "text": [
      " - Training Loss        0.9263\n",
      " - Validation Loss      1.2993\n",
      " - Validation Accuracy  0.3458\n",
      "\n",
      " - Validation Accuracy (per class)\n",
      "   * Class 0\t 0.0442 [15 out of 339]\n",
      "   * Class 1\t 0.9169 [287 out of 313]\n",
      "   * Class 2\t 0.0974 [30 out of 308]\n",
      "   * Mean        0.3528\n",
      "\n",
      "==================================================================================\n"
     ]
    },
    {
     "name": "stderr",
     "output_type": "stream",
     "text": [
      "> Epoch 10: 100%|██████████| 60/60 [01:41<00:00,  1.69s/it]\n"
     ]
    },
    {
     "name": "stdout",
     "output_type": "stream",
     "text": [
      " - Training Loss        0.9259\n",
      " - Validation Loss      1.2547\n",
      " - Validation Accuracy  0.3406\n",
      "\n",
      " - Validation Accuracy (per class)\n",
      "   * Class 0\t 0.0531 [18 out of 339]\n",
      "   * Class 1\t 0.9042 [283 out of 313]\n",
      "   * Class 2\t 0.0844 [26 out of 308]\n",
      "   * Mean        0.3472\n",
      "\n",
      "==================================================================================\n"
     ]
    },
    {
     "name": "stderr",
     "output_type": "stream",
     "text": [
      "> Epoch 11: 100%|██████████| 60/60 [01:41<00:00,  1.69s/it]\n"
     ]
    },
    {
     "name": "stdout",
     "output_type": "stream",
     "text": [
      " - Training Loss        0.9254\n",
      " - Validation Loss      1.2894\n",
      " - Validation Accuracy  0.3375\n",
      "\n",
      " - Validation Accuracy (per class)\n",
      "   * Class 0\t 0.0354 [12 out of 339]\n",
      "   * Class 1\t 0.9137 [286 out of 313]\n",
      "   * Class 2\t 0.0844 [26 out of 308]\n",
      "   * Mean        0.3445\n",
      "\n",
      "==================================================================================\n"
     ]
    },
    {
     "name": "stderr",
     "output_type": "stream",
     "text": [
      "> Epoch 12: 100%|██████████| 60/60 [01:40<00:00,  1.67s/it]\n"
     ]
    },
    {
     "name": "stdout",
     "output_type": "stream",
     "text": [
      " - Training Loss        0.9275\n",
      " - Validation Loss      1.2384\n",
      " - Validation Accuracy  0.3448\n",
      "\n",
      " - Validation Accuracy (per class)\n",
      "   * Class 0\t 0.0619 [21 out of 339]\n",
      "   * Class 1\t 0.9042 [283 out of 313]\n",
      "   * Class 2\t 0.0877 [27 out of 308]\n",
      "   * Mean        0.3513\n",
      "\n",
      "==================================================================================\n"
     ]
    },
    {
     "name": "stderr",
     "output_type": "stream",
     "text": [
      "> Epoch 13: 100%|██████████| 60/60 [01:41<00:00,  1.69s/it]\n"
     ]
    },
    {
     "name": "stdout",
     "output_type": "stream",
     "text": [
      " - Training Loss        0.9257\n",
      " - Validation Loss      1.3086\n",
      " - Validation Accuracy  0.3417\n",
      "\n",
      " - Validation Accuracy (per class)\n",
      "   * Class 0\t 0.0442 [15 out of 339]\n",
      "   * Class 1\t 0.9073 [284 out of 313]\n",
      "   * Class 2\t 0.0942 [29 out of 308]\n",
      "   * Mean        0.3486\n",
      "\n",
      "==================================================================================\n"
     ]
    },
    {
     "name": "stderr",
     "output_type": "stream",
     "text": [
      "> Epoch 14: 100%|██████████| 60/60 [01:41<00:00,  1.69s/it]\n"
     ]
    },
    {
     "name": "stdout",
     "output_type": "stream",
     "text": [
      " - Training Loss        0.9246\n",
      " - Validation Loss      1.3251\n",
      " - Validation Accuracy  0.3469\n",
      "\n",
      " - Validation Accuracy (per class)\n",
      "   * Class 0\t 0.0531 [18 out of 339]\n",
      "   * Class 1\t 0.9073 [284 out of 313]\n",
      "   * Class 2\t 0.1006 [31 out of 308]\n",
      "   * Mean        0.3537\n",
      "\n",
      "==================================================================================\n"
     ]
    },
    {
     "name": "stderr",
     "output_type": "stream",
     "text": [
      "> Epoch 15: 100%|██████████| 60/60 [01:40<00:00,  1.68s/it]\n"
     ]
    },
    {
     "name": "stdout",
     "output_type": "stream",
     "text": [
      " - Training Loss        0.9251\n",
      " - Validation Loss      1.2192\n",
      " - Validation Accuracy  0.35\n",
      "\n",
      " - Validation Accuracy (per class)\n",
      "   * Class 0\t 0.0678 [23 out of 339]\n",
      "   * Class 1\t 0.9105 [285 out of 313]\n",
      "   * Class 2\t 0.0909 [28 out of 308]\n",
      "   * Mean        0.3564\n",
      "\n",
      "> ATTENTION: epoch 15 was the best one so far! The model has been saved :)\n",
      "\n",
      "==================================================================================\n"
     ]
    },
    {
     "name": "stderr",
     "output_type": "stream",
     "text": [
      "> Epoch 16: 100%|██████████| 60/60 [01:41<00:00,  1.68s/it]\n"
     ]
    },
    {
     "name": "stdout",
     "output_type": "stream",
     "text": [
      " - Training Loss        0.9248\n",
      " - Validation Loss      1.2425\n",
      " - Validation Accuracy  0.3427\n",
      "\n",
      " - Validation Accuracy (per class)\n",
      "   * Class 0\t 0.0472 [16 out of 339]\n",
      "   * Class 1\t 0.9073 [284 out of 313]\n",
      "   * Class 2\t 0.0942 [29 out of 308]\n",
      "   * Mean        0.3496\n",
      "\n",
      "==================================================================================\n"
     ]
    },
    {
     "name": "stderr",
     "output_type": "stream",
     "text": [
      "> Epoch 17: 100%|██████████| 60/60 [01:40<00:00,  1.67s/it]\n"
     ]
    },
    {
     "name": "stdout",
     "output_type": "stream",
     "text": [
      " - Training Loss        0.9242\n",
      " - Validation Loss      1.28\n",
      " - Validation Accuracy  0.3458\n",
      "\n",
      " - Validation Accuracy (per class)\n",
      "   * Class 0\t 0.059 [20 out of 339]\n",
      "   * Class 1\t 0.9105 [285 out of 313]\n",
      "   * Class 2\t 0.0877 [27 out of 308]\n",
      "   * Mean        0.3524\n",
      "\n",
      "==================================================================================\n"
     ]
    },
    {
     "name": "stderr",
     "output_type": "stream",
     "text": [
      "> Epoch 18: 100%|██████████| 60/60 [01:40<00:00,  1.67s/it]\n"
     ]
    },
    {
     "name": "stdout",
     "output_type": "stream",
     "text": [
      " - Training Loss        0.9347\n",
      " - Validation Loss      1.1888\n",
      " - Validation Accuracy  0.3448\n",
      "\n",
      " - Validation Accuracy (per class)\n",
      "   * Class 0\t 0.0678 [23 out of 339]\n",
      "   * Class 1\t 0.9042 [283 out of 313]\n",
      "   * Class 2\t 0.0812 [25 out of 308]\n",
      "   * Mean        0.3511\n",
      "\n",
      "==================================================================================\n"
     ]
    },
    {
     "name": "stderr",
     "output_type": "stream",
     "text": [
      "> Epoch 19: 100%|██████████| 60/60 [01:39<00:00,  1.66s/it]\n"
     ]
    },
    {
     "name": "stdout",
     "output_type": "stream",
     "text": [
      " - Training Loss        0.9273\n",
      " - Validation Loss      1.2326\n",
      " - Validation Accuracy  0.3469\n",
      "\n",
      " - Validation Accuracy (per class)\n",
      "   * Class 0\t 0.0619 [21 out of 339]\n",
      "   * Class 1\t 0.9137 [286 out of 313]\n",
      "   * Class 2\t 0.0844 [26 out of 308]\n",
      "   * Mean        0.3533\n",
      "\n",
      "==================================================================================\n"
     ]
    },
    {
     "name": "stderr",
     "output_type": "stream",
     "text": [
      "> Epoch 20: 100%|██████████| 60/60 [01:40<00:00,  1.68s/it]\n"
     ]
    },
    {
     "name": "stdout",
     "output_type": "stream",
     "text": [
      " - Training Loss        0.9252\n",
      " - Validation Loss      1.2582\n",
      " - Validation Accuracy  0.3458\n",
      "\n",
      " - Validation Accuracy (per class)\n",
      "   * Class 0\t 0.0619 [21 out of 339]\n",
      "   * Class 1\t 0.901 [282 out of 313]\n",
      "   * Class 2\t 0.0942 [29 out of 308]\n",
      "   * Mean        0.3524\n",
      "\n",
      "==================================================================================\n"
     ]
    },
    {
     "name": "stderr",
     "output_type": "stream",
     "text": [
      "> Epoch 21: 100%|██████████| 60/60 [01:40<00:00,  1.68s/it]\n"
     ]
    },
    {
     "name": "stdout",
     "output_type": "stream",
     "text": [
      " - Training Loss        0.9252\n",
      " - Validation Loss      1.2623\n",
      " - Validation Accuracy  0.3458\n",
      "\n",
      " - Validation Accuracy (per class)\n",
      "   * Class 0\t 0.059 [20 out of 339]\n",
      "   * Class 1\t 0.9042 [283 out of 313]\n",
      "   * Class 2\t 0.0942 [29 out of 308]\n",
      "   * Mean        0.3525\n",
      "\n",
      "==================================================================================\n"
     ]
    },
    {
     "name": "stderr",
     "output_type": "stream",
     "text": [
      "> Epoch 22: 100%|██████████| 60/60 [01:41<00:00,  1.69s/it]\n"
     ]
    },
    {
     "name": "stdout",
     "output_type": "stream",
     "text": [
      " - Training Loss        0.9245\n",
      " - Validation Loss      1.2647\n",
      " - Validation Accuracy  0.3479\n",
      "\n",
      " - Validation Accuracy (per class)\n",
      "   * Class 0\t 0.0619 [21 out of 339]\n",
      "   * Class 1\t 0.9042 [283 out of 313]\n",
      "   * Class 2\t 0.0974 [30 out of 308]\n",
      "   * Mean        0.3545\n",
      "\n",
      "==================================================================================\n"
     ]
    },
    {
     "name": "stderr",
     "output_type": "stream",
     "text": [
      "> Epoch 23: 100%|██████████| 60/60 [01:40<00:00,  1.68s/it]\n"
     ]
    },
    {
     "name": "stdout",
     "output_type": "stream",
     "text": [
      " - Training Loss        0.9252\n",
      " - Validation Loss      1.2506\n",
      " - Validation Accuracy  0.3479\n",
      "\n",
      " - Validation Accuracy (per class)\n",
      "   * Class 0\t 0.059 [20 out of 339]\n",
      "   * Class 1\t 0.9042 [283 out of 313]\n",
      "   * Class 2\t 0.1006 [31 out of 308]\n",
      "   * Mean        0.3546\n",
      "\n",
      "==================================================================================\n"
     ]
    },
    {
     "name": "stderr",
     "output_type": "stream",
     "text": [
      "> Epoch 24: 100%|██████████| 60/60 [01:40<00:00,  1.67s/it]\n"
     ]
    },
    {
     "name": "stdout",
     "output_type": "stream",
     "text": [
      " - Training Loss        0.925\n",
      " - Validation Loss      1.2803\n",
      " - Validation Accuracy  0.3448\n",
      "\n",
      " - Validation Accuracy (per class)\n",
      "   * Class 0\t 0.0531 [18 out of 339]\n",
      "   * Class 1\t 0.9073 [284 out of 313]\n",
      "   * Class 2\t 0.0942 [29 out of 308]\n",
      "   * Mean        0.3515\n",
      "\n",
      "==================================================================================\n"
     ]
    },
    {
     "name": "stderr",
     "output_type": "stream",
     "text": [
      "> Epoch 25: 100%|██████████| 60/60 [01:40<00:00,  1.68s/it]\n"
     ]
    },
    {
     "name": "stdout",
     "output_type": "stream",
     "text": [
      " - Training Loss        0.9242\n",
      " - Validation Loss      1.298\n",
      " - Validation Accuracy  0.3396\n",
      "\n",
      " - Validation Accuracy (per class)\n",
      "   * Class 0\t 0.059 [20 out of 339]\n",
      "   * Class 1\t 0.8946 [280 out of 313]\n",
      "   * Class 2\t 0.0844 [26 out of 308]\n",
      "   * Mean        0.346\n",
      "\n",
      "==================================================================================\n"
     ]
    },
    {
     "name": "stderr",
     "output_type": "stream",
     "text": [
      "> Epoch 26: 100%|██████████| 60/60 [01:41<00:00,  1.68s/it]\n"
     ]
    },
    {
     "name": "stdout",
     "output_type": "stream",
     "text": [
      " - Training Loss        0.9241\n",
      " - Validation Loss      1.2855\n",
      " - Validation Accuracy  0.3458\n",
      "\n",
      " - Validation Accuracy (per class)\n",
      "   * Class 0\t 0.0531 [18 out of 339]\n",
      "   * Class 1\t 0.9042 [283 out of 313]\n",
      "   * Class 2\t 0.1006 [31 out of 308]\n",
      "   * Mean        0.3526\n",
      "\n",
      "==================================================================================\n"
     ]
    },
    {
     "name": "stderr",
     "output_type": "stream",
     "text": [
      "> Epoch 27: 100%|██████████| 60/60 [01:41<00:00,  1.68s/it]\n"
     ]
    },
    {
     "name": "stdout",
     "output_type": "stream",
     "text": [
      " - Training Loss        0.925\n",
      " - Validation Loss      1.2781\n",
      " - Validation Accuracy  0.3458\n",
      "\n",
      " - Validation Accuracy (per class)\n",
      "   * Class 0\t 0.0678 [23 out of 339]\n",
      "   * Class 1\t 0.9042 [283 out of 313]\n",
      "   * Class 2\t 0.0844 [26 out of 308]\n",
      "   * Mean        0.3521\n",
      "\n",
      "==================================================================================\n"
     ]
    },
    {
     "name": "stderr",
     "output_type": "stream",
     "text": [
      "> Epoch 28: 100%|██████████| 60/60 [01:40<00:00,  1.68s/it]\n"
     ]
    },
    {
     "name": "stdout",
     "output_type": "stream",
     "text": [
      " - Training Loss        0.9254\n",
      " - Validation Loss      1.2837\n",
      " - Validation Accuracy  0.3448\n",
      "\n",
      " - Validation Accuracy (per class)\n",
      "   * Class 0\t 0.0531 [18 out of 339]\n",
      "   * Class 1\t 0.9042 [283 out of 313]\n",
      "   * Class 2\t 0.0974 [30 out of 308]\n",
      "   * Mean        0.3516\n",
      "\n",
      "==================================================================================\n"
     ]
    },
    {
     "name": "stderr",
     "output_type": "stream",
     "text": [
      "> Epoch 29: 100%|██████████| 60/60 [01:40<00:00,  1.68s/it]\n"
     ]
    },
    {
     "name": "stdout",
     "output_type": "stream",
     "text": [
      " - Training Loss        0.9241\n",
      " - Validation Loss      1.2987\n",
      " - Validation Accuracy  0.3448\n",
      "\n",
      " - Validation Accuracy (per class)\n",
      "   * Class 0\t 0.056 [19 out of 339]\n",
      "   * Class 1\t 0.9073 [284 out of 313]\n",
      "   * Class 2\t 0.0909 [28 out of 308]\n",
      "   * Mean        0.3514\n",
      "\n",
      "==================================================================================\n"
     ]
    },
    {
     "name": "stderr",
     "output_type": "stream",
     "text": [
      "> Epoch 30: 100%|██████████| 60/60 [01:41<00:00,  1.69s/it]\n"
     ]
    },
    {
     "name": "stdout",
     "output_type": "stream",
     "text": [
      " - Training Loss        0.9239\n",
      " - Validation Loss      1.3219\n",
      " - Validation Accuracy  0.3385\n",
      "\n",
      " - Validation Accuracy (per class)\n",
      "   * Class 0\t 0.0472 [16 out of 339]\n",
      "   * Class 1\t 0.8978 [281 out of 313]\n",
      "   * Class 2\t 0.0909 [28 out of 308]\n",
      "   * Mean        0.3453\n",
      "\n",
      "==================================================================================\n"
     ]
    },
    {
     "name": "stderr",
     "output_type": "stream",
     "text": [
      "> Epoch 31: 100%|██████████| 60/60 [01:42<00:00,  1.70s/it]\n"
     ]
    },
    {
     "name": "stdout",
     "output_type": "stream",
     "text": [
      " - Training Loss        0.9242\n",
      " - Validation Loss      1.3233\n",
      " - Validation Accuracy  0.3375\n",
      "\n",
      " - Validation Accuracy (per class)\n",
      "   * Class 0\t 0.0472 [16 out of 339]\n",
      "   * Class 1\t 0.8978 [281 out of 313]\n",
      "   * Class 2\t 0.0877 [27 out of 308]\n",
      "   * Mean        0.3442\n",
      "\n",
      "==================================================================================\n"
     ]
    },
    {
     "name": "stderr",
     "output_type": "stream",
     "text": [
      "> Epoch 32: 100%|██████████| 60/60 [01:41<00:00,  1.70s/it]\n"
     ]
    },
    {
     "name": "stdout",
     "output_type": "stream",
     "text": [
      " - Training Loss        0.9242\n",
      " - Validation Loss      1.3195\n",
      " - Validation Accuracy  0.3427\n",
      "\n",
      " - Validation Accuracy (per class)\n",
      "   * Class 0\t 0.0472 [16 out of 339]\n",
      "   * Class 1\t 0.9073 [284 out of 313]\n",
      "   * Class 2\t 0.0942 [29 out of 308]\n",
      "   * Mean        0.3496\n",
      "\n",
      "==================================================================================\n"
     ]
    },
    {
     "name": "stderr",
     "output_type": "stream",
     "text": [
      "> Epoch 33: 100%|██████████| 60/60 [01:41<00:00,  1.69s/it]\n"
     ]
    },
    {
     "name": "stdout",
     "output_type": "stream",
     "text": [
      " - Training Loss        0.9253\n",
      " - Validation Loss      1.2874\n",
      " - Validation Accuracy  0.3458\n",
      "\n",
      " - Validation Accuracy (per class)\n",
      "   * Class 0\t 0.0472 [16 out of 339]\n",
      "   * Class 1\t 0.8978 [281 out of 313]\n",
      "   * Class 2\t 0.1136 [35 out of 308]\n",
      "   * Mean        0.3529\n",
      "\n",
      "==================================================================================\n"
     ]
    },
    {
     "name": "stderr",
     "output_type": "stream",
     "text": [
      "> Epoch 34: 100%|██████████| 60/60 [01:40<00:00,  1.67s/it]\n"
     ]
    },
    {
     "name": "stdout",
     "output_type": "stream",
     "text": [
      " - Training Loss        0.9295\n",
      " - Validation Loss      1.2808\n",
      " - Validation Accuracy  0.3417\n",
      "\n",
      " - Validation Accuracy (per class)\n",
      "   * Class 0\t 0.0501 [17 out of 339]\n",
      "   * Class 1\t 0.9042 [283 out of 313]\n",
      "   * Class 2\t 0.0909 [28 out of 308]\n",
      "   * Mean        0.3484\n",
      "\n",
      "==================================================================================\n"
     ]
    },
    {
     "name": "stderr",
     "output_type": "stream",
     "text": [
      "> Epoch 35: 100%|██████████| 60/60 [01:41<00:00,  1.69s/it]\n"
     ]
    },
    {
     "name": "stdout",
     "output_type": "stream",
     "text": [
      " - Training Loss        0.9305\n",
      " - Validation Loss      1.243\n",
      " - Validation Accuracy  0.3448\n",
      "\n",
      " - Validation Accuracy (per class)\n",
      "   * Class 0\t 0.0737 [25 out of 339]\n",
      "   * Class 1\t 0.9201 [288 out of 313]\n",
      "   * Class 2\t 0.0584 [18 out of 308]\n",
      "   * Mean        0.3507\n",
      "\n",
      "==================================================================================\n"
     ]
    },
    {
     "name": "stderr",
     "output_type": "stream",
     "text": [
      "> Epoch 36: 100%|██████████| 60/60 [01:41<00:00,  1.69s/it]\n"
     ]
    },
    {
     "name": "stdout",
     "output_type": "stream",
     "text": [
      " - Training Loss        0.9264\n",
      " - Validation Loss      1.2848\n",
      " - Validation Accuracy  0.3375\n",
      "\n",
      " - Validation Accuracy (per class)\n",
      "   * Class 0\t 0.0531 [18 out of 339]\n",
      "   * Class 1\t 0.9137 [286 out of 313]\n",
      "   * Class 2\t 0.0649 [20 out of 308]\n",
      "   * Mean        0.3439\n",
      "\n",
      "==================================================================================\n"
     ]
    },
    {
     "name": "stderr",
     "output_type": "stream",
     "text": [
      "> Epoch 37: 100%|██████████| 60/60 [01:41<00:00,  1.69s/it]\n"
     ]
    },
    {
     "name": "stdout",
     "output_type": "stream",
     "text": [
      " - Training Loss        0.9249\n",
      " - Validation Loss      1.2911\n",
      " - Validation Accuracy  0.3458\n",
      "\n",
      " - Validation Accuracy (per class)\n",
      "   * Class 0\t 0.056 [19 out of 339]\n",
      "   * Class 1\t 0.9137 [286 out of 313]\n",
      "   * Class 2\t 0.0877 [27 out of 308]\n",
      "   * Mean        0.3525\n",
      "\n",
      "==================================================================================\n"
     ]
    },
    {
     "name": "stderr",
     "output_type": "stream",
     "text": [
      "> Epoch 38: 100%|██████████| 60/60 [01:41<00:00,  1.69s/it]\n"
     ]
    },
    {
     "name": "stdout",
     "output_type": "stream",
     "text": [
      " - Training Loss        0.9236\n",
      " - Validation Loss      1.2969\n",
      " - Validation Accuracy  0.3448\n",
      "\n",
      " - Validation Accuracy (per class)\n",
      "   * Class 0\t 0.0531 [18 out of 339]\n",
      "   * Class 1\t 0.9105 [285 out of 313]\n",
      "   * Class 2\t 0.0909 [28 out of 308]\n",
      "   * Mean        0.3515\n",
      "\n",
      "==================================================================================\n"
     ]
    },
    {
     "name": "stderr",
     "output_type": "stream",
     "text": [
      "> Epoch 39: 100%|██████████| 60/60 [01:41<00:00,  1.70s/it]\n"
     ]
    },
    {
     "name": "stdout",
     "output_type": "stream",
     "text": [
      " - Training Loss        0.9235\n",
      " - Validation Loss      1.3015\n",
      " - Validation Accuracy  0.3438\n",
      "\n",
      " - Validation Accuracy (per class)\n",
      "   * Class 0\t 0.0531 [18 out of 339]\n",
      "   * Class 1\t 0.9105 [285 out of 313]\n",
      "   * Class 2\t 0.0877 [27 out of 308]\n",
      "   * Mean        0.3504\n",
      "\n",
      "==================================================================================\n"
     ]
    },
    {
     "name": "stderr",
     "output_type": "stream",
     "text": [
      "> Epoch 40: 100%|██████████| 60/60 [01:41<00:00,  1.69s/it]\n"
     ]
    },
    {
     "name": "stdout",
     "output_type": "stream",
     "text": [
      " - Training Loss        0.9236\n",
      " - Validation Loss      1.3007\n",
      " - Validation Accuracy  0.3448\n",
      "\n",
      " - Validation Accuracy (per class)\n",
      "   * Class 0\t 0.0531 [18 out of 339]\n",
      "   * Class 1\t 0.9137 [286 out of 313]\n",
      "   * Class 2\t 0.0877 [27 out of 308]\n",
      "   * Mean        0.3515\n",
      "\n",
      "==================================================================================\n"
     ]
    },
    {
     "name": "stderr",
     "output_type": "stream",
     "text": [
      "> Epoch 41: 100%|██████████| 60/60 [01:41<00:00,  1.69s/it]\n"
     ]
    },
    {
     "name": "stdout",
     "output_type": "stream",
     "text": [
      " - Training Loss        0.9237\n",
      " - Validation Loss      1.3063\n",
      " - Validation Accuracy  0.3427\n",
      "\n",
      " - Validation Accuracy (per class)\n",
      "   * Class 0\t 0.0501 [17 out of 339]\n",
      "   * Class 1\t 0.9105 [285 out of 313]\n",
      "   * Class 2\t 0.0877 [27 out of 308]\n",
      "   * Mean        0.3494\n",
      "\n",
      "==================================================================================\n"
     ]
    },
    {
     "name": "stderr",
     "output_type": "stream",
     "text": [
      "> Epoch 42: 100%|██████████| 60/60 [01:41<00:00,  1.70s/it]\n"
     ]
    },
    {
     "name": "stdout",
     "output_type": "stream",
     "text": [
      " - Training Loss        0.9278\n",
      " - Validation Loss      1.3022\n",
      " - Validation Accuracy  0.3417\n",
      "\n",
      " - Validation Accuracy (per class)\n",
      "   * Class 0\t 0.0531 [18 out of 339]\n",
      "   * Class 1\t 0.9137 [286 out of 313]\n",
      "   * Class 2\t 0.0779 [24 out of 308]\n",
      "   * Mean        0.3482\n",
      "\n",
      "==================================================================================\n"
     ]
    },
    {
     "name": "stderr",
     "output_type": "stream",
     "text": [
      "> Epoch 43: 100%|██████████| 60/60 [01:41<00:00,  1.69s/it]\n"
     ]
    },
    {
     "name": "stdout",
     "output_type": "stream",
     "text": [
      " - Training Loss        0.9317\n",
      " - Validation Loss      1.275\n",
      " - Validation Accuracy  0.3417\n",
      "\n",
      " - Validation Accuracy (per class)\n",
      "   * Class 0\t 0.0619 [21 out of 339]\n",
      "   * Class 1\t 0.9169 [287 out of 313]\n",
      "   * Class 2\t 0.0649 [20 out of 308]\n",
      "   * Mean        0.3479\n",
      "\n",
      "==================================================================================\n"
     ]
    },
    {
     "name": "stderr",
     "output_type": "stream",
     "text": [
      "> Epoch 44: 100%|██████████| 60/60 [01:41<00:00,  1.69s/it]\n"
     ]
    },
    {
     "name": "stdout",
     "output_type": "stream",
     "text": [
      " - Training Loss        0.9255\n",
      " - Validation Loss      1.2934\n",
      " - Validation Accuracy  0.3469\n",
      "\n",
      " - Validation Accuracy (per class)\n",
      "   * Class 0\t 0.0619 [21 out of 339]\n",
      "   * Class 1\t 0.9169 [287 out of 313]\n",
      "   * Class 2\t 0.0812 [25 out of 308]\n",
      "   * Mean        0.3533\n",
      "\n",
      "==================================================================================\n"
     ]
    },
    {
     "name": "stderr",
     "output_type": "stream",
     "text": [
      "> Epoch 45: 100%|██████████| 60/60 [01:41<00:00,  1.69s/it]\n"
     ]
    },
    {
     "name": "stdout",
     "output_type": "stream",
     "text": [
      " - Training Loss        0.9246\n",
      " - Validation Loss      1.2881\n",
      " - Validation Accuracy  0.3458\n",
      "\n",
      " - Validation Accuracy (per class)\n",
      "   * Class 0\t 0.059 [20 out of 339]\n",
      "   * Class 1\t 0.9169 [287 out of 313]\n",
      "   * Class 2\t 0.0812 [25 out of 308]\n",
      "   * Mean        0.3524\n",
      "\n",
      "==================================================================================\n"
     ]
    },
    {
     "name": "stderr",
     "output_type": "stream",
     "text": [
      "> Epoch 46: 100%|██████████| 60/60 [01:40<00:00,  1.68s/it]\n"
     ]
    },
    {
     "name": "stdout",
     "output_type": "stream",
     "text": [
      " - Training Loss        0.9246\n",
      " - Validation Loss      1.3057\n",
      " - Validation Accuracy  0.3438\n",
      "\n",
      " - Validation Accuracy (per class)\n",
      "   * Class 0\t 0.0531 [18 out of 339]\n",
      "   * Class 1\t 0.9169 [287 out of 313]\n",
      "   * Class 2\t 0.0812 [25 out of 308]\n",
      "   * Mean        0.3504\n",
      "\n",
      "==================================================================================\n"
     ]
    },
    {
     "name": "stderr",
     "output_type": "stream",
     "text": [
      "> Epoch 47: 100%|██████████| 60/60 [01:41<00:00,  1.69s/it]\n"
     ]
    },
    {
     "name": "stdout",
     "output_type": "stream",
     "text": [
      " - Training Loss        0.9241\n",
      " - Validation Loss      1.3116\n",
      " - Validation Accuracy  0.3417\n",
      "\n",
      " - Validation Accuracy (per class)\n",
      "   * Class 0\t 0.056 [19 out of 339]\n",
      "   * Class 1\t 0.9105 [285 out of 313]\n",
      "   * Class 2\t 0.0779 [24 out of 308]\n",
      "   * Mean        0.3481\n",
      "\n",
      "==================================================================================\n"
     ]
    },
    {
     "name": "stderr",
     "output_type": "stream",
     "text": [
      "> Epoch 48: 100%|██████████| 60/60 [01:41<00:00,  1.70s/it]\n"
     ]
    },
    {
     "name": "stdout",
     "output_type": "stream",
     "text": [
      " - Training Loss        0.9241\n",
      " - Validation Loss      1.3279\n",
      " - Validation Accuracy  0.3417\n",
      "\n",
      " - Validation Accuracy (per class)\n",
      "   * Class 0\t 0.0531 [18 out of 339]\n",
      "   * Class 1\t 0.9042 [283 out of 313]\n",
      "   * Class 2\t 0.0877 [27 out of 308]\n",
      "   * Mean        0.3483\n",
      "\n",
      "==================================================================================\n"
     ]
    },
    {
     "name": "stderr",
     "output_type": "stream",
     "text": [
      "> Epoch 49: 100%|██████████| 60/60 [01:41<00:00,  1.69s/it]\n"
     ]
    },
    {
     "name": "stdout",
     "output_type": "stream",
     "text": [
      " - Training Loss        0.924\n",
      " - Validation Loss      1.3167\n",
      " - Validation Accuracy  0.3427\n",
      "\n",
      " - Validation Accuracy (per class)\n",
      "   * Class 0\t 0.0501 [17 out of 339]\n",
      "   * Class 1\t 0.9169 [287 out of 313]\n",
      "   * Class 2\t 0.0812 [25 out of 308]\n",
      "   * Mean        0.3494\n",
      "\n",
      "==================================================================================\n"
     ]
    },
    {
     "name": "stderr",
     "output_type": "stream",
     "text": [
      "> Epoch 50: 100%|██████████| 60/60 [01:41<00:00,  1.70s/it]\n"
     ]
    },
    {
     "name": "stdout",
     "output_type": "stream",
     "text": [
      " - Training Loss        0.924\n",
      " - Validation Loss      1.3504\n",
      " - Validation Accuracy  0.3385\n",
      "\n",
      " - Validation Accuracy (per class)\n",
      "   * Class 0\t 0.0442 [15 out of 339]\n",
      "   * Class 1\t 0.9137 [286 out of 313]\n",
      "   * Class 2\t 0.0779 [24 out of 308]\n",
      "   * Mean        0.3453\n",
      "\n",
      "==================================================================================\n",
      "> Parameters imported\n",
      "> Dataset correctly divided in training set, validation set and test set\n",
      "> Created Pytorch datasets and dataloaders\n",
      "> Model 'LSTM_fixed' instantiated\n",
      "> Initialization required 0.203 seconds\n",
      "==================================================================================\n",
      "> Training Started\n",
      "  - Total Epochs: 50\n",
      "==================================================================================\n"
     ]
    },
    {
     "name": "stderr",
     "output_type": "stream",
     "text": [
      "> Epoch 1: 100%|██████████| 60/60 [01:41<00:00,  1.68s/it]\n"
     ]
    },
    {
     "name": "stdout",
     "output_type": "stream",
     "text": [
      " - Training Loss        1.1454\n",
      " - Validation Loss      1.1775\n",
      " - Validation Accuracy  0.324\n",
      "\n",
      " - Validation Accuracy (per class)\n",
      "   * Class 0\t 0.0 [0 out of 339]\n",
      "   * Class 1\t 0.9776 [306 out of 313]\n",
      "   * Class 2\t 0.0162 [5 out of 308]\n",
      "   * Mean        0.3313\n",
      "\n",
      "> ATTENTION: epoch 1 was the best one so far! The model has been saved :)\n",
      "\n",
      "==================================================================================\n"
     ]
    },
    {
     "name": "stderr",
     "output_type": "stream",
     "text": [
      "> Epoch 2: 100%|██████████| 60/60 [01:41<00:00,  1.70s/it]\n"
     ]
    },
    {
     "name": "stdout",
     "output_type": "stream",
     "text": [
      " - Training Loss        1.1121\n",
      " - Validation Loss      1.1104\n",
      " - Validation Accuracy  0.3333\n",
      "\n",
      " - Validation Accuracy (per class)\n",
      "   * Class 0\t 0.0236 [8 out of 339]\n",
      "   * Class 1\t 0.9329 [292 out of 313]\n",
      "   * Class 2\t 0.0649 [20 out of 308]\n",
      "   * Mean        0.3405\n",
      "\n",
      "> ATTENTION: epoch 2 was the best one so far! The model has been saved :)\n",
      "\n",
      "==================================================================================\n"
     ]
    },
    {
     "name": "stderr",
     "output_type": "stream",
     "text": [
      "> Epoch 3: 100%|██████████| 60/60 [01:42<00:00,  1.70s/it]\n"
     ]
    },
    {
     "name": "stdout",
     "output_type": "stream",
     "text": [
      " - Training Loss        0.8768\n",
      " - Validation Loss      0.7387\n",
      " - Validation Accuracy  0.7229\n",
      "\n",
      " - Validation Accuracy (per class)\n",
      "   * Class 0\t 0.6785 [230 out of 339]\n",
      "   * Class 1\t 0.5815 [182 out of 313]\n",
      "   * Class 2\t 0.9156 [282 out of 308]\n",
      "   * Mean        0.7252\n",
      "\n",
      "> ATTENTION: epoch 3 was the best one so far! The model has been saved :)\n",
      "\n",
      "==================================================================================\n"
     ]
    },
    {
     "name": "stderr",
     "output_type": "stream",
     "text": [
      "> Epoch 4: 100%|██████████| 60/60 [01:42<00:00,  1.70s/it]\n"
     ]
    },
    {
     "name": "stdout",
     "output_type": "stream",
     "text": [
      " - Training Loss        0.5533\n",
      " - Validation Loss      0.5834\n",
      " - Validation Accuracy  0.7865\n",
      "\n",
      " - Validation Accuracy (per class)\n",
      "   * Class 0\t 0.8614 [292 out of 339]\n",
      "   * Class 1\t 0.6709 [210 out of 313]\n",
      "   * Class 2\t 0.8214 [253 out of 308]\n",
      "   * Mean        0.7846\n",
      "\n",
      "> ATTENTION: epoch 4 was the best one so far! The model has been saved :)\n",
      "\n",
      "==================================================================================\n"
     ]
    },
    {
     "name": "stderr",
     "output_type": "stream",
     "text": [
      "> Epoch 5: 100%|██████████| 60/60 [01:42<00:00,  1.70s/it]\n"
     ]
    },
    {
     "name": "stdout",
     "output_type": "stream",
     "text": [
      " - Training Loss        0.4018\n",
      " - Validation Loss      0.6529\n",
      " - Validation Accuracy  0.7656\n",
      "\n",
      " - Validation Accuracy (per class)\n",
      "   * Class 0\t 0.6755 [229 out of 339]\n",
      "   * Class 1\t 0.7188 [225 out of 313]\n",
      "   * Class 2\t 0.9123 [281 out of 308]\n",
      "   * Mean        0.7689\n",
      "\n",
      "==================================================================================\n"
     ]
    },
    {
     "name": "stderr",
     "output_type": "stream",
     "text": [
      "> Epoch 6: 100%|██████████| 60/60 [01:42<00:00,  1.70s/it]\n"
     ]
    },
    {
     "name": "stdout",
     "output_type": "stream",
     "text": [
      " - Training Loss        0.3575\n",
      " - Validation Loss      0.5544\n",
      " - Validation Accuracy  0.8042\n",
      "\n",
      " - Validation Accuracy (per class)\n",
      "   * Class 0\t 0.8053 [273 out of 339]\n",
      "   * Class 1\t 0.8307 [260 out of 313]\n",
      "   * Class 2\t 0.776 [239 out of 308]\n",
      "   * Mean        0.804\n",
      "\n",
      "> ATTENTION: epoch 6 was the best one so far! The model has been saved :)\n",
      "\n",
      "==================================================================================\n"
     ]
    },
    {
     "name": "stderr",
     "output_type": "stream",
     "text": [
      "> Epoch 7: 100%|██████████| 60/60 [01:42<00:00,  1.71s/it]\n"
     ]
    },
    {
     "name": "stdout",
     "output_type": "stream",
     "text": [
      " - Training Loss        0.2813\n",
      " - Validation Loss      0.5906\n",
      " - Validation Accuracy  0.8021\n",
      "\n",
      " - Validation Accuracy (per class)\n",
      "   * Class 0\t 0.8348 [283 out of 339]\n",
      "   * Class 1\t 0.7764 [243 out of 313]\n",
      "   * Class 2\t 0.7922 [244 out of 308]\n",
      "   * Mean        0.8011\n",
      "\n",
      "==================================================================================\n"
     ]
    },
    {
     "name": "stderr",
     "output_type": "stream",
     "text": [
      "> Epoch 8: 100%|██████████| 60/60 [01:42<00:00,  1.71s/it]\n"
     ]
    },
    {
     "name": "stdout",
     "output_type": "stream",
     "text": [
      " - Training Loss        0.2418\n",
      " - Validation Loss      0.5185\n",
      " - Validation Accuracy  0.8177\n",
      "\n",
      " - Validation Accuracy (per class)\n",
      "   * Class 0\t 0.7817 [265 out of 339]\n",
      "   * Class 1\t 0.8019 [251 out of 313]\n",
      "   * Class 2\t 0.8734 [269 out of 308]\n",
      "   * Mean        0.819\n",
      "\n",
      "> ATTENTION: epoch 8 was the best one so far! The model has been saved :)\n",
      "\n",
      "==================================================================================\n"
     ]
    },
    {
     "name": "stderr",
     "output_type": "stream",
     "text": [
      "> Epoch 9: 100%|██████████| 60/60 [01:42<00:00,  1.70s/it]\n"
     ]
    },
    {
     "name": "stdout",
     "output_type": "stream",
     "text": [
      " - Training Loss        0.1985\n",
      " - Validation Loss      0.5015\n",
      " - Validation Accuracy  0.826\n",
      "\n",
      " - Validation Accuracy (per class)\n",
      "   * Class 0\t 0.7876 [267 out of 339]\n",
      "   * Class 1\t 0.8243 [258 out of 313]\n",
      "   * Class 2\t 0.8701 [268 out of 308]\n",
      "   * Mean        0.8273\n",
      "\n",
      "> ATTENTION: epoch 9 was the best one so far! The model has been saved :)\n",
      "\n",
      "==================================================================================\n"
     ]
    },
    {
     "name": "stderr",
     "output_type": "stream",
     "text": [
      "> Epoch 10: 100%|██████████| 60/60 [01:42<00:00,  1.70s/it]\n"
     ]
    },
    {
     "name": "stdout",
     "output_type": "stream",
     "text": [
      " - Training Loss        0.1822\n",
      " - Validation Loss      0.5517\n",
      " - Validation Accuracy  0.8198\n",
      "\n",
      " - Validation Accuracy (per class)\n",
      "   * Class 0\t 0.8289 [281 out of 339]\n",
      "   * Class 1\t 0.8371 [262 out of 313]\n",
      "   * Class 2\t 0.7922 [244 out of 308]\n",
      "   * Mean        0.8194\n",
      "\n",
      "==================================================================================\n"
     ]
    },
    {
     "name": "stderr",
     "output_type": "stream",
     "text": [
      "> Epoch 11: 100%|██████████| 60/60 [01:42<00:00,  1.71s/it]\n"
     ]
    },
    {
     "name": "stdout",
     "output_type": "stream",
     "text": [
      " - Training Loss        0.1692\n",
      " - Validation Loss      0.6054\n",
      " - Validation Accuracy  0.8271\n",
      "\n",
      " - Validation Accuracy (per class)\n",
      "   * Class 0\t 0.7876 [267 out of 339]\n",
      "   * Class 1\t 0.8754 [274 out of 313]\n",
      "   * Class 2\t 0.8214 [253 out of 308]\n",
      "   * Mean        0.8281\n",
      "\n",
      "> ATTENTION: epoch 11 was the best one so far! The model has been saved :)\n",
      "\n",
      "==================================================================================\n"
     ]
    },
    {
     "name": "stderr",
     "output_type": "stream",
     "text": [
      "> Epoch 12: 100%|██████████| 60/60 [01:42<00:00,  1.71s/it]\n"
     ]
    },
    {
     "name": "stdout",
     "output_type": "stream",
     "text": [
      " - Training Loss        0.1453\n",
      " - Validation Loss      0.6102\n",
      " - Validation Accuracy  0.8208\n",
      "\n",
      " - Validation Accuracy (per class)\n",
      "   * Class 0\t 0.7788 [264 out of 339]\n",
      "   * Class 1\t 0.7987 [250 out of 313]\n",
      "   * Class 2\t 0.8896 [274 out of 308]\n",
      "   * Mean        0.8224\n",
      "\n",
      "==================================================================================\n"
     ]
    },
    {
     "name": "stderr",
     "output_type": "stream",
     "text": [
      "> Epoch 13: 100%|██████████| 60/60 [01:42<00:00,  1.71s/it]\n"
     ]
    },
    {
     "name": "stdout",
     "output_type": "stream",
     "text": [
      " - Training Loss        0.1281\n",
      " - Validation Loss      0.5772\n",
      " - Validation Accuracy  0.824\n",
      "\n",
      " - Validation Accuracy (per class)\n",
      "   * Class 0\t 0.8024 [272 out of 339]\n",
      "   * Class 1\t 0.8179 [256 out of 313]\n",
      "   * Class 2\t 0.8539 [263 out of 308]\n",
      "   * Mean        0.8247\n",
      "\n",
      "==================================================================================\n"
     ]
    },
    {
     "name": "stderr",
     "output_type": "stream",
     "text": [
      "> Epoch 14: 100%|██████████| 60/60 [01:42<00:00,  1.71s/it]\n"
     ]
    },
    {
     "name": "stdout",
     "output_type": "stream",
     "text": [
      " - Training Loss        0.1286\n",
      " - Validation Loss      0.5743\n",
      " - Validation Accuracy  0.8219\n",
      "\n",
      " - Validation Accuracy (per class)\n",
      "   * Class 0\t 0.8142 [276 out of 339]\n",
      "   * Class 1\t 0.7732 [242 out of 313]\n",
      "   * Class 2\t 0.8799 [271 out of 308]\n",
      "   * Mean        0.8224\n",
      "\n",
      "==================================================================================\n"
     ]
    },
    {
     "name": "stderr",
     "output_type": "stream",
     "text": [
      "> Epoch 15: 100%|██████████| 60/60 [01:42<00:00,  1.71s/it]\n"
     ]
    },
    {
     "name": "stdout",
     "output_type": "stream",
     "text": [
      " - Training Loss        0.1164\n",
      " - Validation Loss      0.5648\n",
      " - Validation Accuracy  0.8344\n",
      "\n",
      " - Validation Accuracy (per class)\n",
      "   * Class 0\t 0.826 [280 out of 339]\n",
      "   * Class 1\t 0.8498 [266 out of 313]\n",
      "   * Class 2\t 0.8279 [255 out of 308]\n",
      "   * Mean        0.8346\n",
      "\n",
      "> ATTENTION: epoch 15 was the best one so far! The model has been saved :)\n",
      "\n",
      "==================================================================================\n"
     ]
    },
    {
     "name": "stderr",
     "output_type": "stream",
     "text": [
      "> Epoch 16: 100%|██████████| 60/60 [01:42<00:00,  1.71s/it]\n"
     ]
    },
    {
     "name": "stdout",
     "output_type": "stream",
     "text": [
      " - Training Loss        0.1166\n",
      " - Validation Loss      0.5491\n",
      " - Validation Accuracy  0.825\n",
      "\n",
      " - Validation Accuracy (per class)\n",
      "   * Class 0\t 0.8112 [275 out of 339]\n",
      "   * Class 1\t 0.8179 [256 out of 313]\n",
      "   * Class 2\t 0.8474 [261 out of 308]\n",
      "   * Mean        0.8255\n",
      "\n",
      "==================================================================================\n"
     ]
    },
    {
     "name": "stderr",
     "output_type": "stream",
     "text": [
      "> Epoch 17: 100%|██████████| 60/60 [01:42<00:00,  1.71s/it]\n"
     ]
    },
    {
     "name": "stdout",
     "output_type": "stream",
     "text": [
      " - Training Loss        0.1102\n",
      " - Validation Loss      0.5766\n",
      " - Validation Accuracy  0.826\n",
      "\n",
      " - Validation Accuracy (per class)\n",
      "   * Class 0\t 0.8024 [272 out of 339]\n",
      "   * Class 1\t 0.8307 [260 out of 313]\n",
      "   * Class 2\t 0.8474 [261 out of 308]\n",
      "   * Mean        0.8268\n",
      "\n",
      "==================================================================================\n"
     ]
    },
    {
     "name": "stderr",
     "output_type": "stream",
     "text": [
      "> Epoch 18: 100%|██████████| 60/60 [01:42<00:00,  1.71s/it]\n"
     ]
    },
    {
     "name": "stdout",
     "output_type": "stream",
     "text": [
      " - Training Loss        0.0994\n",
      " - Validation Loss      0.5913\n",
      " - Validation Accuracy  0.8208\n",
      "\n",
      " - Validation Accuracy (per class)\n",
      "   * Class 0\t 0.8171 [277 out of 339]\n",
      "   * Class 1\t 0.8019 [251 out of 313]\n",
      "   * Class 2\t 0.8442 [260 out of 308]\n",
      "   * Mean        0.8211\n",
      "\n",
      "==================================================================================\n"
     ]
    },
    {
     "name": "stderr",
     "output_type": "stream",
     "text": [
      "> Epoch 19: 100%|██████████| 60/60 [01:42<00:00,  1.71s/it]\n"
     ]
    },
    {
     "name": "stdout",
     "output_type": "stream",
     "text": [
      " - Training Loss        0.0934\n",
      " - Validation Loss      0.5778\n",
      " - Validation Accuracy  0.8333\n",
      "\n",
      " - Validation Accuracy (per class)\n",
      "   * Class 0\t 0.8171 [277 out of 339]\n",
      "   * Class 1\t 0.8083 [253 out of 313]\n",
      "   * Class 2\t 0.8766 [270 out of 308]\n",
      "   * Mean        0.834\n",
      "\n",
      "==================================================================================\n"
     ]
    },
    {
     "name": "stderr",
     "output_type": "stream",
     "text": [
      "> Epoch 20: 100%|██████████| 60/60 [01:42<00:00,  1.71s/it]\n"
     ]
    },
    {
     "name": "stdout",
     "output_type": "stream",
     "text": [
      " - Training Loss        0.0899\n",
      " - Validation Loss      0.6288\n",
      " - Validation Accuracy  0.8271\n",
      "\n",
      " - Validation Accuracy (per class)\n",
      "   * Class 0\t 0.7847 [266 out of 339]\n",
      "   * Class 1\t 0.8498 [266 out of 313]\n",
      "   * Class 2\t 0.8506 [262 out of 308]\n",
      "   * Mean        0.8284\n",
      "\n",
      "==================================================================================\n"
     ]
    },
    {
     "name": "stderr",
     "output_type": "stream",
     "text": [
      "> Epoch 21: 100%|██████████| 60/60 [01:42<00:00,  1.71s/it]\n"
     ]
    },
    {
     "name": "stdout",
     "output_type": "stream",
     "text": [
      " - Training Loss        0.0874\n",
      " - Validation Loss      0.6091\n",
      " - Validation Accuracy  0.8302\n",
      "\n",
      " - Validation Accuracy (per class)\n",
      "   * Class 0\t 0.8171 [277 out of 339]\n",
      "   * Class 1\t 0.8307 [260 out of 313]\n",
      "   * Class 2\t 0.8442 [260 out of 308]\n",
      "   * Mean        0.8307\n",
      "\n",
      "==================================================================================\n"
     ]
    },
    {
     "name": "stderr",
     "output_type": "stream",
     "text": [
      "> Epoch 22: 100%|██████████| 60/60 [01:42<00:00,  1.71s/it]\n"
     ]
    },
    {
     "name": "stdout",
     "output_type": "stream",
     "text": [
      " - Training Loss        0.081\n",
      " - Validation Loss      0.6364\n",
      " - Validation Accuracy  0.8292\n",
      "\n",
      " - Validation Accuracy (per class)\n",
      "   * Class 0\t 0.8171 [277 out of 339]\n",
      "   * Class 1\t 0.8594 [269 out of 313]\n",
      "   * Class 2\t 0.8117 [250 out of 308]\n",
      "   * Mean        0.8294\n",
      "\n",
      "==================================================================================\n"
     ]
    },
    {
     "name": "stderr",
     "output_type": "stream",
     "text": [
      "> Epoch 23: 100%|██████████| 60/60 [01:42<00:00,  1.71s/it]\n"
     ]
    },
    {
     "name": "stdout",
     "output_type": "stream",
     "text": [
      " - Training Loss        0.083\n",
      " - Validation Loss      0.6637\n",
      " - Validation Accuracy  0.8229\n",
      "\n",
      " - Validation Accuracy (per class)\n",
      "   * Class 0\t 0.7817 [265 out of 339]\n",
      "   * Class 1\t 0.8371 [262 out of 313]\n",
      "   * Class 2\t 0.8539 [263 out of 308]\n",
      "   * Mean        0.8242\n",
      "\n",
      "==================================================================================\n"
     ]
    },
    {
     "name": "stderr",
     "output_type": "stream",
     "text": [
      "> Epoch 24: 100%|██████████| 60/60 [01:42<00:00,  1.71s/it]\n"
     ]
    },
    {
     "name": "stdout",
     "output_type": "stream",
     "text": [
      " - Training Loss        0.0814\n",
      " - Validation Loss      0.6913\n",
      " - Validation Accuracy  0.8313\n",
      "\n",
      " - Validation Accuracy (per class)\n",
      "   * Class 0\t 0.7994 [271 out of 339]\n",
      "   * Class 1\t 0.8435 [264 out of 313]\n",
      "   * Class 2\t 0.8539 [263 out of 308]\n",
      "   * Mean        0.8323\n",
      "\n",
      "==================================================================================\n"
     ]
    },
    {
     "name": "stderr",
     "output_type": "stream",
     "text": [
      "> Epoch 25: 100%|██████████| 60/60 [01:42<00:00,  1.71s/it]\n"
     ]
    },
    {
     "name": "stdout",
     "output_type": "stream",
     "text": [
      " - Training Loss        0.0758\n",
      " - Validation Loss      0.6527\n",
      " - Validation Accuracy  0.824\n",
      "\n",
      " - Validation Accuracy (per class)\n",
      "   * Class 0\t 0.8201 [278 out of 339]\n",
      "   * Class 1\t 0.8435 [264 out of 313]\n",
      "   * Class 2\t 0.8084 [249 out of 308]\n",
      "   * Mean        0.824\n",
      "\n",
      "==================================================================================\n"
     ]
    },
    {
     "name": "stderr",
     "output_type": "stream",
     "text": [
      "> Epoch 26: 100%|██████████| 60/60 [01:42<00:00,  1.71s/it]\n"
     ]
    },
    {
     "name": "stdout",
     "output_type": "stream",
     "text": [
      " - Training Loss        0.0721\n",
      " - Validation Loss      0.6937\n",
      " - Validation Accuracy  0.8156\n",
      "\n",
      " - Validation Accuracy (per class)\n",
      "   * Class 0\t 0.7994 [271 out of 339]\n",
      "   * Class 1\t 0.8498 [266 out of 313]\n",
      "   * Class 2\t 0.7987 [246 out of 308]\n",
      "   * Mean        0.816\n",
      "\n",
      "==================================================================================\n"
     ]
    },
    {
     "name": "stderr",
     "output_type": "stream",
     "text": [
      "> Epoch 27: 100%|██████████| 60/60 [01:42<00:00,  1.71s/it]\n"
     ]
    },
    {
     "name": "stdout",
     "output_type": "stream",
     "text": [
      " - Training Loss        0.0686\n",
      " - Validation Loss      0.6951\n",
      " - Validation Accuracy  0.8167\n",
      "\n",
      " - Validation Accuracy (per class)\n",
      "   * Class 0\t 0.8112 [275 out of 339]\n",
      "   * Class 1\t 0.8275 [259 out of 313]\n",
      "   * Class 2\t 0.8117 [250 out of 308]\n",
      "   * Mean        0.8168\n",
      "\n",
      "==================================================================================\n"
     ]
    },
    {
     "name": "stderr",
     "output_type": "stream",
     "text": [
      "> Epoch 28: 100%|██████████| 60/60 [01:42<00:00,  1.71s/it]\n"
     ]
    },
    {
     "name": "stdout",
     "output_type": "stream",
     "text": [
      " - Training Loss        0.067\n",
      " - Validation Loss      0.7282\n",
      " - Validation Accuracy  0.8219\n",
      "\n",
      " - Validation Accuracy (per class)\n",
      "   * Class 0\t 0.8083 [274 out of 339]\n",
      "   * Class 1\t 0.7987 [250 out of 313]\n",
      "   * Class 2\t 0.8604 [265 out of 308]\n",
      "   * Mean        0.8225\n",
      "\n",
      "==================================================================================\n"
     ]
    },
    {
     "name": "stderr",
     "output_type": "stream",
     "text": [
      "> Epoch 29: 100%|██████████| 60/60 [01:42<00:00,  1.71s/it]\n"
     ]
    },
    {
     "name": "stdout",
     "output_type": "stream",
     "text": [
      " - Training Loss        0.0658\n",
      " - Validation Loss      0.7302\n",
      " - Validation Accuracy  0.8125\n",
      "\n",
      " - Validation Accuracy (per class)\n",
      "   * Class 0\t 0.7994 [271 out of 339]\n",
      "   * Class 1\t 0.8307 [260 out of 313]\n",
      "   * Class 2\t 0.8084 [249 out of 308]\n",
      "   * Mean        0.8128\n",
      "\n",
      "==================================================================================\n"
     ]
    },
    {
     "name": "stderr",
     "output_type": "stream",
     "text": [
      "> Epoch 30: 100%|██████████| 60/60 [01:42<00:00,  1.71s/it]\n"
     ]
    },
    {
     "name": "stdout",
     "output_type": "stream",
     "text": [
      " - Training Loss        0.0689\n",
      " - Validation Loss      0.7545\n",
      " - Validation Accuracy  0.8073\n",
      "\n",
      " - Validation Accuracy (per class)\n",
      "   * Class 0\t 0.823 [279 out of 339]\n",
      "   * Class 1\t 0.8019 [251 out of 313]\n",
      "   * Class 2\t 0.7955 [245 out of 308]\n",
      "   * Mean        0.8068\n",
      "\n",
      "==================================================================================\n"
     ]
    },
    {
     "name": "stderr",
     "output_type": "stream",
     "text": [
      "> Epoch 31: 100%|██████████| 60/60 [01:42<00:00,  1.71s/it]\n"
     ]
    },
    {
     "name": "stdout",
     "output_type": "stream",
     "text": [
      " - Training Loss        0.0691\n",
      " - Validation Loss      0.6779\n",
      " - Validation Accuracy  0.8146\n",
      "\n",
      " - Validation Accuracy (per class)\n",
      "   * Class 0\t 0.8053 [273 out of 339]\n",
      "   * Class 1\t 0.7859 [246 out of 313]\n",
      "   * Class 2\t 0.8539 [263 out of 308]\n",
      "   * Mean        0.815\n",
      "\n",
      "==================================================================================\n"
     ]
    },
    {
     "name": "stderr",
     "output_type": "stream",
     "text": [
      "> Epoch 32: 100%|██████████| 60/60 [01:42<00:00,  1.71s/it]\n"
     ]
    },
    {
     "name": "stdout",
     "output_type": "stream",
     "text": [
      " - Training Loss        0.0676\n",
      " - Validation Loss      0.7196\n",
      " - Validation Accuracy  0.8229\n",
      "\n",
      " - Validation Accuracy (per class)\n",
      "   * Class 0\t 0.8142 [276 out of 339]\n",
      "   * Class 1\t 0.8019 [251 out of 313]\n",
      "   * Class 2\t 0.8539 [263 out of 308]\n",
      "   * Mean        0.8233\n",
      "\n",
      "==================================================================================\n"
     ]
    },
    {
     "name": "stderr",
     "output_type": "stream",
     "text": [
      "> Epoch 33: 100%|██████████| 60/60 [01:42<00:00,  1.71s/it]\n"
     ]
    },
    {
     "name": "stdout",
     "output_type": "stream",
     "text": [
      " - Training Loss        0.0637\n",
      " - Validation Loss      0.6832\n",
      " - Validation Accuracy  0.8229\n",
      "\n",
      " - Validation Accuracy (per class)\n",
      "   * Class 0\t 0.8171 [277 out of 339]\n",
      "   * Class 1\t 0.8051 [252 out of 313]\n",
      "   * Class 2\t 0.8474 [261 out of 308]\n",
      "   * Mean        0.8232\n",
      "\n",
      "==================================================================================\n"
     ]
    },
    {
     "name": "stderr",
     "output_type": "stream",
     "text": [
      "> Epoch 34: 100%|██████████| 60/60 [01:42<00:00,  1.71s/it]\n"
     ]
    },
    {
     "name": "stdout",
     "output_type": "stream",
     "text": [
      " - Training Loss        0.0637\n",
      " - Validation Loss      0.7236\n",
      " - Validation Accuracy  0.8219\n",
      "\n",
      " - Validation Accuracy (per class)\n",
      "   * Class 0\t 0.7581 [257 out of 339]\n",
      "   * Class 1\t 0.8307 [260 out of 313]\n",
      "   * Class 2\t 0.8831 [272 out of 308]\n",
      "   * Mean        0.824\n",
      "\n",
      "==================================================================================\n"
     ]
    },
    {
     "name": "stderr",
     "output_type": "stream",
     "text": [
      "> Epoch 35: 100%|██████████| 60/60 [01:42<00:00,  1.71s/it]\n"
     ]
    },
    {
     "name": "stdout",
     "output_type": "stream",
     "text": [
      " - Training Loss        0.0636\n",
      " - Validation Loss      0.6781\n",
      " - Validation Accuracy  0.8344\n",
      "\n",
      " - Validation Accuracy (per class)\n",
      "   * Class 0\t 0.8555 [290 out of 339]\n",
      "   * Class 1\t 0.8115 [254 out of 313]\n",
      "   * Class 2\t 0.8344 [257 out of 308]\n",
      "   * Mean        0.8338\n",
      "\n",
      "==================================================================================\n"
     ]
    },
    {
     "name": "stderr",
     "output_type": "stream",
     "text": [
      "> Epoch 36: 100%|██████████| 60/60 [01:42<00:00,  1.71s/it]\n"
     ]
    },
    {
     "name": "stdout",
     "output_type": "stream",
     "text": [
      " - Training Loss        0.0652\n",
      " - Validation Loss      0.6955\n",
      " - Validation Accuracy  0.824\n",
      "\n",
      " - Validation Accuracy (per class)\n",
      "   * Class 0\t 0.823 [279 out of 339]\n",
      "   * Class 1\t 0.8051 [252 out of 313]\n",
      "   * Class 2\t 0.8442 [260 out of 308]\n",
      "   * Mean        0.8241\n",
      "\n",
      "==================================================================================\n"
     ]
    },
    {
     "name": "stderr",
     "output_type": "stream",
     "text": [
      "> Epoch 37: 100%|██████████| 60/60 [01:42<00:00,  1.71s/it]\n"
     ]
    },
    {
     "name": "stdout",
     "output_type": "stream",
     "text": [
      " - Training Loss        0.0576\n",
      " - Validation Loss      0.732\n",
      " - Validation Accuracy  0.8208\n",
      "\n",
      " - Validation Accuracy (per class)\n",
      "   * Class 0\t 0.823 [279 out of 339]\n",
      "   * Class 1\t 0.8275 [259 out of 313]\n",
      "   * Class 2\t 0.8117 [250 out of 308]\n",
      "   * Mean        0.8207\n",
      "\n",
      "==================================================================================\n"
     ]
    },
    {
     "name": "stderr",
     "output_type": "stream",
     "text": [
      "> Epoch 38: 100%|██████████| 60/60 [01:42<00:00,  1.71s/it]\n"
     ]
    },
    {
     "name": "stdout",
     "output_type": "stream",
     "text": [
      " - Training Loss        0.0602\n",
      " - Validation Loss      0.763\n",
      " - Validation Accuracy  0.8229\n",
      "\n",
      " - Validation Accuracy (per class)\n",
      "   * Class 0\t 0.8024 [272 out of 339]\n",
      "   * Class 1\t 0.8722 [273 out of 313]\n",
      "   * Class 2\t 0.7955 [245 out of 308]\n",
      "   * Mean        0.8234\n",
      "\n",
      "==================================================================================\n"
     ]
    },
    {
     "name": "stderr",
     "output_type": "stream",
     "text": [
      "> Epoch 39: 100%|██████████| 60/60 [01:42<00:00,  1.71s/it]\n"
     ]
    },
    {
     "name": "stdout",
     "output_type": "stream",
     "text": [
      " - Training Loss        0.0575\n",
      " - Validation Loss      0.7571\n",
      " - Validation Accuracy  0.8292\n",
      "\n",
      " - Validation Accuracy (per class)\n",
      "   * Class 0\t 0.7965 [270 out of 339]\n",
      "   * Class 1\t 0.8594 [269 out of 313]\n",
      "   * Class 2\t 0.8344 [257 out of 308]\n",
      "   * Mean        0.8301\n",
      "\n",
      "==================================================================================\n"
     ]
    },
    {
     "name": "stderr",
     "output_type": "stream",
     "text": [
      "> Epoch 40: 100%|██████████| 60/60 [01:42<00:00,  1.71s/it]\n"
     ]
    },
    {
     "name": "stdout",
     "output_type": "stream",
     "text": [
      " - Training Loss        0.0566\n",
      " - Validation Loss      0.7419\n",
      " - Validation Accuracy  0.8229\n",
      "\n",
      " - Validation Accuracy (per class)\n",
      "   * Class 0\t 0.8289 [281 out of 339]\n",
      "   * Class 1\t 0.8211 [257 out of 313]\n",
      "   * Class 2\t 0.8182 [252 out of 308]\n",
      "   * Mean        0.8227\n",
      "\n",
      "==================================================================================\n"
     ]
    },
    {
     "name": "stderr",
     "output_type": "stream",
     "text": [
      "> Epoch 41: 100%|██████████| 60/60 [01:42<00:00,  1.71s/it]\n"
     ]
    },
    {
     "name": "stdout",
     "output_type": "stream",
     "text": [
      " - Training Loss        0.0582\n",
      " - Validation Loss      0.7722\n",
      " - Validation Accuracy  0.8198\n",
      "\n",
      " - Validation Accuracy (per class)\n",
      "   * Class 0\t 0.7817 [265 out of 339]\n",
      "   * Class 1\t 0.8562 [268 out of 313]\n",
      "   * Class 2\t 0.8247 [254 out of 308]\n",
      "   * Mean        0.8209\n",
      "\n",
      "==================================================================================\n"
     ]
    },
    {
     "name": "stderr",
     "output_type": "stream",
     "text": [
      "> Epoch 42: 100%|██████████| 60/60 [01:42<00:00,  1.71s/it]\n"
     ]
    },
    {
     "name": "stdout",
     "output_type": "stream",
     "text": [
      " - Training Loss        0.0631\n",
      " - Validation Loss      0.7258\n",
      " - Validation Accuracy  0.8281\n",
      "\n",
      " - Validation Accuracy (per class)\n",
      "   * Class 0\t 0.7935 [269 out of 339]\n",
      "   * Class 1\t 0.8658 [271 out of 313]\n",
      "   * Class 2\t 0.8279 [255 out of 308]\n",
      "   * Mean        0.8291\n",
      "\n",
      "==================================================================================\n"
     ]
    },
    {
     "name": "stderr",
     "output_type": "stream",
     "text": [
      "> Epoch 43: 100%|██████████| 60/60 [01:42<00:00,  1.71s/it]\n"
     ]
    },
    {
     "name": "stdout",
     "output_type": "stream",
     "text": [
      " - Training Loss        0.0605\n",
      " - Validation Loss      0.6909\n",
      " - Validation Accuracy  0.824\n",
      "\n",
      " - Validation Accuracy (per class)\n",
      "   * Class 0\t 0.8024 [272 out of 339]\n",
      "   * Class 1\t 0.8466 [265 out of 313]\n",
      "   * Class 2\t 0.8247 [254 out of 308]\n",
      "   * Mean        0.8246\n",
      "\n",
      "==================================================================================\n"
     ]
    },
    {
     "name": "stderr",
     "output_type": "stream",
     "text": [
      "> Epoch 44: 100%|██████████| 60/60 [01:42<00:00,  1.71s/it]\n"
     ]
    },
    {
     "name": "stdout",
     "output_type": "stream",
     "text": [
      " - Training Loss        0.0527\n",
      " - Validation Loss      0.7062\n",
      " - Validation Accuracy  0.825\n",
      "\n",
      " - Validation Accuracy (per class)\n",
      "   * Class 0\t 0.7994 [271 out of 339]\n",
      "   * Class 1\t 0.8466 [265 out of 313]\n",
      "   * Class 2\t 0.8312 [256 out of 308]\n",
      "   * Mean        0.8257\n",
      "\n",
      "==================================================================================\n"
     ]
    },
    {
     "name": "stderr",
     "output_type": "stream",
     "text": [
      "> Epoch 45: 100%|██████████| 60/60 [01:42<00:00,  1.71s/it]\n"
     ]
    },
    {
     "name": "stdout",
     "output_type": "stream",
     "text": [
      " - Training Loss        0.0438\n",
      " - Validation Loss      0.7908\n",
      " - Validation Accuracy  0.8323\n",
      "\n",
      " - Validation Accuracy (per class)\n",
      "   * Class 0\t 0.8083 [274 out of 339]\n",
      "   * Class 1\t 0.853 [267 out of 313]\n",
      "   * Class 2\t 0.8377 [258 out of 308]\n",
      "   * Mean        0.833\n",
      "\n",
      "==================================================================================\n"
     ]
    },
    {
     "name": "stderr",
     "output_type": "stream",
     "text": [
      "> Epoch 46: 100%|██████████| 60/60 [01:42<00:00,  1.71s/it]\n"
     ]
    },
    {
     "name": "stdout",
     "output_type": "stream",
     "text": [
      " - Training Loss        0.0358\n",
      " - Validation Loss      0.7933\n",
      " - Validation Accuracy  0.8302\n",
      "\n",
      " - Validation Accuracy (per class)\n",
      "   * Class 0\t 0.8407 [285 out of 339]\n",
      "   * Class 1\t 0.8307 [260 out of 313]\n",
      "   * Class 2\t 0.8182 [252 out of 308]\n",
      "   * Mean        0.8299\n",
      "\n",
      "==================================================================================\n"
     ]
    },
    {
     "name": "stderr",
     "output_type": "stream",
     "text": [
      "> Epoch 47: 100%|██████████| 60/60 [01:42<00:00,  1.71s/it]\n"
     ]
    },
    {
     "name": "stdout",
     "output_type": "stream",
     "text": [
      " - Training Loss        0.0343\n",
      " - Validation Loss      0.899\n",
      " - Validation Accuracy  0.8177\n",
      "\n",
      " - Validation Accuracy (per class)\n",
      "   * Class 0\t 0.764 [259 out of 339]\n",
      "   * Class 1\t 0.8786 [275 out of 313]\n",
      "   * Class 2\t 0.8149 [251 out of 308]\n",
      "   * Mean        0.8192\n",
      "\n",
      "==================================================================================\n"
     ]
    },
    {
     "name": "stderr",
     "output_type": "stream",
     "text": [
      "> Epoch 48: 100%|██████████| 60/60 [01:42<00:00,  1.71s/it]\n"
     ]
    },
    {
     "name": "stdout",
     "output_type": "stream",
     "text": [
      " - Training Loss        0.039\n",
      " - Validation Loss      0.8543\n",
      " - Validation Accuracy  0.825\n",
      "\n",
      " - Validation Accuracy (per class)\n",
      "   * Class 0\t 0.7758 [263 out of 339]\n",
      "   * Class 1\t 0.885 [277 out of 313]\n",
      "   * Class 2\t 0.8182 [252 out of 308]\n",
      "   * Mean        0.8263\n",
      "\n",
      "==================================================================================\n"
     ]
    },
    {
     "name": "stderr",
     "output_type": "stream",
     "text": [
      "> Epoch 49: 100%|██████████| 60/60 [01:42<00:00,  1.71s/it]\n"
     ]
    },
    {
     "name": "stdout",
     "output_type": "stream",
     "text": [
      " - Training Loss        0.0404\n",
      " - Validation Loss      0.802\n",
      " - Validation Accuracy  0.824\n",
      "\n",
      " - Validation Accuracy (per class)\n",
      "   * Class 0\t 0.8024 [272 out of 339]\n",
      "   * Class 1\t 0.8243 [258 out of 313]\n",
      "   * Class 2\t 0.8474 [261 out of 308]\n",
      "   * Mean        0.8247\n",
      "\n",
      "==================================================================================\n"
     ]
    },
    {
     "name": "stderr",
     "output_type": "stream",
     "text": [
      "> Epoch 50: 100%|██████████| 60/60 [01:42<00:00,  1.71s/it]\n"
     ]
    },
    {
     "name": "stdout",
     "output_type": "stream",
     "text": [
      " - Training Loss        0.0397\n",
      " - Validation Loss      0.8354\n",
      " - Validation Accuracy  0.8188\n",
      "\n",
      " - Validation Accuracy (per class)\n",
      "   * Class 0\t 0.7788 [264 out of 339]\n",
      "   * Class 1\t 0.8466 [265 out of 313]\n",
      "   * Class 2\t 0.8344 [257 out of 308]\n",
      "   * Mean        0.8199\n",
      "\n",
      "==================================================================================\n",
      "> Parameters imported\n",
      "> Dataset correctly divided in training set, validation set and test set\n",
      "> Created Pytorch datasets and dataloaders\n",
      "> Model 'LSTM_fixed' instantiated\n",
      "> Initialization required 0.204 seconds\n",
      "==================================================================================\n",
      "> Training Started\n",
      "  - Total Epochs: 50\n",
      "==================================================================================\n"
     ]
    },
    {
     "name": "stderr",
     "output_type": "stream",
     "text": [
      "> Epoch 1: 100%|██████████| 60/60 [01:39<00:00,  1.66s/it]\n"
     ]
    },
    {
     "name": "stdout",
     "output_type": "stream",
     "text": [
      " - Training Loss        1.1146\n",
      " - Validation Loss      1.1039\n",
      " - Validation Accuracy  0.3323\n",
      "\n",
      " - Validation Accuracy (per class)\n",
      "   * Class 0\t 0.0619 [21 out of 339]\n",
      "   * Class 1\t 0.0192 [6 out of 313]\n",
      "   * Class 2\t 0.9481 [292 out of 308]\n",
      "   * Mean        0.3431\n",
      "\n",
      "> ATTENTION: epoch 1 was the best one so far! The model has been saved :)\n",
      "\n",
      "==================================================================================\n"
     ]
    },
    {
     "name": "stderr",
     "output_type": "stream",
     "text": [
      "> Epoch 2: 100%|██████████| 60/60 [01:41<00:00,  1.69s/it]\n"
     ]
    },
    {
     "name": "stdout",
     "output_type": "stream",
     "text": [
      " - Training Loss        1.0879\n",
      " - Validation Loss      1.1587\n",
      " - Validation Accuracy  0.3063\n",
      "\n",
      " - Validation Accuracy (per class)\n",
      "   * Class 0\t 0.3894 [132 out of 339]\n",
      "   * Class 1\t 0.2812 [88 out of 313]\n",
      "   * Class 2\t 0.2403 [74 out of 308]\n",
      "   * Mean        0.3036\n",
      "\n",
      "==================================================================================\n"
     ]
    },
    {
     "name": "stderr",
     "output_type": "stream",
     "text": [
      "> Epoch 3: 100%|██████████| 60/60 [01:42<00:00,  1.71s/it]\n"
     ]
    },
    {
     "name": "stdout",
     "output_type": "stream",
     "text": [
      " - Training Loss        1.0203\n",
      " - Validation Loss      0.8793\n",
      " - Validation Accuracy  0.5542\n",
      "\n",
      " - Validation Accuracy (per class)\n",
      "   * Class 0\t 0.6018 [204 out of 339]\n",
      "   * Class 1\t 0.1534 [48 out of 313]\n",
      "   * Class 2\t 0.9091 [280 out of 308]\n",
      "   * Mean        0.5548\n",
      "\n",
      "> ATTENTION: epoch 3 was the best one so far! The model has been saved :)\n",
      "\n",
      "==================================================================================\n"
     ]
    },
    {
     "name": "stderr",
     "output_type": "stream",
     "text": [
      "> Epoch 4: 100%|██████████| 60/60 [01:42<00:00,  1.71s/it]\n"
     ]
    },
    {
     "name": "stdout",
     "output_type": "stream",
     "text": [
      " - Training Loss        0.6685\n",
      " - Validation Loss      0.5935\n",
      " - Validation Accuracy  0.7427\n",
      "\n",
      " - Validation Accuracy (per class)\n",
      "   * Class 0\t 0.6165 [209 out of 339]\n",
      "   * Class 1\t 0.754 [236 out of 313]\n",
      "   * Class 2\t 0.8701 [268 out of 308]\n",
      "   * Mean        0.7469\n",
      "\n",
      "> ATTENTION: epoch 4 was the best one so far! The model has been saved :)\n",
      "\n",
      "==================================================================================\n"
     ]
    },
    {
     "name": "stderr",
     "output_type": "stream",
     "text": [
      "> Epoch 5: 100%|██████████| 60/60 [01:42<00:00,  1.71s/it]\n"
     ]
    },
    {
     "name": "stdout",
     "output_type": "stream",
     "text": [
      " - Training Loss        0.4526\n",
      " - Validation Loss      0.5228\n",
      " - Validation Accuracy  0.7906\n",
      "\n",
      " - Validation Accuracy (per class)\n",
      "   * Class 0\t 0.6962 [236 out of 339]\n",
      "   * Class 1\t 0.853 [267 out of 313]\n",
      "   * Class 2\t 0.8312 [256 out of 308]\n",
      "   * Mean        0.7935\n",
      "\n",
      "> ATTENTION: epoch 5 was the best one so far! The model has been saved :)\n",
      "\n",
      "==================================================================================\n"
     ]
    },
    {
     "name": "stderr",
     "output_type": "stream",
     "text": [
      "> Epoch 6: 100%|██████████| 60/60 [01:42<00:00,  1.71s/it]\n"
     ]
    },
    {
     "name": "stdout",
     "output_type": "stream",
     "text": [
      " - Training Loss        0.3352\n",
      " - Validation Loss      0.4771\n",
      " - Validation Accuracy  0.8188\n",
      "\n",
      " - Validation Accuracy (per class)\n",
      "   * Class 0\t 0.7404 [251 out of 339]\n",
      "   * Class 1\t 0.8658 [271 out of 313]\n",
      "   * Class 2\t 0.8571 [264 out of 308]\n",
      "   * Mean        0.8211\n",
      "\n",
      "> ATTENTION: epoch 6 was the best one so far! The model has been saved :)\n",
      "\n",
      "==================================================================================\n"
     ]
    },
    {
     "name": "stderr",
     "output_type": "stream",
     "text": [
      "> Epoch 7: 100%|██████████| 60/60 [01:42<00:00,  1.71s/it]\n"
     ]
    },
    {
     "name": "stdout",
     "output_type": "stream",
     "text": [
      " - Training Loss        0.2529\n",
      " - Validation Loss      0.5028\n",
      " - Validation Accuracy  0.824\n",
      "\n",
      " - Validation Accuracy (per class)\n",
      "   * Class 0\t 0.7257 [246 out of 339]\n",
      "   * Class 1\t 0.8403 [263 out of 313]\n",
      "   * Class 2\t 0.9156 [282 out of 308]\n",
      "   * Mean        0.8272\n",
      "\n",
      "> ATTENTION: epoch 7 was the best one so far! The model has been saved :)\n",
      "\n",
      "==================================================================================\n"
     ]
    },
    {
     "name": "stderr",
     "output_type": "stream",
     "text": [
      "> Epoch 8: 100%|██████████| 60/60 [01:42<00:00,  1.71s/it]\n"
     ]
    },
    {
     "name": "stdout",
     "output_type": "stream",
     "text": [
      " - Training Loss        0.1721\n",
      " - Validation Loss      0.4688\n",
      " - Validation Accuracy  0.8375\n",
      "\n",
      " - Validation Accuracy (per class)\n",
      "   * Class 0\t 0.7817 [265 out of 339]\n",
      "   * Class 1\t 0.8147 [255 out of 313]\n",
      "   * Class 2\t 0.9221 [284 out of 308]\n",
      "   * Mean        0.8395\n",
      "\n",
      "> ATTENTION: epoch 8 was the best one so far! The model has been saved :)\n",
      "\n",
      "==================================================================================\n"
     ]
    },
    {
     "name": "stderr",
     "output_type": "stream",
     "text": [
      "> Epoch 9: 100%|██████████| 60/60 [01:42<00:00,  1.71s/it]\n"
     ]
    },
    {
     "name": "stdout",
     "output_type": "stream",
     "text": [
      " - Training Loss        0.1442\n",
      " - Validation Loss      0.5035\n",
      " - Validation Accuracy  0.8302\n",
      "\n",
      " - Validation Accuracy (per class)\n",
      "   * Class 0\t 0.7906 [268 out of 339]\n",
      "   * Class 1\t 0.9042 [283 out of 313]\n",
      "   * Class 2\t 0.7987 [246 out of 308]\n",
      "   * Mean        0.8312\n",
      "\n",
      "==================================================================================\n"
     ]
    },
    {
     "name": "stderr",
     "output_type": "stream",
     "text": [
      "> Epoch 10: 100%|██████████| 60/60 [01:42<00:00,  1.71s/it]\n"
     ]
    },
    {
     "name": "stdout",
     "output_type": "stream",
     "text": [
      " - Training Loss        0.1234\n",
      " - Validation Loss      0.602\n",
      " - Validation Accuracy  0.8177\n",
      "\n",
      " - Validation Accuracy (per class)\n",
      "   * Class 0\t 0.6726 [228 out of 339]\n",
      "   * Class 1\t 0.8882 [278 out of 313]\n",
      "   * Class 2\t 0.9058 [279 out of 308]\n",
      "   * Mean        0.8222\n",
      "\n",
      "==================================================================================\n"
     ]
    },
    {
     "name": "stderr",
     "output_type": "stream",
     "text": [
      "> Epoch 11: 100%|██████████| 60/60 [01:42<00:00,  1.71s/it]\n"
     ]
    },
    {
     "name": "stdout",
     "output_type": "stream",
     "text": [
      " - Training Loss        0.1061\n",
      " - Validation Loss      0.581\n",
      " - Validation Accuracy  0.8323\n",
      "\n",
      " - Validation Accuracy (per class)\n",
      "   * Class 0\t 0.7729 [262 out of 339]\n",
      "   * Class 1\t 0.7987 [250 out of 313]\n",
      "   * Class 2\t 0.9318 [287 out of 308]\n",
      "   * Mean        0.8345\n",
      "\n",
      "==================================================================================\n"
     ]
    },
    {
     "name": "stderr",
     "output_type": "stream",
     "text": [
      "> Epoch 12: 100%|██████████| 60/60 [01:42<00:00,  1.71s/it]\n"
     ]
    },
    {
     "name": "stdout",
     "output_type": "stream",
     "text": [
      " - Training Loss        0.082\n",
      " - Validation Loss      0.5707\n",
      " - Validation Accuracy  0.8396\n",
      "\n",
      " - Validation Accuracy (per class)\n",
      "   * Class 0\t 0.7906 [268 out of 339]\n",
      "   * Class 1\t 0.8275 [259 out of 313]\n",
      "   * Class 2\t 0.9058 [279 out of 308]\n",
      "   * Mean        0.8413\n",
      "\n",
      "> ATTENTION: epoch 12 was the best one so far! The model has been saved :)\n",
      "\n",
      "==================================================================================\n"
     ]
    },
    {
     "name": "stderr",
     "output_type": "stream",
     "text": [
      "> Epoch 13: 100%|██████████| 60/60 [01:42<00:00,  1.71s/it]\n"
     ]
    },
    {
     "name": "stdout",
     "output_type": "stream",
     "text": [
      " - Training Loss        0.076\n",
      " - Validation Loss      0.6083\n",
      " - Validation Accuracy  0.8365\n",
      "\n",
      " - Validation Accuracy (per class)\n",
      "   * Class 0\t 0.8053 [273 out of 339]\n",
      "   * Class 1\t 0.7923 [248 out of 313]\n",
      "   * Class 2\t 0.9156 [282 out of 308]\n",
      "   * Mean        0.8377\n",
      "\n",
      "==================================================================================\n"
     ]
    },
    {
     "name": "stderr",
     "output_type": "stream",
     "text": [
      "> Epoch 14: 100%|██████████| 60/60 [01:42<00:00,  1.71s/it]\n"
     ]
    },
    {
     "name": "stdout",
     "output_type": "stream",
     "text": [
      " - Training Loss        0.0667\n",
      " - Validation Loss      0.6856\n",
      " - Validation Accuracy  0.8292\n",
      "\n",
      " - Validation Accuracy (per class)\n",
      "   * Class 0\t 0.7257 [246 out of 339]\n",
      "   * Class 1\t 0.8339 [261 out of 313]\n",
      "   * Class 2\t 0.9383 [289 out of 308]\n",
      "   * Mean        0.8326\n",
      "\n",
      "==================================================================================\n"
     ]
    },
    {
     "name": "stderr",
     "output_type": "stream",
     "text": [
      "> Epoch 15: 100%|██████████| 60/60 [01:42<00:00,  1.71s/it]\n"
     ]
    },
    {
     "name": "stdout",
     "output_type": "stream",
     "text": [
      " - Training Loss        0.0559\n",
      " - Validation Loss      0.5833\n",
      " - Validation Accuracy  0.8438\n",
      "\n",
      " - Validation Accuracy (per class)\n",
      "   * Class 0\t 0.764 [259 out of 339]\n",
      "   * Class 1\t 0.853 [267 out of 313]\n",
      "   * Class 2\t 0.9221 [284 out of 308]\n",
      "   * Mean        0.8464\n",
      "\n",
      "> ATTENTION: epoch 15 was the best one so far! The model has been saved :)\n",
      "\n",
      "==================================================================================\n"
     ]
    },
    {
     "name": "stderr",
     "output_type": "stream",
     "text": [
      "> Epoch 16: 100%|██████████| 60/60 [01:42<00:00,  1.71s/it]\n"
     ]
    },
    {
     "name": "stdout",
     "output_type": "stream",
     "text": [
      " - Training Loss        0.0472\n",
      " - Validation Loss      0.6157\n",
      " - Validation Accuracy  0.8385\n",
      "\n",
      " - Validation Accuracy (per class)\n",
      "   * Class 0\t 0.7788 [264 out of 339]\n",
      "   * Class 1\t 0.8435 [264 out of 313]\n",
      "   * Class 2\t 0.8994 [277 out of 308]\n",
      "   * Mean        0.8406\n",
      "\n",
      "==================================================================================\n"
     ]
    },
    {
     "name": "stderr",
     "output_type": "stream",
     "text": [
      "> Epoch 17: 100%|██████████| 60/60 [01:42<00:00,  1.71s/it]\n"
     ]
    },
    {
     "name": "stdout",
     "output_type": "stream",
     "text": [
      " - Training Loss        0.0469\n",
      " - Validation Loss      0.5868\n",
      " - Validation Accuracy  0.8427\n",
      "\n",
      " - Validation Accuracy (per class)\n",
      "   * Class 0\t 0.8112 [275 out of 339]\n",
      "   * Class 1\t 0.8466 [265 out of 313]\n",
      "   * Class 2\t 0.8734 [269 out of 308]\n",
      "   * Mean        0.8437\n",
      "\n",
      "==================================================================================\n"
     ]
    },
    {
     "name": "stderr",
     "output_type": "stream",
     "text": [
      "> Epoch 18: 100%|██████████| 60/60 [01:42<00:00,  1.71s/it]\n"
     ]
    },
    {
     "name": "stdout",
     "output_type": "stream",
     "text": [
      " - Training Loss        0.043\n",
      " - Validation Loss      0.6115\n",
      " - Validation Accuracy  0.8417\n",
      "\n",
      " - Validation Accuracy (per class)\n",
      "   * Class 0\t 0.8142 [276 out of 339]\n",
      "   * Class 1\t 0.8147 [255 out of 313]\n",
      "   * Class 2\t 0.8994 [277 out of 308]\n",
      "   * Mean        0.8428\n",
      "\n",
      "==================================================================================\n"
     ]
    },
    {
     "name": "stderr",
     "output_type": "stream",
     "text": [
      "> Epoch 19: 100%|██████████| 60/60 [01:42<00:00,  1.71s/it]\n"
     ]
    },
    {
     "name": "stdout",
     "output_type": "stream",
     "text": [
      " - Training Loss        0.0346\n",
      " - Validation Loss      0.6752\n",
      " - Validation Accuracy  0.8344\n",
      "\n",
      " - Validation Accuracy (per class)\n",
      "   * Class 0\t 0.7994 [271 out of 339]\n",
      "   * Class 1\t 0.8019 [251 out of 313]\n",
      "   * Class 2\t 0.9058 [279 out of 308]\n",
      "   * Mean        0.8357\n",
      "\n",
      "==================================================================================\n"
     ]
    },
    {
     "name": "stderr",
     "output_type": "stream",
     "text": [
      "> Epoch 20: 100%|██████████| 60/60 [01:42<00:00,  1.71s/it]\n"
     ]
    },
    {
     "name": "stdout",
     "output_type": "stream",
     "text": [
      " - Training Loss        0.0379\n",
      " - Validation Loss      0.6905\n",
      " - Validation Accuracy  0.8406\n",
      "\n",
      " - Validation Accuracy (per class)\n",
      "   * Class 0\t 0.7788 [264 out of 339]\n",
      "   * Class 1\t 0.8626 [270 out of 313]\n",
      "   * Class 2\t 0.8864 [273 out of 308]\n",
      "   * Mean        0.8426\n",
      "\n",
      "==================================================================================\n"
     ]
    },
    {
     "name": "stderr",
     "output_type": "stream",
     "text": [
      "> Epoch 21: 100%|██████████| 60/60 [01:42<00:00,  1.71s/it]\n"
     ]
    },
    {
     "name": "stdout",
     "output_type": "stream",
     "text": [
      " - Training Loss        0.0347\n",
      " - Validation Loss      0.6582\n",
      " - Validation Accuracy  0.8292\n",
      "\n",
      " - Validation Accuracy (per class)\n",
      "   * Class 0\t 0.7994 [271 out of 339]\n",
      "   * Class 1\t 0.7987 [250 out of 313]\n",
      "   * Class 2\t 0.8929 [275 out of 308]\n",
      "   * Mean        0.8303\n",
      "\n",
      "==================================================================================\n"
     ]
    },
    {
     "name": "stderr",
     "output_type": "stream",
     "text": [
      "> Epoch 22: 100%|██████████| 60/60 [01:42<00:00,  1.71s/it]\n"
     ]
    },
    {
     "name": "stdout",
     "output_type": "stream",
     "text": [
      " - Training Loss        0.0395\n",
      " - Validation Loss      0.7628\n",
      " - Validation Accuracy  0.8385\n",
      "\n",
      " - Validation Accuracy (per class)\n",
      "   * Class 0\t 0.764 [259 out of 339]\n",
      "   * Class 1\t 0.8307 [260 out of 313]\n",
      "   * Class 2\t 0.9286 [286 out of 308]\n",
      "   * Mean        0.8411\n",
      "\n",
      "==================================================================================\n"
     ]
    },
    {
     "name": "stderr",
     "output_type": "stream",
     "text": [
      "> Epoch 23: 100%|██████████| 60/60 [01:42<00:00,  1.71s/it]\n"
     ]
    },
    {
     "name": "stdout",
     "output_type": "stream",
     "text": [
      " - Training Loss        0.0356\n",
      " - Validation Loss      0.8806\n",
      " - Validation Accuracy  0.8344\n",
      "\n",
      " - Validation Accuracy (per class)\n",
      "   * Class 0\t 0.7316 [248 out of 339]\n",
      "   * Class 1\t 0.8435 [264 out of 313]\n",
      "   * Class 2\t 0.9383 [289 out of 308]\n",
      "   * Mean        0.8378\n",
      "\n",
      "==================================================================================\n"
     ]
    },
    {
     "name": "stderr",
     "output_type": "stream",
     "text": [
      "> Epoch 24: 100%|██████████| 60/60 [01:42<00:00,  1.71s/it]\n"
     ]
    },
    {
     "name": "stdout",
     "output_type": "stream",
     "text": [
      " - Training Loss        0.0423\n",
      " - Validation Loss      0.7474\n",
      " - Validation Accuracy  0.8354\n",
      "\n",
      " - Validation Accuracy (per class)\n",
      "   * Class 0\t 0.7906 [268 out of 339]\n",
      "   * Class 1\t 0.7987 [250 out of 313]\n",
      "   * Class 2\t 0.9221 [284 out of 308]\n",
      "   * Mean        0.8371\n",
      "\n",
      "==================================================================================\n"
     ]
    },
    {
     "name": "stderr",
     "output_type": "stream",
     "text": [
      "> Epoch 25: 100%|██████████| 60/60 [01:42<00:00,  1.71s/it]\n"
     ]
    },
    {
     "name": "stdout",
     "output_type": "stream",
     "text": [
      " - Training Loss        0.033\n",
      " - Validation Loss      0.7168\n",
      " - Validation Accuracy  0.8354\n",
      "\n",
      " - Validation Accuracy (per class)\n",
      "   * Class 0\t 0.7994 [271 out of 339]\n",
      "   * Class 1\t 0.8307 [260 out of 313]\n",
      "   * Class 2\t 0.8799 [271 out of 308]\n",
      "   * Mean        0.8367\n",
      "\n",
      "==================================================================================\n"
     ]
    },
    {
     "name": "stderr",
     "output_type": "stream",
     "text": [
      "> Epoch 26: 100%|██████████| 60/60 [01:42<00:00,  1.71s/it]\n"
     ]
    },
    {
     "name": "stdout",
     "output_type": "stream",
     "text": [
      " - Training Loss        0.0356\n",
      " - Validation Loss      0.74\n",
      " - Validation Accuracy  0.8292\n",
      "\n",
      " - Validation Accuracy (per class)\n",
      "   * Class 0\t 0.8289 [281 out of 339]\n",
      "   * Class 1\t 0.7572 [237 out of 313]\n",
      "   * Class 2\t 0.9026 [278 out of 308]\n",
      "   * Mean        0.8296\n",
      "\n",
      "==================================================================================\n"
     ]
    },
    {
     "name": "stderr",
     "output_type": "stream",
     "text": [
      "> Epoch 27: 100%|██████████| 60/60 [01:42<00:00,  1.71s/it]\n"
     ]
    },
    {
     "name": "stdout",
     "output_type": "stream",
     "text": [
      " - Training Loss        0.0352\n",
      " - Validation Loss      0.8753\n",
      " - Validation Accuracy  0.8271\n",
      "\n",
      " - Validation Accuracy (per class)\n",
      "   * Class 0\t 0.764 [259 out of 339]\n",
      "   * Class 1\t 0.7764 [243 out of 313]\n",
      "   * Class 2\t 0.9481 [292 out of 308]\n",
      "   * Mean        0.8295\n",
      "\n",
      "==================================================================================\n"
     ]
    },
    {
     "name": "stderr",
     "output_type": "stream",
     "text": [
      "> Epoch 28: 100%|██████████| 60/60 [01:42<00:00,  1.71s/it]\n"
     ]
    },
    {
     "name": "stdout",
     "output_type": "stream",
     "text": [
      " - Training Loss        0.0337\n",
      " - Validation Loss      0.8875\n",
      " - Validation Accuracy  0.8188\n",
      "\n",
      " - Validation Accuracy (per class)\n",
      "   * Class 0\t 0.8112 [275 out of 339]\n",
      "   * Class 1\t 0.7444 [233 out of 313]\n",
      "   * Class 2\t 0.9026 [278 out of 308]\n",
      "   * Mean        0.8194\n",
      "\n",
      "==================================================================================\n"
     ]
    },
    {
     "name": "stderr",
     "output_type": "stream",
     "text": [
      "> Epoch 29: 100%|██████████| 60/60 [01:42<00:00,  1.71s/it]\n"
     ]
    },
    {
     "name": "stdout",
     "output_type": "stream",
     "text": [
      " - Training Loss        0.0533\n",
      " - Validation Loss      0.7247\n",
      " - Validation Accuracy  0.824\n",
      "\n",
      " - Validation Accuracy (per class)\n",
      "   * Class 0\t 0.8112 [275 out of 339]\n",
      "   * Class 1\t 0.9105 [285 out of 313]\n",
      "   * Class 2\t 0.75 [231 out of 308]\n",
      "   * Mean        0.8239\n",
      "\n",
      "==================================================================================\n"
     ]
    },
    {
     "name": "stderr",
     "output_type": "stream",
     "text": [
      "> Epoch 30: 100%|██████████| 60/60 [01:42<00:00,  1.71s/it]\n"
     ]
    },
    {
     "name": "stdout",
     "output_type": "stream",
     "text": [
      " - Training Loss        0.0681\n",
      " - Validation Loss      0.6375\n",
      " - Validation Accuracy  0.8292\n",
      "\n",
      " - Validation Accuracy (per class)\n",
      "   * Class 0\t 0.7729 [262 out of 339]\n",
      "   * Class 1\t 0.8371 [262 out of 313]\n",
      "   * Class 2\t 0.8831 [272 out of 308]\n",
      "   * Mean        0.831\n",
      "\n",
      "==================================================================================\n"
     ]
    },
    {
     "name": "stderr",
     "output_type": "stream",
     "text": [
      "> Epoch 31: 100%|██████████| 60/60 [01:42<00:00,  1.71s/it]\n"
     ]
    },
    {
     "name": "stdout",
     "output_type": "stream",
     "text": [
      " - Training Loss        0.0543\n",
      " - Validation Loss      0.6124\n",
      " - Validation Accuracy  0.8385\n",
      "\n",
      " - Validation Accuracy (per class)\n",
      "   * Class 0\t 0.7994 [271 out of 339]\n",
      "   * Class 1\t 0.8658 [271 out of 313]\n",
      "   * Class 2\t 0.8539 [263 out of 308]\n",
      "   * Mean        0.8397\n",
      "\n",
      "==================================================================================\n"
     ]
    },
    {
     "name": "stderr",
     "output_type": "stream",
     "text": [
      "> Epoch 32: 100%|██████████| 60/60 [01:42<00:00,  1.71s/it]\n"
     ]
    },
    {
     "name": "stdout",
     "output_type": "stream",
     "text": [
      " - Training Loss        0.0433\n",
      " - Validation Loss      0.647\n",
      " - Validation Accuracy  0.8229\n",
      "\n",
      " - Validation Accuracy (per class)\n",
      "   * Class 0\t 0.8053 [273 out of 339]\n",
      "   * Class 1\t 0.8243 [258 out of 313]\n",
      "   * Class 2\t 0.8409 [259 out of 308]\n",
      "   * Mean        0.8235\n",
      "\n",
      "==================================================================================\n"
     ]
    },
    {
     "name": "stderr",
     "output_type": "stream",
     "text": [
      "> Epoch 33: 100%|██████████| 60/60 [01:42<00:00,  1.71s/it]\n"
     ]
    },
    {
     "name": "stdout",
     "output_type": "stream",
     "text": [
      " - Training Loss        0.0386\n",
      " - Validation Loss      0.6453\n",
      " - Validation Accuracy  0.8281\n",
      "\n",
      " - Validation Accuracy (per class)\n",
      "   * Class 0\t 0.8319 [282 out of 339]\n",
      "   * Class 1\t 0.8435 [264 out of 313]\n",
      "   * Class 2\t 0.8084 [249 out of 308]\n",
      "   * Mean        0.8279\n",
      "\n",
      "==================================================================================\n"
     ]
    },
    {
     "name": "stderr",
     "output_type": "stream",
     "text": [
      "> Epoch 34: 100%|██████████| 60/60 [01:42<00:00,  1.71s/it]\n"
     ]
    },
    {
     "name": "stdout",
     "output_type": "stream",
     "text": [
      " - Training Loss        0.0403\n",
      " - Validation Loss      0.6789\n",
      " - Validation Accuracy  0.8344\n",
      "\n",
      " - Validation Accuracy (per class)\n",
      "   * Class 0\t 0.7906 [268 out of 339]\n",
      "   * Class 1\t 0.8339 [261 out of 313]\n",
      "   * Class 2\t 0.8831 [272 out of 308]\n",
      "   * Mean        0.8359\n",
      "\n",
      "==================================================================================\n"
     ]
    },
    {
     "name": "stderr",
     "output_type": "stream",
     "text": [
      "> Epoch 35: 100%|██████████| 60/60 [01:42<00:00,  1.71s/it]\n"
     ]
    },
    {
     "name": "stdout",
     "output_type": "stream",
     "text": [
      " - Training Loss        0.0301\n",
      " - Validation Loss      0.7216\n",
      " - Validation Accuracy  0.8458\n",
      "\n",
      " - Validation Accuracy (per class)\n",
      "   * Class 0\t 0.7699 [261 out of 339]\n",
      "   * Class 1\t 0.8946 [280 out of 313]\n",
      "   * Class 2\t 0.8799 [271 out of 308]\n",
      "   * Mean        0.8481\n",
      "\n",
      "> ATTENTION: epoch 35 was the best one so far! The model has been saved :)\n",
      "\n",
      "==================================================================================\n"
     ]
    },
    {
     "name": "stderr",
     "output_type": "stream",
     "text": [
      "> Epoch 36: 100%|██████████| 60/60 [01:42<00:00,  1.71s/it]\n"
     ]
    },
    {
     "name": "stdout",
     "output_type": "stream",
     "text": [
      " - Training Loss        0.0301\n",
      " - Validation Loss      0.7202\n",
      " - Validation Accuracy  0.8396\n",
      "\n",
      " - Validation Accuracy (per class)\n",
      "   * Class 0\t 0.8112 [275 out of 339]\n",
      "   * Class 1\t 0.8083 [253 out of 313]\n",
      "   * Class 2\t 0.9026 [278 out of 308]\n",
      "   * Mean        0.8407\n",
      "\n",
      "==================================================================================\n"
     ]
    },
    {
     "name": "stderr",
     "output_type": "stream",
     "text": [
      "> Epoch 37: 100%|██████████| 60/60 [01:42<00:00,  1.71s/it]\n"
     ]
    },
    {
     "name": "stdout",
     "output_type": "stream",
     "text": [
      " - Training Loss        0.0302\n",
      " - Validation Loss      0.7522\n",
      " - Validation Accuracy  0.8333\n",
      "\n",
      " - Validation Accuracy (per class)\n",
      "   * Class 0\t 0.7758 [263 out of 339]\n",
      "   * Class 1\t 0.8307 [260 out of 313]\n",
      "   * Class 2\t 0.8994 [277 out of 308]\n",
      "   * Mean        0.8353\n",
      "\n",
      "==================================================================================\n"
     ]
    },
    {
     "name": "stderr",
     "output_type": "stream",
     "text": [
      "> Epoch 38: 100%|██████████| 60/60 [01:42<00:00,  1.71s/it]\n"
     ]
    },
    {
     "name": "stdout",
     "output_type": "stream",
     "text": [
      " - Training Loss        0.0296\n",
      " - Validation Loss      0.7186\n",
      " - Validation Accuracy  0.8323\n",
      "\n",
      " - Validation Accuracy (per class)\n",
      "   * Class 0\t 0.8142 [276 out of 339]\n",
      "   * Class 1\t 0.8339 [261 out of 313]\n",
      "   * Class 2\t 0.8506 [262 out of 308]\n",
      "   * Mean        0.8329\n",
      "\n",
      "==================================================================================\n"
     ]
    },
    {
     "name": "stderr",
     "output_type": "stream",
     "text": [
      "> Epoch 39: 100%|██████████| 60/60 [01:42<00:00,  1.71s/it]\n"
     ]
    },
    {
     "name": "stdout",
     "output_type": "stream",
     "text": [
      " - Training Loss        0.0292\n",
      " - Validation Loss      0.7311\n",
      " - Validation Accuracy  0.8333\n",
      "\n",
      " - Validation Accuracy (per class)\n",
      "   * Class 0\t 0.7788 [264 out of 339]\n",
      "   * Class 1\t 0.8179 [256 out of 313]\n",
      "   * Class 2\t 0.9091 [280 out of 308]\n",
      "   * Mean        0.8353\n",
      "\n",
      "==================================================================================\n"
     ]
    },
    {
     "name": "stderr",
     "output_type": "stream",
     "text": [
      "> Epoch 40: 100%|██████████| 60/60 [01:42<00:00,  1.71s/it]\n"
     ]
    },
    {
     "name": "stdout",
     "output_type": "stream",
     "text": [
      " - Training Loss        0.0278\n",
      " - Validation Loss      0.7128\n",
      " - Validation Accuracy  0.8198\n",
      "\n",
      " - Validation Accuracy (per class)\n",
      "   * Class 0\t 0.8053 [273 out of 339]\n",
      "   * Class 1\t 0.7923 [248 out of 313]\n",
      "   * Class 2\t 0.8636 [266 out of 308]\n",
      "   * Mean        0.8204\n",
      "\n",
      "==================================================================================\n"
     ]
    },
    {
     "name": "stderr",
     "output_type": "stream",
     "text": [
      "> Epoch 41: 100%|██████████| 60/60 [01:42<00:00,  1.71s/it]\n"
     ]
    },
    {
     "name": "stdout",
     "output_type": "stream",
     "text": [
      " - Training Loss        0.0265\n",
      " - Validation Loss      0.797\n",
      " - Validation Accuracy  0.8406\n",
      "\n",
      " - Validation Accuracy (per class)\n",
      "   * Class 0\t 0.7994 [271 out of 339]\n",
      "   * Class 1\t 0.869 [272 out of 313]\n",
      "   * Class 2\t 0.8571 [264 out of 308]\n",
      "   * Mean        0.8418\n",
      "\n",
      "==================================================================================\n"
     ]
    },
    {
     "name": "stderr",
     "output_type": "stream",
     "text": [
      "> Epoch 42: 100%|██████████| 60/60 [01:42<00:00,  1.71s/it]\n"
     ]
    },
    {
     "name": "stdout",
     "output_type": "stream",
     "text": [
      " - Training Loss        0.0334\n",
      " - Validation Loss      0.7144\n",
      " - Validation Accuracy  0.8313\n",
      "\n",
      " - Validation Accuracy (per class)\n",
      "   * Class 0\t 0.8112 [275 out of 339]\n",
      "   * Class 1\t 0.8307 [260 out of 313]\n",
      "   * Class 2\t 0.8539 [263 out of 308]\n",
      "   * Mean        0.8319\n",
      "\n",
      "==================================================================================\n"
     ]
    },
    {
     "name": "stderr",
     "output_type": "stream",
     "text": [
      "> Epoch 43: 100%|██████████| 60/60 [01:42<00:00,  1.71s/it]\n"
     ]
    },
    {
     "name": "stdout",
     "output_type": "stream",
     "text": [
      " - Training Loss        0.04\n",
      " - Validation Loss      0.7532\n",
      " - Validation Accuracy  0.8156\n",
      "\n",
      " - Validation Accuracy (per class)\n",
      "   * Class 0\t 0.8171 [277 out of 339]\n",
      "   * Class 1\t 0.7508 [235 out of 313]\n",
      "   * Class 2\t 0.8799 [271 out of 308]\n",
      "   * Mean        0.8159\n",
      "\n",
      "==================================================================================\n"
     ]
    },
    {
     "name": "stderr",
     "output_type": "stream",
     "text": [
      "> Epoch 44: 100%|██████████| 60/60 [01:42<00:00,  1.71s/it]\n"
     ]
    },
    {
     "name": "stdout",
     "output_type": "stream",
     "text": [
      " - Training Loss        0.0409\n",
      " - Validation Loss      0.7045\n",
      " - Validation Accuracy  0.8323\n",
      "\n",
      " - Validation Accuracy (per class)\n",
      "   * Class 0\t 0.8319 [282 out of 339]\n",
      "   * Class 1\t 0.8307 [260 out of 313]\n",
      "   * Class 2\t 0.8344 [257 out of 308]\n",
      "   * Mean        0.8323\n",
      "\n",
      "==================================================================================\n"
     ]
    },
    {
     "name": "stderr",
     "output_type": "stream",
     "text": [
      "> Epoch 45: 100%|██████████| 60/60 [01:42<00:00,  1.71s/it]\n"
     ]
    },
    {
     "name": "stdout",
     "output_type": "stream",
     "text": [
      " - Training Loss        0.0366\n",
      " - Validation Loss      0.7395\n",
      " - Validation Accuracy  0.8271\n",
      "\n",
      " - Validation Accuracy (per class)\n",
      "   * Class 0\t 0.823 [279 out of 339]\n",
      "   * Class 1\t 0.7859 [246 out of 313]\n",
      "   * Class 2\t 0.8734 [269 out of 308]\n",
      "   * Mean        0.8274\n",
      "\n",
      "==================================================================================\n"
     ]
    },
    {
     "name": "stderr",
     "output_type": "stream",
     "text": [
      "> Epoch 46: 100%|██████████| 60/60 [01:42<00:00,  1.71s/it]\n"
     ]
    },
    {
     "name": "stdout",
     "output_type": "stream",
     "text": [
      " - Training Loss        0.0371\n",
      " - Validation Loss      0.7166\n",
      " - Validation Accuracy  0.8323\n",
      "\n",
      " - Validation Accuracy (per class)\n",
      "   * Class 0\t 0.826 [280 out of 339]\n",
      "   * Class 1\t 0.7987 [250 out of 313]\n",
      "   * Class 2\t 0.8734 [269 out of 308]\n",
      "   * Mean        0.8327\n",
      "\n",
      "==================================================================================\n"
     ]
    },
    {
     "name": "stderr",
     "output_type": "stream",
     "text": [
      "> Epoch 47: 100%|██████████| 60/60 [01:42<00:00,  1.71s/it]\n"
     ]
    },
    {
     "name": "stdout",
     "output_type": "stream",
     "text": [
      " - Training Loss        0.0342\n",
      " - Validation Loss      0.7557\n",
      " - Validation Accuracy  0.8292\n",
      "\n",
      " - Validation Accuracy (per class)\n",
      "   * Class 0\t 0.8112 [275 out of 339]\n",
      "   * Class 1\t 0.7859 [246 out of 313]\n",
      "   * Class 2\t 0.8929 [275 out of 308]\n",
      "   * Mean        0.83\n",
      "\n",
      "==================================================================================\n"
     ]
    },
    {
     "name": "stderr",
     "output_type": "stream",
     "text": [
      "> Epoch 48: 100%|██████████| 60/60 [01:42<00:00,  1.71s/it]\n"
     ]
    },
    {
     "name": "stdout",
     "output_type": "stream",
     "text": [
      " - Training Loss        0.0243\n",
      " - Validation Loss      0.7665\n",
      " - Validation Accuracy  0.8292\n",
      "\n",
      " - Validation Accuracy (per class)\n",
      "   * Class 0\t 0.7935 [269 out of 339]\n",
      "   * Class 1\t 0.8147 [255 out of 313]\n",
      "   * Class 2\t 0.8831 [272 out of 308]\n",
      "   * Mean        0.8304\n",
      "\n",
      "==================================================================================\n"
     ]
    },
    {
     "name": "stderr",
     "output_type": "stream",
     "text": [
      "> Epoch 49: 100%|██████████| 60/60 [01:42<00:00,  1.71s/it]\n"
     ]
    },
    {
     "name": "stdout",
     "output_type": "stream",
     "text": [
      " - Training Loss        0.022\n",
      " - Validation Loss      0.8329\n",
      " - Validation Accuracy  0.8333\n",
      "\n",
      " - Validation Accuracy (per class)\n",
      "   * Class 0\t 0.7817 [265 out of 339]\n",
      "   * Class 1\t 0.8339 [261 out of 313]\n",
      "   * Class 2\t 0.8896 [274 out of 308]\n",
      "   * Mean        0.8351\n",
      "\n",
      "==================================================================================\n"
     ]
    },
    {
     "name": "stderr",
     "output_type": "stream",
     "text": [
      "> Epoch 50: 100%|██████████| 60/60 [01:42<00:00,  1.71s/it]\n"
     ]
    },
    {
     "name": "stdout",
     "output_type": "stream",
     "text": [
      " - Training Loss        0.0213\n",
      " - Validation Loss      0.8188\n",
      " - Validation Accuracy  0.8313\n",
      "\n",
      " - Validation Accuracy (per class)\n",
      "   * Class 0\t 0.7817 [265 out of 339]\n",
      "   * Class 1\t 0.8371 [262 out of 313]\n",
      "   * Class 2\t 0.8799 [271 out of 308]\n",
      "   * Mean        0.8329\n",
      "\n",
      "==================================================================================\n"
     ]
    }
   ],
   "source": [
    "for EMBEDDING_DIM in EMBEDDING_DIM_LIST:\n",
    "    for HIDDEN_DIM in HIDDEN_DIM_LIST:\n",
    "        for LEARNING_RATE in LEARNING_RATE_LIST:\n",
    "            for DROPOUT_P in DROPOUT_P_LIST:\n",
    "\n",
    "                # re-import the class PytorchModel\n",
    "                # --> this is to be sure that each model is new, and not trained from the epoch of the previous one\n",
    "\n",
    "                importlib.reload(CustomPytorchModule)\n",
    "                PYTORCH_MODEL = CustomPytorchModule.PytorchModel\n",
    "\n",
    "                # instantiate the model with the current parameters\n",
    "                LSTM_MODEL = PYTORCH_MODEL(\n",
    "\n",
    "                    # set model and text language\n",
    "                    model_type      = \"LSTM_fixed\",\n",
    "                    dataset         = dataframe,\n",
    "                    language        = \"en\",\n",
    "\n",
    "                    # set device, bacth size and epochs\n",
    "                    device          = device,\n",
    "                    batch_size      = 64,\n",
    "                    epochs          = 50,\n",
    "\n",
    "                    # set hyperparameters\n",
    "                    vocab_size      = COUNTS_EN,\n",
    "                    embedding_dim   = EMBEDDING_DIM,\n",
    "                    hidden_dim      = HIDDEN_DIM,\n",
    "                    learning_rate   = LEARNING_RATE,\n",
    "                    dropout_p       = DROPOUT_P\n",
    "                )\n",
    "\n",
    "                # train the model\n",
    "                LSTM_MODEL.train_model()"
   ]
  }
 ],
 "metadata": {
  "interpreter": {
   "hash": "455534d435f7de67bc0026f9ceba702b21954bd7ad83505586b95ef58f556ae5"
  },
  "kernelspec": {
   "display_name": "Python 3.9.12 ('NLP_2022')",
   "language": "python",
   "name": "python3"
  },
  "language_info": {
   "codemirror_mode": {
    "name": "ipython",
    "version": 3
   },
   "file_extension": ".py",
   "mimetype": "text/x-python",
   "name": "python",
   "nbconvert_exporter": "python",
   "pygments_lexer": "ipython3",
   "version": "3.9.12"
  },
  "orig_nbformat": 4
 },
 "nbformat": 4,
 "nbformat_minor": 2
}
