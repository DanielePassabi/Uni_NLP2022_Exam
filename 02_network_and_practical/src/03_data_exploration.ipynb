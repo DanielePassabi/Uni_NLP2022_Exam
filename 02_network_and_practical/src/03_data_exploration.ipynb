{
 "cells": [
  {
   "cell_type": "markdown",
   "metadata": {},
   "source": [
    "## **NLP Practical**\n",
    "\n",
    "### **Exploring the Dataset**\n",
    "\n",
    "After cleaning the dataset, we explore it in order to understand what data we are dealing with."
   ]
  },
  {
   "cell_type": "markdown",
   "metadata": {},
   "source": [
    "#### **Libraries**\n",
    "\n",
    "We import the necessary libraries for the notebook."
   ]
  },
  {
   "cell_type": "code",
   "execution_count": 1,
   "metadata": {},
   "outputs": [
    {
     "name": "stdout",
     "output_type": "stream",
     "text": [
      "> Libraries Imported\n"
     ]
    }
   ],
   "source": [
    "# general\n",
    "import pandas as pd\n",
    "import numpy as np\n",
    "from tqdm import tqdm\n",
    "tqdm.pandas()\n",
    "\n",
    "# dataviz\n",
    "import plotly.express as px\n",
    "\n",
    "print(\"> Libraries Imported\")"
   ]
  },
  {
   "cell_type": "markdown",
   "metadata": {},
   "source": [
    "#### **Import the dataset**\n",
    "\n",
    "We can simply read our custom (and cleaned) csv. "
   ]
  },
  {
   "cell_type": "code",
   "execution_count": 2,
   "metadata": {},
   "outputs": [
    {
     "data": {
      "text/html": [
       "<div>\n",
       "<style scoped>\n",
       "    .dataframe tbody tr th:only-of-type {\n",
       "        vertical-align: middle;\n",
       "    }\n",
       "\n",
       "    .dataframe tbody tr th {\n",
       "        vertical-align: top;\n",
       "    }\n",
       "\n",
       "    .dataframe thead th {\n",
       "        text-align: right;\n",
       "    }\n",
       "</style>\n",
       "<table border=\"1\" class=\"dataframe\">\n",
       "  <thead>\n",
       "    <tr style=\"text-align: right;\">\n",
       "      <th></th>\n",
       "      <th>celex_id</th>\n",
       "      <th>labels</th>\n",
       "      <th>text_en</th>\n",
       "      <th>text_de</th>\n",
       "      <th>text_it</th>\n",
       "      <th>text_pl</th>\n",
       "      <th>text_sv</th>\n",
       "    </tr>\n",
       "  </thead>\n",
       "  <tbody>\n",
       "    <tr>\n",
       "      <th>0</th>\n",
       "      <td>32006D0213</td>\n",
       "      <td>1</td>\n",
       "      <td>commission decision of march establishing the ...</td>\n",
       "      <td>entscheidung der kommission vom marz zur festl...</td>\n",
       "      <td>decisione della commissione del marzo che dete...</td>\n",
       "      <td>decyzja komisji z dnia marca r ustanawiajaca k...</td>\n",
       "      <td>kommissionens beslut av den mars om indelning ...</td>\n",
       "    </tr>\n",
       "    <tr>\n",
       "      <th>1</th>\n",
       "      <td>32003R1786</td>\n",
       "      <td>3</td>\n",
       "      <td>council regulation ec no of september on the c...</td>\n",
       "      <td>verordnung eg nr des rates vom september uber ...</td>\n",
       "      <td>regolamento ce n del consiglio del settembre r...</td>\n",
       "      <td>rozporzadzenie rady we nr z dnia wrzesnia r w ...</td>\n",
       "      <td>radets forordning eg nr av den september om de...</td>\n",
       "    </tr>\n",
       "    <tr>\n",
       "      <th>2</th>\n",
       "      <td>32004R1038</td>\n",
       "      <td>3</td>\n",
       "      <td>commission regulation ec no of may fixing the ...</td>\n",
       "      <td>verordnung eg nr der kommission vom mai zur fe...</td>\n",
       "      <td>regolamento ce n della commissione del maggio ...</td>\n",
       "      <td>rozporzadzenie komisji we nr z dnia maja r ust...</td>\n",
       "      <td>kommissionens forordning eg nr av den maj om f...</td>\n",
       "    </tr>\n",
       "    <tr>\n",
       "      <th>3</th>\n",
       "      <td>32003R1012</td>\n",
       "      <td>2</td>\n",
       "      <td>commission regulation ec no of june amending f...</td>\n",
       "      <td>verordnung eg nr der kommission vom juni zur n...</td>\n",
       "      <td>regolamento ce n della commissione del giugno ...</td>\n",
       "      <td>rozporzadzenie komisji we nr z dnia czerwca r ...</td>\n",
       "      <td>kommissionens forordning eg nr av den juni om ...</td>\n",
       "    </tr>\n",
       "    <tr>\n",
       "      <th>4</th>\n",
       "      <td>32003R2229</td>\n",
       "      <td>18</td>\n",
       "      <td>council regulation ec no of december imposing ...</td>\n",
       "      <td>verordnung eg nr des rates vom dezember zur ei...</td>\n",
       "      <td>regolamento ce n del consiglio del dicembre ch...</td>\n",
       "      <td>rozporzadzenie rady we nr z dnia grudnia r nak...</td>\n",
       "      <td>radets forordning eg nr av den december om inf...</td>\n",
       "    </tr>\n",
       "  </tbody>\n",
       "</table>\n",
       "</div>"
      ],
      "text/plain": [
       "     celex_id  labels                                            text_en  \\\n",
       "0  32006D0213       1  commission decision of march establishing the ...   \n",
       "1  32003R1786       3  council regulation ec no of september on the c...   \n",
       "2  32004R1038       3  commission regulation ec no of may fixing the ...   \n",
       "3  32003R1012       2  commission regulation ec no of june amending f...   \n",
       "4  32003R2229      18  council regulation ec no of december imposing ...   \n",
       "\n",
       "                                             text_de  \\\n",
       "0  entscheidung der kommission vom marz zur festl...   \n",
       "1  verordnung eg nr des rates vom september uber ...   \n",
       "2  verordnung eg nr der kommission vom mai zur fe...   \n",
       "3  verordnung eg nr der kommission vom juni zur n...   \n",
       "4  verordnung eg nr des rates vom dezember zur ei...   \n",
       "\n",
       "                                             text_it  \\\n",
       "0  decisione della commissione del marzo che dete...   \n",
       "1  regolamento ce n del consiglio del settembre r...   \n",
       "2  regolamento ce n della commissione del maggio ...   \n",
       "3  regolamento ce n della commissione del giugno ...   \n",
       "4  regolamento ce n del consiglio del dicembre ch...   \n",
       "\n",
       "                                             text_pl  \\\n",
       "0  decyzja komisji z dnia marca r ustanawiajaca k...   \n",
       "1  rozporzadzenie rady we nr z dnia wrzesnia r w ...   \n",
       "2  rozporzadzenie komisji we nr z dnia maja r ust...   \n",
       "3  rozporzadzenie komisji we nr z dnia czerwca r ...   \n",
       "4  rozporzadzenie rady we nr z dnia grudnia r nak...   \n",
       "\n",
       "                                             text_sv  \n",
       "0  kommissionens beslut av den mars om indelning ...  \n",
       "1  radets forordning eg nr av den september om de...  \n",
       "2  kommissionens forordning eg nr av den maj om f...  \n",
       "3  kommissionens forordning eg nr av den juni om ...  \n",
       "4  radets forordning eg nr av den december om inf...  "
      ]
     },
     "execution_count": 2,
     "metadata": {},
     "output_type": "execute_result"
    }
   ],
   "source": [
    "dataframe = pd.read_csv(\"../data/1_multi_eurlex_clean.csv\")\n",
    "dataframe.head()"
   ]
  },
  {
   "cell_type": "markdown",
   "metadata": {},
   "source": [
    "#### **Data Exploration**"
   ]
  },
  {
   "cell_type": "markdown",
   "metadata": {},
   "source": [
    "**1. How many occurrences for class?**\n",
    "\n",
    "Let's see wether the classes are balanced or not."
   ]
  },
  {
   "cell_type": "markdown",
   "metadata": {},
   "source": [
    "First, a simple function to plot the number of texts for each class."
   ]
  },
  {
   "cell_type": "code",
   "execution_count": 3,
   "metadata": {},
   "outputs": [],
   "source": [
    "def create_obs_per_classes_barplot(df, width, height, title):\n",
    "    \"\"\"\n",
    "    Input:\n",
    "        > df            dataset [tickets vendita]\n",
    "        > width         of plot\n",
    "        > height        of plot\n",
    "        > title         of plot\n",
    "    Output:\n",
    "        > prints and returns the plot object\n",
    "    \"\"\"\n",
    "\n",
    "    # data manipulation for plot\n",
    "    temp_df = pd.DataFrame(df.groupby(\"labels\")[\"text_en\"].count()).reset_index()\n",
    "\n",
    "    # convert labels to string (so that they are treated as categoricals)\n",
    "    temp_df.labels = temp_df.labels.astype(str)\n",
    "\n",
    "    # create plot\n",
    "    fig = px.bar(\n",
    "        temp_df, \n",
    "        x=\"labels\", \n",
    "        y=\"text_en\", \n",
    "        color=\"labels\",\n",
    "        title=title,\n",
    "        width=width, height=height, \n",
    "        text_auto=True,\n",
    "            labels={\n",
    "                \"text\": \"Number of Observations\",\n",
    "                \"labels\":\"Label (first level)\"\n",
    "            },\n",
    "        )\n",
    "    fig.update_layout(xaxis_tickangle=-45, showlegend=False)\n",
    "    fig.update_traces(textangle=0, textposition=\"outside\", cliponaxis=False)\n",
    "    fig.show()\n",
    "\n",
    "    return fig"
   ]
  },
  {
   "cell_type": "markdown",
   "metadata": {},
   "source": [
    "Now we can plot!"
   ]
  },
  {
   "cell_type": "code",
   "execution_count": 4,
   "metadata": {},
   "outputs": [
    {
     "data": {
      "application/vnd.plotly.v1+json": {
       "config": {
        "plotlyServerURL": "https://plot.ly"
       },
       "data": [
        {
         "alignmentgroup": "True",
         "cliponaxis": false,
         "hovertemplate": "Label (first level)=%{x}<br>text_en=%{y}<extra></extra>",
         "legendgroup": "0",
         "marker": {
          "color": "#636efa",
          "pattern": {
           "shape": ""
          }
         },
         "name": "0",
         "offsetgroup": "0",
         "orientation": "v",
         "showlegend": true,
         "textangle": 0,
         "textposition": "outside",
         "texttemplate": "%{y}",
         "type": "bar",
         "x": [
          "0"
         ],
         "xaxis": "x",
         "y": [
          2610
         ],
         "yaxis": "y"
        },
        {
         "alignmentgroup": "True",
         "cliponaxis": false,
         "hovertemplate": "Label (first level)=%{x}<br>text_en=%{y}<extra></extra>",
         "legendgroup": "1",
         "marker": {
          "color": "#EF553B",
          "pattern": {
           "shape": ""
          }
         },
         "name": "1",
         "offsetgroup": "1",
         "orientation": "v",
         "showlegend": true,
         "textangle": 0,
         "textposition": "outside",
         "texttemplate": "%{y}",
         "type": "bar",
         "x": [
          "1"
         ],
         "xaxis": "x",
         "y": [
          1138
         ],
         "yaxis": "y"
        },
        {
         "alignmentgroup": "True",
         "cliponaxis": false,
         "hovertemplate": "Label (first level)=%{x}<br>text_en=%{y}<extra></extra>",
         "legendgroup": "2",
         "marker": {
          "color": "#00cc96",
          "pattern": {
           "shape": ""
          }
         },
         "name": "2",
         "offsetgroup": "2",
         "orientation": "v",
         "showlegend": true,
         "textangle": 0,
         "textposition": "outside",
         "texttemplate": "%{y}",
         "type": "bar",
         "x": [
          "2"
         ],
         "xaxis": "x",
         "y": [
          4379
         ],
         "yaxis": "y"
        },
        {
         "alignmentgroup": "True",
         "cliponaxis": false,
         "hovertemplate": "Label (first level)=%{x}<br>text_en=%{y}<extra></extra>",
         "legendgroup": "3",
         "marker": {
          "color": "#ab63fa",
          "pattern": {
           "shape": ""
          }
         },
         "name": "3",
         "offsetgroup": "3",
         "orientation": "v",
         "showlegend": true,
         "textangle": 0,
         "textposition": "outside",
         "texttemplate": "%{y}",
         "type": "bar",
         "x": [
          "3"
         ],
         "xaxis": "x",
         "y": [
          10571
         ],
         "yaxis": "y"
        },
        {
         "alignmentgroup": "True",
         "cliponaxis": false,
         "hovertemplate": "Label (first level)=%{x}<br>text_en=%{y}<extra></extra>",
         "legendgroup": "4",
         "marker": {
          "color": "#FFA15A",
          "pattern": {
           "shape": ""
          }
         },
         "name": "4",
         "offsetgroup": "4",
         "orientation": "v",
         "showlegend": true,
         "textangle": 0,
         "textposition": "outside",
         "texttemplate": "%{y}",
         "type": "bar",
         "x": [
          "4"
         ],
         "xaxis": "x",
         "y": [
          908
         ],
         "yaxis": "y"
        },
        {
         "alignmentgroup": "True",
         "cliponaxis": false,
         "hovertemplate": "Label (first level)=%{x}<br>text_en=%{y}<extra></extra>",
         "legendgroup": "5",
         "marker": {
          "color": "#19d3f3",
          "pattern": {
           "shape": ""
          }
         },
         "name": "5",
         "offsetgroup": "5",
         "orientation": "v",
         "showlegend": true,
         "textangle": 0,
         "textposition": "outside",
         "texttemplate": "%{y}",
         "type": "bar",
         "x": [
          "5"
         ],
         "xaxis": "x",
         "y": [
          332
         ],
         "yaxis": "y"
        },
        {
         "alignmentgroup": "True",
         "cliponaxis": false,
         "hovertemplate": "Label (first level)=%{x}<br>text_en=%{y}<extra></extra>",
         "legendgroup": "6",
         "marker": {
          "color": "#FF6692",
          "pattern": {
           "shape": ""
          }
         },
         "name": "6",
         "offsetgroup": "6",
         "orientation": "v",
         "showlegend": true,
         "textangle": 0,
         "textposition": "outside",
         "texttemplate": "%{y}",
         "type": "bar",
         "x": [
          "6"
         ],
         "xaxis": "x",
         "y": [
          95
         ],
         "yaxis": "y"
        },
        {
         "alignmentgroup": "True",
         "cliponaxis": false,
         "hovertemplate": "Label (first level)=%{x}<br>text_en=%{y}<extra></extra>",
         "legendgroup": "7",
         "marker": {
          "color": "#B6E880",
          "pattern": {
           "shape": ""
          }
         },
         "name": "7",
         "offsetgroup": "7",
         "orientation": "v",
         "showlegend": true,
         "textangle": 0,
         "textposition": "outside",
         "texttemplate": "%{y}",
         "type": "bar",
         "x": [
          "7"
         ],
         "xaxis": "x",
         "y": [
          2041
         ],
         "yaxis": "y"
        },
        {
         "alignmentgroup": "True",
         "cliponaxis": false,
         "hovertemplate": "Label (first level)=%{x}<br>text_en=%{y}<extra></extra>",
         "legendgroup": "8",
         "marker": {
          "color": "#FF97FF",
          "pattern": {
           "shape": ""
          }
         },
         "name": "8",
         "offsetgroup": "8",
         "orientation": "v",
         "showlegend": true,
         "textangle": 0,
         "textposition": "outside",
         "texttemplate": "%{y}",
         "type": "bar",
         "x": [
          "8"
         ],
         "xaxis": "x",
         "y": [
          1051
         ],
         "yaxis": "y"
        },
        {
         "alignmentgroup": "True",
         "cliponaxis": false,
         "hovertemplate": "Label (first level)=%{x}<br>text_en=%{y}<extra></extra>",
         "legendgroup": "9",
         "marker": {
          "color": "#FECB52",
          "pattern": {
           "shape": ""
          }
         },
         "name": "9",
         "offsetgroup": "9",
         "orientation": "v",
         "showlegend": true,
         "textangle": 0,
         "textposition": "outside",
         "texttemplate": "%{y}",
         "type": "bar",
         "x": [
          "9"
         ],
         "xaxis": "x",
         "y": [
          189
         ],
         "yaxis": "y"
        },
        {
         "alignmentgroup": "True",
         "cliponaxis": false,
         "hovertemplate": "Label (first level)=%{x}<br>text_en=%{y}<extra></extra>",
         "legendgroup": "10",
         "marker": {
          "color": "#636efa",
          "pattern": {
           "shape": ""
          }
         },
         "name": "10",
         "offsetgroup": "10",
         "orientation": "v",
         "showlegend": true,
         "textangle": 0,
         "textposition": "outside",
         "texttemplate": "%{y}",
         "type": "bar",
         "x": [
          "10"
         ],
         "xaxis": "x",
         "y": [
          1153
         ],
         "yaxis": "y"
        },
        {
         "alignmentgroup": "True",
         "cliponaxis": false,
         "hovertemplate": "Label (first level)=%{x}<br>text_en=%{y}<extra></extra>",
         "legendgroup": "11",
         "marker": {
          "color": "#EF553B",
          "pattern": {
           "shape": ""
          }
         },
         "name": "11",
         "offsetgroup": "11",
         "orientation": "v",
         "showlegend": true,
         "textangle": 0,
         "textposition": "outside",
         "texttemplate": "%{y}",
         "type": "bar",
         "x": [
          "11"
         ],
         "xaxis": "x",
         "y": [
          1041
         ],
         "yaxis": "y"
        },
        {
         "alignmentgroup": "True",
         "cliponaxis": false,
         "hovertemplate": "Label (first level)=%{x}<br>text_en=%{y}<extra></extra>",
         "legendgroup": "12",
         "marker": {
          "color": "#00cc96",
          "pattern": {
           "shape": ""
          }
         },
         "name": "12",
         "offsetgroup": "12",
         "orientation": "v",
         "showlegend": true,
         "textangle": 0,
         "textposition": "outside",
         "texttemplate": "%{y}",
         "type": "bar",
         "x": [
          "12"
         ],
         "xaxis": "x",
         "y": [
          1729
         ],
         "yaxis": "y"
        },
        {
         "alignmentgroup": "True",
         "cliponaxis": false,
         "hovertemplate": "Label (first level)=%{x}<br>text_en=%{y}<extra></extra>",
         "legendgroup": "13",
         "marker": {
          "color": "#ab63fa",
          "pattern": {
           "shape": ""
          }
         },
         "name": "13",
         "offsetgroup": "13",
         "orientation": "v",
         "showlegend": true,
         "textangle": 0,
         "textposition": "outside",
         "texttemplate": "%{y}",
         "type": "bar",
         "x": [
          "13"
         ],
         "xaxis": "x",
         "y": [
          161
         ],
         "yaxis": "y"
        },
        {
         "alignmentgroup": "True",
         "cliponaxis": false,
         "hovertemplate": "Label (first level)=%{x}<br>text_en=%{y}<extra></extra>",
         "legendgroup": "14",
         "marker": {
          "color": "#FFA15A",
          "pattern": {
           "shape": ""
          }
         },
         "name": "14",
         "offsetgroup": "14",
         "orientation": "v",
         "showlegend": true,
         "textangle": 0,
         "textposition": "outside",
         "texttemplate": "%{y}",
         "type": "bar",
         "x": [
          "14"
         ],
         "xaxis": "x",
         "y": [
          57
         ],
         "yaxis": "y"
        },
        {
         "alignmentgroup": "True",
         "cliponaxis": false,
         "hovertemplate": "Label (first level)=%{x}<br>text_en=%{y}<extra></extra>",
         "legendgroup": "15",
         "marker": {
          "color": "#19d3f3",
          "pattern": {
           "shape": ""
          }
         },
         "name": "15",
         "offsetgroup": "15",
         "orientation": "v",
         "showlegend": true,
         "textangle": 0,
         "textposition": "outside",
         "texttemplate": "%{y}",
         "type": "bar",
         "x": [
          "15"
         ],
         "xaxis": "x",
         "y": [
          389
         ],
         "yaxis": "y"
        },
        {
         "alignmentgroup": "True",
         "cliponaxis": false,
         "hovertemplate": "Label (first level)=%{x}<br>text_en=%{y}<extra></extra>",
         "legendgroup": "16",
         "marker": {
          "color": "#FF6692",
          "pattern": {
           "shape": ""
          }
         },
         "name": "16",
         "offsetgroup": "16",
         "orientation": "v",
         "showlegend": true,
         "textangle": 0,
         "textposition": "outside",
         "texttemplate": "%{y}",
         "type": "bar",
         "x": [
          "16"
         ],
         "xaxis": "x",
         "y": [
          95
         ],
         "yaxis": "y"
        },
        {
         "alignmentgroup": "True",
         "cliponaxis": false,
         "hovertemplate": "Label (first level)=%{x}<br>text_en=%{y}<extra></extra>",
         "legendgroup": "17",
         "marker": {
          "color": "#B6E880",
          "pattern": {
           "shape": ""
          }
         },
         "name": "17",
         "offsetgroup": "17",
         "orientation": "v",
         "showlegend": true,
         "textangle": 0,
         "textposition": "outside",
         "texttemplate": "%{y}",
         "type": "bar",
         "x": [
          "17"
         ],
         "xaxis": "x",
         "y": [
          1558
         ],
         "yaxis": "y"
        },
        {
         "alignmentgroup": "True",
         "cliponaxis": false,
         "hovertemplate": "Label (first level)=%{x}<br>text_en=%{y}<extra></extra>",
         "legendgroup": "18",
         "marker": {
          "color": "#FF97FF",
          "pattern": {
           "shape": ""
          }
         },
         "name": "18",
         "offsetgroup": "18",
         "orientation": "v",
         "showlegend": true,
         "textangle": 0,
         "textposition": "outside",
         "texttemplate": "%{y}",
         "type": "bar",
         "x": [
          "18"
         ],
         "xaxis": "x",
         "y": [
          2646
         ],
         "yaxis": "y"
        },
        {
         "alignmentgroup": "True",
         "cliponaxis": false,
         "hovertemplate": "Label (first level)=%{x}<br>text_en=%{y}<extra></extra>",
         "legendgroup": "19",
         "marker": {
          "color": "#FECB52",
          "pattern": {
           "shape": ""
          }
         },
         "name": "19",
         "offsetgroup": "19",
         "orientation": "v",
         "showlegend": true,
         "textangle": 0,
         "textposition": "outside",
         "texttemplate": "%{y}",
         "type": "bar",
         "x": [
          "19"
         ],
         "xaxis": "x",
         "y": [
          360
         ],
         "yaxis": "y"
        },
        {
         "alignmentgroup": "True",
         "cliponaxis": false,
         "hovertemplate": "Label (first level)=%{x}<br>text_en=%{y}<extra></extra>",
         "legendgroup": "20",
         "marker": {
          "color": "#636efa",
          "pattern": {
           "shape": ""
          }
         },
         "name": "20",
         "offsetgroup": "20",
         "orientation": "v",
         "showlegend": true,
         "textangle": 0,
         "textposition": "outside",
         "texttemplate": "%{y}",
         "type": "bar",
         "x": [
          "20"
         ],
         "xaxis": "x",
         "y": [
          437
         ],
         "yaxis": "y"
        }
       ],
       "layout": {
        "barmode": "relative",
        "height": 600,
        "legend": {
         "title": {
          "text": "Label (first level)"
         },
         "tracegroupgap": 0
        },
        "showlegend": false,
        "template": {
         "data": {
          "bar": [
           {
            "error_x": {
             "color": "#2a3f5f"
            },
            "error_y": {
             "color": "#2a3f5f"
            },
            "marker": {
             "line": {
              "color": "#E5ECF6",
              "width": 0.5
             },
             "pattern": {
              "fillmode": "overlay",
              "size": 10,
              "solidity": 0.2
             }
            },
            "type": "bar"
           }
          ],
          "barpolar": [
           {
            "marker": {
             "line": {
              "color": "#E5ECF6",
              "width": 0.5
             },
             "pattern": {
              "fillmode": "overlay",
              "size": 10,
              "solidity": 0.2
             }
            },
            "type": "barpolar"
           }
          ],
          "carpet": [
           {
            "aaxis": {
             "endlinecolor": "#2a3f5f",
             "gridcolor": "white",
             "linecolor": "white",
             "minorgridcolor": "white",
             "startlinecolor": "#2a3f5f"
            },
            "baxis": {
             "endlinecolor": "#2a3f5f",
             "gridcolor": "white",
             "linecolor": "white",
             "minorgridcolor": "white",
             "startlinecolor": "#2a3f5f"
            },
            "type": "carpet"
           }
          ],
          "choropleth": [
           {
            "colorbar": {
             "outlinewidth": 0,
             "ticks": ""
            },
            "type": "choropleth"
           }
          ],
          "contour": [
           {
            "colorbar": {
             "outlinewidth": 0,
             "ticks": ""
            },
            "colorscale": [
             [
              0,
              "#0d0887"
             ],
             [
              0.1111111111111111,
              "#46039f"
             ],
             [
              0.2222222222222222,
              "#7201a8"
             ],
             [
              0.3333333333333333,
              "#9c179e"
             ],
             [
              0.4444444444444444,
              "#bd3786"
             ],
             [
              0.5555555555555556,
              "#d8576b"
             ],
             [
              0.6666666666666666,
              "#ed7953"
             ],
             [
              0.7777777777777778,
              "#fb9f3a"
             ],
             [
              0.8888888888888888,
              "#fdca26"
             ],
             [
              1,
              "#f0f921"
             ]
            ],
            "type": "contour"
           }
          ],
          "contourcarpet": [
           {
            "colorbar": {
             "outlinewidth": 0,
             "ticks": ""
            },
            "type": "contourcarpet"
           }
          ],
          "heatmap": [
           {
            "colorbar": {
             "outlinewidth": 0,
             "ticks": ""
            },
            "colorscale": [
             [
              0,
              "#0d0887"
             ],
             [
              0.1111111111111111,
              "#46039f"
             ],
             [
              0.2222222222222222,
              "#7201a8"
             ],
             [
              0.3333333333333333,
              "#9c179e"
             ],
             [
              0.4444444444444444,
              "#bd3786"
             ],
             [
              0.5555555555555556,
              "#d8576b"
             ],
             [
              0.6666666666666666,
              "#ed7953"
             ],
             [
              0.7777777777777778,
              "#fb9f3a"
             ],
             [
              0.8888888888888888,
              "#fdca26"
             ],
             [
              1,
              "#f0f921"
             ]
            ],
            "type": "heatmap"
           }
          ],
          "heatmapgl": [
           {
            "colorbar": {
             "outlinewidth": 0,
             "ticks": ""
            },
            "colorscale": [
             [
              0,
              "#0d0887"
             ],
             [
              0.1111111111111111,
              "#46039f"
             ],
             [
              0.2222222222222222,
              "#7201a8"
             ],
             [
              0.3333333333333333,
              "#9c179e"
             ],
             [
              0.4444444444444444,
              "#bd3786"
             ],
             [
              0.5555555555555556,
              "#d8576b"
             ],
             [
              0.6666666666666666,
              "#ed7953"
             ],
             [
              0.7777777777777778,
              "#fb9f3a"
             ],
             [
              0.8888888888888888,
              "#fdca26"
             ],
             [
              1,
              "#f0f921"
             ]
            ],
            "type": "heatmapgl"
           }
          ],
          "histogram": [
           {
            "marker": {
             "pattern": {
              "fillmode": "overlay",
              "size": 10,
              "solidity": 0.2
             }
            },
            "type": "histogram"
           }
          ],
          "histogram2d": [
           {
            "colorbar": {
             "outlinewidth": 0,
             "ticks": ""
            },
            "colorscale": [
             [
              0,
              "#0d0887"
             ],
             [
              0.1111111111111111,
              "#46039f"
             ],
             [
              0.2222222222222222,
              "#7201a8"
             ],
             [
              0.3333333333333333,
              "#9c179e"
             ],
             [
              0.4444444444444444,
              "#bd3786"
             ],
             [
              0.5555555555555556,
              "#d8576b"
             ],
             [
              0.6666666666666666,
              "#ed7953"
             ],
             [
              0.7777777777777778,
              "#fb9f3a"
             ],
             [
              0.8888888888888888,
              "#fdca26"
             ],
             [
              1,
              "#f0f921"
             ]
            ],
            "type": "histogram2d"
           }
          ],
          "histogram2dcontour": [
           {
            "colorbar": {
             "outlinewidth": 0,
             "ticks": ""
            },
            "colorscale": [
             [
              0,
              "#0d0887"
             ],
             [
              0.1111111111111111,
              "#46039f"
             ],
             [
              0.2222222222222222,
              "#7201a8"
             ],
             [
              0.3333333333333333,
              "#9c179e"
             ],
             [
              0.4444444444444444,
              "#bd3786"
             ],
             [
              0.5555555555555556,
              "#d8576b"
             ],
             [
              0.6666666666666666,
              "#ed7953"
             ],
             [
              0.7777777777777778,
              "#fb9f3a"
             ],
             [
              0.8888888888888888,
              "#fdca26"
             ],
             [
              1,
              "#f0f921"
             ]
            ],
            "type": "histogram2dcontour"
           }
          ],
          "mesh3d": [
           {
            "colorbar": {
             "outlinewidth": 0,
             "ticks": ""
            },
            "type": "mesh3d"
           }
          ],
          "parcoords": [
           {
            "line": {
             "colorbar": {
              "outlinewidth": 0,
              "ticks": ""
             }
            },
            "type": "parcoords"
           }
          ],
          "pie": [
           {
            "automargin": true,
            "type": "pie"
           }
          ],
          "scatter": [
           {
            "fillpattern": {
             "fillmode": "overlay",
             "size": 10,
             "solidity": 0.2
            },
            "type": "scatter"
           }
          ],
          "scatter3d": [
           {
            "line": {
             "colorbar": {
              "outlinewidth": 0,
              "ticks": ""
             }
            },
            "marker": {
             "colorbar": {
              "outlinewidth": 0,
              "ticks": ""
             }
            },
            "type": "scatter3d"
           }
          ],
          "scattercarpet": [
           {
            "marker": {
             "colorbar": {
              "outlinewidth": 0,
              "ticks": ""
             }
            },
            "type": "scattercarpet"
           }
          ],
          "scattergeo": [
           {
            "marker": {
             "colorbar": {
              "outlinewidth": 0,
              "ticks": ""
             }
            },
            "type": "scattergeo"
           }
          ],
          "scattergl": [
           {
            "marker": {
             "colorbar": {
              "outlinewidth": 0,
              "ticks": ""
             }
            },
            "type": "scattergl"
           }
          ],
          "scattermapbox": [
           {
            "marker": {
             "colorbar": {
              "outlinewidth": 0,
              "ticks": ""
             }
            },
            "type": "scattermapbox"
           }
          ],
          "scatterpolar": [
           {
            "marker": {
             "colorbar": {
              "outlinewidth": 0,
              "ticks": ""
             }
            },
            "type": "scatterpolar"
           }
          ],
          "scatterpolargl": [
           {
            "marker": {
             "colorbar": {
              "outlinewidth": 0,
              "ticks": ""
             }
            },
            "type": "scatterpolargl"
           }
          ],
          "scatterternary": [
           {
            "marker": {
             "colorbar": {
              "outlinewidth": 0,
              "ticks": ""
             }
            },
            "type": "scatterternary"
           }
          ],
          "surface": [
           {
            "colorbar": {
             "outlinewidth": 0,
             "ticks": ""
            },
            "colorscale": [
             [
              0,
              "#0d0887"
             ],
             [
              0.1111111111111111,
              "#46039f"
             ],
             [
              0.2222222222222222,
              "#7201a8"
             ],
             [
              0.3333333333333333,
              "#9c179e"
             ],
             [
              0.4444444444444444,
              "#bd3786"
             ],
             [
              0.5555555555555556,
              "#d8576b"
             ],
             [
              0.6666666666666666,
              "#ed7953"
             ],
             [
              0.7777777777777778,
              "#fb9f3a"
             ],
             [
              0.8888888888888888,
              "#fdca26"
             ],
             [
              1,
              "#f0f921"
             ]
            ],
            "type": "surface"
           }
          ],
          "table": [
           {
            "cells": {
             "fill": {
              "color": "#EBF0F8"
             },
             "line": {
              "color": "white"
             }
            },
            "header": {
             "fill": {
              "color": "#C8D4E3"
             },
             "line": {
              "color": "white"
             }
            },
            "type": "table"
           }
          ]
         },
         "layout": {
          "annotationdefaults": {
           "arrowcolor": "#2a3f5f",
           "arrowhead": 0,
           "arrowwidth": 1
          },
          "autotypenumbers": "strict",
          "coloraxis": {
           "colorbar": {
            "outlinewidth": 0,
            "ticks": ""
           }
          },
          "colorscale": {
           "diverging": [
            [
             0,
             "#8e0152"
            ],
            [
             0.1,
             "#c51b7d"
            ],
            [
             0.2,
             "#de77ae"
            ],
            [
             0.3,
             "#f1b6da"
            ],
            [
             0.4,
             "#fde0ef"
            ],
            [
             0.5,
             "#f7f7f7"
            ],
            [
             0.6,
             "#e6f5d0"
            ],
            [
             0.7,
             "#b8e186"
            ],
            [
             0.8,
             "#7fbc41"
            ],
            [
             0.9,
             "#4d9221"
            ],
            [
             1,
             "#276419"
            ]
           ],
           "sequential": [
            [
             0,
             "#0d0887"
            ],
            [
             0.1111111111111111,
             "#46039f"
            ],
            [
             0.2222222222222222,
             "#7201a8"
            ],
            [
             0.3333333333333333,
             "#9c179e"
            ],
            [
             0.4444444444444444,
             "#bd3786"
            ],
            [
             0.5555555555555556,
             "#d8576b"
            ],
            [
             0.6666666666666666,
             "#ed7953"
            ],
            [
             0.7777777777777778,
             "#fb9f3a"
            ],
            [
             0.8888888888888888,
             "#fdca26"
            ],
            [
             1,
             "#f0f921"
            ]
           ],
           "sequentialminus": [
            [
             0,
             "#0d0887"
            ],
            [
             0.1111111111111111,
             "#46039f"
            ],
            [
             0.2222222222222222,
             "#7201a8"
            ],
            [
             0.3333333333333333,
             "#9c179e"
            ],
            [
             0.4444444444444444,
             "#bd3786"
            ],
            [
             0.5555555555555556,
             "#d8576b"
            ],
            [
             0.6666666666666666,
             "#ed7953"
            ],
            [
             0.7777777777777778,
             "#fb9f3a"
            ],
            [
             0.8888888888888888,
             "#fdca26"
            ],
            [
             1,
             "#f0f921"
            ]
           ]
          },
          "colorway": [
           "#636efa",
           "#EF553B",
           "#00cc96",
           "#ab63fa",
           "#FFA15A",
           "#19d3f3",
           "#FF6692",
           "#B6E880",
           "#FF97FF",
           "#FECB52"
          ],
          "font": {
           "color": "#2a3f5f"
          },
          "geo": {
           "bgcolor": "white",
           "lakecolor": "white",
           "landcolor": "#E5ECF6",
           "showlakes": true,
           "showland": true,
           "subunitcolor": "white"
          },
          "hoverlabel": {
           "align": "left"
          },
          "hovermode": "closest",
          "mapbox": {
           "style": "light"
          },
          "paper_bgcolor": "white",
          "plot_bgcolor": "#E5ECF6",
          "polar": {
           "angularaxis": {
            "gridcolor": "white",
            "linecolor": "white",
            "ticks": ""
           },
           "bgcolor": "#E5ECF6",
           "radialaxis": {
            "gridcolor": "white",
            "linecolor": "white",
            "ticks": ""
           }
          },
          "scene": {
           "xaxis": {
            "backgroundcolor": "#E5ECF6",
            "gridcolor": "white",
            "gridwidth": 2,
            "linecolor": "white",
            "showbackground": true,
            "ticks": "",
            "zerolinecolor": "white"
           },
           "yaxis": {
            "backgroundcolor": "#E5ECF6",
            "gridcolor": "white",
            "gridwidth": 2,
            "linecolor": "white",
            "showbackground": true,
            "ticks": "",
            "zerolinecolor": "white"
           },
           "zaxis": {
            "backgroundcolor": "#E5ECF6",
            "gridcolor": "white",
            "gridwidth": 2,
            "linecolor": "white",
            "showbackground": true,
            "ticks": "",
            "zerolinecolor": "white"
           }
          },
          "shapedefaults": {
           "line": {
            "color": "#2a3f5f"
           }
          },
          "ternary": {
           "aaxis": {
            "gridcolor": "white",
            "linecolor": "white",
            "ticks": ""
           },
           "baxis": {
            "gridcolor": "white",
            "linecolor": "white",
            "ticks": ""
           },
           "bgcolor": "#E5ECF6",
           "caxis": {
            "gridcolor": "white",
            "linecolor": "white",
            "ticks": ""
           }
          },
          "title": {
           "x": 0.05
          },
          "xaxis": {
           "automargin": true,
           "gridcolor": "white",
           "linecolor": "white",
           "ticks": "",
           "title": {
            "standoff": 15
           },
           "zerolinecolor": "white",
           "zerolinewidth": 2
          },
          "yaxis": {
           "automargin": true,
           "gridcolor": "white",
           "linecolor": "white",
           "ticks": "",
           "title": {
            "standoff": 15
           },
           "zerolinecolor": "white",
           "zerolinewidth": 2
          }
         }
        },
        "title": {
         "text": "Number of Texts for each Label<br><sup>Total Classes: 21<sup>"
        },
        "width": 1400,
        "xaxis": {
         "anchor": "y",
         "categoryarray": [
          "0",
          "1",
          "2",
          "3",
          "4",
          "5",
          "6",
          "7",
          "8",
          "9",
          "10",
          "11",
          "12",
          "13",
          "14",
          "15",
          "16",
          "17",
          "18",
          "19",
          "20"
         ],
         "categoryorder": "array",
         "domain": [
          0,
          1
         ],
         "tickangle": -45,
         "title": {
          "text": "Label (first level)"
         }
        },
        "yaxis": {
         "anchor": "x",
         "domain": [
          0,
          1
         ],
         "title": {
          "text": "text_en"
         }
        }
       }
      }
     },
     "metadata": {},
     "output_type": "display_data"
    }
   ],
   "source": [
    "# create plot\n",
    "barplot = create_obs_per_classes_barplot(\n",
    "    df = dataframe,\n",
    "    width = 1400, \n",
    "    height = 600, \n",
    "    title = \"Number of Texts for each Label<br><sup>Total Classes: 21<sup>\"\n",
    "    )"
   ]
  },
  {
   "cell_type": "markdown",
   "metadata": {},
   "source": [
    "The dataset is very unbalanced: a high number of classes have less than 500 observations, while others exceed 2000 (in some cases by a lot, i.e. with class 3).\n",
    "\n",
    "As interesting as it is to test how architectures behave with unbalanced data, classes such as 14 would only introduce noise, given the low number of observations. We therefore decide to update the dataset, keeping only the classes with at least 500 observations."
   ]
  },
  {
   "cell_type": "markdown",
   "metadata": {},
   "source": [
    "**Note after the first training tests**: the texts are very, very long (1000-1200 words). As a consequence, the training times and epochs needed to arrive at satisfactory performance are high as well. \n",
    "\n",
    "In order to make the training faster, we select only 3 classes: *2*, *3* and *18* (the most frequent). For each class, we then randomly select 2000 observations each to avoid working with unbalanced classes. "
   ]
  },
  {
   "cell_type": "code",
   "execution_count": 5,
   "metadata": {},
   "outputs": [
    {
     "data": {
      "text/plain": [
       "[2, 3, 18]"
      ]
     },
     "execution_count": 5,
     "metadata": {},
     "output_type": "execute_result"
    }
   ],
   "source": [
    "# 1. groupby texts\n",
    "temp_df = pd.DataFrame(dataframe.groupby(\"labels\")[\"text_en\"].count()).reset_index()\n",
    "\n",
    "# 2. obtain the list of labels with at least 500 obs\n",
    "classes_to_keep = list(temp_df.loc[temp_df[\"text_en\"] >= 2646][\"labels\"])\n",
    "\n",
    "classes_to_keep"
   ]
  },
  {
   "cell_type": "code",
   "execution_count": 6,
   "metadata": {},
   "outputs": [
    {
     "data": {
      "text/html": [
       "<div>\n",
       "<style scoped>\n",
       "    .dataframe tbody tr th:only-of-type {\n",
       "        vertical-align: middle;\n",
       "    }\n",
       "\n",
       "    .dataframe tbody tr th {\n",
       "        vertical-align: top;\n",
       "    }\n",
       "\n",
       "    .dataframe thead th {\n",
       "        text-align: right;\n",
       "    }\n",
       "</style>\n",
       "<table border=\"1\" class=\"dataframe\">\n",
       "  <thead>\n",
       "    <tr style=\"text-align: right;\">\n",
       "      <th></th>\n",
       "      <th>celex_id</th>\n",
       "      <th>labels</th>\n",
       "      <th>text_en</th>\n",
       "      <th>text_de</th>\n",
       "      <th>text_it</th>\n",
       "      <th>text_pl</th>\n",
       "      <th>text_sv</th>\n",
       "    </tr>\n",
       "  </thead>\n",
       "  <tbody>\n",
       "    <tr>\n",
       "      <th>1</th>\n",
       "      <td>32003R1786</td>\n",
       "      <td>3</td>\n",
       "      <td>council regulation ec no of september on the c...</td>\n",
       "      <td>verordnung eg nr des rates vom september uber ...</td>\n",
       "      <td>regolamento ce n del consiglio del settembre r...</td>\n",
       "      <td>rozporzadzenie rady we nr z dnia wrzesnia r w ...</td>\n",
       "      <td>radets forordning eg nr av den september om de...</td>\n",
       "    </tr>\n",
       "    <tr>\n",
       "      <th>2</th>\n",
       "      <td>32004R1038</td>\n",
       "      <td>3</td>\n",
       "      <td>commission regulation ec no of may fixing the ...</td>\n",
       "      <td>verordnung eg nr der kommission vom mai zur fe...</td>\n",
       "      <td>regolamento ce n della commissione del maggio ...</td>\n",
       "      <td>rozporzadzenie komisji we nr z dnia maja r ust...</td>\n",
       "      <td>kommissionens forordning eg nr av den maj om f...</td>\n",
       "    </tr>\n",
       "    <tr>\n",
       "      <th>3</th>\n",
       "      <td>32003R1012</td>\n",
       "      <td>2</td>\n",
       "      <td>commission regulation ec no of june amending f...</td>\n",
       "      <td>verordnung eg nr der kommission vom juni zur n...</td>\n",
       "      <td>regolamento ce n della commissione del giugno ...</td>\n",
       "      <td>rozporzadzenie komisji we nr z dnia czerwca r ...</td>\n",
       "      <td>kommissionens forordning eg nr av den juni om ...</td>\n",
       "    </tr>\n",
       "    <tr>\n",
       "      <th>4</th>\n",
       "      <td>32003R2229</td>\n",
       "      <td>18</td>\n",
       "      <td>council regulation ec no of december imposing ...</td>\n",
       "      <td>verordnung eg nr des rates vom dezember zur ei...</td>\n",
       "      <td>regolamento ce n del consiglio del dicembre ch...</td>\n",
       "      <td>rozporzadzenie rady we nr z dnia grudnia r nak...</td>\n",
       "      <td>radets forordning eg nr av den december om inf...</td>\n",
       "    </tr>\n",
       "    <tr>\n",
       "      <th>6</th>\n",
       "      <td>32008R0284</td>\n",
       "      <td>3</td>\n",
       "      <td>commission regulation ec no of march registeri...</td>\n",
       "      <td>verordnung eg nr der kommission vom marz zur e...</td>\n",
       "      <td>regolamento ce n della commissione del marzo r...</td>\n",
       "      <td>rozporzadzenie komisji we nr z dnia marca r re...</td>\n",
       "      <td>kommissionens forordning eg nr av den mars om ...</td>\n",
       "    </tr>\n",
       "    <tr>\n",
       "      <th>...</th>\n",
       "      <td>...</td>\n",
       "      <td>...</td>\n",
       "      <td>...</td>\n",
       "      <td>...</td>\n",
       "      <td>...</td>\n",
       "      <td>...</td>\n",
       "      <td>...</td>\n",
       "    </tr>\n",
       "    <tr>\n",
       "      <th>32923</th>\n",
       "      <td>32011R0354</td>\n",
       "      <td>3</td>\n",
       "      <td>commission regulation eu no of april opening a...</td>\n",
       "      <td>verordnung eu nr der kommission vom april zur ...</td>\n",
       "      <td>regolamento ue n della commissione del aprile ...</td>\n",
       "      <td>rozporzadzenie komisji ue nr z dnia kwietnia r...</td>\n",
       "      <td>kommissionens forordning eu nr av den april om...</td>\n",
       "    </tr>\n",
       "    <tr>\n",
       "      <th>32925</th>\n",
       "      <td>32012R0751</td>\n",
       "      <td>3</td>\n",
       "      <td>commission implementing regulation eu no of au...</td>\n",
       "      <td>durchfuhrungsverordnung eu nr der kommission v...</td>\n",
       "      <td>regolamento di esecuzione ue n della commissio...</td>\n",
       "      <td>rozporzadzenie wykonawcze komisji ue nr z dnia...</td>\n",
       "      <td>kommissionens genomforandeforordning eu nr av ...</td>\n",
       "    </tr>\n",
       "    <tr>\n",
       "      <th>32929</th>\n",
       "      <td>32012D0272</td>\n",
       "      <td>18</td>\n",
       "      <td>council decision of may on the signing on beha...</td>\n",
       "      <td>beschluss des rates vom mai uber die unterzeic...</td>\n",
       "      <td>decisione del consiglio del maggio relativa al...</td>\n",
       "      <td>decyzja rady z dnia maja r w sprawie podpisani...</td>\n",
       "      <td>radets beslut av den maj om undertecknande pa ...</td>\n",
       "    </tr>\n",
       "    <tr>\n",
       "      <th>32931</th>\n",
       "      <td>32012D0454</td>\n",
       "      <td>3</td>\n",
       "      <td>council implementing decision cfsp of august i...</td>\n",
       "      <td>durchfuhrungsbeschluss gasp des rates vom augu...</td>\n",
       "      <td>decisione di esecuzione pesc del consiglio del...</td>\n",
       "      <td>decyzja wykonawcza rady wpzib z dnia sierpnia ...</td>\n",
       "      <td>radets genomforandebeslut gusp av den augusti ...</td>\n",
       "    </tr>\n",
       "    <tr>\n",
       "      <th>32933</th>\n",
       "      <td>32012R0596</td>\n",
       "      <td>18</td>\n",
       "      <td>commission regulation eu no of july initiating...</td>\n",
       "      <td>verordnung eu nr der kommission vom juli zur e...</td>\n",
       "      <td>regolamento ue n della commissione del luglio ...</td>\n",
       "      <td>rozporzadzenie komisji ue nr z dnia lipca r ws...</td>\n",
       "      <td>kommissionens forordning eu nr av den juli om ...</td>\n",
       "    </tr>\n",
       "  </tbody>\n",
       "</table>\n",
       "<p>17596 rows × 7 columns</p>\n",
       "</div>"
      ],
      "text/plain": [
       "         celex_id  labels                                            text_en  \\\n",
       "1      32003R1786       3  council regulation ec no of september on the c...   \n",
       "2      32004R1038       3  commission regulation ec no of may fixing the ...   \n",
       "3      32003R1012       2  commission regulation ec no of june amending f...   \n",
       "4      32003R2229      18  council regulation ec no of december imposing ...   \n",
       "6      32008R0284       3  commission regulation ec no of march registeri...   \n",
       "...           ...     ...                                                ...   \n",
       "32923  32011R0354       3  commission regulation eu no of april opening a...   \n",
       "32925  32012R0751       3  commission implementing regulation eu no of au...   \n",
       "32929  32012D0272      18  council decision of may on the signing on beha...   \n",
       "32931  32012D0454       3  council implementing decision cfsp of august i...   \n",
       "32933  32012R0596      18  commission regulation eu no of july initiating...   \n",
       "\n",
       "                                                 text_de  \\\n",
       "1      verordnung eg nr des rates vom september uber ...   \n",
       "2      verordnung eg nr der kommission vom mai zur fe...   \n",
       "3      verordnung eg nr der kommission vom juni zur n...   \n",
       "4      verordnung eg nr des rates vom dezember zur ei...   \n",
       "6      verordnung eg nr der kommission vom marz zur e...   \n",
       "...                                                  ...   \n",
       "32923  verordnung eu nr der kommission vom april zur ...   \n",
       "32925  durchfuhrungsverordnung eu nr der kommission v...   \n",
       "32929  beschluss des rates vom mai uber die unterzeic...   \n",
       "32931  durchfuhrungsbeschluss gasp des rates vom augu...   \n",
       "32933  verordnung eu nr der kommission vom juli zur e...   \n",
       "\n",
       "                                                 text_it  \\\n",
       "1      regolamento ce n del consiglio del settembre r...   \n",
       "2      regolamento ce n della commissione del maggio ...   \n",
       "3      regolamento ce n della commissione del giugno ...   \n",
       "4      regolamento ce n del consiglio del dicembre ch...   \n",
       "6      regolamento ce n della commissione del marzo r...   \n",
       "...                                                  ...   \n",
       "32923  regolamento ue n della commissione del aprile ...   \n",
       "32925  regolamento di esecuzione ue n della commissio...   \n",
       "32929  decisione del consiglio del maggio relativa al...   \n",
       "32931  decisione di esecuzione pesc del consiglio del...   \n",
       "32933  regolamento ue n della commissione del luglio ...   \n",
       "\n",
       "                                                 text_pl  \\\n",
       "1      rozporzadzenie rady we nr z dnia wrzesnia r w ...   \n",
       "2      rozporzadzenie komisji we nr z dnia maja r ust...   \n",
       "3      rozporzadzenie komisji we nr z dnia czerwca r ...   \n",
       "4      rozporzadzenie rady we nr z dnia grudnia r nak...   \n",
       "6      rozporzadzenie komisji we nr z dnia marca r re...   \n",
       "...                                                  ...   \n",
       "32923  rozporzadzenie komisji ue nr z dnia kwietnia r...   \n",
       "32925  rozporzadzenie wykonawcze komisji ue nr z dnia...   \n",
       "32929  decyzja rady z dnia maja r w sprawie podpisani...   \n",
       "32931  decyzja wykonawcza rady wpzib z dnia sierpnia ...   \n",
       "32933  rozporzadzenie komisji ue nr z dnia lipca r ws...   \n",
       "\n",
       "                                                 text_sv  \n",
       "1      radets forordning eg nr av den september om de...  \n",
       "2      kommissionens forordning eg nr av den maj om f...  \n",
       "3      kommissionens forordning eg nr av den juni om ...  \n",
       "4      radets forordning eg nr av den december om inf...  \n",
       "6      kommissionens forordning eg nr av den mars om ...  \n",
       "...                                                  ...  \n",
       "32923  kommissionens forordning eu nr av den april om...  \n",
       "32925  kommissionens genomforandeforordning eu nr av ...  \n",
       "32929  radets beslut av den maj om undertecknande pa ...  \n",
       "32931  radets genomforandebeslut gusp av den augusti ...  \n",
       "32933  kommissionens forordning eu nr av den juli om ...  \n",
       "\n",
       "[17596 rows x 7 columns]"
      ]
     },
     "execution_count": 6,
     "metadata": {},
     "output_type": "execute_result"
    }
   ],
   "source": [
    "# filter the dataset\n",
    "reduced_dataframe = dataframe.loc[dataframe[\"labels\"].isin(classes_to_keep)]\n",
    "reduced_dataframe"
   ]
  },
  {
   "cell_type": "markdown",
   "metadata": {},
   "source": [
    "We now keep 2000 obs for each class."
   ]
  },
  {
   "cell_type": "code",
   "execution_count": 8,
   "metadata": {},
   "outputs": [
    {
     "data": {
      "text/html": [
       "<div>\n",
       "<style scoped>\n",
       "    .dataframe tbody tr th:only-of-type {\n",
       "        vertical-align: middle;\n",
       "    }\n",
       "\n",
       "    .dataframe tbody tr th {\n",
       "        vertical-align: top;\n",
       "    }\n",
       "\n",
       "    .dataframe thead th {\n",
       "        text-align: right;\n",
       "    }\n",
       "</style>\n",
       "<table border=\"1\" class=\"dataframe\">\n",
       "  <thead>\n",
       "    <tr style=\"text-align: right;\">\n",
       "      <th></th>\n",
       "      <th>celex_id</th>\n",
       "      <th>labels</th>\n",
       "      <th>text_en</th>\n",
       "      <th>text_de</th>\n",
       "      <th>text_it</th>\n",
       "      <th>text_pl</th>\n",
       "      <th>text_sv</th>\n",
       "    </tr>\n",
       "  </thead>\n",
       "  <tbody>\n",
       "    <tr>\n",
       "      <th>1353</th>\n",
       "      <td>32010D0395</td>\n",
       "      <td>2</td>\n",
       "      <td>commission decision of december on state aid c...</td>\n",
       "      <td>beschluss der kommission vom dezember uber die...</td>\n",
       "      <td>decisione della commissione del dicembre conce...</td>\n",
       "      <td>decyzja komisji z dnia grudnia r w sprawie pom...</td>\n",
       "      <td>kommissionens beslut av den december om det st...</td>\n",
       "    </tr>\n",
       "    <tr>\n",
       "      <th>28193</th>\n",
       "      <td>32012R0453</td>\n",
       "      <td>2</td>\n",
       "      <td>commission implementing regulation eu no of ma...</td>\n",
       "      <td>durchfuhrungsverordnung eu nr der kommission v...</td>\n",
       "      <td>regolamento di esecuzione ue n della commissio...</td>\n",
       "      <td>rozporzadzenie wykonawcze komisji ue nr z dnia...</td>\n",
       "      <td>kommissionens genomforandeforordning eu nr av ...</td>\n",
       "    </tr>\n",
       "    <tr>\n",
       "      <th>28475</th>\n",
       "      <td>32012D0043</td>\n",
       "      <td>2</td>\n",
       "      <td>commission implementing decision of january au...</td>\n",
       "      <td>durchfuhrungsbeschluss der kommission vom janu...</td>\n",
       "      <td>decisione di esecuzione della commissione del ...</td>\n",
       "      <td>decyzja wykonawcza komisji z dnia stycznia r u...</td>\n",
       "      <td>kommissionens genomforandebeslut av den januar...</td>\n",
       "    </tr>\n",
       "    <tr>\n",
       "      <th>19060</th>\n",
       "      <td>32007R0730</td>\n",
       "      <td>2</td>\n",
       "      <td>commission regulation ec no of june establishi...</td>\n",
       "      <td>verordnung eg nr der kommission vom juni zur f...</td>\n",
       "      <td>regolamento ce n della commissione del giugno ...</td>\n",
       "      <td>rozporzadzenie komisji we nr z dnia czerwca r ...</td>\n",
       "      <td>kommissionens forordning eg nr av den juni om ...</td>\n",
       "    </tr>\n",
       "    <tr>\n",
       "      <th>21514</th>\n",
       "      <td>32009R0375</td>\n",
       "      <td>2</td>\n",
       "      <td>commission regulation ec no of may fixing the ...</td>\n",
       "      <td>verordnung eg nr der kommission vom mai zur fe...</td>\n",
       "      <td>regolamento ce n della commissione del maggio ...</td>\n",
       "      <td>rozporzadzenie komisji we nr z dnia maja r ust...</td>\n",
       "      <td>kommissionens forordning eg nr av den maj om f...</td>\n",
       "    </tr>\n",
       "    <tr>\n",
       "      <th>...</th>\n",
       "      <td>...</td>\n",
       "      <td>...</td>\n",
       "      <td>...</td>\n",
       "      <td>...</td>\n",
       "      <td>...</td>\n",
       "      <td>...</td>\n",
       "      <td>...</td>\n",
       "    </tr>\n",
       "    <tr>\n",
       "      <th>27301</th>\n",
       "      <td>32013R0519</td>\n",
       "      <td>18</td>\n",
       "      <td>commission regulation eu no of february adapti...</td>\n",
       "      <td>verordnung eu nr der kommission vom februar zu...</td>\n",
       "      <td>regolamento ue n della commissione del febbrai...</td>\n",
       "      <td>rozporzadzenie komisji ue nr z dnia lutego r d...</td>\n",
       "      <td>kommissionens forordning eu nr av den februari...</td>\n",
       "    </tr>\n",
       "    <tr>\n",
       "      <th>17620</th>\n",
       "      <td>32008D0914</td>\n",
       "      <td>18</td>\n",
       "      <td>commission decision of june on the confirmatio...</td>\n",
       "      <td>entscheidung der kommission juni zur bestatigu...</td>\n",
       "      <td>decisione della commissione dell giugno recant...</td>\n",
       "      <td>decyzja komisji z dnia czerwca r w sprawie zat...</td>\n",
       "      <td>kommissionens beslut av den juni om godkannand...</td>\n",
       "    </tr>\n",
       "    <tr>\n",
       "      <th>13434</th>\n",
       "      <td>31999R2502</td>\n",
       "      <td>18</td>\n",
       "      <td>commission regulation ec no of november amendi...</td>\n",
       "      <td>verordnung eg nr der kommission vom november z...</td>\n",
       "      <td>regolamento ce n della commissione del novembr...</td>\n",
       "      <td>rozporzadzenie komisji we nr z dnia listopada ...</td>\n",
       "      <td>kommissionens forordning eg nr av den november...</td>\n",
       "    </tr>\n",
       "    <tr>\n",
       "      <th>19018</th>\n",
       "      <td>32008D0847</td>\n",
       "      <td>18</td>\n",
       "      <td>council decision of november on the eligibilit...</td>\n",
       "      <td>beschluss des rates vom november uber die ford...</td>\n",
       "      <td>decisione del consiglio del novembre sull ammi...</td>\n",
       "      <td>decyzja rady z dnia listopada r w sprawie kwal...</td>\n",
       "      <td>radets beslut av den november om berattigande ...</td>\n",
       "    </tr>\n",
       "    <tr>\n",
       "      <th>30898</th>\n",
       "      <td>32011D0361</td>\n",
       "      <td>18</td>\n",
       "      <td>council decision cfsp of december on the signi...</td>\n",
       "      <td>beschluss gasp des rates vom dezember uber die...</td>\n",
       "      <td>decisione pesc del consiglio del dicembre rela...</td>\n",
       "      <td>decyzja rady wpzib z dnia grudnia r w sprawie ...</td>\n",
       "      <td>radets beslut gusp av den december om ingaende...</td>\n",
       "    </tr>\n",
       "  </tbody>\n",
       "</table>\n",
       "<p>6000 rows × 7 columns</p>\n",
       "</div>"
      ],
      "text/plain": [
       "         celex_id  labels                                            text_en  \\\n",
       "1353   32010D0395       2  commission decision of december on state aid c...   \n",
       "28193  32012R0453       2  commission implementing regulation eu no of ma...   \n",
       "28475  32012D0043       2  commission implementing decision of january au...   \n",
       "19060  32007R0730       2  commission regulation ec no of june establishi...   \n",
       "21514  32009R0375       2  commission regulation ec no of may fixing the ...   \n",
       "...           ...     ...                                                ...   \n",
       "27301  32013R0519      18  commission regulation eu no of february adapti...   \n",
       "17620  32008D0914      18  commission decision of june on the confirmatio...   \n",
       "13434  31999R2502      18  commission regulation ec no of november amendi...   \n",
       "19018  32008D0847      18  council decision of november on the eligibilit...   \n",
       "30898  32011D0361      18  council decision cfsp of december on the signi...   \n",
       "\n",
       "                                                 text_de  \\\n",
       "1353   beschluss der kommission vom dezember uber die...   \n",
       "28193  durchfuhrungsverordnung eu nr der kommission v...   \n",
       "28475  durchfuhrungsbeschluss der kommission vom janu...   \n",
       "19060  verordnung eg nr der kommission vom juni zur f...   \n",
       "21514  verordnung eg nr der kommission vom mai zur fe...   \n",
       "...                                                  ...   \n",
       "27301  verordnung eu nr der kommission vom februar zu...   \n",
       "17620  entscheidung der kommission juni zur bestatigu...   \n",
       "13434  verordnung eg nr der kommission vom november z...   \n",
       "19018  beschluss des rates vom november uber die ford...   \n",
       "30898  beschluss gasp des rates vom dezember uber die...   \n",
       "\n",
       "                                                 text_it  \\\n",
       "1353   decisione della commissione del dicembre conce...   \n",
       "28193  regolamento di esecuzione ue n della commissio...   \n",
       "28475  decisione di esecuzione della commissione del ...   \n",
       "19060  regolamento ce n della commissione del giugno ...   \n",
       "21514  regolamento ce n della commissione del maggio ...   \n",
       "...                                                  ...   \n",
       "27301  regolamento ue n della commissione del febbrai...   \n",
       "17620  decisione della commissione dell giugno recant...   \n",
       "13434  regolamento ce n della commissione del novembr...   \n",
       "19018  decisione del consiglio del novembre sull ammi...   \n",
       "30898  decisione pesc del consiglio del dicembre rela...   \n",
       "\n",
       "                                                 text_pl  \\\n",
       "1353   decyzja komisji z dnia grudnia r w sprawie pom...   \n",
       "28193  rozporzadzenie wykonawcze komisji ue nr z dnia...   \n",
       "28475  decyzja wykonawcza komisji z dnia stycznia r u...   \n",
       "19060  rozporzadzenie komisji we nr z dnia czerwca r ...   \n",
       "21514  rozporzadzenie komisji we nr z dnia maja r ust...   \n",
       "...                                                  ...   \n",
       "27301  rozporzadzenie komisji ue nr z dnia lutego r d...   \n",
       "17620  decyzja komisji z dnia czerwca r w sprawie zat...   \n",
       "13434  rozporzadzenie komisji we nr z dnia listopada ...   \n",
       "19018  decyzja rady z dnia listopada r w sprawie kwal...   \n",
       "30898  decyzja rady wpzib z dnia grudnia r w sprawie ...   \n",
       "\n",
       "                                                 text_sv  \n",
       "1353   kommissionens beslut av den december om det st...  \n",
       "28193  kommissionens genomforandeforordning eu nr av ...  \n",
       "28475  kommissionens genomforandebeslut av den januar...  \n",
       "19060  kommissionens forordning eg nr av den juni om ...  \n",
       "21514  kommissionens forordning eg nr av den maj om f...  \n",
       "...                                                  ...  \n",
       "27301  kommissionens forordning eu nr av den februari...  \n",
       "17620  kommissionens beslut av den juni om godkannand...  \n",
       "13434  kommissionens forordning eg nr av den november...  \n",
       "19018  radets beslut av den november om berattigande ...  \n",
       "30898  radets beslut gusp av den december om ingaende...  \n",
       "\n",
       "[6000 rows x 7 columns]"
      ]
     },
     "execution_count": 8,
     "metadata": {},
     "output_type": "execute_result"
    }
   ],
   "source": [
    "dataframe_class2 = reduced_dataframe.loc[reduced_dataframe[\"labels\"] == 2].sample(n=2000, random_state=42)\n",
    "dataframe_class3 = reduced_dataframe.loc[reduced_dataframe[\"labels\"] == 3].sample(n=2000, random_state=42) \n",
    "dataframe_class18 = reduced_dataframe.loc[reduced_dataframe[\"labels\"] == 18].sample(n=2000, random_state=42) \n",
    "\n",
    "reduced_dataframe = pd.concat([dataframe_class2, dataframe_class3, dataframe_class18])\n",
    "reduced_dataframe"
   ]
  },
  {
   "cell_type": "markdown",
   "metadata": {},
   "source": [
    "Let's see if everything worked correctly with a plot :)"
   ]
  },
  {
   "cell_type": "code",
   "execution_count": 10,
   "metadata": {},
   "outputs": [
    {
     "data": {
      "application/vnd.plotly.v1+json": {
       "config": {
        "plotlyServerURL": "https://plot.ly"
       },
       "data": [
        {
         "alignmentgroup": "True",
         "cliponaxis": false,
         "hovertemplate": "Label (first level)=%{x}<br>text_en=%{y}<extra></extra>",
         "legendgroup": "2",
         "marker": {
          "color": "#636efa",
          "pattern": {
           "shape": ""
          }
         },
         "name": "2",
         "offsetgroup": "2",
         "orientation": "v",
         "showlegend": true,
         "textangle": 0,
         "textposition": "outside",
         "texttemplate": "%{y}",
         "type": "bar",
         "x": [
          "2"
         ],
         "xaxis": "x",
         "y": [
          2000
         ],
         "yaxis": "y"
        },
        {
         "alignmentgroup": "True",
         "cliponaxis": false,
         "hovertemplate": "Label (first level)=%{x}<br>text_en=%{y}<extra></extra>",
         "legendgroup": "3",
         "marker": {
          "color": "#EF553B",
          "pattern": {
           "shape": ""
          }
         },
         "name": "3",
         "offsetgroup": "3",
         "orientation": "v",
         "showlegend": true,
         "textangle": 0,
         "textposition": "outside",
         "texttemplate": "%{y}",
         "type": "bar",
         "x": [
          "3"
         ],
         "xaxis": "x",
         "y": [
          2000
         ],
         "yaxis": "y"
        },
        {
         "alignmentgroup": "True",
         "cliponaxis": false,
         "hovertemplate": "Label (first level)=%{x}<br>text_en=%{y}<extra></extra>",
         "legendgroup": "18",
         "marker": {
          "color": "#00cc96",
          "pattern": {
           "shape": ""
          }
         },
         "name": "18",
         "offsetgroup": "18",
         "orientation": "v",
         "showlegend": true,
         "textangle": 0,
         "textposition": "outside",
         "texttemplate": "%{y}",
         "type": "bar",
         "x": [
          "18"
         ],
         "xaxis": "x",
         "y": [
          2000
         ],
         "yaxis": "y"
        }
       ],
       "layout": {
        "barmode": "relative",
        "height": 600,
        "legend": {
         "title": {
          "text": "Label (first level)"
         },
         "tracegroupgap": 0
        },
        "showlegend": false,
        "template": {
         "data": {
          "bar": [
           {
            "error_x": {
             "color": "#2a3f5f"
            },
            "error_y": {
             "color": "#2a3f5f"
            },
            "marker": {
             "line": {
              "color": "#E5ECF6",
              "width": 0.5
             },
             "pattern": {
              "fillmode": "overlay",
              "size": 10,
              "solidity": 0.2
             }
            },
            "type": "bar"
           }
          ],
          "barpolar": [
           {
            "marker": {
             "line": {
              "color": "#E5ECF6",
              "width": 0.5
             },
             "pattern": {
              "fillmode": "overlay",
              "size": 10,
              "solidity": 0.2
             }
            },
            "type": "barpolar"
           }
          ],
          "carpet": [
           {
            "aaxis": {
             "endlinecolor": "#2a3f5f",
             "gridcolor": "white",
             "linecolor": "white",
             "minorgridcolor": "white",
             "startlinecolor": "#2a3f5f"
            },
            "baxis": {
             "endlinecolor": "#2a3f5f",
             "gridcolor": "white",
             "linecolor": "white",
             "minorgridcolor": "white",
             "startlinecolor": "#2a3f5f"
            },
            "type": "carpet"
           }
          ],
          "choropleth": [
           {
            "colorbar": {
             "outlinewidth": 0,
             "ticks": ""
            },
            "type": "choropleth"
           }
          ],
          "contour": [
           {
            "colorbar": {
             "outlinewidth": 0,
             "ticks": ""
            },
            "colorscale": [
             [
              0,
              "#0d0887"
             ],
             [
              0.1111111111111111,
              "#46039f"
             ],
             [
              0.2222222222222222,
              "#7201a8"
             ],
             [
              0.3333333333333333,
              "#9c179e"
             ],
             [
              0.4444444444444444,
              "#bd3786"
             ],
             [
              0.5555555555555556,
              "#d8576b"
             ],
             [
              0.6666666666666666,
              "#ed7953"
             ],
             [
              0.7777777777777778,
              "#fb9f3a"
             ],
             [
              0.8888888888888888,
              "#fdca26"
             ],
             [
              1,
              "#f0f921"
             ]
            ],
            "type": "contour"
           }
          ],
          "contourcarpet": [
           {
            "colorbar": {
             "outlinewidth": 0,
             "ticks": ""
            },
            "type": "contourcarpet"
           }
          ],
          "heatmap": [
           {
            "colorbar": {
             "outlinewidth": 0,
             "ticks": ""
            },
            "colorscale": [
             [
              0,
              "#0d0887"
             ],
             [
              0.1111111111111111,
              "#46039f"
             ],
             [
              0.2222222222222222,
              "#7201a8"
             ],
             [
              0.3333333333333333,
              "#9c179e"
             ],
             [
              0.4444444444444444,
              "#bd3786"
             ],
             [
              0.5555555555555556,
              "#d8576b"
             ],
             [
              0.6666666666666666,
              "#ed7953"
             ],
             [
              0.7777777777777778,
              "#fb9f3a"
             ],
             [
              0.8888888888888888,
              "#fdca26"
             ],
             [
              1,
              "#f0f921"
             ]
            ],
            "type": "heatmap"
           }
          ],
          "heatmapgl": [
           {
            "colorbar": {
             "outlinewidth": 0,
             "ticks": ""
            },
            "colorscale": [
             [
              0,
              "#0d0887"
             ],
             [
              0.1111111111111111,
              "#46039f"
             ],
             [
              0.2222222222222222,
              "#7201a8"
             ],
             [
              0.3333333333333333,
              "#9c179e"
             ],
             [
              0.4444444444444444,
              "#bd3786"
             ],
             [
              0.5555555555555556,
              "#d8576b"
             ],
             [
              0.6666666666666666,
              "#ed7953"
             ],
             [
              0.7777777777777778,
              "#fb9f3a"
             ],
             [
              0.8888888888888888,
              "#fdca26"
             ],
             [
              1,
              "#f0f921"
             ]
            ],
            "type": "heatmapgl"
           }
          ],
          "histogram": [
           {
            "marker": {
             "pattern": {
              "fillmode": "overlay",
              "size": 10,
              "solidity": 0.2
             }
            },
            "type": "histogram"
           }
          ],
          "histogram2d": [
           {
            "colorbar": {
             "outlinewidth": 0,
             "ticks": ""
            },
            "colorscale": [
             [
              0,
              "#0d0887"
             ],
             [
              0.1111111111111111,
              "#46039f"
             ],
             [
              0.2222222222222222,
              "#7201a8"
             ],
             [
              0.3333333333333333,
              "#9c179e"
             ],
             [
              0.4444444444444444,
              "#bd3786"
             ],
             [
              0.5555555555555556,
              "#d8576b"
             ],
             [
              0.6666666666666666,
              "#ed7953"
             ],
             [
              0.7777777777777778,
              "#fb9f3a"
             ],
             [
              0.8888888888888888,
              "#fdca26"
             ],
             [
              1,
              "#f0f921"
             ]
            ],
            "type": "histogram2d"
           }
          ],
          "histogram2dcontour": [
           {
            "colorbar": {
             "outlinewidth": 0,
             "ticks": ""
            },
            "colorscale": [
             [
              0,
              "#0d0887"
             ],
             [
              0.1111111111111111,
              "#46039f"
             ],
             [
              0.2222222222222222,
              "#7201a8"
             ],
             [
              0.3333333333333333,
              "#9c179e"
             ],
             [
              0.4444444444444444,
              "#bd3786"
             ],
             [
              0.5555555555555556,
              "#d8576b"
             ],
             [
              0.6666666666666666,
              "#ed7953"
             ],
             [
              0.7777777777777778,
              "#fb9f3a"
             ],
             [
              0.8888888888888888,
              "#fdca26"
             ],
             [
              1,
              "#f0f921"
             ]
            ],
            "type": "histogram2dcontour"
           }
          ],
          "mesh3d": [
           {
            "colorbar": {
             "outlinewidth": 0,
             "ticks": ""
            },
            "type": "mesh3d"
           }
          ],
          "parcoords": [
           {
            "line": {
             "colorbar": {
              "outlinewidth": 0,
              "ticks": ""
             }
            },
            "type": "parcoords"
           }
          ],
          "pie": [
           {
            "automargin": true,
            "type": "pie"
           }
          ],
          "scatter": [
           {
            "fillpattern": {
             "fillmode": "overlay",
             "size": 10,
             "solidity": 0.2
            },
            "type": "scatter"
           }
          ],
          "scatter3d": [
           {
            "line": {
             "colorbar": {
              "outlinewidth": 0,
              "ticks": ""
             }
            },
            "marker": {
             "colorbar": {
              "outlinewidth": 0,
              "ticks": ""
             }
            },
            "type": "scatter3d"
           }
          ],
          "scattercarpet": [
           {
            "marker": {
             "colorbar": {
              "outlinewidth": 0,
              "ticks": ""
             }
            },
            "type": "scattercarpet"
           }
          ],
          "scattergeo": [
           {
            "marker": {
             "colorbar": {
              "outlinewidth": 0,
              "ticks": ""
             }
            },
            "type": "scattergeo"
           }
          ],
          "scattergl": [
           {
            "marker": {
             "colorbar": {
              "outlinewidth": 0,
              "ticks": ""
             }
            },
            "type": "scattergl"
           }
          ],
          "scattermapbox": [
           {
            "marker": {
             "colorbar": {
              "outlinewidth": 0,
              "ticks": ""
             }
            },
            "type": "scattermapbox"
           }
          ],
          "scatterpolar": [
           {
            "marker": {
             "colorbar": {
              "outlinewidth": 0,
              "ticks": ""
             }
            },
            "type": "scatterpolar"
           }
          ],
          "scatterpolargl": [
           {
            "marker": {
             "colorbar": {
              "outlinewidth": 0,
              "ticks": ""
             }
            },
            "type": "scatterpolargl"
           }
          ],
          "scatterternary": [
           {
            "marker": {
             "colorbar": {
              "outlinewidth": 0,
              "ticks": ""
             }
            },
            "type": "scatterternary"
           }
          ],
          "surface": [
           {
            "colorbar": {
             "outlinewidth": 0,
             "ticks": ""
            },
            "colorscale": [
             [
              0,
              "#0d0887"
             ],
             [
              0.1111111111111111,
              "#46039f"
             ],
             [
              0.2222222222222222,
              "#7201a8"
             ],
             [
              0.3333333333333333,
              "#9c179e"
             ],
             [
              0.4444444444444444,
              "#bd3786"
             ],
             [
              0.5555555555555556,
              "#d8576b"
             ],
             [
              0.6666666666666666,
              "#ed7953"
             ],
             [
              0.7777777777777778,
              "#fb9f3a"
             ],
             [
              0.8888888888888888,
              "#fdca26"
             ],
             [
              1,
              "#f0f921"
             ]
            ],
            "type": "surface"
           }
          ],
          "table": [
           {
            "cells": {
             "fill": {
              "color": "#EBF0F8"
             },
             "line": {
              "color": "white"
             }
            },
            "header": {
             "fill": {
              "color": "#C8D4E3"
             },
             "line": {
              "color": "white"
             }
            },
            "type": "table"
           }
          ]
         },
         "layout": {
          "annotationdefaults": {
           "arrowcolor": "#2a3f5f",
           "arrowhead": 0,
           "arrowwidth": 1
          },
          "autotypenumbers": "strict",
          "coloraxis": {
           "colorbar": {
            "outlinewidth": 0,
            "ticks": ""
           }
          },
          "colorscale": {
           "diverging": [
            [
             0,
             "#8e0152"
            ],
            [
             0.1,
             "#c51b7d"
            ],
            [
             0.2,
             "#de77ae"
            ],
            [
             0.3,
             "#f1b6da"
            ],
            [
             0.4,
             "#fde0ef"
            ],
            [
             0.5,
             "#f7f7f7"
            ],
            [
             0.6,
             "#e6f5d0"
            ],
            [
             0.7,
             "#b8e186"
            ],
            [
             0.8,
             "#7fbc41"
            ],
            [
             0.9,
             "#4d9221"
            ],
            [
             1,
             "#276419"
            ]
           ],
           "sequential": [
            [
             0,
             "#0d0887"
            ],
            [
             0.1111111111111111,
             "#46039f"
            ],
            [
             0.2222222222222222,
             "#7201a8"
            ],
            [
             0.3333333333333333,
             "#9c179e"
            ],
            [
             0.4444444444444444,
             "#bd3786"
            ],
            [
             0.5555555555555556,
             "#d8576b"
            ],
            [
             0.6666666666666666,
             "#ed7953"
            ],
            [
             0.7777777777777778,
             "#fb9f3a"
            ],
            [
             0.8888888888888888,
             "#fdca26"
            ],
            [
             1,
             "#f0f921"
            ]
           ],
           "sequentialminus": [
            [
             0,
             "#0d0887"
            ],
            [
             0.1111111111111111,
             "#46039f"
            ],
            [
             0.2222222222222222,
             "#7201a8"
            ],
            [
             0.3333333333333333,
             "#9c179e"
            ],
            [
             0.4444444444444444,
             "#bd3786"
            ],
            [
             0.5555555555555556,
             "#d8576b"
            ],
            [
             0.6666666666666666,
             "#ed7953"
            ],
            [
             0.7777777777777778,
             "#fb9f3a"
            ],
            [
             0.8888888888888888,
             "#fdca26"
            ],
            [
             1,
             "#f0f921"
            ]
           ]
          },
          "colorway": [
           "#636efa",
           "#EF553B",
           "#00cc96",
           "#ab63fa",
           "#FFA15A",
           "#19d3f3",
           "#FF6692",
           "#B6E880",
           "#FF97FF",
           "#FECB52"
          ],
          "font": {
           "color": "#2a3f5f"
          },
          "geo": {
           "bgcolor": "white",
           "lakecolor": "white",
           "landcolor": "#E5ECF6",
           "showlakes": true,
           "showland": true,
           "subunitcolor": "white"
          },
          "hoverlabel": {
           "align": "left"
          },
          "hovermode": "closest",
          "mapbox": {
           "style": "light"
          },
          "paper_bgcolor": "white",
          "plot_bgcolor": "#E5ECF6",
          "polar": {
           "angularaxis": {
            "gridcolor": "white",
            "linecolor": "white",
            "ticks": ""
           },
           "bgcolor": "#E5ECF6",
           "radialaxis": {
            "gridcolor": "white",
            "linecolor": "white",
            "ticks": ""
           }
          },
          "scene": {
           "xaxis": {
            "backgroundcolor": "#E5ECF6",
            "gridcolor": "white",
            "gridwidth": 2,
            "linecolor": "white",
            "showbackground": true,
            "ticks": "",
            "zerolinecolor": "white"
           },
           "yaxis": {
            "backgroundcolor": "#E5ECF6",
            "gridcolor": "white",
            "gridwidth": 2,
            "linecolor": "white",
            "showbackground": true,
            "ticks": "",
            "zerolinecolor": "white"
           },
           "zaxis": {
            "backgroundcolor": "#E5ECF6",
            "gridcolor": "white",
            "gridwidth": 2,
            "linecolor": "white",
            "showbackground": true,
            "ticks": "",
            "zerolinecolor": "white"
           }
          },
          "shapedefaults": {
           "line": {
            "color": "#2a3f5f"
           }
          },
          "ternary": {
           "aaxis": {
            "gridcolor": "white",
            "linecolor": "white",
            "ticks": ""
           },
           "baxis": {
            "gridcolor": "white",
            "linecolor": "white",
            "ticks": ""
           },
           "bgcolor": "#E5ECF6",
           "caxis": {
            "gridcolor": "white",
            "linecolor": "white",
            "ticks": ""
           }
          },
          "title": {
           "x": 0.05
          },
          "xaxis": {
           "automargin": true,
           "gridcolor": "white",
           "linecolor": "white",
           "ticks": "",
           "title": {
            "standoff": 15
           },
           "zerolinecolor": "white",
           "zerolinewidth": 2
          },
          "yaxis": {
           "automargin": true,
           "gridcolor": "white",
           "linecolor": "white",
           "ticks": "",
           "title": {
            "standoff": 15
           },
           "zerolinecolor": "white",
           "zerolinewidth": 2
          }
         }
        },
        "title": {
         "text": "Number of Texts for each Label<br><sup>Total Classes: 3<sup>"
        },
        "width": 1400,
        "xaxis": {
         "anchor": "y",
         "categoryarray": [
          "2",
          "3",
          "18"
         ],
         "categoryorder": "array",
         "domain": [
          0,
          1
         ],
         "tickangle": -45,
         "title": {
          "text": "Label (first level)"
         }
        },
        "yaxis": {
         "anchor": "x",
         "domain": [
          0,
          1
         ],
         "title": {
          "text": "text_en"
         }
        }
       }
      }
     },
     "metadata": {},
     "output_type": "display_data"
    }
   ],
   "source": [
    "# create plot\n",
    "barplot = create_obs_per_classes_barplot(\n",
    "    df = reduced_dataframe,\n",
    "    width = 1400, \n",
    "    height = 600, \n",
    "    title = \"Number of Texts for each Label<br><sup>Total Classes: 3<sup>\"\n",
    "    )"
   ]
  },
  {
   "cell_type": "markdown",
   "metadata": {},
   "source": [
    "#### **Re-map classes**\n",
    "\n",
    "In order not to have errors during training, it is necessary to remap the label names (so that they go from 0 to 11)."
   ]
  },
  {
   "cell_type": "markdown",
   "metadata": {},
   "source": [
    "As we already did before, we can simply apply a custom function."
   ]
  },
  {
   "cell_type": "code",
   "execution_count": 11,
   "metadata": {},
   "outputs": [],
   "source": [
    "# Reduced to 4 classes (> 2000 occurrences, class 3 excluded)\n",
    "def map_old_labels_to_new_labels(label):\n",
    "\n",
    "    if label == 2:\n",
    "        return 0\n",
    "    elif label == 3:\n",
    "        return 1\n",
    "    elif label == 18:\n",
    "        return 2\n",
    "    else:\n",
    "        return label"
   ]
  },
  {
   "cell_type": "code",
   "execution_count": 12,
   "metadata": {},
   "outputs": [
    {
     "name": "stderr",
     "output_type": "stream",
     "text": [
      "100%|██████████| 6000/6000 [00:00<00:00, 858813.91it/s]\n"
     ]
    },
    {
     "data": {
      "text/plain": [
       "{0, 1, 2}"
      ]
     },
     "execution_count": 12,
     "metadata": {},
     "output_type": "execute_result"
    }
   ],
   "source": [
    "# turn off pandas warning\n",
    "pd.options.mode.chained_assignment = None\n",
    "\n",
    "# apply the function\n",
    "reduced_dataframe[\"labels_new\"] = reduced_dataframe[\"labels\"].progress_apply(map_old_labels_to_new_labels)\n",
    "\n",
    "# explore results\n",
    "set(reduced_dataframe[\"labels_new\"])"
   ]
  },
  {
   "cell_type": "markdown",
   "metadata": {},
   "source": [
    "**2. How many words in each text?**"
   ]
  },
  {
   "cell_type": "code",
   "execution_count": 13,
   "metadata": {},
   "outputs": [
    {
     "name": "stdout",
     "output_type": "stream",
     "text": [
      "> Average number of words in 'en' texts: 1064\n",
      "> Average number of words in 'de' texts: 950\n",
      "> Average number of words in 'it' texts: 1101\n",
      "> Average number of words in 'pl' texts: 918\n",
      "> Average number of words in 'sv' texts: 933\n"
     ]
    }
   ],
   "source": [
    "text_cols = [\"text_en\", \"text_de\", \"text_it\", \"text_pl\", \"text_sv\"]\n",
    "\n",
    "for col in text_cols:\n",
    "\n",
    "    # obtain the number of words in each text\n",
    "    reduced_dataframe[col + \"_len\"] = reduced_dataframe[col].apply(lambda x: len(x.split()))\n",
    "    \n",
    "    # calculate its mean\n",
    "    temp_mean = np.mean(reduced_dataframe[col + \"_len\"])\n",
    "\n",
    "    # print res\n",
    "    print(f\"> Average number of words in '{col[-2:]}' texts: {round(temp_mean)}\")"
   ]
  },
  {
   "cell_type": "markdown",
   "metadata": {},
   "source": [
    "The average number of words in the texts is around 1200-1400. We will need this information in the tokenization and embedding phase."
   ]
  },
  {
   "cell_type": "markdown",
   "metadata": {},
   "source": [
    "#### **Save the changes**\n",
    "\n",
    "Finally, we can save this final version of the dataset and train some networks!"
   ]
  },
  {
   "cell_type": "code",
   "execution_count": 15,
   "metadata": {},
   "outputs": [
    {
     "name": "stdout",
     "output_type": "stream",
     "text": [
      "> All done!\n"
     ]
    }
   ],
   "source": [
    "# reorder columns\n",
    "reduced_dataframe = reduced_dataframe[[\"celex_id\", \"labels\", \"labels_new\", \"text_en\", \"text_de\", \"text_it\", \"text_pl\", \"text_sv\"]]\n",
    "\n",
    "reduced_dataframe.to_csv(\"../data/2_multi_eurlex_reduced.csv\", index=False)\n",
    "print(\"> All done!\")"
   ]
  }
 ],
 "metadata": {
  "interpreter": {
   "hash": "455534d435f7de67bc0026f9ceba702b21954bd7ad83505586b95ef58f556ae5"
  },
  "kernelspec": {
   "display_name": "Python 3.9.12 ('NLP_2022')",
   "language": "python",
   "name": "python3"
  },
  "language_info": {
   "codemirror_mode": {
    "name": "ipython",
    "version": 3
   },
   "file_extension": ".py",
   "mimetype": "text/x-python",
   "name": "python",
   "nbconvert_exporter": "python",
   "pygments_lexer": "ipython3",
   "version": "3.9.12"
  },
  "orig_nbformat": 4
 },
 "nbformat": 4,
 "nbformat_minor": 2
}
