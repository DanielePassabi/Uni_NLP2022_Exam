{
 "cells": [
  {
   "cell_type": "markdown",
   "metadata": {},
   "source": [
    "## **Introduction to ML for NLP [Network + Practical]**\n",
    "\n",
    "### **LSTM**\n",
    "\n",
    "It is now time to train our first Recurrent Neural Nework."
   ]
  },
  {
   "cell_type": "markdown",
   "metadata": {},
   "source": [
    "#### **Libraries**\n",
    "\n",
    "We import the necessary libraries for the notebook."
   ]
  },
  {
   "cell_type": "code",
   "execution_count": 1,
   "metadata": {},
   "outputs": [
    {
     "name": "stdout",
     "output_type": "stream",
     "text": [
      "> Libraries Imported\n"
     ]
    }
   ],
   "source": [
    "# general\n",
    "import pandas as pd\n",
    "from tqdm import tqdm\n",
    "tqdm.pandas()\n",
    "\n",
    "# pytorch\n",
    "import torch\n",
    "\n",
    "# custom imports\n",
    "from utility.models_pytorch import PytorchModel\n",
    "from utility.dataviz import plot_model_fit_loss, plot_classes_accuracy\n",
    "\n",
    "print(\"> Libraries Imported\")"
   ]
  },
  {
   "cell_type": "markdown",
   "metadata": {},
   "source": [
    "#### **Setup**\n",
    "\n",
    "- We set the device to *cuda*\n",
    "- We import the dataset"
   ]
  },
  {
   "cell_type": "code",
   "execution_count": 2,
   "metadata": {},
   "outputs": [
    {
     "name": "stdout",
     "output_type": "stream",
     "text": [
      "> Device: cuda\n"
     ]
    }
   ],
   "source": [
    "# Device configuration\n",
    "device = torch.device('cuda' if torch.cuda.is_available() else 'cpu')\n",
    "\n",
    "print(\"> Device:\", device)"
   ]
  },
  {
   "cell_type": "code",
   "execution_count": 3,
   "metadata": {},
   "outputs": [
    {
     "data": {
      "text/html": [
       "<div>\n",
       "<style scoped>\n",
       "    .dataframe tbody tr th:only-of-type {\n",
       "        vertical-align: middle;\n",
       "    }\n",
       "\n",
       "    .dataframe tbody tr th {\n",
       "        vertical-align: top;\n",
       "    }\n",
       "\n",
       "    .dataframe thead th {\n",
       "        text-align: right;\n",
       "    }\n",
       "</style>\n",
       "<table border=\"1\" class=\"dataframe\">\n",
       "  <thead>\n",
       "    <tr style=\"text-align: right;\">\n",
       "      <th></th>\n",
       "      <th>celex_id</th>\n",
       "      <th>labels</th>\n",
       "      <th>labels_new</th>\n",
       "      <th>text_en</th>\n",
       "      <th>text_de</th>\n",
       "      <th>text_it</th>\n",
       "      <th>text_pl</th>\n",
       "      <th>text_sv</th>\n",
       "      <th>text_en_enc</th>\n",
       "      <th>text_de_enc</th>\n",
       "      <th>text_it_enc</th>\n",
       "      <th>text_pl_enc</th>\n",
       "      <th>text_sv_enc</th>\n",
       "      <th>set</th>\n",
       "    </tr>\n",
       "  </thead>\n",
       "  <tbody>\n",
       "    <tr>\n",
       "      <th>0</th>\n",
       "      <td>32010D0395</td>\n",
       "      <td>2</td>\n",
       "      <td>0</td>\n",
       "      <td>commission decision of december on state aid c...</td>\n",
       "      <td>beschluss der kommission vom dezember uber die...</td>\n",
       "      <td>decisione della commissione del dicembre conce...</td>\n",
       "      <td>decyzja komisji z dnia grudnia r w sprawie pom...</td>\n",
       "      <td>kommissionens beslut av den december om det st...</td>\n",
       "      <td>[[2, 3, 4, 5, 6, 7, 8, 9, 10, 11, 12, 13, 14, ...</td>\n",
       "      <td>[[2, 3, 4, 5, 6, 7, 8, 9, 10, 11, 12, 13, 14, ...</td>\n",
       "      <td>[[2, 3, 4, 5, 6, 7, 8, 9, 10, 11, 12, 13, 14, ...</td>\n",
       "      <td>[[2, 3, 4, 5, 6, 7, 8, 9, 10, 11, 12, 13, 14, ...</td>\n",
       "      <td>[[2, 3, 4, 5, 6, 7, 8, 9, 10, 11, 12, 13, 14, ...</td>\n",
       "      <td>train</td>\n",
       "    </tr>\n",
       "    <tr>\n",
       "      <th>1</th>\n",
       "      <td>32012R0453</td>\n",
       "      <td>2</td>\n",
       "      <td>0</td>\n",
       "      <td>commission implementing regulation eu no of ma...</td>\n",
       "      <td>durchfuhrungsverordnung eu nr der kommission v...</td>\n",
       "      <td>regolamento di esecuzione ue n della commissio...</td>\n",
       "      <td>rozporzadzenie wykonawcze komisji ue nr z dnia...</td>\n",
       "      <td>kommissionens genomforandeforordning eu nr av ...</td>\n",
       "      <td>[[2, 1275, 1276, 29, 100, 4, 743, 1277, 15, 12...</td>\n",
       "      <td>[[1302, 33, 1303, 3, 4, 5, 807, 15, 1304, 3, 6...</td>\n",
       "      <td>[[453, 10, 1422, 38, 14, 3, 4, 5, 990, 1423, 1...</td>\n",
       "      <td>[[1753, 1754, 3, 34, 24, 4, 5, 829, 7, 1755, 9...</td>\n",
       "      <td>[[2, 1239, 33, 23, 4, 5, 806, 7, 774, 4, 132, ...</td>\n",
       "      <td>train</td>\n",
       "    </tr>\n",
       "    <tr>\n",
       "      <th>2</th>\n",
       "      <td>32012D0043</td>\n",
       "      <td>2</td>\n",
       "      <td>0</td>\n",
       "      <td>commission implementing decision of january au...</td>\n",
       "      <td>durchfuhrungsbeschluss der kommission vom janu...</td>\n",
       "      <td>decisione di esecuzione della commissione del ...</td>\n",
       "      <td>decyzja wykonawcza komisji z dnia stycznia r u...</td>\n",
       "      <td>kommissionens genomforandebeslut av den januar...</td>\n",
       "      <td>[[2, 1275, 3, 4, 1310, 1311, 15, 1015, 4, 1312...</td>\n",
       "      <td>[[1344, 3, 4, 5, 1345, 15, 1346, 74, 1347, 134...</td>\n",
       "      <td>[[2, 10, 1422, 3, 4, 5, 1454, 245, 1455, 24, 1...</td>\n",
       "      <td>[[2, 1791, 3, 4, 5, 1792, 7, 1, 1793, 1794, 65...</td>\n",
       "      <td>[[2, 1279, 4, 5, 1280, 7, 1281, 19, 1282, 1283...</td>\n",
       "      <td>train</td>\n",
       "    </tr>\n",
       "  </tbody>\n",
       "</table>\n",
       "</div>"
      ],
      "text/plain": [
       "     celex_id  labels  labels_new  \\\n",
       "0  32010D0395       2           0   \n",
       "1  32012R0453       2           0   \n",
       "2  32012D0043       2           0   \n",
       "\n",
       "                                             text_en  \\\n",
       "0  commission decision of december on state aid c...   \n",
       "1  commission implementing regulation eu no of ma...   \n",
       "2  commission implementing decision of january au...   \n",
       "\n",
       "                                             text_de  \\\n",
       "0  beschluss der kommission vom dezember uber die...   \n",
       "1  durchfuhrungsverordnung eu nr der kommission v...   \n",
       "2  durchfuhrungsbeschluss der kommission vom janu...   \n",
       "\n",
       "                                             text_it  \\\n",
       "0  decisione della commissione del dicembre conce...   \n",
       "1  regolamento di esecuzione ue n della commissio...   \n",
       "2  decisione di esecuzione della commissione del ...   \n",
       "\n",
       "                                             text_pl  \\\n",
       "0  decyzja komisji z dnia grudnia r w sprawie pom...   \n",
       "1  rozporzadzenie wykonawcze komisji ue nr z dnia...   \n",
       "2  decyzja wykonawcza komisji z dnia stycznia r u...   \n",
       "\n",
       "                                             text_sv  \\\n",
       "0  kommissionens beslut av den december om det st...   \n",
       "1  kommissionens genomforandeforordning eu nr av ...   \n",
       "2  kommissionens genomforandebeslut av den januar...   \n",
       "\n",
       "                                         text_en_enc  \\\n",
       "0  [[2, 3, 4, 5, 6, 7, 8, 9, 10, 11, 12, 13, 14, ...   \n",
       "1  [[2, 1275, 1276, 29, 100, 4, 743, 1277, 15, 12...   \n",
       "2  [[2, 1275, 3, 4, 1310, 1311, 15, 1015, 4, 1312...   \n",
       "\n",
       "                                         text_de_enc  \\\n",
       "0  [[2, 3, 4, 5, 6, 7, 8, 9, 10, 11, 12, 13, 14, ...   \n",
       "1  [[1302, 33, 1303, 3, 4, 5, 807, 15, 1304, 3, 6...   \n",
       "2  [[1344, 3, 4, 5, 1345, 15, 1346, 74, 1347, 134...   \n",
       "\n",
       "                                         text_it_enc  \\\n",
       "0  [[2, 3, 4, 5, 6, 7, 8, 9, 10, 11, 12, 13, 14, ...   \n",
       "1  [[453, 10, 1422, 38, 14, 3, 4, 5, 990, 1423, 1...   \n",
       "2  [[2, 10, 1422, 3, 4, 5, 1454, 245, 1455, 24, 1...   \n",
       "\n",
       "                                         text_pl_enc  \\\n",
       "0  [[2, 3, 4, 5, 6, 7, 8, 9, 10, 11, 12, 13, 14, ...   \n",
       "1  [[1753, 1754, 3, 34, 24, 4, 5, 829, 7, 1755, 9...   \n",
       "2  [[2, 1791, 3, 4, 5, 1792, 7, 1, 1793, 1794, 65...   \n",
       "\n",
       "                                         text_sv_enc    set  \n",
       "0  [[2, 3, 4, 5, 6, 7, 8, 9, 10, 11, 12, 13, 14, ...  train  \n",
       "1  [[2, 1239, 33, 23, 4, 5, 806, 7, 774, 4, 132, ...  train  \n",
       "2  [[2, 1279, 4, 5, 1280, 7, 1281, 19, 1282, 1283...  train  "
      ]
     },
     "execution_count": 3,
     "metadata": {},
     "output_type": "execute_result"
    }
   ],
   "source": [
    "dataframe = pd.read_pickle(\"data/3_multi_eurlex_encoded.pkl\")\n",
    "dataframe.head(3)"
   ]
  },
  {
   "cell_type": "markdown",
   "metadata": {},
   "source": [
    "#### **LSTM**"
   ]
  },
  {
   "cell_type": "markdown",
   "metadata": {},
   "source": [
    "**Instantiate a Pytorch Model**\n",
    "\n",
    "We use our custom class PytorchModel to train a LSTM."
   ]
  },
  {
   "cell_type": "code",
   "execution_count": 4,
   "metadata": {},
   "outputs": [],
   "source": [
    "COUNTS_EN = 3506\n",
    "COUNTS_DE = 4216\n",
    "COUNTS_IT = 4180\n",
    "COUNTS_PL = 5255\n",
    "COUNTS_SV = 4010"
   ]
  },
  {
   "cell_type": "code",
   "execution_count": 5,
   "metadata": {},
   "outputs": [
    {
     "name": "stdout",
     "output_type": "stream",
     "text": [
      "> Parameters imported for CNN_fixed\n",
      "> Dataset correctly divided in training set, validation set and test set\n",
      "> Created Pytorch datasets and dataloaders\n",
      "> Initialization required 0.1297 seconds\n"
     ]
    }
   ],
   "source": [
    "CNN_MODEL = PytorchModel(\n",
    "\n",
    "    # set model and text language\n",
    "    model_type      = \"CNN_fixed\",\n",
    "    dataset         = dataframe,\n",
    "    language        = \"en\",\n",
    "\n",
    "    # set device, bacth size and epochs\n",
    "    device          = device,\n",
    "    batch_size      = 64,\n",
    "    epochs          = 50,\n",
    "\n",
    "    # set general hyperparameters\n",
    "    learning_rate   = 0.001,\n",
    "\n",
    "    # set specific hyperparameters\n",
    "    vocab_size      = COUNTS_EN,\n",
    "    embedding_dim   = 1024,\n",
    "    out_channels    = 1,\n",
    "    kernel_size     = 5,\n",
    "    stride          = 1,\n",
    "    padding         = 2,\n",
    "    dropout_p       = 0.1,\n",
    ")"
   ]
  },
  {
   "cell_type": "markdown",
   "metadata": {},
   "source": [
    "**Train the model**\n",
    "\n",
    "We can now train the model.\n",
    "\n",
    "The method will evaluate the performance of the model for each epoch."
   ]
  },
  {
   "cell_type": "code",
   "execution_count": 6,
   "metadata": {},
   "outputs": [
    {
     "name": "stdout",
     "output_type": "stream",
     "text": [
      "==================================================================================\n",
      "> Training Started\n",
      "  - Total Epochs: 50\n",
      "==================================================================================\n"
     ]
    },
    {
     "name": "stderr",
     "output_type": "stream",
     "text": [
      "> Epoch 1: 100%|██████████| 60/60 [00:03<00:00, 19.16it/s]\n"
     ]
    },
    {
     "name": "stdout",
     "output_type": "stream",
     "text": [
      " - Training Loss        0.9773\n",
      " - Validation Loss      0.8618\n",
      " - Validation Accuracy  0.699\n",
      "\n",
      " - Validation Accuracy (per class)\n",
      "   * Class 0\t 0.4985 [169 out of 339]\n",
      "   * Class 1\t 0.901 [282 out of 313]\n",
      "   * Class 2\t 0.7143 [220 out of 308]\n",
      "   * Mean        0.7046\n",
      "\n",
      "> ATTENTION: epoch 1 was the best one so far! The model has been saved :)\n",
      "\n",
      "==================================================================================\n"
     ]
    },
    {
     "name": "stderr",
     "output_type": "stream",
     "text": [
      "> Epoch 2: 100%|██████████| 60/60 [00:01<00:00, 57.20it/s]\n"
     ]
    },
    {
     "name": "stdout",
     "output_type": "stream",
     "text": [
      " - Training Loss        0.8297\n",
      " - Validation Loss      0.796\n",
      " - Validation Accuracy  0.7438\n",
      "\n",
      " - Validation Accuracy (per class)\n",
      "   * Class 0\t 0.5428 [184 out of 339]\n",
      "   * Class 1\t 0.8435 [264 out of 313]\n",
      "   * Class 2\t 0.8636 [266 out of 308]\n",
      "   * Mean        0.75\n",
      "\n",
      "> ATTENTION: epoch 2 was the best one so far! The model has been saved :)\n",
      "\n",
      "==================================================================================\n"
     ]
    },
    {
     "name": "stderr",
     "output_type": "stream",
     "text": [
      "> Epoch 3: 100%|██████████| 60/60 [00:01<00:00, 58.14it/s]\n"
     ]
    },
    {
     "name": "stdout",
     "output_type": "stream",
     "text": [
      " - Training Loss        0.7731\n",
      " - Validation Loss      0.7513\n",
      " - Validation Accuracy  0.7917\n",
      "\n",
      " - Validation Accuracy (per class)\n",
      "   * Class 0\t 0.6578 [223 out of 339]\n",
      "   * Class 1\t 0.8978 [281 out of 313]\n",
      "   * Class 2\t 0.8312 [256 out of 308]\n",
      "   * Mean        0.7956\n",
      "\n",
      "> ATTENTION: epoch 3 was the best one so far! The model has been saved :)\n",
      "\n",
      "==================================================================================\n"
     ]
    },
    {
     "name": "stderr",
     "output_type": "stream",
     "text": [
      "> Epoch 4: 100%|██████████| 60/60 [00:01<00:00, 59.71it/s]\n"
     ]
    },
    {
     "name": "stdout",
     "output_type": "stream",
     "text": [
      " - Training Loss        0.7183\n",
      " - Validation Loss      0.7319\n",
      " - Validation Accuracy  0.8323\n",
      "\n",
      " - Validation Accuracy (per class)\n",
      "   * Class 0\t 0.7906 [268 out of 339]\n",
      "   * Class 1\t 0.9169 [287 out of 313]\n",
      "   * Class 2\t 0.7922 [244 out of 308]\n",
      "   * Mean        0.8332\n",
      "\n",
      "> ATTENTION: epoch 4 was the best one so far! The model has been saved :)\n",
      "\n",
      "==================================================================================\n"
     ]
    },
    {
     "name": "stderr",
     "output_type": "stream",
     "text": [
      "> Epoch 5: 100%|██████████| 60/60 [00:01<00:00, 59.09it/s]\n"
     ]
    },
    {
     "name": "stdout",
     "output_type": "stream",
     "text": [
      " - Training Loss        0.6977\n",
      " - Validation Loss      0.6992\n",
      " - Validation Accuracy  0.8417\n",
      "\n",
      " - Validation Accuracy (per class)\n",
      "   * Class 0\t 0.8024 [272 out of 339]\n",
      "   * Class 1\t 0.8786 [275 out of 313]\n",
      "   * Class 2\t 0.8474 [261 out of 308]\n",
      "   * Mean        0.8428\n",
      "\n",
      "> ATTENTION: epoch 5 was the best one so far! The model has been saved :)\n",
      "\n",
      "==================================================================================\n"
     ]
    },
    {
     "name": "stderr",
     "output_type": "stream",
     "text": [
      "> Epoch 6: 100%|██████████| 60/60 [00:01<00:00, 58.08it/s]\n"
     ]
    },
    {
     "name": "stdout",
     "output_type": "stream",
     "text": [
      " - Training Loss        0.6874\n",
      " - Validation Loss      0.7277\n",
      " - Validation Accuracy  0.8302\n",
      "\n",
      " - Validation Accuracy (per class)\n",
      "   * Class 0\t 0.9174 [311 out of 339]\n",
      "   * Class 1\t 0.8786 [275 out of 313]\n",
      "   * Class 2\t 0.6851 [211 out of 308]\n",
      "   * Mean        0.827\n",
      "\n",
      "==================================================================================\n"
     ]
    },
    {
     "name": "stderr",
     "output_type": "stream",
     "text": [
      "> Epoch 7: 100%|██████████| 60/60 [00:01<00:00, 56.92it/s]\n"
     ]
    },
    {
     "name": "stdout",
     "output_type": "stream",
     "text": [
      " - Training Loss        0.6847\n",
      " - Validation Loss      0.7339\n",
      " - Validation Accuracy  0.8146\n",
      "\n",
      " - Validation Accuracy (per class)\n",
      "   * Class 0\t 0.8289 [281 out of 339]\n",
      "   * Class 1\t 0.6677 [209 out of 313]\n",
      "   * Class 2\t 0.9481 [292 out of 308]\n",
      "   * Mean        0.8149\n",
      "\n",
      "==================================================================================\n"
     ]
    },
    {
     "name": "stderr",
     "output_type": "stream",
     "text": [
      "> Epoch 8: 100%|██████████| 60/60 [00:01<00:00, 57.96it/s]\n"
     ]
    },
    {
     "name": "stdout",
     "output_type": "stream",
     "text": [
      " - Training Loss        0.6665\n",
      " - Validation Loss      0.6862\n",
      " - Validation Accuracy  0.8573\n",
      "\n",
      " - Validation Accuracy (per class)\n",
      "   * Class 0\t 0.8761 [297 out of 339]\n",
      "   * Class 1\t 0.8722 [273 out of 313]\n",
      "   * Class 2\t 0.8214 [253 out of 308]\n",
      "   * Mean        0.8566\n",
      "\n",
      "> ATTENTION: epoch 8 was the best one so far! The model has been saved :)\n",
      "\n",
      "==================================================================================\n"
     ]
    },
    {
     "name": "stderr",
     "output_type": "stream",
     "text": [
      "> Epoch 9: 100%|██████████| 60/60 [00:01<00:00, 59.89it/s]\n"
     ]
    },
    {
     "name": "stdout",
     "output_type": "stream",
     "text": [
      " - Training Loss        0.6637\n",
      " - Validation Loss      0.7013\n",
      " - Validation Accuracy  0.8656\n",
      "\n",
      " - Validation Accuracy (per class)\n",
      "   * Class 0\t 0.8525 [289 out of 339]\n",
      "   * Class 1\t 0.8658 [271 out of 313]\n",
      "   * Class 2\t 0.8799 [271 out of 308]\n",
      "   * Mean        0.8661\n",
      "\n",
      "> ATTENTION: epoch 9 was the best one so far! The model has been saved :)\n",
      "\n",
      "==================================================================================\n"
     ]
    },
    {
     "name": "stderr",
     "output_type": "stream",
     "text": [
      "> Epoch 10: 100%|██████████| 60/60 [00:01<00:00, 60.00it/s]\n"
     ]
    },
    {
     "name": "stdout",
     "output_type": "stream",
     "text": [
      " - Training Loss        0.6614\n",
      " - Validation Loss      0.6767\n",
      " - Validation Accuracy  0.8698\n",
      "\n",
      " - Validation Accuracy (per class)\n",
      "   * Class 0\t 0.9027 [306 out of 339]\n",
      "   * Class 1\t 0.869 [272 out of 313]\n",
      "   * Class 2\t 0.8344 [257 out of 308]\n",
      "   * Mean        0.8687\n",
      "\n",
      "> ATTENTION: epoch 10 was the best one so far! The model has been saved :)\n",
      "\n",
      "==================================================================================\n"
     ]
    },
    {
     "name": "stderr",
     "output_type": "stream",
     "text": [
      "> Epoch 11: 100%|██████████| 60/60 [00:00<00:00, 60.05it/s]\n"
     ]
    },
    {
     "name": "stdout",
     "output_type": "stream",
     "text": [
      " - Training Loss        0.6669\n",
      " - Validation Loss      0.7302\n",
      " - Validation Accuracy  0.8115\n",
      "\n",
      " - Validation Accuracy (per class)\n",
      "   * Class 0\t 0.7817 [265 out of 339]\n",
      "   * Class 1\t 0.7029 [220 out of 313]\n",
      "   * Class 2\t 0.9545 [294 out of 308]\n",
      "   * Mean        0.813\n",
      "\n",
      "==================================================================================\n"
     ]
    },
    {
     "name": "stderr",
     "output_type": "stream",
     "text": [
      "> Epoch 12: 100%|██████████| 60/60 [00:01<00:00, 59.72it/s]\n"
     ]
    },
    {
     "name": "stdout",
     "output_type": "stream",
     "text": [
      " - Training Loss        0.6662\n",
      " - Validation Loss      0.7125\n",
      " - Validation Accuracy  0.8427\n",
      "\n",
      " - Validation Accuracy (per class)\n",
      "   * Class 0\t 0.8525 [289 out of 339]\n",
      "   * Class 1\t 0.722 [226 out of 313]\n",
      "   * Class 2\t 0.9545 [294 out of 308]\n",
      "   * Mean        0.843\n",
      "\n",
      "==================================================================================\n"
     ]
    },
    {
     "name": "stderr",
     "output_type": "stream",
     "text": [
      "> Epoch 13: 100%|██████████| 60/60 [00:01<00:00, 59.58it/s]\n"
     ]
    },
    {
     "name": "stdout",
     "output_type": "stream",
     "text": [
      " - Training Loss        0.652\n",
      " - Validation Loss      0.7035\n",
      " - Validation Accuracy  0.8438\n",
      "\n",
      " - Validation Accuracy (per class)\n",
      "   * Class 0\t 0.8614 [292 out of 339]\n",
      "   * Class 1\t 0.738 [231 out of 313]\n",
      "   * Class 2\t 0.9318 [287 out of 308]\n",
      "   * Mean        0.8437\n",
      "\n",
      "==================================================================================\n"
     ]
    },
    {
     "name": "stderr",
     "output_type": "stream",
     "text": [
      "> Epoch 14: 100%|██████████| 60/60 [00:01<00:00, 59.42it/s]\n"
     ]
    },
    {
     "name": "stdout",
     "output_type": "stream",
     "text": [
      " - Training Loss        0.6611\n",
      " - Validation Loss      0.6949\n",
      " - Validation Accuracy  0.8531\n",
      "\n",
      " - Validation Accuracy (per class)\n",
      "   * Class 0\t 0.8466 [287 out of 339]\n",
      "   * Class 1\t 0.7796 [244 out of 313]\n",
      "   * Class 2\t 0.9351 [288 out of 308]\n",
      "   * Mean        0.8538\n",
      "\n",
      "==================================================================================\n"
     ]
    },
    {
     "name": "stderr",
     "output_type": "stream",
     "text": [
      "> Epoch 15: 100%|██████████| 60/60 [00:00<00:00, 60.06it/s]\n"
     ]
    },
    {
     "name": "stdout",
     "output_type": "stream",
     "text": [
      " - Training Loss        0.6593\n",
      " - Validation Loss      0.7462\n",
      " - Validation Accuracy  0.8042\n",
      "\n",
      " - Validation Accuracy (per class)\n",
      "   * Class 0\t 0.8761 [297 out of 339]\n",
      "   * Class 1\t 0.5911 [185 out of 313]\n",
      "   * Class 2\t 0.9416 [290 out of 308]\n",
      "   * Mean        0.8029\n",
      "\n",
      "==================================================================================\n"
     ]
    },
    {
     "name": "stderr",
     "output_type": "stream",
     "text": [
      "> Epoch 16: 100%|██████████| 60/60 [00:01<00:00, 52.43it/s]\n"
     ]
    },
    {
     "name": "stdout",
     "output_type": "stream",
     "text": [
      " - Training Loss        0.6585\n",
      " - Validation Loss      0.7013\n",
      " - Validation Accuracy  0.8563\n",
      "\n",
      " - Validation Accuracy (per class)\n",
      "   * Class 0\t 0.8437 [286 out of 339]\n",
      "   * Class 1\t 0.7827 [245 out of 313]\n",
      "   * Class 2\t 0.9448 [291 out of 308]\n",
      "   * Mean        0.8571\n",
      "\n",
      "==================================================================================\n"
     ]
    },
    {
     "name": "stderr",
     "output_type": "stream",
     "text": [
      "> Epoch 17: 100%|██████████| 60/60 [00:01<00:00, 56.60it/s]\n"
     ]
    },
    {
     "name": "stdout",
     "output_type": "stream",
     "text": [
      " - Training Loss        0.6528\n",
      " - Validation Loss      0.6886\n",
      " - Validation Accuracy  0.8604\n",
      "\n",
      " - Validation Accuracy (per class)\n",
      "   * Class 0\t 0.8083 [274 out of 339]\n",
      "   * Class 1\t 0.8914 [279 out of 313]\n",
      "   * Class 2\t 0.8864 [273 out of 308]\n",
      "   * Mean        0.862\n",
      "\n",
      "==================================================================================\n"
     ]
    },
    {
     "name": "stderr",
     "output_type": "stream",
     "text": [
      "> Epoch 18: 100%|██████████| 60/60 [00:01<00:00, 59.84it/s]\n"
     ]
    },
    {
     "name": "stdout",
     "output_type": "stream",
     "text": [
      " - Training Loss        0.6435\n",
      " - Validation Loss      0.696\n",
      " - Validation Accuracy  0.8583\n",
      "\n",
      " - Validation Accuracy (per class)\n",
      "   * Class 0\t 0.7935 [269 out of 339]\n",
      "   * Class 1\t 0.8914 [279 out of 313]\n",
      "   * Class 2\t 0.8961 [276 out of 308]\n",
      "   * Mean        0.8603\n",
      "\n",
      "==================================================================================\n"
     ]
    },
    {
     "name": "stderr",
     "output_type": "stream",
     "text": [
      "> Epoch 19: 100%|██████████| 60/60 [00:01<00:00, 58.21it/s]\n"
     ]
    },
    {
     "name": "stdout",
     "output_type": "stream",
     "text": [
      " - Training Loss        0.6437\n",
      " - Validation Loss      0.7201\n",
      " - Validation Accuracy  0.8385\n",
      "\n",
      " - Validation Accuracy (per class)\n",
      "   * Class 0\t 0.7463 [253 out of 339]\n",
      "   * Class 1\t 0.8435 [264 out of 313]\n",
      "   * Class 2\t 0.9351 [288 out of 308]\n",
      "   * Mean        0.8416\n",
      "\n",
      "==================================================================================\n"
     ]
    },
    {
     "name": "stderr",
     "output_type": "stream",
     "text": [
      "> Epoch 20: 100%|██████████| 60/60 [00:01<00:00, 58.59it/s]\n"
     ]
    },
    {
     "name": "stdout",
     "output_type": "stream",
     "text": [
      " - Training Loss        0.6667\n",
      " - Validation Loss      0.6929\n",
      " - Validation Accuracy  0.851\n",
      "\n",
      " - Validation Accuracy (per class)\n",
      "   * Class 0\t 0.8024 [272 out of 339]\n",
      "   * Class 1\t 0.9137 [286 out of 313]\n",
      "   * Class 2\t 0.8409 [259 out of 308]\n",
      "   * Mean        0.8523\n",
      "\n",
      "==================================================================================\n"
     ]
    },
    {
     "name": "stderr",
     "output_type": "stream",
     "text": [
      "> Epoch 21: 100%|██████████| 60/60 [00:01<00:00, 59.17it/s]\n"
     ]
    },
    {
     "name": "stdout",
     "output_type": "stream",
     "text": [
      " - Training Loss        0.6677\n",
      " - Validation Loss      0.7119\n",
      " - Validation Accuracy  0.8\n",
      "\n",
      " - Validation Accuracy (per class)\n",
      "   * Class 0\t 0.9764 [331 out of 339]\n",
      "   * Class 1\t 0.6965 [218 out of 313]\n",
      "   * Class 2\t 0.711 [219 out of 308]\n",
      "   * Mean        0.7946\n",
      "\n",
      "==================================================================================\n"
     ]
    },
    {
     "name": "stderr",
     "output_type": "stream",
     "text": [
      "> Epoch 22: 100%|██████████| 60/60 [00:01<00:00, 58.88it/s]\n"
     ]
    },
    {
     "name": "stdout",
     "output_type": "stream",
     "text": [
      " - Training Loss        0.6571\n",
      " - Validation Loss      0.6907\n",
      " - Validation Accuracy  0.8542\n",
      "\n",
      " - Validation Accuracy (per class)\n",
      "   * Class 0\t 0.7906 [268 out of 339]\n",
      "   * Class 1\t 0.8882 [278 out of 313]\n",
      "   * Class 2\t 0.8896 [274 out of 308]\n",
      "   * Mean        0.8561\n",
      "\n",
      "==================================================================================\n"
     ]
    },
    {
     "name": "stderr",
     "output_type": "stream",
     "text": [
      "> Epoch 23: 100%|██████████| 60/60 [00:01<00:00, 58.48it/s]\n"
     ]
    },
    {
     "name": "stdout",
     "output_type": "stream",
     "text": [
      " - Training Loss        0.6579\n",
      " - Validation Loss      0.7207\n",
      " - Validation Accuracy  0.8448\n",
      "\n",
      " - Validation Accuracy (per class)\n",
      "   * Class 0\t 0.8112 [275 out of 339]\n",
      "   * Class 1\t 0.7796 [244 out of 313]\n",
      "   * Class 2\t 0.9481 [292 out of 308]\n",
      "   * Mean        0.8463\n",
      "\n",
      "==================================================================================\n"
     ]
    },
    {
     "name": "stderr",
     "output_type": "stream",
     "text": [
      "> Epoch 24: 100%|██████████| 60/60 [00:01<00:00, 58.71it/s]\n"
     ]
    },
    {
     "name": "stdout",
     "output_type": "stream",
     "text": [
      " - Training Loss        0.6776\n",
      " - Validation Loss      0.6955\n",
      " - Validation Accuracy  0.8615\n",
      "\n",
      " - Validation Accuracy (per class)\n",
      "   * Class 0\t 0.8289 [281 out of 339]\n",
      "   * Class 1\t 0.8403 [263 out of 313]\n",
      "   * Class 2\t 0.9188 [283 out of 308]\n",
      "   * Mean        0.8627\n",
      "\n",
      "==================================================================================\n"
     ]
    },
    {
     "name": "stderr",
     "output_type": "stream",
     "text": [
      "> Epoch 25: 100%|██████████| 60/60 [00:01<00:00, 58.32it/s]\n"
     ]
    },
    {
     "name": "stdout",
     "output_type": "stream",
     "text": [
      " - Training Loss        0.6548\n",
      " - Validation Loss      0.6826\n",
      " - Validation Accuracy  0.8677\n",
      "\n",
      " - Validation Accuracy (per class)\n",
      "   * Class 0\t 0.8584 [291 out of 339]\n",
      "   * Class 1\t 0.9233 [289 out of 313]\n",
      "   * Class 2\t 0.8214 [253 out of 308]\n",
      "   * Mean        0.8677\n",
      "\n",
      "==================================================================================\n"
     ]
    },
    {
     "name": "stderr",
     "output_type": "stream",
     "text": [
      "> Epoch 26: 100%|██████████| 60/60 [00:01<00:00, 58.54it/s]\n"
     ]
    },
    {
     "name": "stdout",
     "output_type": "stream",
     "text": [
      " - Training Loss        0.6608\n",
      " - Validation Loss      0.7305\n",
      " - Validation Accuracy  0.8271\n",
      "\n",
      " - Validation Accuracy (per class)\n",
      "   * Class 0\t 0.8732 [296 out of 339]\n",
      "   * Class 1\t 0.6901 [216 out of 313]\n",
      "   * Class 2\t 0.9156 [282 out of 308]\n",
      "   * Mean        0.8263\n",
      "\n",
      "==================================================================================\n"
     ]
    },
    {
     "name": "stderr",
     "output_type": "stream",
     "text": [
      "> Epoch 27: 100%|██████████| 60/60 [00:01<00:00, 59.15it/s]\n"
     ]
    },
    {
     "name": "stdout",
     "output_type": "stream",
     "text": [
      " - Training Loss        0.6574\n",
      " - Validation Loss      0.6846\n",
      " - Validation Accuracy  0.8635\n",
      "\n",
      " - Validation Accuracy (per class)\n",
      "   * Class 0\t 0.8348 [283 out of 339]\n",
      "   * Class 1\t 0.9073 [284 out of 313]\n",
      "   * Class 2\t 0.8506 [262 out of 308]\n",
      "   * Mean        0.8642\n",
      "\n",
      "==================================================================================\n"
     ]
    },
    {
     "name": "stderr",
     "output_type": "stream",
     "text": [
      "> Epoch 28: 100%|██████████| 60/60 [00:01<00:00, 59.05it/s]\n"
     ]
    },
    {
     "name": "stdout",
     "output_type": "stream",
     "text": [
      " - Training Loss        0.6516\n",
      " - Validation Loss      0.7151\n",
      " - Validation Accuracy  0.8448\n",
      "\n",
      " - Validation Accuracy (per class)\n",
      "   * Class 0\t 0.9233 [313 out of 339]\n",
      "   * Class 1\t 0.7188 [225 out of 313]\n",
      "   * Class 2\t 0.8864 [273 out of 308]\n",
      "   * Mean        0.8428\n",
      "\n",
      "==================================================================================\n"
     ]
    },
    {
     "name": "stderr",
     "output_type": "stream",
     "text": [
      "> Epoch 29: 100%|██████████| 60/60 [00:01<00:00, 59.00it/s]\n"
     ]
    },
    {
     "name": "stdout",
     "output_type": "stream",
     "text": [
      " - Training Loss        0.6628\n",
      " - Validation Loss      0.6851\n",
      " - Validation Accuracy  0.8594\n",
      "\n",
      " - Validation Accuracy (per class)\n",
      "   * Class 0\t 0.8614 [292 out of 339]\n",
      "   * Class 1\t 0.9393 [294 out of 313]\n",
      "   * Class 2\t 0.776 [239 out of 308]\n",
      "   * Mean        0.8589\n",
      "\n",
      "==================================================================================\n"
     ]
    },
    {
     "name": "stderr",
     "output_type": "stream",
     "text": [
      "> Epoch 30: 100%|██████████| 60/60 [00:01<00:00, 59.05it/s]\n"
     ]
    },
    {
     "name": "stdout",
     "output_type": "stream",
     "text": [
      " - Training Loss        0.6592\n",
      " - Validation Loss      0.6944\n",
      " - Validation Accuracy  0.8625\n",
      "\n",
      " - Validation Accuracy (per class)\n",
      "   * Class 0\t 0.8761 [297 out of 339]\n",
      "   * Class 1\t 0.8115 [254 out of 313]\n",
      "   * Class 2\t 0.8994 [277 out of 308]\n",
      "   * Mean        0.8623\n",
      "\n",
      "==================================================================================\n"
     ]
    },
    {
     "name": "stderr",
     "output_type": "stream",
     "text": [
      "> Epoch 31: 100%|██████████| 60/60 [00:01<00:00, 52.86it/s]\n"
     ]
    },
    {
     "name": "stdout",
     "output_type": "stream",
     "text": [
      " - Training Loss        0.6541\n",
      " - Validation Loss      0.687\n",
      " - Validation Accuracy  0.8635\n",
      "\n",
      " - Validation Accuracy (per class)\n",
      "   * Class 0\t 0.9174 [311 out of 339]\n",
      "   * Class 1\t 0.8754 [274 out of 313]\n",
      "   * Class 2\t 0.7922 [244 out of 308]\n",
      "   * Mean        0.8617\n",
      "\n",
      "==================================================================================\n"
     ]
    },
    {
     "name": "stderr",
     "output_type": "stream",
     "text": [
      "> Epoch 32: 100%|██████████| 60/60 [00:01<00:00, 49.92it/s]\n"
     ]
    },
    {
     "name": "stdout",
     "output_type": "stream",
     "text": [
      " - Training Loss        0.6576\n",
      " - Validation Loss      0.7075\n",
      " - Validation Accuracy  0.849\n",
      "\n",
      " - Validation Accuracy (per class)\n",
      "   * Class 0\t 0.8437 [286 out of 339]\n",
      "   * Class 1\t 0.8115 [254 out of 313]\n",
      "   * Class 2\t 0.8929 [275 out of 308]\n",
      "   * Mean        0.8494\n",
      "\n",
      "==================================================================================\n"
     ]
    },
    {
     "name": "stderr",
     "output_type": "stream",
     "text": [
      "> Epoch 33: 100%|██████████| 60/60 [00:01<00:00, 49.54it/s]\n"
     ]
    },
    {
     "name": "stdout",
     "output_type": "stream",
     "text": [
      " - Training Loss        0.6521\n",
      " - Validation Loss      0.6906\n",
      " - Validation Accuracy  0.8635\n",
      "\n",
      " - Validation Accuracy (per class)\n",
      "   * Class 0\t 0.8555 [290 out of 339]\n",
      "   * Class 1\t 0.8498 [266 out of 313]\n",
      "   * Class 2\t 0.8864 [273 out of 308]\n",
      "   * Mean        0.8639\n",
      "\n",
      "==================================================================================\n"
     ]
    },
    {
     "name": "stderr",
     "output_type": "stream",
     "text": [
      "> Epoch 34: 100%|██████████| 60/60 [00:01<00:00, 49.26it/s]\n"
     ]
    },
    {
     "name": "stdout",
     "output_type": "stream",
     "text": [
      " - Training Loss        0.6559\n",
      " - Validation Loss      0.6942\n",
      " - Validation Accuracy  0.8677\n",
      "\n",
      " - Validation Accuracy (per class)\n",
      "   * Class 0\t 0.8584 [291 out of 339]\n",
      "   * Class 1\t 0.9169 [287 out of 313]\n",
      "   * Class 2\t 0.8279 [255 out of 308]\n",
      "   * Mean        0.8677\n",
      "\n",
      "==================================================================================\n"
     ]
    },
    {
     "name": "stderr",
     "output_type": "stream",
     "text": [
      "> Epoch 35: 100%|██████████| 60/60 [00:01<00:00, 49.06it/s]\n"
     ]
    },
    {
     "name": "stdout",
     "output_type": "stream",
     "text": [
      " - Training Loss        0.6573\n",
      " - Validation Loss      0.681\n",
      " - Validation Accuracy  0.8729\n",
      "\n",
      " - Validation Accuracy (per class)\n",
      "   * Class 0\t 0.885 [300 out of 339]\n",
      "   * Class 1\t 0.8403 [263 out of 313]\n",
      "   * Class 2\t 0.8929 [275 out of 308]\n",
      "   * Mean        0.8727\n",
      "\n",
      "> ATTENTION: epoch 35 was the best one so far! The model has been saved :)\n",
      "\n",
      "==================================================================================\n"
     ]
    },
    {
     "name": "stderr",
     "output_type": "stream",
     "text": [
      "> Epoch 36: 100%|██████████| 60/60 [00:01<00:00, 49.54it/s]\n"
     ]
    },
    {
     "name": "stdout",
     "output_type": "stream",
     "text": [
      " - Training Loss        0.662\n",
      " - Validation Loss      0.7005\n",
      " - Validation Accuracy  0.8563\n",
      "\n",
      " - Validation Accuracy (per class)\n",
      "   * Class 0\t 0.8201 [278 out of 339]\n",
      "   * Class 1\t 0.8658 [271 out of 313]\n",
      "   * Class 2\t 0.8864 [273 out of 308]\n",
      "   * Mean        0.8574\n",
      "\n",
      "==================================================================================\n"
     ]
    },
    {
     "name": "stderr",
     "output_type": "stream",
     "text": [
      "> Epoch 37: 100%|██████████| 60/60 [00:01<00:00, 49.83it/s]\n"
     ]
    },
    {
     "name": "stdout",
     "output_type": "stream",
     "text": [
      " - Training Loss        0.6574\n",
      " - Validation Loss      0.6732\n",
      " - Validation Accuracy  0.8625\n",
      "\n",
      " - Validation Accuracy (per class)\n",
      "   * Class 0\t 0.9351 [317 out of 339]\n",
      "   * Class 1\t 0.8658 [271 out of 313]\n",
      "   * Class 2\t 0.7792 [240 out of 308]\n",
      "   * Mean        0.86\n",
      "\n",
      "==================================================================================\n"
     ]
    },
    {
     "name": "stderr",
     "output_type": "stream",
     "text": [
      "> Epoch 38: 100%|██████████| 60/60 [00:01<00:00, 49.34it/s]\n"
     ]
    },
    {
     "name": "stdout",
     "output_type": "stream",
     "text": [
      " - Training Loss        0.6537\n",
      " - Validation Loss      0.68\n",
      " - Validation Accuracy  0.8667\n",
      "\n",
      " - Validation Accuracy (per class)\n",
      "   * Class 0\t 0.9086 [308 out of 339]\n",
      "   * Class 1\t 0.8594 [269 out of 313]\n",
      "   * Class 2\t 0.8279 [255 out of 308]\n",
      "   * Mean        0.8653\n",
      "\n",
      "==================================================================================\n"
     ]
    },
    {
     "name": "stderr",
     "output_type": "stream",
     "text": [
      "> Epoch 39: 100%|██████████| 60/60 [00:01<00:00, 49.22it/s]\n"
     ]
    },
    {
     "name": "stdout",
     "output_type": "stream",
     "text": [
      " - Training Loss        0.6569\n",
      " - Validation Loss      0.7076\n",
      " - Validation Accuracy  0.849\n",
      "\n",
      " - Validation Accuracy (per class)\n",
      "   * Class 0\t 0.8378 [284 out of 339]\n",
      "   * Class 1\t 0.9042 [283 out of 313]\n",
      "   * Class 2\t 0.8052 [248 out of 308]\n",
      "   * Mean        0.8491\n",
      "\n",
      "==================================================================================\n"
     ]
    },
    {
     "name": "stderr",
     "output_type": "stream",
     "text": [
      "> Epoch 40: 100%|██████████| 60/60 [00:01<00:00, 49.54it/s]\n"
     ]
    },
    {
     "name": "stdout",
     "output_type": "stream",
     "text": [
      " - Training Loss        0.6674\n",
      " - Validation Loss      0.7061\n",
      " - Validation Accuracy  0.8542\n",
      "\n",
      " - Validation Accuracy (per class)\n",
      "   * Class 0\t 0.882 [299 out of 339]\n",
      "   * Class 1\t 0.8275 [259 out of 313]\n",
      "   * Class 2\t 0.8506 [262 out of 308]\n",
      "   * Mean        0.8534\n",
      "\n",
      "==================================================================================\n"
     ]
    },
    {
     "name": "stderr",
     "output_type": "stream",
     "text": [
      "> Epoch 41: 100%|██████████| 60/60 [00:01<00:00, 49.73it/s]\n"
     ]
    },
    {
     "name": "stdout",
     "output_type": "stream",
     "text": [
      " - Training Loss        0.6653\n",
      " - Validation Loss      0.697\n",
      " - Validation Accuracy  0.8521\n",
      "\n",
      " - Validation Accuracy (per class)\n",
      "   * Class 0\t 0.8407 [285 out of 339]\n",
      "   * Class 1\t 0.9297 [291 out of 313]\n",
      "   * Class 2\t 0.7857 [242 out of 308]\n",
      "   * Mean        0.852\n",
      "\n",
      "==================================================================================\n"
     ]
    },
    {
     "name": "stderr",
     "output_type": "stream",
     "text": [
      "> Epoch 42: 100%|██████████| 60/60 [00:01<00:00, 50.34it/s]\n"
     ]
    },
    {
     "name": "stdout",
     "output_type": "stream",
     "text": [
      " - Training Loss        0.6826\n",
      " - Validation Loss      0.7282\n",
      " - Validation Accuracy  0.8417\n",
      "\n",
      " - Validation Accuracy (per class)\n",
      "   * Class 0\t 0.7434 [252 out of 339]\n",
      "   * Class 1\t 0.9105 [285 out of 313]\n",
      "   * Class 2\t 0.8799 [271 out of 308]\n",
      "   * Mean        0.8446\n",
      "\n",
      "==================================================================================\n"
     ]
    },
    {
     "name": "stderr",
     "output_type": "stream",
     "text": [
      "> Epoch 43: 100%|██████████| 60/60 [00:01<00:00, 49.96it/s]\n"
     ]
    },
    {
     "name": "stdout",
     "output_type": "stream",
     "text": [
      " - Training Loss        0.6713\n",
      " - Validation Loss      0.6889\n",
      " - Validation Accuracy  0.8573\n",
      "\n",
      " - Validation Accuracy (per class)\n",
      "   * Class 0\t 0.8614 [292 out of 339]\n",
      "   * Class 1\t 0.8722 [273 out of 313]\n",
      "   * Class 2\t 0.8377 [258 out of 308]\n",
      "   * Mean        0.8571\n",
      "\n",
      "==================================================================================\n"
     ]
    },
    {
     "name": "stderr",
     "output_type": "stream",
     "text": [
      "> Epoch 44: 100%|██████████| 60/60 [00:01<00:00, 49.71it/s]\n"
     ]
    },
    {
     "name": "stdout",
     "output_type": "stream",
     "text": [
      " - Training Loss        0.6567\n",
      " - Validation Loss      0.6874\n",
      " - Validation Accuracy  0.8615\n",
      "\n",
      " - Validation Accuracy (per class)\n",
      "   * Class 0\t 0.8968 [304 out of 339]\n",
      "   * Class 1\t 0.8466 [265 out of 313]\n",
      "   * Class 2\t 0.8377 [258 out of 308]\n",
      "   * Mean        0.8604\n",
      "\n",
      "==================================================================================\n"
     ]
    },
    {
     "name": "stderr",
     "output_type": "stream",
     "text": [
      "> Epoch 45: 100%|██████████| 60/60 [00:01<00:00, 48.98it/s]\n"
     ]
    },
    {
     "name": "stdout",
     "output_type": "stream",
     "text": [
      " - Training Loss        0.6577\n",
      " - Validation Loss      0.6745\n",
      " - Validation Accuracy  0.8719\n",
      "\n",
      " - Validation Accuracy (per class)\n",
      "   * Class 0\t 0.8968 [304 out of 339]\n",
      "   * Class 1\t 0.8914 [279 out of 313]\n",
      "   * Class 2\t 0.8247 [254 out of 308]\n",
      "   * Mean        0.871\n",
      "\n",
      "==================================================================================\n"
     ]
    },
    {
     "name": "stderr",
     "output_type": "stream",
     "text": [
      "> Epoch 46: 100%|██████████| 60/60 [00:01<00:00, 58.32it/s]\n"
     ]
    },
    {
     "name": "stdout",
     "output_type": "stream",
     "text": [
      " - Training Loss        0.6558\n",
      " - Validation Loss      0.7005\n",
      " - Validation Accuracy  0.8417\n",
      "\n",
      " - Validation Accuracy (per class)\n",
      "   * Class 0\t 0.9292 [315 out of 339]\n",
      "   * Class 1\t 0.722 [226 out of 313]\n",
      "   * Class 2\t 0.8669 [267 out of 308]\n",
      "   * Mean        0.8394\n",
      "\n",
      "==================================================================================\n"
     ]
    },
    {
     "name": "stderr",
     "output_type": "stream",
     "text": [
      "> Epoch 47: 100%|██████████| 60/60 [00:01<00:00, 59.43it/s]\n"
     ]
    },
    {
     "name": "stdout",
     "output_type": "stream",
     "text": [
      " - Training Loss        0.6597\n",
      " - Validation Loss      0.7078\n",
      " - Validation Accuracy  0.851\n",
      "\n",
      " - Validation Accuracy (per class)\n",
      "   * Class 0\t 0.7729 [262 out of 339]\n",
      "   * Class 1\t 0.9297 [291 out of 313]\n",
      "   * Class 2\t 0.8571 [264 out of 308]\n",
      "   * Mean        0.8532\n",
      "\n",
      "==================================================================================\n"
     ]
    },
    {
     "name": "stderr",
     "output_type": "stream",
     "text": [
      "> Epoch 48: 100%|██████████| 60/60 [00:01<00:00, 59.46it/s]\n"
     ]
    },
    {
     "name": "stdout",
     "output_type": "stream",
     "text": [
      " - Training Loss        0.6639\n",
      " - Validation Loss      0.6866\n",
      " - Validation Accuracy  0.8688\n",
      "\n",
      " - Validation Accuracy (per class)\n",
      "   * Class 0\t 0.9027 [306 out of 339]\n",
      "   * Class 1\t 0.8275 [259 out of 313]\n",
      "   * Class 2\t 0.8734 [269 out of 308]\n",
      "   * Mean        0.8679\n",
      "\n",
      "==================================================================================\n"
     ]
    },
    {
     "name": "stderr",
     "output_type": "stream",
     "text": [
      "> Epoch 49: 100%|██████████| 60/60 [00:01<00:00, 59.46it/s]\n"
     ]
    },
    {
     "name": "stdout",
     "output_type": "stream",
     "text": [
      " - Training Loss        0.6733\n",
      " - Validation Loss      0.7213\n",
      " - Validation Accuracy  0.8083\n",
      "\n",
      " - Validation Accuracy (per class)\n",
      "   * Class 0\t 0.9381 [318 out of 339]\n",
      "   * Class 1\t 0.6326 [198 out of 313]\n",
      "   * Class 2\t 0.8442 [260 out of 308]\n",
      "   * Mean        0.805\n",
      "\n",
      "==================================================================================\n"
     ]
    },
    {
     "name": "stderr",
     "output_type": "stream",
     "text": [
      "> Epoch 50: 100%|██████████| 60/60 [00:01<00:00, 59.76it/s]\n"
     ]
    },
    {
     "name": "stdout",
     "output_type": "stream",
     "text": [
      " - Training Loss        0.6655\n",
      " - Validation Loss      0.7133\n",
      " - Validation Accuracy  0.8417\n",
      "\n",
      " - Validation Accuracy (per class)\n",
      "   * Class 0\t 0.7817 [265 out of 339]\n",
      "   * Class 1\t 0.9553 [299 out of 313]\n",
      "   * Class 2\t 0.7922 [244 out of 308]\n",
      "   * Mean        0.8431\n",
      "\n",
      "==================================================================================\n"
     ]
    }
   ],
   "source": [
    "global_res_df, classes_res_df = CNN_MODEL.train_model()"
   ]
  },
  {
   "cell_type": "code",
   "execution_count": 7,
   "metadata": {},
   "outputs": [
    {
     "data": {
      "text/html": [
       "<div>\n",
       "<style scoped>\n",
       "    .dataframe tbody tr th:only-of-type {\n",
       "        vertical-align: middle;\n",
       "    }\n",
       "\n",
       "    .dataframe tbody tr th {\n",
       "        vertical-align: top;\n",
       "    }\n",
       "\n",
       "    .dataframe thead th {\n",
       "        text-align: right;\n",
       "    }\n",
       "</style>\n",
       "<table border=\"1\" class=\"dataframe\">\n",
       "  <thead>\n",
       "    <tr style=\"text-align: right;\">\n",
       "      <th></th>\n",
       "      <th>epoch</th>\n",
       "      <th>training_loss</th>\n",
       "      <th>validation_loss</th>\n",
       "      <th>validation_accuracy (global)</th>\n",
       "      <th>validation_accuracy (mean)</th>\n",
       "    </tr>\n",
       "  </thead>\n",
       "  <tbody>\n",
       "    <tr>\n",
       "      <th>0</th>\n",
       "      <td>1</td>\n",
       "      <td>0.9773</td>\n",
       "      <td>0.8618</td>\n",
       "      <td>0.6990</td>\n",
       "      <td>0.7046</td>\n",
       "    </tr>\n",
       "    <tr>\n",
       "      <th>1</th>\n",
       "      <td>2</td>\n",
       "      <td>0.8297</td>\n",
       "      <td>0.7960</td>\n",
       "      <td>0.7438</td>\n",
       "      <td>0.7500</td>\n",
       "    </tr>\n",
       "    <tr>\n",
       "      <th>2</th>\n",
       "      <td>3</td>\n",
       "      <td>0.7731</td>\n",
       "      <td>0.7513</td>\n",
       "      <td>0.7917</td>\n",
       "      <td>0.7956</td>\n",
       "    </tr>\n",
       "    <tr>\n",
       "      <th>3</th>\n",
       "      <td>4</td>\n",
       "      <td>0.7183</td>\n",
       "      <td>0.7319</td>\n",
       "      <td>0.8323</td>\n",
       "      <td>0.8332</td>\n",
       "    </tr>\n",
       "    <tr>\n",
       "      <th>4</th>\n",
       "      <td>5</td>\n",
       "      <td>0.6977</td>\n",
       "      <td>0.6992</td>\n",
       "      <td>0.8417</td>\n",
       "      <td>0.8428</td>\n",
       "    </tr>\n",
       "    <tr>\n",
       "      <th>5</th>\n",
       "      <td>6</td>\n",
       "      <td>0.6874</td>\n",
       "      <td>0.7277</td>\n",
       "      <td>0.8302</td>\n",
       "      <td>0.8270</td>\n",
       "    </tr>\n",
       "    <tr>\n",
       "      <th>6</th>\n",
       "      <td>7</td>\n",
       "      <td>0.6847</td>\n",
       "      <td>0.7339</td>\n",
       "      <td>0.8146</td>\n",
       "      <td>0.8149</td>\n",
       "    </tr>\n",
       "    <tr>\n",
       "      <th>7</th>\n",
       "      <td>8</td>\n",
       "      <td>0.6665</td>\n",
       "      <td>0.6862</td>\n",
       "      <td>0.8573</td>\n",
       "      <td>0.8566</td>\n",
       "    </tr>\n",
       "    <tr>\n",
       "      <th>8</th>\n",
       "      <td>9</td>\n",
       "      <td>0.6637</td>\n",
       "      <td>0.7013</td>\n",
       "      <td>0.8656</td>\n",
       "      <td>0.8661</td>\n",
       "    </tr>\n",
       "    <tr>\n",
       "      <th>9</th>\n",
       "      <td>10</td>\n",
       "      <td>0.6614</td>\n",
       "      <td>0.6767</td>\n",
       "      <td>0.8698</td>\n",
       "      <td>0.8687</td>\n",
       "    </tr>\n",
       "    <tr>\n",
       "      <th>10</th>\n",
       "      <td>11</td>\n",
       "      <td>0.6669</td>\n",
       "      <td>0.7302</td>\n",
       "      <td>0.8115</td>\n",
       "      <td>0.8130</td>\n",
       "    </tr>\n",
       "    <tr>\n",
       "      <th>11</th>\n",
       "      <td>12</td>\n",
       "      <td>0.6662</td>\n",
       "      <td>0.7125</td>\n",
       "      <td>0.8427</td>\n",
       "      <td>0.8430</td>\n",
       "    </tr>\n",
       "    <tr>\n",
       "      <th>12</th>\n",
       "      <td>13</td>\n",
       "      <td>0.6520</td>\n",
       "      <td>0.7035</td>\n",
       "      <td>0.8438</td>\n",
       "      <td>0.8437</td>\n",
       "    </tr>\n",
       "    <tr>\n",
       "      <th>13</th>\n",
       "      <td>14</td>\n",
       "      <td>0.6611</td>\n",
       "      <td>0.6949</td>\n",
       "      <td>0.8531</td>\n",
       "      <td>0.8538</td>\n",
       "    </tr>\n",
       "    <tr>\n",
       "      <th>14</th>\n",
       "      <td>15</td>\n",
       "      <td>0.6593</td>\n",
       "      <td>0.7462</td>\n",
       "      <td>0.8042</td>\n",
       "      <td>0.8029</td>\n",
       "    </tr>\n",
       "    <tr>\n",
       "      <th>15</th>\n",
       "      <td>16</td>\n",
       "      <td>0.6585</td>\n",
       "      <td>0.7013</td>\n",
       "      <td>0.8563</td>\n",
       "      <td>0.8571</td>\n",
       "    </tr>\n",
       "    <tr>\n",
       "      <th>16</th>\n",
       "      <td>17</td>\n",
       "      <td>0.6528</td>\n",
       "      <td>0.6886</td>\n",
       "      <td>0.8604</td>\n",
       "      <td>0.8620</td>\n",
       "    </tr>\n",
       "    <tr>\n",
       "      <th>17</th>\n",
       "      <td>18</td>\n",
       "      <td>0.6435</td>\n",
       "      <td>0.6960</td>\n",
       "      <td>0.8583</td>\n",
       "      <td>0.8603</td>\n",
       "    </tr>\n",
       "    <tr>\n",
       "      <th>18</th>\n",
       "      <td>19</td>\n",
       "      <td>0.6437</td>\n",
       "      <td>0.7201</td>\n",
       "      <td>0.8385</td>\n",
       "      <td>0.8416</td>\n",
       "    </tr>\n",
       "    <tr>\n",
       "      <th>19</th>\n",
       "      <td>20</td>\n",
       "      <td>0.6667</td>\n",
       "      <td>0.6929</td>\n",
       "      <td>0.8510</td>\n",
       "      <td>0.8523</td>\n",
       "    </tr>\n",
       "    <tr>\n",
       "      <th>20</th>\n",
       "      <td>21</td>\n",
       "      <td>0.6677</td>\n",
       "      <td>0.7119</td>\n",
       "      <td>0.8000</td>\n",
       "      <td>0.7946</td>\n",
       "    </tr>\n",
       "    <tr>\n",
       "      <th>21</th>\n",
       "      <td>22</td>\n",
       "      <td>0.6571</td>\n",
       "      <td>0.6907</td>\n",
       "      <td>0.8542</td>\n",
       "      <td>0.8561</td>\n",
       "    </tr>\n",
       "    <tr>\n",
       "      <th>22</th>\n",
       "      <td>23</td>\n",
       "      <td>0.6579</td>\n",
       "      <td>0.7207</td>\n",
       "      <td>0.8448</td>\n",
       "      <td>0.8463</td>\n",
       "    </tr>\n",
       "    <tr>\n",
       "      <th>23</th>\n",
       "      <td>24</td>\n",
       "      <td>0.6776</td>\n",
       "      <td>0.6955</td>\n",
       "      <td>0.8615</td>\n",
       "      <td>0.8627</td>\n",
       "    </tr>\n",
       "    <tr>\n",
       "      <th>24</th>\n",
       "      <td>25</td>\n",
       "      <td>0.6548</td>\n",
       "      <td>0.6826</td>\n",
       "      <td>0.8677</td>\n",
       "      <td>0.8677</td>\n",
       "    </tr>\n",
       "    <tr>\n",
       "      <th>25</th>\n",
       "      <td>26</td>\n",
       "      <td>0.6608</td>\n",
       "      <td>0.7305</td>\n",
       "      <td>0.8271</td>\n",
       "      <td>0.8263</td>\n",
       "    </tr>\n",
       "    <tr>\n",
       "      <th>26</th>\n",
       "      <td>27</td>\n",
       "      <td>0.6574</td>\n",
       "      <td>0.6846</td>\n",
       "      <td>0.8635</td>\n",
       "      <td>0.8642</td>\n",
       "    </tr>\n",
       "    <tr>\n",
       "      <th>27</th>\n",
       "      <td>28</td>\n",
       "      <td>0.6516</td>\n",
       "      <td>0.7151</td>\n",
       "      <td>0.8448</td>\n",
       "      <td>0.8428</td>\n",
       "    </tr>\n",
       "    <tr>\n",
       "      <th>28</th>\n",
       "      <td>29</td>\n",
       "      <td>0.6628</td>\n",
       "      <td>0.6851</td>\n",
       "      <td>0.8594</td>\n",
       "      <td>0.8589</td>\n",
       "    </tr>\n",
       "    <tr>\n",
       "      <th>29</th>\n",
       "      <td>30</td>\n",
       "      <td>0.6592</td>\n",
       "      <td>0.6944</td>\n",
       "      <td>0.8625</td>\n",
       "      <td>0.8623</td>\n",
       "    </tr>\n",
       "    <tr>\n",
       "      <th>30</th>\n",
       "      <td>31</td>\n",
       "      <td>0.6541</td>\n",
       "      <td>0.6870</td>\n",
       "      <td>0.8635</td>\n",
       "      <td>0.8617</td>\n",
       "    </tr>\n",
       "    <tr>\n",
       "      <th>31</th>\n",
       "      <td>32</td>\n",
       "      <td>0.6576</td>\n",
       "      <td>0.7075</td>\n",
       "      <td>0.8490</td>\n",
       "      <td>0.8494</td>\n",
       "    </tr>\n",
       "    <tr>\n",
       "      <th>32</th>\n",
       "      <td>33</td>\n",
       "      <td>0.6521</td>\n",
       "      <td>0.6906</td>\n",
       "      <td>0.8635</td>\n",
       "      <td>0.8639</td>\n",
       "    </tr>\n",
       "    <tr>\n",
       "      <th>33</th>\n",
       "      <td>34</td>\n",
       "      <td>0.6559</td>\n",
       "      <td>0.6942</td>\n",
       "      <td>0.8677</td>\n",
       "      <td>0.8677</td>\n",
       "    </tr>\n",
       "    <tr>\n",
       "      <th>34</th>\n",
       "      <td>35</td>\n",
       "      <td>0.6573</td>\n",
       "      <td>0.6810</td>\n",
       "      <td>0.8729</td>\n",
       "      <td>0.8727</td>\n",
       "    </tr>\n",
       "    <tr>\n",
       "      <th>35</th>\n",
       "      <td>36</td>\n",
       "      <td>0.6620</td>\n",
       "      <td>0.7005</td>\n",
       "      <td>0.8563</td>\n",
       "      <td>0.8574</td>\n",
       "    </tr>\n",
       "    <tr>\n",
       "      <th>36</th>\n",
       "      <td>37</td>\n",
       "      <td>0.6574</td>\n",
       "      <td>0.6732</td>\n",
       "      <td>0.8625</td>\n",
       "      <td>0.8600</td>\n",
       "    </tr>\n",
       "    <tr>\n",
       "      <th>37</th>\n",
       "      <td>38</td>\n",
       "      <td>0.6537</td>\n",
       "      <td>0.6800</td>\n",
       "      <td>0.8667</td>\n",
       "      <td>0.8653</td>\n",
       "    </tr>\n",
       "    <tr>\n",
       "      <th>38</th>\n",
       "      <td>39</td>\n",
       "      <td>0.6569</td>\n",
       "      <td>0.7076</td>\n",
       "      <td>0.8490</td>\n",
       "      <td>0.8491</td>\n",
       "    </tr>\n",
       "    <tr>\n",
       "      <th>39</th>\n",
       "      <td>40</td>\n",
       "      <td>0.6674</td>\n",
       "      <td>0.7061</td>\n",
       "      <td>0.8542</td>\n",
       "      <td>0.8534</td>\n",
       "    </tr>\n",
       "    <tr>\n",
       "      <th>40</th>\n",
       "      <td>41</td>\n",
       "      <td>0.6653</td>\n",
       "      <td>0.6970</td>\n",
       "      <td>0.8521</td>\n",
       "      <td>0.8520</td>\n",
       "    </tr>\n",
       "    <tr>\n",
       "      <th>41</th>\n",
       "      <td>42</td>\n",
       "      <td>0.6826</td>\n",
       "      <td>0.7282</td>\n",
       "      <td>0.8417</td>\n",
       "      <td>0.8446</td>\n",
       "    </tr>\n",
       "    <tr>\n",
       "      <th>42</th>\n",
       "      <td>43</td>\n",
       "      <td>0.6713</td>\n",
       "      <td>0.6889</td>\n",
       "      <td>0.8573</td>\n",
       "      <td>0.8571</td>\n",
       "    </tr>\n",
       "    <tr>\n",
       "      <th>43</th>\n",
       "      <td>44</td>\n",
       "      <td>0.6567</td>\n",
       "      <td>0.6874</td>\n",
       "      <td>0.8615</td>\n",
       "      <td>0.8604</td>\n",
       "    </tr>\n",
       "    <tr>\n",
       "      <th>44</th>\n",
       "      <td>45</td>\n",
       "      <td>0.6577</td>\n",
       "      <td>0.6745</td>\n",
       "      <td>0.8719</td>\n",
       "      <td>0.8710</td>\n",
       "    </tr>\n",
       "    <tr>\n",
       "      <th>45</th>\n",
       "      <td>46</td>\n",
       "      <td>0.6558</td>\n",
       "      <td>0.7005</td>\n",
       "      <td>0.8417</td>\n",
       "      <td>0.8394</td>\n",
       "    </tr>\n",
       "    <tr>\n",
       "      <th>46</th>\n",
       "      <td>47</td>\n",
       "      <td>0.6597</td>\n",
       "      <td>0.7078</td>\n",
       "      <td>0.8510</td>\n",
       "      <td>0.8532</td>\n",
       "    </tr>\n",
       "    <tr>\n",
       "      <th>47</th>\n",
       "      <td>48</td>\n",
       "      <td>0.6639</td>\n",
       "      <td>0.6866</td>\n",
       "      <td>0.8688</td>\n",
       "      <td>0.8679</td>\n",
       "    </tr>\n",
       "    <tr>\n",
       "      <th>48</th>\n",
       "      <td>49</td>\n",
       "      <td>0.6733</td>\n",
       "      <td>0.7213</td>\n",
       "      <td>0.8083</td>\n",
       "      <td>0.8050</td>\n",
       "    </tr>\n",
       "    <tr>\n",
       "      <th>49</th>\n",
       "      <td>50</td>\n",
       "      <td>0.6655</td>\n",
       "      <td>0.7133</td>\n",
       "      <td>0.8417</td>\n",
       "      <td>0.8431</td>\n",
       "    </tr>\n",
       "  </tbody>\n",
       "</table>\n",
       "</div>"
      ],
      "text/plain": [
       "    epoch  training_loss  validation_loss  validation_accuracy (global)  \\\n",
       "0       1         0.9773           0.8618                        0.6990   \n",
       "1       2         0.8297           0.7960                        0.7438   \n",
       "2       3         0.7731           0.7513                        0.7917   \n",
       "3       4         0.7183           0.7319                        0.8323   \n",
       "4       5         0.6977           0.6992                        0.8417   \n",
       "5       6         0.6874           0.7277                        0.8302   \n",
       "6       7         0.6847           0.7339                        0.8146   \n",
       "7       8         0.6665           0.6862                        0.8573   \n",
       "8       9         0.6637           0.7013                        0.8656   \n",
       "9      10         0.6614           0.6767                        0.8698   \n",
       "10     11         0.6669           0.7302                        0.8115   \n",
       "11     12         0.6662           0.7125                        0.8427   \n",
       "12     13         0.6520           0.7035                        0.8438   \n",
       "13     14         0.6611           0.6949                        0.8531   \n",
       "14     15         0.6593           0.7462                        0.8042   \n",
       "15     16         0.6585           0.7013                        0.8563   \n",
       "16     17         0.6528           0.6886                        0.8604   \n",
       "17     18         0.6435           0.6960                        0.8583   \n",
       "18     19         0.6437           0.7201                        0.8385   \n",
       "19     20         0.6667           0.6929                        0.8510   \n",
       "20     21         0.6677           0.7119                        0.8000   \n",
       "21     22         0.6571           0.6907                        0.8542   \n",
       "22     23         0.6579           0.7207                        0.8448   \n",
       "23     24         0.6776           0.6955                        0.8615   \n",
       "24     25         0.6548           0.6826                        0.8677   \n",
       "25     26         0.6608           0.7305                        0.8271   \n",
       "26     27         0.6574           0.6846                        0.8635   \n",
       "27     28         0.6516           0.7151                        0.8448   \n",
       "28     29         0.6628           0.6851                        0.8594   \n",
       "29     30         0.6592           0.6944                        0.8625   \n",
       "30     31         0.6541           0.6870                        0.8635   \n",
       "31     32         0.6576           0.7075                        0.8490   \n",
       "32     33         0.6521           0.6906                        0.8635   \n",
       "33     34         0.6559           0.6942                        0.8677   \n",
       "34     35         0.6573           0.6810                        0.8729   \n",
       "35     36         0.6620           0.7005                        0.8563   \n",
       "36     37         0.6574           0.6732                        0.8625   \n",
       "37     38         0.6537           0.6800                        0.8667   \n",
       "38     39         0.6569           0.7076                        0.8490   \n",
       "39     40         0.6674           0.7061                        0.8542   \n",
       "40     41         0.6653           0.6970                        0.8521   \n",
       "41     42         0.6826           0.7282                        0.8417   \n",
       "42     43         0.6713           0.6889                        0.8573   \n",
       "43     44         0.6567           0.6874                        0.8615   \n",
       "44     45         0.6577           0.6745                        0.8719   \n",
       "45     46         0.6558           0.7005                        0.8417   \n",
       "46     47         0.6597           0.7078                        0.8510   \n",
       "47     48         0.6639           0.6866                        0.8688   \n",
       "48     49         0.6733           0.7213                        0.8083   \n",
       "49     50         0.6655           0.7133                        0.8417   \n",
       "\n",
       "    validation_accuracy (mean)  \n",
       "0                       0.7046  \n",
       "1                       0.7500  \n",
       "2                       0.7956  \n",
       "3                       0.8332  \n",
       "4                       0.8428  \n",
       "5                       0.8270  \n",
       "6                       0.8149  \n",
       "7                       0.8566  \n",
       "8                       0.8661  \n",
       "9                       0.8687  \n",
       "10                      0.8130  \n",
       "11                      0.8430  \n",
       "12                      0.8437  \n",
       "13                      0.8538  \n",
       "14                      0.8029  \n",
       "15                      0.8571  \n",
       "16                      0.8620  \n",
       "17                      0.8603  \n",
       "18                      0.8416  \n",
       "19                      0.8523  \n",
       "20                      0.7946  \n",
       "21                      0.8561  \n",
       "22                      0.8463  \n",
       "23                      0.8627  \n",
       "24                      0.8677  \n",
       "25                      0.8263  \n",
       "26                      0.8642  \n",
       "27                      0.8428  \n",
       "28                      0.8589  \n",
       "29                      0.8623  \n",
       "30                      0.8617  \n",
       "31                      0.8494  \n",
       "32                      0.8639  \n",
       "33                      0.8677  \n",
       "34                      0.8727  \n",
       "35                      0.8574  \n",
       "36                      0.8600  \n",
       "37                      0.8653  \n",
       "38                      0.8491  \n",
       "39                      0.8534  \n",
       "40                      0.8520  \n",
       "41                      0.8446  \n",
       "42                      0.8571  \n",
       "43                      0.8604  \n",
       "44                      0.8710  \n",
       "45                      0.8394  \n",
       "46                      0.8532  \n",
       "47                      0.8679  \n",
       "48                      0.8050  \n",
       "49                      0.8431  "
      ]
     },
     "execution_count": 7,
     "metadata": {},
     "output_type": "execute_result"
    }
   ],
   "source": [
    "global_res_df"
   ]
  },
  {
   "cell_type": "code",
   "execution_count": 8,
   "metadata": {},
   "outputs": [
    {
     "data": {
      "text/html": [
       "<div>\n",
       "<style scoped>\n",
       "    .dataframe tbody tr th:only-of-type {\n",
       "        vertical-align: middle;\n",
       "    }\n",
       "\n",
       "    .dataframe tbody tr th {\n",
       "        vertical-align: top;\n",
       "    }\n",
       "\n",
       "    .dataframe thead th {\n",
       "        text-align: right;\n",
       "    }\n",
       "</style>\n",
       "<table border=\"1\" class=\"dataframe\">\n",
       "  <thead>\n",
       "    <tr style=\"text-align: right;\">\n",
       "      <th></th>\n",
       "      <th>correct</th>\n",
       "      <th>total</th>\n",
       "      <th>accuracy</th>\n",
       "      <th>epoch</th>\n",
       "    </tr>\n",
       "  </thead>\n",
       "  <tbody>\n",
       "    <tr>\n",
       "      <th>0</th>\n",
       "      <td>169</td>\n",
       "      <td>339</td>\n",
       "      <td>0.4985</td>\n",
       "      <td>1</td>\n",
       "    </tr>\n",
       "    <tr>\n",
       "      <th>1</th>\n",
       "      <td>282</td>\n",
       "      <td>313</td>\n",
       "      <td>0.9010</td>\n",
       "      <td>1</td>\n",
       "    </tr>\n",
       "    <tr>\n",
       "      <th>2</th>\n",
       "      <td>220</td>\n",
       "      <td>308</td>\n",
       "      <td>0.7143</td>\n",
       "      <td>1</td>\n",
       "    </tr>\n",
       "    <tr>\n",
       "      <th>0</th>\n",
       "      <td>184</td>\n",
       "      <td>339</td>\n",
       "      <td>0.5428</td>\n",
       "      <td>2</td>\n",
       "    </tr>\n",
       "    <tr>\n",
       "      <th>1</th>\n",
       "      <td>264</td>\n",
       "      <td>313</td>\n",
       "      <td>0.8435</td>\n",
       "      <td>2</td>\n",
       "    </tr>\n",
       "    <tr>\n",
       "      <th>...</th>\n",
       "      <td>...</td>\n",
       "      <td>...</td>\n",
       "      <td>...</td>\n",
       "      <td>...</td>\n",
       "    </tr>\n",
       "    <tr>\n",
       "      <th>1</th>\n",
       "      <td>198</td>\n",
       "      <td>313</td>\n",
       "      <td>0.6326</td>\n",
       "      <td>49</td>\n",
       "    </tr>\n",
       "    <tr>\n",
       "      <th>2</th>\n",
       "      <td>260</td>\n",
       "      <td>308</td>\n",
       "      <td>0.8442</td>\n",
       "      <td>49</td>\n",
       "    </tr>\n",
       "    <tr>\n",
       "      <th>0</th>\n",
       "      <td>265</td>\n",
       "      <td>339</td>\n",
       "      <td>0.7817</td>\n",
       "      <td>50</td>\n",
       "    </tr>\n",
       "    <tr>\n",
       "      <th>1</th>\n",
       "      <td>299</td>\n",
       "      <td>313</td>\n",
       "      <td>0.9553</td>\n",
       "      <td>50</td>\n",
       "    </tr>\n",
       "    <tr>\n",
       "      <th>2</th>\n",
       "      <td>244</td>\n",
       "      <td>308</td>\n",
       "      <td>0.7922</td>\n",
       "      <td>50</td>\n",
       "    </tr>\n",
       "  </tbody>\n",
       "</table>\n",
       "<p>150 rows × 4 columns</p>\n",
       "</div>"
      ],
      "text/plain": [
       "    correct  total  accuracy  epoch\n",
       "0       169    339    0.4985      1\n",
       "1       282    313    0.9010      1\n",
       "2       220    308    0.7143      1\n",
       "0       184    339    0.5428      2\n",
       "1       264    313    0.8435      2\n",
       "..      ...    ...       ...    ...\n",
       "1       198    313    0.6326     49\n",
       "2       260    308    0.8442     49\n",
       "0       265    339    0.7817     50\n",
       "1       299    313    0.9553     50\n",
       "2       244    308    0.7922     50\n",
       "\n",
       "[150 rows x 4 columns]"
      ]
     },
     "execution_count": 8,
     "metadata": {},
     "output_type": "execute_result"
    }
   ],
   "source": [
    "classes_res_df"
   ]
  },
  {
   "cell_type": "markdown",
   "metadata": {},
   "source": [
    "**Visualize the training results**\n",
    "\n",
    "We plot the training and validation loss, as well as the mean validation accuracy for each class."
   ]
  },
  {
   "cell_type": "code",
   "execution_count": 9,
   "metadata": {},
   "outputs": [
    {
     "data": {
      "application/vnd.plotly.v1+json": {
       "config": {
        "plotlyServerURL": "https://plot.ly"
       },
       "data": [
        {
         "hovertemplate": "type=train<br>epoch=%{x}<br>loss=%{y}<extra></extra>",
         "legendgroup": "train",
         "line": {
          "color": "#636efa",
          "dash": "solid"
         },
         "marker": {
          "symbol": "circle"
         },
         "mode": "markers+lines",
         "name": "train",
         "orientation": "v",
         "showlegend": true,
         "type": "scatter",
         "x": [
          1,
          2,
          3,
          4,
          5,
          6,
          7,
          8,
          9,
          10,
          11,
          12,
          13,
          14,
          15,
          16,
          17,
          18,
          19,
          20,
          21,
          22,
          23,
          24,
          25,
          26,
          27,
          28,
          29,
          30,
          31,
          32,
          33,
          34,
          35,
          36,
          37,
          38,
          39,
          40,
          41,
          42,
          43,
          44,
          45,
          46,
          47,
          48,
          49,
          50
         ],
         "xaxis": "x",
         "y": [
          0.9773,
          0.8297,
          0.7731,
          0.7183,
          0.6977,
          0.6874,
          0.6847,
          0.6665,
          0.6637,
          0.6614,
          0.6669,
          0.6662,
          0.652,
          0.6611,
          0.6593,
          0.6585,
          0.6528,
          0.6435,
          0.6437,
          0.6667,
          0.6677,
          0.6571,
          0.6579,
          0.6776,
          0.6548,
          0.6608,
          0.6574,
          0.6516,
          0.6628,
          0.6592,
          0.6541,
          0.6576,
          0.6521,
          0.6559,
          0.6573,
          0.662,
          0.6574,
          0.6537,
          0.6569,
          0.6674,
          0.6653,
          0.6826,
          0.6713,
          0.6567,
          0.6577,
          0.6558,
          0.6597,
          0.6639,
          0.6733,
          0.6655
         ],
         "yaxis": "y"
        },
        {
         "hovertemplate": "type=val<br>epoch=%{x}<br>loss=%{y}<extra></extra>",
         "legendgroup": "val",
         "line": {
          "color": "#EF553B",
          "dash": "solid"
         },
         "marker": {
          "symbol": "circle"
         },
         "mode": "markers+lines",
         "name": "val",
         "orientation": "v",
         "showlegend": true,
         "type": "scatter",
         "x": [
          1,
          2,
          3,
          4,
          5,
          6,
          7,
          8,
          9,
          10,
          11,
          12,
          13,
          14,
          15,
          16,
          17,
          18,
          19,
          20,
          21,
          22,
          23,
          24,
          25,
          26,
          27,
          28,
          29,
          30,
          31,
          32,
          33,
          34,
          35,
          36,
          37,
          38,
          39,
          40,
          41,
          42,
          43,
          44,
          45,
          46,
          47,
          48,
          49,
          50
         ],
         "xaxis": "x",
         "y": [
          0.8618,
          0.796,
          0.7513,
          0.7319,
          0.6992,
          0.7277,
          0.7339,
          0.6862,
          0.7013,
          0.6767,
          0.7302,
          0.7125,
          0.7035,
          0.6949,
          0.7462,
          0.7013,
          0.6886,
          0.696,
          0.7201,
          0.6929,
          0.7119,
          0.6907,
          0.7207,
          0.6955,
          0.6826,
          0.7305,
          0.6846,
          0.7151,
          0.6851,
          0.6944,
          0.687,
          0.7075,
          0.6906,
          0.6942,
          0.681,
          0.7005,
          0.6732,
          0.68,
          0.7076,
          0.7061,
          0.697,
          0.7282,
          0.6889,
          0.6874,
          0.6745,
          0.7005,
          0.7078,
          0.6866,
          0.7213,
          0.7133
         ],
         "yaxis": "y"
        }
       ],
       "layout": {
        "height": 600,
        "legend": {
         "title": {
          "text": "type"
         },
         "tracegroupgap": 0
        },
        "template": {
         "data": {
          "bar": [
           {
            "error_x": {
             "color": "#2a3f5f"
            },
            "error_y": {
             "color": "#2a3f5f"
            },
            "marker": {
             "line": {
              "color": "#E5ECF6",
              "width": 0.5
             },
             "pattern": {
              "fillmode": "overlay",
              "size": 10,
              "solidity": 0.2
             }
            },
            "type": "bar"
           }
          ],
          "barpolar": [
           {
            "marker": {
             "line": {
              "color": "#E5ECF6",
              "width": 0.5
             },
             "pattern": {
              "fillmode": "overlay",
              "size": 10,
              "solidity": 0.2
             }
            },
            "type": "barpolar"
           }
          ],
          "carpet": [
           {
            "aaxis": {
             "endlinecolor": "#2a3f5f",
             "gridcolor": "white",
             "linecolor": "white",
             "minorgridcolor": "white",
             "startlinecolor": "#2a3f5f"
            },
            "baxis": {
             "endlinecolor": "#2a3f5f",
             "gridcolor": "white",
             "linecolor": "white",
             "minorgridcolor": "white",
             "startlinecolor": "#2a3f5f"
            },
            "type": "carpet"
           }
          ],
          "choropleth": [
           {
            "colorbar": {
             "outlinewidth": 0,
             "ticks": ""
            },
            "type": "choropleth"
           }
          ],
          "contour": [
           {
            "colorbar": {
             "outlinewidth": 0,
             "ticks": ""
            },
            "colorscale": [
             [
              0,
              "#0d0887"
             ],
             [
              0.1111111111111111,
              "#46039f"
             ],
             [
              0.2222222222222222,
              "#7201a8"
             ],
             [
              0.3333333333333333,
              "#9c179e"
             ],
             [
              0.4444444444444444,
              "#bd3786"
             ],
             [
              0.5555555555555556,
              "#d8576b"
             ],
             [
              0.6666666666666666,
              "#ed7953"
             ],
             [
              0.7777777777777778,
              "#fb9f3a"
             ],
             [
              0.8888888888888888,
              "#fdca26"
             ],
             [
              1,
              "#f0f921"
             ]
            ],
            "type": "contour"
           }
          ],
          "contourcarpet": [
           {
            "colorbar": {
             "outlinewidth": 0,
             "ticks": ""
            },
            "type": "contourcarpet"
           }
          ],
          "heatmap": [
           {
            "colorbar": {
             "outlinewidth": 0,
             "ticks": ""
            },
            "colorscale": [
             [
              0,
              "#0d0887"
             ],
             [
              0.1111111111111111,
              "#46039f"
             ],
             [
              0.2222222222222222,
              "#7201a8"
             ],
             [
              0.3333333333333333,
              "#9c179e"
             ],
             [
              0.4444444444444444,
              "#bd3786"
             ],
             [
              0.5555555555555556,
              "#d8576b"
             ],
             [
              0.6666666666666666,
              "#ed7953"
             ],
             [
              0.7777777777777778,
              "#fb9f3a"
             ],
             [
              0.8888888888888888,
              "#fdca26"
             ],
             [
              1,
              "#f0f921"
             ]
            ],
            "type": "heatmap"
           }
          ],
          "heatmapgl": [
           {
            "colorbar": {
             "outlinewidth": 0,
             "ticks": ""
            },
            "colorscale": [
             [
              0,
              "#0d0887"
             ],
             [
              0.1111111111111111,
              "#46039f"
             ],
             [
              0.2222222222222222,
              "#7201a8"
             ],
             [
              0.3333333333333333,
              "#9c179e"
             ],
             [
              0.4444444444444444,
              "#bd3786"
             ],
             [
              0.5555555555555556,
              "#d8576b"
             ],
             [
              0.6666666666666666,
              "#ed7953"
             ],
             [
              0.7777777777777778,
              "#fb9f3a"
             ],
             [
              0.8888888888888888,
              "#fdca26"
             ],
             [
              1,
              "#f0f921"
             ]
            ],
            "type": "heatmapgl"
           }
          ],
          "histogram": [
           {
            "marker": {
             "pattern": {
              "fillmode": "overlay",
              "size": 10,
              "solidity": 0.2
             }
            },
            "type": "histogram"
           }
          ],
          "histogram2d": [
           {
            "colorbar": {
             "outlinewidth": 0,
             "ticks": ""
            },
            "colorscale": [
             [
              0,
              "#0d0887"
             ],
             [
              0.1111111111111111,
              "#46039f"
             ],
             [
              0.2222222222222222,
              "#7201a8"
             ],
             [
              0.3333333333333333,
              "#9c179e"
             ],
             [
              0.4444444444444444,
              "#bd3786"
             ],
             [
              0.5555555555555556,
              "#d8576b"
             ],
             [
              0.6666666666666666,
              "#ed7953"
             ],
             [
              0.7777777777777778,
              "#fb9f3a"
             ],
             [
              0.8888888888888888,
              "#fdca26"
             ],
             [
              1,
              "#f0f921"
             ]
            ],
            "type": "histogram2d"
           }
          ],
          "histogram2dcontour": [
           {
            "colorbar": {
             "outlinewidth": 0,
             "ticks": ""
            },
            "colorscale": [
             [
              0,
              "#0d0887"
             ],
             [
              0.1111111111111111,
              "#46039f"
             ],
             [
              0.2222222222222222,
              "#7201a8"
             ],
             [
              0.3333333333333333,
              "#9c179e"
             ],
             [
              0.4444444444444444,
              "#bd3786"
             ],
             [
              0.5555555555555556,
              "#d8576b"
             ],
             [
              0.6666666666666666,
              "#ed7953"
             ],
             [
              0.7777777777777778,
              "#fb9f3a"
             ],
             [
              0.8888888888888888,
              "#fdca26"
             ],
             [
              1,
              "#f0f921"
             ]
            ],
            "type": "histogram2dcontour"
           }
          ],
          "mesh3d": [
           {
            "colorbar": {
             "outlinewidth": 0,
             "ticks": ""
            },
            "type": "mesh3d"
           }
          ],
          "parcoords": [
           {
            "line": {
             "colorbar": {
              "outlinewidth": 0,
              "ticks": ""
             }
            },
            "type": "parcoords"
           }
          ],
          "pie": [
           {
            "automargin": true,
            "type": "pie"
           }
          ],
          "scatter": [
           {
            "fillpattern": {
             "fillmode": "overlay",
             "size": 10,
             "solidity": 0.2
            },
            "type": "scatter"
           }
          ],
          "scatter3d": [
           {
            "line": {
             "colorbar": {
              "outlinewidth": 0,
              "ticks": ""
             }
            },
            "marker": {
             "colorbar": {
              "outlinewidth": 0,
              "ticks": ""
             }
            },
            "type": "scatter3d"
           }
          ],
          "scattercarpet": [
           {
            "marker": {
             "colorbar": {
              "outlinewidth": 0,
              "ticks": ""
             }
            },
            "type": "scattercarpet"
           }
          ],
          "scattergeo": [
           {
            "marker": {
             "colorbar": {
              "outlinewidth": 0,
              "ticks": ""
             }
            },
            "type": "scattergeo"
           }
          ],
          "scattergl": [
           {
            "marker": {
             "colorbar": {
              "outlinewidth": 0,
              "ticks": ""
             }
            },
            "type": "scattergl"
           }
          ],
          "scattermapbox": [
           {
            "marker": {
             "colorbar": {
              "outlinewidth": 0,
              "ticks": ""
             }
            },
            "type": "scattermapbox"
           }
          ],
          "scatterpolar": [
           {
            "marker": {
             "colorbar": {
              "outlinewidth": 0,
              "ticks": ""
             }
            },
            "type": "scatterpolar"
           }
          ],
          "scatterpolargl": [
           {
            "marker": {
             "colorbar": {
              "outlinewidth": 0,
              "ticks": ""
             }
            },
            "type": "scatterpolargl"
           }
          ],
          "scatterternary": [
           {
            "marker": {
             "colorbar": {
              "outlinewidth": 0,
              "ticks": ""
             }
            },
            "type": "scatterternary"
           }
          ],
          "surface": [
           {
            "colorbar": {
             "outlinewidth": 0,
             "ticks": ""
            },
            "colorscale": [
             [
              0,
              "#0d0887"
             ],
             [
              0.1111111111111111,
              "#46039f"
             ],
             [
              0.2222222222222222,
              "#7201a8"
             ],
             [
              0.3333333333333333,
              "#9c179e"
             ],
             [
              0.4444444444444444,
              "#bd3786"
             ],
             [
              0.5555555555555556,
              "#d8576b"
             ],
             [
              0.6666666666666666,
              "#ed7953"
             ],
             [
              0.7777777777777778,
              "#fb9f3a"
             ],
             [
              0.8888888888888888,
              "#fdca26"
             ],
             [
              1,
              "#f0f921"
             ]
            ],
            "type": "surface"
           }
          ],
          "table": [
           {
            "cells": {
             "fill": {
              "color": "#EBF0F8"
             },
             "line": {
              "color": "white"
             }
            },
            "header": {
             "fill": {
              "color": "#C8D4E3"
             },
             "line": {
              "color": "white"
             }
            },
            "type": "table"
           }
          ]
         },
         "layout": {
          "annotationdefaults": {
           "arrowcolor": "#2a3f5f",
           "arrowhead": 0,
           "arrowwidth": 1
          },
          "autotypenumbers": "strict",
          "coloraxis": {
           "colorbar": {
            "outlinewidth": 0,
            "ticks": ""
           }
          },
          "colorscale": {
           "diverging": [
            [
             0,
             "#8e0152"
            ],
            [
             0.1,
             "#c51b7d"
            ],
            [
             0.2,
             "#de77ae"
            ],
            [
             0.3,
             "#f1b6da"
            ],
            [
             0.4,
             "#fde0ef"
            ],
            [
             0.5,
             "#f7f7f7"
            ],
            [
             0.6,
             "#e6f5d0"
            ],
            [
             0.7,
             "#b8e186"
            ],
            [
             0.8,
             "#7fbc41"
            ],
            [
             0.9,
             "#4d9221"
            ],
            [
             1,
             "#276419"
            ]
           ],
           "sequential": [
            [
             0,
             "#0d0887"
            ],
            [
             0.1111111111111111,
             "#46039f"
            ],
            [
             0.2222222222222222,
             "#7201a8"
            ],
            [
             0.3333333333333333,
             "#9c179e"
            ],
            [
             0.4444444444444444,
             "#bd3786"
            ],
            [
             0.5555555555555556,
             "#d8576b"
            ],
            [
             0.6666666666666666,
             "#ed7953"
            ],
            [
             0.7777777777777778,
             "#fb9f3a"
            ],
            [
             0.8888888888888888,
             "#fdca26"
            ],
            [
             1,
             "#f0f921"
            ]
           ],
           "sequentialminus": [
            [
             0,
             "#0d0887"
            ],
            [
             0.1111111111111111,
             "#46039f"
            ],
            [
             0.2222222222222222,
             "#7201a8"
            ],
            [
             0.3333333333333333,
             "#9c179e"
            ],
            [
             0.4444444444444444,
             "#bd3786"
            ],
            [
             0.5555555555555556,
             "#d8576b"
            ],
            [
             0.6666666666666666,
             "#ed7953"
            ],
            [
             0.7777777777777778,
             "#fb9f3a"
            ],
            [
             0.8888888888888888,
             "#fdca26"
            ],
            [
             1,
             "#f0f921"
            ]
           ]
          },
          "colorway": [
           "#636efa",
           "#EF553B",
           "#00cc96",
           "#ab63fa",
           "#FFA15A",
           "#19d3f3",
           "#FF6692",
           "#B6E880",
           "#FF97FF",
           "#FECB52"
          ],
          "font": {
           "color": "#2a3f5f"
          },
          "geo": {
           "bgcolor": "white",
           "lakecolor": "white",
           "landcolor": "#E5ECF6",
           "showlakes": true,
           "showland": true,
           "subunitcolor": "white"
          },
          "hoverlabel": {
           "align": "left"
          },
          "hovermode": "closest",
          "mapbox": {
           "style": "light"
          },
          "paper_bgcolor": "white",
          "plot_bgcolor": "#E5ECF6",
          "polar": {
           "angularaxis": {
            "gridcolor": "white",
            "linecolor": "white",
            "ticks": ""
           },
           "bgcolor": "#E5ECF6",
           "radialaxis": {
            "gridcolor": "white",
            "linecolor": "white",
            "ticks": ""
           }
          },
          "scene": {
           "xaxis": {
            "backgroundcolor": "#E5ECF6",
            "gridcolor": "white",
            "gridwidth": 2,
            "linecolor": "white",
            "showbackground": true,
            "ticks": "",
            "zerolinecolor": "white"
           },
           "yaxis": {
            "backgroundcolor": "#E5ECF6",
            "gridcolor": "white",
            "gridwidth": 2,
            "linecolor": "white",
            "showbackground": true,
            "ticks": "",
            "zerolinecolor": "white"
           },
           "zaxis": {
            "backgroundcolor": "#E5ECF6",
            "gridcolor": "white",
            "gridwidth": 2,
            "linecolor": "white",
            "showbackground": true,
            "ticks": "",
            "zerolinecolor": "white"
           }
          },
          "shapedefaults": {
           "line": {
            "color": "#2a3f5f"
           }
          },
          "ternary": {
           "aaxis": {
            "gridcolor": "white",
            "linecolor": "white",
            "ticks": ""
           },
           "baxis": {
            "gridcolor": "white",
            "linecolor": "white",
            "ticks": ""
           },
           "bgcolor": "#E5ECF6",
           "caxis": {
            "gridcolor": "white",
            "linecolor": "white",
            "ticks": ""
           }
          },
          "title": {
           "x": 0.05
          },
          "xaxis": {
           "automargin": true,
           "gridcolor": "white",
           "linecolor": "white",
           "ticks": "",
           "title": {
            "standoff": 15
           },
           "zerolinecolor": "white",
           "zerolinewidth": 2
          },
          "yaxis": {
           "automargin": true,
           "gridcolor": "white",
           "linecolor": "white",
           "ticks": "",
           "title": {
            "standoff": 15
           },
           "zerolinecolor": "white",
           "zerolinewidth": 2
          }
         }
        },
        "title": {
         "text": "Model Loss<br><sup>Models Details: CNN_fixed[en][batch_size=64][epochs=50][vocab_size=3506][emb_dim=1024]<sup>"
        },
        "width": 1000,
        "xaxis": {
         "anchor": "y",
         "domain": [
          0,
          1
         ],
         "range": [
          0.75,
          50.25
         ],
         "title": {
          "text": "epoch"
         }
        },
        "yaxis": {
         "anchor": "x",
         "domain": [
          0,
          1
         ],
         "title": {
          "text": "loss"
         }
        }
       }
      }
     },
     "metadata": {},
     "output_type": "display_data"
    }
   ],
   "source": [
    "plot_model_fit_loss(\n",
    "    train_loss=global_res_df['training_loss'],\n",
    "    val_loss=global_res_df['validation_loss'],\n",
    "    subtitle=\"Models Details: \" + CNN_MODEL.MODEL_DESCRIPTION\n",
    ")"
   ]
  },
  {
   "cell_type": "code",
   "execution_count": 10,
   "metadata": {},
   "outputs": [
    {
     "data": {
      "application/vnd.plotly.v1+json": {
       "config": {
        "plotlyServerURL": "https://plot.ly"
       },
       "data": [
        {
         "hovertemplate": "Class=0<br>epoch=%{x}<br>accuracy=%{y}<extra></extra>",
         "legendgroup": "0",
         "line": {
          "color": "#636efa",
          "dash": "solid"
         },
         "marker": {
          "symbol": "circle"
         },
         "mode": "markers+lines",
         "name": "0",
         "orientation": "v",
         "showlegend": true,
         "type": "scatter",
         "x": [
          1,
          2,
          3,
          4,
          5,
          6,
          7,
          8,
          9,
          10,
          11,
          12,
          13,
          14,
          15,
          16,
          17,
          18,
          19,
          20,
          21,
          22,
          23,
          24,
          25,
          26,
          27,
          28,
          29,
          30,
          31,
          32,
          33,
          34,
          35,
          36,
          37,
          38,
          39,
          40,
          41,
          42,
          43,
          44,
          45,
          46,
          47,
          48,
          49,
          50
         ],
         "xaxis": "x",
         "y": [
          0.4985,
          0.5428,
          0.6578,
          0.7906,
          0.8024,
          0.9174,
          0.8289,
          0.8761,
          0.8525,
          0.9027,
          0.7817,
          0.8525,
          0.8614,
          0.8466,
          0.8761,
          0.8437,
          0.8083,
          0.7935,
          0.7463,
          0.8024,
          0.9764,
          0.7906,
          0.8112,
          0.8289,
          0.8584,
          0.8732,
          0.8348,
          0.9233,
          0.8614,
          0.8761,
          0.9174,
          0.8437,
          0.8555,
          0.8584,
          0.885,
          0.8201,
          0.9351,
          0.9086,
          0.8378,
          0.882,
          0.8407,
          0.7434,
          0.8614,
          0.8968,
          0.8968,
          0.9292,
          0.7729,
          0.9027,
          0.9381,
          0.7817
         ],
         "yaxis": "y"
        },
        {
         "hovertemplate": "Class=1<br>epoch=%{x}<br>accuracy=%{y}<extra></extra>",
         "legendgroup": "1",
         "line": {
          "color": "#EF553B",
          "dash": "solid"
         },
         "marker": {
          "symbol": "circle"
         },
         "mode": "markers+lines",
         "name": "1",
         "orientation": "v",
         "showlegend": true,
         "type": "scatter",
         "x": [
          1,
          2,
          3,
          4,
          5,
          6,
          7,
          8,
          9,
          10,
          11,
          12,
          13,
          14,
          15,
          16,
          17,
          18,
          19,
          20,
          21,
          22,
          23,
          24,
          25,
          26,
          27,
          28,
          29,
          30,
          31,
          32,
          33,
          34,
          35,
          36,
          37,
          38,
          39,
          40,
          41,
          42,
          43,
          44,
          45,
          46,
          47,
          48,
          49,
          50
         ],
         "xaxis": "x",
         "y": [
          0.901,
          0.8435,
          0.8978,
          0.9169,
          0.8786,
          0.8786,
          0.6677,
          0.8722,
          0.8658,
          0.869,
          0.7029,
          0.722,
          0.738,
          0.7796,
          0.5911,
          0.7827,
          0.8914,
          0.8914,
          0.8435,
          0.9137,
          0.6965,
          0.8882,
          0.7796,
          0.8403,
          0.9233,
          0.6901,
          0.9073,
          0.7188,
          0.9393,
          0.8115,
          0.8754,
          0.8115,
          0.8498,
          0.9169,
          0.8403,
          0.8658,
          0.8658,
          0.8594,
          0.9042,
          0.8275,
          0.9297,
          0.9105,
          0.8722,
          0.8466,
          0.8914,
          0.722,
          0.9297,
          0.8275,
          0.6326,
          0.9553
         ],
         "yaxis": "y"
        },
        {
         "hovertemplate": "Class=2<br>epoch=%{x}<br>accuracy=%{y}<extra></extra>",
         "legendgroup": "2",
         "line": {
          "color": "#00cc96",
          "dash": "solid"
         },
         "marker": {
          "symbol": "circle"
         },
         "mode": "markers+lines",
         "name": "2",
         "orientation": "v",
         "showlegend": true,
         "type": "scatter",
         "x": [
          1,
          2,
          3,
          4,
          5,
          6,
          7,
          8,
          9,
          10,
          11,
          12,
          13,
          14,
          15,
          16,
          17,
          18,
          19,
          20,
          21,
          22,
          23,
          24,
          25,
          26,
          27,
          28,
          29,
          30,
          31,
          32,
          33,
          34,
          35,
          36,
          37,
          38,
          39,
          40,
          41,
          42,
          43,
          44,
          45,
          46,
          47,
          48,
          49,
          50
         ],
         "xaxis": "x",
         "y": [
          0.7143,
          0.8636,
          0.8312,
          0.7922,
          0.8474,
          0.6851,
          0.9481,
          0.8214,
          0.8799,
          0.8344,
          0.9545,
          0.9545,
          0.9318,
          0.9351,
          0.9416,
          0.9448,
          0.8864,
          0.8961,
          0.9351,
          0.8409,
          0.711,
          0.8896,
          0.9481,
          0.9188,
          0.8214,
          0.9156,
          0.8506,
          0.8864,
          0.776,
          0.8994,
          0.7922,
          0.8929,
          0.8864,
          0.8279,
          0.8929,
          0.8864,
          0.7792,
          0.8279,
          0.8052,
          0.8506,
          0.7857,
          0.8799,
          0.8377,
          0.8377,
          0.8247,
          0.8669,
          0.8571,
          0.8734,
          0.8442,
          0.7922
         ],
         "yaxis": "y"
        }
       ],
       "layout": {
        "height": 600,
        "legend": {
         "title": {
          "text": "Class"
         },
         "tracegroupgap": 0
        },
        "template": {
         "data": {
          "bar": [
           {
            "error_x": {
             "color": "#2a3f5f"
            },
            "error_y": {
             "color": "#2a3f5f"
            },
            "marker": {
             "line": {
              "color": "#E5ECF6",
              "width": 0.5
             },
             "pattern": {
              "fillmode": "overlay",
              "size": 10,
              "solidity": 0.2
             }
            },
            "type": "bar"
           }
          ],
          "barpolar": [
           {
            "marker": {
             "line": {
              "color": "#E5ECF6",
              "width": 0.5
             },
             "pattern": {
              "fillmode": "overlay",
              "size": 10,
              "solidity": 0.2
             }
            },
            "type": "barpolar"
           }
          ],
          "carpet": [
           {
            "aaxis": {
             "endlinecolor": "#2a3f5f",
             "gridcolor": "white",
             "linecolor": "white",
             "minorgridcolor": "white",
             "startlinecolor": "#2a3f5f"
            },
            "baxis": {
             "endlinecolor": "#2a3f5f",
             "gridcolor": "white",
             "linecolor": "white",
             "minorgridcolor": "white",
             "startlinecolor": "#2a3f5f"
            },
            "type": "carpet"
           }
          ],
          "choropleth": [
           {
            "colorbar": {
             "outlinewidth": 0,
             "ticks": ""
            },
            "type": "choropleth"
           }
          ],
          "contour": [
           {
            "colorbar": {
             "outlinewidth": 0,
             "ticks": ""
            },
            "colorscale": [
             [
              0,
              "#0d0887"
             ],
             [
              0.1111111111111111,
              "#46039f"
             ],
             [
              0.2222222222222222,
              "#7201a8"
             ],
             [
              0.3333333333333333,
              "#9c179e"
             ],
             [
              0.4444444444444444,
              "#bd3786"
             ],
             [
              0.5555555555555556,
              "#d8576b"
             ],
             [
              0.6666666666666666,
              "#ed7953"
             ],
             [
              0.7777777777777778,
              "#fb9f3a"
             ],
             [
              0.8888888888888888,
              "#fdca26"
             ],
             [
              1,
              "#f0f921"
             ]
            ],
            "type": "contour"
           }
          ],
          "contourcarpet": [
           {
            "colorbar": {
             "outlinewidth": 0,
             "ticks": ""
            },
            "type": "contourcarpet"
           }
          ],
          "heatmap": [
           {
            "colorbar": {
             "outlinewidth": 0,
             "ticks": ""
            },
            "colorscale": [
             [
              0,
              "#0d0887"
             ],
             [
              0.1111111111111111,
              "#46039f"
             ],
             [
              0.2222222222222222,
              "#7201a8"
             ],
             [
              0.3333333333333333,
              "#9c179e"
             ],
             [
              0.4444444444444444,
              "#bd3786"
             ],
             [
              0.5555555555555556,
              "#d8576b"
             ],
             [
              0.6666666666666666,
              "#ed7953"
             ],
             [
              0.7777777777777778,
              "#fb9f3a"
             ],
             [
              0.8888888888888888,
              "#fdca26"
             ],
             [
              1,
              "#f0f921"
             ]
            ],
            "type": "heatmap"
           }
          ],
          "heatmapgl": [
           {
            "colorbar": {
             "outlinewidth": 0,
             "ticks": ""
            },
            "colorscale": [
             [
              0,
              "#0d0887"
             ],
             [
              0.1111111111111111,
              "#46039f"
             ],
             [
              0.2222222222222222,
              "#7201a8"
             ],
             [
              0.3333333333333333,
              "#9c179e"
             ],
             [
              0.4444444444444444,
              "#bd3786"
             ],
             [
              0.5555555555555556,
              "#d8576b"
             ],
             [
              0.6666666666666666,
              "#ed7953"
             ],
             [
              0.7777777777777778,
              "#fb9f3a"
             ],
             [
              0.8888888888888888,
              "#fdca26"
             ],
             [
              1,
              "#f0f921"
             ]
            ],
            "type": "heatmapgl"
           }
          ],
          "histogram": [
           {
            "marker": {
             "pattern": {
              "fillmode": "overlay",
              "size": 10,
              "solidity": 0.2
             }
            },
            "type": "histogram"
           }
          ],
          "histogram2d": [
           {
            "colorbar": {
             "outlinewidth": 0,
             "ticks": ""
            },
            "colorscale": [
             [
              0,
              "#0d0887"
             ],
             [
              0.1111111111111111,
              "#46039f"
             ],
             [
              0.2222222222222222,
              "#7201a8"
             ],
             [
              0.3333333333333333,
              "#9c179e"
             ],
             [
              0.4444444444444444,
              "#bd3786"
             ],
             [
              0.5555555555555556,
              "#d8576b"
             ],
             [
              0.6666666666666666,
              "#ed7953"
             ],
             [
              0.7777777777777778,
              "#fb9f3a"
             ],
             [
              0.8888888888888888,
              "#fdca26"
             ],
             [
              1,
              "#f0f921"
             ]
            ],
            "type": "histogram2d"
           }
          ],
          "histogram2dcontour": [
           {
            "colorbar": {
             "outlinewidth": 0,
             "ticks": ""
            },
            "colorscale": [
             [
              0,
              "#0d0887"
             ],
             [
              0.1111111111111111,
              "#46039f"
             ],
             [
              0.2222222222222222,
              "#7201a8"
             ],
             [
              0.3333333333333333,
              "#9c179e"
             ],
             [
              0.4444444444444444,
              "#bd3786"
             ],
             [
              0.5555555555555556,
              "#d8576b"
             ],
             [
              0.6666666666666666,
              "#ed7953"
             ],
             [
              0.7777777777777778,
              "#fb9f3a"
             ],
             [
              0.8888888888888888,
              "#fdca26"
             ],
             [
              1,
              "#f0f921"
             ]
            ],
            "type": "histogram2dcontour"
           }
          ],
          "mesh3d": [
           {
            "colorbar": {
             "outlinewidth": 0,
             "ticks": ""
            },
            "type": "mesh3d"
           }
          ],
          "parcoords": [
           {
            "line": {
             "colorbar": {
              "outlinewidth": 0,
              "ticks": ""
             }
            },
            "type": "parcoords"
           }
          ],
          "pie": [
           {
            "automargin": true,
            "type": "pie"
           }
          ],
          "scatter": [
           {
            "fillpattern": {
             "fillmode": "overlay",
             "size": 10,
             "solidity": 0.2
            },
            "type": "scatter"
           }
          ],
          "scatter3d": [
           {
            "line": {
             "colorbar": {
              "outlinewidth": 0,
              "ticks": ""
             }
            },
            "marker": {
             "colorbar": {
              "outlinewidth": 0,
              "ticks": ""
             }
            },
            "type": "scatter3d"
           }
          ],
          "scattercarpet": [
           {
            "marker": {
             "colorbar": {
              "outlinewidth": 0,
              "ticks": ""
             }
            },
            "type": "scattercarpet"
           }
          ],
          "scattergeo": [
           {
            "marker": {
             "colorbar": {
              "outlinewidth": 0,
              "ticks": ""
             }
            },
            "type": "scattergeo"
           }
          ],
          "scattergl": [
           {
            "marker": {
             "colorbar": {
              "outlinewidth": 0,
              "ticks": ""
             }
            },
            "type": "scattergl"
           }
          ],
          "scattermapbox": [
           {
            "marker": {
             "colorbar": {
              "outlinewidth": 0,
              "ticks": ""
             }
            },
            "type": "scattermapbox"
           }
          ],
          "scatterpolar": [
           {
            "marker": {
             "colorbar": {
              "outlinewidth": 0,
              "ticks": ""
             }
            },
            "type": "scatterpolar"
           }
          ],
          "scatterpolargl": [
           {
            "marker": {
             "colorbar": {
              "outlinewidth": 0,
              "ticks": ""
             }
            },
            "type": "scatterpolargl"
           }
          ],
          "scatterternary": [
           {
            "marker": {
             "colorbar": {
              "outlinewidth": 0,
              "ticks": ""
             }
            },
            "type": "scatterternary"
           }
          ],
          "surface": [
           {
            "colorbar": {
             "outlinewidth": 0,
             "ticks": ""
            },
            "colorscale": [
             [
              0,
              "#0d0887"
             ],
             [
              0.1111111111111111,
              "#46039f"
             ],
             [
              0.2222222222222222,
              "#7201a8"
             ],
             [
              0.3333333333333333,
              "#9c179e"
             ],
             [
              0.4444444444444444,
              "#bd3786"
             ],
             [
              0.5555555555555556,
              "#d8576b"
             ],
             [
              0.6666666666666666,
              "#ed7953"
             ],
             [
              0.7777777777777778,
              "#fb9f3a"
             ],
             [
              0.8888888888888888,
              "#fdca26"
             ],
             [
              1,
              "#f0f921"
             ]
            ],
            "type": "surface"
           }
          ],
          "table": [
           {
            "cells": {
             "fill": {
              "color": "#EBF0F8"
             },
             "line": {
              "color": "white"
             }
            },
            "header": {
             "fill": {
              "color": "#C8D4E3"
             },
             "line": {
              "color": "white"
             }
            },
            "type": "table"
           }
          ]
         },
         "layout": {
          "annotationdefaults": {
           "arrowcolor": "#2a3f5f",
           "arrowhead": 0,
           "arrowwidth": 1
          },
          "autotypenumbers": "strict",
          "coloraxis": {
           "colorbar": {
            "outlinewidth": 0,
            "ticks": ""
           }
          },
          "colorscale": {
           "diverging": [
            [
             0,
             "#8e0152"
            ],
            [
             0.1,
             "#c51b7d"
            ],
            [
             0.2,
             "#de77ae"
            ],
            [
             0.3,
             "#f1b6da"
            ],
            [
             0.4,
             "#fde0ef"
            ],
            [
             0.5,
             "#f7f7f7"
            ],
            [
             0.6,
             "#e6f5d0"
            ],
            [
             0.7,
             "#b8e186"
            ],
            [
             0.8,
             "#7fbc41"
            ],
            [
             0.9,
             "#4d9221"
            ],
            [
             1,
             "#276419"
            ]
           ],
           "sequential": [
            [
             0,
             "#0d0887"
            ],
            [
             0.1111111111111111,
             "#46039f"
            ],
            [
             0.2222222222222222,
             "#7201a8"
            ],
            [
             0.3333333333333333,
             "#9c179e"
            ],
            [
             0.4444444444444444,
             "#bd3786"
            ],
            [
             0.5555555555555556,
             "#d8576b"
            ],
            [
             0.6666666666666666,
             "#ed7953"
            ],
            [
             0.7777777777777778,
             "#fb9f3a"
            ],
            [
             0.8888888888888888,
             "#fdca26"
            ],
            [
             1,
             "#f0f921"
            ]
           ],
           "sequentialminus": [
            [
             0,
             "#0d0887"
            ],
            [
             0.1111111111111111,
             "#46039f"
            ],
            [
             0.2222222222222222,
             "#7201a8"
            ],
            [
             0.3333333333333333,
             "#9c179e"
            ],
            [
             0.4444444444444444,
             "#bd3786"
            ],
            [
             0.5555555555555556,
             "#d8576b"
            ],
            [
             0.6666666666666666,
             "#ed7953"
            ],
            [
             0.7777777777777778,
             "#fb9f3a"
            ],
            [
             0.8888888888888888,
             "#fdca26"
            ],
            [
             1,
             "#f0f921"
            ]
           ]
          },
          "colorway": [
           "#636efa",
           "#EF553B",
           "#00cc96",
           "#ab63fa",
           "#FFA15A",
           "#19d3f3",
           "#FF6692",
           "#B6E880",
           "#FF97FF",
           "#FECB52"
          ],
          "font": {
           "color": "#2a3f5f"
          },
          "geo": {
           "bgcolor": "white",
           "lakecolor": "white",
           "landcolor": "#E5ECF6",
           "showlakes": true,
           "showland": true,
           "subunitcolor": "white"
          },
          "hoverlabel": {
           "align": "left"
          },
          "hovermode": "closest",
          "mapbox": {
           "style": "light"
          },
          "paper_bgcolor": "white",
          "plot_bgcolor": "#E5ECF6",
          "polar": {
           "angularaxis": {
            "gridcolor": "white",
            "linecolor": "white",
            "ticks": ""
           },
           "bgcolor": "#E5ECF6",
           "radialaxis": {
            "gridcolor": "white",
            "linecolor": "white",
            "ticks": ""
           }
          },
          "scene": {
           "xaxis": {
            "backgroundcolor": "#E5ECF6",
            "gridcolor": "white",
            "gridwidth": 2,
            "linecolor": "white",
            "showbackground": true,
            "ticks": "",
            "zerolinecolor": "white"
           },
           "yaxis": {
            "backgroundcolor": "#E5ECF6",
            "gridcolor": "white",
            "gridwidth": 2,
            "linecolor": "white",
            "showbackground": true,
            "ticks": "",
            "zerolinecolor": "white"
           },
           "zaxis": {
            "backgroundcolor": "#E5ECF6",
            "gridcolor": "white",
            "gridwidth": 2,
            "linecolor": "white",
            "showbackground": true,
            "ticks": "",
            "zerolinecolor": "white"
           }
          },
          "shapedefaults": {
           "line": {
            "color": "#2a3f5f"
           }
          },
          "ternary": {
           "aaxis": {
            "gridcolor": "white",
            "linecolor": "white",
            "ticks": ""
           },
           "baxis": {
            "gridcolor": "white",
            "linecolor": "white",
            "ticks": ""
           },
           "bgcolor": "#E5ECF6",
           "caxis": {
            "gridcolor": "white",
            "linecolor": "white",
            "ticks": ""
           }
          },
          "title": {
           "x": 0.05
          },
          "xaxis": {
           "automargin": true,
           "gridcolor": "white",
           "linecolor": "white",
           "ticks": "",
           "title": {
            "standoff": 15
           },
           "zerolinecolor": "white",
           "zerolinewidth": 2
          },
          "yaxis": {
           "automargin": true,
           "gridcolor": "white",
           "linecolor": "white",
           "ticks": "",
           "title": {
            "standoff": 15
           },
           "zerolinecolor": "white",
           "zerolinewidth": 2
          }
         }
        },
        "title": {
         "text": "Classes Accuracy<br><sup>Models Details: CNN_fixed[en][batch_size=64][epochs=50][vocab_size=3506][emb_dim=1024]<sup>"
        },
        "width": 1000,
        "xaxis": {
         "anchor": "y",
         "domain": [
          0,
          1
         ],
         "range": [
          0.75,
          50.25
         ],
         "title": {
          "text": "epoch"
         }
        },
        "yaxis": {
         "anchor": "x",
         "domain": [
          0,
          1
         ],
         "title": {
          "text": "accuracy"
         }
        }
       }
      }
     },
     "metadata": {},
     "output_type": "display_data"
    }
   ],
   "source": [
    "plot_classes_accuracy(\n",
    "    classes_res_df, \n",
    "    subtitle=\"Models Details: \" + CNN_MODEL.MODEL_DESCRIPTION\n",
    "    )"
   ]
  }
 ],
 "metadata": {
  "interpreter": {
   "hash": "455534d435f7de67bc0026f9ceba702b21954bd7ad83505586b95ef58f556ae5"
  },
  "kernelspec": {
   "display_name": "Python 3.9.12 ('NLP_2022')",
   "language": "python",
   "name": "python3"
  },
  "language_info": {
   "codemirror_mode": {
    "name": "ipython",
    "version": 3
   },
   "file_extension": ".py",
   "mimetype": "text/x-python",
   "name": "python",
   "nbconvert_exporter": "python",
   "pygments_lexer": "ipython3",
   "version": "3.9.12"
  },
  "orig_nbformat": 4
 },
 "nbformat": 4,
 "nbformat_minor": 2
}
